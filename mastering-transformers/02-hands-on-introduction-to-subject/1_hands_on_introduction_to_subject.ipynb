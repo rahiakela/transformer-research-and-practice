{
  "nbformat": 4,
  "nbformat_minor": 0,
  "metadata": {
    "colab": {
      "name": "02-hands-on-introduction-to-subject.ipynb",
      "provenance": [],
      "authorship_tag": "ABX9TyOJX3EA8rtVpwH+648mwhEf",
      "include_colab_link": true
    },
    "kernelspec": {
      "name": "python3",
      "display_name": "Python 3"
    },
    "language_info": {
      "name": "python"
    },
    "widgets": {
      "application/vnd.jupyter.widget-state+json": {
        "7cab0e33aadf4ddb9876abf0f82f7312": {
          "model_module": "@jupyter-widgets/controls",
          "model_name": "HBoxModel",
          "model_module_version": "1.5.0",
          "state": {
            "_view_name": "HBoxView",
            "_dom_classes": [],
            "_model_name": "HBoxModel",
            "_view_module": "@jupyter-widgets/controls",
            "_model_module_version": "1.5.0",
            "_view_count": null,
            "_view_module_version": "1.5.0",
            "box_style": "",
            "layout": "IPY_MODEL_52e32a5d9c8c401a9118a1d3614bc3e2",
            "_model_module": "@jupyter-widgets/controls",
            "children": [
              "IPY_MODEL_74cde7c76d7c4c90859a462c5bd9fc2d",
              "IPY_MODEL_887bbf79f1704dcba91bcde81740679b",
              "IPY_MODEL_77696eaba9c34c568ce5cc567b0279c5"
            ]
          }
        },
        "52e32a5d9c8c401a9118a1d3614bc3e2": {
          "model_module": "@jupyter-widgets/base",
          "model_name": "LayoutModel",
          "model_module_version": "1.2.0",
          "state": {
            "_view_name": "LayoutView",
            "grid_template_rows": null,
            "right": null,
            "justify_content": null,
            "_view_module": "@jupyter-widgets/base",
            "overflow": null,
            "_model_module_version": "1.2.0",
            "_view_count": null,
            "flex_flow": null,
            "width": null,
            "min_width": null,
            "border": null,
            "align_items": null,
            "bottom": null,
            "_model_module": "@jupyter-widgets/base",
            "top": null,
            "grid_column": null,
            "overflow_y": null,
            "overflow_x": null,
            "grid_auto_flow": null,
            "grid_area": null,
            "grid_template_columns": null,
            "flex": null,
            "_model_name": "LayoutModel",
            "justify_items": null,
            "grid_row": null,
            "max_height": null,
            "align_content": null,
            "visibility": null,
            "align_self": null,
            "height": null,
            "min_height": null,
            "padding": null,
            "grid_auto_rows": null,
            "grid_gap": null,
            "max_width": null,
            "order": null,
            "_view_module_version": "1.2.0",
            "grid_template_areas": null,
            "object_position": null,
            "object_fit": null,
            "grid_auto_columns": null,
            "margin": null,
            "display": null,
            "left": null
          }
        },
        "74cde7c76d7c4c90859a462c5bd9fc2d": {
          "model_module": "@jupyter-widgets/controls",
          "model_name": "HTMLModel",
          "model_module_version": "1.5.0",
          "state": {
            "_view_name": "HTMLView",
            "style": "IPY_MODEL_91f29dbe25e44bb09ca0487323c7f29c",
            "_dom_classes": [],
            "description": "",
            "_model_name": "HTMLModel",
            "placeholder": "​",
            "_view_module": "@jupyter-widgets/controls",
            "_model_module_version": "1.5.0",
            "value": "100%",
            "_view_count": null,
            "_view_module_version": "1.5.0",
            "description_tooltip": null,
            "_model_module": "@jupyter-widgets/controls",
            "layout": "IPY_MODEL_d28411b770584e5eaf6a8e535b9d0ba4"
          }
        },
        "887bbf79f1704dcba91bcde81740679b": {
          "model_module": "@jupyter-widgets/controls",
          "model_name": "FloatProgressModel",
          "model_module_version": "1.5.0",
          "state": {
            "_view_name": "ProgressView",
            "style": "IPY_MODEL_9040635bd2df43588deaf2e18a3bfb95",
            "_dom_classes": [],
            "description": "",
            "_model_name": "FloatProgressModel",
            "bar_style": "success",
            "max": 9,
            "_view_module": "@jupyter-widgets/controls",
            "_model_module_version": "1.5.0",
            "value": 9,
            "_view_count": null,
            "_view_module_version": "1.5.0",
            "orientation": "horizontal",
            "min": 0,
            "description_tooltip": null,
            "_model_module": "@jupyter-widgets/controls",
            "layout": "IPY_MODEL_09545fac2263442dba698c13f95a5bad"
          }
        },
        "77696eaba9c34c568ce5cc567b0279c5": {
          "model_module": "@jupyter-widgets/controls",
          "model_name": "HTMLModel",
          "model_module_version": "1.5.0",
          "state": {
            "_view_name": "HTMLView",
            "style": "IPY_MODEL_c4c904e9042046eaa0682c379374f401",
            "_dom_classes": [],
            "description": "",
            "_model_name": "HTMLModel",
            "placeholder": "​",
            "_view_module": "@jupyter-widgets/controls",
            "_model_module_version": "1.5.0",
            "value": " 9/9 [00:00&lt;00:00, 47.69ba/s]",
            "_view_count": null,
            "_view_module_version": "1.5.0",
            "description_tooltip": null,
            "_model_module": "@jupyter-widgets/controls",
            "layout": "IPY_MODEL_1bc8a00b6f6344a29404903007cba1e7"
          }
        },
        "91f29dbe25e44bb09ca0487323c7f29c": {
          "model_module": "@jupyter-widgets/controls",
          "model_name": "DescriptionStyleModel",
          "model_module_version": "1.5.0",
          "state": {
            "_view_name": "StyleView",
            "_model_name": "DescriptionStyleModel",
            "description_width": "",
            "_view_module": "@jupyter-widgets/base",
            "_model_module_version": "1.5.0",
            "_view_count": null,
            "_view_module_version": "1.2.0",
            "_model_module": "@jupyter-widgets/controls"
          }
        },
        "d28411b770584e5eaf6a8e535b9d0ba4": {
          "model_module": "@jupyter-widgets/base",
          "model_name": "LayoutModel",
          "model_module_version": "1.2.0",
          "state": {
            "_view_name": "LayoutView",
            "grid_template_rows": null,
            "right": null,
            "justify_content": null,
            "_view_module": "@jupyter-widgets/base",
            "overflow": null,
            "_model_module_version": "1.2.0",
            "_view_count": null,
            "flex_flow": null,
            "width": null,
            "min_width": null,
            "border": null,
            "align_items": null,
            "bottom": null,
            "_model_module": "@jupyter-widgets/base",
            "top": null,
            "grid_column": null,
            "overflow_y": null,
            "overflow_x": null,
            "grid_auto_flow": null,
            "grid_area": null,
            "grid_template_columns": null,
            "flex": null,
            "_model_name": "LayoutModel",
            "justify_items": null,
            "grid_row": null,
            "max_height": null,
            "align_content": null,
            "visibility": null,
            "align_self": null,
            "height": null,
            "min_height": null,
            "padding": null,
            "grid_auto_rows": null,
            "grid_gap": null,
            "max_width": null,
            "order": null,
            "_view_module_version": "1.2.0",
            "grid_template_areas": null,
            "object_position": null,
            "object_fit": null,
            "grid_auto_columns": null,
            "margin": null,
            "display": null,
            "left": null
          }
        },
        "9040635bd2df43588deaf2e18a3bfb95": {
          "model_module": "@jupyter-widgets/controls",
          "model_name": "ProgressStyleModel",
          "model_module_version": "1.5.0",
          "state": {
            "_view_name": "StyleView",
            "_model_name": "ProgressStyleModel",
            "description_width": "",
            "_view_module": "@jupyter-widgets/base",
            "_model_module_version": "1.5.0",
            "_view_count": null,
            "_view_module_version": "1.2.0",
            "bar_color": null,
            "_model_module": "@jupyter-widgets/controls"
          }
        },
        "09545fac2263442dba698c13f95a5bad": {
          "model_module": "@jupyter-widgets/base",
          "model_name": "LayoutModel",
          "model_module_version": "1.2.0",
          "state": {
            "_view_name": "LayoutView",
            "grid_template_rows": null,
            "right": null,
            "justify_content": null,
            "_view_module": "@jupyter-widgets/base",
            "overflow": null,
            "_model_module_version": "1.2.0",
            "_view_count": null,
            "flex_flow": null,
            "width": null,
            "min_width": null,
            "border": null,
            "align_items": null,
            "bottom": null,
            "_model_module": "@jupyter-widgets/base",
            "top": null,
            "grid_column": null,
            "overflow_y": null,
            "overflow_x": null,
            "grid_auto_flow": null,
            "grid_area": null,
            "grid_template_columns": null,
            "flex": null,
            "_model_name": "LayoutModel",
            "justify_items": null,
            "grid_row": null,
            "max_height": null,
            "align_content": null,
            "visibility": null,
            "align_self": null,
            "height": null,
            "min_height": null,
            "padding": null,
            "grid_auto_rows": null,
            "grid_gap": null,
            "max_width": null,
            "order": null,
            "_view_module_version": "1.2.0",
            "grid_template_areas": null,
            "object_position": null,
            "object_fit": null,
            "grid_auto_columns": null,
            "margin": null,
            "display": null,
            "left": null
          }
        },
        "c4c904e9042046eaa0682c379374f401": {
          "model_module": "@jupyter-widgets/controls",
          "model_name": "DescriptionStyleModel",
          "model_module_version": "1.5.0",
          "state": {
            "_view_name": "StyleView",
            "_model_name": "DescriptionStyleModel",
            "description_width": "",
            "_view_module": "@jupyter-widgets/base",
            "_model_module_version": "1.5.0",
            "_view_count": null,
            "_view_module_version": "1.2.0",
            "_model_module": "@jupyter-widgets/controls"
          }
        },
        "1bc8a00b6f6344a29404903007cba1e7": {
          "model_module": "@jupyter-widgets/base",
          "model_name": "LayoutModel",
          "model_module_version": "1.2.0",
          "state": {
            "_view_name": "LayoutView",
            "grid_template_rows": null,
            "right": null,
            "justify_content": null,
            "_view_module": "@jupyter-widgets/base",
            "overflow": null,
            "_model_module_version": "1.2.0",
            "_view_count": null,
            "flex_flow": null,
            "width": null,
            "min_width": null,
            "border": null,
            "align_items": null,
            "bottom": null,
            "_model_module": "@jupyter-widgets/base",
            "top": null,
            "grid_column": null,
            "overflow_y": null,
            "overflow_x": null,
            "grid_auto_flow": null,
            "grid_area": null,
            "grid_template_columns": null,
            "flex": null,
            "_model_name": "LayoutModel",
            "justify_items": null,
            "grid_row": null,
            "max_height": null,
            "align_content": null,
            "visibility": null,
            "align_self": null,
            "height": null,
            "min_height": null,
            "padding": null,
            "grid_auto_rows": null,
            "grid_gap": null,
            "max_width": null,
            "order": null,
            "_view_module_version": "1.2.0",
            "grid_template_areas": null,
            "object_position": null,
            "object_fit": null,
            "grid_auto_columns": null,
            "margin": null,
            "display": null,
            "left": null
          }
        },
        "b7ebddcb39de47668d3f2258162bfa49": {
          "model_module": "@jupyter-widgets/controls",
          "model_name": "HBoxModel",
          "model_module_version": "1.5.0",
          "state": {
            "_view_name": "HBoxView",
            "_dom_classes": [],
            "_model_name": "HBoxModel",
            "_view_module": "@jupyter-widgets/controls",
            "_model_module_version": "1.5.0",
            "_view_count": null,
            "_view_module_version": "1.5.0",
            "box_style": "",
            "layout": "IPY_MODEL_da374bbb9d9a454093ed0dceff4c371b",
            "_model_module": "@jupyter-widgets/controls",
            "children": [
              "IPY_MODEL_81f0690f015e44ecb9bddc2d8d47ebf8",
              "IPY_MODEL_029c3f039733443b8fe6c34432e0b01a",
              "IPY_MODEL_dd593296d40e4d8b94ab35fdd61fdbb8"
            ]
          }
        },
        "da374bbb9d9a454093ed0dceff4c371b": {
          "model_module": "@jupyter-widgets/base",
          "model_name": "LayoutModel",
          "model_module_version": "1.2.0",
          "state": {
            "_view_name": "LayoutView",
            "grid_template_rows": null,
            "right": null,
            "justify_content": null,
            "_view_module": "@jupyter-widgets/base",
            "overflow": null,
            "_model_module_version": "1.2.0",
            "_view_count": null,
            "flex_flow": null,
            "width": null,
            "min_width": null,
            "border": null,
            "align_items": null,
            "bottom": null,
            "_model_module": "@jupyter-widgets/base",
            "top": null,
            "grid_column": null,
            "overflow_y": null,
            "overflow_x": null,
            "grid_auto_flow": null,
            "grid_area": null,
            "grid_template_columns": null,
            "flex": null,
            "_model_name": "LayoutModel",
            "justify_items": null,
            "grid_row": null,
            "max_height": null,
            "align_content": null,
            "visibility": null,
            "align_self": null,
            "height": null,
            "min_height": null,
            "padding": null,
            "grid_auto_rows": null,
            "grid_gap": null,
            "max_width": null,
            "order": null,
            "_view_module_version": "1.2.0",
            "grid_template_areas": null,
            "object_position": null,
            "object_fit": null,
            "grid_auto_columns": null,
            "margin": null,
            "display": null,
            "left": null
          }
        },
        "81f0690f015e44ecb9bddc2d8d47ebf8": {
          "model_module": "@jupyter-widgets/controls",
          "model_name": "HTMLModel",
          "model_module_version": "1.5.0",
          "state": {
            "_view_name": "HTMLView",
            "style": "IPY_MODEL_9f66900094dc43f0869165000dbf3b43",
            "_dom_classes": [],
            "description": "",
            "_model_name": "HTMLModel",
            "placeholder": "​",
            "_view_module": "@jupyter-widgets/controls",
            "_model_module_version": "1.5.0",
            "value": "100%",
            "_view_count": null,
            "_view_module_version": "1.5.0",
            "description_tooltip": null,
            "_model_module": "@jupyter-widgets/controls",
            "layout": "IPY_MODEL_9f7d208ea76b4ccc8504277b8e1a51fa"
          }
        },
        "029c3f039733443b8fe6c34432e0b01a": {
          "model_module": "@jupyter-widgets/controls",
          "model_name": "FloatProgressModel",
          "model_module_version": "1.5.0",
          "state": {
            "_view_name": "ProgressView",
            "style": "IPY_MODEL_9296d2ca242d44529a7bcff86083aaf4",
            "_dom_classes": [],
            "description": "",
            "_model_name": "FloatProgressModel",
            "bar_style": "success",
            "max": 9,
            "_view_module": "@jupyter-widgets/controls",
            "_model_module_version": "1.5.0",
            "value": 9,
            "_view_count": null,
            "_view_module_version": "1.5.0",
            "orientation": "horizontal",
            "min": 0,
            "description_tooltip": null,
            "_model_module": "@jupyter-widgets/controls",
            "layout": "IPY_MODEL_9e754d02b59b460e8c1b07cb87b72ff8"
          }
        },
        "dd593296d40e4d8b94ab35fdd61fdbb8": {
          "model_module": "@jupyter-widgets/controls",
          "model_name": "HTMLModel",
          "model_module_version": "1.5.0",
          "state": {
            "_view_name": "HTMLView",
            "style": "IPY_MODEL_c7b2de506d044a5e9b2933fb5c797423",
            "_dom_classes": [],
            "description": "",
            "_model_name": "HTMLModel",
            "placeholder": "​",
            "_view_module": "@jupyter-widgets/controls",
            "_model_module_version": "1.5.0",
            "value": " 9/9 [00:00&lt;00:00, 49.91ba/s]",
            "_view_count": null,
            "_view_module_version": "1.5.0",
            "description_tooltip": null,
            "_model_module": "@jupyter-widgets/controls",
            "layout": "IPY_MODEL_78d4a91371bb49499f1d883a77016696"
          }
        },
        "9f66900094dc43f0869165000dbf3b43": {
          "model_module": "@jupyter-widgets/controls",
          "model_name": "DescriptionStyleModel",
          "model_module_version": "1.5.0",
          "state": {
            "_view_name": "StyleView",
            "_model_name": "DescriptionStyleModel",
            "description_width": "",
            "_view_module": "@jupyter-widgets/base",
            "_model_module_version": "1.5.0",
            "_view_count": null,
            "_view_module_version": "1.2.0",
            "_model_module": "@jupyter-widgets/controls"
          }
        },
        "9f7d208ea76b4ccc8504277b8e1a51fa": {
          "model_module": "@jupyter-widgets/base",
          "model_name": "LayoutModel",
          "model_module_version": "1.2.0",
          "state": {
            "_view_name": "LayoutView",
            "grid_template_rows": null,
            "right": null,
            "justify_content": null,
            "_view_module": "@jupyter-widgets/base",
            "overflow": null,
            "_model_module_version": "1.2.0",
            "_view_count": null,
            "flex_flow": null,
            "width": null,
            "min_width": null,
            "border": null,
            "align_items": null,
            "bottom": null,
            "_model_module": "@jupyter-widgets/base",
            "top": null,
            "grid_column": null,
            "overflow_y": null,
            "overflow_x": null,
            "grid_auto_flow": null,
            "grid_area": null,
            "grid_template_columns": null,
            "flex": null,
            "_model_name": "LayoutModel",
            "justify_items": null,
            "grid_row": null,
            "max_height": null,
            "align_content": null,
            "visibility": null,
            "align_self": null,
            "height": null,
            "min_height": null,
            "padding": null,
            "grid_auto_rows": null,
            "grid_gap": null,
            "max_width": null,
            "order": null,
            "_view_module_version": "1.2.0",
            "grid_template_areas": null,
            "object_position": null,
            "object_fit": null,
            "grid_auto_columns": null,
            "margin": null,
            "display": null,
            "left": null
          }
        },
        "9296d2ca242d44529a7bcff86083aaf4": {
          "model_module": "@jupyter-widgets/controls",
          "model_name": "ProgressStyleModel",
          "model_module_version": "1.5.0",
          "state": {
            "_view_name": "StyleView",
            "_model_name": "ProgressStyleModel",
            "description_width": "",
            "_view_module": "@jupyter-widgets/base",
            "_model_module_version": "1.5.0",
            "_view_count": null,
            "_view_module_version": "1.2.0",
            "bar_color": null,
            "_model_module": "@jupyter-widgets/controls"
          }
        },
        "9e754d02b59b460e8c1b07cb87b72ff8": {
          "model_module": "@jupyter-widgets/base",
          "model_name": "LayoutModel",
          "model_module_version": "1.2.0",
          "state": {
            "_view_name": "LayoutView",
            "grid_template_rows": null,
            "right": null,
            "justify_content": null,
            "_view_module": "@jupyter-widgets/base",
            "overflow": null,
            "_model_module_version": "1.2.0",
            "_view_count": null,
            "flex_flow": null,
            "width": null,
            "min_width": null,
            "border": null,
            "align_items": null,
            "bottom": null,
            "_model_module": "@jupyter-widgets/base",
            "top": null,
            "grid_column": null,
            "overflow_y": null,
            "overflow_x": null,
            "grid_auto_flow": null,
            "grid_area": null,
            "grid_template_columns": null,
            "flex": null,
            "_model_name": "LayoutModel",
            "justify_items": null,
            "grid_row": null,
            "max_height": null,
            "align_content": null,
            "visibility": null,
            "align_self": null,
            "height": null,
            "min_height": null,
            "padding": null,
            "grid_auto_rows": null,
            "grid_gap": null,
            "max_width": null,
            "order": null,
            "_view_module_version": "1.2.0",
            "grid_template_areas": null,
            "object_position": null,
            "object_fit": null,
            "grid_auto_columns": null,
            "margin": null,
            "display": null,
            "left": null
          }
        },
        "c7b2de506d044a5e9b2933fb5c797423": {
          "model_module": "@jupyter-widgets/controls",
          "model_name": "DescriptionStyleModel",
          "model_module_version": "1.5.0",
          "state": {
            "_view_name": "StyleView",
            "_model_name": "DescriptionStyleModel",
            "description_width": "",
            "_view_module": "@jupyter-widgets/base",
            "_model_module_version": "1.5.0",
            "_view_count": null,
            "_view_module_version": "1.2.0",
            "_model_module": "@jupyter-widgets/controls"
          }
        },
        "78d4a91371bb49499f1d883a77016696": {
          "model_module": "@jupyter-widgets/base",
          "model_name": "LayoutModel",
          "model_module_version": "1.2.0",
          "state": {
            "_view_name": "LayoutView",
            "grid_template_rows": null,
            "right": null,
            "justify_content": null,
            "_view_module": "@jupyter-widgets/base",
            "overflow": null,
            "_model_module_version": "1.2.0",
            "_view_count": null,
            "flex_flow": null,
            "width": null,
            "min_width": null,
            "border": null,
            "align_items": null,
            "bottom": null,
            "_model_module": "@jupyter-widgets/base",
            "top": null,
            "grid_column": null,
            "overflow_y": null,
            "overflow_x": null,
            "grid_auto_flow": null,
            "grid_area": null,
            "grid_template_columns": null,
            "flex": null,
            "_model_name": "LayoutModel",
            "justify_items": null,
            "grid_row": null,
            "max_height": null,
            "align_content": null,
            "visibility": null,
            "align_self": null,
            "height": null,
            "min_height": null,
            "padding": null,
            "grid_auto_rows": null,
            "grid_gap": null,
            "max_width": null,
            "order": null,
            "_view_module_version": "1.2.0",
            "grid_template_areas": null,
            "object_position": null,
            "object_fit": null,
            "grid_auto_columns": null,
            "margin": null,
            "display": null,
            "left": null
          }
        }
      }
    }
  },
  "cells": [
    {
      "cell_type": "markdown",
      "metadata": {
        "id": "view-in-github",
        "colab_type": "text"
      },
      "source": [
        "<a href=\"https://colab.research.google.com/github/rahiakela/transformers-research-and-practice/blob/main/mastering-transformers/02-hands-on-introduction-to-subject/1_hands_on_introduction_to_subject.ipynb\" target=\"_parent\"><img src=\"https://colab.research.google.com/assets/colab-badge.svg\" alt=\"Open In Colab\"/></a>"
      ]
    },
    {
      "cell_type": "code",
      "metadata": {
        "id": "cZ6qBAiOgIMz"
      },
      "source": [
        "!pip -q install transformers\n",
        "!pip -q install datasets"
      ],
      "execution_count": null,
      "outputs": []
    },
    {
      "cell_type": "markdown",
      "metadata": {
        "id": "OOxFrunmoG76"
      },
      "source": [
        "##Working with language models and tokenizers"
      ]
    },
    {
      "cell_type": "code",
      "metadata": {
        "id": "af5bvLV8gLsq"
      },
      "source": [
        "from transformers import BertTokenizer, BertModel, pipeline\n",
        "from datasets import load_dataset\n",
        "\n",
        "from datasets import list_datasets, list_metrics\n",
        "\n",
        "import pandas as pd\n",
        "\n",
        "from pprint import pprint"
      ],
      "execution_count": 2,
      "outputs": []
    },
    {
      "cell_type": "code",
      "metadata": {
        "id": "Yelq4g0_gM2D"
      },
      "source": [
        "tokenizer = BertTokenizer.from_pretrained(\"bert-base-uncased\")"
      ],
      "execution_count": null,
      "outputs": []
    },
    {
      "cell_type": "code",
      "metadata": {
        "colab": {
          "base_uri": "https://localhost:8080/"
        },
        "id": "VTuqaAVThumg",
        "outputId": "9e686944-7bf4-40e2-eef0-0a7c4351645a"
      },
      "source": [
        "text = \"Using Transformer is easy!\"\n",
        "tokenizer(text)"
      ],
      "execution_count": 4,
      "outputs": [
        {
          "output_type": "execute_result",
          "data": {
            "text/plain": [
              "{'input_ids': [101, 2478, 10938, 2121, 2003, 3733, 999, 102], 'token_type_ids': [0, 0, 0, 0, 0, 0, 0, 0], 'attention_mask': [1, 1, 1, 1, 1, 1, 1, 1]}"
            ]
          },
          "metadata": {},
          "execution_count": 4
        }
      ]
    },
    {
      "cell_type": "code",
      "metadata": {
        "colab": {
          "base_uri": "https://localhost:8080/"
        },
        "id": "8XGIIsN9h7b1",
        "outputId": "bc60ee2f-ee9b-4094-8663-b4ffcced906d"
      },
      "source": [
        "encoded_input = tokenizer(text, return_tensors=\"pt\")\n",
        "encoded_input"
      ],
      "execution_count": 5,
      "outputs": [
        {
          "output_type": "execute_result",
          "data": {
            "text/plain": [
              "{'input_ids': tensor([[  101,  2478, 10938,  2121,  2003,  3733,   999,   102]]), 'token_type_ids': tensor([[0, 0, 0, 0, 0, 0, 0, 0]]), 'attention_mask': tensor([[1, 1, 1, 1, 1, 1, 1, 1]])}"
            ]
          },
          "metadata": {},
          "execution_count": 5
        }
      ]
    },
    {
      "cell_type": "code",
      "metadata": {
        "id": "3oyLtLOoiL3q"
      },
      "source": [
        "model = BertModel.from_pretrained(\"bert-base-uncased\")\n",
        "\n",
        "output = model(**encoded_input)\n",
        "output"
      ],
      "execution_count": null,
      "outputs": []
    },
    {
      "cell_type": "code",
      "metadata": {
        "colab": {
          "base_uri": "https://localhost:8080/"
        },
        "id": "s6yrX2EojbXK",
        "outputId": "f75e2ec4-c5d9-42d2-9c88-76c0173229d0"
      },
      "source": [
        "len(output)"
      ],
      "execution_count": 7,
      "outputs": [
        {
          "output_type": "execute_result",
          "data": {
            "text/plain": [
              "2"
            ]
          },
          "metadata": {},
          "execution_count": 7
        }
      ]
    },
    {
      "cell_type": "code",
      "metadata": {
        "id": "kwmL2xYlj8zb",
        "outputId": "bc94e4be-3716-49d3-8556-2af7d4029c42",
        "colab": {
          "base_uri": "https://localhost:8080/"
        }
      },
      "source": [
        "unmasker = pipeline(\"fill-mask\", model=\"bert-base-uncased\")\n",
        "unmasker(\"The man worked as a [MASK].\")"
      ],
      "execution_count": 8,
      "outputs": [
        {
          "output_type": "stream",
          "name": "stderr",
          "text": [
            "Some weights of the model checkpoint at bert-base-uncased were not used when initializing BertForMaskedLM: ['cls.seq_relationship.weight', 'cls.seq_relationship.bias']\n",
            "- This IS expected if you are initializing BertForMaskedLM from the checkpoint of a model trained on another task or with another architecture (e.g. initializing a BertForSequenceClassification model from a BertForPreTraining model).\n",
            "- This IS NOT expected if you are initializing BertForMaskedLM from the checkpoint of a model that you expect to be exactly identical (initializing a BertForSequenceClassification model from a BertForSequenceClassification model).\n"
          ]
        },
        {
          "output_type": "execute_result",
          "data": {
            "text/plain": [
              "[{'score': 0.09747546911239624,\n",
              "  'sequence': 'the man worked as a carpenter.',\n",
              "  'token': 10533,\n",
              "  'token_str': 'carpenter'},\n",
              " {'score': 0.052383411675691605,\n",
              "  'sequence': 'the man worked as a waiter.',\n",
              "  'token': 15610,\n",
              "  'token_str': 'waiter'},\n",
              " {'score': 0.04962698742747307,\n",
              "  'sequence': 'the man worked as a barber.',\n",
              "  'token': 13362,\n",
              "  'token_str': 'barber'},\n",
              " {'score': 0.037886083126068115,\n",
              "  'sequence': 'the man worked as a mechanic.',\n",
              "  'token': 15893,\n",
              "  'token_str': 'mechanic'},\n",
              " {'score': 0.037680838257074356,\n",
              "  'sequence': 'the man worked as a salesman.',\n",
              "  'token': 18968,\n",
              "  'token_str': 'salesman'}]"
            ]
          },
          "metadata": {},
          "execution_count": 8
        }
      ]
    },
    {
      "cell_type": "code",
      "metadata": {
        "colab": {
          "base_uri": "https://localhost:8080/",
          "height": 206
        },
        "id": "xGZm9ErVkW3h",
        "outputId": "cc66c740-45e8-49c1-b80b-3ab69f699b3c"
      },
      "source": [
        "pd.DataFrame(unmasker(\"The man worked as a [MASK].\"))"
      ],
      "execution_count": 9,
      "outputs": [
        {
          "output_type": "execute_result",
          "data": {
            "text/html": [
              "<div>\n",
              "<style scoped>\n",
              "    .dataframe tbody tr th:only-of-type {\n",
              "        vertical-align: middle;\n",
              "    }\n",
              "\n",
              "    .dataframe tbody tr th {\n",
              "        vertical-align: top;\n",
              "    }\n",
              "\n",
              "    .dataframe thead th {\n",
              "        text-align: right;\n",
              "    }\n",
              "</style>\n",
              "<table border=\"1\" class=\"dataframe\">\n",
              "  <thead>\n",
              "    <tr style=\"text-align: right;\">\n",
              "      <th></th>\n",
              "      <th>sequence</th>\n",
              "      <th>score</th>\n",
              "      <th>token</th>\n",
              "      <th>token_str</th>\n",
              "    </tr>\n",
              "  </thead>\n",
              "  <tbody>\n",
              "    <tr>\n",
              "      <th>0</th>\n",
              "      <td>the man worked as a carpenter.</td>\n",
              "      <td>0.097475</td>\n",
              "      <td>10533</td>\n",
              "      <td>carpenter</td>\n",
              "    </tr>\n",
              "    <tr>\n",
              "      <th>1</th>\n",
              "      <td>the man worked as a waiter.</td>\n",
              "      <td>0.052383</td>\n",
              "      <td>15610</td>\n",
              "      <td>waiter</td>\n",
              "    </tr>\n",
              "    <tr>\n",
              "      <th>2</th>\n",
              "      <td>the man worked as a barber.</td>\n",
              "      <td>0.049627</td>\n",
              "      <td>13362</td>\n",
              "      <td>barber</td>\n",
              "    </tr>\n",
              "    <tr>\n",
              "      <th>3</th>\n",
              "      <td>the man worked as a mechanic.</td>\n",
              "      <td>0.037886</td>\n",
              "      <td>15893</td>\n",
              "      <td>mechanic</td>\n",
              "    </tr>\n",
              "    <tr>\n",
              "      <th>4</th>\n",
              "      <td>the man worked as a salesman.</td>\n",
              "      <td>0.037681</td>\n",
              "      <td>18968</td>\n",
              "      <td>salesman</td>\n",
              "    </tr>\n",
              "  </tbody>\n",
              "</table>\n",
              "</div>"
            ],
            "text/plain": [
              "                         sequence     score  token  token_str\n",
              "0  the man worked as a carpenter.  0.097475  10533  carpenter\n",
              "1     the man worked as a waiter.  0.052383  15610     waiter\n",
              "2     the man worked as a barber.  0.049627  13362     barber\n",
              "3   the man worked as a mechanic.  0.037886  15893   mechanic\n",
              "4   the man worked as a salesman.  0.037681  18968   salesman"
            ]
          },
          "metadata": {},
          "execution_count": 9
        }
      ]
    },
    {
      "cell_type": "markdown",
      "metadata": {
        "id": "Cl2uT2P5n_zU"
      },
      "source": [
        "##Working with community-provided models"
      ]
    },
    {
      "cell_type": "code",
      "metadata": {
        "id": "UI_1RylZm2aF"
      },
      "source": [
        "classifier = pipeline(\"zero-shot-classification\", model=\"facebook/bart-large-mnli\")"
      ],
      "execution_count": null,
      "outputs": []
    },
    {
      "cell_type": "code",
      "metadata": {
        "id": "j1YPYFbDm_op"
      },
      "source": [
        "sequence_to_classify = \"I am going to france.\"\n",
        "candidate_labels = [\"travel\", \"cooking\", \"dancing\"]"
      ],
      "execution_count": 11,
      "outputs": []
    },
    {
      "cell_type": "code",
      "metadata": {
        "colab": {
          "base_uri": "https://localhost:8080/"
        },
        "id": "yZpnVQVknUrt",
        "outputId": "89d446fb-f2de-41b0-b769-f6cc3eaccce5"
      },
      "source": [
        "classifier(sequence_to_classify, candidate_labels)"
      ],
      "execution_count": 12,
      "outputs": [
        {
          "output_type": "execute_result",
          "data": {
            "text/plain": [
              "{'labels': ['travel', 'dancing', 'cooking'],\n",
              " 'scores': [0.9866883754730225, 0.007197582628577948, 0.006114034913480282],\n",
              " 'sequence': 'I am going to france.'}"
            ]
          },
          "metadata": {},
          "execution_count": 12
        }
      ]
    },
    {
      "cell_type": "code",
      "metadata": {
        "colab": {
          "base_uri": "https://localhost:8080/",
          "height": 144
        },
        "id": "YJwVcaAhnbaV",
        "outputId": "fd3f2cc7-da0a-4a62-e26b-12e4d0154151"
      },
      "source": [
        "pd.DataFrame(classifier(sequence_to_classify, candidate_labels))"
      ],
      "execution_count": 13,
      "outputs": [
        {
          "output_type": "execute_result",
          "data": {
            "text/html": [
              "<div>\n",
              "<style scoped>\n",
              "    .dataframe tbody tr th:only-of-type {\n",
              "        vertical-align: middle;\n",
              "    }\n",
              "\n",
              "    .dataframe tbody tr th {\n",
              "        vertical-align: top;\n",
              "    }\n",
              "\n",
              "    .dataframe thead th {\n",
              "        text-align: right;\n",
              "    }\n",
              "</style>\n",
              "<table border=\"1\" class=\"dataframe\">\n",
              "  <thead>\n",
              "    <tr style=\"text-align: right;\">\n",
              "      <th></th>\n",
              "      <th>sequence</th>\n",
              "      <th>labels</th>\n",
              "      <th>scores</th>\n",
              "    </tr>\n",
              "  </thead>\n",
              "  <tbody>\n",
              "    <tr>\n",
              "      <th>0</th>\n",
              "      <td>I am going to france.</td>\n",
              "      <td>travel</td>\n",
              "      <td>0.986688</td>\n",
              "    </tr>\n",
              "    <tr>\n",
              "      <th>1</th>\n",
              "      <td>I am going to france.</td>\n",
              "      <td>dancing</td>\n",
              "      <td>0.007198</td>\n",
              "    </tr>\n",
              "    <tr>\n",
              "      <th>2</th>\n",
              "      <td>I am going to france.</td>\n",
              "      <td>cooking</td>\n",
              "      <td>0.006114</td>\n",
              "    </tr>\n",
              "  </tbody>\n",
              "</table>\n",
              "</div>"
            ],
            "text/plain": [
              "                sequence   labels    scores\n",
              "0  I am going to france.   travel  0.986688\n",
              "1  I am going to france.  dancing  0.007198\n",
              "2  I am going to france.  cooking  0.006114"
            ]
          },
          "metadata": {},
          "execution_count": 13
        }
      ]
    },
    {
      "cell_type": "code",
      "metadata": {
        "colab": {
          "base_uri": "https://localhost:8080/",
          "height": 175
        },
        "id": "_B7ofMCLnjKV",
        "outputId": "63f27e6f-c2ff-4752-92a3-01caa31ba699"
      },
      "source": [
        "sequence_to_classify = \"I love to reading books.\"\n",
        "candidate_labels = [\"travel\", \"cooking\", \"dancing\", \"reading\"]\n",
        "pd.DataFrame(classifier(sequence_to_classify, candidate_labels))"
      ],
      "execution_count": 14,
      "outputs": [
        {
          "output_type": "execute_result",
          "data": {
            "text/html": [
              "<div>\n",
              "<style scoped>\n",
              "    .dataframe tbody tr th:only-of-type {\n",
              "        vertical-align: middle;\n",
              "    }\n",
              "\n",
              "    .dataframe tbody tr th {\n",
              "        vertical-align: top;\n",
              "    }\n",
              "\n",
              "    .dataframe thead th {\n",
              "        text-align: right;\n",
              "    }\n",
              "</style>\n",
              "<table border=\"1\" class=\"dataframe\">\n",
              "  <thead>\n",
              "    <tr style=\"text-align: right;\">\n",
              "      <th></th>\n",
              "      <th>sequence</th>\n",
              "      <th>labels</th>\n",
              "      <th>scores</th>\n",
              "    </tr>\n",
              "  </thead>\n",
              "  <tbody>\n",
              "    <tr>\n",
              "      <th>0</th>\n",
              "      <td>I love to reading books.</td>\n",
              "      <td>reading</td>\n",
              "      <td>0.989049</td>\n",
              "    </tr>\n",
              "    <tr>\n",
              "      <th>1</th>\n",
              "      <td>I love to reading books.</td>\n",
              "      <td>travel</td>\n",
              "      <td>0.004614</td>\n",
              "    </tr>\n",
              "    <tr>\n",
              "      <th>2</th>\n",
              "      <td>I love to reading books.</td>\n",
              "      <td>cooking</td>\n",
              "      <td>0.003654</td>\n",
              "    </tr>\n",
              "    <tr>\n",
              "      <th>3</th>\n",
              "      <td>I love to reading books.</td>\n",
              "      <td>dancing</td>\n",
              "      <td>0.002683</td>\n",
              "    </tr>\n",
              "  </tbody>\n",
              "</table>\n",
              "</div>"
            ],
            "text/plain": [
              "                   sequence   labels    scores\n",
              "0  I love to reading books.  reading  0.989049\n",
              "1  I love to reading books.   travel  0.004614\n",
              "2  I love to reading books.  cooking  0.003654\n",
              "3  I love to reading books.  dancing  0.002683"
            ]
          },
          "metadata": {},
          "execution_count": 14
        }
      ]
    },
    {
      "cell_type": "markdown",
      "metadata": {
        "id": "tQtL-xIqn3LL"
      },
      "source": [
        "## Working with benchmarks and datasets"
      ]
    },
    {
      "cell_type": "markdown",
      "metadata": {
        "id": "BM8k9yaPvHJa"
      },
      "source": [
        "The datasets library provides a very efficient utility to load, process, and share datasets with the community through the Hugging Face hub. As with TensorFlow datasets, it makes it easier to download, cache, and dynamically load the sets directly from the original dataset host upon request."
      ]
    },
    {
      "cell_type": "code",
      "metadata": {
        "id": "1sGaRDxZvORS"
      },
      "source": [
        "cola = load_dataset(\"glue\", \"cola\")"
      ],
      "execution_count": null,
      "outputs": []
    },
    {
      "cell_type": "code",
      "metadata": {
        "id": "cypucc40UDkY",
        "outputId": "b416ec94-c142-4cfb-b744-b1a17a2f7d5f",
        "colab": {
          "base_uri": "https://localhost:8080/"
        }
      },
      "source": [
        "cola[\"train\"][25:28]"
      ],
      "execution_count": 46,
      "outputs": [
        {
          "output_type": "execute_result",
          "data": {
            "text/plain": [
              "{'idx': [25, 26, 27],\n",
              " 'label': [0, 0, 1],\n",
              " 'sentence': ['Harry coughed himself.',\n",
              "  'Harry coughed us into a fit.',\n",
              "  'Bill followed the road into the forest.']}"
            ]
          },
          "metadata": {},
          "execution_count": 46
        }
      ]
    },
    {
      "cell_type": "markdown",
      "metadata": {
        "id": "R6w0kscCvouw"
      },
      "source": [
        "Currently, there are 1703 NLP datasets and 28 metrics for diverse tasks."
      ]
    },
    {
      "cell_type": "code",
      "metadata": {
        "colab": {
          "base_uri": "https://localhost:8080/"
        },
        "id": "L6kR3g6cvpkN",
        "outputId": "1578acf2-9dfe-4ab5-dcdc-8e4994f18c74"
      },
      "source": [
        "all_d = list_datasets()\n",
        "metrics = list_metrics()\n",
        "\n",
        "print(f\"{len(all_d)} datasets and {len(metrics)} metrics exist in the hub\\n\")\n",
        "pprint(all_d[:20], compact=True)\n",
        "pprint(metrics, compact=True)"
      ],
      "execution_count": 16,
      "outputs": [
        {
          "output_type": "stream",
          "name": "stdout",
          "text": [
            "1889 datasets and 33 metrics exist in the hub\n",
            "\n",
            "['acronym_identification', 'ade_corpus_v2', 'adversarial_qa', 'aeslc',\n",
            " 'afrikaans_ner_corpus', 'ag_news', 'ai2_arc', 'air_dialogue',\n",
            " 'ajgt_twitter_ar', 'allegro_reviews', 'allocine', 'alt', 'amazon_polarity',\n",
            " 'amazon_reviews_multi', 'amazon_us_reviews', 'ambig_qa', 'ami', 'amttl',\n",
            " 'anli', 'app_reviews']\n",
            "['accuracy', 'bertscore', 'bleu', 'bleurt', 'cer', 'chrf', 'code_eval', 'comet',\n",
            " 'competition_math', 'coval', 'cuad', 'f1', 'gleu', 'glue', 'google_bleu',\n",
            " 'indic_glue', 'matthews_correlation', 'meteor', 'pearsonr', 'precision',\n",
            " 'recall', 'rouge', 'sacrebleu', 'sari', 'seqeval', 'spearmanr', 'squad',\n",
            " 'squad_v2', 'super_glue', 'ter', 'wer', 'wiki_split', 'xnli']\n"
          ]
        }
      ]
    },
    {
      "cell_type": "markdown",
      "metadata": {
        "id": "OlGw2-z3wiBK"
      },
      "source": [
        "A dataset comes with the DatasetDict object, including several Dataset instances. When the split selection (split='...') is used, we get Dataset instances. \n",
        "\n",
        "For example, the CoLA dataset comes with DatasetDict, where we have three splits: train, validation, and test.\n",
        "\n",
        "Let's see the structure of the CoLA dataset object."
      ]
    },
    {
      "cell_type": "code",
      "metadata": {
        "id": "TdaVgY-Swmeg"
      },
      "source": [
        "cola = load_dataset(\"glue\", \"cola\")"
      ],
      "execution_count": null,
      "outputs": []
    },
    {
      "cell_type": "code",
      "metadata": {
        "id": "IsrtVfedT9J-",
        "outputId": "c9b5aa35-eefa-4723-df8c-b18712542ba8",
        "colab": {
          "base_uri": "https://localhost:8080/"
        }
      },
      "source": [
        "cola"
      ],
      "execution_count": 43,
      "outputs": [
        {
          "output_type": "execute_result",
          "data": {
            "text/plain": [
              "DatasetDict({\n",
              "    train: Dataset({\n",
              "        features: ['sentence', 'label', 'idx'],\n",
              "        num_rows: 8551\n",
              "    })\n",
              "    validation: Dataset({\n",
              "        features: ['sentence', 'label', 'idx'],\n",
              "        num_rows: 1043\n",
              "    })\n",
              "    test: Dataset({\n",
              "        features: ['sentence', 'label', 'idx'],\n",
              "        num_rows: 1063\n",
              "    })\n",
              "})"
            ]
          },
          "metadata": {},
          "execution_count": 43
        }
      ]
    },
    {
      "cell_type": "code",
      "metadata": {
        "colab": {
          "base_uri": "https://localhost:8080/"
        },
        "id": "RUAliI2Hw-id",
        "outputId": "c1a5a72f-034b-482a-e2ba-62866da7af03"
      },
      "source": [
        "cola[\"train\"]"
      ],
      "execution_count": 18,
      "outputs": [
        {
          "output_type": "execute_result",
          "data": {
            "text/plain": [
              "Dataset({\n",
              "    features: ['sentence', 'label', 'idx'],\n",
              "    num_rows: 8551\n",
              "})"
            ]
          },
          "metadata": {},
          "execution_count": 18
        }
      ]
    },
    {
      "cell_type": "code",
      "metadata": {
        "colab": {
          "base_uri": "https://localhost:8080/"
        },
        "id": "DkcGq-rJxEkA",
        "outputId": "4eab00eb-2b4b-466a-b203-a88f3b82a272"
      },
      "source": [
        "cola[\"train\"][12]"
      ],
      "execution_count": 19,
      "outputs": [
        {
          "output_type": "execute_result",
          "data": {
            "text/plain": [
              "{'idx': 12, 'label': 1, 'sentence': 'Bill rolled out of the room.'}"
            ]
          },
          "metadata": {},
          "execution_count": 19
        }
      ]
    },
    {
      "cell_type": "code",
      "metadata": {
        "colab": {
          "base_uri": "https://localhost:8080/"
        },
        "id": "fBftgHDXxNRe",
        "outputId": "0357cf6a-26ca-4c20-ea78-c59af702f8f9"
      },
      "source": [
        "cola[\"validation\"]"
      ],
      "execution_count": 20,
      "outputs": [
        {
          "output_type": "execute_result",
          "data": {
            "text/plain": [
              "Dataset({\n",
              "    features: ['sentence', 'label', 'idx'],\n",
              "    num_rows: 1043\n",
              "})"
            ]
          },
          "metadata": {},
          "execution_count": 20
        }
      ]
    },
    {
      "cell_type": "code",
      "metadata": {
        "colab": {
          "base_uri": "https://localhost:8080/"
        },
        "id": "BxInTXSKxRCW",
        "outputId": "9f5dc621-f863-49c8-da1f-d977c6d7b89d"
      },
      "source": [
        "cola[\"validation\"][68]"
      ],
      "execution_count": 21,
      "outputs": [
        {
          "output_type": "execute_result",
          "data": {
            "text/plain": [
              "{'idx': 68,\n",
              " 'label': 0,\n",
              " 'sentence': 'Which report that John was incompetent did he submit?'}"
            ]
          },
          "metadata": {},
          "execution_count": 21
        }
      ]
    },
    {
      "cell_type": "markdown",
      "metadata": {
        "id": "HmU89cFRxf8y"
      },
      "source": [
        "The dataset object has some additional metadata information that might be helpful for us: split, description, citation, homepage, license, and info."
      ]
    },
    {
      "cell_type": "code",
      "metadata": {
        "colab": {
          "base_uri": "https://localhost:8080/"
        },
        "id": "eWipJDC2xhGQ",
        "outputId": "0c2d6a56-246f-4de0-cee4-fe08c3b073d6"
      },
      "source": [
        "print(\"1#\", cola[\"train\"].description)\n",
        "print(\"2#\", cola[\"train\"].citation)\n",
        "print(\"3#\", cola[\"train\"].homepage)\n",
        "print(\"4#\", cola[\"train\"].license)"
      ],
      "execution_count": 22,
      "outputs": [
        {
          "output_type": "stream",
          "name": "stdout",
          "text": [
            "1# GLUE, the General Language Understanding Evaluation benchmark\n",
            "(https://gluebenchmark.com/) is a collection of resources for training,\n",
            "evaluating, and analyzing natural language understanding systems.\n",
            "\n",
            "\n",
            "2# @article{warstadt2018neural,\n",
            "  title={Neural Network Acceptability Judgments},\n",
            "  author={Warstadt, Alex and Singh, Amanpreet and Bowman, Samuel R},\n",
            "  journal={arXiv preprint arXiv:1805.12471},\n",
            "  year={2018}\n",
            "}\n",
            "@inproceedings{wang2019glue,\n",
            "  title={{GLUE}: A Multi-Task Benchmark and Analysis Platform for Natural Language Understanding},\n",
            "  author={Wang, Alex and Singh, Amanpreet and Michael, Julian and Hill, Felix and Levy, Omer and Bowman, Samuel R.},\n",
            "  note={In the Proceedings of ICLR.},\n",
            "  year={2019}\n",
            "}\n",
            "\n",
            "3# https://nyu-mll.github.io/CoLA/\n",
            "4# \n"
          ]
        }
      ]
    },
    {
      "cell_type": "markdown",
      "metadata": {
        "id": "INv6MsYKyNfO"
      },
      "source": [
        "XTREME (working with a cross-lingual dataset) is another popular cross-lingual dataset\n",
        "that we already discussed. \n",
        "\n",
        "Let's pick the MLQA example from the XTREME set. MLQA is\n",
        "a subset of the XTREME benchmark, which is designed for assessing the performance of\n",
        "cross-lingual QA models. \n",
        "\n",
        "It includes about 5,000 extractive QA instances in the SQuAD\n",
        "format across seven languages, which are English, German, Arabic, Hindi, Vietnamese,\n",
        "Spanish, and Simplified Chinese."
      ]
    },
    {
      "cell_type": "code",
      "metadata": {
        "id": "1b6RK51nyOKL"
      },
      "source": [
        "en_de = load_dataset(\"xtreme\", \"MLQA.en.de\")"
      ],
      "execution_count": null,
      "outputs": []
    },
    {
      "cell_type": "code",
      "metadata": {
        "id": "xYgcUG-HT5sX",
        "outputId": "b6bd1aed-ccda-4805-d510-689b3fc045aa",
        "colab": {
          "base_uri": "https://localhost:8080/"
        }
      },
      "source": [
        "en_de"
      ],
      "execution_count": 42,
      "outputs": [
        {
          "output_type": "execute_result",
          "data": {
            "text/plain": [
              "DatasetDict({\n",
              "    test: Dataset({\n",
              "        features: ['id', 'title', 'context', 'question', 'answers'],\n",
              "        num_rows: 4517\n",
              "    })\n",
              "    validation: Dataset({\n",
              "        features: ['id', 'title', 'context', 'question', 'answers'],\n",
              "        num_rows: 512\n",
              "    })\n",
              "})"
            ]
          },
          "metadata": {},
          "execution_count": 42
        }
      ]
    },
    {
      "cell_type": "markdown",
      "metadata": {
        "id": "4LIur9Pbyo3j"
      },
      "source": [
        "It could be more convenient to view it within a pandas DataFrame."
      ]
    },
    {
      "cell_type": "code",
      "metadata": {
        "colab": {
          "base_uri": "https://localhost:8080/",
          "height": 261
        },
        "id": "vufJb0eIypjc",
        "outputId": "40ff3e26-fcf1-4b0d-f160-ed2b59fc50c1"
      },
      "source": [
        "pd.DataFrame(en_de[\"test\"][0:4])"
      ],
      "execution_count": 24,
      "outputs": [
        {
          "output_type": "execute_result",
          "data": {
            "text/html": [
              "<div>\n",
              "<style scoped>\n",
              "    .dataframe tbody tr th:only-of-type {\n",
              "        vertical-align: middle;\n",
              "    }\n",
              "\n",
              "    .dataframe tbody tr th {\n",
              "        vertical-align: top;\n",
              "    }\n",
              "\n",
              "    .dataframe thead th {\n",
              "        text-align: right;\n",
              "    }\n",
              "</style>\n",
              "<table border=\"1\" class=\"dataframe\">\n",
              "  <thead>\n",
              "    <tr style=\"text-align: right;\">\n",
              "      <th></th>\n",
              "      <th>id</th>\n",
              "      <th>title</th>\n",
              "      <th>context</th>\n",
              "      <th>question</th>\n",
              "      <th>answers</th>\n",
              "    </tr>\n",
              "  </thead>\n",
              "  <tbody>\n",
              "    <tr>\n",
              "      <th>0</th>\n",
              "      <td>037e8929e7e4d2f949ffbabd10f0f860499ff7c9</td>\n",
              "      <td>Cell culture</td>\n",
              "      <td>An established or immortalized cell line has a...</td>\n",
              "      <td>Woraus besteht die Linie?</td>\n",
              "      <td>{'answer_start': [31], 'text': ['cell']}</td>\n",
              "    </tr>\n",
              "    <tr>\n",
              "      <th>1</th>\n",
              "      <td>4b36724f3cbde7c287bde512ff09194cbba7f932</td>\n",
              "      <td>Cell culture</td>\n",
              "      <td>The 19th-century English physiologist Sydney R...</td>\n",
              "      <td>Wann hat Roux etwas von seiner Medullarplatte ...</td>\n",
              "      <td>{'answer_start': [232], 'text': ['1885']}</td>\n",
              "    </tr>\n",
              "    <tr>\n",
              "      <th>2</th>\n",
              "      <td>13e58403df16d88b0e2c665953e89575704942d4</td>\n",
              "      <td>TRIPS Agreement</td>\n",
              "      <td>After the Uruguay round, the GATT became the b...</td>\n",
              "      <td>Was muss ratifiziert werden, wenn ein Land ger...</td>\n",
              "      <td>{'answer_start': [131], 'text': ['TRIPS']}</td>\n",
              "    </tr>\n",
              "    <tr>\n",
              "      <th>3</th>\n",
              "      <td>d23b5372af1de9425a4ae313c01eb80764c910d8</td>\n",
              "      <td>TRIPS Agreement</td>\n",
              "      <td>Since TRIPS came into force, it has been subje...</td>\n",
              "      <td>Welche Teile der Welt kritisierten das TRIPS a...</td>\n",
              "      <td>{'answer_start': [67], 'text': ['developing co...</td>\n",
              "    </tr>\n",
              "  </tbody>\n",
              "</table>\n",
              "</div>"
            ],
            "text/plain": [
              "                                         id  ...                                            answers\n",
              "0  037e8929e7e4d2f949ffbabd10f0f860499ff7c9  ...           {'answer_start': [31], 'text': ['cell']}\n",
              "1  4b36724f3cbde7c287bde512ff09194cbba7f932  ...          {'answer_start': [232], 'text': ['1885']}\n",
              "2  13e58403df16d88b0e2c665953e89575704942d4  ...         {'answer_start': [131], 'text': ['TRIPS']}\n",
              "3  d23b5372af1de9425a4ae313c01eb80764c910d8  ...  {'answer_start': [67], 'text': ['developing co...\n",
              "\n",
              "[4 rows x 5 columns]"
            ]
          },
          "metadata": {},
          "execution_count": 24
        }
      ]
    },
    {
      "cell_type": "markdown",
      "metadata": {
        "id": "drdROYkny-e6"
      },
      "source": [
        "###Data manipulation with the datasets library"
      ]
    },
    {
      "cell_type": "markdown",
      "metadata": {
        "id": "21yrGtrJzBF4"
      },
      "source": [
        "Datasets come with many dictionaries of subsets, where the split parameter is used to\n",
        "decide which subset(s) or portion of the subset is to be loaded. If this is none by default, it\n",
        "will return a dataset dictionary of all subsets (train, test, validation, or any other\n",
        "combination). If the split parameter is specified, it will return a single dataset rather than\n",
        "a dictionary."
      ]
    },
    {
      "cell_type": "code",
      "metadata": {
        "id": "KdckHKUIriRS",
        "colab": {
          "base_uri": "https://localhost:8080/"
        },
        "outputId": "652c0bc0-b4b9-407e-b7f8-beec392f02d6"
      },
      "source": [
        "cola_train = load_dataset(\"glue\", \"cola\", split=\"train\")\n",
        "cola_train"
      ],
      "execution_count": 25,
      "outputs": [
        {
          "output_type": "stream",
          "name": "stderr",
          "text": [
            "Reusing dataset glue (/root/.cache/huggingface/datasets/glue/cola/1.0.0/dacbe3125aa31d7f70367a07a8a9e72a5a0bfeb5fc42e75c9db75b96da6053ad)\n"
          ]
        },
        {
          "output_type": "execute_result",
          "data": {
            "text/plain": [
              "Dataset({\n",
              "    features: ['sentence', 'label', 'idx'],\n",
              "    num_rows: 8551\n",
              "})"
            ]
          },
          "metadata": {},
          "execution_count": 25
        }
      ]
    },
    {
      "cell_type": "markdown",
      "metadata": {
        "id": "z20lR1lnr0c3"
      },
      "source": [
        "We can get a mixture of train and validation subsets."
      ]
    },
    {
      "cell_type": "code",
      "metadata": {
        "id": "YAiWj2VPr1KY",
        "colab": {
          "base_uri": "https://localhost:8080/"
        },
        "outputId": "cd81ee14-6d47-44ce-e33f-19507f13ef9b"
      },
      "source": [
        "# first 300 examples of train and the last 30 examples of validation are obtained\n",
        "cola_sel = load_dataset(\"glue\", \"cola\", split=\"train[:300]+validation[-30:]\")\n",
        "cola_sel"
      ],
      "execution_count": 26,
      "outputs": [
        {
          "output_type": "stream",
          "name": "stderr",
          "text": [
            "Reusing dataset glue (/root/.cache/huggingface/datasets/glue/cola/1.0.0/dacbe3125aa31d7f70367a07a8a9e72a5a0bfeb5fc42e75c9db75b96da6053ad)\n"
          ]
        },
        {
          "output_type": "execute_result",
          "data": {
            "text/plain": [
              "Dataset({\n",
              "    features: ['sentence', 'label', 'idx'],\n",
              "    num_rows: 330\n",
              "})"
            ]
          },
          "metadata": {},
          "execution_count": 26
        }
      ]
    },
    {
      "cell_type": "code",
      "metadata": {
        "id": "aiZ_gh_1tKEO",
        "colab": {
          "base_uri": "https://localhost:8080/"
        },
        "outputId": "bc8ab7d4-c6a3-4feb-b93a-6f1bc6dc3ff8"
      },
      "source": [
        "# The first 100 examples from train and validation\n",
        "cola_sel = load_dataset(\"glue\", \"cola\", split=\"train[:100]+validation[:100]\")\n",
        "cola_sel"
      ],
      "execution_count": 27,
      "outputs": [
        {
          "output_type": "stream",
          "name": "stderr",
          "text": [
            "Reusing dataset glue (/root/.cache/huggingface/datasets/glue/cola/1.0.0/dacbe3125aa31d7f70367a07a8a9e72a5a0bfeb5fc42e75c9db75b96da6053ad)\n"
          ]
        },
        {
          "output_type": "execute_result",
          "data": {
            "text/plain": [
              "Dataset({\n",
              "    features: ['sentence', 'label', 'idx'],\n",
              "    num_rows: 200\n",
              "})"
            ]
          },
          "metadata": {},
          "execution_count": 27
        }
      ]
    },
    {
      "cell_type": "code",
      "metadata": {
        "id": "yhvWdS6-tath",
        "colab": {
          "base_uri": "https://localhost:8080/"
        },
        "outputId": "fc59301c-4ffa-49b8-bfbc-027a0f643d2b"
      },
      "source": [
        "# 50% of train and the last 30% of validation\n",
        "cola_sel = load_dataset(\"glue\", \"cola\", split=\"train[:50%]+validation[-30%:]\")\n",
        "cola_sel"
      ],
      "execution_count": 28,
      "outputs": [
        {
          "output_type": "stream",
          "name": "stderr",
          "text": [
            "Reusing dataset glue (/root/.cache/huggingface/datasets/glue/cola/1.0.0/dacbe3125aa31d7f70367a07a8a9e72a5a0bfeb5fc42e75c9db75b96da6053ad)\n"
          ]
        },
        {
          "output_type": "execute_result",
          "data": {
            "text/plain": [
              "Dataset({\n",
              "    features: ['sentence', 'label', 'idx'],\n",
              "    num_rows: 4589\n",
              "})"
            ]
          },
          "metadata": {},
          "execution_count": 28
        }
      ]
    },
    {
      "cell_type": "code",
      "metadata": {
        "id": "od9R0k65tlHf",
        "colab": {
          "base_uri": "https://localhost:8080/"
        },
        "outputId": "ba0386ce-512d-4eb6-d50e-31181b1fb472"
      },
      "source": [
        "# The first 20% of train and the examples in the slice [30:50] from validation\n",
        "cola_sel = load_dataset(\"glue\", \"cola\", split=\"train[:20%]+validation[30:50]\")\n",
        "cola_sel"
      ],
      "execution_count": 29,
      "outputs": [
        {
          "output_type": "stream",
          "name": "stderr",
          "text": [
            "Reusing dataset glue (/root/.cache/huggingface/datasets/glue/cola/1.0.0/dacbe3125aa31d7f70367a07a8a9e72a5a0bfeb5fc42e75c9db75b96da6053ad)\n"
          ]
        },
        {
          "output_type": "execute_result",
          "data": {
            "text/plain": [
              "Dataset({\n",
              "    features: ['sentence', 'label', 'idx'],\n",
              "    num_rows: 1730\n",
              "})"
            ]
          },
          "metadata": {},
          "execution_count": 29
        }
      ]
    },
    {
      "cell_type": "markdown",
      "metadata": {
        "id": "bwfF-GLntxu_"
      },
      "source": [
        "###Sorting, indexing, and shuffling"
      ]
    },
    {
      "cell_type": "code",
      "metadata": {
        "id": "omMEqrYOt7xX",
        "colab": {
          "base_uri": "https://localhost:8080/"
        },
        "outputId": "0044cdd6-83d6-41a6-d121-9b082381702c"
      },
      "source": [
        "cola_sel.sort(\"label\")[\"label\"][:15]"
      ],
      "execution_count": 30,
      "outputs": [
        {
          "output_type": "execute_result",
          "data": {
            "text/plain": [
              "[0, 0, 0, 0, 0, 0, 0, 0, 0, 0, 0, 0, 0, 0, 0]"
            ]
          },
          "metadata": {},
          "execution_count": 30
        }
      ]
    },
    {
      "cell_type": "code",
      "metadata": {
        "id": "TFq3CjoHuFCa",
        "colab": {
          "base_uri": "https://localhost:8080/"
        },
        "outputId": "1ef8afd3-ad3d-4325-d3e1-ff3565e1fb49"
      },
      "source": [
        "cola_sel.sort(\"label\")[\"label\"][-15:]"
      ],
      "execution_count": 31,
      "outputs": [
        {
          "output_type": "stream",
          "name": "stderr",
          "text": [
            "Loading cached sorted indices for dataset at /root/.cache/huggingface/datasets/glue/cola/1.0.0/dacbe3125aa31d7f70367a07a8a9e72a5a0bfeb5fc42e75c9db75b96da6053ad/cache-e336eeb823488e8a.arrow\n"
          ]
        },
        {
          "output_type": "execute_result",
          "data": {
            "text/plain": [
              "[1, 1, 1, 1, 1, 1, 1, 1, 1, 1, 1, 1, 1, 1, 1]"
            ]
          },
          "metadata": {},
          "execution_count": 31
        }
      ]
    },
    {
      "cell_type": "markdown",
      "metadata": {
        "id": "6kkWcgYAuRZV"
      },
      "source": [
        "We are already familiar with Python slicing notation. \n",
        "\n",
        "Likewise, we can also access several\n",
        "rows using similar slice notation or with a list of indices."
      ]
    },
    {
      "cell_type": "code",
      "metadata": {
        "id": "xJHzsfNmuTI4",
        "colab": {
          "base_uri": "https://localhost:8080/"
        },
        "outputId": "2cdf2a89-4826-4351-f013-346514e26ebf"
      },
      "source": [
        "cola_sel[6, 19, 44]"
      ],
      "execution_count": 32,
      "outputs": [
        {
          "output_type": "execute_result",
          "data": {
            "text/plain": [
              "{'idx': [6, 19, 44],\n",
              " 'label': [1, 1, 1],\n",
              " 'sentence': ['Fred watered the plants flat.',\n",
              "  'The professor talked us into a stupor.',\n",
              "  'The trolley rumbled through the tunnel.']}"
            ]
          },
          "metadata": {},
          "execution_count": 32
        }
      ]
    },
    {
      "cell_type": "code",
      "metadata": {
        "id": "yNVS0bkmudlr",
        "colab": {
          "base_uri": "https://localhost:8080/"
        },
        "outputId": "c4037325-3e5f-402f-b1f6-246224d74555"
      },
      "source": [
        "# We shuffle the dataset as follows\n",
        "cola_sel.shuffle(seed=42)[2:5]"
      ],
      "execution_count": 33,
      "outputs": [
        {
          "output_type": "execute_result",
          "data": {
            "text/plain": [
              "{'idx': [683, 435, 548],\n",
              " 'label': [1, 0, 1],\n",
              " 'sentence': ['Mary will play the violin soon.',\n",
              "  'I explained to fix the sink.',\n",
              "  'The party lasted till midnight.']}"
            ]
          },
          "metadata": {},
          "execution_count": 33
        }
      ]
    },
    {
      "cell_type": "markdown",
      "metadata": {
        "id": "hslqdttyuxNH"
      },
      "source": [
        "###Caching and reusability"
      ]
    },
    {
      "cell_type": "markdown",
      "metadata": {
        "id": "NqwcwccHu3cN"
      },
      "source": [
        "Using cached files allows us to load large datasets by means of memory mapping (if\n",
        "datasets fit on the drive) by using a fast backend. Such smart caching helps in saving and\n",
        "reusing the results of operations executed on the drive."
      ]
    },
    {
      "cell_type": "code",
      "metadata": {
        "id": "2wAyXStBu38D",
        "colab": {
          "base_uri": "https://localhost:8080/"
        },
        "outputId": "b336915c-7816-4a76-cc93-ae8def7d32cf"
      },
      "source": [
        "cola_sel.cache_files"
      ],
      "execution_count": 34,
      "outputs": [
        {
          "output_type": "execute_result",
          "data": {
            "text/plain": [
              "[{'filename': '/root/.cache/huggingface/datasets/glue/cola/1.0.0/dacbe3125aa31d7f70367a07a8a9e72a5a0bfeb5fc42e75c9db75b96da6053ad/glue-train.arrow'},\n",
              " {'filename': '/root/.cache/huggingface/datasets/glue/cola/1.0.0/dacbe3125aa31d7f70367a07a8a9e72a5a0bfeb5fc42e75c9db75b96da6053ad/glue-validation.arrow'}]"
            ]
          },
          "metadata": {},
          "execution_count": 34
        }
      ]
    },
    {
      "cell_type": "markdown",
      "metadata": {
        "id": "TtJZz2g1vC0v"
      },
      "source": [
        "###Dataset filter and map function"
      ]
    },
    {
      "cell_type": "markdown",
      "metadata": {
        "id": "Bjh_bpfIvJqk"
      },
      "source": [
        "We might want to work with a specific selection of a dataset. For instance, we can retrieve\n",
        "sentences only, including the term kick in the cola dataset, as shown in the following\n",
        "execution. \n",
        "\n",
        "The datasets.Dataset.filter() function returns sentences including\n",
        "kick where an anonymous function and a lambda keyword are applied:"
      ]
    },
    {
      "cell_type": "code",
      "metadata": {
        "id": "NBkfw0lbvMPg",
        "colab": {
          "base_uri": "https://localhost:8080/"
        },
        "outputId": "70a54d9a-b430-49c4-90f1-c37eff10c364"
      },
      "source": [
        "# 100% of train and the last 30% of validation\n",
        "cola_sel = load_dataset(\"glue\", \"cola\", split=\"train[:100%]+validation[-30%:]\")\n",
        "cola_sel"
      ],
      "execution_count": 35,
      "outputs": [
        {
          "output_type": "stream",
          "name": "stderr",
          "text": [
            "Reusing dataset glue (/root/.cache/huggingface/datasets/glue/cola/1.0.0/dacbe3125aa31d7f70367a07a8a9e72a5a0bfeb5fc42e75c9db75b96da6053ad)\n"
          ]
        },
        {
          "output_type": "execute_result",
          "data": {
            "text/plain": [
              "Dataset({\n",
              "    features: ['sentence', 'label', 'idx'],\n",
              "    num_rows: 8864\n",
              "})"
            ]
          },
          "metadata": {},
          "execution_count": 35
        }
      ]
    },
    {
      "cell_type": "code",
      "metadata": {
        "id": "XW0QchSTvZeG",
        "colab": {
          "base_uri": "https://localhost:8080/",
          "height": 103,
          "referenced_widgets": [
            "7cab0e33aadf4ddb9876abf0f82f7312",
            "52e32a5d9c8c401a9118a1d3614bc3e2",
            "74cde7c76d7c4c90859a462c5bd9fc2d",
            "887bbf79f1704dcba91bcde81740679b",
            "77696eaba9c34c568ce5cc567b0279c5",
            "91f29dbe25e44bb09ca0487323c7f29c",
            "d28411b770584e5eaf6a8e535b9d0ba4",
            "9040635bd2df43588deaf2e18a3bfb95",
            "09545fac2263442dba698c13f95a5bad",
            "c4c904e9042046eaa0682c379374f401",
            "1bc8a00b6f6344a29404903007cba1e7"
          ]
        },
        "outputId": "6c934f47-dc33-47eb-8dea-39dcb5c18b53"
      },
      "source": [
        "cola_sel.filter(lambda s: \"kick\" in s[\"sentence\"])[\"sentence\"][:3]"
      ],
      "execution_count": 36,
      "outputs": [
        {
          "output_type": "display_data",
          "data": {
            "application/vnd.jupyter.widget-view+json": {
              "model_id": "7cab0e33aadf4ddb9876abf0f82f7312",
              "version_minor": 0,
              "version_major": 2
            },
            "text/plain": [
              "  0%|          | 0/9 [00:00<?, ?ba/s]"
            ]
          },
          "metadata": {}
        },
        {
          "output_type": "execute_result",
          "data": {
            "text/plain": [
              "['Jill kicked the ball from home plate to third base.',\n",
              " 'Fred kicked the ball under the porch.',\n",
              " 'Fred kicked the ball behind the tree.']"
            ]
          },
          "metadata": {},
          "execution_count": 36
        }
      ]
    },
    {
      "cell_type": "markdown",
      "metadata": {
        "id": "HDFSTfTMvuEK"
      },
      "source": [
        "The following filtering is used to get positive (acceptable) examples from the set"
      ]
    },
    {
      "cell_type": "code",
      "metadata": {
        "id": "Mo790kYwvukJ",
        "colab": {
          "base_uri": "https://localhost:8080/",
          "height": 103,
          "referenced_widgets": [
            "b7ebddcb39de47668d3f2258162bfa49",
            "da374bbb9d9a454093ed0dceff4c371b",
            "81f0690f015e44ecb9bddc2d8d47ebf8",
            "029c3f039733443b8fe6c34432e0b01a",
            "dd593296d40e4d8b94ab35fdd61fdbb8",
            "9f66900094dc43f0869165000dbf3b43",
            "9f7d208ea76b4ccc8504277b8e1a51fa",
            "9296d2ca242d44529a7bcff86083aaf4",
            "9e754d02b59b460e8c1b07cb87b72ff8",
            "c7b2de506d044a5e9b2933fb5c797423",
            "78d4a91371bb49499f1d883a77016696"
          ]
        },
        "outputId": "a2a3ed05-8c1d-4725-f3d4-c9565699d852"
      },
      "source": [
        "cola_sel.filter(lambda s: s[\"label\"]==1)[\"sentence\"][:3]"
      ],
      "execution_count": 37,
      "outputs": [
        {
          "output_type": "display_data",
          "data": {
            "application/vnd.jupyter.widget-view+json": {
              "model_id": "b7ebddcb39de47668d3f2258162bfa49",
              "version_minor": 0,
              "version_major": 2
            },
            "text/plain": [
              "  0%|          | 0/9 [00:00<?, ?ba/s]"
            ]
          },
          "metadata": {}
        },
        {
          "output_type": "execute_result",
          "data": {
            "text/plain": [
              "[\"Our friends won't buy this analysis, let alone the next one we propose.\",\n",
              " \"One more pseudo generalization and I'm giving up.\",\n",
              " \"One more pseudo generalization or I'm giving up.\"]"
            ]
          },
          "metadata": {},
          "execution_count": 37
        }
      ]
    },
    {
      "cell_type": "markdown",
      "metadata": {
        "id": "65LCNqIbwHVj"
      },
      "source": [
        "In some cases, we might not know the integer code of a class label"
      ]
    },
    {
      "cell_type": "code",
      "metadata": {
        "id": "SDjm36sKwHya",
        "colab": {
          "base_uri": "https://localhost:8080/"
        },
        "outputId": "184ecaf5-37e9-4de6-fdae-ca2b9ff89795"
      },
      "source": [
        "cola_sel.filter(lambda s: s[\"label\"]==cola_sel.features[\"label\"].str2int(\"acceptable\"))[\"sentence\"][:3]"
      ],
      "execution_count": 41,
      "outputs": [
        {
          "output_type": "stream",
          "name": "stderr",
          "text": [
            "Loading cached processed dataset at /root/.cache/huggingface/datasets/glue/cola/1.0.0/dacbe3125aa31d7f70367a07a8a9e72a5a0bfeb5fc42e75c9db75b96da6053ad/cache-804ec7c8ce72b3ab.arrow\n"
          ]
        },
        {
          "output_type": "execute_result",
          "data": {
            "text/plain": [
              "[\"Our friends won't buy this analysis, let alone the next one we propose.\",\n",
              " \"One more pseudo generalization and I'm giving up.\",\n",
              " \"One more pseudo generalization or I'm giving up.\"]"
            ]
          },
          "metadata": {},
          "execution_count": 41
        }
      ]
    },
    {
      "cell_type": "markdown",
      "metadata": {
        "id": "ZcT99jnAwYau"
      },
      "source": [
        "###Processing data with the map function"
      ]
    },
    {
      "cell_type": "markdown",
      "metadata": {
        "id": "x3-ieidwwaR9"
      },
      "source": [
        "The `datasets.Dataset.map()` function iterates over the dataset, applying a\n",
        "processing function to each example in the set, and modifies the content of the examples."
      ]
    },
    {
      "cell_type": "code",
      "metadata": {
        "id": "jr5BpOtxTb8M",
        "outputId": "a1634e4a-035e-4ce3-eb05-8fff0a0f44ac",
        "colab": {
          "base_uri": "https://localhost:8080/",
          "height": 181
        }
      },
      "source": [
        "cola_new = cola_sel.map(lambda e: {\"len\": len(e[\"sentence\"])})\n",
        "pd.DataFrame(cola_new[0:3])"
      ],
      "execution_count": 40,
      "outputs": [
        {
          "output_type": "stream",
          "name": "stderr",
          "text": [
            "Loading cached processed dataset at /root/.cache/huggingface/datasets/glue/cola/1.0.0/dacbe3125aa31d7f70367a07a8a9e72a5a0bfeb5fc42e75c9db75b96da6053ad/cache-1aab51ec77e54904.arrow\n"
          ]
        },
        {
          "output_type": "execute_result",
          "data": {
            "text/html": [
              "<div>\n",
              "<style scoped>\n",
              "    .dataframe tbody tr th:only-of-type {\n",
              "        vertical-align: middle;\n",
              "    }\n",
              "\n",
              "    .dataframe tbody tr th {\n",
              "        vertical-align: top;\n",
              "    }\n",
              "\n",
              "    .dataframe thead th {\n",
              "        text-align: right;\n",
              "    }\n",
              "</style>\n",
              "<table border=\"1\" class=\"dataframe\">\n",
              "  <thead>\n",
              "    <tr style=\"text-align: right;\">\n",
              "      <th></th>\n",
              "      <th>sentence</th>\n",
              "      <th>label</th>\n",
              "      <th>idx</th>\n",
              "      <th>len</th>\n",
              "    </tr>\n",
              "  </thead>\n",
              "  <tbody>\n",
              "    <tr>\n",
              "      <th>0</th>\n",
              "      <td>Our friends won't buy this analysis, let alone...</td>\n",
              "      <td>1</td>\n",
              "      <td>0</td>\n",
              "      <td>71</td>\n",
              "    </tr>\n",
              "    <tr>\n",
              "      <th>1</th>\n",
              "      <td>One more pseudo generalization and I'm giving up.</td>\n",
              "      <td>1</td>\n",
              "      <td>1</td>\n",
              "      <td>49</td>\n",
              "    </tr>\n",
              "    <tr>\n",
              "      <th>2</th>\n",
              "      <td>One more pseudo generalization or I'm giving up.</td>\n",
              "      <td>1</td>\n",
              "      <td>2</td>\n",
              "      <td>48</td>\n",
              "    </tr>\n",
              "  </tbody>\n",
              "</table>\n",
              "</div>"
            ],
            "text/plain": [
              "                                            sentence  label  idx  len\n",
              "0  Our friends won't buy this analysis, let alone...      1    0   71\n",
              "1  One more pseudo generalization and I'm giving up.      1    1   49\n",
              "2   One more pseudo generalization or I'm giving up.      1    2   48"
            ]
          },
          "metadata": {},
          "execution_count": 40
        }
      ]
    },
    {
      "cell_type": "markdown",
      "metadata": {
        "id": "GxlZDIG_VUm_"
      },
      "source": [
        "As another example, the following piece of code cut the sentence after 20 characters. We\n",
        "do not create a new feature, but instead update the content of the sentence feature"
      ]
    },
    {
      "cell_type": "code",
      "metadata": {
        "id": "4oWMEir8VVWm"
      },
      "source": [
        "cola_cut = cola_new.map(lambda e: {\"sentence\": e[\"sentence\"][:20] + \"_\"})"
      ],
      "execution_count": null,
      "outputs": []
    },
    {
      "cell_type": "code",
      "metadata": {
        "id": "ztdmSmFeVnw-",
        "outputId": "15e36017-31cb-4efe-f349-f98ead7cd3f2",
        "colab": {
          "base_uri": "https://localhost:8080/",
          "height": 206
        }
      },
      "source": [
        "pd.DataFrame(cola_cut[:5])"
      ],
      "execution_count": 49,
      "outputs": [
        {
          "output_type": "execute_result",
          "data": {
            "text/html": [
              "<div>\n",
              "<style scoped>\n",
              "    .dataframe tbody tr th:only-of-type {\n",
              "        vertical-align: middle;\n",
              "    }\n",
              "\n",
              "    .dataframe tbody tr th {\n",
              "        vertical-align: top;\n",
              "    }\n",
              "\n",
              "    .dataframe thead th {\n",
              "        text-align: right;\n",
              "    }\n",
              "</style>\n",
              "<table border=\"1\" class=\"dataframe\">\n",
              "  <thead>\n",
              "    <tr style=\"text-align: right;\">\n",
              "      <th></th>\n",
              "      <th>sentence</th>\n",
              "      <th>label</th>\n",
              "      <th>idx</th>\n",
              "      <th>len</th>\n",
              "    </tr>\n",
              "  </thead>\n",
              "  <tbody>\n",
              "    <tr>\n",
              "      <th>0</th>\n",
              "      <td>Our friends won't bu_</td>\n",
              "      <td>1</td>\n",
              "      <td>0</td>\n",
              "      <td>71</td>\n",
              "    </tr>\n",
              "    <tr>\n",
              "      <th>1</th>\n",
              "      <td>One more pseudo gene_</td>\n",
              "      <td>1</td>\n",
              "      <td>1</td>\n",
              "      <td>49</td>\n",
              "    </tr>\n",
              "    <tr>\n",
              "      <th>2</th>\n",
              "      <td>One more pseudo gene_</td>\n",
              "      <td>1</td>\n",
              "      <td>2</td>\n",
              "      <td>48</td>\n",
              "    </tr>\n",
              "    <tr>\n",
              "      <th>3</th>\n",
              "      <td>The more we study ve_</td>\n",
              "      <td>1</td>\n",
              "      <td>3</td>\n",
              "      <td>46</td>\n",
              "    </tr>\n",
              "    <tr>\n",
              "      <th>4</th>\n",
              "      <td>Day by day the facts_</td>\n",
              "      <td>1</td>\n",
              "      <td>4</td>\n",
              "      <td>41</td>\n",
              "    </tr>\n",
              "  </tbody>\n",
              "</table>\n",
              "</div>"
            ],
            "text/plain": [
              "                sentence  label  idx  len\n",
              "0  Our friends won't bu_      1    0   71\n",
              "1  One more pseudo gene_      1    1   49\n",
              "2  One more pseudo gene_      1    2   48\n",
              "3  The more we study ve_      1    3   46\n",
              "4  Day by day the facts_      1    4   41"
            ]
          },
          "metadata": {},
          "execution_count": 49
        }
      ]
    },
    {
      "cell_type": "markdown",
      "metadata": {
        "id": "4jXalqocb3CA"
      },
      "source": [
        "##Working with local files"
      ]
    },
    {
      "cell_type": "markdown",
      "metadata": {
        "id": "1skwGQCRb38S"
      },
      "source": [
        "To load a dataset from local files in a Comma-Separated Values (CSV), Text (TXT), or\n",
        "JavaScript Object Notation (JSON) format, we pass the file type (csv, text, or json)\n",
        "to the generic load_dataset() loading script, as shown in the following code snippet."
      ]
    },
    {
      "cell_type": "code",
      "metadata": {
        "id": "IikGak5XcF75",
        "outputId": "761eecd3-30b2-48ce-f648-bcc368ecf9a6",
        "colab": {
          "base_uri": "https://localhost:8080/"
        }
      },
      "source": [
        "%%shell\n",
        "\n",
        "wget -q https://github.com/PacktPublishing/Mastering-Transformers/raw/main/CH02/data/a.csv\n",
        "wget -q https://github.com/PacktPublishing/Mastering-Transformers/raw/main/CH02/data/b.csv\n",
        "wget -q https://github.com/PacktPublishing/Mastering-Transformers/raw/main/CH02/data/c.csv"
      ],
      "execution_count": 60,
      "outputs": [
        {
          "output_type": "execute_result",
          "data": {
            "text/plain": [
              ""
            ]
          },
          "metadata": {},
          "execution_count": 60
        }
      ]
    },
    {
      "cell_type": "code",
      "metadata": {
        "id": "rONhSe-9b7_W"
      },
      "source": [
        "from datasets import load_dataset"
      ],
      "execution_count": 59,
      "outputs": []
    },
    {
      "cell_type": "code",
      "metadata": {
        "id": "oHNI8Q70b-M3"
      },
      "source": [
        "data1 = load_dataset(\"csv\", data_files=\"a.csv\", delimiter=\"\\t\")\n",
        "data2 = load_dataset(\"csv\", data_files=[\"a.csv\", \"b.csv\", \"c.csv\"], delimiter=\"\\t\")\n",
        "data3 = load_dataset(\"csv\", data_files={\"train\": [\"c.csv\", \"b.csv\"], \"test\": [\"c.csv\"]}, delimiter=\"\\t\")"
      ],
      "execution_count": null,
      "outputs": []
    },
    {
      "cell_type": "markdown",
      "metadata": {
        "id": "r6JxiblqaFgr"
      },
      "source": [
        "##Preparing a dataset for model training"
      ]
    },
    {
      "cell_type": "markdown",
      "metadata": {
        "id": "yaD1zZQ8aGQF"
      },
      "source": [
        "Let's start with the tokenization process. Each model has its own tokenization model\n",
        "that is trained before the actual language model.\n",
        "\n",
        "To use a tokenizer, we should have installed the Transformer library.\n",
        "The following example loads the tokenizer model from the pretrained distilBERTbase-\n",
        "uncased model. We use map and an anonymous function with lambda to apply\n",
        "a tokenizer to each split in data3. \n",
        "\n",
        "If batched is selected True in the map function, it\n",
        "provides a batch of examples to the tokenizer function. The batch_size value is\n",
        "1000 by default, which is the number of examples per batch passed to the function. If not\n",
        "selected, the whole dataset is passed as a single batch."
      ]
    },
    {
      "cell_type": "code",
      "metadata": {
        "id": "Q73xxjVuaXN-"
      },
      "source": [
        "from transformers import DistilBertTokenizer"
      ],
      "execution_count": 53,
      "outputs": []
    },
    {
      "cell_type": "code",
      "metadata": {
        "id": "QXp_tbTwan7M"
      },
      "source": [
        "tokenizer = DistilBertTokenizer.from_pretrained(\"distilbert-base-uncased\")"
      ],
      "execution_count": null,
      "outputs": []
    },
    {
      "cell_type": "code",
      "metadata": {
        "id": "-nb8yk3nax5H"
      },
      "source": [
        "encoded_data3 = data3.map(lambda e: tokenizer(e[\"sentence\"], padding=True, truncation=True, max_length=12), batched=True, batch_size=1000)"
      ],
      "execution_count": null,
      "outputs": []
    },
    {
      "cell_type": "code",
      "metadata": {
        "id": "4xq3YcKSdSgU",
        "outputId": "7909cc76-954b-45d2-da5c-212f47ad78ca",
        "colab": {
          "base_uri": "https://localhost:8080/"
        }
      },
      "source": [
        "data3"
      ],
      "execution_count": 64,
      "outputs": [
        {
          "output_type": "execute_result",
          "data": {
            "text/plain": [
              "DatasetDict({\n",
              "    train: Dataset({\n",
              "        features: ['sentence', 'label'],\n",
              "        num_rows: 200\n",
              "    })\n",
              "    test: Dataset({\n",
              "        features: ['sentence', 'label'],\n",
              "        num_rows: 100\n",
              "    })\n",
              "})"
            ]
          },
          "metadata": {},
          "execution_count": 64
        }
      ]
    },
    {
      "cell_type": "code",
      "metadata": {
        "id": "BigpTvJ8dVgc",
        "outputId": "be81cc79-9d88-422b-d8d2-1334a1a8c117",
        "colab": {
          "base_uri": "https://localhost:8080/"
        }
      },
      "source": [
        "encoded_data3"
      ],
      "execution_count": 65,
      "outputs": [
        {
          "output_type": "execute_result",
          "data": {
            "text/plain": [
              "DatasetDict({\n",
              "    train: Dataset({\n",
              "        features: ['attention_mask', 'input_ids', 'label', 'sentence'],\n",
              "        num_rows: 200\n",
              "    })\n",
              "    test: Dataset({\n",
              "        features: ['attention_mask', 'input_ids', 'label', 'sentence'],\n",
              "        num_rows: 100\n",
              "    })\n",
              "})"
            ]
          },
          "metadata": {},
          "execution_count": 65
        }
      ]
    },
    {
      "cell_type": "code",
      "metadata": {
        "id": "LRZolQLmdblU",
        "outputId": "f37e4480-32a5-4e42-a27c-79901dd97035",
        "colab": {
          "base_uri": "https://localhost:8080/"
        }
      },
      "source": [
        "pprint(encoded_data3[\"test\"][12])"
      ],
      "execution_count": 66,
      "outputs": [
        {
          "output_type": "stream",
          "name": "stdout",
          "text": [
            "{'attention_mask': [1, 1, 1, 1, 1, 1, 1, 0, 0, 0, 0, 0],\n",
            " 'input_ids': [101, 2019, 5186, 16010, 2143, 1012, 102, 0, 0, 0, 0, 0],\n",
            " 'label': 0,\n",
            " 'sentence': 'an extremely unpleasant film . '}\n"
          ]
        }
      ]
    }
  ]
}