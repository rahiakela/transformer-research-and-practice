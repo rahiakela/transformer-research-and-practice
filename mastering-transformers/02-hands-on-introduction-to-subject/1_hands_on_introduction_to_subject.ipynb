{
  "nbformat": 4,
  "nbformat_minor": 0,
  "metadata": {
    "colab": {
      "name": "02-hands-on-introduction-to-subject.ipynb",
      "provenance": [],
      "toc_visible": true,
      "authorship_tag": "ABX9TyMhjU+6freu+m5DSCWdZdms",
      "include_colab_link": true
    },
    "kernelspec": {
      "name": "python3",
      "display_name": "Python 3"
    },
    "language_info": {
      "name": "python"
    }
  },
  "cells": [
    {
      "cell_type": "markdown",
      "metadata": {
        "id": "view-in-github",
        "colab_type": "text"
      },
      "source": [
        "<a href=\"https://colab.research.google.com/github/rahiakela/transformer-research-and-practice/blob/main/mastering-transformers/02-hands-on-introduction-to-subject/1_hands_on_introduction_to_subject.ipynb\" target=\"_parent\"><img src=\"https://colab.research.google.com/assets/colab-badge.svg\" alt=\"Open In Colab\"/></a>"
      ]
    },
    {
      "cell_type": "code",
      "metadata": {
        "id": "cZ6qBAiOgIMz"
      },
      "source": [
        "!pip -q install transformers"
      ],
      "execution_count": 3,
      "outputs": []
    },
    {
      "cell_type": "markdown",
      "metadata": {
        "id": "OOxFrunmoG76"
      },
      "source": [
        "##Working with language models and tokenizers"
      ]
    },
    {
      "cell_type": "code",
      "metadata": {
        "id": "af5bvLV8gLsq"
      },
      "source": [
        "from transformers import BertTokenizer, BertModel, pipeline\n",
        "import pandas as pd"
      ],
      "execution_count": 22,
      "outputs": []
    },
    {
      "cell_type": "code",
      "metadata": {
        "id": "Yelq4g0_gM2D"
      },
      "source": [
        "tokenizer = BertTokenizer.from_pretrained(\"bert-base-uncased\")"
      ],
      "execution_count": null,
      "outputs": []
    },
    {
      "cell_type": "code",
      "metadata": {
        "colab": {
          "base_uri": "https://localhost:8080/"
        },
        "id": "VTuqaAVThumg",
        "outputId": "367ab64e-f374-46ac-bb9a-dba86402aead"
      },
      "source": [
        "text = \"Using Transformer is easy!\"\n",
        "tokenizer(text)"
      ],
      "execution_count": 10,
      "outputs": [
        {
          "output_type": "execute_result",
          "data": {
            "text/plain": [
              "{'input_ids': [101, 2478, 10938, 2121, 2003, 3733, 999, 102], 'token_type_ids': [0, 0, 0, 0, 0, 0, 0, 0], 'attention_mask': [1, 1, 1, 1, 1, 1, 1, 1]}"
            ]
          },
          "metadata": {},
          "execution_count": 10
        }
      ]
    },
    {
      "cell_type": "code",
      "metadata": {
        "colab": {
          "base_uri": "https://localhost:8080/"
        },
        "id": "8XGIIsN9h7b1",
        "outputId": "9e424fd9-c885-4675-8f71-34737eb618d6"
      },
      "source": [
        "encoded_input = tokenizer(text, return_tensors=\"pt\")\n",
        "encoded_input"
      ],
      "execution_count": 12,
      "outputs": [
        {
          "output_type": "execute_result",
          "data": {
            "text/plain": [
              "{'input_ids': tensor([[  101,  2478, 10938,  2121,  2003,  3733,   999,   102]]), 'token_type_ids': tensor([[0, 0, 0, 0, 0, 0, 0, 0]]), 'attention_mask': tensor([[1, 1, 1, 1, 1, 1, 1, 1]])}"
            ]
          },
          "metadata": {},
          "execution_count": 12
        }
      ]
    },
    {
      "cell_type": "code",
      "metadata": {
        "id": "3oyLtLOoiL3q"
      },
      "source": [
        "model = BertModel.from_pretrained(\"bert-base-uncased\")\n",
        "\n",
        "output = model(**encoded_input)\n",
        "output"
      ],
      "execution_count": null,
      "outputs": []
    },
    {
      "cell_type": "code",
      "metadata": {
        "colab": {
          "base_uri": "https://localhost:8080/"
        },
        "id": "s6yrX2EojbXK",
        "outputId": "26b63bdd-eba6-4dda-9aae-41653f47d475"
      },
      "source": [
        "len(output)"
      ],
      "execution_count": 18,
      "outputs": [
        {
          "output_type": "execute_result",
          "data": {
            "text/plain": [
              "2"
            ]
          },
          "metadata": {},
          "execution_count": 18
        }
      ]
    },
    {
      "cell_type": "code",
      "metadata": {
        "id": "kwmL2xYlj8zb"
      },
      "source": [
        "unmasker = pipeline(\"fill-mask\", model=\"bert-base-uncased\")\n",
        "unmasker(\"The man worked as a [MASK].\")"
      ],
      "execution_count": null,
      "outputs": []
    },
    {
      "cell_type": "code",
      "metadata": {
        "colab": {
          "base_uri": "https://localhost:8080/",
          "height": 204
        },
        "id": "xGZm9ErVkW3h",
        "outputId": "6a41cd4a-b24d-4ab1-b4cd-0efcdb17d22f"
      },
      "source": [
        "pd.DataFrame(unmasker(\"The man worked as a [MASK].\"))"
      ],
      "execution_count": 23,
      "outputs": [
        {
          "output_type": "execute_result",
          "data": {
            "text/html": [
              "<div>\n",
              "<style scoped>\n",
              "    .dataframe tbody tr th:only-of-type {\n",
              "        vertical-align: middle;\n",
              "    }\n",
              "\n",
              "    .dataframe tbody tr th {\n",
              "        vertical-align: top;\n",
              "    }\n",
              "\n",
              "    .dataframe thead th {\n",
              "        text-align: right;\n",
              "    }\n",
              "</style>\n",
              "<table border=\"1\" class=\"dataframe\">\n",
              "  <thead>\n",
              "    <tr style=\"text-align: right;\">\n",
              "      <th></th>\n",
              "      <th>sequence</th>\n",
              "      <th>score</th>\n",
              "      <th>token</th>\n",
              "      <th>token_str</th>\n",
              "    </tr>\n",
              "  </thead>\n",
              "  <tbody>\n",
              "    <tr>\n",
              "      <th>0</th>\n",
              "      <td>the man worked as a carpenter.</td>\n",
              "      <td>0.097476</td>\n",
              "      <td>10533</td>\n",
              "      <td>carpenter</td>\n",
              "    </tr>\n",
              "    <tr>\n",
              "      <th>1</th>\n",
              "      <td>the man worked as a waiter.</td>\n",
              "      <td>0.052383</td>\n",
              "      <td>15610</td>\n",
              "      <td>waiter</td>\n",
              "    </tr>\n",
              "    <tr>\n",
              "      <th>2</th>\n",
              "      <td>the man worked as a barber.</td>\n",
              "      <td>0.049627</td>\n",
              "      <td>13362</td>\n",
              "      <td>barber</td>\n",
              "    </tr>\n",
              "    <tr>\n",
              "      <th>3</th>\n",
              "      <td>the man worked as a mechanic.</td>\n",
              "      <td>0.037886</td>\n",
              "      <td>15893</td>\n",
              "      <td>mechanic</td>\n",
              "    </tr>\n",
              "    <tr>\n",
              "      <th>4</th>\n",
              "      <td>the man worked as a salesman.</td>\n",
              "      <td>0.037681</td>\n",
              "      <td>18968</td>\n",
              "      <td>salesman</td>\n",
              "    </tr>\n",
              "  </tbody>\n",
              "</table>\n",
              "</div>"
            ],
            "text/plain": [
              "                         sequence     score  token  token_str\n",
              "0  the man worked as a carpenter.  0.097476  10533  carpenter\n",
              "1     the man worked as a waiter.  0.052383  15610     waiter\n",
              "2     the man worked as a barber.  0.049627  13362     barber\n",
              "3   the man worked as a mechanic.  0.037886  15893   mechanic\n",
              "4   the man worked as a salesman.  0.037681  18968   salesman"
            ]
          },
          "metadata": {},
          "execution_count": 23
        }
      ]
    },
    {
      "cell_type": "markdown",
      "metadata": {
        "id": "Cl2uT2P5n_zU"
      },
      "source": [
        "##Working with community-provided models"
      ]
    },
    {
      "cell_type": "code",
      "metadata": {
        "id": "UI_1RylZm2aF"
      },
      "source": [
        "classifier = pipeline(\"zero-shot-classification\", model=\"facebook/bart-large-mnli\")"
      ],
      "execution_count": null,
      "outputs": []
    },
    {
      "cell_type": "code",
      "metadata": {
        "id": "j1YPYFbDm_op"
      },
      "source": [
        "sequence_to_classify = \"I am going to france.\"\n",
        "candidate_labels = [\"travel\", \"cooking\", \"dancing\"]"
      ],
      "execution_count": 25,
      "outputs": []
    },
    {
      "cell_type": "code",
      "metadata": {
        "colab": {
          "base_uri": "https://localhost:8080/"
        },
        "id": "yZpnVQVknUrt",
        "outputId": "c7bf7da4-133a-4f2b-f1ef-34ba4e042e66"
      },
      "source": [
        "classifier(sequence_to_classify, candidate_labels)"
      ],
      "execution_count": 26,
      "outputs": [
        {
          "output_type": "execute_result",
          "data": {
            "text/plain": [
              "{'labels': ['travel', 'dancing', 'cooking'],\n",
              " 'scores': [0.9866883754730225, 0.007197572384029627, 0.006114050280302763],\n",
              " 'sequence': 'I am going to france.'}"
            ]
          },
          "metadata": {},
          "execution_count": 26
        }
      ]
    },
    {
      "cell_type": "code",
      "metadata": {
        "colab": {
          "base_uri": "https://localhost:8080/",
          "height": 142
        },
        "id": "YJwVcaAhnbaV",
        "outputId": "23767120-4f46-4969-8bf5-e4902a61b950"
      },
      "source": [
        "pd.DataFrame(classifier(sequence_to_classify, candidate_labels))"
      ],
      "execution_count": 27,
      "outputs": [
        {
          "output_type": "execute_result",
          "data": {
            "text/html": [
              "<div>\n",
              "<style scoped>\n",
              "    .dataframe tbody tr th:only-of-type {\n",
              "        vertical-align: middle;\n",
              "    }\n",
              "\n",
              "    .dataframe tbody tr th {\n",
              "        vertical-align: top;\n",
              "    }\n",
              "\n",
              "    .dataframe thead th {\n",
              "        text-align: right;\n",
              "    }\n",
              "</style>\n",
              "<table border=\"1\" class=\"dataframe\">\n",
              "  <thead>\n",
              "    <tr style=\"text-align: right;\">\n",
              "      <th></th>\n",
              "      <th>sequence</th>\n",
              "      <th>labels</th>\n",
              "      <th>scores</th>\n",
              "    </tr>\n",
              "  </thead>\n",
              "  <tbody>\n",
              "    <tr>\n",
              "      <th>0</th>\n",
              "      <td>I am going to france.</td>\n",
              "      <td>travel</td>\n",
              "      <td>0.986688</td>\n",
              "    </tr>\n",
              "    <tr>\n",
              "      <th>1</th>\n",
              "      <td>I am going to france.</td>\n",
              "      <td>dancing</td>\n",
              "      <td>0.007198</td>\n",
              "    </tr>\n",
              "    <tr>\n",
              "      <th>2</th>\n",
              "      <td>I am going to france.</td>\n",
              "      <td>cooking</td>\n",
              "      <td>0.006114</td>\n",
              "    </tr>\n",
              "  </tbody>\n",
              "</table>\n",
              "</div>"
            ],
            "text/plain": [
              "                sequence   labels    scores\n",
              "0  I am going to france.   travel  0.986688\n",
              "1  I am going to france.  dancing  0.007198\n",
              "2  I am going to france.  cooking  0.006114"
            ]
          },
          "metadata": {},
          "execution_count": 27
        }
      ]
    },
    {
      "cell_type": "code",
      "metadata": {
        "colab": {
          "base_uri": "https://localhost:8080/",
          "height": 173
        },
        "id": "_B7ofMCLnjKV",
        "outputId": "d6d70b9b-55f9-4d4f-fe8e-c9061711adb9"
      },
      "source": [
        "sequence_to_classify = \"I love to reading books.\"\n",
        "candidate_labels = [\"travel\", \"cooking\", \"dancing\", \"reading\"]\n",
        "pd.DataFrame(classifier(sequence_to_classify, candidate_labels))"
      ],
      "execution_count": 28,
      "outputs": [
        {
          "output_type": "execute_result",
          "data": {
            "text/html": [
              "<div>\n",
              "<style scoped>\n",
              "    .dataframe tbody tr th:only-of-type {\n",
              "        vertical-align: middle;\n",
              "    }\n",
              "\n",
              "    .dataframe tbody tr th {\n",
              "        vertical-align: top;\n",
              "    }\n",
              "\n",
              "    .dataframe thead th {\n",
              "        text-align: right;\n",
              "    }\n",
              "</style>\n",
              "<table border=\"1\" class=\"dataframe\">\n",
              "  <thead>\n",
              "    <tr style=\"text-align: right;\">\n",
              "      <th></th>\n",
              "      <th>sequence</th>\n",
              "      <th>labels</th>\n",
              "      <th>scores</th>\n",
              "    </tr>\n",
              "  </thead>\n",
              "  <tbody>\n",
              "    <tr>\n",
              "      <th>0</th>\n",
              "      <td>I love to reading books.</td>\n",
              "      <td>reading</td>\n",
              "      <td>0.989049</td>\n",
              "    </tr>\n",
              "    <tr>\n",
              "      <th>1</th>\n",
              "      <td>I love to reading books.</td>\n",
              "      <td>travel</td>\n",
              "      <td>0.004614</td>\n",
              "    </tr>\n",
              "    <tr>\n",
              "      <th>2</th>\n",
              "      <td>I love to reading books.</td>\n",
              "      <td>cooking</td>\n",
              "      <td>0.003654</td>\n",
              "    </tr>\n",
              "    <tr>\n",
              "      <th>3</th>\n",
              "      <td>I love to reading books.</td>\n",
              "      <td>dancing</td>\n",
              "      <td>0.002683</td>\n",
              "    </tr>\n",
              "  </tbody>\n",
              "</table>\n",
              "</div>"
            ],
            "text/plain": [
              "                   sequence   labels    scores\n",
              "0  I love to reading books.  reading  0.989049\n",
              "1  I love to reading books.   travel  0.004614\n",
              "2  I love to reading books.  cooking  0.003654\n",
              "3  I love to reading books.  dancing  0.002683"
            ]
          },
          "metadata": {},
          "execution_count": 28
        }
      ]
    },
    {
      "cell_type": "markdown",
      "metadata": {
        "id": "tQtL-xIqn3LL"
      },
      "source": [
        "## Working with benchmarks and datasets"
      ]
    }
  ]
}