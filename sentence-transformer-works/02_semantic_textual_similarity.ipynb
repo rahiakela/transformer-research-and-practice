{
  "nbformat": 4,
  "nbformat_minor": 0,
  "metadata": {
    "colab": {
      "provenance": [],
      "toc_visible": true,
      "authorship_tag": "ABX9TyP7mN9xsUBLIzuy96iOdvkQ",
      "include_colab_link": true
    },
    "kernelspec": {
      "name": "python3",
      "display_name": "Python 3"
    },
    "language_info": {
      "name": "python"
    }
  },
  "cells": [
    {
      "cell_type": "markdown",
      "metadata": {
        "id": "view-in-github",
        "colab_type": "text"
      },
      "source": [
        "<a href=\"https://colab.research.google.com/github/rahiakela/transformers-research-and-practice/blob/main/sentence-transformer-works/02_semantic_textual_similarity.ipynb\" target=\"_parent\"><img src=\"https://colab.research.google.com/assets/colab-badge.svg\" alt=\"Open In Colab\"/></a>"
      ]
    },
    {
      "cell_type": "markdown",
      "source": [
        "##Semantic Textual Similarity"
      ],
      "metadata": {
        "id": "1E6BxiLyy4aD"
      }
    },
    {
      "cell_type": "markdown",
      "source": [
        "**Reference**:\n",
        "\n",
        "[Semantic Textual Similarity](https://www.sbert.net/docs/usage/semantic_textual_similarity.html)"
      ],
      "metadata": {
        "id": "_MzT5_7c6EeW"
      }
    },
    {
      "cell_type": "code",
      "source": [
        "!pip install sentence-transformers"
      ],
      "metadata": {
        "id": "Wd9IMnSyy41F"
      },
      "execution_count": null,
      "outputs": []
    },
    {
      "cell_type": "code",
      "source": [
        "from sentence_transformers import SentenceTransformer, util"
      ],
      "metadata": {
        "id": "0nNQhpQ8zI2v"
      },
      "execution_count": 2,
      "outputs": []
    },
    {
      "cell_type": "markdown",
      "source": [
        "##Computing Sentence Embeddings"
      ],
      "metadata": {
        "id": "kkk0W_6QzFk8"
      }
    },
    {
      "cell_type": "code",
      "source": [
        "model = SentenceTransformer(\"all-MiniLM-L6-v2\")"
      ],
      "metadata": {
        "id": "hvlvXFcxzGNN"
      },
      "execution_count": null,
      "outputs": []
    },
    {
      "cell_type": "code",
      "source": [
        "# Two lists of sentences\n",
        "sentences1 = [\n",
        "    \"The cat sits outside\",\n",
        "    \"A man is playing guitar\",\n",
        "    \"The new movie is awesome\"\n",
        "]\n",
        "sentences2 = [\n",
        "    \"The dog plays in the garden\",\n",
        "    \"A woman watches TV\",\n",
        "    \"The new movie is so great\"\n",
        "]\n",
        "\n",
        "# Compute embedding for both lists\n",
        "embeddings1 = model.encode(sentences1, convert_to_tensor=True)\n",
        "embeddings2 = model.encode(sentences2, convert_to_tensor=True)\n",
        "\n",
        "# Compute cosine-similarities\n",
        "cosine_scores = util.cos_sim(embeddings1, embeddings2)\n",
        "\n",
        "# Output the pairs with their score\n",
        "for i in range(len(sentences1)):\n",
        "  print(f\"{sentences1[i]} > {sentences2[i]} > Score: {cosine_scores[i][i]:.4f}\")"
      ],
      "metadata": {
        "colab": {
          "base_uri": "https://localhost:8080/"
        },
        "id": "fmVBjAfGzPmL",
        "outputId": "ed1bd1c8-3f25-4b0d-8751-4e6b27e6bdb9"
      },
      "execution_count": 8,
      "outputs": [
        {
          "output_type": "stream",
          "name": "stdout",
          "text": [
            "The cat sits outside > The dog plays in the garden > Score: 0.2838\n",
            "A man is playing guitar > A woman watches TV > Score: -0.0327\n",
            "The new movie is awesome > The new movie is so great > Score: 0.8939\n"
          ]
        }
      ]
    },
    {
      "cell_type": "code",
      "source": [
        "embeddings1.shape"
      ],
      "metadata": {
        "colab": {
          "base_uri": "https://localhost:8080/"
        },
        "id": "NhpYXJLW1EB_",
        "outputId": "c8e4ca99-804e-4d04-9046-4d2ec116aa13"
      },
      "execution_count": 9,
      "outputs": [
        {
          "output_type": "execute_result",
          "data": {
            "text/plain": [
              "torch.Size([3, 384])"
            ]
          },
          "metadata": {},
          "execution_count": 9
        }
      ]
    },
    {
      "cell_type": "markdown",
      "source": [
        "Let's find out the pairs with the highest cosine similarity scores."
      ],
      "metadata": {
        "id": "Iq1k51tH42bS"
      }
    },
    {
      "cell_type": "code",
      "source": [
        "# Single list of sentences\n",
        "sentences = [\n",
        "    'The cat sits outside',\n",
        "    'A man is playing guitar',\n",
        "    'I love pasta',\n",
        "    'The new movie is awesome',\n",
        "    'The cat plays in the garden',\n",
        "    'A woman watches TV',\n",
        "    'The new movie is so great',\n",
        "    'Do you like pizza?'\n",
        "]\n",
        "\n",
        "# Compute embedding\n",
        "embeddings = model.encode(sentences, convert_to_tensor=True)\n",
        "\n",
        "# Compute cosine-similarities for each sentence with each other sentence\n",
        "cosine_scores = util.cos_sim(embeddings, embeddings)\n",
        "\n",
        "# Find the pairs with the highest cosine similarity scores\n",
        "pairs = []\n",
        "for i in range(len(cosine_scores) - 1):\n",
        "  for j in range(i + 1, len(cosine_scores)):\n",
        "    pairs.append({\"index\": [i, j], \"score\": cosine_scores[i][j]})\n",
        "\n",
        "# Sort scores in decreasing order\n",
        "pairs = sorted(pairs, key=lambda x: x[\"score\"], reverse=True)\n",
        "for pair in pairs[0:10]:\n",
        "  i, j = pair[\"index\"]\n",
        "  print(f\"{sentences[i]} \\t {sentences[j]} \\t score: {pair['score']:.4f}\")"
      ],
      "metadata": {
        "id": "fZSOySRu5O1X",
        "colab": {
          "base_uri": "https://localhost:8080/"
        },
        "outputId": "eed87981-5e45-4879-9627-7ec9f9142843"
      },
      "execution_count": 11,
      "outputs": [
        {
          "output_type": "stream",
          "name": "stdout",
          "text": [
            "The new movie is awesome \t The new movie is so great \t score: 0.8939\n",
            "The cat sits outside \t The cat plays in the garden \t score: 0.6788\n",
            "I love pasta \t Do you like pizza? \t score: 0.5096\n",
            "I love pasta \t The new movie is so great \t score: 0.2560\n",
            "I love pasta \t The new movie is awesome \t score: 0.2440\n",
            "A man is playing guitar \t The cat plays in the garden \t score: 0.2105\n",
            "The new movie is awesome \t Do you like pizza? \t score: 0.1969\n",
            "The new movie is so great \t Do you like pizza? \t score: 0.1692\n",
            "The cat sits outside \t A woman watches TV \t score: 0.1310\n",
            "The cat plays in the garden \t Do you like pizza? \t score: 0.0900\n"
          ]
        }
      ]
    }
  ]
}