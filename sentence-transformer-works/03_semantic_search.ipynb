{
  "nbformat": 4,
  "nbformat_minor": 0,
  "metadata": {
    "colab": {
      "provenance": [],
      "toc_visible": true,
      "authorship_tag": "ABX9TyMMWhuSpMHQfPecicmBJXI8",
      "include_colab_link": true
    },
    "kernelspec": {
      "name": "python3",
      "display_name": "Python 3"
    },
    "language_info": {
      "name": "python"
    }
  },
  "cells": [
    {
      "cell_type": "markdown",
      "metadata": {
        "id": "view-in-github",
        "colab_type": "text"
      },
      "source": [
        "<a href=\"https://colab.research.google.com/github/rahiakela/transformers-research-and-practice/blob/main/sentence-transformer-works/03_semantic_search.ipynb\" target=\"_parent\"><img src=\"https://colab.research.google.com/assets/colab-badge.svg\" alt=\"Open In Colab\"/></a>"
      ]
    },
    {
      "cell_type": "markdown",
      "source": [
        "##Semantic Search"
      ],
      "metadata": {
        "id": "1E6BxiLyy4aD"
      }
    },
    {
      "cell_type": "markdown",
      "source": [
        "**Reference**:\n",
        "\n",
        "[Semantic Search](https://www.sbert.net/examples/applications/semantic-search/README.html)"
      ],
      "metadata": {
        "id": "_MzT5_7c6EeW"
      }
    },
    {
      "cell_type": "code",
      "source": [
        "!pip install sentence-transformers"
      ],
      "metadata": {
        "id": "Wd9IMnSyy41F"
      },
      "execution_count": null,
      "outputs": []
    },
    {
      "cell_type": "code",
      "source": [
        "from sentence_transformers import SentenceTransformer, util\n",
        "\n",
        "import torch"
      ],
      "metadata": {
        "id": "0nNQhpQ8zI2v"
      },
      "execution_count": 3,
      "outputs": []
    },
    {
      "cell_type": "markdown",
      "source": [
        "##Search"
      ],
      "metadata": {
        "id": "kkk0W_6QzFk8"
      }
    },
    {
      "cell_type": "code",
      "source": [
        "model = SentenceTransformer(\"all-MiniLM-L6-v2\")"
      ],
      "metadata": {
        "id": "hvlvXFcxzGNN"
      },
      "execution_count": null,
      "outputs": []
    },
    {
      "cell_type": "code",
      "source": [
        "# Corpus with example sentences\n",
        "corpus = [\n",
        "    'A man is eating food.',\n",
        "    'A man is eating a piece of bread.',\n",
        "    'The girl is carrying a baby.',\n",
        "    'A man is riding a horse.',\n",
        "    'A woman is playing violin.',\n",
        "    'Two men pushed carts through the woods.',\n",
        "    'A man is riding a white horse on an enclosed ground.',\n",
        "    'A monkey is playing drums.',\n",
        "    'A cheetah is running behind its prey.'\n",
        "]\n",
        "\n",
        "# Compute embedding for both lists\n",
        "corpus_embeddings = model.encode(corpus, convert_to_tensor=True)\n",
        "\n",
        "# Query sentences\n",
        "queries = [\n",
        "    'A man is eating pasta.',\n",
        "    'Someone in a gorilla costume is playing a set of drums.',\n",
        "    'A cheetah chases prey on across a field.'\n",
        "]\n",
        "\n",
        "# Find the closest 5 sentences of the corpus for each query sentence based on cosine similarity\n",
        "top_k = min(5, len(corpus))\n",
        "for query in queries:\n",
        "  query_embedding = model.encode(query, convert_to_tensor=True)\n",
        "  # We use cosine-similarity and torch.topk to find the highest 5 scores\n",
        "  cosine_scores = util.cos_sim(query_embedding, corpus_embeddings)[0]\n",
        "  top_results = torch.topk(cosine_scores, k=top_k)\n",
        "\n",
        "  print(\"\\n\\n======================\\n\\n\")\n",
        "  print(\"Query:\", query)\n",
        "  print(\"\\nTop 5 most similar sentences in corpus:\")\n",
        "\n",
        "  # Output the pairs with their score\n",
        "  for score, idx in zip(top_results[0], top_results[1]):\n",
        "    #print(score, idx)\n",
        "    print(corpus[idx], \"(Score: {:.4f})\".format(score))"
      ],
      "metadata": {
        "colab": {
          "base_uri": "https://localhost:8080/"
        },
        "id": "fmVBjAfGzPmL",
        "outputId": "2f77a2a7-6f0f-4780-fd7b-9340305fcf88"
      },
      "execution_count": 8,
      "outputs": [
        {
          "output_type": "stream",
          "name": "stdout",
          "text": [
            "\n",
            "\n",
            "======================\n",
            "\n",
            "\n",
            "Query: A man is eating pasta.\n",
            "\n",
            "Top 5 most similar sentences in corpus:\n",
            "A man is eating food. (Score: 0.7035)\n",
            "A man is eating a piece of bread. (Score: 0.5272)\n",
            "A man is riding a horse. (Score: 0.1889)\n",
            "A man is riding a white horse on an enclosed ground. (Score: 0.1047)\n",
            "A cheetah is running behind its prey. (Score: 0.0980)\n",
            "\n",
            "\n",
            "======================\n",
            "\n",
            "\n",
            "Query: Someone in a gorilla costume is playing a set of drums.\n",
            "\n",
            "Top 5 most similar sentences in corpus:\n",
            "A monkey is playing drums. (Score: 0.6433)\n",
            "A woman is playing violin. (Score: 0.2564)\n",
            "A man is riding a horse. (Score: 0.1389)\n",
            "A man is riding a white horse on an enclosed ground. (Score: 0.1191)\n",
            "A cheetah is running behind its prey. (Score: 0.1080)\n",
            "\n",
            "\n",
            "======================\n",
            "\n",
            "\n",
            "Query: A cheetah chases prey on across a field.\n",
            "\n",
            "Top 5 most similar sentences in corpus:\n",
            "A cheetah is running behind its prey. (Score: 0.8253)\n",
            "A man is eating food. (Score: 0.1399)\n",
            "A monkey is playing drums. (Score: 0.1292)\n",
            "A man is riding a white horse on an enclosed ground. (Score: 0.1097)\n",
            "A man is riding a horse. (Score: 0.0650)\n"
          ]
        }
      ]
    },
    {
      "cell_type": "markdown",
      "source": [
        "Alternatively, we can also use `util.semantic_search` to perform cosine similarty + topk."
      ],
      "metadata": {
        "id": "Iq1k51tH42bS"
      }
    },
    {
      "cell_type": "code",
      "source": [
        "hits = util.semantic_search(query_embedding, corpus_embeddings, top_k=5)\n",
        "\n",
        "# Get the hits for the first query\n",
        "hits = hits[0]\n",
        "for hit in hits:\n",
        "  print(corpus[hit['corpus_id']], \"(Score: {:.4f})\".format(hit['score']))"
      ],
      "metadata": {
        "id": "fZSOySRu5O1X",
        "colab": {
          "base_uri": "https://localhost:8080/"
        },
        "outputId": "888e21b0-43c0-4d61-8f32-326b0766b46b"
      },
      "execution_count": 9,
      "outputs": [
        {
          "output_type": "stream",
          "name": "stdout",
          "text": [
            "A cheetah is running behind its prey. (Score: 0.8253)\n",
            "A man is eating food. (Score: 0.1399)\n",
            "A monkey is playing drums. (Score: 0.1292)\n",
            "A man is riding a white horse on an enclosed ground. (Score: 0.1097)\n",
            "A man is riding a horse. (Score: 0.0650)\n"
          ]
        }
      ]
    }
  ]
}