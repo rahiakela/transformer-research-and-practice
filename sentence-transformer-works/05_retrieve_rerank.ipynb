{
  "cells": [
    {
      "cell_type": "markdown",
      "metadata": {
        "id": "view-in-github",
        "colab_type": "text"
      },
      "source": [
        "<a href=\"https://colab.research.google.com/github/rahiakela/transformers-research-and-practice/blob/main/sentence-transformer-works/05_retrieve_rerank.ipynb\" target=\"_parent\"><img src=\"https://colab.research.google.com/assets/colab-badge.svg\" alt=\"Open In Colab\"/></a>"
      ]
    },
    {
      "cell_type": "markdown",
      "metadata": {
        "id": "ZyP3dXRfcXLa"
      },
      "source": [
        "## Retrieve & Re-Rank\n",
        "\n",
        "This examples demonstrates the Retrieve & Re-Rank Setup and allows to search over [Simple Wikipedia](https://simple.wikipedia.org/wiki/Main_Page).\n",
        "\n",
        "You can input a query or a question. The script then uses semantic search\n",
        "to find relevant passages in Simple English Wikipedia (as it is smaller and fits better in RAM).\n",
        "\n",
        "For semantic search, we use `SentenceTransformer('multi-qa-MiniLM-L6-cos-v1')` and retrieve\n",
        "32 potentially passages that answer the input query.\n",
        "\n",
        "Next, we use a more powerful CrossEncoder (`cross_encoder = CrossEncoder('cross-encoder/ms-marco-MiniLM-L-6-v2')`) that\n",
        "scores the query and all retrieved passages for their relevancy. The cross-encoder further boost the performance,\n",
        "especially when you search over a corpus for which the bi-encoder was not trained for.\n"
      ]
    },
    {
      "cell_type": "markdown",
      "source": [
        "##Setup"
      ],
      "metadata": {
        "id": "3q0ATDeAHz66"
      }
    },
    {
      "cell_type": "code",
      "execution_count": null,
      "metadata": {
        "id": "X2R9TjVzNV_E"
      },
      "outputs": [],
      "source": [
        "!pip install -U sentence-transformers rank_bm25"
      ]
    },
    {
      "cell_type": "code",
      "execution_count": 2,
      "metadata": {
        "id": "D_hDi8KzNgMM"
      },
      "outputs": [],
      "source": [
        "import json\n",
        "from sentence_transformers import SentenceTransformer, CrossEncoder, util\n",
        "import gzip\n",
        "import os\n",
        "import torch\n",
        "\n",
        "from rank_bm25 import BM25Okapi\n",
        "from sklearn.feature_extraction import _stop_words\n",
        "import string\n",
        "from tqdm.autonotebook import tqdm\n",
        "import numpy as np\n",
        "\n",
        "if not torch.cuda.is_available():\n",
        "    print(\"Warning: No GPU found. Please add GPU to your notebook\")"
      ]
    },
    {
      "cell_type": "markdown",
      "source": [
        "##Pre-trained model"
      ],
      "metadata": {
        "id": "8aXfsBwxH2hh"
      }
    },
    {
      "cell_type": "code",
      "source": [
        "#We use the Bi-Encoder to encode all passages, so that we can use it with sematic search\n",
        "bi_encoder = SentenceTransformer('multi-qa-MiniLM-L6-cos-v1')\n",
        "\n",
        "#The bi-encoder will retrieve 100 documents. We use a cross-encoder, to re-rank the results list to improve the quality\n",
        "cross_encoder = CrossEncoder('cross-encoder/ms-marco-MiniLM-L-6-v2')"
      ],
      "metadata": {
        "id": "VyO8INOBBMPt"
      },
      "execution_count": null,
      "outputs": []
    },
    {
      "cell_type": "markdown",
      "source": [
        "##Dataset"
      ],
      "metadata": {
        "id": "J71UYcBaH507"
      }
    },
    {
      "cell_type": "code",
      "source": [
        "# As dataset, we use Simple English Wikipedia. Compared to the full English wikipedia, it has only\n",
        "# about 170k articles. We split these articles into paragraphs and encode them with the bi-encoder\n",
        "\n",
        "wikipedia_filepath = 'simplewiki-2020-11-01.jsonl.gz'\n",
        "\n",
        "if not os.path.exists(wikipedia_filepath):\n",
        "    util.http_get('http://sbert.net/datasets/simplewiki-2020-11-01.jsonl.gz', wikipedia_filepath)\n",
        "\n",
        "passages = []\n",
        "with gzip.open(wikipedia_filepath, 'rt', encoding='utf8') as fIn:\n",
        "    for line in fIn:\n",
        "        data = json.loads(line.strip())\n",
        "\n",
        "        #Add all paragraphs\n",
        "        #passages.extend(data['paragraphs'])\n",
        "\n",
        "        #Only add the first paragraph\n",
        "        passages.append(data['paragraphs'][0])\n",
        "\n",
        "print(\"Passages:\", len(passages))"
      ],
      "metadata": {
        "id": "SBdBSzPKBgI3",
        "outputId": "ed17a50a-0b0b-401f-a88a-8fb1004231d8",
        "colab": {
          "base_uri": "https://localhost:8080/",
          "height": 66,
          "referenced_widgets": [
            "2f4c6789bb9b49698917b4fcdbe7ff2b",
            "c4fb1b11e51f46629d73affd99337c1b",
            "072c448221ce4c7091a715ac47a66582",
            "8391fe82cf3049b8ae017f24ce7feb8c",
            "2cf58469dd2b4218b57d03d0c0baf103",
            "a7ad2b77a6ab44428b2a4954211915a3",
            "e1840cad201e4a1fba632db15fcc8a07",
            "803780312b574c00bae04a46bb540dc5",
            "2f5cfe9ea313402daad4699b9231352e",
            "4c226443ebf641aebde53647ad4209f0",
            "46e583f2feec41dc8fd07f6922a81123"
          ]
        }
      },
      "execution_count": 4,
      "outputs": [
        {
          "output_type": "display_data",
          "data": {
            "text/plain": [
              "  0%|          | 0.00/50.2M [00:00<?, ?B/s]"
            ],
            "application/vnd.jupyter.widget-view+json": {
              "version_major": 2,
              "version_minor": 0,
              "model_id": "2f4c6789bb9b49698917b4fcdbe7ff2b"
            }
          },
          "metadata": {}
        },
        {
          "output_type": "stream",
          "name": "stdout",
          "text": [
            "Passages: 169597\n"
          ]
        }
      ]
    },
    {
      "cell_type": "code",
      "source": [
        "passages[1]"
      ],
      "metadata": {
        "id": "rrArjpfjCB1_",
        "outputId": "074bb66e-2bf7-4f7b-fbf8-d1b698e8fbed",
        "colab": {
          "base_uri": "https://localhost:8080/",
          "height": 87
        }
      },
      "execution_count": 6,
      "outputs": [
        {
          "output_type": "execute_result",
          "data": {
            "text/plain": [
              "'Aileen Carol Wuornos Pralle (born Aileen Carol Pittman; February 29, 1956\\xa0– October 9, 2002) was an American serial killer. She was born in Rochester, Michigan. She confessed to killing six men in Florida and was executed in Florida State Prison by lethal injection for the murders. Wuornos said that the men she killed had raped her or tried to rape her while she was working as a prostitute.'"
            ],
            "application/vnd.google.colaboratory.intrinsic+json": {
              "type": "string"
            }
          },
          "metadata": {},
          "execution_count": 6
        }
      ]
    },
    {
      "cell_type": "markdown",
      "source": [
        "##Encoding"
      ],
      "metadata": {
        "id": "Rl3GsgR7H_Vv"
      }
    },
    {
      "cell_type": "code",
      "source": [
        "# We encode all passages into our vector space. This takes about 5 minutes (depends on your GPU speed)\n",
        "corpus_embeddings = bi_encoder.encode(passages, convert_to_tensor=True, show_progress_bar=True)"
      ],
      "metadata": {
        "id": "N8IXNUJTB-Ck",
        "outputId": "013290ab-bb58-4b60-d040-40ef1e4240dd",
        "colab": {
          "base_uri": "https://localhost:8080/",
          "height": 49,
          "referenced_widgets": [
            "72768a5573034e81b190efbbaaf4d81e",
            "eef8f28bc38a440da382598a5cc1d50a",
            "3729bee669a24707bdbda041104ad5c9",
            "ed3c82df89eb474aac425b3176802f3f",
            "6405a689df7f41c6973a239bd497d786",
            "ba179b52e9e04fc99e7301e0ca0c94ec",
            "2d0e59e130cc461298c1ff158e8228d4",
            "a6ce7af2aa274a12b62b9b8b77b0b886",
            "fdd4b8f82444467780d7ea5f91456084",
            "449dd345a5f149e596a9c5e521069705",
            "0b7087be3bed4f599b40e905c535bcd7"
          ]
        }
      },
      "execution_count": 7,
      "outputs": [
        {
          "output_type": "display_data",
          "data": {
            "text/plain": [
              "Batches:   0%|          | 0/5300 [00:00<?, ?it/s]"
            ],
            "application/vnd.jupyter.widget-view+json": {
              "version_major": 2,
              "version_minor": 0,
              "model_id": "72768a5573034e81b190efbbaaf4d81e"
            }
          },
          "metadata": {}
        }
      ]
    },
    {
      "cell_type": "code",
      "source": [
        "bi_encoder.max_seq_length = 256     #Truncate long passages to 256 tokens\n",
        "top_k = 32                          #Number of passages we want to retrieve with the bi-encoder"
      ],
      "metadata": {
        "id": "ZYWhGTdUBdBA"
      },
      "execution_count": 8,
      "outputs": []
    },
    {
      "cell_type": "code",
      "execution_count": 9,
      "metadata": {
        "colab": {
          "base_uri": "https://localhost:8080/",
          "height": 49,
          "referenced_widgets": [
            "92c0b64dad824575b8b891e2abc12435",
            "b465dcd77f5a4dd6b88359b5330d8b03",
            "ea4daff448c34bd68590d5afa2589534",
            "dd1329a4f9d84afab2b90c91d3c8bce5",
            "c63bd28f242543c4bc6ad88411d155dc",
            "fb6ce6667f714310b0992b9fd165a3c3",
            "695b364230484f1bac54f8e649ded907",
            "ebf07dc0ae6f42fd8a4825b0bc061dbb",
            "86be14b7c5674087a0ed94adc8a8da0e",
            "6b14ab42c417473d842437cfb96fc1a1",
            "ceb648123a8e4d46bf599e86bce66cc0"
          ]
        },
        "id": "0rueR6ovrs01",
        "outputId": "b70e9a7f-7b65-4fea-ae19-16f2ae8c5ceb"
      },
      "outputs": [
        {
          "output_type": "display_data",
          "data": {
            "text/plain": [
              "  0%|          | 0/169597 [00:00<?, ?it/s]"
            ],
            "application/vnd.jupyter.widget-view+json": {
              "version_major": 2,
              "version_minor": 0,
              "model_id": "92c0b64dad824575b8b891e2abc12435"
            }
          },
          "metadata": {}
        }
      ],
      "source": [
        "# We also compare the results to lexical search (keyword search). Here, we use\n",
        "# the BM25 algorithm which is implemented in the rank_bm25 package.\n",
        "\n",
        "\n",
        "# We lower case our text and remove stop-words from indexing\n",
        "def bm25_tokenizer(text):\n",
        "    tokenized_doc = []\n",
        "    for token in text.lower().split():\n",
        "        token = token.strip(string.punctuation)\n",
        "\n",
        "        if len(token) > 0 and token not in _stop_words.ENGLISH_STOP_WORDS:\n",
        "            tokenized_doc.append(token)\n",
        "    return tokenized_doc\n",
        "\n",
        "\n",
        "tokenized_corpus = []\n",
        "for passage in tqdm(passages):\n",
        "    tokenized_corpus.append(bm25_tokenizer(passage))\n",
        "\n",
        "bm25 = BM25Okapi(tokenized_corpus)"
      ]
    },
    {
      "cell_type": "markdown",
      "source": [
        "##Search"
      ],
      "metadata": {
        "id": "Mgg4CIF0IDnB"
      }
    },
    {
      "cell_type": "code",
      "execution_count": 10,
      "metadata": {
        "id": "UlArb7kqN3Re"
      },
      "outputs": [],
      "source": [
        "# This function will search all wikipedia articles for passages that answer the query\n",
        "def lexical_search(query):\n",
        "    print(\"Input question:\", query)\n",
        "\n",
        "    ##### BM25 search (lexical search) #####\n",
        "    bm25_scores = bm25.get_scores(bm25_tokenizer(query))\n",
        "    top_n = np.argpartition(bm25_scores, -5)[-5:]\n",
        "    bm25_hits = [{'corpus_id': idx, 'score': bm25_scores[idx]} for idx in top_n]\n",
        "    bm25_hits = sorted(bm25_hits, key=lambda x: x['score'], reverse=True)\n",
        "\n",
        "    print(\"Top-3 lexical search (BM25) hits\")\n",
        "    for hit in bm25_hits[0:3]:\n",
        "        print(\"\\t{:.3f}\\t{}\".format(hit['score'], passages[hit['corpus_id']].replace(\"\\n\", \" \")))\n",
        "\n",
        "def sematic_search(query):\n",
        "    print(\"Input question:\", query)\n",
        "\n",
        "    ##### Sematic Search #####\n",
        "    # Encode the query using the bi-encoder and find potentially relevant passages\n",
        "    question_embedding = bi_encoder.encode(query, convert_to_tensor=True)\n",
        "    question_embedding = question_embedding.cuda()\n",
        "    hits = util.semantic_search(question_embedding, corpus_embeddings, top_k=top_k)\n",
        "    hits = hits[0]  # Get the hits for the first query\n",
        "\n",
        "    # Output of top-5 hits from bi-encoder\n",
        "    print(\"\\n-------------------------\\n\")\n",
        "    print(\"Top-3 Bi-Encoder Retrieval hits\")\n",
        "    hits = sorted(hits, key=lambda x: x['score'], reverse=True)\n",
        "    for hit in hits[0:3]:\n",
        "        print(\"\\t{:.3f}\\t{}\".format(hit['score'], passages[hit['corpus_id']].replace(\"\\n\", \" \")))\n",
        "\n",
        "\n",
        "def ranking_search(query):\n",
        "    print(\"Input question:\", query)\n",
        "\n",
        "    ##### Sematic Search #####\n",
        "    # Encode the query using the bi-encoder and find potentially relevant passages\n",
        "    question_embedding = bi_encoder.encode(query, convert_to_tensor=True)\n",
        "    question_embedding = question_embedding.cuda()\n",
        "    hits = util.semantic_search(question_embedding, corpus_embeddings, top_k=top_k)\n",
        "    hits = hits[0]  # Get the hits for the first query\n",
        "\n",
        "    ##### Re-Ranking #####\n",
        "    # Now, score all retrieved passages with the cross_encoder\n",
        "    cross_inp = [[query, passages[hit['corpus_id']]] for hit in hits]\n",
        "    cross_scores = cross_encoder.predict(cross_inp)\n",
        "\n",
        "    # Sort results by the cross-encoder scores\n",
        "    for idx in range(len(cross_scores)):\n",
        "        hits[idx]['cross-score'] = cross_scores[idx]\n",
        "\n",
        "    # Output of top-5 hits from re-ranker\n",
        "    print(\"\\n-------------------------\\n\")\n",
        "    print(\"Top-3 Cross-Encoder Re-ranker hits\")\n",
        "    hits = sorted(hits, key=lambda x: x['cross-score'], reverse=True)\n",
        "    for hit in hits[0:3]:\n",
        "        print(\"\\t{:.3f}\\t{}\".format(hit['cross-score'], passages[hit['corpus_id']].replace(\"\\n\", \" \")))"
      ]
    },
    {
      "cell_type": "markdown",
      "source": [
        "```log\n",
        "Input question: What is the capital of the United States?\n",
        "Top-3 lexical search (BM25) hits\n",
        "\t13.316\tCapital punishment (the death penalty) has existed in the United States since before the United States was a country. As of 2017, capital punishment is legal in 30 of the 50 states. The federal government (including the United States military) also uses capital punishment.\n",
        "\t11.434\tOhio is one of the 50 states in the United States. Its capital is Columbus. Columbus also is the largest city in Ohio.\n",
        "\t11.179\tNevada is one of the United States' states. Its capital is Carson City. Other big cities are Las Vegas and Reno.\n",
        "\n",
        "-------------------------\n",
        "\n",
        "Top-3 Bi-Encoder Retrieval hits\n",
        "\t0.622\tCities in the United States:\n",
        "\t0.597\tThe United States Capitol is the building where the United States Congress meets. It is the center of the legislative branch of the U.S. federal government. It is in Washington, D.C., on top of Capitol Hill at the east end of the National Mall.\n",
        "\t0.596\tIn the United States:\n",
        "\n",
        "-------------------------\n",
        "\n",
        "Top-3 Cross-Encoder Re-ranker hits\n",
        "\t8.906\tWashington, D.C. (also known as simply Washington or D.C., and officially as the District of Columbia) is the capital of the United States. It is a federal district. The President of the USA and many major national government offices are in the territory. This makes it the political center of the United States of America.\n",
        "\t3.755\tA capital city (or capital town or just capital) is a city or town, specified by law or constitution, by the government of a country, or part of a country, such as a state, province or county. It usually serves as the location of the government's central meeting place and offices. Most of the country's leaders and officials work in the capital city.\n",
        "\t3.681\tThe United States Capitol is the building where the United States Congress meets. It is the center of the legislative branch of the U.S. federal government. It is in Washington, D.C., on top of Capitol Hill at the east end of the National Mall.\n",
        "```"
      ],
      "metadata": {
        "id": "9ttyNVHSEReM"
      }
    },
    {
      "cell_type": "code",
      "execution_count": 11,
      "metadata": {
        "colab": {
          "base_uri": "https://localhost:8080/"
        },
        "id": "2J0Zxgw0artg",
        "outputId": "35749784-54d7-4ce6-d2e4-37f1423e8de5"
      },
      "outputs": [
        {
          "output_type": "stream",
          "name": "stdout",
          "text": [
            "Input question: What is the capital of the United States?\n",
            "Top-3 lexical search (BM25) hits\n",
            "\t13.316\tCapital punishment (the death penalty) has existed in the United States since before the United States was a country. As of 2017, capital punishment is legal in 30 of the 50 states. The federal government (including the United States military) also uses capital punishment.\n",
            "\t11.434\tOhio is one of the 50 states in the United States. Its capital is Columbus. Columbus also is the largest city in Ohio.\n",
            "\t11.179\tNevada is one of the United States' states. Its capital is Carson City. Other big cities are Las Vegas and Reno.\n"
          ]
        }
      ],
      "source": [
        "lexical_search(query = \"What is the capital of the United States?\")"
      ]
    },
    {
      "cell_type": "code",
      "source": [
        "sematic_search(query = \"What is the capital of the United States?\")"
      ],
      "metadata": {
        "id": "pG2eKYFvCsJg",
        "outputId": "f975f350-da38-4b70-dec5-df5006a99fca",
        "colab": {
          "base_uri": "https://localhost:8080/"
        }
      },
      "execution_count": 12,
      "outputs": [
        {
          "output_type": "stream",
          "name": "stdout",
          "text": [
            "Input question: What is the capital of the United States?\n",
            "\n",
            "-------------------------\n",
            "\n",
            "Top-3 Bi-Encoder Retrieval hits\n",
            "\t0.622\tCities in the United States:\n",
            "\t0.597\tThe United States Capitol is the building where the United States Congress meets. It is the center of the legislative branch of the U.S. federal government. It is in Washington, D.C., on top of Capitol Hill at the east end of the National Mall.\n",
            "\t0.596\tIn the United States:\n"
          ]
        }
      ]
    },
    {
      "cell_type": "code",
      "source": [
        "ranking_search(query = \"What is the capital of the United States?\")"
      ],
      "metadata": {
        "id": "bvzTv5lhDzqi",
        "outputId": "4d8f223b-a362-4ae7-e424-f34bb553bc61",
        "colab": {
          "base_uri": "https://localhost:8080/"
        }
      },
      "execution_count": 13,
      "outputs": [
        {
          "output_type": "stream",
          "name": "stdout",
          "text": [
            "Input question: What is the capital of the United States?\n",
            "\n",
            "-------------------------\n",
            "\n",
            "Top-3 Cross-Encoder Re-ranker hits\n",
            "\t8.906\tWashington, D.C. (also known as simply Washington or D.C., and officially as the District of Columbia) is the capital of the United States. It is a federal district. The President of the USA and many major national government offices are in the territory. This makes it the political center of the United States of America.\n",
            "\t3.755\tA capital city (or capital town or just capital) is a city or town, specified by law or constitution, by the government of a country, or part of a country, such as a state, province or county. It usually serves as the location of the government's central meeting place and offices. Most of the country's leaders and officials work in the capital city.\n",
            "\t3.681\tThe United States Capitol is the building where the United States Congress meets. It is the center of the legislative branch of the U.S. federal government. It is in Washington, D.C., on top of Capitol Hill at the east end of the National Mall.\n"
          ]
        }
      ]
    },
    {
      "cell_type": "markdown",
      "source": [
        "```log\n",
        "Input question: What is the best orchestra in the world?\n",
        "Top-3 lexical search (BM25) hits\n",
        "\t15.328\tThe BBC Symphony Orchestra is the main orchestra of the British Broadcasting Corporation. It is one of the best orchestras in Britain.\n",
        "\t15.320\tThe NHK Symphony Orchestra is a Japanese orchestra based in Tokyo, Japan. In Japanese it is written: NHK交響楽団, pronounced: Enueichikei Kōkyō Gakudan. When the orchestra was started in 1926 it was called \"New Symphony Orchestra\". It was the first large professional orchestra in Japan. Later, it changed its name to \"Japan Symphony Orchestra\". In 1951 it started to get money from the Japanese radio station NHK (Nippon Hōsō Kyōkai), so it changed its name again to the name it has now. It is thought of as the best orchestra in Japan. They have played in many parts of the world, including at the BBC Proms in London.\n",
        "\t14.079\tThe Bamberger Symphoniker (Bamberg Symphony Orchestra) is a world-famous orchestra from the city of Bamberg, Germany. It was formed in 1946. Most of the musicians who formed the orchestra were Germans who had been forced to leave Czechoslovakia after the World War II. Most of them had previously been members of the German Philharmonic Orchestra of Prague.\n",
        "\n",
        "-------------------------\n",
        "\n",
        "Top-3 Bi-Encoder Retrieval hits\n",
        "\t0.701\tThe Vienna Philharmonic (in German: die Wiener Philharmoniker) is an orchestra based in Vienna, Austria. It is thought of as one of the greatest orchestras in the world.\n",
        "\t0.641\tThe Vienna Symphony () is an orchestra in Vienna, Austria.\n",
        "\t0.640\tThe Berlin Philharmonic (in German: Die Berliner Philharmoniker), is an orchestra from Berlin, Germany. It is one of the greatest orchestras in the world. The conductor of the orchestra is Sir Simon Rattle.\n",
        "\n",
        "-------------------------\n",
        "\n",
        "Top-3 Cross-Encoder Re-ranker hits\n",
        "\t5.952\tThe London Symphony Orchestra (LSO) is one of the most famous orchestras of the world. They are based in London's Barbican Centre, but they often tour to lots of different countries.\n",
        "\t5.794\tThe Vienna Philharmonic (in German: die Wiener Philharmoniker) is an orchestra based in Vienna, Austria. It is thought of as one of the greatest orchestras in the world.\n",
        "\t5.324\tThe Berlin Philharmonic (in German: Die Berliner Philharmoniker), is an orchestra from Berlin, Germany. It is one of the greatest orchestras in the world. The conductor of the orchestra is Sir Simon Rattle.\n",
        "```"
      ],
      "metadata": {
        "id": "pKcotbZIEaXR"
      }
    },
    {
      "cell_type": "code",
      "execution_count": 14,
      "metadata": {
        "colab": {
          "base_uri": "https://localhost:8080/"
        },
        "id": "WawjqQBJa3FP",
        "outputId": "3d4b0505-f2d8-4baf-a7d3-da7197b1fe9a"
      },
      "outputs": [
        {
          "output_type": "stream",
          "name": "stdout",
          "text": [
            "Input question: What is the best orchestra in the world?\n",
            "Top-3 lexical search (BM25) hits\n",
            "\t15.328\tThe BBC Symphony Orchestra is the main orchestra of the British Broadcasting Corporation. It is one of the best orchestras in Britain.\n",
            "\t15.320\tThe NHK Symphony Orchestra is a Japanese orchestra based in Tokyo, Japan. In Japanese it is written: NHK交響楽団, pronounced: Enueichikei Kōkyō Gakudan. When the orchestra was started in 1926 it was called \"New Symphony Orchestra\". It was the first large professional orchestra in Japan. Later, it changed its name to \"Japan Symphony Orchestra\". In 1951 it started to get money from the Japanese radio station NHK (Nippon Hōsō Kyōkai), so it changed its name again to the name it has now. It is thought of as the best orchestra in Japan. They have played in many parts of the world, including at the BBC Proms in London.\n",
            "\t14.079\tThe Bamberger Symphoniker (Bamberg Symphony Orchestra) is a world-famous orchestra from the city of Bamberg, Germany. It was formed in 1946. Most of the musicians who formed the orchestra were Germans who had been forced to leave Czechoslovakia after the World War II. Most of them had previously been members of the German Philharmonic Orchestra of Prague.\n"
          ]
        }
      ],
      "source": [
        "lexical_search(query = \"What is the best orchestra in the world?\")"
      ]
    },
    {
      "cell_type": "code",
      "source": [
        "sematic_search(query = \"What is the best orchestra in the world?\")"
      ],
      "metadata": {
        "id": "vZ6vpmCeEn9u",
        "outputId": "487d97f4-0d65-4aa1-a571-6c06fea89fe7",
        "colab": {
          "base_uri": "https://localhost:8080/"
        }
      },
      "execution_count": 15,
      "outputs": [
        {
          "output_type": "stream",
          "name": "stdout",
          "text": [
            "Input question: What is the best orchestra in the world?\n",
            "\n",
            "-------------------------\n",
            "\n",
            "Top-3 Bi-Encoder Retrieval hits\n",
            "\t0.701\tThe Vienna Philharmonic (in German: die Wiener Philharmoniker) is an orchestra based in Vienna, Austria. It is thought of as one of the greatest orchestras in the world.\n",
            "\t0.641\tThe Vienna Symphony () is an orchestra in Vienna, Austria.\n",
            "\t0.640\tThe Berlin Philharmonic (in German: Die Berliner Philharmoniker), is an orchestra from Berlin, Germany. It is one of the greatest orchestras in the world. The conductor of the orchestra is Sir Simon Rattle.\n"
          ]
        }
      ]
    },
    {
      "cell_type": "code",
      "source": [
        "ranking_search(query = \"What is the best orchestra in the world?\")"
      ],
      "metadata": {
        "id": "hbK6kpoYEo8C",
        "outputId": "f30affdd-259f-48a2-84ca-de053fea5f48",
        "colab": {
          "base_uri": "https://localhost:8080/"
        }
      },
      "execution_count": 16,
      "outputs": [
        {
          "output_type": "stream",
          "name": "stdout",
          "text": [
            "Input question: What is the best orchestra in the world?\n",
            "\n",
            "-------------------------\n",
            "\n",
            "Top-3 Cross-Encoder Re-ranker hits\n",
            "\t5.952\tThe London Symphony Orchestra (LSO) is one of the most famous orchestras of the world. They are based in London's Barbican Centre, but they often tour to lots of different countries.\n",
            "\t5.794\tThe Vienna Philharmonic (in German: die Wiener Philharmoniker) is an orchestra based in Vienna, Austria. It is thought of as one of the greatest orchestras in the world.\n",
            "\t5.324\tThe Berlin Philharmonic (in German: Die Berliner Philharmoniker), is an orchestra from Berlin, Germany. It is one of the greatest orchestras in the world. The conductor of the orchestra is Sir Simon Rattle.\n"
          ]
        }
      ]
    },
    {
      "cell_type": "code",
      "source": [
        "# This function will search all wikipedia articles for passages that\n",
        "# answer the query\n",
        "def search(query):\n",
        "    print(\"Input question:\", query)\n",
        "\n",
        "    ##### BM25 search (lexical search) #####\n",
        "    bm25_scores = bm25.get_scores(bm25_tokenizer(query))\n",
        "    top_n = np.argpartition(bm25_scores, -5)[-5:]\n",
        "    bm25_hits = [{'corpus_id': idx, 'score': bm25_scores[idx]} for idx in top_n]\n",
        "    bm25_hits = sorted(bm25_hits, key=lambda x: x['score'], reverse=True)\n",
        "\n",
        "    print(\"Top-3 lexical search (BM25) hits\")\n",
        "    for hit in bm25_hits[0:3]:\n",
        "        print(\"\\t{:.3f}\\t{}\".format(hit['score'], passages[hit['corpus_id']].replace(\"\\n\", \" \")))\n",
        "\n",
        "    ##### Sematic Search #####\n",
        "    # Encode the query using the bi-encoder and find potentially relevant passages\n",
        "    question_embedding = bi_encoder.encode(query, convert_to_tensor=True)\n",
        "    question_embedding = question_embedding.cuda()\n",
        "    hits = util.semantic_search(question_embedding, corpus_embeddings, top_k=top_k)\n",
        "    hits = hits[0]  # Get the hits for the first query\n",
        "\n",
        "    ##### Re-Ranking #####\n",
        "    # Now, score all retrieved passages with the cross_encoder\n",
        "    cross_inp = [[query, passages[hit['corpus_id']]] for hit in hits]\n",
        "    cross_scores = cross_encoder.predict(cross_inp)\n",
        "\n",
        "    # Sort results by the cross-encoder scores\n",
        "    for idx in range(len(cross_scores)):\n",
        "        hits[idx]['cross-score'] = cross_scores[idx]\n",
        "\n",
        "    # Output of top-5 hits from bi-encoder\n",
        "    print(\"\\n-------------------------\\n\")\n",
        "    print(\"Top-3 Bi-Encoder Retrieval hits\")\n",
        "    hits = sorted(hits, key=lambda x: x['score'], reverse=True)\n",
        "    for hit in hits[0:3]:\n",
        "        print(\"\\t{:.3f}\\t{}\".format(hit['score'], passages[hit['corpus_id']].replace(\"\\n\", \" \")))\n",
        "\n",
        "    # Output of top-5 hits from re-ranker\n",
        "    print(\"\\n-------------------------\\n\")\n",
        "    print(\"Top-3 Cross-Encoder Re-ranker hits\")\n",
        "    hits = sorted(hits, key=lambda x: x['cross-score'], reverse=True)\n",
        "    for hit in hits[0:3]:\n",
        "        print(\"\\t{:.3f}\\t{}\".format(hit['cross-score'], passages[hit['corpus_id']].replace(\"\\n\", \" \")))\n"
      ],
      "metadata": {
        "id": "8zVzch31E-_N"
      },
      "execution_count": 17,
      "outputs": []
    },
    {
      "cell_type": "code",
      "execution_count": 18,
      "metadata": {
        "colab": {
          "base_uri": "https://localhost:8080/"
        },
        "id": "Ei9Q1roSa9GE",
        "outputId": "a637c379-f561-432f-96da-fbd92e867a81"
      },
      "outputs": [
        {
          "output_type": "stream",
          "name": "stdout",
          "text": [
            "Input question: Number countries Europe\n",
            "Top-3 lexical search (BM25) hits\n",
            "\t13.795\tAmy MacDonald is a Scottish singer and songwriter. She became famous in 2007 with her first album \"This Is The Life\" and her first single \"Poison Prince\". She has become even more successful in Europe since her single \"This Is The Life\" charted at number 1 in many European countries.\n",
            "\t13.758\tThe Croatian language is spoken mainly throughout the countries of Croatia and Bosnia and Herzegovina and in the surrounding countries of Europe.\n",
            "\t13.019\tOrganization for Security and Co-operation in Europe (OSCE) is an international organization for peace and human rights. Presently, it has 57 countries as its members. Most of the member countries of the OSCE are from Europe, the Caucasus, Central Asia and North America.\n",
            "\n",
            "-------------------------\n",
            "\n",
            "Top-3 Bi-Encoder Retrieval hits\n",
            "\t0.538\tThe Council of Europe (, ) is an international organization of 47 member states in the European region. One of its first successes was the European Convention on Human Rights in 1950, which serves as the basis for the European Court of Human Rights.\n",
            "\t0.531\tEngland is a country in Europe. It is a country with over sixty cities in it. It is in a union with Scotland, Wales and Northern Ireland. All four countries are in the British Isles and are part of the United Kingdom (UK).\n",
            "\t0.507\tEurope is a Swedish rock band. The band was started by Joey Tempest and John Norum in 1979. Their song \"The Final Countdown\" was a big hit in 1986.\n",
            "\n",
            "-------------------------\n",
            "\n",
            "Top-3 Cross-Encoder Re-ranker hits\n",
            "\t5.199\tThe European Union (abbreviation: EU) is a confederation of 27 member countries in Europe established by the Maastricht Treaty in 1992-1993. The EU grew out of the European Economic Community (EEC) which was established by the Treaties of Rome in 1957. It has created a common economic area with Europe-wide laws allowing the citizens of EU countries to move and trade in other EU countries almost the same as they do in their own. Nineteen of these countries also share the same type of money: the euro.\n",
            "\t3.202\tA European Union member state is any one of the twenty-seven countries that have joined the European Union (EU) since it was found in 1958 as the European Economic Community (EEC). From an original membership of six states, there have been five successive enlargements. The largest happened on 1 May 2004, when ten member states joined.\n",
            "\t2.798\tThe Schengen Area is an area that includes 26 European countries. All of those countries have signed the Schengen Agreement in Schengen, Luxembourg in 1985.\n"
          ]
        }
      ],
      "source": [
        "search(query = \"Number countries Europe\")"
      ]
    },
    {
      "cell_type": "code",
      "execution_count": 19,
      "metadata": {
        "colab": {
          "base_uri": "https://localhost:8080/"
        },
        "id": "YVQyKpIjbSdC",
        "outputId": "3eb87db0-849c-4608-ca28-862d4fb14199"
      },
      "outputs": [
        {
          "output_type": "stream",
          "name": "stdout",
          "text": [
            "Input question: When did the cold war end?\n",
            "Top-3 lexical search (BM25) hits\n",
            "\t17.374\tThe Cold War was the tense relationship between the United States (and its allies), and the Soviet Union (the USSR and its allies) between the end of World War II and the fall of the Soviet Union. It is called the \"Cold\" War because the US and the USSR never actually fought each other directly. Instead, they opposed each other in conflicts known as proxy wars, where each country chose a side to support.\n",
            "\t17.291\tThe Reagan Doctrine was a document by the United States under the Reagan Administration. It was about being against the global influence of the Soviet Union during the final years of the Cold War. The doctrine lasted for less than a decade, it was the most important document of United States foreign policy from the early 1980s until the end of the Cold War in 1991.\n",
            "\t15.420\tCold Norton is a village and civil parish in Maldon District, Essex, England. In 2001 there were 1103 people living in Cold Norton. Cold Norton is at the south-east end of the Danbury Ridge.\n",
            "\n",
            "-------------------------\n",
            "\n",
            "Top-3 Bi-Encoder Retrieval hits\n",
            "\t0.613\tThe Cold War was the tense relationship between the United States (and its allies), and the Soviet Union (the USSR and its allies) between the end of World War II and the fall of the Soviet Union. It is called the \"Cold\" War because the US and the USSR never actually fought each other directly. Instead, they opposed each other in conflicts known as proxy wars, where each country chose a side to support.\n",
            "\t0.557\tThe Continuation War was a war between Finland and the Soviet Union. It was fought between June 25, 1941 and September 19, 1944. It continued the Winter War. Nazi Germany helped Finland as part of the Eastern Front (World War II). The ceasefire started on September 4 at 7.00 am in the Finnish side. The Soviet Union's ceasefire started on September 5. The first peace treaty was signed on September 19 and the final one on February 10, 1947 in Paris.\n",
            "\t0.548\tThe Winter War (30 November 1939 - 13 March 1940) was a conflict fought between the Soviet Union and Finland. It began when the Soviet Union tried to invade Finland soon after the Invasion of Poland. The Soviet military forces expected a victory over Finland in a few weeks, because the Soviet army had many more tanks and planes than the Finnish army.\n",
            "\n",
            "-------------------------\n",
            "\n",
            "Top-3 Cross-Encoder Re-ranker hits\n",
            "\t5.203\tThe Cold War was the tense relationship between the United States (and its allies), and the Soviet Union (the USSR and its allies) between the end of World War II and the fall of the Soviet Union. It is called the \"Cold\" War because the US and the USSR never actually fought each other directly. Instead, they opposed each other in conflicts known as proxy wars, where each country chose a side to support.\n",
            "\t2.531\tA speech was made by American President Harry S. Truman to the U.S. Congress on 12 March 1947. In this speech he said he thought that The United States should help Greece and Turkey to stop them being 'Totalitarianists' although he meant Soviet Communism. This became known as the Truman Doctrine. Some Historians believe that this was the start of the Cold War.\n",
            "\t2.079\tThe Sino-Soviet split (1960–1989) was a time when the relations between the People's Republic of China and the Soviet Union weakened during the Cold War. Eventually, China's leader, Mao Zedong, decided to break the alliance with the Soviet Union.\n"
          ]
        }
      ],
      "source": [
        "search(query = \"When did the cold war end?\")"
      ]
    },
    {
      "cell_type": "code",
      "execution_count": 20,
      "metadata": {
        "colab": {
          "base_uri": "https://localhost:8080/"
        },
        "id": "iVomHSSsbcut",
        "outputId": "62d84e39-d63e-455b-b792-9fbb3ce76a25"
      },
      "outputs": [
        {
          "output_type": "stream",
          "name": "stdout",
          "text": [
            "Input question: How long do cats live?\n",
            "Top-3 lexical search (BM25) hits\n",
            "\t22.997\tReliable information on the lifespans of house cats is hard to find. However, research has been done to get an estimate (an educated guess) on how long cats usually live. Cats usually live for 13 to 20 years. Sometimes cats can live for 22 to 30 years but there are claims of cats dying at ages of more than 30 years old.\n",
            "\t16.974\tThe sabertoothed cats or sabretooth cats are some of the best known and most popular extinct animals. They are among the most impressive carnivores that ever have lived. These cats had long canines and jaws which opened wider than modern cats. This suggests a different style of killing from modern felines.\n",
            "\t16.490\tThe Cyprus cat is a breed of cat. These cats are thought to have first come from ancient Egypt or Palestine. They were brought to the island of Cyprus by St. Helen. These are now common domestic cats that live in homes or outside. Many of these cats still live all over Cyprus. But, a large number are now feral. This means they are not tame and they run wild.\n",
            "\n",
            "-------------------------\n",
            "\n",
            "Top-3 Bi-Encoder Retrieval hits\n",
            "\t0.765\tReliable information on the lifespans of house cats is hard to find. However, research has been done to get an estimate (an educated guess) on how long cats usually live. Cats usually live for 13 to 20 years. Sometimes cats can live for 22 to 30 years but there are claims of cats dying at ages of more than 30 years old.\n",
            "\t0.531\tCreme Puff (August 3, 1967 - August 10, 2005) was a female cat who died in 2005 at the age of 38. She was the oldest cat ever recorded, according to the 2010 edition of \"Guinness World Records\".\n",
            "\t0.508\tThe cat righting reflex is a cat's natural ability to turn itself around as it falls so it will land on its feet. This righting reflex starts to happen at 3–4 weeks of age. The cat has entirely learned how to do this by 6–7 weeks. Cats are able to do this because they have a flexible backbone and a clavicle that does not move. The minimum height needed for this to happen safely in most cats is about 12 inches.\n",
            "\n",
            "-------------------------\n",
            "\n",
            "Top-3 Cross-Encoder Re-ranker hits\n",
            "\t10.431\tReliable information on the lifespans of house cats is hard to find. However, research has been done to get an estimate (an educated guess) on how long cats usually live. Cats usually live for 13 to 20 years. Sometimes cats can live for 22 to 30 years but there are claims of cats dying at ages of more than 30 years old.\n",
            "\t2.998\tThe sand cat (\"Felis margarita\") is a small wild cat in the Felinae subfamily. It is distributed over African and Asian deserts. Sometimes people call it \"desert cat,\" but that is really the name of a different animal. The sand cat does live in deserts, even the Sahara and Arabian Desert. It is also found in Iran and Pakistan. In zoos, this cat can live for up to 13 years.\n",
            "\t2.348\tBobcat (\"Lynx rufus\") are fierce cats that live in forests, swamps, mountains, prairie, and deserts in much of North America. Bobcats are generally nocturnal (most active at night), but are most active at dawn and dusk. They spend the day in their den (a cave, hollow log or rock crevice). They are very good climbers and swimmers. Bobcats are eaten by cougars, coyotes, wolves, and bears. Bobcats usually live from 10 to 14 years. Bobcats and lynxes are closely related.\n"
          ]
        }
      ],
      "source": [
        "search(query = \"How long do cats live?\")"
      ]
    },
    {
      "cell_type": "code",
      "execution_count": 21,
      "metadata": {
        "colab": {
          "base_uri": "https://localhost:8080/"
        },
        "id": "QIkvohZ8bxMu",
        "outputId": "29b8a4ef-30b1-4644-c4b7-cc0307c2164c"
      },
      "outputs": [
        {
          "output_type": "stream",
          "name": "stdout",
          "text": [
            "Input question: How many people live in Toronto?\n",
            "Top-3 lexical search (BM25) hits\n",
            "\t15.978\tMarkham, Ontario is a city in Regional Municipality of York, in the Greater Toronto Area of Southern Ontario, Canada. There are twice as many people there as in 1990. 261,573 people live in Markham. It is the 4th largest town in the Greater Toronto Area, after Toronto, Mississauga, and Brampton.\n",
            "\t11.299\tThe Toronto Zoo is a zoo in Toronto, Ontario, Canada. With , the Toronto Zoo is the largest zoo in Canada.\n",
            "\t10.679\tDenzil Minnan-Wong (; born ) is a Canadian politician. He is a Toronto city councillor. He is the person that represents Ward 16, an area of Toronto. He is a chairperson of the Employee and Labour Relations Committee in Toronto's municipal government and is also the deputy mayor of Toronto. He is also part of the board of the Toronto Transit Commission and the Toronto Hydro.\n",
            "\n",
            "-------------------------\n",
            "\n",
            "Top-3 Bi-Encoder Retrieval hits\n",
            "\t0.604\tVaughan is a city in Ontario, Canada, 335,000 people live there .\n",
            "\t0.595\tToronto is a city in Ohio in the United States.\n",
            "\t0.594\tToronto is a city in Kansas, United States.\n",
            "\n",
            "-------------------------\n",
            "\n",
            "Top-3 Cross-Encoder Re-ranker hits\n",
            "\t4.448\tIt has about 110,000 people living there.\n",
            "\t3.632\tThe 2010 census counted 23,302 people living in the city. (2005 showed 24,709). The city was founded on January 1, 1955. Much of the city was heavily damaged by the 2011 Tōhoku earthquake and tsunami.\n",
            "\t3.372\tAs of January 1, 2010, about 164,294 people lived there. That was 295.83 people per km². The total area is 555.35 km².\n"
          ]
        }
      ],
      "source": [
        "search(query = \"How many people live in Toronto?\")"
      ]
    },
    {
      "cell_type": "code",
      "execution_count": 22,
      "metadata": {
        "colab": {
          "base_uri": "https://localhost:8080/"
        },
        "id": "MpWjJtL_iFBG",
        "outputId": "f0b08f16-82cd-4123-f03b-0fd0878de5f0"
      },
      "outputs": [
        {
          "output_type": "stream",
          "name": "stdout",
          "text": [
            "Input question: Oldest US president\n",
            "Top-3 lexical search (BM25) hits\n",
            "\t11.010\tGlafcos Ioannou Clerides (; 24 April 1919 – 15 November 2013) was a Greek-Cypriot politician. He was the fourth President of Cyprus. He was the oldest living former President of the Republic of Cyprus.\n",
            "\t9.237\tJosé Celso de Mello Filho (Tatuí, November 1, 1945), is a Brazilian jurist. He is the oldest member of the Supreme Federal Court of Brazil. He was nominated by President José Sarney in 1989.\n",
            "\t8.872\tUSS \"Constitution\" is a wooden, three-masted heavy frigate of the United States Navy. Named by President George Washington after the Constitution of the United States of America, she is the world's oldest commissioned naval vessel afloat.\n",
            "\n",
            "-------------------------\n",
            "\n",
            "Top-3 Bi-Encoder Retrieval hits\n",
            "\t0.645\tWilliam Henry Harrison (February 9, 1773 – April 4, 1841) was the 9th President of the United States. His nickname was \"Old Tippecanoe \" and he was a well-respected war veteran. Harrison served the shortest term of any United States President. His term lasted for exactly one month.\n",
            "\t0.624\tRichard Arvin Overton (May 11, 1906 – December 27, 2018) was an American supercentenarian. He was the oldest verified surviving American World War II veteran, as well as the oldest American man. In 2013 he was honored by President Barack Obama. On that same Memorial Day, Overton met with Texas Governor Rick Perry. He was born in Bastrop County, Texas.\n",
            "\t0.620\tAlben William Barkley (November 24, 1877 – April 30, 1956) was a Democratic member of the U.S. House of Representatives and the United States Senate from Paducah, Kentucky, majority leader of the Senate, and the thirty-fifth Vice President of the United States. He was the oldest Vice President of the United States at the age of . He ran for president in 1952, however the Democratic Party primaries had nominated Adlai Stevenson II instead and labor union leaders rejected him to run because of old age (74).\n",
            "\n",
            "-------------------------\n",
            "\n",
            "Top-3 Cross-Encoder Re-ranker hits\n",
            "\t6.089\tAlben William Barkley (November 24, 1877 – April 30, 1956) was a Democratic member of the U.S. House of Representatives and the United States Senate from Paducah, Kentucky, majority leader of the Senate, and the thirty-fifth Vice President of the United States. He was the oldest Vice President of the United States at the age of . He ran for president in 1952, however the Democratic Party primaries had nominated Adlai Stevenson II instead and labor union leaders rejected him to run because of old age (74).\n",
            "\t5.538\tRichard Arvin Overton (May 11, 1906 – December 27, 2018) was an American supercentenarian. He was the oldest verified surviving American World War II veteran, as well as the oldest American man. In 2013 he was honored by President Barack Obama. On that same Memorial Day, Overton met with Texas Governor Rick Perry. He was born in Bastrop County, Texas.\n",
            "\t4.702\tJohn Nance Garner IV nicknamed \"Cactus Jack\" (November 22, 1868 – November 7, 1967) was the forty-fourth Speaker of the United States House of Representatives (1931-33) and the thirty-second Vice President of the United States (1933-41). Garner once described the Vice-Presidency as being \"not worth a bucket of warm spit.\" Also, he lived to be 98 years old. That made him the oldest former Vice President of the United States.\n"
          ]
        }
      ],
      "source": [
        "search(query = \"Oldest US president\")"
      ]
    },
    {
      "cell_type": "code",
      "execution_count": 23,
      "metadata": {
        "colab": {
          "base_uri": "https://localhost:8080/"
        },
        "id": "zo3NOayXiQME",
        "outputId": "c4dc19e0-befc-4eab-9522-8f9e8812b721"
      },
      "outputs": [
        {
          "output_type": "stream",
          "name": "stdout",
          "text": [
            "Input question: Coldest place earth\n",
            "Top-3 lexical search (BM25) hits\n",
            "\t24.891\tEast Antarctica, also called Greater Antarctica, is the largest part (two-thirds) of the Antarctic continent. It is on the Indian Ocean side of the Transantarctic Mountains. It is the coldest, windiest, and driest part of Earth. East Antarctica holds the record as the coldest place on earth.\n",
            "\t12.650\tEarth Day is a day that is supposed to inspire more awareness and appreciation for the Earth's natural environment. It takes place each year on April 22. It now takes place in more than 193 countries around the world. During Earth Day, the world encourages everyone to turn off all unwanted lights.\n",
            "\t12.172\tHeinrich events occurred during the coldest point of \"Bond Cycles\" in which many icebergs were discharged into the North Atlantic and melted.\n",
            "\n",
            "-------------------------\n",
            "\n",
            "Top-3 Bi-Encoder Retrieval hits\n",
            "\t0.633\tEast Antarctica, also called Greater Antarctica, is the largest part (two-thirds) of the Antarctic continent. It is on the Indian Ocean side of the Transantarctic Mountains. It is the coldest, windiest, and driest part of Earth. East Antarctica holds the record as the coldest place on earth.\n",
            "\t0.556\tThe North Pole is the point that is farthest north on Earth. It is the point on which axis of Earth turns. It is in the Arctic Ocean and it is cold there because the sun does not shine there for about half a year and never rises very high. The ocean around the pole is always very cold and it is covered by a thick sheet of ice.\n",
            "\t0.516\tPlaces with a subarctic climate (also called boreal climate) have long, usually very cold winters, and short, warm summers. It is found on large landmasses, away from oceans, usually at latitudes from 50° to 70°N. Because there are no large landmasses at such latitudes in the Southern Hemisphere, it is only found at high \"altitudes \"(heights) in the Andes and the mountains of Australia and New Zealand's South Island. These climates are in groups \"Dfc\", \"Dwc\", \"Dfd\" and \"Dwd\" in the Köppen climate classification\n",
            "\n",
            "-------------------------\n",
            "\n",
            "Top-3 Cross-Encoder Re-ranker hits\n",
            "\t6.129\tEast Antarctica, also called Greater Antarctica, is the largest part (two-thirds) of the Antarctic continent. It is on the Indian Ocean side of the Transantarctic Mountains. It is the coldest, windiest, and driest part of Earth. East Antarctica holds the record as the coldest place on earth.\n",
            "\t0.594\tThe Arctic is the area around the Earth's North Pole. The Arctic includes parts of Russia, Alaska, Canada, Greenland, Lapland and Svalbard as well as the Arctic Ocean. It is an ocean, mostly covered with ice. Most scientists call the area north of the treeline Arctic. Trees will not grow when the temperatures get too cold. The forests of the continents stop when they get too far north or too high up a mountain. (Higher places are colder, too.) The place where in the trees stop is called the tree line.\n",
            "\t0.215\tThe North Pole is the point that is farthest north on Earth. It is the point on which axis of Earth turns. It is in the Arctic Ocean and it is cold there because the sun does not shine there for about half a year and never rises very high. The ocean around the pole is always very cold and it is covered by a thick sheet of ice.\n"
          ]
        }
      ],
      "source": [
        "search(query = \"Coldest place earth\")"
      ]
    },
    {
      "cell_type": "code",
      "execution_count": 24,
      "metadata": {
        "colab": {
          "base_uri": "https://localhost:8080/"
        },
        "id": "EJ3OqA32ie_s",
        "outputId": "3e40ead9-fd05-4a17-c4fc-cda504621440"
      },
      "outputs": [
        {
          "output_type": "stream",
          "name": "stdout",
          "text": [
            "Input question: Elon Musk year birth\n",
            "Top-3 lexical search (BM25) hits\n",
            "\t23.364\tTesla, Inc. is a company based in Palo Alto, California which makes electric cars. It was started in 2003 by Martin Eberhard, Dylan Stott, and Elon Musk (who also co-founded PayPal and SpaceX and is the CEO of SpaceX). Eberhard no longer works there. Today, Elon Musk is the Chief Executive Officer (CEO). It started selling its first car, the Roadster in 2008.\n",
            "\t19.943\tThe Boring Company is a tunnel boring company founded by Elon Musk, who earlier started SpaceX. It aims to reduce traffic congestion in urban areas. It is involved in the building of the Hyperloop in Los Angeles.\n",
            "\t18.392\tElon Reeve Musk (born June 28, 1971) is a businessman and philanthropist. He was born in South Africa. He moved to Canada and later became an American citizen. Musk is the current CEO & Chief Product Architect of Tesla Motors, a company that makes electric vehicles. He is also the CEO of Solar City, a company that makes solar panels, and the CEO & CTO of SpaceX, an aerospace company. In August 2020, Bloomberg ranked Musk third among the richest people on the planet with net worth to be $115.4 billion.\n",
            "\n",
            "-------------------------\n",
            "\n",
            "Top-3 Bi-Encoder Retrieval hits\n",
            "\t0.574\tElon Reeve Musk (born June 28, 1971) is a businessman and philanthropist. He was born in South Africa. He moved to Canada and later became an American citizen. Musk is the current CEO & Chief Product Architect of Tesla Motors, a company that makes electric vehicles. He is also the CEO of Solar City, a company that makes solar panels, and the CEO & CTO of SpaceX, an aerospace company. In August 2020, Bloomberg ranked Musk third among the richest people on the planet with net worth to be $115.4 billion.\n",
            "\t0.471\tMuraoka was born on June 21, 1893, in Kofu, Yamanashi Prefecture. Her birth name was Hana Annaka. Her parents were Methodists. She was raised as a Christian. She studied at the Tokyo Eiwa Jogakuin. She began writing children's stories when she was encouraged by translator Hiroko Katayama. She graduated from school in 1913.\n",
            "\t0.467\tJose Alves dos Santos Júnior (born July 29, 1969) is a former Brazilian football player.\n",
            "\n",
            "-------------------------\n",
            "\n",
            "Top-3 Cross-Encoder Re-ranker hits\n",
            "\t7.449\tElon Reeve Musk (born June 28, 1971) is a businessman and philanthropist. He was born in South Africa. He moved to Canada and later became an American citizen. Musk is the current CEO & Chief Product Architect of Tesla Motors, a company that makes electric vehicles. He is also the CEO of Solar City, a company that makes solar panels, and the CEO & CTO of SpaceX, an aerospace company. In August 2020, Bloomberg ranked Musk third among the richest people on the planet with net worth to be $115.4 billion.\n",
            "\t-2.518\tNour El-Sherif (; 28 April 1946 – 11 August 2015) was a Egyptian actor. His birth name is Mohamad Geber Mohamad ِAbd Allah (Arabic: محمد جابر محمد عبد الله). El-Sherif was born in the working-class neighbourhood of Sayeda Zainab in Cairo (). He was known for his conspiracy theories about the Holocaust and the September 11 attacks.\n",
            "\t-4.171\tOlly Murs (born 14 May 1984) is an English singer. He comes from Witham, Essex. He became famous after he finished second in The X Factor in 2009.\n"
          ]
        }
      ],
      "source": [
        "search(query = \"Elon Musk year birth\")"
      ]
    },
    {
      "cell_type": "code",
      "execution_count": 25,
      "metadata": {
        "colab": {
          "base_uri": "https://localhost:8080/"
        },
        "id": "13h8bMHKk4UX",
        "outputId": "503d44e8-4d09-483e-bc4f-10d8fb744a7e"
      },
      "outputs": [
        {
          "output_type": "stream",
          "name": "stdout",
          "text": [
            "Input question: Paris eiffel tower\n",
            "Top-3 lexical search (BM25) hits\n",
            "\t27.300\tThe Eiffel Tower (French: La Tour Eiffel, ], IPA pronunciation: \"EYE-full\" English; \"eh-FEHL\" French) is a landmark in Paris. It was built between 1887 and 1889 for the Exposition Universelle (World Fair). The Tower was the Exposition's main attraction.\n",
            "\t25.263\tParis is a city in the U.S. state of Texas. It is in Lamar County, Texas. It had a population of 25,171 in 2010. It has been called the \"Second Largest Paris in the World\". It has a replica of the Eiffel Tower.\n",
            "\t24.059\tParis is a city in the U.S. state of Tennessee. It had a population of 25,171 in 2010. It has been called the \"World's Biggest Fish Fry\". It has a 70-foot replica of the Eiffel Tower.\n",
            "\n",
            "-------------------------\n",
            "\n",
            "Top-3 Bi-Encoder Retrieval hits\n",
            "\t0.812\tThe Eiffel Tower (French: La Tour Eiffel, ], IPA pronunciation: \"EYE-full\" English; \"eh-FEHL\" French) is a landmark in Paris. It was built between 1887 and 1889 for the Exposition Universelle (World Fair). The Tower was the Exposition's main attraction.\n",
            "\t0.626\tAlexandre Gustave Eiffel (December 15, 1832 – December 27, 1923; , ) was a French structural engineer and architect. He is known for designing the Eiffel Tower. He also designed the armature (supporting framework) for the Statue of Liberty, New York Harbor, United States.\n",
            "\t0.538\tThe Élysée Palace (, ) is the official residence of the French president. It is in Paris, in the 8th \"arrondissement\", near the Champs-Élysées. The building is under protection of a unit of the famous Republican Guard. It was built between 1718 and 1722.\n",
            "\n",
            "-------------------------\n",
            "\n",
            "Top-3 Cross-Encoder Re-ranker hits\n",
            "\t10.574\tThe Eiffel Tower (French: La Tour Eiffel, ], IPA pronunciation: \"EYE-full\" English; \"eh-FEHL\" French) is a landmark in Paris. It was built between 1887 and 1889 for the Exposition Universelle (World Fair). The Tower was the Exposition's main attraction.\n",
            "\t4.362\tAlexandre Gustave Eiffel (December 15, 1832 – December 27, 1923; , ) was a French structural engineer and architect. He is known for designing the Eiffel Tower. He also designed the armature (supporting framework) for the Statue of Liberty, New York Harbor, United States.\n",
            "\t3.756\tThe current tower is the second tower on the site. The original tower was built in 1912. The design was based on the Eiffel Tower. The tower had an cable car that connected it to a nearby amusement park called Luna Park. The original was 64 meters tall. It was the second tallest building in Asia at that time. It quickly became one of the most popular locations in the city. Visitors came from all over.\n"
          ]
        }
      ],
      "source": [
        "search(query = \"Paris eiffel tower\")"
      ]
    },
    {
      "cell_type": "code",
      "execution_count": 26,
      "metadata": {
        "colab": {
          "base_uri": "https://localhost:8080/"
        },
        "id": "hwTRd5Jqw-09",
        "outputId": "158c8ec7-7a25-45c3-b377-edbd71a89257"
      },
      "outputs": [
        {
          "output_type": "stream",
          "name": "stdout",
          "text": [
            "Input question: Which US president was killed?\n",
            "Top-3 lexical search (BM25) hits\n",
            "\t10.179\tLyndon Baines Johnson (August 27, 1908 – January 22, 1973) was a member of the Democratic Party and the 36th president of the United States serving from 1963 to 1969. Johnson took over as president when President Kennedy was killed in November 1963. He was then re-elected in the 1964 election.\n",
            "\t10.091\tLech Kaczyński, the fourth President of the Republic of Poland, died on 10 April 2010. He died in a plane crash outside of Smolensk, Russia. The plane was a Tu-154 belonging to the Polish Air Force. The crash killed all 96 on board. His wife, Maria Kaczyńska, was also among those killed.\n",
            "\t9.791\tJacobo Majluta Azar (October 9, 1934 – March 2, 1996) was a Dominican politician. He was Vice President of the Dominican Republic during the Antonio Guzmán Fernández presidency between 1978 to 1982. He became President of the Dominican Republic after Guzmán Fernández killed himself in 1982. He was president for a month between July to August 1982.\n",
            "\n",
            "-------------------------\n",
            "\n",
            "Top-3 Bi-Encoder Retrieval hits\n",
            "\t0.686\tJohn F. Kennedy was the 35th President of the United States. He was assassinated (murdered) in Dealey Plaza, Dallas, Texas, on Friday, November 22, 1963. This happened while he was traveling in a Presidential motorcade with his wife Jacqueline, the Governor of Texas John Connally, and the governor's wife Nellie.\n",
            "\t0.656\tWilliam McKinley, the 25th President of the United States, was assassinated on September 6, 1901, inside the Temple of Music on the grounds of the Pan-American Exposition in Buffalo, New York.\n",
            "\t0.655\tJames Abram Garfield (November 19, 1831 - September 19, 1881) was the 20th (1881) President of the United States and the 2nd President to be assassinated (killed while in office). President Garfield was in office from March to September of 1881. He was in office for a total of six months and fifteen days. For almost half that time he was bedridden as a result of an attempt to kill him. He was shot on July 2 and finally died in September the same year he got into office.\n",
            "\n",
            "-------------------------\n",
            "\n",
            "Top-3 Cross-Encoder Re-ranker hits\n",
            "\t9.278\tWilliam McKinley, the 25th President of the United States, was assassinated on September 6, 1901, inside the Temple of Music on the grounds of the Pan-American Exposition in Buffalo, New York.\n",
            "\t8.403\tJohn F. Kennedy was the 35th President of the United States. He was assassinated (murdered) in Dealey Plaza, Dallas, Texas, on Friday, November 22, 1963. This happened while he was traveling in a Presidential motorcade with his wife Jacqueline, the Governor of Texas John Connally, and the governor's wife Nellie.\n",
            "\t7.914\tOn December 26, 2006, Gerald Ford, the 38th President of the United States, died at his home in Rancho Mirage, California at 6:45 p.m. local time (02:45, December 27, UTC).\n"
          ]
        }
      ],
      "source": [
        "search(query = \"Which US president was killed?\")"
      ]
    },
    {
      "cell_type": "code",
      "execution_count": 27,
      "metadata": {
        "colab": {
          "base_uri": "https://localhost:8080/"
        },
        "id": "TFkPfYGXIz0Y",
        "outputId": "19b2ede5-2aab-4f5a-d929-840f783dfa56"
      },
      "outputs": [
        {
          "output_type": "stream",
          "name": "stdout",
          "text": [
            "Input question: When is Chinese New Year\n",
            "Top-3 lexical search (BM25) hits\n",
            "\t18.743\tChinese New Year, known in China as the SpringFestival and in Singapore as the LunarNewYear, is a holiday on and around the new moon on the first day of the year in the traditional Chinese calendar. This calendar is based on the changes in the moon and is only sometimes changed to fit the seasons of the year based on how the Earth moves around the sun. Because of this, Chinese New Year is never on January1. It moves around between January21 and February20.\n",
            "\t18.527\tNew Year in Japan is one of the most important festivals. Unlike the Chinese New Year, it is held on January 1.\n",
            "\t15.789\tThe CCTV New Year's Gala (Simplified Chinese: 中国中央电视台春节联欢晚会; Traditional Chinese: 中國中央電視台春節聯歡晚會; Pinyin: \"Zhōngguó zhōngyāng diànshìtái chūnjié liánhuān wǎnhuì\") is a Chinese New Year special produced by China Central Television. It was presented by Zhao Zhongxiang.\n",
            "\n",
            "-------------------------\n",
            "\n",
            "Top-3 Bi-Encoder Retrieval hits\n",
            "\t0.782\tChinese New Year, known in China as the SpringFestival and in Singapore as the LunarNewYear, is a holiday on and around the new moon on the first day of the year in the traditional Chinese calendar. This calendar is based on the changes in the moon and is only sometimes changed to fit the seasons of the year based on how the Earth moves around the sun. Because of this, Chinese New Year is never on January1. It moves around between January21 and February20.\n",
            "\t0.648\tChinese National Day is the national day of China. It may mean:\n",
            "\t0.642\tNational Day is a yearly holiday in the People's Republic of China. It celebrates the beginning of its new government on October1, 1949. It is one of two Golden Weeks in the country, along with the Chinese New Year.\n",
            "\n",
            "-------------------------\n",
            "\n",
            "Top-3 Cross-Encoder Re-ranker hits\n",
            "\t10.896\tChinese New Year, known in China as the SpringFestival and in Singapore as the LunarNewYear, is a holiday on and around the new moon on the first day of the year in the traditional Chinese calendar. This calendar is based on the changes in the moon and is only sometimes changed to fit the seasons of the year based on how the Earth moves around the sun. Because of this, Chinese New Year is never on January1. It moves around between January21 and February20.\n",
            "\t6.147\tNew Year in Japan is one of the most important festivals. Unlike the Chinese New Year, it is held on January 1.\n",
            "\t5.081\tNational Day is a yearly holiday in the People's Republic of China. It celebrates the beginning of its new government on October1, 1949. It is one of two Golden Weeks in the country, along with the Chinese New Year.\n"
          ]
        }
      ],
      "source": [
        "search(query=\"When is Chinese New Year\")"
      ]
    }
  ],
  "metadata": {
    "accelerator": "GPU",
    "colab": {
      "name": "retrieve_rerank_simple_wikipedia.ipynb",
      "provenance": [],
      "toc_visible": true,
      "include_colab_link": true
    },
    "kernelspec": {
      "display_name": "Python 3 (ipykernel)",
      "language": "python",
      "name": "python3"
    },
    "language_info": {
      "codemirror_mode": {
        "name": "ipython",
        "version": 3
      },
      "file_extension": ".py",
      "mimetype": "text/x-python",
      "name": "python",
      "nbconvert_exporter": "python",
      "pygments_lexer": "ipython3",
      "version": "3.8.8"
    },
    "widgets": {
      "application/vnd.jupyter.widget-state+json": {
        "2f4c6789bb9b49698917b4fcdbe7ff2b": {
          "model_module": "@jupyter-widgets/controls",
          "model_name": "HBoxModel",
          "model_module_version": "1.5.0",
          "state": {
            "_dom_classes": [],
            "_model_module": "@jupyter-widgets/controls",
            "_model_module_version": "1.5.0",
            "_model_name": "HBoxModel",
            "_view_count": null,
            "_view_module": "@jupyter-widgets/controls",
            "_view_module_version": "1.5.0",
            "_view_name": "HBoxView",
            "box_style": "",
            "children": [
              "IPY_MODEL_c4fb1b11e51f46629d73affd99337c1b",
              "IPY_MODEL_072c448221ce4c7091a715ac47a66582",
              "IPY_MODEL_8391fe82cf3049b8ae017f24ce7feb8c"
            ],
            "layout": "IPY_MODEL_2cf58469dd2b4218b57d03d0c0baf103"
          }
        },
        "c4fb1b11e51f46629d73affd99337c1b": {
          "model_module": "@jupyter-widgets/controls",
          "model_name": "HTMLModel",
          "model_module_version": "1.5.0",
          "state": {
            "_dom_classes": [],
            "_model_module": "@jupyter-widgets/controls",
            "_model_module_version": "1.5.0",
            "_model_name": "HTMLModel",
            "_view_count": null,
            "_view_module": "@jupyter-widgets/controls",
            "_view_module_version": "1.5.0",
            "_view_name": "HTMLView",
            "description": "",
            "description_tooltip": null,
            "layout": "IPY_MODEL_a7ad2b77a6ab44428b2a4954211915a3",
            "placeholder": "​",
            "style": "IPY_MODEL_e1840cad201e4a1fba632db15fcc8a07",
            "value": "100%"
          }
        },
        "072c448221ce4c7091a715ac47a66582": {
          "model_module": "@jupyter-widgets/controls",
          "model_name": "FloatProgressModel",
          "model_module_version": "1.5.0",
          "state": {
            "_dom_classes": [],
            "_model_module": "@jupyter-widgets/controls",
            "_model_module_version": "1.5.0",
            "_model_name": "FloatProgressModel",
            "_view_count": null,
            "_view_module": "@jupyter-widgets/controls",
            "_view_module_version": "1.5.0",
            "_view_name": "ProgressView",
            "bar_style": "success",
            "description": "",
            "description_tooltip": null,
            "layout": "IPY_MODEL_803780312b574c00bae04a46bb540dc5",
            "max": 50223724,
            "min": 0,
            "orientation": "horizontal",
            "style": "IPY_MODEL_2f5cfe9ea313402daad4699b9231352e",
            "value": 50223724
          }
        },
        "8391fe82cf3049b8ae017f24ce7feb8c": {
          "model_module": "@jupyter-widgets/controls",
          "model_name": "HTMLModel",
          "model_module_version": "1.5.0",
          "state": {
            "_dom_classes": [],
            "_model_module": "@jupyter-widgets/controls",
            "_model_module_version": "1.5.0",
            "_model_name": "HTMLModel",
            "_view_count": null,
            "_view_module": "@jupyter-widgets/controls",
            "_view_module_version": "1.5.0",
            "_view_name": "HTMLView",
            "description": "",
            "description_tooltip": null,
            "layout": "IPY_MODEL_4c226443ebf641aebde53647ad4209f0",
            "placeholder": "​",
            "style": "IPY_MODEL_46e583f2feec41dc8fd07f6922a81123",
            "value": " 50.2M/50.2M [00:02&lt;00:00, 21.9MB/s]"
          }
        },
        "2cf58469dd2b4218b57d03d0c0baf103": {
          "model_module": "@jupyter-widgets/base",
          "model_name": "LayoutModel",
          "model_module_version": "1.2.0",
          "state": {
            "_model_module": "@jupyter-widgets/base",
            "_model_module_version": "1.2.0",
            "_model_name": "LayoutModel",
            "_view_count": null,
            "_view_module": "@jupyter-widgets/base",
            "_view_module_version": "1.2.0",
            "_view_name": "LayoutView",
            "align_content": null,
            "align_items": null,
            "align_self": null,
            "border": null,
            "bottom": null,
            "display": null,
            "flex": null,
            "flex_flow": null,
            "grid_area": null,
            "grid_auto_columns": null,
            "grid_auto_flow": null,
            "grid_auto_rows": null,
            "grid_column": null,
            "grid_gap": null,
            "grid_row": null,
            "grid_template_areas": null,
            "grid_template_columns": null,
            "grid_template_rows": null,
            "height": null,
            "justify_content": null,
            "justify_items": null,
            "left": null,
            "margin": null,
            "max_height": null,
            "max_width": null,
            "min_height": null,
            "min_width": null,
            "object_fit": null,
            "object_position": null,
            "order": null,
            "overflow": null,
            "overflow_x": null,
            "overflow_y": null,
            "padding": null,
            "right": null,
            "top": null,
            "visibility": null,
            "width": null
          }
        },
        "a7ad2b77a6ab44428b2a4954211915a3": {
          "model_module": "@jupyter-widgets/base",
          "model_name": "LayoutModel",
          "model_module_version": "1.2.0",
          "state": {
            "_model_module": "@jupyter-widgets/base",
            "_model_module_version": "1.2.0",
            "_model_name": "LayoutModel",
            "_view_count": null,
            "_view_module": "@jupyter-widgets/base",
            "_view_module_version": "1.2.0",
            "_view_name": "LayoutView",
            "align_content": null,
            "align_items": null,
            "align_self": null,
            "border": null,
            "bottom": null,
            "display": null,
            "flex": null,
            "flex_flow": null,
            "grid_area": null,
            "grid_auto_columns": null,
            "grid_auto_flow": null,
            "grid_auto_rows": null,
            "grid_column": null,
            "grid_gap": null,
            "grid_row": null,
            "grid_template_areas": null,
            "grid_template_columns": null,
            "grid_template_rows": null,
            "height": null,
            "justify_content": null,
            "justify_items": null,
            "left": null,
            "margin": null,
            "max_height": null,
            "max_width": null,
            "min_height": null,
            "min_width": null,
            "object_fit": null,
            "object_position": null,
            "order": null,
            "overflow": null,
            "overflow_x": null,
            "overflow_y": null,
            "padding": null,
            "right": null,
            "top": null,
            "visibility": null,
            "width": null
          }
        },
        "e1840cad201e4a1fba632db15fcc8a07": {
          "model_module": "@jupyter-widgets/controls",
          "model_name": "DescriptionStyleModel",
          "model_module_version": "1.5.0",
          "state": {
            "_model_module": "@jupyter-widgets/controls",
            "_model_module_version": "1.5.0",
            "_model_name": "DescriptionStyleModel",
            "_view_count": null,
            "_view_module": "@jupyter-widgets/base",
            "_view_module_version": "1.2.0",
            "_view_name": "StyleView",
            "description_width": ""
          }
        },
        "803780312b574c00bae04a46bb540dc5": {
          "model_module": "@jupyter-widgets/base",
          "model_name": "LayoutModel",
          "model_module_version": "1.2.0",
          "state": {
            "_model_module": "@jupyter-widgets/base",
            "_model_module_version": "1.2.0",
            "_model_name": "LayoutModel",
            "_view_count": null,
            "_view_module": "@jupyter-widgets/base",
            "_view_module_version": "1.2.0",
            "_view_name": "LayoutView",
            "align_content": null,
            "align_items": null,
            "align_self": null,
            "border": null,
            "bottom": null,
            "display": null,
            "flex": null,
            "flex_flow": null,
            "grid_area": null,
            "grid_auto_columns": null,
            "grid_auto_flow": null,
            "grid_auto_rows": null,
            "grid_column": null,
            "grid_gap": null,
            "grid_row": null,
            "grid_template_areas": null,
            "grid_template_columns": null,
            "grid_template_rows": null,
            "height": null,
            "justify_content": null,
            "justify_items": null,
            "left": null,
            "margin": null,
            "max_height": null,
            "max_width": null,
            "min_height": null,
            "min_width": null,
            "object_fit": null,
            "object_position": null,
            "order": null,
            "overflow": null,
            "overflow_x": null,
            "overflow_y": null,
            "padding": null,
            "right": null,
            "top": null,
            "visibility": null,
            "width": null
          }
        },
        "2f5cfe9ea313402daad4699b9231352e": {
          "model_module": "@jupyter-widgets/controls",
          "model_name": "ProgressStyleModel",
          "model_module_version": "1.5.0",
          "state": {
            "_model_module": "@jupyter-widgets/controls",
            "_model_module_version": "1.5.0",
            "_model_name": "ProgressStyleModel",
            "_view_count": null,
            "_view_module": "@jupyter-widgets/base",
            "_view_module_version": "1.2.0",
            "_view_name": "StyleView",
            "bar_color": null,
            "description_width": ""
          }
        },
        "4c226443ebf641aebde53647ad4209f0": {
          "model_module": "@jupyter-widgets/base",
          "model_name": "LayoutModel",
          "model_module_version": "1.2.0",
          "state": {
            "_model_module": "@jupyter-widgets/base",
            "_model_module_version": "1.2.0",
            "_model_name": "LayoutModel",
            "_view_count": null,
            "_view_module": "@jupyter-widgets/base",
            "_view_module_version": "1.2.0",
            "_view_name": "LayoutView",
            "align_content": null,
            "align_items": null,
            "align_self": null,
            "border": null,
            "bottom": null,
            "display": null,
            "flex": null,
            "flex_flow": null,
            "grid_area": null,
            "grid_auto_columns": null,
            "grid_auto_flow": null,
            "grid_auto_rows": null,
            "grid_column": null,
            "grid_gap": null,
            "grid_row": null,
            "grid_template_areas": null,
            "grid_template_columns": null,
            "grid_template_rows": null,
            "height": null,
            "justify_content": null,
            "justify_items": null,
            "left": null,
            "margin": null,
            "max_height": null,
            "max_width": null,
            "min_height": null,
            "min_width": null,
            "object_fit": null,
            "object_position": null,
            "order": null,
            "overflow": null,
            "overflow_x": null,
            "overflow_y": null,
            "padding": null,
            "right": null,
            "top": null,
            "visibility": null,
            "width": null
          }
        },
        "46e583f2feec41dc8fd07f6922a81123": {
          "model_module": "@jupyter-widgets/controls",
          "model_name": "DescriptionStyleModel",
          "model_module_version": "1.5.0",
          "state": {
            "_model_module": "@jupyter-widgets/controls",
            "_model_module_version": "1.5.0",
            "_model_name": "DescriptionStyleModel",
            "_view_count": null,
            "_view_module": "@jupyter-widgets/base",
            "_view_module_version": "1.2.0",
            "_view_name": "StyleView",
            "description_width": ""
          }
        },
        "72768a5573034e81b190efbbaaf4d81e": {
          "model_module": "@jupyter-widgets/controls",
          "model_name": "HBoxModel",
          "model_module_version": "1.5.0",
          "state": {
            "_dom_classes": [],
            "_model_module": "@jupyter-widgets/controls",
            "_model_module_version": "1.5.0",
            "_model_name": "HBoxModel",
            "_view_count": null,
            "_view_module": "@jupyter-widgets/controls",
            "_view_module_version": "1.5.0",
            "_view_name": "HBoxView",
            "box_style": "",
            "children": [
              "IPY_MODEL_eef8f28bc38a440da382598a5cc1d50a",
              "IPY_MODEL_3729bee669a24707bdbda041104ad5c9",
              "IPY_MODEL_ed3c82df89eb474aac425b3176802f3f"
            ],
            "layout": "IPY_MODEL_6405a689df7f41c6973a239bd497d786"
          }
        },
        "eef8f28bc38a440da382598a5cc1d50a": {
          "model_module": "@jupyter-widgets/controls",
          "model_name": "HTMLModel",
          "model_module_version": "1.5.0",
          "state": {
            "_dom_classes": [],
            "_model_module": "@jupyter-widgets/controls",
            "_model_module_version": "1.5.0",
            "_model_name": "HTMLModel",
            "_view_count": null,
            "_view_module": "@jupyter-widgets/controls",
            "_view_module_version": "1.5.0",
            "_view_name": "HTMLView",
            "description": "",
            "description_tooltip": null,
            "layout": "IPY_MODEL_ba179b52e9e04fc99e7301e0ca0c94ec",
            "placeholder": "​",
            "style": "IPY_MODEL_2d0e59e130cc461298c1ff158e8228d4",
            "value": "Batches: 100%"
          }
        },
        "3729bee669a24707bdbda041104ad5c9": {
          "model_module": "@jupyter-widgets/controls",
          "model_name": "FloatProgressModel",
          "model_module_version": "1.5.0",
          "state": {
            "_dom_classes": [],
            "_model_module": "@jupyter-widgets/controls",
            "_model_module_version": "1.5.0",
            "_model_name": "FloatProgressModel",
            "_view_count": null,
            "_view_module": "@jupyter-widgets/controls",
            "_view_module_version": "1.5.0",
            "_view_name": "ProgressView",
            "bar_style": "success",
            "description": "",
            "description_tooltip": null,
            "layout": "IPY_MODEL_a6ce7af2aa274a12b62b9b8b77b0b886",
            "max": 5300,
            "min": 0,
            "orientation": "horizontal",
            "style": "IPY_MODEL_fdd4b8f82444467780d7ea5f91456084",
            "value": 5300
          }
        },
        "ed3c82df89eb474aac425b3176802f3f": {
          "model_module": "@jupyter-widgets/controls",
          "model_name": "HTMLModel",
          "model_module_version": "1.5.0",
          "state": {
            "_dom_classes": [],
            "_model_module": "@jupyter-widgets/controls",
            "_model_module_version": "1.5.0",
            "_model_name": "HTMLModel",
            "_view_count": null,
            "_view_module": "@jupyter-widgets/controls",
            "_view_module_version": "1.5.0",
            "_view_name": "HTMLView",
            "description": "",
            "description_tooltip": null,
            "layout": "IPY_MODEL_449dd345a5f149e596a9c5e521069705",
            "placeholder": "​",
            "style": "IPY_MODEL_0b7087be3bed4f599b40e905c535bcd7",
            "value": " 5300/5300 [02:09&lt;00:00, 32.54it/s]"
          }
        },
        "6405a689df7f41c6973a239bd497d786": {
          "model_module": "@jupyter-widgets/base",
          "model_name": "LayoutModel",
          "model_module_version": "1.2.0",
          "state": {
            "_model_module": "@jupyter-widgets/base",
            "_model_module_version": "1.2.0",
            "_model_name": "LayoutModel",
            "_view_count": null,
            "_view_module": "@jupyter-widgets/base",
            "_view_module_version": "1.2.0",
            "_view_name": "LayoutView",
            "align_content": null,
            "align_items": null,
            "align_self": null,
            "border": null,
            "bottom": null,
            "display": null,
            "flex": null,
            "flex_flow": null,
            "grid_area": null,
            "grid_auto_columns": null,
            "grid_auto_flow": null,
            "grid_auto_rows": null,
            "grid_column": null,
            "grid_gap": null,
            "grid_row": null,
            "grid_template_areas": null,
            "grid_template_columns": null,
            "grid_template_rows": null,
            "height": null,
            "justify_content": null,
            "justify_items": null,
            "left": null,
            "margin": null,
            "max_height": null,
            "max_width": null,
            "min_height": null,
            "min_width": null,
            "object_fit": null,
            "object_position": null,
            "order": null,
            "overflow": null,
            "overflow_x": null,
            "overflow_y": null,
            "padding": null,
            "right": null,
            "top": null,
            "visibility": null,
            "width": null
          }
        },
        "ba179b52e9e04fc99e7301e0ca0c94ec": {
          "model_module": "@jupyter-widgets/base",
          "model_name": "LayoutModel",
          "model_module_version": "1.2.0",
          "state": {
            "_model_module": "@jupyter-widgets/base",
            "_model_module_version": "1.2.0",
            "_model_name": "LayoutModel",
            "_view_count": null,
            "_view_module": "@jupyter-widgets/base",
            "_view_module_version": "1.2.0",
            "_view_name": "LayoutView",
            "align_content": null,
            "align_items": null,
            "align_self": null,
            "border": null,
            "bottom": null,
            "display": null,
            "flex": null,
            "flex_flow": null,
            "grid_area": null,
            "grid_auto_columns": null,
            "grid_auto_flow": null,
            "grid_auto_rows": null,
            "grid_column": null,
            "grid_gap": null,
            "grid_row": null,
            "grid_template_areas": null,
            "grid_template_columns": null,
            "grid_template_rows": null,
            "height": null,
            "justify_content": null,
            "justify_items": null,
            "left": null,
            "margin": null,
            "max_height": null,
            "max_width": null,
            "min_height": null,
            "min_width": null,
            "object_fit": null,
            "object_position": null,
            "order": null,
            "overflow": null,
            "overflow_x": null,
            "overflow_y": null,
            "padding": null,
            "right": null,
            "top": null,
            "visibility": null,
            "width": null
          }
        },
        "2d0e59e130cc461298c1ff158e8228d4": {
          "model_module": "@jupyter-widgets/controls",
          "model_name": "DescriptionStyleModel",
          "model_module_version": "1.5.0",
          "state": {
            "_model_module": "@jupyter-widgets/controls",
            "_model_module_version": "1.5.0",
            "_model_name": "DescriptionStyleModel",
            "_view_count": null,
            "_view_module": "@jupyter-widgets/base",
            "_view_module_version": "1.2.0",
            "_view_name": "StyleView",
            "description_width": ""
          }
        },
        "a6ce7af2aa274a12b62b9b8b77b0b886": {
          "model_module": "@jupyter-widgets/base",
          "model_name": "LayoutModel",
          "model_module_version": "1.2.0",
          "state": {
            "_model_module": "@jupyter-widgets/base",
            "_model_module_version": "1.2.0",
            "_model_name": "LayoutModel",
            "_view_count": null,
            "_view_module": "@jupyter-widgets/base",
            "_view_module_version": "1.2.0",
            "_view_name": "LayoutView",
            "align_content": null,
            "align_items": null,
            "align_self": null,
            "border": null,
            "bottom": null,
            "display": null,
            "flex": null,
            "flex_flow": null,
            "grid_area": null,
            "grid_auto_columns": null,
            "grid_auto_flow": null,
            "grid_auto_rows": null,
            "grid_column": null,
            "grid_gap": null,
            "grid_row": null,
            "grid_template_areas": null,
            "grid_template_columns": null,
            "grid_template_rows": null,
            "height": null,
            "justify_content": null,
            "justify_items": null,
            "left": null,
            "margin": null,
            "max_height": null,
            "max_width": null,
            "min_height": null,
            "min_width": null,
            "object_fit": null,
            "object_position": null,
            "order": null,
            "overflow": null,
            "overflow_x": null,
            "overflow_y": null,
            "padding": null,
            "right": null,
            "top": null,
            "visibility": null,
            "width": null
          }
        },
        "fdd4b8f82444467780d7ea5f91456084": {
          "model_module": "@jupyter-widgets/controls",
          "model_name": "ProgressStyleModel",
          "model_module_version": "1.5.0",
          "state": {
            "_model_module": "@jupyter-widgets/controls",
            "_model_module_version": "1.5.0",
            "_model_name": "ProgressStyleModel",
            "_view_count": null,
            "_view_module": "@jupyter-widgets/base",
            "_view_module_version": "1.2.0",
            "_view_name": "StyleView",
            "bar_color": null,
            "description_width": ""
          }
        },
        "449dd345a5f149e596a9c5e521069705": {
          "model_module": "@jupyter-widgets/base",
          "model_name": "LayoutModel",
          "model_module_version": "1.2.0",
          "state": {
            "_model_module": "@jupyter-widgets/base",
            "_model_module_version": "1.2.0",
            "_model_name": "LayoutModel",
            "_view_count": null,
            "_view_module": "@jupyter-widgets/base",
            "_view_module_version": "1.2.0",
            "_view_name": "LayoutView",
            "align_content": null,
            "align_items": null,
            "align_self": null,
            "border": null,
            "bottom": null,
            "display": null,
            "flex": null,
            "flex_flow": null,
            "grid_area": null,
            "grid_auto_columns": null,
            "grid_auto_flow": null,
            "grid_auto_rows": null,
            "grid_column": null,
            "grid_gap": null,
            "grid_row": null,
            "grid_template_areas": null,
            "grid_template_columns": null,
            "grid_template_rows": null,
            "height": null,
            "justify_content": null,
            "justify_items": null,
            "left": null,
            "margin": null,
            "max_height": null,
            "max_width": null,
            "min_height": null,
            "min_width": null,
            "object_fit": null,
            "object_position": null,
            "order": null,
            "overflow": null,
            "overflow_x": null,
            "overflow_y": null,
            "padding": null,
            "right": null,
            "top": null,
            "visibility": null,
            "width": null
          }
        },
        "0b7087be3bed4f599b40e905c535bcd7": {
          "model_module": "@jupyter-widgets/controls",
          "model_name": "DescriptionStyleModel",
          "model_module_version": "1.5.0",
          "state": {
            "_model_module": "@jupyter-widgets/controls",
            "_model_module_version": "1.5.0",
            "_model_name": "DescriptionStyleModel",
            "_view_count": null,
            "_view_module": "@jupyter-widgets/base",
            "_view_module_version": "1.2.0",
            "_view_name": "StyleView",
            "description_width": ""
          }
        },
        "92c0b64dad824575b8b891e2abc12435": {
          "model_module": "@jupyter-widgets/controls",
          "model_name": "HBoxModel",
          "model_module_version": "1.5.0",
          "state": {
            "_dom_classes": [],
            "_model_module": "@jupyter-widgets/controls",
            "_model_module_version": "1.5.0",
            "_model_name": "HBoxModel",
            "_view_count": null,
            "_view_module": "@jupyter-widgets/controls",
            "_view_module_version": "1.5.0",
            "_view_name": "HBoxView",
            "box_style": "",
            "children": [
              "IPY_MODEL_b465dcd77f5a4dd6b88359b5330d8b03",
              "IPY_MODEL_ea4daff448c34bd68590d5afa2589534",
              "IPY_MODEL_dd1329a4f9d84afab2b90c91d3c8bce5"
            ],
            "layout": "IPY_MODEL_c63bd28f242543c4bc6ad88411d155dc"
          }
        },
        "b465dcd77f5a4dd6b88359b5330d8b03": {
          "model_module": "@jupyter-widgets/controls",
          "model_name": "HTMLModel",
          "model_module_version": "1.5.0",
          "state": {
            "_dom_classes": [],
            "_model_module": "@jupyter-widgets/controls",
            "_model_module_version": "1.5.0",
            "_model_name": "HTMLModel",
            "_view_count": null,
            "_view_module": "@jupyter-widgets/controls",
            "_view_module_version": "1.5.0",
            "_view_name": "HTMLView",
            "description": "",
            "description_tooltip": null,
            "layout": "IPY_MODEL_fb6ce6667f714310b0992b9fd165a3c3",
            "placeholder": "​",
            "style": "IPY_MODEL_695b364230484f1bac54f8e649ded907",
            "value": "100%"
          }
        },
        "ea4daff448c34bd68590d5afa2589534": {
          "model_module": "@jupyter-widgets/controls",
          "model_name": "FloatProgressModel",
          "model_module_version": "1.5.0",
          "state": {
            "_dom_classes": [],
            "_model_module": "@jupyter-widgets/controls",
            "_model_module_version": "1.5.0",
            "_model_name": "FloatProgressModel",
            "_view_count": null,
            "_view_module": "@jupyter-widgets/controls",
            "_view_module_version": "1.5.0",
            "_view_name": "ProgressView",
            "bar_style": "success",
            "description": "",
            "description_tooltip": null,
            "layout": "IPY_MODEL_ebf07dc0ae6f42fd8a4825b0bc061dbb",
            "max": 169597,
            "min": 0,
            "orientation": "horizontal",
            "style": "IPY_MODEL_86be14b7c5674087a0ed94adc8a8da0e",
            "value": 169597
          }
        },
        "dd1329a4f9d84afab2b90c91d3c8bce5": {
          "model_module": "@jupyter-widgets/controls",
          "model_name": "HTMLModel",
          "model_module_version": "1.5.0",
          "state": {
            "_dom_classes": [],
            "_model_module": "@jupyter-widgets/controls",
            "_model_module_version": "1.5.0",
            "_model_name": "HTMLModel",
            "_view_count": null,
            "_view_module": "@jupyter-widgets/controls",
            "_view_module_version": "1.5.0",
            "_view_name": "HTMLView",
            "description": "",
            "description_tooltip": null,
            "layout": "IPY_MODEL_6b14ab42c417473d842437cfb96fc1a1",
            "placeholder": "​",
            "style": "IPY_MODEL_ceb648123a8e4d46bf599e86bce66cc0",
            "value": " 169597/169597 [00:07&lt;00:00, 42074.20it/s]"
          }
        },
        "c63bd28f242543c4bc6ad88411d155dc": {
          "model_module": "@jupyter-widgets/base",
          "model_name": "LayoutModel",
          "model_module_version": "1.2.0",
          "state": {
            "_model_module": "@jupyter-widgets/base",
            "_model_module_version": "1.2.0",
            "_model_name": "LayoutModel",
            "_view_count": null,
            "_view_module": "@jupyter-widgets/base",
            "_view_module_version": "1.2.0",
            "_view_name": "LayoutView",
            "align_content": null,
            "align_items": null,
            "align_self": null,
            "border": null,
            "bottom": null,
            "display": null,
            "flex": null,
            "flex_flow": null,
            "grid_area": null,
            "grid_auto_columns": null,
            "grid_auto_flow": null,
            "grid_auto_rows": null,
            "grid_column": null,
            "grid_gap": null,
            "grid_row": null,
            "grid_template_areas": null,
            "grid_template_columns": null,
            "grid_template_rows": null,
            "height": null,
            "justify_content": null,
            "justify_items": null,
            "left": null,
            "margin": null,
            "max_height": null,
            "max_width": null,
            "min_height": null,
            "min_width": null,
            "object_fit": null,
            "object_position": null,
            "order": null,
            "overflow": null,
            "overflow_x": null,
            "overflow_y": null,
            "padding": null,
            "right": null,
            "top": null,
            "visibility": null,
            "width": null
          }
        },
        "fb6ce6667f714310b0992b9fd165a3c3": {
          "model_module": "@jupyter-widgets/base",
          "model_name": "LayoutModel",
          "model_module_version": "1.2.0",
          "state": {
            "_model_module": "@jupyter-widgets/base",
            "_model_module_version": "1.2.0",
            "_model_name": "LayoutModel",
            "_view_count": null,
            "_view_module": "@jupyter-widgets/base",
            "_view_module_version": "1.2.0",
            "_view_name": "LayoutView",
            "align_content": null,
            "align_items": null,
            "align_self": null,
            "border": null,
            "bottom": null,
            "display": null,
            "flex": null,
            "flex_flow": null,
            "grid_area": null,
            "grid_auto_columns": null,
            "grid_auto_flow": null,
            "grid_auto_rows": null,
            "grid_column": null,
            "grid_gap": null,
            "grid_row": null,
            "grid_template_areas": null,
            "grid_template_columns": null,
            "grid_template_rows": null,
            "height": null,
            "justify_content": null,
            "justify_items": null,
            "left": null,
            "margin": null,
            "max_height": null,
            "max_width": null,
            "min_height": null,
            "min_width": null,
            "object_fit": null,
            "object_position": null,
            "order": null,
            "overflow": null,
            "overflow_x": null,
            "overflow_y": null,
            "padding": null,
            "right": null,
            "top": null,
            "visibility": null,
            "width": null
          }
        },
        "695b364230484f1bac54f8e649ded907": {
          "model_module": "@jupyter-widgets/controls",
          "model_name": "DescriptionStyleModel",
          "model_module_version": "1.5.0",
          "state": {
            "_model_module": "@jupyter-widgets/controls",
            "_model_module_version": "1.5.0",
            "_model_name": "DescriptionStyleModel",
            "_view_count": null,
            "_view_module": "@jupyter-widgets/base",
            "_view_module_version": "1.2.0",
            "_view_name": "StyleView",
            "description_width": ""
          }
        },
        "ebf07dc0ae6f42fd8a4825b0bc061dbb": {
          "model_module": "@jupyter-widgets/base",
          "model_name": "LayoutModel",
          "model_module_version": "1.2.0",
          "state": {
            "_model_module": "@jupyter-widgets/base",
            "_model_module_version": "1.2.0",
            "_model_name": "LayoutModel",
            "_view_count": null,
            "_view_module": "@jupyter-widgets/base",
            "_view_module_version": "1.2.0",
            "_view_name": "LayoutView",
            "align_content": null,
            "align_items": null,
            "align_self": null,
            "border": null,
            "bottom": null,
            "display": null,
            "flex": null,
            "flex_flow": null,
            "grid_area": null,
            "grid_auto_columns": null,
            "grid_auto_flow": null,
            "grid_auto_rows": null,
            "grid_column": null,
            "grid_gap": null,
            "grid_row": null,
            "grid_template_areas": null,
            "grid_template_columns": null,
            "grid_template_rows": null,
            "height": null,
            "justify_content": null,
            "justify_items": null,
            "left": null,
            "margin": null,
            "max_height": null,
            "max_width": null,
            "min_height": null,
            "min_width": null,
            "object_fit": null,
            "object_position": null,
            "order": null,
            "overflow": null,
            "overflow_x": null,
            "overflow_y": null,
            "padding": null,
            "right": null,
            "top": null,
            "visibility": null,
            "width": null
          }
        },
        "86be14b7c5674087a0ed94adc8a8da0e": {
          "model_module": "@jupyter-widgets/controls",
          "model_name": "ProgressStyleModel",
          "model_module_version": "1.5.0",
          "state": {
            "_model_module": "@jupyter-widgets/controls",
            "_model_module_version": "1.5.0",
            "_model_name": "ProgressStyleModel",
            "_view_count": null,
            "_view_module": "@jupyter-widgets/base",
            "_view_module_version": "1.2.0",
            "_view_name": "StyleView",
            "bar_color": null,
            "description_width": ""
          }
        },
        "6b14ab42c417473d842437cfb96fc1a1": {
          "model_module": "@jupyter-widgets/base",
          "model_name": "LayoutModel",
          "model_module_version": "1.2.0",
          "state": {
            "_model_module": "@jupyter-widgets/base",
            "_model_module_version": "1.2.0",
            "_model_name": "LayoutModel",
            "_view_count": null,
            "_view_module": "@jupyter-widgets/base",
            "_view_module_version": "1.2.0",
            "_view_name": "LayoutView",
            "align_content": null,
            "align_items": null,
            "align_self": null,
            "border": null,
            "bottom": null,
            "display": null,
            "flex": null,
            "flex_flow": null,
            "grid_area": null,
            "grid_auto_columns": null,
            "grid_auto_flow": null,
            "grid_auto_rows": null,
            "grid_column": null,
            "grid_gap": null,
            "grid_row": null,
            "grid_template_areas": null,
            "grid_template_columns": null,
            "grid_template_rows": null,
            "height": null,
            "justify_content": null,
            "justify_items": null,
            "left": null,
            "margin": null,
            "max_height": null,
            "max_width": null,
            "min_height": null,
            "min_width": null,
            "object_fit": null,
            "object_position": null,
            "order": null,
            "overflow": null,
            "overflow_x": null,
            "overflow_y": null,
            "padding": null,
            "right": null,
            "top": null,
            "visibility": null,
            "width": null
          }
        },
        "ceb648123a8e4d46bf599e86bce66cc0": {
          "model_module": "@jupyter-widgets/controls",
          "model_name": "DescriptionStyleModel",
          "model_module_version": "1.5.0",
          "state": {
            "_model_module": "@jupyter-widgets/controls",
            "_model_module_version": "1.5.0",
            "_model_name": "DescriptionStyleModel",
            "_view_count": null,
            "_view_module": "@jupyter-widgets/base",
            "_view_module_version": "1.2.0",
            "_view_name": "StyleView",
            "description_width": ""
          }
        }
      }
    }
  },
  "nbformat": 4,
  "nbformat_minor": 0
}