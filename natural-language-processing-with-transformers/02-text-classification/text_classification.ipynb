{
  "nbformat": 4,
  "nbformat_minor": 0,
  "metadata": {
    "colab": {
      "name": "text-classification.ipynb",
      "provenance": [],
      "toc_visible": true,
      "authorship_tag": "ABX9TyOSM1+NKiLZbQ2Yn3Cc1ZWg",
      "include_colab_link": true
    },
    "kernelspec": {
      "name": "python3",
      "display_name": "Python 3"
    },
    "language_info": {
      "name": "python"
    },
    "accelerator": "GPU"
  },
  "cells": [
    {
      "cell_type": "markdown",
      "metadata": {
        "id": "view-in-github",
        "colab_type": "text"
      },
      "source": [
        "<a href=\"https://colab.research.google.com/github/rahiakela/transformers-research-and-practice/blob/main/natural-language-processing-with-transformers/02-text-classification/text_classification.ipynb\" target=\"_parent\"><img src=\"https://colab.research.google.com/assets/colab-badge.svg\" alt=\"Open In Colab\"/></a>"
      ]
    },
    {
      "cell_type": "markdown",
      "source": [
        "##Text Classification"
      ],
      "metadata": {
        "id": "PfCJmxSiZ8Bd"
      }
    },
    {
      "cell_type": "markdown",
      "source": [
        "Text classification is one of the most common tasks in NLP and can be used for applications\n",
        "such as tagging customer feedback into categories or routing support tickets according to their\n",
        "language. Chances are that your email’s spam filter is using text classification to protect your\n",
        "inbox from a deluge of unwanted junk!\n",
        "\n",
        "Another common type of text classification is sentiment analysis, which aims to identify the\n",
        "polarity of a given text.\n",
        "\n",
        "Now imagine that you are a data scientist who needs to build a system that can automatically\n",
        "identify emotional states such as “anger” or “joy” that people express towards your company’s\n",
        "product on Twitter. \n",
        "\n",
        "Until 2018, the deep learning approach to this problem typically involved\n",
        "finding a suitable neural architecture for the task and training it from scratch on a dataset of\n",
        "labeled tweets. This approach suffered from three major drawbacks:\n",
        "\n",
        "- You needed a lot of labeled data to train accurate models like recurrent or\n",
        "convolutional neural networks.\n",
        "- Training these models from scratch was time consuming and expensive.\n",
        "- The trained model could not be easily adapted to a new task, e.g. with a different set of labels.\n",
        "\n",
        "Nowadays, these limitations are largely overcome via transfer learning, where typically a\n",
        "Transformer-based architecture is pretrained on a generic task such as language modeling and\n",
        "then reused for a wide variety of downstream tasks."
      ],
      "metadata": {
        "id": "0O5UwNeIZ8op"
      }
    },
    {
      "cell_type": "markdown",
      "source": [
        "##Setup"
      ],
      "metadata": {
        "id": "NmjXzjlJaZVE"
      }
    },
    {
      "cell_type": "code",
      "source": [
        "!pip -q install transformers[sentencepiece]\n",
        "!pip -q install datasets"
      ],
      "metadata": {
        "id": "TbIsiaFwaaky",
        "colab": {
          "base_uri": "https://localhost:8080/"
        },
        "outputId": "e409ff3b-3afc-45d4-85b8-fce713764fa6"
      },
      "execution_count": 1,
      "outputs": [
        {
          "output_type": "stream",
          "name": "stdout",
          "text": [
            "\u001b[K     |████████████████████████████████| 3.4 MB 4.2 MB/s \n",
            "\u001b[K     |████████████████████████████████| 895 kB 33.4 MB/s \n",
            "\u001b[K     |████████████████████████████████| 3.3 MB 39.7 MB/s \n",
            "\u001b[K     |████████████████████████████████| 596 kB 45.6 MB/s \n",
            "\u001b[K     |████████████████████████████████| 61 kB 504 kB/s \n",
            "\u001b[K     |████████████████████████████████| 1.2 MB 51.5 MB/s \n",
            "\u001b[K     |████████████████████████████████| 298 kB 4.3 MB/s \n",
            "\u001b[K     |████████████████████████████████| 132 kB 42.6 MB/s \n",
            "\u001b[K     |████████████████████████████████| 243 kB 36.4 MB/s \n",
            "\u001b[K     |████████████████████████████████| 1.1 MB 26.6 MB/s \n",
            "\u001b[K     |████████████████████████████████| 192 kB 34.6 MB/s \n",
            "\u001b[K     |████████████████████████████████| 271 kB 39.5 MB/s \n",
            "\u001b[K     |████████████████████████████████| 160 kB 34.3 MB/s \n",
            "\u001b[?25h"
          ]
        }
      ]
    },
    {
      "cell_type": "code",
      "source": [
        "!pip -q install umap-learn"
      ],
      "metadata": {
        "id": "KuO4afypo7-T",
        "colab": {
          "base_uri": "https://localhost:8080/"
        },
        "outputId": "4fb897fe-48d3-402c-d807-733a75d27f4f"
      },
      "execution_count": 2,
      "outputs": [
        {
          "output_type": "stream",
          "name": "stdout",
          "text": [
            "\u001b[K     |████████████████████████████████| 86 kB 2.2 MB/s \n",
            "\u001b[K     |████████████████████████████████| 1.1 MB 26.2 MB/s \n",
            "\u001b[?25h  Building wheel for umap-learn (setup.py) ... \u001b[?25l\u001b[?25hdone\n",
            "  Building wheel for pynndescent (setup.py) ... \u001b[?25l\u001b[?25hdone\n"
          ]
        }
      ]
    },
    {
      "cell_type": "code",
      "source": [
        "from transformers import pipeline\n",
        "from transformers import set_seed\n",
        "from transformers import AutoTokenizer\n",
        "from transformers import AutoModel\n",
        "from transformers import AutoModelForSequenceClassification\n",
        "from transformers import Trainer, TrainingArguments\n",
        "\n",
        "from datasets import list_datasets, load_dataset\n",
        "\n",
        "import torch\n",
        "from torch.nn.functional import cross_entropy\n",
        "\n",
        "from sklearn.preprocessing import MinMaxScaler\n",
        "from sklearn.linear_model import LogisticRegression\n",
        "from sklearn.dummy import DummyClassifier\n",
        "from sklearn.metrics import classification_report, accuracy_score, f1_score, plot_confusion_matrix\n",
        "\n",
        "import pandas as pd\n",
        "import numpy as np\n",
        "import umap.umap_ as umap\n",
        "import matplotlib.pyplot as plt"
      ],
      "metadata": {
        "id": "Kl_TTiiIaeLG"
      },
      "execution_count": 3,
      "outputs": []
    },
    {
      "cell_type": "code",
      "source": [
        "device = torch.device(\"cuda\" if torch.cuda.is_available() else \"cpu\")"
      ],
      "metadata": {
        "id": "3wiDc664MCDa"
      },
      "execution_count": 22,
      "outputs": []
    },
    {
      "cell_type": "markdown",
      "source": [
        "##The Dataset"
      ],
      "metadata": {
        "id": "FE-e_1EIaa1F"
      }
    },
    {
      "cell_type": "markdown",
      "source": [
        "To build our emotion detector we’ll use a great dataset from an article that explored how\n",
        "emotions are represented in English Twitter messages. \n",
        "\n",
        "Unlike most sentiment analysis datasets\n",
        "that involve just “positive” and “negative” polarities, this dataset contains six basic emotions:\n",
        "anger, disgust, fear, joy, sadness, and surprise. \n",
        "\n",
        "\n",
        "Given a tweet, our task will be to train a model\n",
        "that can classify it into one of these emotions!"
      ],
      "metadata": {
        "id": "8-2ciOUGayjC"
      }
    },
    {
      "cell_type": "markdown",
      "source": [
        "###Overview of Datasets"
      ],
      "metadata": {
        "id": "s1hPKMSVhT_J"
      }
    },
    {
      "cell_type": "code",
      "source": [
        "# We can use the list_datasets function to see what datasets are available in the Hub:\n",
        "datasets = list_datasets()\n",
        "\n",
        "print(f\"There are {len(datasets)} datasets currently available on the Hub.\")\n",
        "print(f\"The first 10 are: {datasets[:10]}\")"
      ],
      "metadata": {
        "colab": {
          "base_uri": "https://localhost:8080/"
        },
        "id": "pjvtlOmQbdG0",
        "outputId": "c3fb9e04-7b56-4e61-f121-e50afce85164"
      },
      "execution_count": 4,
      "outputs": [
        {
          "output_type": "stream",
          "name": "stdout",
          "text": [
            "There are 2238 datasets currently available on the Hub.\n",
            "The first 10 are: ['0n1xus/codexglue', '0n1xus/pytorrent-standalone', 'AConsApart/anime_subtitles_DialoGPT', 'AI-Sweden/SuperLim', 'AI-Sweden/super_glue_sv', 'AI-it/korean-hate-speech', 'ARKseal/YFCC14M_subset_webdataset', 'ARTeLab/fanpage', 'ARTeLab/ilpost', 'ARTeLab/mlsum-it']\n"
          ]
        }
      ]
    },
    {
      "cell_type": "markdown",
      "source": [
        "We see that each dataset is given a name, so let’s inspect the metadata associated with the\n",
        "emotion dataset:"
      ],
      "metadata": {
        "id": "Ns2dh4xdbyIm"
      }
    },
    {
      "cell_type": "code",
      "source": [
        "metadata = list_datasets(with_details=True)[datasets.index(\"emotion\")]\n",
        "\n",
        "# Show dataset description\n",
        "print(\"Description:\", metadata.description, \"\\n\")\n",
        "# Show first 8 lines of the citation string\n",
        "print(\"Citation:\", \"\\n\".join(metadata.citation.split(\"\\n\")[:8]))"
      ],
      "metadata": {
        "colab": {
          "base_uri": "https://localhost:8080/"
        },
        "id": "WE2INspybyz1",
        "outputId": "8aaf254b-86d8-4554-94a9-19562c43becb"
      },
      "execution_count": 5,
      "outputs": [
        {
          "output_type": "stream",
          "name": "stdout",
          "text": [
            "Description: Emotion is a dataset of English Twitter messages with six basic emotions: anger, fear, joy, love, sadness, and surprise. For more detailed information please refer to the paper. \n",
            "\n",
            "Citation: @inproceedings{saravia-etal-2018-carer,\n",
            "    title = \"{CARER}: Contextualized Affect Representations for Emotion Recognition\",\n",
            "    author = \"Saravia, Elvis  and\n",
            "      Liu, Hsien-Chi Toby  and\n",
            "      Huang, Yen-Hao  and\n",
            "      Wu, Junlin  and\n",
            "      Chen, Yi-Shin\",\n",
            "    booktitle = \"Proceedings of the 2018 Conference on Empirical Methods in Natural Language Processing\",\n"
          ]
        }
      ]
    },
    {
      "cell_type": "markdown",
      "source": [
        "This looks like the dataset we’re after, so next we can load it with the `load_dataset` function from Datasets:"
      ],
      "metadata": {
        "id": "TFwzYC8Zdm-P"
      }
    },
    {
      "cell_type": "code",
      "source": [
        "emotions = load_dataset(\"emotion\")"
      ],
      "metadata": {
        "id": "pPaEqtbZdoj4"
      },
      "execution_count": null,
      "outputs": []
    },
    {
      "cell_type": "code",
      "source": [
        "emotions"
      ],
      "metadata": {
        "colab": {
          "base_uri": "https://localhost:8080/"
        },
        "id": "UZ1KLuRdeQnh",
        "outputId": "aead164c-4d1d-41ca-ac95-d6f829a1cecd"
      },
      "execution_count": 7,
      "outputs": [
        {
          "output_type": "execute_result",
          "data": {
            "text/plain": [
              "DatasetDict({\n",
              "    train: Dataset({\n",
              "        features: ['text', 'label'],\n",
              "        num_rows: 16000\n",
              "    })\n",
              "    validation: Dataset({\n",
              "        features: ['text', 'label'],\n",
              "        num_rows: 2000\n",
              "    })\n",
              "    test: Dataset({\n",
              "        features: ['text', 'label'],\n",
              "        num_rows: 2000\n",
              "    })\n",
              "})"
            ]
          },
          "metadata": {},
          "execution_count": 7
        }
      ]
    },
    {
      "cell_type": "markdown",
      "source": [
        "we see it is similar to a Python dictionary, with each key corresponding to a different split. \n",
        "\n",
        "And just like any dictionary, we can access an individual split as usual"
      ],
      "metadata": {
        "id": "SGOtUtiMebHD"
      }
    },
    {
      "cell_type": "code",
      "source": [
        "train_ds = emotions[\"train\"]\n",
        "train_ds"
      ],
      "metadata": {
        "colab": {
          "base_uri": "https://localhost:8080/"
        },
        "id": "iDGm5pQledFm",
        "outputId": "0bec3005-b19e-4d45-d925-04abcb701176"
      },
      "execution_count": 8,
      "outputs": [
        {
          "output_type": "execute_result",
          "data": {
            "text/plain": [
              "Dataset({\n",
              "    features: ['text', 'label'],\n",
              "    num_rows: 16000\n",
              "})"
            ]
          },
          "metadata": {},
          "execution_count": 8
        }
      ]
    },
    {
      "cell_type": "markdown",
      "source": [
        "This object behaves like an\n",
        "ordinary Python container, so we can query its length"
      ],
      "metadata": {
        "id": "leozYrtJeqo6"
      }
    },
    {
      "cell_type": "code",
      "source": [
        "len(train_ds)"
      ],
      "metadata": {
        "colab": {
          "base_uri": "https://localhost:8080/"
        },
        "id": "dvDZesbXerQ0",
        "outputId": "461fbb56-0695-4447-ea32-b6e9d5b5ae42"
      },
      "execution_count": null,
      "outputs": [
        {
          "output_type": "execute_result",
          "data": {
            "text/plain": [
              "16000"
            ]
          },
          "metadata": {},
          "execution_count": 9
        }
      ]
    },
    {
      "cell_type": "markdown",
      "source": [
        "or access a single example by its index"
      ],
      "metadata": {
        "id": "RECvP-DqexU5"
      }
    },
    {
      "cell_type": "code",
      "source": [
        "train_ds[0]"
      ],
      "metadata": {
        "colab": {
          "base_uri": "https://localhost:8080/"
        },
        "id": "ev1O0vYSexxU",
        "outputId": "e6c42bab-ba13-4c26-da7b-50c5a6535843"
      },
      "execution_count": null,
      "outputs": [
        {
          "output_type": "execute_result",
          "data": {
            "text/plain": [
              "{'label': 0, 'text': 'i didnt feel humiliated'}"
            ]
          },
          "metadata": {},
          "execution_count": 10
        }
      ]
    },
    {
      "cell_type": "markdown",
      "source": [
        "Here we see that a single row is represented as a\n",
        "dictionary, where the keys correspond to the column names"
      ],
      "metadata": {
        "id": "xfD3nZkbe7n1"
      }
    },
    {
      "cell_type": "code",
      "source": [
        "train_ds.column_names"
      ],
      "metadata": {
        "colab": {
          "base_uri": "https://localhost:8080/"
        },
        "id": "xR7VRirHe8Qj",
        "outputId": "5a3c2d2b-967c-4b4a-fd64-57c180bb4021"
      },
      "execution_count": 9,
      "outputs": [
        {
          "output_type": "execute_result",
          "data": {
            "text/plain": [
              "['text', 'label']"
            ]
          },
          "metadata": {},
          "execution_count": 9
        }
      ]
    },
    {
      "cell_type": "markdown",
      "source": [
        "This reflects the fact that Datasets is\n",
        "based on Apache Arrow, which defines a typed columnar format that is more memory efficient\n",
        "than native Python. \n",
        "\n",
        "We can see what data types are being used under the hood by accessing the\n",
        "features attribute of a Dataset object:"
      ],
      "metadata": {
        "id": "zOGbQFIrfGyD"
      }
    },
    {
      "cell_type": "code",
      "source": [
        "train_ds.features"
      ],
      "metadata": {
        "colab": {
          "base_uri": "https://localhost:8080/"
        },
        "id": "ZXFN6Y1MfKuf",
        "outputId": "c9b6a936-7345-4f15-ae64-e91a2a71b667"
      },
      "execution_count": 10,
      "outputs": [
        {
          "output_type": "execute_result",
          "data": {
            "text/plain": [
              "{'label': ClassLabel(num_classes=6, names=['sadness', 'joy', 'love', 'anger', 'fear', 'surprise'], names_file=None, id=None),\n",
              " 'text': Value(dtype='string', id=None)}"
            ]
          },
          "metadata": {},
          "execution_count": 10
        }
      ]
    },
    {
      "cell_type": "markdown",
      "source": [
        "We can also access several rows with a slice"
      ],
      "metadata": {
        "id": "3fpWX3D1fayp"
      }
    },
    {
      "cell_type": "code",
      "source": [
        "train_ds[:6]"
      ],
      "metadata": {
        "colab": {
          "base_uri": "https://localhost:8080/"
        },
        "id": "5ji3TnXWfZl3",
        "outputId": "dba96f5b-6ea1-46b8-a444-5d9dd031fbe0"
      },
      "execution_count": 11,
      "outputs": [
        {
          "output_type": "execute_result",
          "data": {
            "text/plain": [
              "{'label': [0, 0, 3, 2, 3, 0],\n",
              " 'text': ['i didnt feel humiliated',\n",
              "  'i can go from feeling so hopeless to so damned hopeful just from being around someone who cares and is awake',\n",
              "  'im grabbing a minute to post i feel greedy wrong',\n",
              "  'i am ever feeling nostalgic about the fireplace i will know that it is still on the property',\n",
              "  'i am feeling grouchy',\n",
              "  'ive been feeling a little burdened lately wasnt sure why that was']}"
            ]
          },
          "metadata": {},
          "execution_count": 11
        }
      ]
    },
    {
      "cell_type": "markdown",
      "source": [
        "or get the full column by name"
      ],
      "metadata": {
        "id": "r7Urq-NifloZ"
      }
    },
    {
      "cell_type": "code",
      "source": [
        "train_ds[\"text\"][:6]"
      ],
      "metadata": {
        "colab": {
          "base_uri": "https://localhost:8080/"
        },
        "id": "47yK6jLAfmN4",
        "outputId": "83e04e1a-256d-43f5-fc69-e65fd9af62b5"
      },
      "execution_count": 12,
      "outputs": [
        {
          "output_type": "execute_result",
          "data": {
            "text/plain": [
              "['i didnt feel humiliated',\n",
              " 'i can go from feeling so hopeless to so damned hopeful just from being around someone who cares and is awake',\n",
              " 'im grabbing a minute to post i feel greedy wrong',\n",
              " 'i am ever feeling nostalgic about the fireplace i will know that it is still on the property',\n",
              " 'i am feeling grouchy',\n",
              " 'ive been feeling a little burdened lately wasnt sure why that was']"
            ]
          },
          "metadata": {},
          "execution_count": 12
        }
      ]
    },
    {
      "cell_type": "markdown",
      "source": [
        "In each case the resulting data structure depends on the type of query; although this may feel\n",
        "strange at first, it’s part of the secret sauce that makes Datasets so flexible!"
      ],
      "metadata": {
        "id": "pqLCZbrwf3Eb"
      }
    },
    {
      "cell_type": "markdown",
      "source": [
        "###From Datasets to DataFrames"
      ],
      "metadata": {
        "id": "P5m7jqyif3ug"
      }
    },
    {
      "cell_type": "markdown",
      "source": [
        "Although Datasets provides a lot of low-level functionality to slice and dice our data, it is often\n",
        "convenient to convert a Dataset object to a Pandas DataFrame so we can access highlevel\n",
        "APIs for data visualization. \n",
        "\n",
        "To enable the conversion, Datasets provides a\n",
        "`Dataset.set_format` function that allow us to change the output format of the Dataset.\n",
        "\n",
        "This does not change the underlying data format which is Apache Arrow and you can switch to\n",
        "another format later if needed:"
      ],
      "metadata": {
        "id": "xqyQ0Xhsf6OL"
      }
    },
    {
      "cell_type": "code",
      "source": [
        "emotions.set_format(type=\"pandas\")\n",
        "\n",
        "df = emotions[\"train\"][:]\n",
        "df.head()"
      ],
      "metadata": {
        "colab": {
          "base_uri": "https://localhost:8080/",
          "height": 206
        },
        "id": "aDDPc_8AgTBQ",
        "outputId": "78595e71-f692-4a3f-c3e7-0de81348db4d"
      },
      "execution_count": null,
      "outputs": [
        {
          "output_type": "execute_result",
          "data": {
            "text/html": [
              "\n",
              "  <div id=\"df-06b5283b-9221-4c30-92f6-f86eb968e7b1\">\n",
              "    <div class=\"colab-df-container\">\n",
              "      <div>\n",
              "<style scoped>\n",
              "    .dataframe tbody tr th:only-of-type {\n",
              "        vertical-align: middle;\n",
              "    }\n",
              "\n",
              "    .dataframe tbody tr th {\n",
              "        vertical-align: top;\n",
              "    }\n",
              "\n",
              "    .dataframe thead th {\n",
              "        text-align: right;\n",
              "    }\n",
              "</style>\n",
              "<table border=\"1\" class=\"dataframe\">\n",
              "  <thead>\n",
              "    <tr style=\"text-align: right;\">\n",
              "      <th></th>\n",
              "      <th>text</th>\n",
              "      <th>label</th>\n",
              "    </tr>\n",
              "  </thead>\n",
              "  <tbody>\n",
              "    <tr>\n",
              "      <th>0</th>\n",
              "      <td>i didnt feel humiliated</td>\n",
              "      <td>0</td>\n",
              "    </tr>\n",
              "    <tr>\n",
              "      <th>1</th>\n",
              "      <td>i can go from feeling so hopeless to so damned...</td>\n",
              "      <td>0</td>\n",
              "    </tr>\n",
              "    <tr>\n",
              "      <th>2</th>\n",
              "      <td>im grabbing a minute to post i feel greedy wrong</td>\n",
              "      <td>3</td>\n",
              "    </tr>\n",
              "    <tr>\n",
              "      <th>3</th>\n",
              "      <td>i am ever feeling nostalgic about the fireplac...</td>\n",
              "      <td>2</td>\n",
              "    </tr>\n",
              "    <tr>\n",
              "      <th>4</th>\n",
              "      <td>i am feeling grouchy</td>\n",
              "      <td>3</td>\n",
              "    </tr>\n",
              "  </tbody>\n",
              "</table>\n",
              "</div>\n",
              "      <button class=\"colab-df-convert\" onclick=\"convertToInteractive('df-06b5283b-9221-4c30-92f6-f86eb968e7b1')\"\n",
              "              title=\"Convert this dataframe to an interactive table.\"\n",
              "              style=\"display:none;\">\n",
              "        \n",
              "  <svg xmlns=\"http://www.w3.org/2000/svg\" height=\"24px\"viewBox=\"0 0 24 24\"\n",
              "       width=\"24px\">\n",
              "    <path d=\"M0 0h24v24H0V0z\" fill=\"none\"/>\n",
              "    <path d=\"M18.56 5.44l.94 2.06.94-2.06 2.06-.94-2.06-.94-.94-2.06-.94 2.06-2.06.94zm-11 1L8.5 8.5l.94-2.06 2.06-.94-2.06-.94L8.5 2.5l-.94 2.06-2.06.94zm10 10l.94 2.06.94-2.06 2.06-.94-2.06-.94-.94-2.06-.94 2.06-2.06.94z\"/><path d=\"M17.41 7.96l-1.37-1.37c-.4-.4-.92-.59-1.43-.59-.52 0-1.04.2-1.43.59L10.3 9.45l-7.72 7.72c-.78.78-.78 2.05 0 2.83L4 21.41c.39.39.9.59 1.41.59.51 0 1.02-.2 1.41-.59l7.78-7.78 2.81-2.81c.8-.78.8-2.07 0-2.86zM5.41 20L4 18.59l7.72-7.72 1.47 1.35L5.41 20z\"/>\n",
              "  </svg>\n",
              "      </button>\n",
              "      \n",
              "  <style>\n",
              "    .colab-df-container {\n",
              "      display:flex;\n",
              "      flex-wrap:wrap;\n",
              "      gap: 12px;\n",
              "    }\n",
              "\n",
              "    .colab-df-convert {\n",
              "      background-color: #E8F0FE;\n",
              "      border: none;\n",
              "      border-radius: 50%;\n",
              "      cursor: pointer;\n",
              "      display: none;\n",
              "      fill: #1967D2;\n",
              "      height: 32px;\n",
              "      padding: 0 0 0 0;\n",
              "      width: 32px;\n",
              "    }\n",
              "\n",
              "    .colab-df-convert:hover {\n",
              "      background-color: #E2EBFA;\n",
              "      box-shadow: 0px 1px 2px rgba(60, 64, 67, 0.3), 0px 1px 3px 1px rgba(60, 64, 67, 0.15);\n",
              "      fill: #174EA6;\n",
              "    }\n",
              "\n",
              "    [theme=dark] .colab-df-convert {\n",
              "      background-color: #3B4455;\n",
              "      fill: #D2E3FC;\n",
              "    }\n",
              "\n",
              "    [theme=dark] .colab-df-convert:hover {\n",
              "      background-color: #434B5C;\n",
              "      box-shadow: 0px 1px 3px 1px rgba(0, 0, 0, 0.15);\n",
              "      filter: drop-shadow(0px 1px 2px rgba(0, 0, 0, 0.3));\n",
              "      fill: #FFFFFF;\n",
              "    }\n",
              "  </style>\n",
              "\n",
              "      <script>\n",
              "        const buttonEl =\n",
              "          document.querySelector('#df-06b5283b-9221-4c30-92f6-f86eb968e7b1 button.colab-df-convert');\n",
              "        buttonEl.style.display =\n",
              "          google.colab.kernel.accessAllowed ? 'block' : 'none';\n",
              "\n",
              "        async function convertToInteractive(key) {\n",
              "          const element = document.querySelector('#df-06b5283b-9221-4c30-92f6-f86eb968e7b1');\n",
              "          const dataTable =\n",
              "            await google.colab.kernel.invokeFunction('convertToInteractive',\n",
              "                                                     [key], {});\n",
              "          if (!dataTable) return;\n",
              "\n",
              "          const docLinkHtml = 'Like what you see? Visit the ' +\n",
              "            '<a target=\"_blank\" href=https://colab.research.google.com/notebooks/data_table.ipynb>data table notebook</a>'\n",
              "            + ' to learn more about interactive tables.';\n",
              "          element.innerHTML = '';\n",
              "          dataTable['output_type'] = 'display_data';\n",
              "          await google.colab.output.renderOutput(dataTable, element);\n",
              "          const docLink = document.createElement('div');\n",
              "          docLink.innerHTML = docLinkHtml;\n",
              "          element.appendChild(docLink);\n",
              "        }\n",
              "      </script>\n",
              "    </div>\n",
              "  </div>\n",
              "  "
            ],
            "text/plain": [
              "                                                text  label\n",
              "0                            i didnt feel humiliated      0\n",
              "1  i can go from feeling so hopeless to so damned...      0\n",
              "2   im grabbing a minute to post i feel greedy wrong      3\n",
              "3  i am ever feeling nostalgic about the fireplac...      2\n",
              "4                               i am feeling grouchy      3"
            ]
          },
          "metadata": {},
          "execution_count": 15
        }
      ]
    },
    {
      "cell_type": "markdown",
      "source": [
        "As we can see, the column headers have been preserved and the first few rows match our\n",
        "previous views of the data. \n",
        "\n",
        "However, the labels are represented as integers so let’s use the\n",
        "`ClassLabel.int2str` function to create a new column in our DataFrame with the\n",
        "corresponding label names:"
      ],
      "metadata": {
        "id": "wxNAZtVOhvUa"
      }
    },
    {
      "cell_type": "code",
      "source": [
        "def label_int2str(row, split):\n",
        "  return emotions[split].features[\"label\"].int2str(row)"
      ],
      "metadata": {
        "id": "_UienA5Chx-U"
      },
      "execution_count": null,
      "outputs": []
    },
    {
      "cell_type": "code",
      "source": [
        "df[\"label_name\"] = df[\"label\"].apply(label_int2str, split=\"train\")\n",
        "df.head()"
      ],
      "metadata": {
        "colab": {
          "base_uri": "https://localhost:8080/",
          "height": 206
        },
        "id": "nQ3XTyNlh_jE",
        "outputId": "6e1a964d-3e4c-4e49-b97d-3b375fd9aa9e"
      },
      "execution_count": null,
      "outputs": [
        {
          "output_type": "execute_result",
          "data": {
            "text/html": [
              "\n",
              "  <div id=\"df-987c087e-21e5-4c24-951d-4164b280d53d\">\n",
              "    <div class=\"colab-df-container\">\n",
              "      <div>\n",
              "<style scoped>\n",
              "    .dataframe tbody tr th:only-of-type {\n",
              "        vertical-align: middle;\n",
              "    }\n",
              "\n",
              "    .dataframe tbody tr th {\n",
              "        vertical-align: top;\n",
              "    }\n",
              "\n",
              "    .dataframe thead th {\n",
              "        text-align: right;\n",
              "    }\n",
              "</style>\n",
              "<table border=\"1\" class=\"dataframe\">\n",
              "  <thead>\n",
              "    <tr style=\"text-align: right;\">\n",
              "      <th></th>\n",
              "      <th>text</th>\n",
              "      <th>label</th>\n",
              "      <th>label_name</th>\n",
              "    </tr>\n",
              "  </thead>\n",
              "  <tbody>\n",
              "    <tr>\n",
              "      <th>0</th>\n",
              "      <td>i didnt feel humiliated</td>\n",
              "      <td>0</td>\n",
              "      <td>sadness</td>\n",
              "    </tr>\n",
              "    <tr>\n",
              "      <th>1</th>\n",
              "      <td>i can go from feeling so hopeless to so damned...</td>\n",
              "      <td>0</td>\n",
              "      <td>sadness</td>\n",
              "    </tr>\n",
              "    <tr>\n",
              "      <th>2</th>\n",
              "      <td>im grabbing a minute to post i feel greedy wrong</td>\n",
              "      <td>3</td>\n",
              "      <td>anger</td>\n",
              "    </tr>\n",
              "    <tr>\n",
              "      <th>3</th>\n",
              "      <td>i am ever feeling nostalgic about the fireplac...</td>\n",
              "      <td>2</td>\n",
              "      <td>love</td>\n",
              "    </tr>\n",
              "    <tr>\n",
              "      <th>4</th>\n",
              "      <td>i am feeling grouchy</td>\n",
              "      <td>3</td>\n",
              "      <td>anger</td>\n",
              "    </tr>\n",
              "  </tbody>\n",
              "</table>\n",
              "</div>\n",
              "      <button class=\"colab-df-convert\" onclick=\"convertToInteractive('df-987c087e-21e5-4c24-951d-4164b280d53d')\"\n",
              "              title=\"Convert this dataframe to an interactive table.\"\n",
              "              style=\"display:none;\">\n",
              "        \n",
              "  <svg xmlns=\"http://www.w3.org/2000/svg\" height=\"24px\"viewBox=\"0 0 24 24\"\n",
              "       width=\"24px\">\n",
              "    <path d=\"M0 0h24v24H0V0z\" fill=\"none\"/>\n",
              "    <path d=\"M18.56 5.44l.94 2.06.94-2.06 2.06-.94-2.06-.94-.94-2.06-.94 2.06-2.06.94zm-11 1L8.5 8.5l.94-2.06 2.06-.94-2.06-.94L8.5 2.5l-.94 2.06-2.06.94zm10 10l.94 2.06.94-2.06 2.06-.94-2.06-.94-.94-2.06-.94 2.06-2.06.94z\"/><path d=\"M17.41 7.96l-1.37-1.37c-.4-.4-.92-.59-1.43-.59-.52 0-1.04.2-1.43.59L10.3 9.45l-7.72 7.72c-.78.78-.78 2.05 0 2.83L4 21.41c.39.39.9.59 1.41.59.51 0 1.02-.2 1.41-.59l7.78-7.78 2.81-2.81c.8-.78.8-2.07 0-2.86zM5.41 20L4 18.59l7.72-7.72 1.47 1.35L5.41 20z\"/>\n",
              "  </svg>\n",
              "      </button>\n",
              "      \n",
              "  <style>\n",
              "    .colab-df-container {\n",
              "      display:flex;\n",
              "      flex-wrap:wrap;\n",
              "      gap: 12px;\n",
              "    }\n",
              "\n",
              "    .colab-df-convert {\n",
              "      background-color: #E8F0FE;\n",
              "      border: none;\n",
              "      border-radius: 50%;\n",
              "      cursor: pointer;\n",
              "      display: none;\n",
              "      fill: #1967D2;\n",
              "      height: 32px;\n",
              "      padding: 0 0 0 0;\n",
              "      width: 32px;\n",
              "    }\n",
              "\n",
              "    .colab-df-convert:hover {\n",
              "      background-color: #E2EBFA;\n",
              "      box-shadow: 0px 1px 2px rgba(60, 64, 67, 0.3), 0px 1px 3px 1px rgba(60, 64, 67, 0.15);\n",
              "      fill: #174EA6;\n",
              "    }\n",
              "\n",
              "    [theme=dark] .colab-df-convert {\n",
              "      background-color: #3B4455;\n",
              "      fill: #D2E3FC;\n",
              "    }\n",
              "\n",
              "    [theme=dark] .colab-df-convert:hover {\n",
              "      background-color: #434B5C;\n",
              "      box-shadow: 0px 1px 3px 1px rgba(0, 0, 0, 0.15);\n",
              "      filter: drop-shadow(0px 1px 2px rgba(0, 0, 0, 0.3));\n",
              "      fill: #FFFFFF;\n",
              "    }\n",
              "  </style>\n",
              "\n",
              "      <script>\n",
              "        const buttonEl =\n",
              "          document.querySelector('#df-987c087e-21e5-4c24-951d-4164b280d53d button.colab-df-convert');\n",
              "        buttonEl.style.display =\n",
              "          google.colab.kernel.accessAllowed ? 'block' : 'none';\n",
              "\n",
              "        async function convertToInteractive(key) {\n",
              "          const element = document.querySelector('#df-987c087e-21e5-4c24-951d-4164b280d53d');\n",
              "          const dataTable =\n",
              "            await google.colab.kernel.invokeFunction('convertToInteractive',\n",
              "                                                     [key], {});\n",
              "          if (!dataTable) return;\n",
              "\n",
              "          const docLinkHtml = 'Like what you see? Visit the ' +\n",
              "            '<a target=\"_blank\" href=https://colab.research.google.com/notebooks/data_table.ipynb>data table notebook</a>'\n",
              "            + ' to learn more about interactive tables.';\n",
              "          element.innerHTML = '';\n",
              "          dataTable['output_type'] = 'display_data';\n",
              "          await google.colab.output.renderOutput(dataTable, element);\n",
              "          const docLink = document.createElement('div');\n",
              "          docLink.innerHTML = docLinkHtml;\n",
              "          element.appendChild(docLink);\n",
              "        }\n",
              "      </script>\n",
              "    </div>\n",
              "  </div>\n",
              "  "
            ],
            "text/plain": [
              "                                                text  label label_name\n",
              "0                            i didnt feel humiliated      0    sadness\n",
              "1  i can go from feeling so hopeless to so damned...      0    sadness\n",
              "2   im grabbing a minute to post i feel greedy wrong      3      anger\n",
              "3  i am ever feeling nostalgic about the fireplac...      2       love\n",
              "4                               i am feeling grouchy      3      anger"
            ]
          },
          "metadata": {},
          "execution_count": 17
        }
      ]
    },
    {
      "cell_type": "markdown",
      "source": [
        "###Look at the Class Distribution"
      ],
      "metadata": {
        "id": "cvyIeZcLkGNW"
      }
    },
    {
      "cell_type": "markdown",
      "source": [
        "Whenever you are working on text classification problems, it is a good idea to examine the\n",
        "distribution of examples among each class. \n",
        "\n",
        "For example, a dataset with a skewed class\n",
        "distribution might require a different treatment in terms of the training loss and evaluation\n",
        "metrics than a balanced one.\n",
        "\n",
        "With Pandas and the visualisation library Matplotlib we can quickly visualize this as follows:"
      ],
      "metadata": {
        "id": "TL6_McSRkG8H"
      }
    },
    {
      "cell_type": "code",
      "source": [
        "df[\"label_name\"].value_counts(ascending=True).plot.barh()\n",
        "plt.title(\"Category Counts\");"
      ],
      "metadata": {
        "colab": {
          "base_uri": "https://localhost:8080/"
        },
        "id": "NrrK740UkwXQ",
        "outputId": "80456d28-8fa2-473f-9d12-45d6778d8605"
      },
      "execution_count": null,
      "outputs": [
        {
          "output_type": "display_data",
          "data": {
            "image/png": "[encoded data removed]",
            "text/plain": [
              "<Figure size 432x288 with 1 Axes>"
            ]
          },
          "metadata": {
            "needs_background": "light"
          }
        }
      ]
    },
    {
      "cell_type": "markdown",
      "source": [
        "We can see that the dataset is heavily imbalanced; the joy and sadness classes appear\n",
        "frequently whereas love and sadness are about 5-10 times rarer.\n",
        "\n",
        "There are several ways to\n",
        "deal with imbalanced data such as resampling the minority or majority classes.\n",
        "\n",
        "Alternatively, we can also weight the loss function to account for the underrepresented classes."
      ],
      "metadata": {
        "id": "zrzFOJU1lah_"
      }
    },
    {
      "cell_type": "markdown",
      "source": [
        "###How Long Are Our Tweets?"
      ],
      "metadata": {
        "id": "8XYTrTFoloGX"
      }
    },
    {
      "cell_type": "markdown",
      "source": [
        "Transformer models have a maximum input sequence length that is referred to as the maximum context size. \n",
        "\n",
        "For most applications with BERT, the maximum context size is 512 tokens, where\n",
        "a token is defined by the choice of tokenizer and can be a word, subword, or character. \n",
        "\n",
        "Let’s make a rough estimate of our tweet lengths per emotion by looking at the distribution of words per tweet:"
      ],
      "metadata": {
        "id": "c-ay6PU2lo6K"
      }
    },
    {
      "cell_type": "code",
      "source": [
        "df[\"Words Per Tweet\"] = df[\"text\"].str.split().apply(len)\n",
        "\n",
        "df.boxplot(\"Words Per Tweet\", by=\"label_name\", grid=False, showfliers=False, color=\"red\", )\n",
        "plt.suptitle(\"\")\n",
        "plt.xlabel(\"\");"
      ],
      "metadata": {
        "colab": {
          "base_uri": "https://localhost:8080/",
          "height": 336
        },
        "id": "hCjuEu9Tl_nS",
        "outputId": "e5d20d42-0e89-44a8-c20a-5135cc695e50"
      },
      "execution_count": null,
      "outputs": [
        {
          "output_type": "stream",
          "name": "stderr",
          "text": [
            "/usr/local/lib/python3.7/dist-packages/numpy/core/_asarray.py:83: VisibleDeprecationWarning: Creating an ndarray from ragged nested sequences (which is a list-or-tuple of lists-or-tuples-or ndarrays with different lengths or shapes) is deprecated. If you meant to do this, you must specify 'dtype=object' when creating the ndarray\n",
            "  return array(a, dtype, copy=False, order=order)\n"
          ]
        },
        {
          "output_type": "display_data",
          "data": {
            "image/png": "[encoded data removed]",
            "text/plain": [
              "<Figure size 432x288 with 1 Axes>"
            ]
          },
          "metadata": {
            "needs_background": "light"
          }
        }
      ]
    },
    {
      "cell_type": "markdown",
      "source": [
        "From the plot we see that for each emotion, most tweets are around 15 words long and the\n",
        "longest tweets are well below BERT’s maximum context size of 512 tokens. \n",
        "\n",
        "Texts that are\n",
        "longer than a model’s context window need to be truncated, which can lead to a loss in\n",
        "performance if the truncated text contains crucial information. \n",
        "\n",
        "Let’s now figure out how we can\n",
        "convert these raw texts into a format suitable for Transformers!"
      ],
      "metadata": {
        "id": "K7OzrHh-m6_Q"
      }
    },
    {
      "cell_type": "markdown",
      "source": [
        "##Tokenization"
      ],
      "metadata": {
        "id": "AcJYRsUunEVs"
      }
    },
    {
      "cell_type": "markdown",
      "source": [
        "Transformer models like BERT cannot receive raw strings as input; instead they assume the\n",
        "text has been tokenized into numerical vectors. Tokenization is the step of breaking down a\n",
        "string into the atomic units used in the model. \n",
        "\n",
        "There are several tokenization strategies one can\n",
        "adopt and the optimal splitting of words in sub-units is usually learned from the corpus.\n",
        "\n",
        "Before\n",
        "looking at the tokenizer used for BERT, let’s motivate it by looking at two extreme cases:\n",
        "character and word tokenizers."
      ],
      "metadata": {
        "id": "95kJmltPnHwi"
      }
    },
    {
      "cell_type": "markdown",
      "source": [
        "###Character Tokenization"
      ],
      "metadata": {
        "id": "6BbVhz19xukw"
      }
    },
    {
      "cell_type": "markdown",
      "source": [
        "The simplest tokenization scheme is to feed each character individually to the model. \n",
        "\n",
        "In Python, str objects are really arrays under the hood which allows us to quickly implement character-level tokenization with just one line of code:"
      ],
      "metadata": {
        "id": "p0ubSXmKxvWh"
      }
    },
    {
      "cell_type": "code",
      "source": [
        "text = \"Tokenizing text is a core task of NLP.\"\n",
        "tokenized_text = list(text)\n",
        "print(tokenized_text)"
      ],
      "metadata": {
        "id": "zMNBTepTyE2X",
        "outputId": "782d1b95-77d1-4d8b-d77c-02c653b0dbf9",
        "colab": {
          "base_uri": "https://localhost:8080/"
        }
      },
      "execution_count": null,
      "outputs": [
        {
          "output_type": "stream",
          "name": "stdout",
          "text": [
            "['T', 'o', 'k', 'e', 'n', 'i', 'z', 'i', 'n', 'g', ' ', 't', 'e', 'x', 't', ' ', 'i', 's', ' ', 'a', ' ', 'c', 'o', 'r', 'e', ' ', 't', 'a', 's', 'k', ' ', 'o', 'f', ' ', 'N', 'L', 'P', '.']\n"
          ]
        }
      ]
    },
    {
      "cell_type": "markdown",
      "source": [
        "This is a good start but we are not yet done because our model expects each character to be\n",
        "converted to an integer, a process called numericalization. \n",
        "\n",
        "One simple way to do this is by\n",
        "encoding each unique token (which are characters in this case) with a unique integer:"
      ],
      "metadata": {
        "id": "E3QhW_TK5sST"
      }
    },
    {
      "cell_type": "code",
      "source": [
        "token2idx = {}\n",
        "for idx, unique_char in enumerate(set(tokenized_text)):\n",
        "  token2idx[unique_char] = idx\n",
        "\n",
        "print(token2idx)"
      ],
      "metadata": {
        "id": "ZBnWs2365xzo",
        "outputId": "4146b446-7ee7-4c2a-f3e4-ae70af282673",
        "colab": {
          "base_uri": "https://localhost:8080/"
        }
      },
      "execution_count": null,
      "outputs": [
        {
          "output_type": "stream",
          "name": "stdout",
          "text": [
            "{'c': 0, 'r': 1, 'g': 2, 'i': 3, 'a': 4, 'P': 5, 'x': 6, '.': 7, 'f': 8, 'o': 9, 'L': 10, 'z': 11, 'N': 12, 'e': 13, 'T': 14, 't': 15, 'k': 16, 'n': 17, ' ': 18, 's': 19}\n"
          ]
        }
      ]
    },
    {
      "cell_type": "code",
      "source": [
        "token2idx[\"e\"]"
      ],
      "metadata": {
        "id": "7tZ4JOXB6uVf",
        "outputId": "6b25bec6-6dc0-44a3-de6f-0446bafa909c",
        "colab": {
          "base_uri": "https://localhost:8080/"
        }
      },
      "execution_count": null,
      "outputs": [
        {
          "output_type": "execute_result",
          "data": {
            "text/plain": [
              "13"
            ]
          },
          "metadata": {},
          "execution_count": 22
        }
      ]
    },
    {
      "cell_type": "code",
      "source": [
        "token2idx[\"c\"]"
      ],
      "metadata": {
        "id": "0KJjBdLR60SX",
        "outputId": "e82704d4-b270-4045-f48e-8a7b21019b76",
        "colab": {
          "base_uri": "https://localhost:8080/"
        }
      },
      "execution_count": null,
      "outputs": [
        {
          "output_type": "execute_result",
          "data": {
            "text/plain": [
              "0"
            ]
          },
          "metadata": {},
          "execution_count": 23
        }
      ]
    },
    {
      "cell_type": "markdown",
      "source": [
        "This gives us a mapping from each character in our vocabulary to a unique integer, so we can\n",
        "now use token2idx to transform the tokenized text to a list of integers:"
      ],
      "metadata": {
        "id": "Tt92jUYE6XHd"
      }
    },
    {
      "cell_type": "code",
      "source": [
        "input_ids = [token2idx[token] for token in tokenized_text]\n",
        "print(input_ids)"
      ],
      "metadata": {
        "id": "iggW90zK6YnO",
        "outputId": "6eb8d462-5850-4aef-cdca-01280015b37f",
        "colab": {
          "base_uri": "https://localhost:8080/"
        }
      },
      "execution_count": null,
      "outputs": [
        {
          "output_type": "stream",
          "name": "stdout",
          "text": [
            "[14, 9, 16, 13, 17, 3, 11, 3, 17, 2, 18, 15, 13, 6, 15, 18, 3, 19, 18, 4, 18, 0, 9, 1, 13, 18, 15, 4, 19, 16, 18, 9, 8, 18, 12, 10, 5, 7]\n"
          ]
        }
      ]
    },
    {
      "cell_type": "markdown",
      "source": [
        "We are almost done! Each token has been mapped to a unique, numerical identifier, hence the name `input_ids`.\n",
        "\n",
        "The last step is to convert `input_ids` into a 2d tensor of one-hot vectors\n",
        "which are better suited for neural networks than the categorical representation of `input_ids`.\n",
        "\n",
        "The reason for this is that the elements of `input_ids` create an ordinal scale, so adding or subtracting two IDs is a meaningless operation since the result in a new ID that represents another random token.\n",
        "\n",
        "On the other hand, the result of the adding two one-hot encodings can be\n",
        "easily interpreted: the two entries that are “hot” indicate that the corresponding two tokens cooccur.\n",
        "Each one-hot vector will have a length the size of the vocabulary and a “1” entry at the\n",
        "position of each ID, with zeros everywhere else.\n",
        "\n",
        "We can do this directly in PyTorch by converting `input_ids` to a `torch.Tensor`:"
      ],
      "metadata": {
        "id": "NxkX3miV7cLu"
      }
    },
    {
      "cell_type": "code",
      "source": [
        "input_ids = torch.tensor(input_ids)\n",
        "\n",
        "one_hot_encodings = torch.nn.functional.one_hot(input_ids)\n",
        "one_hot_encodings.shape"
      ],
      "metadata": {
        "id": "c0bB4Ea78afY",
        "outputId": "efded2dc-f858-4975-85e5-3a63376f141b",
        "colab": {
          "base_uri": "https://localhost:8080/"
        }
      },
      "execution_count": null,
      "outputs": [
        {
          "output_type": "execute_result",
          "data": {
            "text/plain": [
              "torch.Size([38, 20])"
            ]
          },
          "metadata": {},
          "execution_count": 25
        }
      ]
    },
    {
      "cell_type": "markdown",
      "source": [
        "For each of the 38 input tokens we now have a one-hot vector of dimension 20 since our vocabularly consists of 20 unique characters.\n",
        "\n",
        "By examining the first vector, we can verify that a\n",
        "1 appears in the location indicated by `input_ids[0]`:"
      ],
      "metadata": {
        "id": "7Fnqc0Kc9Pay"
      }
    },
    {
      "cell_type": "code",
      "source": [
        "print(f\"Token: {tokenized_text[0]}\")\n",
        "print(f\"Tensor index: {input_ids[0]}\")\n",
        "print(f\"One-hot vector: {one_hot_encodings[0]}\")"
      ],
      "metadata": {
        "id": "o0dQyrkB9TdW",
        "outputId": "d72a5d9c-2828-466a-f9c1-79ee24329c34",
        "colab": {
          "base_uri": "https://localhost:8080/"
        }
      },
      "execution_count": null,
      "outputs": [
        {
          "output_type": "stream",
          "name": "stdout",
          "text": [
            "Token: T\n",
            "Tensor index: 14\n",
            "One-hot vector: tensor([0, 0, 0, 0, 0, 0, 0, 0, 0, 0, 0, 0, 0, 0, 1, 0, 0, 0, 0, 0])\n"
          ]
        }
      ]
    },
    {
      "cell_type": "code",
      "source": [
        "print(f\"Token: {tokenized_text[3]}\")\n",
        "print(f\"Tensor index: {input_ids[3]}\")\n",
        "print(f\"One-hot vector: {one_hot_encodings[3]}\")"
      ],
      "metadata": {
        "id": "wAwQ9t4f9w4v",
        "outputId": "6269e919-8ae4-41d4-eea5-7c1bc6c44ae0",
        "colab": {
          "base_uri": "https://localhost:8080/"
        }
      },
      "execution_count": null,
      "outputs": [
        {
          "output_type": "stream",
          "name": "stdout",
          "text": [
            "Token: e\n",
            "Tensor index: 13\n",
            "One-hot vector: tensor([0, 0, 0, 0, 0, 0, 0, 0, 0, 0, 0, 0, 0, 1, 0, 0, 0, 0, 0, 0])\n"
          ]
        }
      ]
    },
    {
      "cell_type": "markdown",
      "source": [
        "From our simple example, we can see that character-level tokenization ignores any structure in the texts such as words and treats them just as streams of characters. Although this helps deal with misspellings and rare words, the main drawback is that linguistic structures such as words\n",
        "need to be learned, and that process requires significant compute and memory.\n",
        "\n",
        "For this reason, character tokenization is rarely used in practice. Instead, some structure of the text such as\n",
        "words is preserved during the tokenization step."
      ],
      "metadata": {
        "id": "pSUMdeBO_AOY"
      }
    },
    {
      "cell_type": "markdown",
      "source": [
        "###Word Tokenization"
      ],
      "metadata": {
        "id": "vwTX9OJk_MIf"
      }
    },
    {
      "cell_type": "markdown",
      "source": [
        "Instead of splitting the text into characters, we can split it into words and map each word to an\n",
        "integer. By using words from the outset, the model can skip the step of learning words from\n",
        "characters and thereby eliminate complexity from the training process.\n",
        "\n",
        "One simple class of word tokenizers uses whitespaces to tokenize the text. We can do this by\n",
        "applying Python’s split function directly on the raw text:"
      ],
      "metadata": {
        "id": "lRmigE9s_S7h"
      }
    },
    {
      "cell_type": "code",
      "source": [
        "tokenized_text = text.split()\n",
        "print(tokenized_text)"
      ],
      "metadata": {
        "id": "XxSp1zecOKXv",
        "outputId": "836a4580-22b0-491f-b5cd-8a33c6b7d330",
        "colab": {
          "base_uri": "https://localhost:8080/"
        }
      },
      "execution_count": null,
      "outputs": [
        {
          "output_type": "stream",
          "name": "stdout",
          "text": [
            "['Tokenizing', 'text', 'is', 'a', 'core', 'task', 'of', 'NLP.']\n"
          ]
        }
      ]
    },
    {
      "cell_type": "markdown",
      "source": [
        "However, we can already see one potential problem with this\n",
        "tokenization scheme; punctuation is not accounted for, so NLP. is treated as a single token.\n",
        "Given that words can include declinations, conjugations, or misspellings, the size of the\n",
        "vocabulary can easily grow into the millions!\n",
        "\n",
        "Words that are not part of the vocabulary are classified as “unknown” and\n",
        "mapped to a shared UNK token. This means that we lose some potentially important information\n",
        "in the process of word tokenization since the model has no information about which words\n",
        "were associated with the UNK tokens.\n",
        "\n",
        "Wouldn’t it be nice if there was a compromise between character and word tokenization that\n",
        "preserves all input information and some of the input structure?"
      ],
      "metadata": {
        "id": "6r2xX0zrOrZ3"
      }
    },
    {
      "cell_type": "markdown",
      "source": [
        "###Subword Tokenization"
      ],
      "metadata": {
        "id": "U4O6LxG5PZ4e"
      }
    },
    {
      "cell_type": "markdown",
      "source": [
        "The idea behind subword tokenization is to take the best of both worlds from character and\n",
        "word tokenization. On one hand, we want to use characters since they allow the model to deal\n",
        "with rare character combinations and misspellings. On the other hand, we want to keep frequent\n",
        "words and word parts as unique entities.\n",
        "\n",
        "There are several subword tokenization algorithms such as Byte-Pair-Encoding, WordPiece,\n",
        "Unigram, and SentencePiece. Most of them adopt a similar strategy:\n",
        "\n",
        "- Simple tokenization\n",
        "  The text corpus is split into words, usually according to whitespace and punctuation rules.\n",
        "- Counting\n",
        "  - All the words in the corpus are counted and the tally is stored.\n",
        "- Splitting\n",
        "  - The words in the tally are split into subwords. Initially these are characters.\n",
        "- Subword pairs counting\n",
        "  - Using the tally, the subword pairs are counted.\n",
        "-Merging\n",
        "  - Based on a rule, some of the subword pairs are merged in the corpus.\n",
        "- Stopping\n",
        "  - The process is stopped when a predefined vocabulary size is reached.\n",
        "\n",
        "The main distinguishing feature of subword tokenization (as well as word\n",
        "tokenization) is that it is learned from the corpus used for pretraining."
      ],
      "metadata": {
        "id": "r5MbwQnWPcN4"
      }
    },
    {
      "cell_type": "markdown",
      "source": [
        "###Using Pretrained Tokenizers"
      ],
      "metadata": {
        "id": "BWYtppgoSRXZ"
      }
    },
    {
      "cell_type": "markdown",
      "source": [
        "We’ve noted that loading the right pretrained tokenizer for a given pretrained model is crucial\n",
        "to getting sensible results. \n",
        "\n",
        "The Transformers library provides a convenient\n",
        "`from_pretrained` function that can be used to load both objects, either from the Hugging Face Model Hub or from a local path.\n",
        "\n",
        "To build our emotion detector we’ll use a BERT variant called DistilBERT, which is a\n",
        "downscaled version of the original BERT model. The main advantage of this model is that it\n",
        "achieves comparable performance to BERT while being significantly smaller and more\n",
        "efficient.\n",
        "\n",
        "Let’s get started by loading the tokenizer for the DistilBERT model."
      ],
      "metadata": {
        "id": "pjS47tMWSTjS"
      }
    },
    {
      "cell_type": "code",
      "source": [
        "model_name = \"distilbert-base-uncased\"\n",
        "tokenizer = AutoTokenizer.from_pretrained(model_name)"
      ],
      "metadata": {
        "id": "u8Wank0tTsM1"
      },
      "execution_count": null,
      "outputs": []
    },
    {
      "cell_type": "markdown",
      "source": [
        "We can examine a few attributes of the tokenizer such as the vocabulary size:"
      ],
      "metadata": {
        "id": "TrCVX20XUG-e"
      }
    },
    {
      "cell_type": "code",
      "source": [
        "tokenizer.vocab_size"
      ],
      "metadata": {
        "id": "oH6fi04CUHa0",
        "outputId": "c3b4adb7-7624-4e7a-899c-072197a5c23c",
        "colab": {
          "base_uri": "https://localhost:8080/"
        }
      },
      "execution_count": 17,
      "outputs": [
        {
          "output_type": "execute_result",
          "data": {
            "text/plain": [
              "30522"
            ]
          },
          "metadata": {},
          "execution_count": 17
        }
      ]
    },
    {
      "cell_type": "markdown",
      "source": [
        "We can also look at the special tokens used by the tokenizer, which differ from model to model.\n",
        "\n",
        "For example, BERT uses the `[MASK]` token for the primary objective of masked language\n",
        "modeling and the `[CLS]` and `[SEP]` tokens for the secondary pretraining objective of\n",
        "predicting if two sentences are consecutive:"
      ],
      "metadata": {
        "id": "pJrNRmAZUdkK"
      }
    },
    {
      "cell_type": "code",
      "source": [
        "tokenizer.special_tokens_map"
      ],
      "metadata": {
        "id": "sO837NxFUkvz",
        "outputId": "452633c2-f11c-4d00-9c87-ba2f9820102f",
        "colab": {
          "base_uri": "https://localhost:8080/"
        }
      },
      "execution_count": null,
      "outputs": [
        {
          "output_type": "execute_result",
          "data": {
            "text/plain": [
              "{'cls_token': '[CLS]',\n",
              " 'mask_token': '[MASK]',\n",
              " 'pad_token': '[PAD]',\n",
              " 'sep_token': '[SEP]',\n",
              " 'unk_token': '[UNK]'}"
            ]
          },
          "metadata": {},
          "execution_count": 31
        }
      ]
    },
    {
      "cell_type": "markdown",
      "source": [
        "Furthermore, the tokenizer stores the information of the corresponding model’s maximum\n",
        "context sizes:"
      ],
      "metadata": {
        "id": "eGt9oLXpUxeT"
      }
    },
    {
      "cell_type": "code",
      "source": [
        "tokenizer.model_max_length"
      ],
      "metadata": {
        "id": "1iFI3vCwUx8o",
        "outputId": "27515545-d102-4844-cef2-6cd893150708",
        "colab": {
          "base_uri": "https://localhost:8080/"
        }
      },
      "execution_count": null,
      "outputs": [
        {
          "output_type": "execute_result",
          "data": {
            "text/plain": [
              "512"
            ]
          },
          "metadata": {},
          "execution_count": 32
        }
      ]
    },
    {
      "cell_type": "markdown",
      "source": [
        "Lets examine how the encoding and decoding of strings works in practice by first encoding a\n",
        "test string:"
      ],
      "metadata": {
        "id": "rKsTAXGPU6lV"
      }
    },
    {
      "cell_type": "code",
      "source": [
        "encoded_str = tokenizer.encode(\"this is a complicatedtest\")\n",
        "encoded_str"
      ],
      "metadata": {
        "id": "xDlB8n3HU7Bz",
        "outputId": "a0201759-a73e-4e11-d93b-f75def98f0e4",
        "colab": {
          "base_uri": "https://localhost:8080/"
        }
      },
      "execution_count": null,
      "outputs": [
        {
          "output_type": "execute_result",
          "data": {
            "text/plain": [
              "[101, 2023, 2003, 1037, 8552, 22199, 102]"
            ]
          },
          "metadata": {},
          "execution_count": 33
        }
      ]
    },
    {
      "cell_type": "markdown",
      "source": [
        "We can see that the 4 input words have been mapped to seven integers. When we feed these\n",
        "values to the model, they are mapped into a one-hot vector in a manner. \n",
        "\n",
        "We can then translate the numerical tokens back using the\n",
        "decoder:"
      ],
      "metadata": {
        "id": "Wy8DKKxyWXZH"
      }
    },
    {
      "cell_type": "code",
      "source": [
        "for token in encoded_str:\n",
        "  print(token, tokenizer.decode([token]))"
      ],
      "metadata": {
        "id": "lR2x6uB5WaeQ",
        "outputId": "4260d9b5-d256-4567-f6ff-0e05d9d3d1ab",
        "colab": {
          "base_uri": "https://localhost:8080/"
        }
      },
      "execution_count": null,
      "outputs": [
        {
          "output_type": "stream",
          "name": "stdout",
          "text": [
            "101 [CLS]\n",
            "2023 this\n",
            "2003 is\n",
            "1037 a\n",
            "8552 complicated\n",
            "22199 ##test\n",
            "102 [SEP]\n"
          ]
        }
      ]
    },
    {
      "cell_type": "markdown",
      "source": [
        "We can observe two things. First, the `[CLS]` and `[SEP]` tokens have been added\n",
        "automatically to the start and end of the sequence, and second, the long word\n",
        "`complicatedtest` has been split into two tokens. The `##` prefix in `##test` signifies that\n",
        "the preceding string is not a whitespace and that it should be merged with the previous token."
      ],
      "metadata": {
        "id": "pc7PWTt8Wu_F"
      }
    },
    {
      "cell_type": "code",
      "source": [
        "encoded_str = tokenizer.encode(\"this is a complicated test\")\n",
        "encoded_str"
      ],
      "metadata": {
        "id": "gwaSgK8MW0z7",
        "outputId": "cecc11b4-df1d-4781-a77f-96b6a29431c4",
        "colab": {
          "base_uri": "https://localhost:8080/"
        }
      },
      "execution_count": null,
      "outputs": [
        {
          "output_type": "execute_result",
          "data": {
            "text/plain": [
              "[101, 2023, 2003, 1037, 8552, 3231, 102]"
            ]
          },
          "metadata": {},
          "execution_count": 35
        }
      ]
    },
    {
      "cell_type": "code",
      "source": [
        "for token in encoded_str:\n",
        "  print(token, tokenizer.decode([token]))"
      ],
      "metadata": {
        "id": "GP1wBgWfW7pl",
        "outputId": "0a0ae86e-9439-4dd8-f313-c4d0c23c35fd",
        "colab": {
          "base_uri": "https://localhost:8080/"
        }
      },
      "execution_count": null,
      "outputs": [
        {
          "output_type": "stream",
          "name": "stdout",
          "text": [
            "101 [CLS]\n",
            "2023 this\n",
            "2003 is\n",
            "1037 a\n",
            "8552 complicated\n",
            "3231 test\n",
            "102 [SEP]\n"
          ]
        }
      ]
    },
    {
      "cell_type": "markdown",
      "source": [
        "##Training a Text Classifier"
      ],
      "metadata": {
        "id": "O8-EPEmTXMQ5"
      }
    },
    {
      "cell_type": "markdown",
      "source": [
        "BERT models are pretrained to predict masked words in a sequence\n",
        "of text. However, we can’t use these language models directly for text classification, so instead\n",
        "we need to modify them slightly.\n",
        "\n",
        "<img src='https://github.com/rahiakela/transformers-research-and-practice/blob/main/natural-language-processing-with-transformers/02-text-classification/images/1.png?raw=1' width='800'/>\n",
        "\n",
        "First, the text is tokenized and represented as one-hot vectors whose dimension is the size of\n",
        "the tokenizer vocabulary, usually consisting of 50k-100k unique tokens. \n",
        "\n",
        "Next, these token\n",
        "encodings are embedded in lower dimensions and passed through the encoder block layers to\n",
        "yield a hidden state for each input token. \n",
        "\n",
        "For the pretraining objective of language modeling,\n",
        "each hidden state is connected to a layer that predicts the token for the input token, which is\n",
        "only non-trivial if the input token was masked. \n",
        "\n",
        "For the classification task, we replace the\n",
        "language modeling layer with a classification layer. BERT sequences always start with a\n",
        "classification token `[CLS]`, therefore we use the hidden state for the classification token as\n",
        "input for our classification layer.\n",
        "\n",
        "We have two options to train such a model on our Twitter dataset:\n",
        "- Feature extraction\n",
        "  - We use the hidden states as features and just train a classifier on them.\n",
        "- Fine-tuning\n",
        "  - We train the whole model end-to-end, which also updates the parameters of the pretrained BERT model.\n",
        "\n",
        "In this section we explore both options for DistilBert and examine their trade-offs."
      ],
      "metadata": {
        "id": "zLPTXZ6OXM4r"
      }
    },
    {
      "cell_type": "markdown",
      "source": [
        "###Transformers as Feature Extractors"
      ],
      "metadata": {
        "id": "H3ubA-LmZtoM"
      }
    },
    {
      "cell_type": "markdown",
      "source": [
        "To use a Transformer as a feature extractor is fairly simple;we freeze\n",
        "the body’s weights during training and use the hidden states as features for the classifier. \n",
        "\n",
        "The advantage of this approach is that we can quickly train a small or shallow model. Such a model\n",
        "could be a neural classification layer or a method that does not rely on gradients such a Random Forest. \n",
        "\n",
        "This method is especially convenient if GPUs are unavailable since the hidden\n",
        "states can be computed relatively fast on a CPU.\n",
        "\n",
        "<img src='https://github.com/rahiakela/transformers-research-and-practice/blob/main/natural-language-processing-with-transformers/02-text-classification/images/2.png?raw=1' width='800'/>\n",
        "\n",
        "The feature-based method relies on the assumption that the hidden states capture all the\n",
        "information necessary for the classification task. However, if some information is not required\n",
        "for the pretraining task, it may not be encoded in the hidden state, even if it would be crucial\n",
        "for the classification task. \n",
        "\n",
        "In this case the classification model has to work with suboptimal\n",
        "data, and it is better to use the fine-tuning approach."
      ],
      "metadata": {
        "id": "37VM1KwmZxxE"
      }
    },
    {
      "cell_type": "markdown",
      "source": [
        "####Using Pretrained Models"
      ],
      "metadata": {
        "id": "t-jSca37hvyr"
      }
    },
    {
      "cell_type": "markdown",
      "source": [
        "Since we want to avoid training a model from scratch we will also use the\n",
        "`from_pretrained` function from Transformers to load a pretrained DistilBERT model:"
      ],
      "metadata": {
        "id": "CtbAp2o7hwoI"
      }
    },
    {
      "cell_type": "code",
      "source": [
        "model = AutoModel.from_pretrained(model_name).to(device)"
      ],
      "metadata": {
        "id": "eTal_KxliCOm"
      },
      "execution_count": null,
      "outputs": []
    },
    {
      "cell_type": "markdown",
      "source": [
        "The `AutoModel` class corresponds to the input encoder that translates the one-hot vectors to\n",
        "embeddings with positional encodings and feeds them through the encoder stack to return the\n",
        "hidden states. \n",
        "\n",
        "The language model head that takes the hidden states and decodes them to the\n",
        "masked token prediction is excluded since it is only needed for pretraining. \n",
        "\n",
        "If you want to use\n",
        "that model head you can load the complete model with `AutoModelForMaskedLM`."
      ],
      "metadata": {
        "id": "XOpGCY3-jLA9"
      }
    },
    {
      "cell_type": "markdown",
      "source": [
        "####Extracting the Last Hidden States"
      ],
      "metadata": {
        "id": "DWdSpDUNjZyu"
      }
    },
    {
      "cell_type": "markdown",
      "source": [
        "To warm up, let’s retrieve the last hidden states for a single string. To do that we first need to\n",
        "tokenize the string."
      ],
      "metadata": {
        "id": "JRmzyYa3japM"
      }
    },
    {
      "cell_type": "code",
      "source": [
        "text = \"this is a test\"\n",
        "text_tensor = tokenizer.encode(text, return_tensors=\"pt\").to(device)"
      ],
      "metadata": {
        "id": "hfZzNpyqjesF"
      },
      "execution_count": null,
      "outputs": []
    },
    {
      "cell_type": "markdown",
      "source": [
        "The resulting tensor has the shape `[batch_size, n_tokens]`:"
      ],
      "metadata": {
        "id": "9_8YEsxQj3Fi"
      }
    },
    {
      "cell_type": "code",
      "source": [
        "text_tensor.shape"
      ],
      "metadata": {
        "id": "C-_PGg8wj42X",
        "outputId": "99704e68-f266-4ca3-ef6a-9b53b60c39bb",
        "colab": {
          "base_uri": "https://localhost:8080/"
        }
      },
      "execution_count": null,
      "outputs": [
        {
          "output_type": "execute_result",
          "data": {
            "text/plain": [
              "torch.Size([1, 6])"
            ]
          },
          "metadata": {},
          "execution_count": 39
        }
      ]
    },
    {
      "cell_type": "markdown",
      "source": [
        "We can now pass this tensor to the model to extract the hidden states. Depending on the model\n",
        "configuration, the output can contain several objects such as the hidden states, losses, or\n",
        "attentions, that are arranged in a class that is similar to a namedtuple in Python.\n",
        "\n",
        "In our\n",
        "example, the model output is a Python dataclass called BaseModelOutput, and like any\n",
        "class, we can access the attributes by name. Since the current model returns only one entry\n",
        "which is the last hidden state, let’s pass the encoded text and examine the outputs:"
      ],
      "metadata": {
        "id": "UbMLLf6Skjwd"
      }
    },
    {
      "cell_type": "code",
      "source": [
        "output = model(text_tensor)\n",
        "output.last_hidden_state.shape"
      ],
      "metadata": {
        "id": "EmWQ7lJOkw6-",
        "outputId": "5716b8eb-89ab-4d85-c1ed-6da016bf9c80",
        "colab": {
          "base_uri": "https://localhost:8080/"
        }
      },
      "execution_count": null,
      "outputs": [
        {
          "output_type": "execute_result",
          "data": {
            "text/plain": [
              "torch.Size([1, 6, 768])"
            ]
          },
          "metadata": {},
          "execution_count": 40
        }
      ]
    },
    {
      "cell_type": "markdown",
      "source": [
        "Looking at the hidden state tensor we see that it has the shape `[batch_size, n_tokens, hidden_dim]`. \n",
        "\n",
        "The way BERT works is that a hidden state is returned for each input, and the\n",
        "model uses these hidden states to predict masked tokens in the pretraining task. \n",
        "\n",
        "For\n",
        "classification tasks, it is common practice to use the hidden state associated with the `[CLS]`\n",
        "token as the input feature, which is located at the first position in the second dimension."
      ],
      "metadata": {
        "id": "tXHZsKB_lKEn"
      }
    },
    {
      "cell_type": "markdown",
      "source": [
        "####Tokenizing the Whole Dataset"
      ],
      "metadata": {
        "id": "shtT4Bj4lUB_"
      }
    },
    {
      "cell_type": "markdown",
      "source": [
        "Now that we know how to extract the hidden states for a single string, let’s tokenize the whole\n",
        "dataset! \n",
        "\n",
        "To do this, we can write a simple function that will tokenize our examples"
      ],
      "metadata": {
        "id": "Kdrpk38HlWrw"
      }
    },
    {
      "cell_type": "code",
      "source": [
        "def tokenize(batch):\n",
        "  return tokenizer(batch[\"text\"], padding=True, truncation=True)"
      ],
      "metadata": {
        "id": "GdOcTdJLoIJU"
      },
      "execution_count": 13,
      "outputs": []
    },
    {
      "cell_type": "markdown",
      "source": [
        "where `padding=True` will pad the examples with zeroes to the longest one in a batch, and\n",
        "`truncation=True` will truncate the examples to the model’s maximum context size.\n",
        "\n",
        "Previously, we set the output format of the dataset to \"pandas\" so that the accessed data is\n",
        "returned as a DataFrame. \n",
        "\n",
        "We don’t need this output format anymore so we can now reset it\n",
        "as follows:"
      ],
      "metadata": {
        "id": "ER1JlJCwoaGt"
      }
    },
    {
      "cell_type": "code",
      "source": [
        "emotions.reset_format()"
      ],
      "metadata": {
        "id": "3zWH5GQtol1g"
      },
      "execution_count": 14,
      "outputs": []
    },
    {
      "cell_type": "markdown",
      "source": [
        "By applying the tokenize function on a small set of texts."
      ],
      "metadata": {
        "id": "o4W8yVHeorST"
      }
    },
    {
      "cell_type": "code",
      "source": [
        "tokenize(emotions[\"train\"][:3])"
      ],
      "metadata": {
        "id": "rDx3_qxPor8o",
        "outputId": "f3e5bd65-7539-439b-a5cb-54f9e9cd8714",
        "colab": {
          "base_uri": "https://localhost:8080/"
        }
      },
      "execution_count": 18,
      "outputs": [
        {
          "output_type": "execute_result",
          "data": {
            "text/plain": [
              "{'input_ids': [[101, 1045, 2134, 2102, 2514, 26608, 102, 0, 0, 0, 0, 0, 0, 0, 0, 0, 0, 0, 0, 0, 0, 0, 0], [101, 1045, 2064, 2175, 2013, 3110, 2061, 20625, 2000, 2061, 9636, 17772, 2074, 2013, 2108, 2105, 2619, 2040, 14977, 1998, 2003, 8300, 102], [101, 10047, 9775, 1037, 3371, 2000, 2695, 1045, 2514, 20505, 3308, 102, 0, 0, 0, 0, 0, 0, 0, 0, 0, 0, 0]], 'attention_mask': [[1, 1, 1, 1, 1, 1, 1, 0, 0, 0, 0, 0, 0, 0, 0, 0, 0, 0, 0, 0, 0, 0, 0], [1, 1, 1, 1, 1, 1, 1, 1, 1, 1, 1, 1, 1, 1, 1, 1, 1, 1, 1, 1, 1, 1, 1], [1, 1, 1, 1, 1, 1, 1, 1, 1, 1, 1, 1, 0, 0, 0, 0, 0, 0, 0, 0, 0, 0, 0]]}"
            ]
          },
          "metadata": {},
          "execution_count": 18
        }
      ]
    },
    {
      "cell_type": "markdown",
      "source": [
        "we see that the result is a dictionary, where each value is a list of lists generated by the\n",
        "tokenizer. In particular, each sequence in input_ids starts with 101 and ends with 102,\n",
        "followed by zeroes, corresponding to the `[CLS], [SEP]`, and `[PAD]` tokens respectively:\n",
        "\n",
        "<img src='https://github.com/rahiakela/transformers-research-and-practice/blob/main/natural-language-processing-with-transformers/02-text-classification/images/3.png?raw=1' width='800'/>\n",
        "\n",
        "Also note that in addition to returning the encoded tweets as input_ids, the tokenizer also\n",
        "returns list of attention_mask arrays. This is because we do not want the model to get\n",
        "confused by the additional padding tokens, so the attention mask allows the model to ignore the\n",
        "padded parts of the input.\n",
        "\n",
        "<img src='https://github.com/rahiakela/transformers-research-and-practice/blob/main/natural-language-processing-with-transformers/02-text-classification/images/4.png?raw=1' width='800'/>\n",
        "\n",
        ">For each batch, the input sequences are padded to the maximum sequence length in the batch. The attention mask is used in the model to ignore the padded areas of the input tensors.\n",
        "\n",
        "To apply our tokenize function to the whole emotions corpus, we’ll use the\n",
        "DatasetDict.map function. \n",
        "\n",
        "This will apply tokenize across all the splits in the corpus,\n",
        "so our training, validation and test data will be preprocessed in a single line of code:"
      ],
      "metadata": {
        "id": "mEE7AMU1pAbD"
      }
    },
    {
      "cell_type": "code",
      "source": [
        "# batch_size=None applies our tokenize function in one single batch and ensures that the input tensors and attention masks have the same shape globally\n",
        "emotions_encoded = emotions.map(tokenize, batched=True, batch_size=None)"
      ],
      "metadata": {
        "id": "1gcxWkgdrzFs"
      },
      "execution_count": null,
      "outputs": []
    },
    {
      "cell_type": "markdown",
      "source": [
        "By default, `DatasetDict.map` operates individually on every example in the corpus, so setting `batched=True` will encode the tweets in batches, while `batch_size=None` applies our tokenize function in one single batch and ensures that the input tensors and attention masks have the same shape globally. \n",
        "\n",
        "We can see that this operation has added two new features to the dataset: `input_ids` and the `attention mask`."
      ],
      "metadata": {
        "id": "MwdkqczIsU8k"
      }
    },
    {
      "cell_type": "code",
      "source": [
        "emotions_encoded[\"train\"].features"
      ],
      "metadata": {
        "id": "GOobcJtBo_3Z",
        "outputId": "9e2c0196-23f9-4305-8c2d-b4766977d96b",
        "colab": {
          "base_uri": "https://localhost:8080/"
        }
      },
      "execution_count": 20,
      "outputs": [
        {
          "output_type": "execute_result",
          "data": {
            "text/plain": [
              "{'attention_mask': Sequence(feature=Value(dtype='int8', id=None), length=-1, id=None),\n",
              " 'input_ids': Sequence(feature=Value(dtype='int32', id=None), length=-1, id=None),\n",
              " 'label': ClassLabel(num_classes=6, names=['sadness', 'joy', 'love', 'anger', 'fear', 'surprise'], names_file=None, id=None),\n",
              " 'text': Value(dtype='string', id=None)}"
            ]
          },
          "metadata": {},
          "execution_count": 20
        }
      ]
    },
    {
      "cell_type": "code",
      "source": [
        "emotions_encoded[\"train\"].features[\"attention_mask\"]"
      ],
      "metadata": {
        "id": "DvKyMMTKtFKe",
        "outputId": "838ecf74-0ee4-4453-a6b3-8c1d30267414",
        "colab": {
          "base_uri": "https://localhost:8080/"
        }
      },
      "execution_count": null,
      "outputs": [
        {
          "output_type": "execute_result",
          "data": {
            "text/plain": [
              "Sequence(feature=Value(dtype='int8', id=None), length=-1, id=None)"
            ]
          },
          "metadata": {},
          "execution_count": 46
        }
      ]
    },
    {
      "cell_type": "code",
      "source": [
        "emotions_encoded[\"train\"].features[\"input_ids\"]"
      ],
      "metadata": {
        "id": "EF0UsdCatJdW",
        "outputId": "3921cedd-d055-40bc-a653-69c6285b0555",
        "colab": {
          "base_uri": "https://localhost:8080/"
        }
      },
      "execution_count": null,
      "outputs": [
        {
          "output_type": "execute_result",
          "data": {
            "text/plain": [
              "Sequence(feature=Value(dtype='int32', id=None), length=-1, id=None)"
            ]
          },
          "metadata": {},
          "execution_count": 47
        }
      ]
    },
    {
      "cell_type": "code",
      "source": [
        "emotions_encoded[\"train\"].features[\"label\"]"
      ],
      "metadata": {
        "id": "64MG2ANytMPV",
        "outputId": "63f308cb-1a72-49d6-992c-1e30d818460e",
        "colab": {
          "base_uri": "https://localhost:8080/"
        }
      },
      "execution_count": null,
      "outputs": [
        {
          "output_type": "execute_result",
          "data": {
            "text/plain": [
              "ClassLabel(num_classes=6, names=['sadness', 'joy', 'love', 'anger', 'fear', 'surprise'], names_file=None, id=None)"
            ]
          },
          "metadata": {},
          "execution_count": 48
        }
      ]
    },
    {
      "cell_type": "code",
      "source": [
        "emotions_encoded[\"train\"].features[\"text\"]"
      ],
      "metadata": {
        "id": "cOrJJqjItPYH",
        "outputId": "f7cba2a8-6223-4ae3-e04e-ea9eb4fcbac9",
        "colab": {
          "base_uri": "https://localhost:8080/"
        }
      },
      "execution_count": null,
      "outputs": [
        {
          "output_type": "execute_result",
          "data": {
            "text/plain": [
              "Value(dtype='string', id=None)"
            ]
          },
          "metadata": {},
          "execution_count": 49
        }
      ]
    },
    {
      "cell_type": "markdown",
      "source": [
        "####From Input IDs to Hidden States"
      ],
      "metadata": {
        "id": "U0CjD5M5tDUR"
      }
    },
    {
      "cell_type": "markdown",
      "source": [
        "Now that we have converted our tweets to numerical inputs, the next step is to extract the last hidden states so that we can feed them to a classifier. \n",
        "\n",
        "If we had a single example we could simply pass the `input_ids` and `attention_mask` to the model as follows:\n",
        "\n",
        "```python\n",
        "hidden_states = model(input_ids, attention_mask)\n",
        "```\n",
        "\n",
        "but what we really want are the hidden states across the whole dataset. For this, we can use the `DatasetDict.map` function again! \n",
        "\n",
        "Let’s define a `forward_pass` function that takes a\n",
        "batch of input IDs and attention masks, feeds them to the model, and adds a new\n",
        "`hidden_state` feature to our batch:"
      ],
      "metadata": {
        "id": "PqTF5IH8tEVh"
      }
    },
    {
      "cell_type": "code",
      "source": [
        "def forward_pass(batch):\n",
        "  input_ids = torch.tensor(batch[\"input_ids\"]).to(device)\n",
        "  attention_mask = torch.tensor(batch[\"attention_mask\"]).to(device)\n",
        "\n",
        "  with torch.no_grad():\n",
        "    last_hidden_state = model(input_ids, attention_mask).last_hidden_state\n",
        "    last_hidden_state = last_hidden_state.cpu().numpy()\n",
        "\n",
        "  # Use average of unmasked hidden states for classification\n",
        "  lhs_shape = last_hidden_state.shape\n",
        "  boolean_mask = ~np.array(batch[\"attention_mask\"]).astype(bool)\n",
        "  boolean_mask = np.repeat(boolean_mask, lhs_shape[-1], axis=-1)\n",
        "  boolean_mask = boolean_mask.reshape(lhs_shape)\n",
        "  masked_mean = np.ma.array(last_hidden_state, mask=boolean_mask).mean(axis=1)\n",
        "  batch[\"hidden_state\"] = masked_mean.data\n",
        "\n",
        "  return batch"
      ],
      "metadata": {
        "id": "G6puqUqfhM-X"
      },
      "execution_count": null,
      "outputs": []
    },
    {
      "cell_type": "code",
      "source": [
        "emotions_encoded = emotions_encoded.map(forward_pass, batched=True, batch_size=16)"
      ],
      "metadata": {
        "id": "V0KOA1lCioyo"
      },
      "execution_count": null,
      "outputs": []
    },
    {
      "cell_type": "markdown",
      "source": [
        "As before, the application of DatasetDict.map has added a new hidden_state feature to our dataset:"
      ],
      "metadata": {
        "id": "fX-kn4jpi6zv"
      }
    },
    {
      "cell_type": "code",
      "source": [
        "emotions_encoded[\"train\"].features"
      ],
      "metadata": {
        "id": "JDaQAUAXi8NN",
        "outputId": "cbe05cca-fd75-4914-d437-9e0c0caa9366",
        "colab": {
          "base_uri": "https://localhost:8080/"
        }
      },
      "execution_count": null,
      "outputs": [
        {
          "output_type": "execute_result",
          "data": {
            "text/plain": [
              "{'attention_mask': Sequence(feature=Value(dtype='int8', id=None), length=-1, id=None),\n",
              " 'hidden_state': Sequence(feature=Value(dtype='float64', id=None), length=-1, id=None),\n",
              " 'input_ids': Sequence(feature=Value(dtype='int32', id=None), length=-1, id=None),\n",
              " 'label': ClassLabel(num_classes=6, names=['sadness', 'joy', 'love', 'anger', 'fear', 'surprise'], names_file=None, id=None),\n",
              " 'text': Value(dtype='string', id=None)}"
            ]
          },
          "metadata": {},
          "execution_count": 52
        }
      ]
    },
    {
      "cell_type": "code",
      "source": [
        "labels_name= emotions_encoded[\"train\"].features[\"label\"]\n",
        "labels_name.names"
      ],
      "metadata": {
        "id": "H02zSbWtxiI3",
        "outputId": "f502c404-3f57-4cd3-94bd-38eea5219a8f",
        "colab": {
          "base_uri": "https://localhost:8080/"
        }
      },
      "execution_count": null,
      "outputs": [
        {
          "output_type": "execute_result",
          "data": {
            "text/plain": [
              "['sadness', 'joy', 'love', 'anger', 'fear', 'surprise']"
            ]
          },
          "metadata": {},
          "execution_count": 53
        }
      ]
    },
    {
      "cell_type": "markdown",
      "source": [
        "####Creating a Feature Matrix"
      ],
      "metadata": {
        "id": "HAR99aNWjfb3"
      }
    },
    {
      "cell_type": "markdown",
      "source": [
        "The preprocessed dataset now contains all the information we need to train a clasifier on it. We\n",
        "will use the hidden states as input features and the labels as targets. \n",
        "\n",
        "We can easily create the\n",
        "corresponding arrays in the well known Scikit-Learn format as follows:"
      ],
      "metadata": {
        "id": "_Iieu74UjgMN"
      }
    },
    {
      "cell_type": "code",
      "source": [
        "x_train = np.array(emotions_encoded[\"train\"][\"hidden_state\"])\n",
        "x_valid = np.array(emotions_encoded[\"validation\"][\"hidden_state\"])\n",
        "\n",
        "y_train = np.array(emotions_encoded[\"train\"][\"label\"])\n",
        "y_valid = np.array(emotions_encoded[\"validation\"][\"label\"])\n",
        "\n",
        "x_train.shape, x_valid.shape"
      ],
      "metadata": {
        "id": "n5jXHj2DjuVX"
      },
      "execution_count": null,
      "outputs": []
    },
    {
      "cell_type": "markdown",
      "source": [
        "####Dimensionality Reduction with UMAP"
      ],
      "metadata": {
        "id": "1JcTEZwpkqxG"
      }
    },
    {
      "cell_type": "markdown",
      "source": [
        "Before we train a model on the hidden states, it is good practice to perform a sanity check that\n",
        "they provide a useful representation of the emotions we want to classify. \n",
        "\n",
        "Since visualising the hidden states in 768 dimensions is tricky to say the least, we’ll use the powerful UMAP algorithm to project the vectors down to 2D. \n",
        "\n",
        "Since UMAP works best when the features are scaled to lie in the `[0,1]` interval, we’ll first apply a MinMaxScaler and then use UMAP to\n",
        "reduce the hidden states:"
      ],
      "metadata": {
        "id": "1XFcm7NLkrjm"
      }
    },
    {
      "cell_type": "code",
      "source": [
        "x_scaled = MinMaxScaler().fit_transform(x_train)\n",
        "mapper = umap.UMAP(n_components=2, metric=\"cosine\").fit(x_scaled)\n",
        "df_emb = pd.DataFrame(mapper.embedding_, columns=[\"X\", \"Y\"])\n",
        "df_emb[\"label\"] = y_train\n",
        "\n",
        "df_emb.head()"
      ],
      "metadata": {
        "id": "6_rihDiHoi98",
        "outputId": "04df2cbe-e9a1-4ee7-c9ee-80d832dcb098",
        "colab": {
          "base_uri": "https://localhost:8080/",
          "height": 262
        }
      },
      "execution_count": null,
      "outputs": [
        {
          "output_type": "stream",
          "name": "stderr",
          "text": [
            "/usr/local/lib/python3.7/dist-packages/numba/np/ufunc/parallel.py:363: NumbaWarning: The TBB threading layer requires TBB version 2019.5 or later i.e., TBB_INTERFACE_VERSION >= 11005. Found TBB_INTERFACE_VERSION = 9107. The TBB threading layer is disabled.\n",
            "  warnings.warn(problem)\n"
          ]
        },
        {
          "output_type": "execute_result",
          "data": {
            "text/html": [
              "\n",
              "  <div id=\"df-b3b8dbc1-c156-4292-8a62-432c1c1aa171\">\n",
              "    <div class=\"colab-df-container\">\n",
              "      <div>\n",
              "<style scoped>\n",
              "    .dataframe tbody tr th:only-of-type {\n",
              "        vertical-align: middle;\n",
              "    }\n",
              "\n",
              "    .dataframe tbody tr th {\n",
              "        vertical-align: top;\n",
              "    }\n",
              "\n",
              "    .dataframe thead th {\n",
              "        text-align: right;\n",
              "    }\n",
              "</style>\n",
              "<table border=\"1\" class=\"dataframe\">\n",
              "  <thead>\n",
              "    <tr style=\"text-align: right;\">\n",
              "      <th></th>\n",
              "      <th>X</th>\n",
              "      <th>Y</th>\n",
              "      <th>label</th>\n",
              "    </tr>\n",
              "  </thead>\n",
              "  <tbody>\n",
              "    <tr>\n",
              "      <th>0</th>\n",
              "      <td>6.474867</td>\n",
              "      <td>5.140305</td>\n",
              "      <td>0</td>\n",
              "    </tr>\n",
              "    <tr>\n",
              "      <th>1</th>\n",
              "      <td>1.916867</td>\n",
              "      <td>4.574407</td>\n",
              "      <td>0</td>\n",
              "    </tr>\n",
              "    <tr>\n",
              "      <th>2</th>\n",
              "      <td>6.008131</td>\n",
              "      <td>2.303594</td>\n",
              "      <td>3</td>\n",
              "    </tr>\n",
              "    <tr>\n",
              "      <th>3</th>\n",
              "      <td>2.822925</td>\n",
              "      <td>3.125662</td>\n",
              "      <td>2</td>\n",
              "    </tr>\n",
              "    <tr>\n",
              "      <th>4</th>\n",
              "      <td>0.851410</td>\n",
              "      <td>7.045726</td>\n",
              "      <td>3</td>\n",
              "    </tr>\n",
              "  </tbody>\n",
              "</table>\n",
              "</div>\n",
              "      <button class=\"colab-df-convert\" onclick=\"convertToInteractive('df-b3b8dbc1-c156-4292-8a62-432c1c1aa171')\"\n",
              "              title=\"Convert this dataframe to an interactive table.\"\n",
              "              style=\"display:none;\">\n",
              "        \n",
              "  <svg xmlns=\"http://www.w3.org/2000/svg\" height=\"24px\"viewBox=\"0 0 24 24\"\n",
              "       width=\"24px\">\n",
              "    <path d=\"M0 0h24v24H0V0z\" fill=\"none\"/>\n",
              "    <path d=\"M18.56 5.44l.94 2.06.94-2.06 2.06-.94-2.06-.94-.94-2.06-.94 2.06-2.06.94zm-11 1L8.5 8.5l.94-2.06 2.06-.94-2.06-.94L8.5 2.5l-.94 2.06-2.06.94zm10 10l.94 2.06.94-2.06 2.06-.94-2.06-.94-.94-2.06-.94 2.06-2.06.94z\"/><path d=\"M17.41 7.96l-1.37-1.37c-.4-.4-.92-.59-1.43-.59-.52 0-1.04.2-1.43.59L10.3 9.45l-7.72 7.72c-.78.78-.78 2.05 0 2.83L4 21.41c.39.39.9.59 1.41.59.51 0 1.02-.2 1.41-.59l7.78-7.78 2.81-2.81c.8-.78.8-2.07 0-2.86zM5.41 20L4 18.59l7.72-7.72 1.47 1.35L5.41 20z\"/>\n",
              "  </svg>\n",
              "      </button>\n",
              "      \n",
              "  <style>\n",
              "    .colab-df-container {\n",
              "      display:flex;\n",
              "      flex-wrap:wrap;\n",
              "      gap: 12px;\n",
              "    }\n",
              "\n",
              "    .colab-df-convert {\n",
              "      background-color: #E8F0FE;\n",
              "      border: none;\n",
              "      border-radius: 50%;\n",
              "      cursor: pointer;\n",
              "      display: none;\n",
              "      fill: #1967D2;\n",
              "      height: 32px;\n",
              "      padding: 0 0 0 0;\n",
              "      width: 32px;\n",
              "    }\n",
              "\n",
              "    .colab-df-convert:hover {\n",
              "      background-color: #E2EBFA;\n",
              "      box-shadow: 0px 1px 2px rgba(60, 64, 67, 0.3), 0px 1px 3px 1px rgba(60, 64, 67, 0.15);\n",
              "      fill: #174EA6;\n",
              "    }\n",
              "\n",
              "    [theme=dark] .colab-df-convert {\n",
              "      background-color: #3B4455;\n",
              "      fill: #D2E3FC;\n",
              "    }\n",
              "\n",
              "    [theme=dark] .colab-df-convert:hover {\n",
              "      background-color: #434B5C;\n",
              "      box-shadow: 0px 1px 3px 1px rgba(0, 0, 0, 0.15);\n",
              "      filter: drop-shadow(0px 1px 2px rgba(0, 0, 0, 0.3));\n",
              "      fill: #FFFFFF;\n",
              "    }\n",
              "  </style>\n",
              "\n",
              "      <script>\n",
              "        const buttonEl =\n",
              "          document.querySelector('#df-b3b8dbc1-c156-4292-8a62-432c1c1aa171 button.colab-df-convert');\n",
              "        buttonEl.style.display =\n",
              "          google.colab.kernel.accessAllowed ? 'block' : 'none';\n",
              "\n",
              "        async function convertToInteractive(key) {\n",
              "          const element = document.querySelector('#df-b3b8dbc1-c156-4292-8a62-432c1c1aa171');\n",
              "          const dataTable =\n",
              "            await google.colab.kernel.invokeFunction('convertToInteractive',\n",
              "                                                     [key], {});\n",
              "          if (!dataTable) return;\n",
              "\n",
              "          const docLinkHtml = 'Like what you see? Visit the ' +\n",
              "            '<a target=\"_blank\" href=https://colab.research.google.com/notebooks/data_table.ipynb>data table notebook</a>'\n",
              "            + ' to learn more about interactive tables.';\n",
              "          element.innerHTML = '';\n",
              "          dataTable['output_type'] = 'display_data';\n",
              "          await google.colab.output.renderOutput(dataTable, element);\n",
              "          const docLink = document.createElement('div');\n",
              "          docLink.innerHTML = docLinkHtml;\n",
              "          element.appendChild(docLink);\n",
              "        }\n",
              "      </script>\n",
              "    </div>\n",
              "  </div>\n",
              "  "
            ],
            "text/plain": [
              "          X         Y  label\n",
              "0  6.474867  5.140305      0\n",
              "1  1.916867  4.574407      0\n",
              "2  6.008131  2.303594      3\n",
              "3  2.822925  3.125662      2\n",
              "4  0.851410  7.045726      3"
            ]
          },
          "metadata": {},
          "execution_count": 55
        }
      ]
    },
    {
      "cell_type": "markdown",
      "source": [
        "The result is an array with the same number of training samples, but with only 2 features instead of the 768 we started with! \n",
        "\n",
        "Let us investigate the compressed data a little bit further and\n",
        "plot the density of points for each category separately:"
      ],
      "metadata": {
        "id": "pnj3R2qfsD8C"
      }
    },
    {
      "cell_type": "code",
      "source": [
        "labels= emotions_encoded[\"train\"].features[\"label\"]\n",
        "labels.names"
      ],
      "metadata": {
        "id": "j5mqzxUkyF-g",
        "outputId": "f673374d-8e2b-4ce4-e7e8-089a17fbc45e",
        "colab": {
          "base_uri": "https://localhost:8080/"
        }
      },
      "execution_count": null,
      "outputs": [
        {
          "output_type": "execute_result",
          "data": {
            "text/plain": [
              "['sadness', 'joy', 'love', 'anger', 'fear', 'surprise']"
            ]
          },
          "metadata": {},
          "execution_count": 56
        }
      ]
    },
    {
      "cell_type": "code",
      "source": [
        "fig, axes = plt.subplots(2, 3)\n",
        "axes = axes.flatten()\n",
        "cmaps = [\"Greys\", \"Blues\", \"Oranges\", \"Reds\", \"Purples\", \"Greens\"]\n",
        "labels= emotions_encoded[\"train\"].features[\"label\"].names\n",
        "\n",
        "for i, (label, cmap) in enumerate(zip(labels, cmaps)):\n",
        "  df_emb_sub = df_emb.query(f\"label == {i}\")\n",
        "  axes[i].hexbin(df_emb_sub[\"X\"], df_emb_sub[\"Y\"], cmap=cmap, gridsize=20, linewidths=(0,))\n",
        "  axes[i].set_title(label)\n",
        "  axes[i].set_xticks([]), axes[i].set_yticks([])"
      ],
      "metadata": {
        "id": "-6g6h59psGS8",
        "outputId": "d84421e4-561d-4e21-ad07-96b27293fb15",
        "colab": {
          "base_uri": "https://localhost:8080/",
          "height": 268
        }
      },
      "execution_count": null,
      "outputs": [
        {
          "output_type": "display_data",
          "data": {
            "image/png": "[encoded data removed]",
            "text/plain": [
              "<Figure size 432x288 with 6 Axes>"
            ]
          },
          "metadata": {}
        }
      ]
    },
    {
      "cell_type": "markdown",
      "source": [
        ">These are only projections onto a lower dimensional space. Just because some categories overlap does not mean\n",
        "that they are not separable in the original space. Conversely, if they are separable in the projected space they will\n",
        "be separable in the original space.\n",
        "\n",
        "Now there seem to be clearer patterns; the negative feelings such as sadness, anger and\n",
        "fear all occupy a similar regions with slightly varying distributions. \n",
        "\n",
        "On the other hand, joy\n",
        "and love are well separated from the negative emotions and also share a similar space.\n",
        "\n",
        "Finally, surprise is scattered all over the place. We hoped for some separation but this in no\n",
        "way guaranteed since the model was not trained to know the difference between this emotions\n",
        "but learned them implicitly by predicting missing words."
      ],
      "metadata": {
        "id": "lrB5e0WayfuO"
      }
    },
    {
      "cell_type": "markdown",
      "source": [
        "####Training a Simple Classifier"
      ],
      "metadata": {
        "id": "mPmTzNQ_y2bu"
      }
    },
    {
      "cell_type": "markdown",
      "source": [
        "We have seen that the hidden states are somewhat different between the emotions, although for\n",
        "several of them there is not an obvious boundary. \n",
        "\n",
        "Let’s use these hidden states to train a simple\n",
        "logistic regressor with Scikit-Learn! Training such a simple model is fast and does not require a GPU:"
      ],
      "metadata": {
        "id": "71DzidTcy5cp"
      }
    },
    {
      "cell_type": "code",
      "source": [
        "lr_clf = LogisticRegression(n_jobs=-1, penalty=\"none\")\n",
        "lr_clf.fit(x_train, y_train)\n",
        "lr_clf.score(x_valid, y_valid)"
      ],
      "metadata": {
        "id": "H9yWM5A5nsrl",
        "outputId": "be8fdea5-020c-4b02-a17f-c7cae844ada3",
        "colab": {
          "base_uri": "https://localhost:8080/"
        }
      },
      "execution_count": null,
      "outputs": [
        {
          "output_type": "execute_result",
          "data": {
            "text/plain": [
              "0.6495"
            ]
          },
          "metadata": {},
          "execution_count": 58
        }
      ]
    },
    {
      "cell_type": "markdown",
      "source": [
        "By looking at the accuracy it might appear that our model is just a bit better than random, but\n",
        "since we are dealing with an unbalanced multiclass dataset this is significantly better than\n",
        "random. We can get a better feeling for whether our model is any good by comparing against a\n",
        "simple baseline.\n",
        "\n",
        "In Scikit-Learn there is a `DummyClassifier` that can be used to build a\n",
        "classifier with simple heuristics such as always choose the majority class or always draw a random class. In this case the best performing heuristic is to always choose the most frequent class:"
      ],
      "metadata": {
        "id": "41d7osNdqfcw"
      }
    },
    {
      "cell_type": "code",
      "source": [
        "dummy_clf = DummyClassifier(strategy=\"most_frequent\")\n",
        "dummy_clf.fit(x_train, y_train)\n",
        "dummy_clf.score(x_valid, y_valid)"
      ],
      "metadata": {
        "id": "VcmibFTOqoMX",
        "outputId": "68290f21-4c75-4763-c05c-d9e7fe792bf6",
        "colab": {
          "base_uri": "https://localhost:8080/"
        }
      },
      "execution_count": null,
      "outputs": [
        {
          "output_type": "execute_result",
          "data": {
            "text/plain": [
              "0.352"
            ]
          },
          "metadata": {},
          "execution_count": 59
        }
      ]
    },
    {
      "cell_type": "markdown",
      "source": [
        "which yields an accuracy of about 35%. So our simple classifier with BERT embeddings is\n",
        "significantly better than our baseline.\n",
        "\n",
        "We can further investigate the performance of the model\n",
        "by looking at the confusion matrix of the classifier, which tells us the relationship between the\n",
        "true and predicted labels:"
      ],
      "metadata": {
        "id": "C2yAg3vVrEw4"
      }
    },
    {
      "cell_type": "code",
      "source": [
        "y_preds = lr_clf.predict(x_valid)\n",
        "# plot_confusion_matrix(lr_clf, y_preds, y_valid, labels=labels);"
      ],
      "metadata": {
        "id": "CJcqOL8yrHRs"
      },
      "execution_count": null,
      "outputs": []
    },
    {
      "cell_type": "markdown",
      "source": [
        "We can see that anger and fear are most often confused with sadness, which agrees with\n",
        "the observation we made when visualizing the embeddings. Also love and surprise are\n",
        "frequently mistaken for joy.\n",
        "\n",
        "To get an even better picture of the classification performance we can print Scikit-Learn’s\n",
        "classification report and look at the precision, recall and F1-score for each class:"
      ],
      "metadata": {
        "id": "3CWERZKUyApb"
      }
    },
    {
      "cell_type": "code",
      "source": [
        "print(classification_report(y_valid, y_preds, target_names=labels))"
      ],
      "metadata": {
        "id": "I6MSc5tTyFKl",
        "outputId": "60aaeca2-064b-4acc-a6e7-9e8842b2448c",
        "colab": {
          "base_uri": "https://localhost:8080/"
        }
      },
      "execution_count": null,
      "outputs": [
        {
          "output_type": "stream",
          "name": "stdout",
          "text": [
            "              precision    recall  f1-score   support\n",
            "\n",
            "     sadness       0.67      0.72      0.70       550\n",
            "         joy       0.72      0.80      0.76       704\n",
            "        love       0.54      0.34      0.41       178\n",
            "       anger       0.57      0.49      0.53       275\n",
            "        fear       0.52      0.55      0.54       212\n",
            "    surprise       0.49      0.32      0.39        81\n",
            "\n",
            "    accuracy                           0.65      2000\n",
            "   macro avg       0.58      0.54      0.55      2000\n",
            "weighted avg       0.64      0.65      0.64      2000\n",
            "\n"
          ]
        }
      ]
    },
    {
      "cell_type": "markdown",
      "source": [
        "Now, we will explore the fine-tuning approach which leads to superior\n",
        "classification performance. It is however important to note, that doing this requires much more\n",
        "computational resources, such as GPUs, that might not be available in your company. \n",
        "\n",
        "In cases\n",
        "like this, a feature-based approach can be a good compromise between doing traditional\n",
        "machine learning and deep learning."
      ],
      "metadata": {
        "id": "wJUmolQ5yjCe"
      }
    },
    {
      "cell_type": "markdown",
      "source": [
        "###Fine-tuning Transformers"
      ],
      "metadata": {
        "id": "GRSoM5_xypAB"
      }
    },
    {
      "cell_type": "markdown",
      "source": [
        "Let’s now explore what it takes to fine-tune a Transformer end-to-end. With the fine-tuning\n",
        "approach we do not use the hidden states as fixed features, but instead train them as shown.\n",
        "\n",
        "<img src='https://github.com/rahiakela/transformers-research-and-practice/blob/main/natural-language-processing-with-transformers/02-text-classification/images/5.png?raw=1' width='800'/>\n",
        "\n",
        "This requires the classification head to be differentiable, which is why this method\n",
        "usually uses a neural network for classification. \n",
        "\n",
        "Since we retrain all the DistilBERT parameters,\n",
        "this approach requires much more compute than the feature extraction approach and typically\n",
        "requires a GPU.\n",
        "\n",
        "Since we train the hidden states that serve as inputs to the classification model, we also avoid\n",
        "the problem of working with data that may not be well suited for the classification task. \n",
        "\n",
        "Instead,\n",
        "the initial hidden states adapt during training to decrease the model loss and thus increase its\n",
        "performance. If the necessary compute is available, this method is commonly chosen over the\n",
        "feature-based approach since it usually outperforms it.\n",
        "\n",
        "We’ll be using the Trainer API from Transformers to simplify the training loop - let’s look at the ingredients we need to set one up!"
      ],
      "metadata": {
        "id": "neMUtYZByrbQ"
      }
    },
    {
      "cell_type": "markdown",
      "source": [
        "####Loading a Pretrained Model"
      ],
      "metadata": {
        "id": "LtEateZ0yq3W"
      }
    },
    {
      "cell_type": "markdown",
      "source": [
        "The first thing we need is a pretrained `DistilBERT` model like the one we used in the featurebased approach. The only slight modification is that we use the\n",
        "`AutoModelForSequenceClassification` model instead of `AutoModel`. \n",
        "\n",
        "The difference is that the `AutoModelForSequenceClassification` model has a\n",
        "classification head on top of the model outputs which can be easily trained with the base model.\n",
        "\n",
        "We just need to specify how many labels the model has to predict (six in our case), since this dictates the number of outputs the classification head has:"
      ],
      "metadata": {
        "id": "TJhNcumVyrpC"
      }
    },
    {
      "cell_type": "code",
      "source": [
        "num_labels = 6\n",
        "\n",
        "model = (AutoModelForSequenceClassification.from_pretrained(model_name, num_labels=num_labels).to(device))"
      ],
      "metadata": {
        "id": "rV9B-TGB11I6",
        "outputId": "87ff779c-611e-4b18-dabc-2f90d51dfc93",
        "colab": {
          "base_uri": "https://localhost:8080/"
        }
      },
      "execution_count": 23,
      "outputs": [
        {
          "output_type": "stream",
          "name": "stderr",
          "text": [
            "Some weights of the model checkpoint at distilbert-base-uncased were not used when initializing DistilBertForSequenceClassification: ['vocab_transform.weight', 'vocab_projector.weight', 'vocab_layer_norm.weight', 'vocab_projector.bias', 'vocab_transform.bias', 'vocab_layer_norm.bias']\n",
            "- This IS expected if you are initializing DistilBertForSequenceClassification from the checkpoint of a model trained on another task or with another architecture (e.g. initializing a BertForSequenceClassification model from a BertForPreTraining model).\n",
            "- This IS NOT expected if you are initializing DistilBertForSequenceClassification from the checkpoint of a model that you expect to be exactly identical (initializing a BertForSequenceClassification model from a BertForSequenceClassification model).\n",
            "Some weights of DistilBertForSequenceClassification were not initialized from the model checkpoint at distilbert-base-uncased and are newly initialized: ['classifier.bias', 'pre_classifier.bias', 'classifier.weight', 'pre_classifier.weight']\n",
            "You should probably TRAIN this model on a down-stream task to be able to use it for predictions and inference.\n"
          ]
        }
      ]
    },
    {
      "cell_type": "markdown",
      "source": [
        "You will probably see a warning that some parts of the models are randomly initialized. This is\n",
        "normal since the classification head has not yet been trained."
      ],
      "metadata": {
        "id": "aiSrnFjB2RDh"
      }
    },
    {
      "cell_type": "markdown",
      "source": [
        "####Preprocess the Tweets"
      ],
      "metadata": {
        "id": "m7PzYLfX2Rpf"
      }
    },
    {
      "cell_type": "markdown",
      "source": [
        "In addition to the tokenization we also need to set the format of the columns to\n",
        "`torch.Tensor`. This allows us to train the model without needing to change back and forth\n",
        "between lists, arrays, and tensors. \n",
        "\n",
        "With Datasets we can use the `set_format` function to\n",
        "change the data type of the columns we wish to keep, while dropping all the rest:"
      ],
      "metadata": {
        "id": "PUmGSdGj2Udt"
      }
    },
    {
      "cell_type": "code",
      "source": [
        "emotions_encoded.set_format(\"torch\", columns=[\"input_ids\", \"attention_mask\", \"label\"])"
      ],
      "metadata": {
        "id": "8OdqFDiE2j3N"
      },
      "execution_count": 24,
      "outputs": []
    },
    {
      "cell_type": "markdown",
      "source": [
        "We can see that the samples are now of type `torch.Tensor`:"
      ],
      "metadata": {
        "id": "JhWMNEjK20d5"
      }
    },
    {
      "cell_type": "code",
      "source": [
        "emotions_encoded[\"train\"][0]"
      ],
      "metadata": {
        "id": "X5ptMv6R23Qg",
        "outputId": "58cb52a2-807d-4c6d-cd93-dec3c8cd41ae",
        "colab": {
          "base_uri": "https://localhost:8080/"
        }
      },
      "execution_count": 25,
      "outputs": [
        {
          "output_type": "execute_result",
          "data": {
            "text/plain": [
              "{'attention_mask': tensor([1, 1, 1, 1, 1, 1, 1, 0, 0, 0, 0, 0, 0, 0, 0, 0, 0, 0, 0, 0, 0, 0, 0, 0,\n",
              "         0, 0, 0, 0, 0, 0, 0, 0, 0, 0, 0, 0, 0, 0, 0, 0, 0, 0, 0, 0, 0, 0, 0, 0,\n",
              "         0, 0, 0, 0, 0, 0, 0, 0, 0, 0, 0, 0, 0, 0, 0, 0, 0, 0, 0, 0, 0, 0, 0, 0,\n",
              "         0, 0, 0, 0, 0, 0, 0, 0, 0, 0, 0, 0, 0, 0, 0]),\n",
              " 'input_ids': tensor([  101,  1045,  2134,  2102,  2514, 26608,   102,     0,     0,     0,\n",
              "             0,     0,     0,     0,     0,     0,     0,     0,     0,     0,\n",
              "             0,     0,     0,     0,     0,     0,     0,     0,     0,     0,\n",
              "             0,     0,     0,     0,     0,     0,     0,     0,     0,     0,\n",
              "             0,     0,     0,     0,     0,     0,     0,     0,     0,     0,\n",
              "             0,     0,     0,     0,     0,     0,     0,     0,     0,     0,\n",
              "             0,     0,     0,     0,     0,     0,     0,     0,     0,     0,\n",
              "             0,     0,     0,     0,     0,     0,     0,     0,     0,     0,\n",
              "             0,     0,     0,     0,     0,     0,     0]),\n",
              " 'label': tensor(0)}"
            ]
          },
          "metadata": {},
          "execution_count": 25
        }
      ]
    },
    {
      "cell_type": "code",
      "source": [
        "emotions_encoded[\"train\"][1]"
      ],
      "metadata": {
        "id": "K4h-Hvv53DJB",
        "outputId": "dd31408e-9866-4553-f556-6206bb881006",
        "colab": {
          "base_uri": "https://localhost:8080/"
        }
      },
      "execution_count": 26,
      "outputs": [
        {
          "output_type": "execute_result",
          "data": {
            "text/plain": [
              "{'attention_mask': tensor([1, 1, 1, 1, 1, 1, 1, 1, 1, 1, 1, 1, 1, 1, 1, 1, 1, 1, 1, 1, 1, 1, 1, 0,\n",
              "         0, 0, 0, 0, 0, 0, 0, 0, 0, 0, 0, 0, 0, 0, 0, 0, 0, 0, 0, 0, 0, 0, 0, 0,\n",
              "         0, 0, 0, 0, 0, 0, 0, 0, 0, 0, 0, 0, 0, 0, 0, 0, 0, 0, 0, 0, 0, 0, 0, 0,\n",
              "         0, 0, 0, 0, 0, 0, 0, 0, 0, 0, 0, 0, 0, 0, 0]),\n",
              " 'input_ids': tensor([  101,  1045,  2064,  2175,  2013,  3110,  2061, 20625,  2000,  2061,\n",
              "          9636, 17772,  2074,  2013,  2108,  2105,  2619,  2040, 14977,  1998,\n",
              "          2003,  8300,   102,     0,     0,     0,     0,     0,     0,     0,\n",
              "             0,     0,     0,     0,     0,     0,     0,     0,     0,     0,\n",
              "             0,     0,     0,     0,     0,     0,     0,     0,     0,     0,\n",
              "             0,     0,     0,     0,     0,     0,     0,     0,     0,     0,\n",
              "             0,     0,     0,     0,     0,     0,     0,     0,     0,     0,\n",
              "             0,     0,     0,     0,     0,     0,     0,     0,     0,     0,\n",
              "             0,     0,     0,     0,     0,     0,     0]),\n",
              " 'label': tensor(0)}"
            ]
          },
          "metadata": {},
          "execution_count": 26
        }
      ]
    },
    {
      "cell_type": "markdown",
      "source": [
        "####Define the Performance Metrics"
      ],
      "metadata": {
        "id": "09ZJGyMG3Km9"
      }
    },
    {
      "cell_type": "markdown",
      "source": [
        "Furthermore, we define some metrics that are monitored during training. This can be any\n",
        "function that takes a prediction object, that contains the model predictions as well as the correct\n",
        "labels and returns a dictionary with scalar metric values. \n",
        "\n",
        "We will monitor the F1-score and the\n",
        "accuracy of the model."
      ],
      "metadata": {
        "id": "7hZidsx23LeS"
      }
    },
    {
      "cell_type": "code",
      "source": [
        "def compute_metrics(pred):\n",
        "  labels = pred.label_ids\n",
        "  preds = pred.predictions.argmax(-1)\n",
        "  f1 = f1_score(labels, preds, average=\"weighted\")\n",
        "  acc = accuracy_score(labels, preds)\n",
        "\n",
        "  return {\"accuracy\": acc, \"f1\": f1}"
      ],
      "metadata": {
        "id": "WxiP1Ri33bMD"
      },
      "execution_count": 27,
      "outputs": []
    },
    {
      "cell_type": "markdown",
      "source": [
        "####Training the Model"
      ],
      "metadata": {
        "id": "640GkDBW4CLe"
      }
    },
    {
      "cell_type": "markdown",
      "source": [
        "With the dataset and metrics ready we can now instantiate a Trainer class. The main\n",
        "ingredient here is the TrainingArguments class to specify all the parameters of the\n",
        "training run, one of which is the output directory for the model checkpoints."
      ],
      "metadata": {
        "id": "hkaeesq-4DBF"
      }
    },
    {
      "cell_type": "code",
      "source": [
        "batch_size = 64\n",
        "logging_steps = len(emotions_encoded[\"train\"]) // batch_size\n",
        "training_args = TrainingArguments(output_dir=\"results\",\n",
        "                                  num_train_epochs=2,\n",
        "                                  learning_rate=2e-5,\n",
        "                                  per_device_train_batch_size=batch_size,\n",
        "                                  per_device_eval_batch_size=batch_size,\n",
        "                                  load_best_model_at_end=True,\n",
        "                                  metric_for_best_model=\"f1\",\n",
        "                                  weight_decay=0.01,\n",
        "                                  evaluation_strategy=\"steps\",\n",
        "                                  disable_tqdm=False,\n",
        "                                  logging_steps=logging_steps,)"
      ],
      "metadata": {
        "id": "--VlMc924Tk0"
      },
      "execution_count": 28,
      "outputs": []
    },
    {
      "cell_type": "markdown",
      "source": [
        "With this final ingredient, we can instantiate and finetune\n",
        "our model with the `Trainer`:"
      ],
      "metadata": {
        "id": "ut1v7LAq7b0p"
      }
    },
    {
      "cell_type": "code",
      "source": [
        "trainer = Trainer(model=model, args=training_args,\n",
        "                  compute_metrics=compute_metrics,\n",
        "                  train_dataset=emotions_encoded[\"train\"],\n",
        "                  eval_dataset=emotions_encoded[\"validation\"])\n",
        "trainer.train();"
      ],
      "metadata": {
        "id": "1HyJNsTE7drI",
        "outputId": "436b803c-c7bd-44a9-ada3-a121adb2911f",
        "colab": {
          "base_uri": "https://localhost:8080/",
          "height": 610
        }
      },
      "execution_count": 29,
      "outputs": [
        {
          "output_type": "stream",
          "name": "stderr",
          "text": [
            "The following columns in the training set  don't have a corresponding argument in `DistilBertForSequenceClassification.forward` and have been ignored: text.\n",
            "***** Running training *****\n",
            "  Num examples = 16000\n",
            "  Num Epochs = 2\n",
            "  Instantaneous batch size per device = 64\n",
            "  Total train batch size (w. parallel, distributed & accumulation) = 64\n",
            "  Gradient Accumulation steps = 1\n",
            "  Total optimization steps = 500\n"
          ]
        },
        {
          "output_type": "display_data",
          "data": {
            "text/html": [
              "\n",
              "    <div>\n",
              "      \n",
              "      <progress value='500' max='500' style='width:300px; height:20px; vertical-align: middle;'></progress>\n",
              "      [500/500 07:24, Epoch 2/2]\n",
              "    </div>\n",
              "    <table border=\"1\" class=\"dataframe\">\n",
              "  <thead>\n",
              "    <tr style=\"text-align: left;\">\n",
              "      <th>Step</th>\n",
              "      <th>Training Loss</th>\n",
              "      <th>Validation Loss</th>\n",
              "      <th>Accuracy</th>\n",
              "      <th>F1</th>\n",
              "    </tr>\n",
              "  </thead>\n",
              "  <tbody>\n",
              "    <tr>\n",
              "      <td>250</td>\n",
              "      <td>0.790000</td>\n",
              "      <td>0.298170</td>\n",
              "      <td>0.910500</td>\n",
              "      <td>0.909228</td>\n",
              "    </tr>\n",
              "    <tr>\n",
              "      <td>500</td>\n",
              "      <td>0.236200</td>\n",
              "      <td>0.213433</td>\n",
              "      <td>0.921500</td>\n",
              "      <td>0.921862</td>\n",
              "    </tr>\n",
              "  </tbody>\n",
              "</table><p>"
            ],
            "text/plain": [
              "<IPython.core.display.HTML object>"
            ]
          },
          "metadata": {}
        },
        {
          "output_type": "stream",
          "name": "stderr",
          "text": [
            "The following columns in the evaluation set  don't have a corresponding argument in `DistilBertForSequenceClassification.forward` and have been ignored: text.\n",
            "***** Running Evaluation *****\n",
            "  Num examples = 2000\n",
            "  Batch size = 64\n",
            "The following columns in the evaluation set  don't have a corresponding argument in `DistilBertForSequenceClassification.forward` and have been ignored: text.\n",
            "***** Running Evaluation *****\n",
            "  Num examples = 2000\n",
            "  Batch size = 64\n",
            "Saving model checkpoint to results/checkpoint-500\n",
            "Configuration saved in results/checkpoint-500/config.json\n",
            "Model weights saved in results/checkpoint-500/pytorch_model.bin\n",
            "\n",
            "\n",
            "Training completed. Do not forget to share your model on huggingface.co/models =)\n",
            "\n",
            "\n",
            "Loading best model from results/checkpoint-500 (score: 0.9218624928826488).\n"
          ]
        }
      ]
    },
    {
      "cell_type": "markdown",
      "source": [
        "Looking at the logs we can see that our model has an `F1` score on the validation set of around\n",
        "`92%` - this is a significant improvement over the feature-based approach! \n",
        "\n",
        "We can also see that\n",
        "the best model was saved by running the `evaluate` method:"
      ],
      "metadata": {
        "id": "yl3dZ45d8K25"
      }
    },
    {
      "cell_type": "code",
      "source": [
        "results = trainer.evaluate()\n",
        "results"
      ],
      "metadata": {
        "id": "xwLI0Xh08RnY",
        "outputId": "782e0e33-a3aa-43d3-a8d8-2ae9b77f91f7",
        "colab": {
          "base_uri": "https://localhost:8080/",
          "height": 256
        }
      },
      "execution_count": 30,
      "outputs": [
        {
          "output_type": "stream",
          "name": "stderr",
          "text": [
            "The following columns in the evaluation set  don't have a corresponding argument in `DistilBertForSequenceClassification.forward` and have been ignored: text.\n",
            "***** Running Evaluation *****\n",
            "  Num examples = 2000\n",
            "  Batch size = 64\n"
          ]
        },
        {
          "output_type": "display_data",
          "data": {
            "text/html": [
              "\n",
              "    <div>\n",
              "      \n",
              "      <progress value='32' max='32' style='width:300px; height:20px; vertical-align: middle;'></progress>\n",
              "      [32/32 00:08]\n",
              "    </div>\n",
              "    "
            ],
            "text/plain": [
              "<IPython.core.display.HTML object>"
            ]
          },
          "metadata": {}
        },
        {
          "output_type": "execute_result",
          "data": {
            "text/plain": [
              "{'epoch': 2.0,\n",
              " 'eval_accuracy': 0.9215,\n",
              " 'eval_f1': 0.9218624928826488,\n",
              " 'eval_loss': 0.2134333848953247,\n",
              " 'eval_runtime': 8.611,\n",
              " 'eval_samples_per_second': 232.26,\n",
              " 'eval_steps_per_second': 3.716}"
            ]
          },
          "metadata": {},
          "execution_count": 30
        }
      ]
    },
    {
      "cell_type": "markdown",
      "source": [
        "Let’s have a more detailed look at the training metrics by calculating the confusion matrix."
      ],
      "metadata": {
        "id": "S8tiA-te8vDD"
      }
    },
    {
      "cell_type": "markdown",
      "source": [
        "####Visualize the Confusion Matrix"
      ],
      "metadata": {
        "id": "VJHzyNw78hBY"
      }
    },
    {
      "cell_type": "markdown",
      "source": [
        "To visualise the confusion matrix, we first need to get the predictions on the validation set. \n",
        "\n",
        "The predict function of the Trainer class returns several useful objects we can use for evaluation:"
      ],
      "metadata": {
        "id": "bixI80Bf8iRd"
      }
    },
    {
      "cell_type": "code",
      "source": [
        "preds_output = trainer.predict(emotions_encoded[\"validation\"])"
      ],
      "metadata": {
        "colab": {
          "base_uri": "https://localhost:8080/",
          "height": 130
        },
        "id": "JJ9Gk5y5Umnd",
        "outputId": "878f24a9-4e2f-4200-d1e1-597d48a8b67b"
      },
      "execution_count": 31,
      "outputs": [
        {
          "output_type": "stream",
          "name": "stderr",
          "text": [
            "The following columns in the test set  don't have a corresponding argument in `DistilBertForSequenceClassification.forward` and have been ignored: text.\n",
            "***** Running Prediction *****\n",
            "  Num examples = 2000\n",
            "  Batch size = 64\n"
          ]
        },
        {
          "output_type": "display_data",
          "data": {
            "text/html": [
              "\n",
              "    <div>\n",
              "      \n",
              "      <progress value='64' max='32' style='width:300px; height:20px; vertical-align: middle;'></progress>\n",
              "      [32/32 29:40]\n",
              "    </div>\n",
              "    "
            ],
            "text/plain": [
              "<IPython.core.display.HTML object>"
            ]
          },
          "metadata": {}
        }
      ]
    },
    {
      "cell_type": "markdown",
      "source": [
        "First, it contains the loss and the metrics we specified earlier:"
      ],
      "metadata": {
        "id": "Iy_8MXFjU2V5"
      }
    },
    {
      "cell_type": "code",
      "source": [
        "preds_output.metrics"
      ],
      "metadata": {
        "colab": {
          "base_uri": "https://localhost:8080/"
        },
        "id": "qgBK_KXtU2wd",
        "outputId": "d8882574-1048-45e4-979a-6665ab307065"
      },
      "execution_count": 32,
      "outputs": [
        {
          "output_type": "execute_result",
          "data": {
            "text/plain": [
              "{'test_accuracy': 0.9215,\n",
              " 'test_f1': 0.9218624928826488,\n",
              " 'test_loss': 0.2134333848953247,\n",
              " 'test_runtime': 9.097,\n",
              " 'test_samples_per_second': 219.852,\n",
              " 'test_steps_per_second': 3.518}"
            ]
          },
          "metadata": {},
          "execution_count": 32
        }
      ]
    },
    {
      "cell_type": "markdown",
      "source": [
        "It also contains the raw predictions for each class. We decode the predictions greedily with an\n",
        "argmax. \n",
        "\n",
        "This yields the predicted label and has the same format as the labels returned by the\n",
        "Scikit-Learn models in the feature-based approach:"
      ],
      "metadata": {
        "id": "sSX-D_n3VNN5"
      }
    },
    {
      "cell_type": "code",
      "source": [
        "y_preds = np.argmax(preds_output.predictions, axis=1)"
      ],
      "metadata": {
        "id": "WpNiWX2MVOjJ"
      },
      "execution_count": 33,
      "outputs": []
    },
    {
      "cell_type": "markdown",
      "source": [
        "With the predictions we can plot the confusion matrix again:"
      ],
      "metadata": {
        "id": "yPfQQytzVZcu"
      }
    },
    {
      "cell_type": "code",
      "source": [
        "y_train = np.array(emotions_encoded[\"train\"][\"label\"])\n",
        "y_valid = np.array(emotions_encoded[\"validation\"][\"label\"])\n",
        "labels= emotions_encoded[\"train\"].features[\"label\"]\n",
        "labels.names"
      ],
      "metadata": {
        "colab": {
          "base_uri": "https://localhost:8080/"
        },
        "id": "tNHOChZVWxI9",
        "outputId": "51d7fc4f-986c-467e-e560-495c0abbc963"
      },
      "execution_count": 38,
      "outputs": [
        {
          "output_type": "execute_result",
          "data": {
            "text/plain": [
              "['sadness', 'joy', 'love', 'anger', 'fear', 'surprise']"
            ]
          },
          "metadata": {},
          "execution_count": 38
        }
      ]
    },
    {
      "cell_type": "code",
      "source": [
        "#plot_confusion_matrix(y_preds, y_valid, labels)"
      ],
      "metadata": {
        "id": "AA8Qpz_qVZ13"
      },
      "execution_count": 40,
      "outputs": []
    },
    {
      "cell_type": "markdown",
      "source": [
        "Also, looking at the classification report reveals that the model is also performing much better\n",
        "for minority classes like surprise."
      ],
      "metadata": {
        "id": "M14ODYT6XGiY"
      }
    },
    {
      "cell_type": "code",
      "source": [
        "print(classification_report(y_valid, y_preds, target_names=labels.names))"
      ],
      "metadata": {
        "colab": {
          "base_uri": "https://localhost:8080/"
        },
        "id": "m5XIpbaUXGqi",
        "outputId": "0d7ca0fa-ff7d-4e34-ecf6-28af82924c9e"
      },
      "execution_count": 42,
      "outputs": [
        {
          "output_type": "stream",
          "name": "stdout",
          "text": [
            "              precision    recall  f1-score   support\n",
            "\n",
            "     sadness       0.94      0.96      0.95       550\n",
            "         joy       0.96      0.92      0.94       704\n",
            "        love       0.80      0.92      0.86       178\n",
            "       anger       0.93      0.92      0.92       275\n",
            "        fear       0.86      0.86      0.86       212\n",
            "    surprise       0.86      0.80      0.83        81\n",
            "\n",
            "    accuracy                           0.92      2000\n",
            "   macro avg       0.89      0.90      0.89      2000\n",
            "weighted avg       0.92      0.92      0.92      2000\n",
            "\n"
          ]
        }
      ]
    },
    {
      "cell_type": "markdown",
      "source": [
        "####Making Predictions"
      ],
      "metadata": {
        "id": "UmCnELHqXX5Y"
      }
    },
    {
      "cell_type": "markdown",
      "source": [
        ""
      ],
      "metadata": {
        "id": "Lv75ZON8XZR9"
      }
    }
  ]
}