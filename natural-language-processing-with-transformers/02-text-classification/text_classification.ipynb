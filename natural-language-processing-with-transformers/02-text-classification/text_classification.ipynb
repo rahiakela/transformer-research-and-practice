{
  "nbformat": 4,
  "nbformat_minor": 0,
  "metadata": {
    "colab": {
      "name": "text-classification.ipynb",
      "provenance": [],
      "toc_visible": true,
      "authorship_tag": "ABX9TyMNNJ9Qio/+6gfabvRfgEen",
      "include_colab_link": true
    },
    "kernelspec": {
      "name": "python3",
      "display_name": "Python 3"
    },
    "language_info": {
      "name": "python"
    },
    "accelerator": "GPU",
    "widgets": {
      "application/vnd.jupyter.widget-state+json": {
        "ceec75e14dbc43358e11eef467196a6f": {
          "model_module": "@jupyter-widgets/controls",
          "model_name": "HBoxModel",
          "model_module_version": "1.5.0",
          "state": {
            "_view_name": "HBoxView",
            "_dom_classes": [],
            "_model_name": "HBoxModel",
            "_view_module": "@jupyter-widgets/controls",
            "_model_module_version": "1.5.0",
            "_view_count": null,
            "_view_module_version": "1.5.0",
            "box_style": "",
            "layout": "IPY_MODEL_5fd76778806848c9afcff7b5242af2d8",
            "_model_module": "@jupyter-widgets/controls",
            "children": [
              "IPY_MODEL_4ccafab11b294e3fbde5c6bcddbc5ae9",
              "IPY_MODEL_c95c9cb81fc04b588610b29af45c63bb",
              "IPY_MODEL_016b828bd3e54d72b0f1a6ddb1976e65"
            ]
          }
        },
        "5fd76778806848c9afcff7b5242af2d8": {
          "model_module": "@jupyter-widgets/base",
          "model_name": "LayoutModel",
          "model_module_version": "1.2.0",
          "state": {
            "_view_name": "LayoutView",
            "grid_template_rows": null,
            "right": null,
            "justify_content": null,
            "_view_module": "@jupyter-widgets/base",
            "overflow": null,
            "_model_module_version": "1.2.0",
            "_view_count": null,
            "flex_flow": null,
            "width": null,
            "min_width": null,
            "border": null,
            "align_items": null,
            "bottom": null,
            "_model_module": "@jupyter-widgets/base",
            "top": null,
            "grid_column": null,
            "overflow_y": null,
            "overflow_x": null,
            "grid_auto_flow": null,
            "grid_area": null,
            "grid_template_columns": null,
            "flex": null,
            "_model_name": "LayoutModel",
            "justify_items": null,
            "grid_row": null,
            "max_height": null,
            "align_content": null,
            "visibility": null,
            "align_self": null,
            "height": null,
            "min_height": null,
            "padding": null,
            "grid_auto_rows": null,
            "grid_gap": null,
            "max_width": null,
            "order": null,
            "_view_module_version": "1.2.0",
            "grid_template_areas": null,
            "object_position": null,
            "object_fit": null,
            "grid_auto_columns": null,
            "margin": null,
            "display": null,
            "left": null
          }
        },
        "4ccafab11b294e3fbde5c6bcddbc5ae9": {
          "model_module": "@jupyter-widgets/controls",
          "model_name": "HTMLModel",
          "model_module_version": "1.5.0",
          "state": {
            "_view_name": "HTMLView",
            "style": "IPY_MODEL_18bd640f649d4e4fa9f9c4b56b4cfa54",
            "_dom_classes": [],
            "description": "",
            "_model_name": "HTMLModel",
            "placeholder": "​",
            "_view_module": "@jupyter-widgets/controls",
            "_model_module_version": "1.5.0",
            "value": "Downloading: 100%",
            "_view_count": null,
            "_view_module_version": "1.5.0",
            "description_tooltip": null,
            "_model_module": "@jupyter-widgets/controls",
            "layout": "IPY_MODEL_f1e64e4402be48ad8aeaff2e6cbdc867"
          }
        },
        "c95c9cb81fc04b588610b29af45c63bb": {
          "model_module": "@jupyter-widgets/controls",
          "model_name": "FloatProgressModel",
          "model_module_version": "1.5.0",
          "state": {
            "_view_name": "ProgressView",
            "style": "IPY_MODEL_6044b845975947b79d43dcffc20a929c",
            "_dom_classes": [],
            "description": "",
            "_model_name": "FloatProgressModel",
            "bar_style": "success",
            "max": 28,
            "_view_module": "@jupyter-widgets/controls",
            "_model_module_version": "1.5.0",
            "value": 28,
            "_view_count": null,
            "_view_module_version": "1.5.0",
            "orientation": "horizontal",
            "min": 0,
            "description_tooltip": null,
            "_model_module": "@jupyter-widgets/controls",
            "layout": "IPY_MODEL_791cadff89e94b3799453f1081141a1a"
          }
        },
        "016b828bd3e54d72b0f1a6ddb1976e65": {
          "model_module": "@jupyter-widgets/controls",
          "model_name": "HTMLModel",
          "model_module_version": "1.5.0",
          "state": {
            "_view_name": "HTMLView",
            "style": "IPY_MODEL_6b3f40b56e3c4789a498e535edfcb7c5",
            "_dom_classes": [],
            "description": "",
            "_model_name": "HTMLModel",
            "placeholder": "​",
            "_view_module": "@jupyter-widgets/controls",
            "_model_module_version": "1.5.0",
            "value": " 28.0/28.0 [00:00&lt;00:00, 194B/s]",
            "_view_count": null,
            "_view_module_version": "1.5.0",
            "description_tooltip": null,
            "_model_module": "@jupyter-widgets/controls",
            "layout": "IPY_MODEL_a8755edb32cd4db8b5ff98df2fbe4ce1"
          }
        },
        "18bd640f649d4e4fa9f9c4b56b4cfa54": {
          "model_module": "@jupyter-widgets/controls",
          "model_name": "DescriptionStyleModel",
          "model_module_version": "1.5.0",
          "state": {
            "_view_name": "StyleView",
            "_model_name": "DescriptionStyleModel",
            "description_width": "",
            "_view_module": "@jupyter-widgets/base",
            "_model_module_version": "1.5.0",
            "_view_count": null,
            "_view_module_version": "1.2.0",
            "_model_module": "@jupyter-widgets/controls"
          }
        },
        "f1e64e4402be48ad8aeaff2e6cbdc867": {
          "model_module": "@jupyter-widgets/base",
          "model_name": "LayoutModel",
          "model_module_version": "1.2.0",
          "state": {
            "_view_name": "LayoutView",
            "grid_template_rows": null,
            "right": null,
            "justify_content": null,
            "_view_module": "@jupyter-widgets/base",
            "overflow": null,
            "_model_module_version": "1.2.0",
            "_view_count": null,
            "flex_flow": null,
            "width": null,
            "min_width": null,
            "border": null,
            "align_items": null,
            "bottom": null,
            "_model_module": "@jupyter-widgets/base",
            "top": null,
            "grid_column": null,
            "overflow_y": null,
            "overflow_x": null,
            "grid_auto_flow": null,
            "grid_area": null,
            "grid_template_columns": null,
            "flex": null,
            "_model_name": "LayoutModel",
            "justify_items": null,
            "grid_row": null,
            "max_height": null,
            "align_content": null,
            "visibility": null,
            "align_self": null,
            "height": null,
            "min_height": null,
            "padding": null,
            "grid_auto_rows": null,
            "grid_gap": null,
            "max_width": null,
            "order": null,
            "_view_module_version": "1.2.0",
            "grid_template_areas": null,
            "object_position": null,
            "object_fit": null,
            "grid_auto_columns": null,
            "margin": null,
            "display": null,
            "left": null
          }
        },
        "6044b845975947b79d43dcffc20a929c": {
          "model_module": "@jupyter-widgets/controls",
          "model_name": "ProgressStyleModel",
          "model_module_version": "1.5.0",
          "state": {
            "_view_name": "StyleView",
            "_model_name": "ProgressStyleModel",
            "description_width": "",
            "_view_module": "@jupyter-widgets/base",
            "_model_module_version": "1.5.0",
            "_view_count": null,
            "_view_module_version": "1.2.0",
            "bar_color": null,
            "_model_module": "@jupyter-widgets/controls"
          }
        },
        "791cadff89e94b3799453f1081141a1a": {
          "model_module": "@jupyter-widgets/base",
          "model_name": "LayoutModel",
          "model_module_version": "1.2.0",
          "state": {
            "_view_name": "LayoutView",
            "grid_template_rows": null,
            "right": null,
            "justify_content": null,
            "_view_module": "@jupyter-widgets/base",
            "overflow": null,
            "_model_module_version": "1.2.0",
            "_view_count": null,
            "flex_flow": null,
            "width": null,
            "min_width": null,
            "border": null,
            "align_items": null,
            "bottom": null,
            "_model_module": "@jupyter-widgets/base",
            "top": null,
            "grid_column": null,
            "overflow_y": null,
            "overflow_x": null,
            "grid_auto_flow": null,
            "grid_area": null,
            "grid_template_columns": null,
            "flex": null,
            "_model_name": "LayoutModel",
            "justify_items": null,
            "grid_row": null,
            "max_height": null,
            "align_content": null,
            "visibility": null,
            "align_self": null,
            "height": null,
            "min_height": null,
            "padding": null,
            "grid_auto_rows": null,
            "grid_gap": null,
            "max_width": null,
            "order": null,
            "_view_module_version": "1.2.0",
            "grid_template_areas": null,
            "object_position": null,
            "object_fit": null,
            "grid_auto_columns": null,
            "margin": null,
            "display": null,
            "left": null
          }
        },
        "6b3f40b56e3c4789a498e535edfcb7c5": {
          "model_module": "@jupyter-widgets/controls",
          "model_name": "DescriptionStyleModel",
          "model_module_version": "1.5.0",
          "state": {
            "_view_name": "StyleView",
            "_model_name": "DescriptionStyleModel",
            "description_width": "",
            "_view_module": "@jupyter-widgets/base",
            "_model_module_version": "1.5.0",
            "_view_count": null,
            "_view_module_version": "1.2.0",
            "_model_module": "@jupyter-widgets/controls"
          }
        },
        "a8755edb32cd4db8b5ff98df2fbe4ce1": {
          "model_module": "@jupyter-widgets/base",
          "model_name": "LayoutModel",
          "model_module_version": "1.2.0",
          "state": {
            "_view_name": "LayoutView",
            "grid_template_rows": null,
            "right": null,
            "justify_content": null,
            "_view_module": "@jupyter-widgets/base",
            "overflow": null,
            "_model_module_version": "1.2.0",
            "_view_count": null,
            "flex_flow": null,
            "width": null,
            "min_width": null,
            "border": null,
            "align_items": null,
            "bottom": null,
            "_model_module": "@jupyter-widgets/base",
            "top": null,
            "grid_column": null,
            "overflow_y": null,
            "overflow_x": null,
            "grid_auto_flow": null,
            "grid_area": null,
            "grid_template_columns": null,
            "flex": null,
            "_model_name": "LayoutModel",
            "justify_items": null,
            "grid_row": null,
            "max_height": null,
            "align_content": null,
            "visibility": null,
            "align_self": null,
            "height": null,
            "min_height": null,
            "padding": null,
            "grid_auto_rows": null,
            "grid_gap": null,
            "max_width": null,
            "order": null,
            "_view_module_version": "1.2.0",
            "grid_template_areas": null,
            "object_position": null,
            "object_fit": null,
            "grid_auto_columns": null,
            "margin": null,
            "display": null,
            "left": null
          }
        },
        "2ebf344ddf5949789db769dc4fc995a5": {
          "model_module": "@jupyter-widgets/controls",
          "model_name": "HBoxModel",
          "model_module_version": "1.5.0",
          "state": {
            "_view_name": "HBoxView",
            "_dom_classes": [],
            "_model_name": "HBoxModel",
            "_view_module": "@jupyter-widgets/controls",
            "_model_module_version": "1.5.0",
            "_view_count": null,
            "_view_module_version": "1.5.0",
            "box_style": "",
            "layout": "IPY_MODEL_079a34253a764718afc97178262ed5ab",
            "_model_module": "@jupyter-widgets/controls",
            "children": [
              "IPY_MODEL_46160d4a368a420b87fb834d78aeb0d1",
              "IPY_MODEL_b90013671fcd4270b1fdd0ac783e82a9",
              "IPY_MODEL_726a08d13ef34580bd870378f797df90"
            ]
          }
        },
        "079a34253a764718afc97178262ed5ab": {
          "model_module": "@jupyter-widgets/base",
          "model_name": "LayoutModel",
          "model_module_version": "1.2.0",
          "state": {
            "_view_name": "LayoutView",
            "grid_template_rows": null,
            "right": null,
            "justify_content": null,
            "_view_module": "@jupyter-widgets/base",
            "overflow": null,
            "_model_module_version": "1.2.0",
            "_view_count": null,
            "flex_flow": null,
            "width": null,
            "min_width": null,
            "border": null,
            "align_items": null,
            "bottom": null,
            "_model_module": "@jupyter-widgets/base",
            "top": null,
            "grid_column": null,
            "overflow_y": null,
            "overflow_x": null,
            "grid_auto_flow": null,
            "grid_area": null,
            "grid_template_columns": null,
            "flex": null,
            "_model_name": "LayoutModel",
            "justify_items": null,
            "grid_row": null,
            "max_height": null,
            "align_content": null,
            "visibility": null,
            "align_self": null,
            "height": null,
            "min_height": null,
            "padding": null,
            "grid_auto_rows": null,
            "grid_gap": null,
            "max_width": null,
            "order": null,
            "_view_module_version": "1.2.0",
            "grid_template_areas": null,
            "object_position": null,
            "object_fit": null,
            "grid_auto_columns": null,
            "margin": null,
            "display": null,
            "left": null
          }
        },
        "46160d4a368a420b87fb834d78aeb0d1": {
          "model_module": "@jupyter-widgets/controls",
          "model_name": "HTMLModel",
          "model_module_version": "1.5.0",
          "state": {
            "_view_name": "HTMLView",
            "style": "IPY_MODEL_6fdad4fc02c845efb3b7598a816c7a6f",
            "_dom_classes": [],
            "description": "",
            "_model_name": "HTMLModel",
            "placeholder": "​",
            "_view_module": "@jupyter-widgets/controls",
            "_model_module_version": "1.5.0",
            "value": "Downloading: 100%",
            "_view_count": null,
            "_view_module_version": "1.5.0",
            "description_tooltip": null,
            "_model_module": "@jupyter-widgets/controls",
            "layout": "IPY_MODEL_cf5da539d2af4d53840ca896b998eccc"
          }
        },
        "b90013671fcd4270b1fdd0ac783e82a9": {
          "model_module": "@jupyter-widgets/controls",
          "model_name": "FloatProgressModel",
          "model_module_version": "1.5.0",
          "state": {
            "_view_name": "ProgressView",
            "style": "IPY_MODEL_0a0b940640df47fea435fd40d73c6013",
            "_dom_classes": [],
            "description": "",
            "_model_name": "FloatProgressModel",
            "bar_style": "success",
            "max": 483,
            "_view_module": "@jupyter-widgets/controls",
            "_model_module_version": "1.5.0",
            "value": 483,
            "_view_count": null,
            "_view_module_version": "1.5.0",
            "orientation": "horizontal",
            "min": 0,
            "description_tooltip": null,
            "_model_module": "@jupyter-widgets/controls",
            "layout": "IPY_MODEL_a9c7cac6b8144d85825d1b222a1ce036"
          }
        },
        "726a08d13ef34580bd870378f797df90": {
          "model_module": "@jupyter-widgets/controls",
          "model_name": "HTMLModel",
          "model_module_version": "1.5.0",
          "state": {
            "_view_name": "HTMLView",
            "style": "IPY_MODEL_b991e6113f9a40d4894f9c6784d1e79f",
            "_dom_classes": [],
            "description": "",
            "_model_name": "HTMLModel",
            "placeholder": "​",
            "_view_module": "@jupyter-widgets/controls",
            "_model_module_version": "1.5.0",
            "value": " 483/483 [00:00&lt;00:00, 2.95kB/s]",
            "_view_count": null,
            "_view_module_version": "1.5.0",
            "description_tooltip": null,
            "_model_module": "@jupyter-widgets/controls",
            "layout": "IPY_MODEL_a0348aeab9ea4de48a4da78f34900e06"
          }
        },
        "6fdad4fc02c845efb3b7598a816c7a6f": {
          "model_module": "@jupyter-widgets/controls",
          "model_name": "DescriptionStyleModel",
          "model_module_version": "1.5.0",
          "state": {
            "_view_name": "StyleView",
            "_model_name": "DescriptionStyleModel",
            "description_width": "",
            "_view_module": "@jupyter-widgets/base",
            "_model_module_version": "1.5.0",
            "_view_count": null,
            "_view_module_version": "1.2.0",
            "_model_module": "@jupyter-widgets/controls"
          }
        },
        "cf5da539d2af4d53840ca896b998eccc": {
          "model_module": "@jupyter-widgets/base",
          "model_name": "LayoutModel",
          "model_module_version": "1.2.0",
          "state": {
            "_view_name": "LayoutView",
            "grid_template_rows": null,
            "right": null,
            "justify_content": null,
            "_view_module": "@jupyter-widgets/base",
            "overflow": null,
            "_model_module_version": "1.2.0",
            "_view_count": null,
            "flex_flow": null,
            "width": null,
            "min_width": null,
            "border": null,
            "align_items": null,
            "bottom": null,
            "_model_module": "@jupyter-widgets/base",
            "top": null,
            "grid_column": null,
            "overflow_y": null,
            "overflow_x": null,
            "grid_auto_flow": null,
            "grid_area": null,
            "grid_template_columns": null,
            "flex": null,
            "_model_name": "LayoutModel",
            "justify_items": null,
            "grid_row": null,
            "max_height": null,
            "align_content": null,
            "visibility": null,
            "align_self": null,
            "height": null,
            "min_height": null,
            "padding": null,
            "grid_auto_rows": null,
            "grid_gap": null,
            "max_width": null,
            "order": null,
            "_view_module_version": "1.2.0",
            "grid_template_areas": null,
            "object_position": null,
            "object_fit": null,
            "grid_auto_columns": null,
            "margin": null,
            "display": null,
            "left": null
          }
        },
        "0a0b940640df47fea435fd40d73c6013": {
          "model_module": "@jupyter-widgets/controls",
          "model_name": "ProgressStyleModel",
          "model_module_version": "1.5.0",
          "state": {
            "_view_name": "StyleView",
            "_model_name": "ProgressStyleModel",
            "description_width": "",
            "_view_module": "@jupyter-widgets/base",
            "_model_module_version": "1.5.0",
            "_view_count": null,
            "_view_module_version": "1.2.0",
            "bar_color": null,
            "_model_module": "@jupyter-widgets/controls"
          }
        },
        "a9c7cac6b8144d85825d1b222a1ce036": {
          "model_module": "@jupyter-widgets/base",
          "model_name": "LayoutModel",
          "model_module_version": "1.2.0",
          "state": {
            "_view_name": "LayoutView",
            "grid_template_rows": null,
            "right": null,
            "justify_content": null,
            "_view_module": "@jupyter-widgets/base",
            "overflow": null,
            "_model_module_version": "1.2.0",
            "_view_count": null,
            "flex_flow": null,
            "width": null,
            "min_width": null,
            "border": null,
            "align_items": null,
            "bottom": null,
            "_model_module": "@jupyter-widgets/base",
            "top": null,
            "grid_column": null,
            "overflow_y": null,
            "overflow_x": null,
            "grid_auto_flow": null,
            "grid_area": null,
            "grid_template_columns": null,
            "flex": null,
            "_model_name": "LayoutModel",
            "justify_items": null,
            "grid_row": null,
            "max_height": null,
            "align_content": null,
            "visibility": null,
            "align_self": null,
            "height": null,
            "min_height": null,
            "padding": null,
            "grid_auto_rows": null,
            "grid_gap": null,
            "max_width": null,
            "order": null,
            "_view_module_version": "1.2.0",
            "grid_template_areas": null,
            "object_position": null,
            "object_fit": null,
            "grid_auto_columns": null,
            "margin": null,
            "display": null,
            "left": null
          }
        },
        "b991e6113f9a40d4894f9c6784d1e79f": {
          "model_module": "@jupyter-widgets/controls",
          "model_name": "DescriptionStyleModel",
          "model_module_version": "1.5.0",
          "state": {
            "_view_name": "StyleView",
            "_model_name": "DescriptionStyleModel",
            "description_width": "",
            "_view_module": "@jupyter-widgets/base",
            "_model_module_version": "1.5.0",
            "_view_count": null,
            "_view_module_version": "1.2.0",
            "_model_module": "@jupyter-widgets/controls"
          }
        },
        "a0348aeab9ea4de48a4da78f34900e06": {
          "model_module": "@jupyter-widgets/base",
          "model_name": "LayoutModel",
          "model_module_version": "1.2.0",
          "state": {
            "_view_name": "LayoutView",
            "grid_template_rows": null,
            "right": null,
            "justify_content": null,
            "_view_module": "@jupyter-widgets/base",
            "overflow": null,
            "_model_module_version": "1.2.0",
            "_view_count": null,
            "flex_flow": null,
            "width": null,
            "min_width": null,
            "border": null,
            "align_items": null,
            "bottom": null,
            "_model_module": "@jupyter-widgets/base",
            "top": null,
            "grid_column": null,
            "overflow_y": null,
            "overflow_x": null,
            "grid_auto_flow": null,
            "grid_area": null,
            "grid_template_columns": null,
            "flex": null,
            "_model_name": "LayoutModel",
            "justify_items": null,
            "grid_row": null,
            "max_height": null,
            "align_content": null,
            "visibility": null,
            "align_self": null,
            "height": null,
            "min_height": null,
            "padding": null,
            "grid_auto_rows": null,
            "grid_gap": null,
            "max_width": null,
            "order": null,
            "_view_module_version": "1.2.0",
            "grid_template_areas": null,
            "object_position": null,
            "object_fit": null,
            "grid_auto_columns": null,
            "margin": null,
            "display": null,
            "left": null
          }
        },
        "2e8d4f2c66a1447194063f7f90cf306f": {
          "model_module": "@jupyter-widgets/controls",
          "model_name": "HBoxModel",
          "model_module_version": "1.5.0",
          "state": {
            "_view_name": "HBoxView",
            "_dom_classes": [],
            "_model_name": "HBoxModel",
            "_view_module": "@jupyter-widgets/controls",
            "_model_module_version": "1.5.0",
            "_view_count": null,
            "_view_module_version": "1.5.0",
            "box_style": "",
            "layout": "IPY_MODEL_9f1708b0a4b340a184c1a67bdf47bcac",
            "_model_module": "@jupyter-widgets/controls",
            "children": [
              "IPY_MODEL_e87994fac20a47229bdb5fa6703304fd",
              "IPY_MODEL_6802873f35274a82893df382605bc373",
              "IPY_MODEL_ca8394f9b00b4af79aca6504994956d6"
            ]
          }
        },
        "9f1708b0a4b340a184c1a67bdf47bcac": {
          "model_module": "@jupyter-widgets/base",
          "model_name": "LayoutModel",
          "model_module_version": "1.2.0",
          "state": {
            "_view_name": "LayoutView",
            "grid_template_rows": null,
            "right": null,
            "justify_content": null,
            "_view_module": "@jupyter-widgets/base",
            "overflow": null,
            "_model_module_version": "1.2.0",
            "_view_count": null,
            "flex_flow": null,
            "width": null,
            "min_width": null,
            "border": null,
            "align_items": null,
            "bottom": null,
            "_model_module": "@jupyter-widgets/base",
            "top": null,
            "grid_column": null,
            "overflow_y": null,
            "overflow_x": null,
            "grid_auto_flow": null,
            "grid_area": null,
            "grid_template_columns": null,
            "flex": null,
            "_model_name": "LayoutModel",
            "justify_items": null,
            "grid_row": null,
            "max_height": null,
            "align_content": null,
            "visibility": null,
            "align_self": null,
            "height": null,
            "min_height": null,
            "padding": null,
            "grid_auto_rows": null,
            "grid_gap": null,
            "max_width": null,
            "order": null,
            "_view_module_version": "1.2.0",
            "grid_template_areas": null,
            "object_position": null,
            "object_fit": null,
            "grid_auto_columns": null,
            "margin": null,
            "display": null,
            "left": null
          }
        },
        "e87994fac20a47229bdb5fa6703304fd": {
          "model_module": "@jupyter-widgets/controls",
          "model_name": "HTMLModel",
          "model_module_version": "1.5.0",
          "state": {
            "_view_name": "HTMLView",
            "style": "IPY_MODEL_04f0ae086a5d4895a454424ebf6c5629",
            "_dom_classes": [],
            "description": "",
            "_model_name": "HTMLModel",
            "placeholder": "​",
            "_view_module": "@jupyter-widgets/controls",
            "_model_module_version": "1.5.0",
            "value": "Downloading: 100%",
            "_view_count": null,
            "_view_module_version": "1.5.0",
            "description_tooltip": null,
            "_model_module": "@jupyter-widgets/controls",
            "layout": "IPY_MODEL_43881c768c2f47a699c819a913cdd452"
          }
        },
        "6802873f35274a82893df382605bc373": {
          "model_module": "@jupyter-widgets/controls",
          "model_name": "FloatProgressModel",
          "model_module_version": "1.5.0",
          "state": {
            "_view_name": "ProgressView",
            "style": "IPY_MODEL_8400e97bc88f400d81192921477d2c32",
            "_dom_classes": [],
            "description": "",
            "_model_name": "FloatProgressModel",
            "bar_style": "success",
            "max": 231508,
            "_view_module": "@jupyter-widgets/controls",
            "_model_module_version": "1.5.0",
            "value": 231508,
            "_view_count": null,
            "_view_module_version": "1.5.0",
            "orientation": "horizontal",
            "min": 0,
            "description_tooltip": null,
            "_model_module": "@jupyter-widgets/controls",
            "layout": "IPY_MODEL_758eb8e38829423281784d2fa7a1d2d4"
          }
        },
        "ca8394f9b00b4af79aca6504994956d6": {
          "model_module": "@jupyter-widgets/controls",
          "model_name": "HTMLModel",
          "model_module_version": "1.5.0",
          "state": {
            "_view_name": "HTMLView",
            "style": "IPY_MODEL_da0e357be241421e9b15e16f2c8bade9",
            "_dom_classes": [],
            "description": "",
            "_model_name": "HTMLModel",
            "placeholder": "​",
            "_view_module": "@jupyter-widgets/controls",
            "_model_module_version": "1.5.0",
            "value": " 226k/226k [00:00&lt;00:00, 290kB/s]",
            "_view_count": null,
            "_view_module_version": "1.5.0",
            "description_tooltip": null,
            "_model_module": "@jupyter-widgets/controls",
            "layout": "IPY_MODEL_02a03fcefc1a4f6a90a407c88e380a03"
          }
        },
        "04f0ae086a5d4895a454424ebf6c5629": {
          "model_module": "@jupyter-widgets/controls",
          "model_name": "DescriptionStyleModel",
          "model_module_version": "1.5.0",
          "state": {
            "_view_name": "StyleView",
            "_model_name": "DescriptionStyleModel",
            "description_width": "",
            "_view_module": "@jupyter-widgets/base",
            "_model_module_version": "1.5.0",
            "_view_count": null,
            "_view_module_version": "1.2.0",
            "_model_module": "@jupyter-widgets/controls"
          }
        },
        "43881c768c2f47a699c819a913cdd452": {
          "model_module": "@jupyter-widgets/base",
          "model_name": "LayoutModel",
          "model_module_version": "1.2.0",
          "state": {
            "_view_name": "LayoutView",
            "grid_template_rows": null,
            "right": null,
            "justify_content": null,
            "_view_module": "@jupyter-widgets/base",
            "overflow": null,
            "_model_module_version": "1.2.0",
            "_view_count": null,
            "flex_flow": null,
            "width": null,
            "min_width": null,
            "border": null,
            "align_items": null,
            "bottom": null,
            "_model_module": "@jupyter-widgets/base",
            "top": null,
            "grid_column": null,
            "overflow_y": null,
            "overflow_x": null,
            "grid_auto_flow": null,
            "grid_area": null,
            "grid_template_columns": null,
            "flex": null,
            "_model_name": "LayoutModel",
            "justify_items": null,
            "grid_row": null,
            "max_height": null,
            "align_content": null,
            "visibility": null,
            "align_self": null,
            "height": null,
            "min_height": null,
            "padding": null,
            "grid_auto_rows": null,
            "grid_gap": null,
            "max_width": null,
            "order": null,
            "_view_module_version": "1.2.0",
            "grid_template_areas": null,
            "object_position": null,
            "object_fit": null,
            "grid_auto_columns": null,
            "margin": null,
            "display": null,
            "left": null
          }
        },
        "8400e97bc88f400d81192921477d2c32": {
          "model_module": "@jupyter-widgets/controls",
          "model_name": "ProgressStyleModel",
          "model_module_version": "1.5.0",
          "state": {
            "_view_name": "StyleView",
            "_model_name": "ProgressStyleModel",
            "description_width": "",
            "_view_module": "@jupyter-widgets/base",
            "_model_module_version": "1.5.0",
            "_view_count": null,
            "_view_module_version": "1.2.0",
            "bar_color": null,
            "_model_module": "@jupyter-widgets/controls"
          }
        },
        "758eb8e38829423281784d2fa7a1d2d4": {
          "model_module": "@jupyter-widgets/base",
          "model_name": "LayoutModel",
          "model_module_version": "1.2.0",
          "state": {
            "_view_name": "LayoutView",
            "grid_template_rows": null,
            "right": null,
            "justify_content": null,
            "_view_module": "@jupyter-widgets/base",
            "overflow": null,
            "_model_module_version": "1.2.0",
            "_view_count": null,
            "flex_flow": null,
            "width": null,
            "min_width": null,
            "border": null,
            "align_items": null,
            "bottom": null,
            "_model_module": "@jupyter-widgets/base",
            "top": null,
            "grid_column": null,
            "overflow_y": null,
            "overflow_x": null,
            "grid_auto_flow": null,
            "grid_area": null,
            "grid_template_columns": null,
            "flex": null,
            "_model_name": "LayoutModel",
            "justify_items": null,
            "grid_row": null,
            "max_height": null,
            "align_content": null,
            "visibility": null,
            "align_self": null,
            "height": null,
            "min_height": null,
            "padding": null,
            "grid_auto_rows": null,
            "grid_gap": null,
            "max_width": null,
            "order": null,
            "_view_module_version": "1.2.0",
            "grid_template_areas": null,
            "object_position": null,
            "object_fit": null,
            "grid_auto_columns": null,
            "margin": null,
            "display": null,
            "left": null
          }
        },
        "da0e357be241421e9b15e16f2c8bade9": {
          "model_module": "@jupyter-widgets/controls",
          "model_name": "DescriptionStyleModel",
          "model_module_version": "1.5.0",
          "state": {
            "_view_name": "StyleView",
            "_model_name": "DescriptionStyleModel",
            "description_width": "",
            "_view_module": "@jupyter-widgets/base",
            "_model_module_version": "1.5.0",
            "_view_count": null,
            "_view_module_version": "1.2.0",
            "_model_module": "@jupyter-widgets/controls"
          }
        },
        "02a03fcefc1a4f6a90a407c88e380a03": {
          "model_module": "@jupyter-widgets/base",
          "model_name": "LayoutModel",
          "model_module_version": "1.2.0",
          "state": {
            "_view_name": "LayoutView",
            "grid_template_rows": null,
            "right": null,
            "justify_content": null,
            "_view_module": "@jupyter-widgets/base",
            "overflow": null,
            "_model_module_version": "1.2.0",
            "_view_count": null,
            "flex_flow": null,
            "width": null,
            "min_width": null,
            "border": null,
            "align_items": null,
            "bottom": null,
            "_model_module": "@jupyter-widgets/base",
            "top": null,
            "grid_column": null,
            "overflow_y": null,
            "overflow_x": null,
            "grid_auto_flow": null,
            "grid_area": null,
            "grid_template_columns": null,
            "flex": null,
            "_model_name": "LayoutModel",
            "justify_items": null,
            "grid_row": null,
            "max_height": null,
            "align_content": null,
            "visibility": null,
            "align_self": null,
            "height": null,
            "min_height": null,
            "padding": null,
            "grid_auto_rows": null,
            "grid_gap": null,
            "max_width": null,
            "order": null,
            "_view_module_version": "1.2.0",
            "grid_template_areas": null,
            "object_position": null,
            "object_fit": null,
            "grid_auto_columns": null,
            "margin": null,
            "display": null,
            "left": null
          }
        },
        "4b8f3a8787cf44fd957273ed613c3273": {
          "model_module": "@jupyter-widgets/controls",
          "model_name": "HBoxModel",
          "model_module_version": "1.5.0",
          "state": {
            "_view_name": "HBoxView",
            "_dom_classes": [],
            "_model_name": "HBoxModel",
            "_view_module": "@jupyter-widgets/controls",
            "_model_module_version": "1.5.0",
            "_view_count": null,
            "_view_module_version": "1.5.0",
            "box_style": "",
            "layout": "IPY_MODEL_7907b259463e4ec4922d19c0b6700d91",
            "_model_module": "@jupyter-widgets/controls",
            "children": [
              "IPY_MODEL_168d49397a704370a69e7e03edb11ed7",
              "IPY_MODEL_d4f01136efed4c93b6f32e4745d8e3e9",
              "IPY_MODEL_5b376f04e26d4013b156bbd20483d763"
            ]
          }
        },
        "7907b259463e4ec4922d19c0b6700d91": {
          "model_module": "@jupyter-widgets/base",
          "model_name": "LayoutModel",
          "model_module_version": "1.2.0",
          "state": {
            "_view_name": "LayoutView",
            "grid_template_rows": null,
            "right": null,
            "justify_content": null,
            "_view_module": "@jupyter-widgets/base",
            "overflow": null,
            "_model_module_version": "1.2.0",
            "_view_count": null,
            "flex_flow": null,
            "width": null,
            "min_width": null,
            "border": null,
            "align_items": null,
            "bottom": null,
            "_model_module": "@jupyter-widgets/base",
            "top": null,
            "grid_column": null,
            "overflow_y": null,
            "overflow_x": null,
            "grid_auto_flow": null,
            "grid_area": null,
            "grid_template_columns": null,
            "flex": null,
            "_model_name": "LayoutModel",
            "justify_items": null,
            "grid_row": null,
            "max_height": null,
            "align_content": null,
            "visibility": null,
            "align_self": null,
            "height": null,
            "min_height": null,
            "padding": null,
            "grid_auto_rows": null,
            "grid_gap": null,
            "max_width": null,
            "order": null,
            "_view_module_version": "1.2.0",
            "grid_template_areas": null,
            "object_position": null,
            "object_fit": null,
            "grid_auto_columns": null,
            "margin": null,
            "display": null,
            "left": null
          }
        },
        "168d49397a704370a69e7e03edb11ed7": {
          "model_module": "@jupyter-widgets/controls",
          "model_name": "HTMLModel",
          "model_module_version": "1.5.0",
          "state": {
            "_view_name": "HTMLView",
            "style": "IPY_MODEL_5f8b8e6a287e45c2bc5daef5359df8b8",
            "_dom_classes": [],
            "description": "",
            "_model_name": "HTMLModel",
            "placeholder": "​",
            "_view_module": "@jupyter-widgets/controls",
            "_model_module_version": "1.5.0",
            "value": "Downloading: 100%",
            "_view_count": null,
            "_view_module_version": "1.5.0",
            "description_tooltip": null,
            "_model_module": "@jupyter-widgets/controls",
            "layout": "IPY_MODEL_82fd84fc1edb41cb8a981f51745c70fb"
          }
        },
        "d4f01136efed4c93b6f32e4745d8e3e9": {
          "model_module": "@jupyter-widgets/controls",
          "model_name": "FloatProgressModel",
          "model_module_version": "1.5.0",
          "state": {
            "_view_name": "ProgressView",
            "style": "IPY_MODEL_9a19a40dfe9646038e74e586bf8e1c8e",
            "_dom_classes": [],
            "description": "",
            "_model_name": "FloatProgressModel",
            "bar_style": "success",
            "max": 466062,
            "_view_module": "@jupyter-widgets/controls",
            "_model_module_version": "1.5.0",
            "value": 466062,
            "_view_count": null,
            "_view_module_version": "1.5.0",
            "orientation": "horizontal",
            "min": 0,
            "description_tooltip": null,
            "_model_module": "@jupyter-widgets/controls",
            "layout": "IPY_MODEL_d554cb0b22414b1a8713cc01c6546c7b"
          }
        },
        "5b376f04e26d4013b156bbd20483d763": {
          "model_module": "@jupyter-widgets/controls",
          "model_name": "HTMLModel",
          "model_module_version": "1.5.0",
          "state": {
            "_view_name": "HTMLView",
            "style": "IPY_MODEL_ce06705a338249069477b59d75df5505",
            "_dom_classes": [],
            "description": "",
            "_model_name": "HTMLModel",
            "placeholder": "​",
            "_view_module": "@jupyter-widgets/controls",
            "_model_module_version": "1.5.0",
            "value": " 455k/455k [00:00&lt;00:00, 1.41MB/s]",
            "_view_count": null,
            "_view_module_version": "1.5.0",
            "description_tooltip": null,
            "_model_module": "@jupyter-widgets/controls",
            "layout": "IPY_MODEL_91ddb0432bd44ea49c5152e8ad7d4844"
          }
        },
        "5f8b8e6a287e45c2bc5daef5359df8b8": {
          "model_module": "@jupyter-widgets/controls",
          "model_name": "DescriptionStyleModel",
          "model_module_version": "1.5.0",
          "state": {
            "_view_name": "StyleView",
            "_model_name": "DescriptionStyleModel",
            "description_width": "",
            "_view_module": "@jupyter-widgets/base",
            "_model_module_version": "1.5.0",
            "_view_count": null,
            "_view_module_version": "1.2.0",
            "_model_module": "@jupyter-widgets/controls"
          }
        },
        "82fd84fc1edb41cb8a981f51745c70fb": {
          "model_module": "@jupyter-widgets/base",
          "model_name": "LayoutModel",
          "model_module_version": "1.2.0",
          "state": {
            "_view_name": "LayoutView",
            "grid_template_rows": null,
            "right": null,
            "justify_content": null,
            "_view_module": "@jupyter-widgets/base",
            "overflow": null,
            "_model_module_version": "1.2.0",
            "_view_count": null,
            "flex_flow": null,
            "width": null,
            "min_width": null,
            "border": null,
            "align_items": null,
            "bottom": null,
            "_model_module": "@jupyter-widgets/base",
            "top": null,
            "grid_column": null,
            "overflow_y": null,
            "overflow_x": null,
            "grid_auto_flow": null,
            "grid_area": null,
            "grid_template_columns": null,
            "flex": null,
            "_model_name": "LayoutModel",
            "justify_items": null,
            "grid_row": null,
            "max_height": null,
            "align_content": null,
            "visibility": null,
            "align_self": null,
            "height": null,
            "min_height": null,
            "padding": null,
            "grid_auto_rows": null,
            "grid_gap": null,
            "max_width": null,
            "order": null,
            "_view_module_version": "1.2.0",
            "grid_template_areas": null,
            "object_position": null,
            "object_fit": null,
            "grid_auto_columns": null,
            "margin": null,
            "display": null,
            "left": null
          }
        },
        "9a19a40dfe9646038e74e586bf8e1c8e": {
          "model_module": "@jupyter-widgets/controls",
          "model_name": "ProgressStyleModel",
          "model_module_version": "1.5.0",
          "state": {
            "_view_name": "StyleView",
            "_model_name": "ProgressStyleModel",
            "description_width": "",
            "_view_module": "@jupyter-widgets/base",
            "_model_module_version": "1.5.0",
            "_view_count": null,
            "_view_module_version": "1.2.0",
            "bar_color": null,
            "_model_module": "@jupyter-widgets/controls"
          }
        },
        "d554cb0b22414b1a8713cc01c6546c7b": {
          "model_module": "@jupyter-widgets/base",
          "model_name": "LayoutModel",
          "model_module_version": "1.2.0",
          "state": {
            "_view_name": "LayoutView",
            "grid_template_rows": null,
            "right": null,
            "justify_content": null,
            "_view_module": "@jupyter-widgets/base",
            "overflow": null,
            "_model_module_version": "1.2.0",
            "_view_count": null,
            "flex_flow": null,
            "width": null,
            "min_width": null,
            "border": null,
            "align_items": null,
            "bottom": null,
            "_model_module": "@jupyter-widgets/base",
            "top": null,
            "grid_column": null,
            "overflow_y": null,
            "overflow_x": null,
            "grid_auto_flow": null,
            "grid_area": null,
            "grid_template_columns": null,
            "flex": null,
            "_model_name": "LayoutModel",
            "justify_items": null,
            "grid_row": null,
            "max_height": null,
            "align_content": null,
            "visibility": null,
            "align_self": null,
            "height": null,
            "min_height": null,
            "padding": null,
            "grid_auto_rows": null,
            "grid_gap": null,
            "max_width": null,
            "order": null,
            "_view_module_version": "1.2.0",
            "grid_template_areas": null,
            "object_position": null,
            "object_fit": null,
            "grid_auto_columns": null,
            "margin": null,
            "display": null,
            "left": null
          }
        },
        "ce06705a338249069477b59d75df5505": {
          "model_module": "@jupyter-widgets/controls",
          "model_name": "DescriptionStyleModel",
          "model_module_version": "1.5.0",
          "state": {
            "_view_name": "StyleView",
            "_model_name": "DescriptionStyleModel",
            "description_width": "",
            "_view_module": "@jupyter-widgets/base",
            "_model_module_version": "1.5.0",
            "_view_count": null,
            "_view_module_version": "1.2.0",
            "_model_module": "@jupyter-widgets/controls"
          }
        },
        "91ddb0432bd44ea49c5152e8ad7d4844": {
          "model_module": "@jupyter-widgets/base",
          "model_name": "LayoutModel",
          "model_module_version": "1.2.0",
          "state": {
            "_view_name": "LayoutView",
            "grid_template_rows": null,
            "right": null,
            "justify_content": null,
            "_view_module": "@jupyter-widgets/base",
            "overflow": null,
            "_model_module_version": "1.2.0",
            "_view_count": null,
            "flex_flow": null,
            "width": null,
            "min_width": null,
            "border": null,
            "align_items": null,
            "bottom": null,
            "_model_module": "@jupyter-widgets/base",
            "top": null,
            "grid_column": null,
            "overflow_y": null,
            "overflow_x": null,
            "grid_auto_flow": null,
            "grid_area": null,
            "grid_template_columns": null,
            "flex": null,
            "_model_name": "LayoutModel",
            "justify_items": null,
            "grid_row": null,
            "max_height": null,
            "align_content": null,
            "visibility": null,
            "align_self": null,
            "height": null,
            "min_height": null,
            "padding": null,
            "grid_auto_rows": null,
            "grid_gap": null,
            "max_width": null,
            "order": null,
            "_view_module_version": "1.2.0",
            "grid_template_areas": null,
            "object_position": null,
            "object_fit": null,
            "grid_auto_columns": null,
            "margin": null,
            "display": null,
            "left": null
          }
        }
      }
    }
  },
  "cells": [
    {
      "cell_type": "markdown",
      "metadata": {
        "id": "view-in-github",
        "colab_type": "text"
      },
      "source": [
        "<a href=\"https://colab.research.google.com/github/rahiakela/transformers-research-and-practice/blob/main/natural-language-processing-with-transformers/02-text-classification/text_classification.ipynb\" target=\"_parent\"><img src=\"https://colab.research.google.com/assets/colab-badge.svg\" alt=\"Open In Colab\"/></a>"
      ]
    },
    {
      "cell_type": "markdown",
      "source": [
        "##Text Classification"
      ],
      "metadata": {
        "id": "PfCJmxSiZ8Bd"
      }
    },
    {
      "cell_type": "markdown",
      "source": [
        "Text classification is one of the most common tasks in NLP and can be used for applications\n",
        "such as tagging customer feedback into categories or routing support tickets according to their\n",
        "language. Chances are that your email’s spam filter is using text classification to protect your\n",
        "inbox from a deluge of unwanted junk!\n",
        "\n",
        "Another common type of text classification is sentiment analysis, which aims to identify the\n",
        "polarity of a given text.\n",
        "\n",
        "Now imagine that you are a data scientist who needs to build a system that can automatically\n",
        "identify emotional states such as “anger” or “joy” that people express towards your company’s\n",
        "product on Twitter. \n",
        "\n",
        "Until 2018, the deep learning approach to this problem typically involved\n",
        "finding a suitable neural architecture for the task and training it from scratch on a dataset of\n",
        "labeled tweets. This approach suffered from three major drawbacks:\n",
        "\n",
        "- You needed a lot of labeled data to train accurate models like recurrent or\n",
        "convolutional neural networks.\n",
        "- Training these models from scratch was time consuming and expensive.\n",
        "- The trained model could not be easily adapted to a new task, e.g. with a different set of labels.\n",
        "\n",
        "Nowadays, these limitations are largely overcome via transfer learning, where typically a\n",
        "Transformer-based architecture is pretrained on a generic task such as language modeling and\n",
        "then reused for a wide variety of downstream tasks."
      ],
      "metadata": {
        "id": "0O5UwNeIZ8op"
      }
    },
    {
      "cell_type": "markdown",
      "source": [
        "##Setup"
      ],
      "metadata": {
        "id": "NmjXzjlJaZVE"
      }
    },
    {
      "cell_type": "code",
      "source": [
        "!pip -q install transformers[sentencepiece]\n",
        "!pip -q install datasets"
      ],
      "metadata": {
        "id": "TbIsiaFwaaky"
      },
      "execution_count": null,
      "outputs": []
    },
    {
      "cell_type": "code",
      "source": [
        "!pip -q install umap-learn"
      ],
      "metadata": {
        "id": "KuO4afypo7-T"
      },
      "execution_count": null,
      "outputs": []
    },
    {
      "cell_type": "code",
      "source": [
        "from transformers import pipeline\n",
        "from transformers import set_seed\n",
        "from transformers import AutoTokenizer\n",
        "from transformers import AutoModel\n",
        "from transformers import AutoModelForSequenceClassification\n",
        "from transformers import Trainer, TrainingArguments\n",
        "\n",
        "from datasets import list_datasets, load_dataset\n",
        "\n",
        "import torch\n",
        "from torch.nn.functional import cross_entropy\n",
        "\n",
        "from sklearn.preprocessing import MinMaxScaler\n",
        "from sklearn.linear_model import LogisticRegression\n",
        "from sklearn.dummy import DummyClassifier\n",
        "from sklearn.metrics import classification_report, accuracy_score, f1_score, plot_confusion_matrix\n",
        "\n",
        "import pandas as pd\n",
        "import numpy as np\n",
        "import umap.umap_ as umap\n",
        "import matplotlib.pyplot as plt"
      ],
      "metadata": {
        "id": "Kl_TTiiIaeLG"
      },
      "execution_count": 61,
      "outputs": []
    },
    {
      "cell_type": "markdown",
      "source": [
        "##The Dataset"
      ],
      "metadata": {
        "id": "FE-e_1EIaa1F"
      }
    },
    {
      "cell_type": "markdown",
      "source": [
        "To build our emotion detector we’ll use a great dataset from an article that explored how\n",
        "emotions are represented in English Twitter messages. \n",
        "\n",
        "Unlike most sentiment analysis datasets\n",
        "that involve just “positive” and “negative” polarities, this dataset contains six basic emotions:\n",
        "anger, disgust, fear, joy, sadness, and surprise. \n",
        "\n",
        "\n",
        "Given a tweet, our task will be to train a model\n",
        "that can classify it into one of these emotions!"
      ],
      "metadata": {
        "id": "8-2ciOUGayjC"
      }
    },
    {
      "cell_type": "markdown",
      "source": [
        "###Overview of Datasets"
      ],
      "metadata": {
        "id": "s1hPKMSVhT_J"
      }
    },
    {
      "cell_type": "code",
      "source": [
        "# We can use the list_datasets function to see what datasets are available in the Hub:\n",
        "datasets = list_datasets()\n",
        "\n",
        "print(f\"There are {len(datasets)} datasets currently available on the Hub.\")\n",
        "print(f\"The first 10 are: {datasets[:10]}\")"
      ],
      "metadata": {
        "colab": {
          "base_uri": "https://localhost:8080/"
        },
        "id": "pjvtlOmQbdG0",
        "outputId": "f0f11592-0e9d-45f8-a078-6422dbeed95d"
      },
      "execution_count": 4,
      "outputs": [
        {
          "output_type": "stream",
          "name": "stdout",
          "text": [
            "There are 2213 datasets currently available on the Hub.\n",
            "The first 10 are: ['0n1xus/codexglue', '0n1xus/pytorrent-standalone', 'AConsApart/anime_subtitles_DialoGPT', 'AI-Sweden/SuperLim', 'AI-it/korean-hate-speech', 'ARKseal/YFCC14M_subset_webdataset', 'ARTeLab/fanpage', 'ARTeLab/ilpost', 'ARTeLab/mlsum-it', 'Abdo1Kamr/Arabic_Hadith']\n"
          ]
        }
      ]
    },
    {
      "cell_type": "markdown",
      "source": [
        "We see that each dataset is given a name, so let’s inspect the metadata associated with the\n",
        "emotion dataset:"
      ],
      "metadata": {
        "id": "Ns2dh4xdbyIm"
      }
    },
    {
      "cell_type": "code",
      "source": [
        "metadata = list_datasets(with_details=True)[datasets.index(\"emotion\")]\n",
        "\n",
        "# Show dataset description\n",
        "print(\"Description:\", metadata.description, \"\\n\")\n",
        "# Show first 8 lines of the citation string\n",
        "print(\"Citation:\", \"\\n\".join(metadata.citation.split(\"\\n\")[:8]))"
      ],
      "metadata": {
        "colab": {
          "base_uri": "https://localhost:8080/"
        },
        "id": "WE2INspybyz1",
        "outputId": "b23bd39f-d79b-40d6-e1b7-b76e496940cb"
      },
      "execution_count": 5,
      "outputs": [
        {
          "output_type": "stream",
          "name": "stdout",
          "text": [
            "Description: Emotion is a dataset of English Twitter messages with six basic emotions: anger, fear, joy, love, sadness, and surprise. For more detailed information please refer to the paper. \n",
            "\n",
            "Citation: @inproceedings{saravia-etal-2018-carer,\n",
            "    title = \"{CARER}: Contextualized Affect Representations for Emotion Recognition\",\n",
            "    author = \"Saravia, Elvis  and\n",
            "      Liu, Hsien-Chi Toby  and\n",
            "      Huang, Yen-Hao  and\n",
            "      Wu, Junlin  and\n",
            "      Chen, Yi-Shin\",\n",
            "    booktitle = \"Proceedings of the 2018 Conference on Empirical Methods in Natural Language Processing\",\n"
          ]
        }
      ]
    },
    {
      "cell_type": "markdown",
      "source": [
        "This looks like the dataset we’re after, so next we can load it with the `load_dataset` function from Datasets:"
      ],
      "metadata": {
        "id": "TFwzYC8Zdm-P"
      }
    },
    {
      "cell_type": "code",
      "source": [
        "emotions = load_dataset(\"emotion\")"
      ],
      "metadata": {
        "id": "pPaEqtbZdoj4"
      },
      "execution_count": null,
      "outputs": []
    },
    {
      "cell_type": "code",
      "source": [
        "emotions"
      ],
      "metadata": {
        "colab": {
          "base_uri": "https://localhost:8080/"
        },
        "id": "UZ1KLuRdeQnh",
        "outputId": "3615a7ba-90e3-465a-9d6c-01778a4d1253"
      },
      "execution_count": 7,
      "outputs": [
        {
          "output_type": "execute_result",
          "data": {
            "text/plain": [
              "DatasetDict({\n",
              "    train: Dataset({\n",
              "        features: ['text', 'label'],\n",
              "        num_rows: 16000\n",
              "    })\n",
              "    validation: Dataset({\n",
              "        features: ['text', 'label'],\n",
              "        num_rows: 2000\n",
              "    })\n",
              "    test: Dataset({\n",
              "        features: ['text', 'label'],\n",
              "        num_rows: 2000\n",
              "    })\n",
              "})"
            ]
          },
          "metadata": {},
          "execution_count": 7
        }
      ]
    },
    {
      "cell_type": "markdown",
      "source": [
        "we see it is similar to a Python dictionary, with each key corresponding to a different split. \n",
        "\n",
        "And just like any dictionary, we can access an individual split as usual"
      ],
      "metadata": {
        "id": "SGOtUtiMebHD"
      }
    },
    {
      "cell_type": "code",
      "source": [
        "train_ds = emotions[\"train\"]\n",
        "train_ds"
      ],
      "metadata": {
        "colab": {
          "base_uri": "https://localhost:8080/"
        },
        "id": "iDGm5pQledFm",
        "outputId": "040d68c9-5aaf-4619-b479-373bc056085e"
      },
      "execution_count": 8,
      "outputs": [
        {
          "output_type": "execute_result",
          "data": {
            "text/plain": [
              "Dataset({\n",
              "    features: ['text', 'label'],\n",
              "    num_rows: 16000\n",
              "})"
            ]
          },
          "metadata": {},
          "execution_count": 8
        }
      ]
    },
    {
      "cell_type": "markdown",
      "source": [
        "This object behaves like an\n",
        "ordinary Python container, so we can query its length"
      ],
      "metadata": {
        "id": "leozYrtJeqo6"
      }
    },
    {
      "cell_type": "code",
      "source": [
        "len(train_ds)"
      ],
      "metadata": {
        "colab": {
          "base_uri": "https://localhost:8080/"
        },
        "id": "dvDZesbXerQ0",
        "outputId": "44217f0a-56fd-4bc1-fc68-6c379dc200ed"
      },
      "execution_count": 9,
      "outputs": [
        {
          "output_type": "execute_result",
          "data": {
            "text/plain": [
              "16000"
            ]
          },
          "metadata": {},
          "execution_count": 9
        }
      ]
    },
    {
      "cell_type": "markdown",
      "source": [
        "or access a single example by its index"
      ],
      "metadata": {
        "id": "RECvP-DqexU5"
      }
    },
    {
      "cell_type": "code",
      "source": [
        "train_ds[0]"
      ],
      "metadata": {
        "colab": {
          "base_uri": "https://localhost:8080/"
        },
        "id": "ev1O0vYSexxU",
        "outputId": "6edeb970-c00b-4cc2-ddb7-e09acc3e265e"
      },
      "execution_count": 10,
      "outputs": [
        {
          "output_type": "execute_result",
          "data": {
            "text/plain": [
              "{'label': 0, 'text': 'i didnt feel humiliated'}"
            ]
          },
          "metadata": {},
          "execution_count": 10
        }
      ]
    },
    {
      "cell_type": "markdown",
      "source": [
        "Here we see that a single row is represented as a\n",
        "dictionary, where the keys correspond to the column names"
      ],
      "metadata": {
        "id": "xfD3nZkbe7n1"
      }
    },
    {
      "cell_type": "code",
      "source": [
        "train_ds.column_names"
      ],
      "metadata": {
        "colab": {
          "base_uri": "https://localhost:8080/"
        },
        "id": "xR7VRirHe8Qj",
        "outputId": "fb3d9078-dfc1-4cfb-8c4d-a1dc343db08f"
      },
      "execution_count": 11,
      "outputs": [
        {
          "output_type": "execute_result",
          "data": {
            "text/plain": [
              "['text', 'label']"
            ]
          },
          "metadata": {},
          "execution_count": 11
        }
      ]
    },
    {
      "cell_type": "markdown",
      "source": [
        "This reflects the fact that Datasets is\n",
        "based on Apache Arrow, which defines a typed columnar format that is more memory efficient\n",
        "than native Python. \n",
        "\n",
        "We can see what data types are being used under the hood by accessing the\n",
        "features attribute of a Dataset object:"
      ],
      "metadata": {
        "id": "zOGbQFIrfGyD"
      }
    },
    {
      "cell_type": "code",
      "source": [
        "train_ds.features"
      ],
      "metadata": {
        "colab": {
          "base_uri": "https://localhost:8080/"
        },
        "id": "ZXFN6Y1MfKuf",
        "outputId": "969bfcca-2f7a-4e82-e1d8-08e692d66133"
      },
      "execution_count": 12,
      "outputs": [
        {
          "output_type": "execute_result",
          "data": {
            "text/plain": [
              "{'label': ClassLabel(num_classes=6, names=['sadness', 'joy', 'love', 'anger', 'fear', 'surprise'], names_file=None, id=None),\n",
              " 'text': Value(dtype='string', id=None)}"
            ]
          },
          "metadata": {},
          "execution_count": 12
        }
      ]
    },
    {
      "cell_type": "markdown",
      "source": [
        "We can also access several rows with a slice"
      ],
      "metadata": {
        "id": "3fpWX3D1fayp"
      }
    },
    {
      "cell_type": "code",
      "source": [
        "train_ds[:6]"
      ],
      "metadata": {
        "colab": {
          "base_uri": "https://localhost:8080/"
        },
        "id": "5ji3TnXWfZl3",
        "outputId": "f0fbe3f5-577e-484d-84c8-aef1cee4d2ce"
      },
      "execution_count": 13,
      "outputs": [
        {
          "output_type": "execute_result",
          "data": {
            "text/plain": [
              "{'label': [0, 0, 3, 2, 3, 0],\n",
              " 'text': ['i didnt feel humiliated',\n",
              "  'i can go from feeling so hopeless to so damned hopeful just from being around someone who cares and is awake',\n",
              "  'im grabbing a minute to post i feel greedy wrong',\n",
              "  'i am ever feeling nostalgic about the fireplace i will know that it is still on the property',\n",
              "  'i am feeling grouchy',\n",
              "  'ive been feeling a little burdened lately wasnt sure why that was']}"
            ]
          },
          "metadata": {},
          "execution_count": 13
        }
      ]
    },
    {
      "cell_type": "markdown",
      "source": [
        "or get the full column by name"
      ],
      "metadata": {
        "id": "r7Urq-NifloZ"
      }
    },
    {
      "cell_type": "code",
      "source": [
        "train_ds[\"text\"][:6]"
      ],
      "metadata": {
        "colab": {
          "base_uri": "https://localhost:8080/"
        },
        "id": "47yK6jLAfmN4",
        "outputId": "34d5a154-633a-4e74-e6dc-d033a879cce7"
      },
      "execution_count": 14,
      "outputs": [
        {
          "output_type": "execute_result",
          "data": {
            "text/plain": [
              "['i didnt feel humiliated',\n",
              " 'i can go from feeling so hopeless to so damned hopeful just from being around someone who cares and is awake',\n",
              " 'im grabbing a minute to post i feel greedy wrong',\n",
              " 'i am ever feeling nostalgic about the fireplace i will know that it is still on the property',\n",
              " 'i am feeling grouchy',\n",
              " 'ive been feeling a little burdened lately wasnt sure why that was']"
            ]
          },
          "metadata": {},
          "execution_count": 14
        }
      ]
    },
    {
      "cell_type": "markdown",
      "source": [
        "In each case the resulting data structure depends on the type of query; although this may feel\n",
        "strange at first, it’s part of the secret sauce that makes Datasets so flexible!"
      ],
      "metadata": {
        "id": "pqLCZbrwf3Eb"
      }
    },
    {
      "cell_type": "markdown",
      "source": [
        "###From Datasets to DataFrames"
      ],
      "metadata": {
        "id": "P5m7jqyif3ug"
      }
    },
    {
      "cell_type": "markdown",
      "source": [
        "Although Datasets provides a lot of low-level functionality to slice and dice our data, it is often\n",
        "convenient to convert a Dataset object to a Pandas DataFrame so we can access highlevel\n",
        "APIs for data visualization. \n",
        "\n",
        "To enable the conversion, Datasets provides a\n",
        "`Dataset.set_format` function that allow us to change the output format of the Dataset.\n",
        "\n",
        "This does not change the underlying data format which is Apache Arrow and you can switch to\n",
        "another format later if needed:"
      ],
      "metadata": {
        "id": "xqyQ0Xhsf6OL"
      }
    },
    {
      "cell_type": "code",
      "source": [
        "emotions.set_format(type=\"pandas\")\n",
        "\n",
        "df = emotions[\"train\"][:]\n",
        "df.head()"
      ],
      "metadata": {
        "colab": {
          "base_uri": "https://localhost:8080/",
          "height": 0
        },
        "id": "aDDPc_8AgTBQ",
        "outputId": "a10a51b1-2532-41f6-957f-58c1d9b16aae"
      },
      "execution_count": 15,
      "outputs": [
        {
          "output_type": "execute_result",
          "data": {
            "text/html": [
              "<div>\n",
              "<style scoped>\n",
              "    .dataframe tbody tr th:only-of-type {\n",
              "        vertical-align: middle;\n",
              "    }\n",
              "\n",
              "    .dataframe tbody tr th {\n",
              "        vertical-align: top;\n",
              "    }\n",
              "\n",
              "    .dataframe thead th {\n",
              "        text-align: right;\n",
              "    }\n",
              "</style>\n",
              "<table border=\"1\" class=\"dataframe\">\n",
              "  <thead>\n",
              "    <tr style=\"text-align: right;\">\n",
              "      <th></th>\n",
              "      <th>text</th>\n",
              "      <th>label</th>\n",
              "    </tr>\n",
              "  </thead>\n",
              "  <tbody>\n",
              "    <tr>\n",
              "      <th>0</th>\n",
              "      <td>i didnt feel humiliated</td>\n",
              "      <td>0</td>\n",
              "    </tr>\n",
              "    <tr>\n",
              "      <th>1</th>\n",
              "      <td>i can go from feeling so hopeless to so damned...</td>\n",
              "      <td>0</td>\n",
              "    </tr>\n",
              "    <tr>\n",
              "      <th>2</th>\n",
              "      <td>im grabbing a minute to post i feel greedy wrong</td>\n",
              "      <td>3</td>\n",
              "    </tr>\n",
              "    <tr>\n",
              "      <th>3</th>\n",
              "      <td>i am ever feeling nostalgic about the fireplac...</td>\n",
              "      <td>2</td>\n",
              "    </tr>\n",
              "    <tr>\n",
              "      <th>4</th>\n",
              "      <td>i am feeling grouchy</td>\n",
              "      <td>3</td>\n",
              "    </tr>\n",
              "  </tbody>\n",
              "</table>\n",
              "</div>"
            ],
            "text/plain": [
              "                                                text  label\n",
              "0                            i didnt feel humiliated      0\n",
              "1  i can go from feeling so hopeless to so damned...      0\n",
              "2   im grabbing a minute to post i feel greedy wrong      3\n",
              "3  i am ever feeling nostalgic about the fireplac...      2\n",
              "4                               i am feeling grouchy      3"
            ]
          },
          "metadata": {},
          "execution_count": 15
        }
      ]
    },
    {
      "cell_type": "markdown",
      "source": [
        "As we can see, the column headers have been preserved and the first few rows match our\n",
        "previous views of the data. \n",
        "\n",
        "However, the labels are represented as integers so let’s use the\n",
        "`ClassLabel.int2str` function to create a new column in our DataFrame with the\n",
        "corresponding label names:"
      ],
      "metadata": {
        "id": "wxNAZtVOhvUa"
      }
    },
    {
      "cell_type": "code",
      "source": [
        "def label_int2str(row, split):\n",
        "  return emotions[split].features[\"label\"].int2str(row)"
      ],
      "metadata": {
        "id": "_UienA5Chx-U"
      },
      "execution_count": 16,
      "outputs": []
    },
    {
      "cell_type": "code",
      "source": [
        "df[\"label_name\"] = df[\"label\"].apply(label_int2str, split=\"train\")\n",
        "df.head()"
      ],
      "metadata": {
        "colab": {
          "base_uri": "https://localhost:8080/",
          "height": 0
        },
        "id": "nQ3XTyNlh_jE",
        "outputId": "30d4183f-e6c4-4fee-f91f-0a061fdadc5b"
      },
      "execution_count": 17,
      "outputs": [
        {
          "output_type": "execute_result",
          "data": {
            "text/html": [
              "<div>\n",
              "<style scoped>\n",
              "    .dataframe tbody tr th:only-of-type {\n",
              "        vertical-align: middle;\n",
              "    }\n",
              "\n",
              "    .dataframe tbody tr th {\n",
              "        vertical-align: top;\n",
              "    }\n",
              "\n",
              "    .dataframe thead th {\n",
              "        text-align: right;\n",
              "    }\n",
              "</style>\n",
              "<table border=\"1\" class=\"dataframe\">\n",
              "  <thead>\n",
              "    <tr style=\"text-align: right;\">\n",
              "      <th></th>\n",
              "      <th>text</th>\n",
              "      <th>label</th>\n",
              "      <th>label_name</th>\n",
              "    </tr>\n",
              "  </thead>\n",
              "  <tbody>\n",
              "    <tr>\n",
              "      <th>0</th>\n",
              "      <td>i didnt feel humiliated</td>\n",
              "      <td>0</td>\n",
              "      <td>sadness</td>\n",
              "    </tr>\n",
              "    <tr>\n",
              "      <th>1</th>\n",
              "      <td>i can go from feeling so hopeless to so damned...</td>\n",
              "      <td>0</td>\n",
              "      <td>sadness</td>\n",
              "    </tr>\n",
              "    <tr>\n",
              "      <th>2</th>\n",
              "      <td>im grabbing a minute to post i feel greedy wrong</td>\n",
              "      <td>3</td>\n",
              "      <td>anger</td>\n",
              "    </tr>\n",
              "    <tr>\n",
              "      <th>3</th>\n",
              "      <td>i am ever feeling nostalgic about the fireplac...</td>\n",
              "      <td>2</td>\n",
              "      <td>love</td>\n",
              "    </tr>\n",
              "    <tr>\n",
              "      <th>4</th>\n",
              "      <td>i am feeling grouchy</td>\n",
              "      <td>3</td>\n",
              "      <td>anger</td>\n",
              "    </tr>\n",
              "  </tbody>\n",
              "</table>\n",
              "</div>"
            ],
            "text/plain": [
              "                                                text  label label_name\n",
              "0                            i didnt feel humiliated      0    sadness\n",
              "1  i can go from feeling so hopeless to so damned...      0    sadness\n",
              "2   im grabbing a minute to post i feel greedy wrong      3      anger\n",
              "3  i am ever feeling nostalgic about the fireplac...      2       love\n",
              "4                               i am feeling grouchy      3      anger"
            ]
          },
          "metadata": {},
          "execution_count": 17
        }
      ]
    },
    {
      "cell_type": "markdown",
      "source": [
        "###Look at the Class Distribution"
      ],
      "metadata": {
        "id": "cvyIeZcLkGNW"
      }
    },
    {
      "cell_type": "markdown",
      "source": [
        "Whenever you are working on text classification problems, it is a good idea to examine the\n",
        "distribution of examples among each class. \n",
        "\n",
        "For example, a dataset with a skewed class\n",
        "distribution might require a different treatment in terms of the training loss and evaluation\n",
        "metrics than a balanced one.\n",
        "\n",
        "With Pandas and the visualisation library Matplotlib we can quickly visualize this as follows:"
      ],
      "metadata": {
        "id": "TL6_McSRkG8H"
      }
    },
    {
      "cell_type": "code",
      "source": [
        "df[\"label_name\"].value_counts(ascending=True).plot.barh()\n",
        "plt.title(\"Category Counts\");"
      ],
      "metadata": {
        "colab": {
          "base_uri": "https://localhost:8080/",
          "height": 281
        },
        "id": "NrrK740UkwXQ",
        "outputId": "57ee2d5d-c6a9-4199-94f3-c26785e6461f"
      },
      "execution_count": 18,
      "outputs": [
        {
          "output_type": "display_data",
          "data": {
            "image/png": "[encoded data removed]",
            "text/plain": [
              "<Figure size 432x288 with 1 Axes>"
            ]
          },
          "metadata": {
            "needs_background": "light"
          }
        }
      ]
    },
    {
      "cell_type": "markdown",
      "source": [
        "We can see that the dataset is heavily imbalanced; the joy and sadness classes appear\n",
        "frequently whereas love and sadness are about 5-10 times rarer.\n",
        "\n",
        "There are several ways to\n",
        "deal with imbalanced data such as resampling the minority or majority classes.\n",
        "\n",
        "Alternatively, we can also weight the loss function to account for the underrepresented classes."
      ],
      "metadata": {
        "id": "zrzFOJU1lah_"
      }
    },
    {
      "cell_type": "markdown",
      "source": [
        "###How Long Are Our Tweets?"
      ],
      "metadata": {
        "id": "8XYTrTFoloGX"
      }
    },
    {
      "cell_type": "markdown",
      "source": [
        "Transformer models have a maximum input sequence length that is referred to as the maximum context size. \n",
        "\n",
        "For most applications with BERT, the maximum context size is 512 tokens, where\n",
        "a token is defined by the choice of tokenizer and can be a word, subword, or character. \n",
        "\n",
        "Let’s make a rough estimate of our tweet lengths per emotion by looking at the distribution of words per tweet:"
      ],
      "metadata": {
        "id": "c-ay6PU2lo6K"
      }
    },
    {
      "cell_type": "code",
      "source": [
        "df[\"Words Per Tweet\"] = df[\"text\"].str.split().apply(len)\n",
        "\n",
        "df.boxplot(\"Words Per Tweet\", by=\"label_name\", grid=False, showfliers=False, color=\"red\", )\n",
        "plt.suptitle(\"\")\n",
        "plt.xlabel(\"\");"
      ],
      "metadata": {
        "colab": {
          "base_uri": "https://localhost:8080/",
          "height": 0
        },
        "id": "hCjuEu9Tl_nS",
        "outputId": "2136214a-b42c-4817-bd61-936596b29659"
      },
      "execution_count": 19,
      "outputs": [
        {
          "output_type": "stream",
          "name": "stderr",
          "text": [
            "/usr/local/lib/python3.7/dist-packages/numpy/core/_asarray.py:83: VisibleDeprecationWarning: Creating an ndarray from ragged nested sequences (which is a list-or-tuple of lists-or-tuples-or ndarrays with different lengths or shapes) is deprecated. If you meant to do this, you must specify 'dtype=object' when creating the ndarray\n",
            "  return array(a, dtype, copy=False, order=order)\n"
          ]
        },
        {
          "output_type": "display_data",
          "data": {
            "image/png": "[encoded data removed]",
            "text/plain": [
              "<Figure size 432x288 with 1 Axes>"
            ]
          },
          "metadata": {
            "needs_background": "light"
          }
        }
      ]
    },
    {
      "cell_type": "markdown",
      "source": [
        "From the plot we see that for each emotion, most tweets are around 15 words long and the\n",
        "longest tweets are well below BERT’s maximum context size of 512 tokens. \n",
        "\n",
        "Texts that are\n",
        "longer than a model’s context window need to be truncated, which can lead to a loss in\n",
        "performance if the truncated text contains crucial information. \n",
        "\n",
        "Let’s now figure out how we can\n",
        "convert these raw texts into a format suitable for Transformers!"
      ],
      "metadata": {
        "id": "K7OzrHh-m6_Q"
      }
    },
    {
      "cell_type": "markdown",
      "source": [
        "##Tokenization"
      ],
      "metadata": {
        "id": "AcJYRsUunEVs"
      }
    },
    {
      "cell_type": "markdown",
      "source": [
        "Transformer models like BERT cannot receive raw strings as input; instead they assume the\n",
        "text has been tokenized into numerical vectors. Tokenization is the step of breaking down a\n",
        "string into the atomic units used in the model. \n",
        "\n",
        "There are several tokenization strategies one can\n",
        "adopt and the optimal splitting of words in sub-units is usually learned from the corpus.\n",
        "\n",
        "Before\n",
        "looking at the tokenizer used for BERT, let’s motivate it by looking at two extreme cases:\n",
        "character and word tokenizers."
      ],
      "metadata": {
        "id": "95kJmltPnHwi"
      }
    },
    {
      "cell_type": "markdown",
      "source": [
        "###Character Tokenization"
      ],
      "metadata": {
        "id": "6BbVhz19xukw"
      }
    },
    {
      "cell_type": "markdown",
      "source": [
        "The simplest tokenization scheme is to feed each character individually to the model. \n",
        "\n",
        "In Python, str objects are really arrays under the hood which allows us to quickly implement character-level tokenization with just one line of code:"
      ],
      "metadata": {
        "id": "p0ubSXmKxvWh"
      }
    },
    {
      "cell_type": "code",
      "source": [
        "text = \"Tokenizing text is a core task of NLP.\"\n",
        "tokenized_text = list(text)\n",
        "print(tokenized_text)"
      ],
      "metadata": {
        "id": "zMNBTepTyE2X",
        "outputId": "dc1b2c66-4a2c-405f-96d4-16b27cf72fa4",
        "colab": {
          "base_uri": "https://localhost:8080/"
        }
      },
      "execution_count": 20,
      "outputs": [
        {
          "output_type": "stream",
          "name": "stdout",
          "text": [
            "['T', 'o', 'k', 'e', 'n', 'i', 'z', 'i', 'n', 'g', ' ', 't', 'e', 'x', 't', ' ', 'i', 's', ' ', 'a', ' ', 'c', 'o', 'r', 'e', ' ', 't', 'a', 's', 'k', ' ', 'o', 'f', ' ', 'N', 'L', 'P', '.']\n"
          ]
        }
      ]
    },
    {
      "cell_type": "markdown",
      "source": [
        "This is a good start but we are not yet done because our model expects each character to be\n",
        "converted to an integer, a process called numericalization. \n",
        "\n",
        "One simple way to do this is by\n",
        "encoding each unique token (which are characters in this case) with a unique integer:"
      ],
      "metadata": {
        "id": "E3QhW_TK5sST"
      }
    },
    {
      "cell_type": "code",
      "source": [
        "token2idx = {}\n",
        "for idx, unique_char in enumerate(set(tokenized_text)):\n",
        "  token2idx[unique_char] = idx\n",
        "\n",
        "print(token2idx)"
      ],
      "metadata": {
        "id": "ZBnWs2365xzo",
        "outputId": "f584f613-035d-43c8-c528-a0b2a16c1431",
        "colab": {
          "base_uri": "https://localhost:8080/"
        }
      },
      "execution_count": 21,
      "outputs": [
        {
          "output_type": "stream",
          "name": "stdout",
          "text": [
            "{'g': 0, 'P': 1, ' ': 2, 'i': 3, 'x': 4, 'o': 5, 'a': 6, 'z': 7, 'L': 8, 'r': 9, 'T': 10, 't': 11, 's': 12, 'f': 13, '.': 14, 'n': 15, 'c': 16, 'N': 17, 'e': 18, 'k': 19}\n"
          ]
        }
      ]
    },
    {
      "cell_type": "code",
      "source": [
        "token2idx[\"e\"]"
      ],
      "metadata": {
        "id": "7tZ4JOXB6uVf",
        "outputId": "6e3c1e47-4317-4afe-c20b-b3a43071b63d",
        "colab": {
          "base_uri": "https://localhost:8080/"
        }
      },
      "execution_count": 22,
      "outputs": [
        {
          "output_type": "execute_result",
          "data": {
            "text/plain": [
              "18"
            ]
          },
          "metadata": {},
          "execution_count": 22
        }
      ]
    },
    {
      "cell_type": "code",
      "source": [
        "token2idx[\"c\"]"
      ],
      "metadata": {
        "id": "0KJjBdLR60SX",
        "outputId": "b4566499-a676-4b62-8273-6e324d1f2ca1",
        "colab": {
          "base_uri": "https://localhost:8080/"
        }
      },
      "execution_count": 23,
      "outputs": [
        {
          "output_type": "execute_result",
          "data": {
            "text/plain": [
              "16"
            ]
          },
          "metadata": {},
          "execution_count": 23
        }
      ]
    },
    {
      "cell_type": "markdown",
      "source": [
        "This gives us a mapping from each character in our vocabulary to a unique integer, so we can\n",
        "now use token2idx to transform the tokenized text to a list of integers:"
      ],
      "metadata": {
        "id": "Tt92jUYE6XHd"
      }
    },
    {
      "cell_type": "code",
      "source": [
        "input_ids = [token2idx[token] for token in tokenized_text]\n",
        "print(input_ids)"
      ],
      "metadata": {
        "id": "iggW90zK6YnO",
        "outputId": "460553d7-a290-436a-dc4e-07bf41dbf721",
        "colab": {
          "base_uri": "https://localhost:8080/"
        }
      },
      "execution_count": 24,
      "outputs": [
        {
          "output_type": "stream",
          "name": "stdout",
          "text": [
            "[10, 5, 19, 18, 15, 3, 7, 3, 15, 0, 2, 11, 18, 4, 11, 2, 3, 12, 2, 6, 2, 16, 5, 9, 18, 2, 11, 6, 12, 19, 2, 5, 13, 2, 17, 8, 1, 14]\n"
          ]
        }
      ]
    },
    {
      "cell_type": "markdown",
      "source": [
        "We are almost done! Each token has been mapped to a unique, numerical identifier, hence the name `input_ids`.\n",
        "\n",
        "The last step is to convert `input_ids` into a 2d tensor of one-hot vectors\n",
        "which are better suited for neural networks than the categorical representation of `input_ids`.\n",
        "\n",
        "The reason for this is that the elements of `input_ids` create an ordinal scale, so adding or subtracting two IDs is a meaningless operation since the result in a new ID that represents another random token.\n",
        "\n",
        "On the other hand, the result of the adding two one-hot encodings can be\n",
        "easily interpreted: the two entries that are “hot” indicate that the corresponding two tokens cooccur.\n",
        "Each one-hot vector will have a length the size of the vocabulary and a “1” entry at the\n",
        "position of each ID, with zeros everywhere else.\n",
        "\n",
        "We can do this directly in PyTorch by converting `input_ids` to a `torch.Tensor`:"
      ],
      "metadata": {
        "id": "NxkX3miV7cLu"
      }
    },
    {
      "cell_type": "code",
      "source": [
        "input_ids = torch.tensor(input_ids)\n",
        "\n",
        "one_hot_encodings = torch.nn.functional.one_hot(input_ids)\n",
        "one_hot_encodings.shape"
      ],
      "metadata": {
        "id": "c0bB4Ea78afY",
        "outputId": "6c907d2e-76c8-4073-f883-c355a19de6a2",
        "colab": {
          "base_uri": "https://localhost:8080/"
        }
      },
      "execution_count": 25,
      "outputs": [
        {
          "output_type": "execute_result",
          "data": {
            "text/plain": [
              "torch.Size([38, 20])"
            ]
          },
          "metadata": {},
          "execution_count": 25
        }
      ]
    },
    {
      "cell_type": "markdown",
      "source": [
        "For each of the 38 input tokens we now have a one-hot vector of dimension 20 since our vocabularly consists of 20 unique characters.\n",
        "\n",
        "By examining the first vector, we can verify that a\n",
        "1 appears in the location indicated by `input_ids[0]`:"
      ],
      "metadata": {
        "id": "7Fnqc0Kc9Pay"
      }
    },
    {
      "cell_type": "code",
      "source": [
        "print(f\"Token: {tokenized_text[0]}\")\n",
        "print(f\"Tensor index: {input_ids[0]}\")\n",
        "print(f\"One-hot vector: {one_hot_encodings[0]}\")"
      ],
      "metadata": {
        "id": "o0dQyrkB9TdW",
        "outputId": "34a66b3f-c1b2-4498-e705-2d799943be2a",
        "colab": {
          "base_uri": "https://localhost:8080/"
        }
      },
      "execution_count": 26,
      "outputs": [
        {
          "output_type": "stream",
          "name": "stdout",
          "text": [
            "Token: T\n",
            "Tensor index: 10\n",
            "One-hot vector: tensor([0, 0, 0, 0, 0, 0, 0, 0, 0, 0, 1, 0, 0, 0, 0, 0, 0, 0, 0, 0])\n"
          ]
        }
      ]
    },
    {
      "cell_type": "code",
      "source": [
        "print(f\"Token: {tokenized_text[3]}\")\n",
        "print(f\"Tensor index: {input_ids[3]}\")\n",
        "print(f\"One-hot vector: {one_hot_encodings[3]}\")"
      ],
      "metadata": {
        "id": "wAwQ9t4f9w4v",
        "outputId": "e256dd29-0875-4056-a8dd-dec154191da1",
        "colab": {
          "base_uri": "https://localhost:8080/"
        }
      },
      "execution_count": 27,
      "outputs": [
        {
          "output_type": "stream",
          "name": "stdout",
          "text": [
            "Token: e\n",
            "Tensor index: 18\n",
            "One-hot vector: tensor([0, 0, 0, 0, 0, 0, 0, 0, 0, 0, 0, 0, 0, 0, 0, 0, 0, 0, 1, 0])\n"
          ]
        }
      ]
    },
    {
      "cell_type": "markdown",
      "source": [
        "From our simple example, we can see that character-level tokenization ignores any structure in the texts such as words and treats them just as streams of characters. Although this helps deal with misspellings and rare words, the main drawback is that linguistic structures such as words\n",
        "need to be learned, and that process requires significant compute and memory.\n",
        "\n",
        "For this reason, character tokenization is rarely used in practice. Instead, some structure of the text such as\n",
        "words is preserved during the tokenization step."
      ],
      "metadata": {
        "id": "pSUMdeBO_AOY"
      }
    },
    {
      "cell_type": "markdown",
      "source": [
        "###Word Tokenization"
      ],
      "metadata": {
        "id": "vwTX9OJk_MIf"
      }
    },
    {
      "cell_type": "markdown",
      "source": [
        "Instead of splitting the text into characters, we can split it into words and map each word to an\n",
        "integer. By using words from the outset, the model can skip the step of learning words from\n",
        "characters and thereby eliminate complexity from the training process.\n",
        "\n",
        "One simple class of word tokenizers uses whitespaces to tokenize the text. We can do this by\n",
        "applying Python’s split function directly on the raw text:"
      ],
      "metadata": {
        "id": "lRmigE9s_S7h"
      }
    },
    {
      "cell_type": "code",
      "source": [
        "tokenized_text = text.split()\n",
        "print(tokenized_text)"
      ],
      "metadata": {
        "id": "XxSp1zecOKXv",
        "outputId": "eb2b1f58-dd92-47fa-ee56-ab6473935fcf",
        "colab": {
          "base_uri": "https://localhost:8080/"
        }
      },
      "execution_count": 28,
      "outputs": [
        {
          "output_type": "stream",
          "name": "stdout",
          "text": [
            "['Tokenizing', 'text', 'is', 'a', 'core', 'task', 'of', 'NLP.']\n"
          ]
        }
      ]
    },
    {
      "cell_type": "markdown",
      "source": [
        "However, we can already see one potential problem with this\n",
        "tokenization scheme; punctuation is not accounted for, so NLP. is treated as a single token.\n",
        "Given that words can include declinations, conjugations, or misspellings, the size of the\n",
        "vocabulary can easily grow into the millions!\n",
        "\n",
        "Words that are not part of the vocabulary are classified as “unknown” and\n",
        "mapped to a shared UNK token. This means that we lose some potentially important information\n",
        "in the process of word tokenization since the model has no information about which words\n",
        "were associated with the UNK tokens.\n",
        "\n",
        "Wouldn’t it be nice if there was a compromise between character and word tokenization that\n",
        "preserves all input information and some of the input structure?"
      ],
      "metadata": {
        "id": "6r2xX0zrOrZ3"
      }
    },
    {
      "cell_type": "markdown",
      "source": [
        "###Subword Tokenization"
      ],
      "metadata": {
        "id": "U4O6LxG5PZ4e"
      }
    },
    {
      "cell_type": "markdown",
      "source": [
        "The idea behind subword tokenization is to take the best of both worlds from character and\n",
        "word tokenization. On one hand, we want to use characters since they allow the model to deal\n",
        "with rare character combinations and misspellings. On the other hand, we want to keep frequent\n",
        "words and word parts as unique entities.\n",
        "\n",
        "There are several subword tokenization algorithms such as Byte-Pair-Encoding, WordPiece,\n",
        "Unigram, and SentencePiece. Most of them adopt a similar strategy:\n",
        "\n",
        "- Simple tokenization\n",
        "  The text corpus is split into words, usually according to whitespace and punctuation rules.\n",
        "- Counting\n",
        "  - All the words in the corpus are counted and the tally is stored.\n",
        "- Splitting\n",
        "  - The words in the tally are split into subwords. Initially these are characters.\n",
        "- Subword pairs counting\n",
        "  - Using the tally, the subword pairs are counted.\n",
        "-Merging\n",
        "  - Based on a rule, some of the subword pairs are merged in the corpus.\n",
        "- Stopping\n",
        "  - The process is stopped when a predefined vocabulary size is reached.\n",
        "\n",
        "The main distinguishing feature of subword tokenization (as well as word\n",
        "tokenization) is that it is learned from the corpus used for pretraining."
      ],
      "metadata": {
        "id": "r5MbwQnWPcN4"
      }
    },
    {
      "cell_type": "markdown",
      "source": [
        "###Using Pretrained Tokenizers"
      ],
      "metadata": {
        "id": "BWYtppgoSRXZ"
      }
    },
    {
      "cell_type": "markdown",
      "source": [
        "We’ve noted that loading the right pretrained tokenizer for a given pretrained model is crucial\n",
        "to getting sensible results. \n",
        "\n",
        "The Transformers library provides a convenient\n",
        "`from_pretrained` function that can be used to load both objects, either from the Hugging Face Model Hub or from a local path.\n",
        "\n",
        "To build our emotion detector we’ll use a BERT variant called DistilBERT, which is a\n",
        "downscaled version of the original BERT model. The main advantage of this model is that it\n",
        "achieves comparable performance to BERT while being significantly smaller and more\n",
        "efficient.\n",
        "\n",
        "Let’s get started by loading the tokenizer for the DistilBERT model."
      ],
      "metadata": {
        "id": "pjS47tMWSTjS"
      }
    },
    {
      "cell_type": "code",
      "source": [
        "model_name = \"distilbert-base-uncased\"\n",
        "tokenizer = AutoTokenizer.from_pretrained(model_name)"
      ],
      "metadata": {
        "id": "u8Wank0tTsM1",
        "outputId": "01e460ed-d824-4d43-a869-28889cc2ac63",
        "colab": {
          "base_uri": "https://localhost:8080/",
          "height": 0,
          "referenced_widgets": [
            "ceec75e14dbc43358e11eef467196a6f",
            "5fd76778806848c9afcff7b5242af2d8",
            "4ccafab11b294e3fbde5c6bcddbc5ae9",
            "c95c9cb81fc04b588610b29af45c63bb",
            "016b828bd3e54d72b0f1a6ddb1976e65",
            "18bd640f649d4e4fa9f9c4b56b4cfa54",
            "f1e64e4402be48ad8aeaff2e6cbdc867",
            "6044b845975947b79d43dcffc20a929c",
            "791cadff89e94b3799453f1081141a1a",
            "6b3f40b56e3c4789a498e535edfcb7c5",
            "a8755edb32cd4db8b5ff98df2fbe4ce1",
            "2ebf344ddf5949789db769dc4fc995a5",
            "079a34253a764718afc97178262ed5ab",
            "46160d4a368a420b87fb834d78aeb0d1",
            "b90013671fcd4270b1fdd0ac783e82a9",
            "726a08d13ef34580bd870378f797df90",
            "6fdad4fc02c845efb3b7598a816c7a6f",
            "cf5da539d2af4d53840ca896b998eccc",
            "0a0b940640df47fea435fd40d73c6013",
            "a9c7cac6b8144d85825d1b222a1ce036",
            "b991e6113f9a40d4894f9c6784d1e79f",
            "a0348aeab9ea4de48a4da78f34900e06",
            "2e8d4f2c66a1447194063f7f90cf306f",
            "9f1708b0a4b340a184c1a67bdf47bcac",
            "e87994fac20a47229bdb5fa6703304fd",
            "6802873f35274a82893df382605bc373",
            "ca8394f9b00b4af79aca6504994956d6",
            "04f0ae086a5d4895a454424ebf6c5629",
            "43881c768c2f47a699c819a913cdd452",
            "8400e97bc88f400d81192921477d2c32",
            "758eb8e38829423281784d2fa7a1d2d4",
            "da0e357be241421e9b15e16f2c8bade9",
            "02a03fcefc1a4f6a90a407c88e380a03",
            "4b8f3a8787cf44fd957273ed613c3273",
            "7907b259463e4ec4922d19c0b6700d91",
            "168d49397a704370a69e7e03edb11ed7",
            "d4f01136efed4c93b6f32e4745d8e3e9",
            "5b376f04e26d4013b156bbd20483d763",
            "5f8b8e6a287e45c2bc5daef5359df8b8",
            "82fd84fc1edb41cb8a981f51745c70fb",
            "9a19a40dfe9646038e74e586bf8e1c8e",
            "d554cb0b22414b1a8713cc01c6546c7b",
            "ce06705a338249069477b59d75df5505",
            "91ddb0432bd44ea49c5152e8ad7d4844"
          ]
        }
      },
      "execution_count": 29,
      "outputs": [
        {
          "output_type": "display_data",
          "data": {
            "application/vnd.jupyter.widget-view+json": {
              "model_id": "ceec75e14dbc43358e11eef467196a6f",
              "version_minor": 0,
              "version_major": 2
            },
            "text/plain": [
              "Downloading:   0%|          | 0.00/28.0 [00:00<?, ?B/s]"
            ]
          },
          "metadata": {}
        },
        {
          "output_type": "display_data",
          "data": {
            "application/vnd.jupyter.widget-view+json": {
              "model_id": "2ebf344ddf5949789db769dc4fc995a5",
              "version_minor": 0,
              "version_major": 2
            },
            "text/plain": [
              "Downloading:   0%|          | 0.00/483 [00:00<?, ?B/s]"
            ]
          },
          "metadata": {}
        },
        {
          "output_type": "display_data",
          "data": {
            "application/vnd.jupyter.widget-view+json": {
              "model_id": "2e8d4f2c66a1447194063f7f90cf306f",
              "version_minor": 0,
              "version_major": 2
            },
            "text/plain": [
              "Downloading:   0%|          | 0.00/226k [00:00<?, ?B/s]"
            ]
          },
          "metadata": {}
        },
        {
          "output_type": "display_data",
          "data": {
            "application/vnd.jupyter.widget-view+json": {
              "model_id": "4b8f3a8787cf44fd957273ed613c3273",
              "version_minor": 0,
              "version_major": 2
            },
            "text/plain": [
              "Downloading:   0%|          | 0.00/455k [00:00<?, ?B/s]"
            ]
          },
          "metadata": {}
        }
      ]
    },
    {
      "cell_type": "markdown",
      "source": [
        "We can examine a few attributes of the tokenizer such as the vocabulary size:"
      ],
      "metadata": {
        "id": "TrCVX20XUG-e"
      }
    },
    {
      "cell_type": "code",
      "source": [
        "tokenizer.vocab_size"
      ],
      "metadata": {
        "id": "oH6fi04CUHa0",
        "outputId": "524d36a8-b1c2-47aa-93db-4c0fd9414986",
        "colab": {
          "base_uri": "https://localhost:8080/"
        }
      },
      "execution_count": 30,
      "outputs": [
        {
          "output_type": "execute_result",
          "data": {
            "text/plain": [
              "30522"
            ]
          },
          "metadata": {},
          "execution_count": 30
        }
      ]
    },
    {
      "cell_type": "markdown",
      "source": [
        "We can also look at the special tokens used by the tokenizer, which differ from model to model.\n",
        "\n",
        "For example, BERT uses the `[MASK]` token for the primary objective of masked language\n",
        "modeling and the `[CLS]` and `[SEP]` tokens for the secondary pretraining objective of\n",
        "predicting if two sentences are consecutive:"
      ],
      "metadata": {
        "id": "pJrNRmAZUdkK"
      }
    },
    {
      "cell_type": "code",
      "source": [
        "tokenizer.special_tokens_map"
      ],
      "metadata": {
        "id": "sO837NxFUkvz",
        "outputId": "e0e41600-08da-4603-abbe-084e6e2b7482",
        "colab": {
          "base_uri": "https://localhost:8080/"
        }
      },
      "execution_count": 31,
      "outputs": [
        {
          "output_type": "execute_result",
          "data": {
            "text/plain": [
              "{'cls_token': '[CLS]',\n",
              " 'mask_token': '[MASK]',\n",
              " 'pad_token': '[PAD]',\n",
              " 'sep_token': '[SEP]',\n",
              " 'unk_token': '[UNK]'}"
            ]
          },
          "metadata": {},
          "execution_count": 31
        }
      ]
    },
    {
      "cell_type": "markdown",
      "source": [
        "Furthermore, the tokenizer stores the information of the corresponding model’s maximum\n",
        "context sizes:"
      ],
      "metadata": {
        "id": "eGt9oLXpUxeT"
      }
    },
    {
      "cell_type": "code",
      "source": [
        "tokenizer.model_max_length"
      ],
      "metadata": {
        "id": "1iFI3vCwUx8o",
        "outputId": "ff3cdca8-b8e1-4dfc-952c-0ac3018c0418",
        "colab": {
          "base_uri": "https://localhost:8080/"
        }
      },
      "execution_count": 32,
      "outputs": [
        {
          "output_type": "execute_result",
          "data": {
            "text/plain": [
              "512"
            ]
          },
          "metadata": {},
          "execution_count": 32
        }
      ]
    },
    {
      "cell_type": "markdown",
      "source": [
        "Lets examine how the encoding and decoding of strings works in practice by first encoding a\n",
        "test string:"
      ],
      "metadata": {
        "id": "rKsTAXGPU6lV"
      }
    },
    {
      "cell_type": "code",
      "source": [
        "encoded_str = tokenizer.encode(\"this is a complicatedtest\")\n",
        "encoded_str"
      ],
      "metadata": {
        "id": "xDlB8n3HU7Bz",
        "outputId": "7dfe8290-7ee0-4ec1-d2f5-d78c7e54a7ba",
        "colab": {
          "base_uri": "https://localhost:8080/"
        }
      },
      "execution_count": 33,
      "outputs": [
        {
          "output_type": "execute_result",
          "data": {
            "text/plain": [
              "[101, 2023, 2003, 1037, 8552, 22199, 102]"
            ]
          },
          "metadata": {},
          "execution_count": 33
        }
      ]
    },
    {
      "cell_type": "markdown",
      "source": [
        "We can see that the 4 input words have been mapped to seven integers. When we feed these\n",
        "values to the model, they are mapped into a one-hot vector in a manner. \n",
        "\n",
        "We can then translate the numerical tokens back using the\n",
        "decoder:"
      ],
      "metadata": {
        "id": "Wy8DKKxyWXZH"
      }
    },
    {
      "cell_type": "code",
      "source": [
        "for token in encoded_str:\n",
        "  print(token, tokenizer.decode([token]))"
      ],
      "metadata": {
        "id": "lR2x6uB5WaeQ",
        "outputId": "46cae46c-c7b4-490f-e546-8415328c4960",
        "colab": {
          "base_uri": "https://localhost:8080/"
        }
      },
      "execution_count": 34,
      "outputs": [
        {
          "output_type": "stream",
          "name": "stdout",
          "text": [
            "101 [CLS]\n",
            "2023 this\n",
            "2003 is\n",
            "1037 a\n",
            "8552 complicated\n",
            "22199 ##test\n",
            "102 [SEP]\n"
          ]
        }
      ]
    },
    {
      "cell_type": "markdown",
      "source": [
        "We can observe two things. First, the `[CLS]` and `[SEP]` tokens have been added\n",
        "automatically to the start and end of the sequence, and second, the long word\n",
        "`complicatedtest` has been split into two tokens. The `##` prefix in `##test` signifies that\n",
        "the preceding string is not a whitespace and that it should be merged with the previous token."
      ],
      "metadata": {
        "id": "pc7PWTt8Wu_F"
      }
    },
    {
      "cell_type": "code",
      "source": [
        "encoded_str = tokenizer.encode(\"this is a complicated test\")\n",
        "encoded_str"
      ],
      "metadata": {
        "id": "gwaSgK8MW0z7",
        "outputId": "3507abce-cef7-4ef3-fb00-3ed7fbf7b061",
        "colab": {
          "base_uri": "https://localhost:8080/"
        }
      },
      "execution_count": 35,
      "outputs": [
        {
          "output_type": "execute_result",
          "data": {
            "text/plain": [
              "[101, 2023, 2003, 1037, 8552, 3231, 102]"
            ]
          },
          "metadata": {},
          "execution_count": 35
        }
      ]
    },
    {
      "cell_type": "code",
      "source": [
        "for token in encoded_str:\n",
        "  print(token, tokenizer.decode([token]))"
      ],
      "metadata": {
        "id": "GP1wBgWfW7pl",
        "outputId": "0b2a2f83-e98e-4c5a-91f8-9f73493c36fb",
        "colab": {
          "base_uri": "https://localhost:8080/"
        }
      },
      "execution_count": 36,
      "outputs": [
        {
          "output_type": "stream",
          "name": "stdout",
          "text": [
            "101 [CLS]\n",
            "2023 this\n",
            "2003 is\n",
            "1037 a\n",
            "8552 complicated\n",
            "3231 test\n",
            "102 [SEP]\n"
          ]
        }
      ]
    },
    {
      "cell_type": "markdown",
      "source": [
        "##Training a Text Classifier"
      ],
      "metadata": {
        "id": "O8-EPEmTXMQ5"
      }
    },
    {
      "cell_type": "markdown",
      "source": [
        "BERT models are pretrained to predict masked words in a sequence\n",
        "of text. However, we can’t use these language models directly for text classification, so instead\n",
        "we need to modify them slightly.\n",
        "\n",
        "<img src='https://github.com/rahiakela/transformers-research-and-practice/blob/main/natural-language-processing-with-transformers/02-text-classification/images/1.png?raw=1' width='800'/>\n",
        "\n",
        "First, the text is tokenized and represented as one-hot vectors whose dimension is the size of\n",
        "the tokenizer vocabulary, usually consisting of 50k-100k unique tokens. \n",
        "\n",
        "Next, these token\n",
        "encodings are embedded in lower dimensions and passed through the encoder block layers to\n",
        "yield a hidden state for each input token. \n",
        "\n",
        "For the pretraining objective of language modeling,\n",
        "each hidden state is connected to a layer that predicts the token for the input token, which is\n",
        "only non-trivial if the input token was masked. \n",
        "\n",
        "For the classification task, we replace the\n",
        "language modeling layer with a classification layer. BERT sequences always start with a\n",
        "classification token `[CLS]`, therefore we use the hidden state for the classification token as\n",
        "input for our classification layer.\n",
        "\n",
        "We have two options to train such a model on our Twitter dataset:\n",
        "- Feature extraction\n",
        "  - We use the hidden states as features and just train a classifier on them.\n",
        "- Fine-tuning\n",
        "  - We train the whole model end-to-end, which also updates the parameters of the pretrained BERT model.\n",
        "\n",
        "In this section we explore both options for DistilBert and examine their trade-offs."
      ],
      "metadata": {
        "id": "zLPTXZ6OXM4r"
      }
    },
    {
      "cell_type": "markdown",
      "source": [
        "###Transformers as Feature Extractors"
      ],
      "metadata": {
        "id": "H3ubA-LmZtoM"
      }
    },
    {
      "cell_type": "markdown",
      "source": [
        "To use a Transformer as a feature extractor is fairly simple;we freeze\n",
        "the body’s weights during training and use the hidden states as features for the classifier. \n",
        "\n",
        "The advantage of this approach is that we can quickly train a small or shallow model. Such a model\n",
        "could be a neural classification layer or a method that does not rely on gradients such a Random Forest. \n",
        "\n",
        "This method is especially convenient if GPUs are unavailable since the hidden\n",
        "states can be computed relatively fast on a CPU.\n",
        "\n",
        "<img src='https://github.com/rahiakela/transformers-research-and-practice/blob/main/natural-language-processing-with-transformers/02-text-classification/images/2.png?raw=1' width='800'/>\n",
        "\n",
        "The feature-based method relies on the assumption that the hidden states capture all the\n",
        "information necessary for the classification task. However, if some information is not required\n",
        "for the pretraining task, it may not be encoded in the hidden state, even if it would be crucial\n",
        "for the classification task. \n",
        "\n",
        "In this case the classification model has to work with suboptimal\n",
        "data, and it is better to use the fine-tuning approach."
      ],
      "metadata": {
        "id": "37VM1KwmZxxE"
      }
    },
    {
      "cell_type": "markdown",
      "source": [
        "###Using Pretrained Models"
      ],
      "metadata": {
        "id": "t-jSca37hvyr"
      }
    },
    {
      "cell_type": "markdown",
      "source": [
        "Since we want to avoid training a model from scratch we will also use the\n",
        "`from_pretrained` function from Transformers to load a pretrained DistilBERT model:"
      ],
      "metadata": {
        "id": "CtbAp2o7hwoI"
      }
    },
    {
      "cell_type": "code",
      "source": [
        "device = torch.device(\"cuda\" if torch.cuda.is_available() else \"cpu\")\n",
        "\n",
        "model = AutoModel.from_pretrained(model_name).to(device)"
      ],
      "metadata": {
        "id": "eTal_KxliCOm"
      },
      "execution_count": null,
      "outputs": []
    },
    {
      "cell_type": "markdown",
      "source": [
        "The `AutoModel` class corresponds to the input encoder that translates the one-hot vectors to\n",
        "embeddings with positional encodings and feeds them through the encoder stack to return the\n",
        "hidden states. \n",
        "\n",
        "The language model head that takes the hidden states and decodes them to the\n",
        "masked token prediction is excluded since it is only needed for pretraining. \n",
        "\n",
        "If you want to use\n",
        "that model head you can load the complete model with `AutoModelForMaskedLM`."
      ],
      "metadata": {
        "id": "XOpGCY3-jLA9"
      }
    },
    {
      "cell_type": "markdown",
      "source": [
        "####Extracting the Last Hidden States"
      ],
      "metadata": {
        "id": "DWdSpDUNjZyu"
      }
    },
    {
      "cell_type": "markdown",
      "source": [
        "To warm up, let’s retrieve the last hidden states for a single string. To do that we first need to\n",
        "tokenize the string."
      ],
      "metadata": {
        "id": "JRmzyYa3japM"
      }
    },
    {
      "cell_type": "code",
      "source": [
        "text = \"this is a test\"\n",
        "text_tensor = tokenizer.encode(text, return_tensors=\"pt\").to(device)"
      ],
      "metadata": {
        "id": "hfZzNpyqjesF"
      },
      "execution_count": 38,
      "outputs": []
    },
    {
      "cell_type": "markdown",
      "source": [
        "The resulting tensor has the shape `[batch_size, n_tokens]`:"
      ],
      "metadata": {
        "id": "9_8YEsxQj3Fi"
      }
    },
    {
      "cell_type": "code",
      "source": [
        "text_tensor.shape"
      ],
      "metadata": {
        "id": "C-_PGg8wj42X",
        "outputId": "aeaa30b7-11d1-4f95-93cc-d04a2ded0a85",
        "colab": {
          "base_uri": "https://localhost:8080/"
        }
      },
      "execution_count": 39,
      "outputs": [
        {
          "output_type": "execute_result",
          "data": {
            "text/plain": [
              "torch.Size([1, 6])"
            ]
          },
          "metadata": {},
          "execution_count": 39
        }
      ]
    },
    {
      "cell_type": "markdown",
      "source": [
        "We can now pass this tensor to the model to extract the hidden states. Depending on the model\n",
        "configuration, the output can contain several objects such as the hidden states, losses, or\n",
        "attentions, that are arranged in a class that is similar to a namedtuple in Python.\n",
        "\n",
        "In our\n",
        "example, the model output is a Python dataclass called BaseModelOutput, and like any\n",
        "class, we can access the attributes by name. Since the current model returns only one entry\n",
        "which is the last hidden state, let’s pass the encoded text and examine the outputs:"
      ],
      "metadata": {
        "id": "UbMLLf6Skjwd"
      }
    },
    {
      "cell_type": "code",
      "source": [
        "output = model(text_tensor)\n",
        "output.last_hidden_state.shape"
      ],
      "metadata": {
        "id": "EmWQ7lJOkw6-",
        "outputId": "ce31a2fd-22a7-4253-e98b-6972f9bb2c47",
        "colab": {
          "base_uri": "https://localhost:8080/"
        }
      },
      "execution_count": 40,
      "outputs": [
        {
          "output_type": "execute_result",
          "data": {
            "text/plain": [
              "torch.Size([1, 6, 768])"
            ]
          },
          "metadata": {},
          "execution_count": 40
        }
      ]
    },
    {
      "cell_type": "markdown",
      "source": [
        "Looking at the hidden state tensor we see that it has the shape `[batch_size, n_tokens, hidden_dim]`. \n",
        "\n",
        "The way BERT works is that a hidden state is returned for each input, and the\n",
        "model uses these hidden states to predict masked tokens in the pretraining task. \n",
        "\n",
        "For\n",
        "classification tasks, it is common practice to use the hidden state associated with the `[CLS]`\n",
        "token as the input feature, which is located at the first position in the second dimension."
      ],
      "metadata": {
        "id": "tXHZsKB_lKEn"
      }
    },
    {
      "cell_type": "markdown",
      "source": [
        "####Tokenizing the Whole Dataset"
      ],
      "metadata": {
        "id": "shtT4Bj4lUB_"
      }
    },
    {
      "cell_type": "markdown",
      "source": [
        "Now that we know how to extract the hidden states for a single string, let’s tokenize the whole\n",
        "dataset! \n",
        "\n",
        "To do this, we can write a simple function that will tokenize our examples"
      ],
      "metadata": {
        "id": "Kdrpk38HlWrw"
      }
    },
    {
      "cell_type": "code",
      "source": [
        "def tokenize(batch):\n",
        "  return tokenizer(batch[\"text\"], padding=True, truncation=True)"
      ],
      "metadata": {
        "id": "GdOcTdJLoIJU"
      },
      "execution_count": 41,
      "outputs": []
    },
    {
      "cell_type": "markdown",
      "source": [
        "where `padding=True` will pad the examples with zeroes to the longest one in a batch, and\n",
        "`truncation=True` will truncate the examples to the model’s maximum context size.\n",
        "\n",
        "Previously, we set the output format of the dataset to \"pandas\" so that the accessed data is\n",
        "returned as a DataFrame. \n",
        "\n",
        "We don’t need this output format anymore so we can now reset it\n",
        "as follows:"
      ],
      "metadata": {
        "id": "ER1JlJCwoaGt"
      }
    },
    {
      "cell_type": "code",
      "source": [
        "emotions.reset_format()"
      ],
      "metadata": {
        "id": "3zWH5GQtol1g"
      },
      "execution_count": 42,
      "outputs": []
    },
    {
      "cell_type": "markdown",
      "source": [
        "By applying the tokenize function on a small set of texts."
      ],
      "metadata": {
        "id": "o4W8yVHeorST"
      }
    },
    {
      "cell_type": "code",
      "source": [
        "tokenize(emotions[\"train\"][:3])"
      ],
      "metadata": {
        "id": "rDx3_qxPor8o",
        "outputId": "15dbc5ac-1bc6-4def-aeac-49b58aa3bfbe",
        "colab": {
          "base_uri": "https://localhost:8080/"
        }
      },
      "execution_count": 43,
      "outputs": [
        {
          "output_type": "execute_result",
          "data": {
            "text/plain": [
              "{'input_ids': [[101, 1045, 2134, 2102, 2514, 26608, 102, 0, 0, 0, 0, 0, 0, 0, 0, 0, 0, 0, 0, 0, 0, 0, 0], [101, 1045, 2064, 2175, 2013, 3110, 2061, 20625, 2000, 2061, 9636, 17772, 2074, 2013, 2108, 2105, 2619, 2040, 14977, 1998, 2003, 8300, 102], [101, 10047, 9775, 1037, 3371, 2000, 2695, 1045, 2514, 20505, 3308, 102, 0, 0, 0, 0, 0, 0, 0, 0, 0, 0, 0]], 'attention_mask': [[1, 1, 1, 1, 1, 1, 1, 0, 0, 0, 0, 0, 0, 0, 0, 0, 0, 0, 0, 0, 0, 0, 0], [1, 1, 1, 1, 1, 1, 1, 1, 1, 1, 1, 1, 1, 1, 1, 1, 1, 1, 1, 1, 1, 1, 1], [1, 1, 1, 1, 1, 1, 1, 1, 1, 1, 1, 1, 0, 0, 0, 0, 0, 0, 0, 0, 0, 0, 0]]}"
            ]
          },
          "metadata": {},
          "execution_count": 43
        }
      ]
    },
    {
      "cell_type": "markdown",
      "source": [
        "we see that the result is a dictionary, where each value is a list of lists generated by the\n",
        "tokenizer. In particular, each sequence in input_ids starts with 101 and ends with 102,\n",
        "followed by zeroes, corresponding to the `[CLS], [SEP]`, and `[PAD]` tokens respectively:\n",
        "\n",
        "<img src='https://github.com/rahiakela/transformers-research-and-practice/blob/main/natural-language-processing-with-transformers/02-text-classification/images/3.png?raw=1' width='800'/>\n",
        "\n",
        "Also note that in addition to returning the encoded tweets as input_ids, the tokenizer also\n",
        "returns list of attention_mask arrays. This is because we do not want the model to get\n",
        "confused by the additional padding tokens, so the attention mask allows the model to ignore the\n",
        "padded parts of the input.\n",
        "\n",
        "<img src='https://github.com/rahiakela/transformers-research-and-practice/blob/main/natural-language-processing-with-transformers/02-text-classification/images/4.png?raw=1' width='800'/>\n",
        "\n",
        ">For each batch, the input sequences are padded to the maximum sequence length in the batch. The attention mask is used in the model to ignore the padded areas of the input tensors.\n",
        "\n",
        "To apply our tokenize function to the whole emotions corpus, we’ll use the\n",
        "DatasetDict.map function. \n",
        "\n",
        "This will apply tokenize across all the splits in the corpus,\n",
        "so our training, validation and test data will be preprocessed in a single line of code:"
      ],
      "metadata": {
        "id": "mEE7AMU1pAbD"
      }
    },
    {
      "cell_type": "code",
      "source": [
        "# batch_size=None applies our tokenize function in one single batch and ensures that the input tensors and attention masks have the same shape globally\n",
        "emotions_encoded = emotions.map(tokenize, batched=True, batch_size=None)"
      ],
      "metadata": {
        "id": "1gcxWkgdrzFs"
      },
      "execution_count": null,
      "outputs": []
    },
    {
      "cell_type": "markdown",
      "source": [
        "By default, `DatasetDict.map` operates individually on every example in the corpus, so setting `batched=True` will encode the tweets in batches, while `batch_size=None` applies our tokenize function in one single batch and ensures that the input tensors and attention masks have the same shape globally. \n",
        "\n",
        "We can see that this operation has added two new features to the dataset: `input_ids` and the `attention mask`."
      ],
      "metadata": {
        "id": "MwdkqczIsU8k"
      }
    },
    {
      "cell_type": "code",
      "source": [
        "emotions_encoded[\"train\"].features"
      ],
      "metadata": {
        "id": "GOobcJtBo_3Z",
        "outputId": "26f2f41a-23e0-47db-f6ce-c377c8d50caf",
        "colab": {
          "base_uri": "https://localhost:8080/"
        }
      },
      "execution_count": 45,
      "outputs": [
        {
          "output_type": "execute_result",
          "data": {
            "text/plain": [
              "{'attention_mask': Sequence(feature=Value(dtype='int8', id=None), length=-1, id=None),\n",
              " 'input_ids': Sequence(feature=Value(dtype='int32', id=None), length=-1, id=None),\n",
              " 'label': ClassLabel(num_classes=6, names=['sadness', 'joy', 'love', 'anger', 'fear', 'surprise'], names_file=None, id=None),\n",
              " 'text': Value(dtype='string', id=None)}"
            ]
          },
          "metadata": {},
          "execution_count": 45
        }
      ]
    },
    {
      "cell_type": "code",
      "source": [
        "emotions_encoded[\"train\"].features[\"attention_mask\"]"
      ],
      "metadata": {
        "id": "DvKyMMTKtFKe",
        "outputId": "74a4de25-6ebd-40d1-aec0-419bc12e70c0",
        "colab": {
          "base_uri": "https://localhost:8080/"
        }
      },
      "execution_count": 46,
      "outputs": [
        {
          "output_type": "execute_result",
          "data": {
            "text/plain": [
              "Sequence(feature=Value(dtype='int8', id=None), length=-1, id=None)"
            ]
          },
          "metadata": {},
          "execution_count": 46
        }
      ]
    },
    {
      "cell_type": "code",
      "source": [
        "emotions_encoded[\"train\"].features[\"input_ids\"]"
      ],
      "metadata": {
        "id": "EF0UsdCatJdW",
        "outputId": "00f890d8-36c5-41ec-9475-61a2284be3cb",
        "colab": {
          "base_uri": "https://localhost:8080/"
        }
      },
      "execution_count": 47,
      "outputs": [
        {
          "output_type": "execute_result",
          "data": {
            "text/plain": [
              "Sequence(feature=Value(dtype='int32', id=None), length=-1, id=None)"
            ]
          },
          "metadata": {},
          "execution_count": 47
        }
      ]
    },
    {
      "cell_type": "code",
      "source": [
        "emotions_encoded[\"train\"].features[\"label\"]"
      ],
      "metadata": {
        "id": "64MG2ANytMPV",
        "outputId": "9089358d-596b-4441-a154-2bc8d0b40f29",
        "colab": {
          "base_uri": "https://localhost:8080/"
        }
      },
      "execution_count": 48,
      "outputs": [
        {
          "output_type": "execute_result",
          "data": {
            "text/plain": [
              "ClassLabel(num_classes=6, names=['sadness', 'joy', 'love', 'anger', 'fear', 'surprise'], names_file=None, id=None)"
            ]
          },
          "metadata": {},
          "execution_count": 48
        }
      ]
    },
    {
      "cell_type": "code",
      "source": [
        "emotions_encoded[\"train\"].features[\"text\"]"
      ],
      "metadata": {
        "id": "cOrJJqjItPYH",
        "outputId": "fcd454df-36cf-4e08-ccea-ab2518d54657",
        "colab": {
          "base_uri": "https://localhost:8080/"
        }
      },
      "execution_count": 49,
      "outputs": [
        {
          "output_type": "execute_result",
          "data": {
            "text/plain": [
              "Value(dtype='string', id=None)"
            ]
          },
          "metadata": {},
          "execution_count": 49
        }
      ]
    },
    {
      "cell_type": "markdown",
      "source": [
        "####From Input IDs to Hidden States"
      ],
      "metadata": {
        "id": "U0CjD5M5tDUR"
      }
    },
    {
      "cell_type": "markdown",
      "source": [
        "Now that we have converted our tweets to numerical inputs, the next step is to extract the last hidden states so that we can feed them to a classifier. \n",
        "\n",
        "If we had a single example we could simply pass the `input_ids` and `attention_mask` to the model as follows:\n",
        "\n",
        "```python\n",
        "hidden_states = model(input_ids, attention_mask)\n",
        "```\n",
        "\n",
        "but what we really want are the hidden states across the whole dataset. For this, we can use the `DatasetDict.map` function again! \n",
        "\n",
        "Let’s define a `forward_pass` function that takes a\n",
        "batch of input IDs and attention masks, feeds them to the model, and adds a new\n",
        "`hidden_state` feature to our batch:"
      ],
      "metadata": {
        "id": "PqTF5IH8tEVh"
      }
    },
    {
      "cell_type": "code",
      "source": [
        "def forward_pass(batch):\n",
        "  input_ids = torch.tensor(batch[\"input_ids\"]).to(device)\n",
        "  attention_mask = torch.tensor(batch[\"attention_mask\"]).to(device)\n",
        "\n",
        "  with torch.no_grad():\n",
        "    last_hidden_state = model(input_ids, attention_mask).last_hidden_state\n",
        "    last_hidden_state = last_hidden_state.cpu().numpy()\n",
        "\n",
        "  # Use average of unmasked hidden states for classification\n",
        "  lhs_shape = last_hidden_state.shape\n",
        "  boolean_mask = ~np.array(batch[\"attention_mask\"]).astype(bool)\n",
        "  boolean_mask = np.repeat(boolean_mask, lhs_shape[-1], axis=-1)\n",
        "  boolean_mask = boolean_mask.reshape(lhs_shape)\n",
        "  masked_mean = np.ma.array(last_hidden_state, mask=boolean_mask).mean(axis=1)\n",
        "  batch[\"hidden_state\"] = masked_mean.data\n",
        "\n",
        "  return batch"
      ],
      "metadata": {
        "id": "G6puqUqfhM-X"
      },
      "execution_count": 50,
      "outputs": []
    },
    {
      "cell_type": "code",
      "source": [
        "emotions_encoded = emotions_encoded.map(forward_pass, batched=True, batch_size=16)"
      ],
      "metadata": {
        "id": "V0KOA1lCioyo"
      },
      "execution_count": null,
      "outputs": []
    },
    {
      "cell_type": "markdown",
      "source": [
        "As before, the application of DatasetDict.map has added a new hidden_state feature to our dataset:"
      ],
      "metadata": {
        "id": "fX-kn4jpi6zv"
      }
    },
    {
      "cell_type": "code",
      "source": [
        "emotions_encoded[\"train\"].features"
      ],
      "metadata": {
        "id": "JDaQAUAXi8NN",
        "outputId": "049facf7-ffa0-47ad-b87b-f59454afc70c",
        "colab": {
          "base_uri": "https://localhost:8080/"
        }
      },
      "execution_count": 52,
      "outputs": [
        {
          "output_type": "execute_result",
          "data": {
            "text/plain": [
              "{'attention_mask': Sequence(feature=Value(dtype='int8', id=None), length=-1, id=None),\n",
              " 'hidden_state': Sequence(feature=Value(dtype='float64', id=None), length=-1, id=None),\n",
              " 'input_ids': Sequence(feature=Value(dtype='int32', id=None), length=-1, id=None),\n",
              " 'label': ClassLabel(num_classes=6, names=['sadness', 'joy', 'love', 'anger', 'fear', 'surprise'], names_file=None, id=None),\n",
              " 'text': Value(dtype='string', id=None)}"
            ]
          },
          "metadata": {},
          "execution_count": 52
        }
      ]
    },
    {
      "cell_type": "code",
      "source": [
        "labels_name= emotions_encoded[\"train\"].features[\"label\"]\n",
        "labels_name.names"
      ],
      "metadata": {
        "id": "H02zSbWtxiI3",
        "outputId": "f3ca53b6-a32e-4f2d-aeee-8596f61b47f1",
        "colab": {
          "base_uri": "https://localhost:8080/"
        }
      },
      "execution_count": 53,
      "outputs": [
        {
          "output_type": "execute_result",
          "data": {
            "text/plain": [
              "['sadness', 'joy', 'love', 'anger', 'fear', 'surprise']"
            ]
          },
          "metadata": {},
          "execution_count": 53
        }
      ]
    },
    {
      "cell_type": "markdown",
      "source": [
        "####Creating a Feature Matrix"
      ],
      "metadata": {
        "id": "HAR99aNWjfb3"
      }
    },
    {
      "cell_type": "markdown",
      "source": [
        "The preprocessed dataset now contains all the information we need to train a clasifier on it. We\n",
        "will use the hidden states as input features and the labels as targets. \n",
        "\n",
        "We can easily create the\n",
        "corresponding arrays in the well known Scikit-Learn format as follows:"
      ],
      "metadata": {
        "id": "_Iieu74UjgMN"
      }
    },
    {
      "cell_type": "code",
      "source": [
        "x_train = np.array(emotions_encoded[\"train\"][\"hidden_state\"])\n",
        "x_valid = np.array(emotions_encoded[\"validation\"][\"hidden_state\"])\n",
        "\n",
        "y_train = np.array(emotions_encoded[\"train\"][\"label\"])\n",
        "y_valid = np.array(emotions_encoded[\"validation\"][\"label\"])\n",
        "\n",
        "x_train.shape, x_valid.shape"
      ],
      "metadata": {
        "id": "n5jXHj2DjuVX",
        "outputId": "38de0b3c-07cb-47a5-8430-3e0c4f241505",
        "colab": {
          "base_uri": "https://localhost:8080/"
        }
      },
      "execution_count": 54,
      "outputs": [
        {
          "output_type": "execute_result",
          "data": {
            "text/plain": [
              "((16000, 768), (2000, 768))"
            ]
          },
          "metadata": {},
          "execution_count": 54
        }
      ]
    },
    {
      "cell_type": "markdown",
      "source": [
        "####Dimensionality Reduction with UMAP"
      ],
      "metadata": {
        "id": "1JcTEZwpkqxG"
      }
    },
    {
      "cell_type": "markdown",
      "source": [
        "Before we train a model on the hidden states, it is good practice to perform a sanity check that\n",
        "they provide a useful representation of the emotions we want to classify. \n",
        "\n",
        "Since visualising the hidden states in 768 dimensions is tricky to say the least, we’ll use the powerful UMAP algorithm to project the vectors down to 2D. \n",
        "\n",
        "Since UMAP works best when the features are scaled to lie in the `[0,1]` interval, we’ll first apply a MinMaxScaler and then use UMAP to\n",
        "reduce the hidden states:"
      ],
      "metadata": {
        "id": "1XFcm7NLkrjm"
      }
    },
    {
      "cell_type": "code",
      "source": [
        "x_scaled = MinMaxScaler().fit_transform(x_train)\n",
        "mapper = umap.UMAP(n_components=2, metric=\"cosine\").fit(x_scaled)\n",
        "df_emb = pd.DataFrame(mapper.embedding_, columns=[\"X\", \"Y\"])\n",
        "df_emb[\"label\"] = y_train\n",
        "\n",
        "df_emb.head()"
      ],
      "metadata": {
        "id": "6_rihDiHoi98",
        "outputId": "8bc434b7-9eb2-4431-95fc-66be852c0267",
        "colab": {
          "base_uri": "https://localhost:8080/",
          "height": 262
        }
      },
      "execution_count": 55,
      "outputs": [
        {
          "output_type": "stream",
          "name": "stderr",
          "text": [
            "/usr/local/lib/python3.7/dist-packages/numba/np/ufunc/parallel.py:363: NumbaWarning: The TBB threading layer requires TBB version 2019.5 or later i.e., TBB_INTERFACE_VERSION >= 11005. Found TBB_INTERFACE_VERSION = 9107. The TBB threading layer is disabled.\n",
            "  warnings.warn(problem)\n"
          ]
        },
        {
          "output_type": "execute_result",
          "data": {
            "text/html": [
              "<div>\n",
              "<style scoped>\n",
              "    .dataframe tbody tr th:only-of-type {\n",
              "        vertical-align: middle;\n",
              "    }\n",
              "\n",
              "    .dataframe tbody tr th {\n",
              "        vertical-align: top;\n",
              "    }\n",
              "\n",
              "    .dataframe thead th {\n",
              "        text-align: right;\n",
              "    }\n",
              "</style>\n",
              "<table border=\"1\" class=\"dataframe\">\n",
              "  <thead>\n",
              "    <tr style=\"text-align: right;\">\n",
              "      <th></th>\n",
              "      <th>X</th>\n",
              "      <th>Y</th>\n",
              "      <th>label</th>\n",
              "    </tr>\n",
              "  </thead>\n",
              "  <tbody>\n",
              "    <tr>\n",
              "      <th>0</th>\n",
              "      <td>6.281972</td>\n",
              "      <td>5.271667</td>\n",
              "      <td>0</td>\n",
              "    </tr>\n",
              "    <tr>\n",
              "      <th>1</th>\n",
              "      <td>1.313910</td>\n",
              "      <td>4.922424</td>\n",
              "      <td>0</td>\n",
              "    </tr>\n",
              "    <tr>\n",
              "      <th>2</th>\n",
              "      <td>5.637813</td>\n",
              "      <td>2.416857</td>\n",
              "      <td>3</td>\n",
              "    </tr>\n",
              "    <tr>\n",
              "      <th>3</th>\n",
              "      <td>2.429520</td>\n",
              "      <td>3.396137</td>\n",
              "      <td>2</td>\n",
              "    </tr>\n",
              "    <tr>\n",
              "      <th>4</th>\n",
              "      <td>0.649340</td>\n",
              "      <td>7.308284</td>\n",
              "      <td>3</td>\n",
              "    </tr>\n",
              "  </tbody>\n",
              "</table>\n",
              "</div>"
            ],
            "text/plain": [
              "          X         Y  label\n",
              "0  6.281972  5.271667      0\n",
              "1  1.313910  4.922424      0\n",
              "2  5.637813  2.416857      3\n",
              "3  2.429520  3.396137      2\n",
              "4  0.649340  7.308284      3"
            ]
          },
          "metadata": {},
          "execution_count": 55
        }
      ]
    },
    {
      "cell_type": "markdown",
      "source": [
        "The result is an array with the same number of training samples, but with only 2 features instead of the 768 we started with! \n",
        "\n",
        "Let us investigate the compressed data a little bit further and\n",
        "plot the density of points for each category separately:"
      ],
      "metadata": {
        "id": "pnj3R2qfsD8C"
      }
    },
    {
      "cell_type": "code",
      "source": [
        "labels= emotions_encoded[\"train\"].features[\"label\"]\n",
        "labels.names"
      ],
      "metadata": {
        "id": "j5mqzxUkyF-g",
        "outputId": "d60c6980-dc71-4613-f7af-fa9d57b32328",
        "colab": {
          "base_uri": "https://localhost:8080/"
        }
      },
      "execution_count": 56,
      "outputs": [
        {
          "output_type": "execute_result",
          "data": {
            "text/plain": [
              "['sadness', 'joy', 'love', 'anger', 'fear', 'surprise']"
            ]
          },
          "metadata": {},
          "execution_count": 56
        }
      ]
    },
    {
      "cell_type": "code",
      "source": [
        "fig, axes = plt.subplots(2, 3)\n",
        "axes = axes.flatten()\n",
        "cmaps = [\"Greys\", \"Blues\", \"Oranges\", \"Reds\", \"Purples\", \"Greens\"]\n",
        "labels= emotions_encoded[\"train\"].features[\"label\"].names\n",
        "\n",
        "for i, (label, cmap) in enumerate(zip(labels, cmaps)):\n",
        "  df_emb_sub = df_emb.query(f\"label == {i}\")\n",
        "  axes[i].hexbin(df_emb_sub[\"X\"], df_emb_sub[\"Y\"], cmap=cmap, gridsize=20, linewidths=(0,))\n",
        "  axes[i].set_title(label)\n",
        "  axes[i].set_xticks([]), axes[i].set_yticks([])"
      ],
      "metadata": {
        "id": "-6g6h59psGS8",
        "outputId": "a378366f-983e-4352-df2c-68ab158991fd",
        "colab": {
          "base_uri": "https://localhost:8080/",
          "height": 268
        }
      },
      "execution_count": 57,
      "outputs": [
        {
          "output_type": "display_data",
          "data": {
            "image/png": "[encoded data removed]",
            "text/plain": [
              "<Figure size 432x288 with 6 Axes>"
            ]
          },
          "metadata": {}
        }
      ]
    },
    {
      "cell_type": "markdown",
      "source": [
        ">These are only projections onto a lower dimensional space. Just because some categories overlap does not mean\n",
        "that they are not separable in the original space. Conversely, if they are separable in the projected space they will\n",
        "be separable in the original space.\n",
        "\n",
        "Now there seem to be clearer patterns; the negative feelings such as sadness, anger and\n",
        "fear all occupy a similar regions with slightly varying distributions. \n",
        "\n",
        "On the other hand, joy\n",
        "and love are well separated from the negative emotions and also share a similar space.\n",
        "\n",
        "Finally, surprise is scattered all over the place. We hoped for some separation but this in no\n",
        "way guaranteed since the model was not trained to know the difference between this emotions\n",
        "but learned them implicitly by predicting missing words."
      ],
      "metadata": {
        "id": "lrB5e0WayfuO"
      }
    },
    {
      "cell_type": "markdown",
      "source": [
        "###Training a Simple Classifier"
      ],
      "metadata": {
        "id": "mPmTzNQ_y2bu"
      }
    },
    {
      "cell_type": "markdown",
      "source": [
        "We have seen that the hidden states are somewhat different between the emotions, although for\n",
        "several of them there is not an obvious boundary. \n",
        "\n",
        "Let’s use these hidden states to train a simple\n",
        "logistic regressor with Scikit-Learn! Training such a simple model is fast and does not require a GPU:"
      ],
      "metadata": {
        "id": "71DzidTcy5cp"
      }
    },
    {
      "cell_type": "code",
      "source": [
        "lr_clf = LogisticRegression(n_jobs=-1, penalty=\"none\")\n",
        "lr_clf.fit(x_train, y_train)\n",
        "lr_clf.score(x_valid, y_valid)"
      ],
      "metadata": {
        "id": "H9yWM5A5nsrl",
        "outputId": "f2b4c8b6-76a5-4d11-ff3b-943f717873d7",
        "colab": {
          "base_uri": "https://localhost:8080/"
        }
      },
      "execution_count": 59,
      "outputs": [
        {
          "output_type": "execute_result",
          "data": {
            "text/plain": [
              "0.6495"
            ]
          },
          "metadata": {},
          "execution_count": 59
        }
      ]
    },
    {
      "cell_type": "markdown",
      "source": [
        "By looking at the accuracy it might appear that our model is just a bit better than random, but\n",
        "since we are dealing with an unbalanced multiclass dataset this is significantly better than\n",
        "random. We can get a better feeling for whether our model is any good by comparing against a\n",
        "simple baseline.\n",
        "\n",
        "In Scikit-Learn there is a `DummyClassifier` that can be used to build a\n",
        "classifier with simple heuristics such as always choose the majority class or always draw a random class. In this case the best performing heuristic is to always choose the most frequent class:"
      ],
      "metadata": {
        "id": "41d7osNdqfcw"
      }
    },
    {
      "cell_type": "code",
      "source": [
        "dummy_clf = DummyClassifier(strategy=\"most_frequent\")\n",
        "dummy_clf.fit(x_train, y_train)\n",
        "dummy_clf.score(x_valid, y_valid)"
      ],
      "metadata": {
        "id": "VcmibFTOqoMX",
        "outputId": "3b26e82e-d0c8-4c42-9d4c-45c0f3312ef8",
        "colab": {
          "base_uri": "https://localhost:8080/"
        }
      },
      "execution_count": 60,
      "outputs": [
        {
          "output_type": "execute_result",
          "data": {
            "text/plain": [
              "0.352"
            ]
          },
          "metadata": {},
          "execution_count": 60
        }
      ]
    },
    {
      "cell_type": "markdown",
      "source": [
        "which yields an accuracy of about 35%. So our simple classifier with BERT embeddings is\n",
        "significantly better than our baseline.\n",
        "\n",
        "We can further investigate the performance of the model\n",
        "by looking at the confusion matrix of the classifier, which tells us the relationship between the\n",
        "true and predicted labels:"
      ],
      "metadata": {
        "id": "C2yAg3vVrEw4"
      }
    },
    {
      "cell_type": "code",
      "source": [
        "y_preds.shape"
      ],
      "metadata": {
        "id": "B-zeHKSKtiDk",
        "outputId": "cbe055b7-fbdc-40bf-dba1-4dd4ca19253f",
        "colab": {
          "base_uri": "https://localhost:8080/"
        }
      },
      "execution_count": 77,
      "outputs": [
        {
          "output_type": "execute_result",
          "data": {
            "text/plain": [
              "(2000,)"
            ]
          },
          "metadata": {},
          "execution_count": 77
        }
      ]
    },
    {
      "cell_type": "code",
      "source": [
        "y_valid.shape"
      ],
      "metadata": {
        "id": "ibxyz3PEtkzQ",
        "outputId": "0ce5b8d4-6047-4c2f-d1f8-fdbfb970cc11",
        "colab": {
          "base_uri": "https://localhost:8080/"
        }
      },
      "execution_count": 78,
      "outputs": [
        {
          "output_type": "execute_result",
          "data": {
            "text/plain": [
              "(2000,)"
            ]
          },
          "metadata": {},
          "execution_count": 78
        }
      ]
    },
    {
      "cell_type": "code",
      "source": [
        "y_preds = lr_clf.predict(x_valid)\n",
        "# plot_confusion_matrix(lr_clf, y_preds, y_valid, labels=labels);"
      ],
      "metadata": {
        "id": "CJcqOL8yrHRs"
      },
      "execution_count": null,
      "outputs": []
    },
    {
      "cell_type": "markdown",
      "source": [
        "We can see that anger and fear are most often confused with sadness, which agrees with\n",
        "the observation we made when visualizing the embeddings. Also love and surprise are\n",
        "frequently mistaken for joy.\n",
        "\n",
        "To get an even better picture of the classification performance we can print Scikit-Learn’s\n",
        "classification report and look at the precision, recall and F1-score for each class:"
      ],
      "metadata": {
        "id": "3CWERZKUyApb"
      }
    },
    {
      "cell_type": "code",
      "source": [
        "print(classification_report(y_valid, y_preds, target_names=labels))"
      ],
      "metadata": {
        "id": "I6MSc5tTyFKl",
        "outputId": "4b5cac0b-253b-44e0-ef84-4c7bed343519",
        "colab": {
          "base_uri": "https://localhost:8080/"
        }
      },
      "execution_count": 84,
      "outputs": [
        {
          "output_type": "stream",
          "name": "stdout",
          "text": [
            "              precision    recall  f1-score   support\n",
            "\n",
            "     sadness       0.67      0.72      0.70       550\n",
            "         joy       0.72      0.80      0.76       704\n",
            "        love       0.54      0.34      0.41       178\n",
            "       anger       0.57      0.49      0.53       275\n",
            "        fear       0.52      0.55      0.54       212\n",
            "    surprise       0.49      0.32      0.39        81\n",
            "\n",
            "    accuracy                           0.65      2000\n",
            "   macro avg       0.58      0.54      0.55      2000\n",
            "weighted avg       0.64      0.65      0.64      2000\n",
            "\n"
          ]
        }
      ]
    },
    {
      "cell_type": "markdown",
      "source": [
        "Now, we will explore the fine-tuning approach which leads to superior\n",
        "classification performance. It is however important to note, that doing this requires much more\n",
        "computational resources, such as GPUs, that might not be available in your company. \n",
        "\n",
        "In cases\n",
        "like this, a feature-based approach can be a good compromise between doing traditional\n",
        "machine learning and deep learning."
      ],
      "metadata": {
        "id": "wJUmolQ5yjCe"
      }
    },
    {
      "cell_type": "markdown",
      "source": [
        "##Fine-tuning Transformers"
      ],
      "metadata": {
        "id": "GRSoM5_xypAB"
      }
    },
    {
      "cell_type": "markdown",
      "source": [
        ""
      ],
      "metadata": {
        "id": "neMUtYZByrbQ"
      }
    }
  ]
}