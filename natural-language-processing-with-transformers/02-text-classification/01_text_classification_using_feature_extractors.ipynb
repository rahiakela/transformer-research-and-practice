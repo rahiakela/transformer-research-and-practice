{
  "nbformat": 4,
  "nbformat_minor": 0,
  "metadata": {
    "colab": {
      "name": "01-text-classification-using-feature-extractors.ipynb",
      "provenance": [],
      "toc_visible": true,
      "authorship_tag": "ABX9TyMDHHfQu6xo8UIBYHfHK4Xf",
      "include_colab_link": true
    },
    "kernelspec": {
      "name": "python3",
      "display_name": "Python 3"
    },
    "language_info": {
      "name": "python"
    },
    "accelerator": "GPU",
    "widgets": {
      "application/vnd.jupyter.widget-state+json": {
        "fde25f6e68f6433fb4ba56492316d003": {
          "model_module": "@jupyter-widgets/controls",
          "model_name": "HBoxModel",
          "model_module_version": "1.5.0",
          "state": {
            "_view_name": "HBoxView",
            "_dom_classes": [],
            "_model_name": "HBoxModel",
            "_view_module": "@jupyter-widgets/controls",
            "_model_module_version": "1.5.0",
            "_view_count": null,
            "_view_module_version": "1.5.0",
            "box_style": "",
            "layout": "IPY_MODEL_02336c3d4a6d400cbf066ecf5b624d6c",
            "_model_module": "@jupyter-widgets/controls",
            "children": [
              "IPY_MODEL_69a905ad637d4d469c837b2717c3e539",
              "IPY_MODEL_8cb57e2fa02644a8ae59e8b613e9ebcb",
              "IPY_MODEL_e391ebf96adb49ef83cd1481f90037f5"
            ]
          }
        },
        "02336c3d4a6d400cbf066ecf5b624d6c": {
          "model_module": "@jupyter-widgets/base",
          "model_name": "LayoutModel",
          "model_module_version": "1.2.0",
          "state": {
            "_view_name": "LayoutView",
            "grid_template_rows": null,
            "right": null,
            "justify_content": null,
            "_view_module": "@jupyter-widgets/base",
            "overflow": null,
            "_model_module_version": "1.2.0",
            "_view_count": null,
            "flex_flow": null,
            "width": null,
            "min_width": null,
            "border": null,
            "align_items": null,
            "bottom": null,
            "_model_module": "@jupyter-widgets/base",
            "top": null,
            "grid_column": null,
            "overflow_y": null,
            "overflow_x": null,
            "grid_auto_flow": null,
            "grid_area": null,
            "grid_template_columns": null,
            "flex": null,
            "_model_name": "LayoutModel",
            "justify_items": null,
            "grid_row": null,
            "max_height": null,
            "align_content": null,
            "visibility": null,
            "align_self": null,
            "height": null,
            "min_height": null,
            "padding": null,
            "grid_auto_rows": null,
            "grid_gap": null,
            "max_width": null,
            "order": null,
            "_view_module_version": "1.2.0",
            "grid_template_areas": null,
            "object_position": null,
            "object_fit": null,
            "grid_auto_columns": null,
            "margin": null,
            "display": null,
            "left": null
          }
        },
        "69a905ad637d4d469c837b2717c3e539": {
          "model_module": "@jupyter-widgets/controls",
          "model_name": "HTMLModel",
          "model_module_version": "1.5.0",
          "state": {
            "_view_name": "HTMLView",
            "style": "IPY_MODEL_f444df8f62c64933bd902d0182b36588",
            "_dom_classes": [],
            "description": "",
            "_model_name": "HTMLModel",
            "placeholder": "​",
            "_view_module": "@jupyter-widgets/controls",
            "_model_module_version": "1.5.0",
            "value": "100%",
            "_view_count": null,
            "_view_module_version": "1.5.0",
            "description_tooltip": null,
            "_model_module": "@jupyter-widgets/controls",
            "layout": "IPY_MODEL_a04afc3ed9764dc0a14dbf24924c7356"
          }
        },
        "8cb57e2fa02644a8ae59e8b613e9ebcb": {
          "model_module": "@jupyter-widgets/controls",
          "model_name": "FloatProgressModel",
          "model_module_version": "1.5.0",
          "state": {
            "_view_name": "ProgressView",
            "style": "IPY_MODEL_eee34693b3b1491e88387a5fa1aca5c6",
            "_dom_classes": [],
            "description": "",
            "_model_name": "FloatProgressModel",
            "bar_style": "success",
            "max": 125,
            "_view_module": "@jupyter-widgets/controls",
            "_model_module_version": "1.5.0",
            "value": 125,
            "_view_count": null,
            "_view_module_version": "1.5.0",
            "orientation": "horizontal",
            "min": 0,
            "description_tooltip": null,
            "_model_module": "@jupyter-widgets/controls",
            "layout": "IPY_MODEL_6de8225a39d44469b2af98f9c0f44e37"
          }
        },
        "e391ebf96adb49ef83cd1481f90037f5": {
          "model_module": "@jupyter-widgets/controls",
          "model_name": "HTMLModel",
          "model_module_version": "1.5.0",
          "state": {
            "_view_name": "HTMLView",
            "style": "IPY_MODEL_4f0877d7c4bb46d5925daac27907f65f",
            "_dom_classes": [],
            "description": "",
            "_model_name": "HTMLModel",
            "placeholder": "​",
            "_view_module": "@jupyter-widgets/controls",
            "_model_module_version": "1.5.0",
            "value": " 125/125 [00:11&lt;00:00, 11.43ba/s]",
            "_view_count": null,
            "_view_module_version": "1.5.0",
            "description_tooltip": null,
            "_model_module": "@jupyter-widgets/controls",
            "layout": "IPY_MODEL_c1f71eaf2bcc4e19a2cb5aa5db1f51a6"
          }
        },
        "f444df8f62c64933bd902d0182b36588": {
          "model_module": "@jupyter-widgets/controls",
          "model_name": "DescriptionStyleModel",
          "model_module_version": "1.5.0",
          "state": {
            "_view_name": "StyleView",
            "_model_name": "DescriptionStyleModel",
            "description_width": "",
            "_view_module": "@jupyter-widgets/base",
            "_model_module_version": "1.5.0",
            "_view_count": null,
            "_view_module_version": "1.2.0",
            "_model_module": "@jupyter-widgets/controls"
          }
        },
        "a04afc3ed9764dc0a14dbf24924c7356": {
          "model_module": "@jupyter-widgets/base",
          "model_name": "LayoutModel",
          "model_module_version": "1.2.0",
          "state": {
            "_view_name": "LayoutView",
            "grid_template_rows": null,
            "right": null,
            "justify_content": null,
            "_view_module": "@jupyter-widgets/base",
            "overflow": null,
            "_model_module_version": "1.2.0",
            "_view_count": null,
            "flex_flow": null,
            "width": null,
            "min_width": null,
            "border": null,
            "align_items": null,
            "bottom": null,
            "_model_module": "@jupyter-widgets/base",
            "top": null,
            "grid_column": null,
            "overflow_y": null,
            "overflow_x": null,
            "grid_auto_flow": null,
            "grid_area": null,
            "grid_template_columns": null,
            "flex": null,
            "_model_name": "LayoutModel",
            "justify_items": null,
            "grid_row": null,
            "max_height": null,
            "align_content": null,
            "visibility": null,
            "align_self": null,
            "height": null,
            "min_height": null,
            "padding": null,
            "grid_auto_rows": null,
            "grid_gap": null,
            "max_width": null,
            "order": null,
            "_view_module_version": "1.2.0",
            "grid_template_areas": null,
            "object_position": null,
            "object_fit": null,
            "grid_auto_columns": null,
            "margin": null,
            "display": null,
            "left": null
          }
        },
        "eee34693b3b1491e88387a5fa1aca5c6": {
          "model_module": "@jupyter-widgets/controls",
          "model_name": "ProgressStyleModel",
          "model_module_version": "1.5.0",
          "state": {
            "_view_name": "StyleView",
            "_model_name": "ProgressStyleModel",
            "description_width": "",
            "_view_module": "@jupyter-widgets/base",
            "_model_module_version": "1.5.0",
            "_view_count": null,
            "_view_module_version": "1.2.0",
            "bar_color": null,
            "_model_module": "@jupyter-widgets/controls"
          }
        },
        "6de8225a39d44469b2af98f9c0f44e37": {
          "model_module": "@jupyter-widgets/base",
          "model_name": "LayoutModel",
          "model_module_version": "1.2.0",
          "state": {
            "_view_name": "LayoutView",
            "grid_template_rows": null,
            "right": null,
            "justify_content": null,
            "_view_module": "@jupyter-widgets/base",
            "overflow": null,
            "_model_module_version": "1.2.0",
            "_view_count": null,
            "flex_flow": null,
            "width": null,
            "min_width": null,
            "border": null,
            "align_items": null,
            "bottom": null,
            "_model_module": "@jupyter-widgets/base",
            "top": null,
            "grid_column": null,
            "overflow_y": null,
            "overflow_x": null,
            "grid_auto_flow": null,
            "grid_area": null,
            "grid_template_columns": null,
            "flex": null,
            "_model_name": "LayoutModel",
            "justify_items": null,
            "grid_row": null,
            "max_height": null,
            "align_content": null,
            "visibility": null,
            "align_self": null,
            "height": null,
            "min_height": null,
            "padding": null,
            "grid_auto_rows": null,
            "grid_gap": null,
            "max_width": null,
            "order": null,
            "_view_module_version": "1.2.0",
            "grid_template_areas": null,
            "object_position": null,
            "object_fit": null,
            "grid_auto_columns": null,
            "margin": null,
            "display": null,
            "left": null
          }
        },
        "4f0877d7c4bb46d5925daac27907f65f": {
          "model_module": "@jupyter-widgets/controls",
          "model_name": "DescriptionStyleModel",
          "model_module_version": "1.5.0",
          "state": {
            "_view_name": "StyleView",
            "_model_name": "DescriptionStyleModel",
            "description_width": "",
            "_view_module": "@jupyter-widgets/base",
            "_model_module_version": "1.5.0",
            "_view_count": null,
            "_view_module_version": "1.2.0",
            "_model_module": "@jupyter-widgets/controls"
          }
        },
        "c1f71eaf2bcc4e19a2cb5aa5db1f51a6": {
          "model_module": "@jupyter-widgets/base",
          "model_name": "LayoutModel",
          "model_module_version": "1.2.0",
          "state": {
            "_view_name": "LayoutView",
            "grid_template_rows": null,
            "right": null,
            "justify_content": null,
            "_view_module": "@jupyter-widgets/base",
            "overflow": null,
            "_model_module_version": "1.2.0",
            "_view_count": null,
            "flex_flow": null,
            "width": null,
            "min_width": null,
            "border": null,
            "align_items": null,
            "bottom": null,
            "_model_module": "@jupyter-widgets/base",
            "top": null,
            "grid_column": null,
            "overflow_y": null,
            "overflow_x": null,
            "grid_auto_flow": null,
            "grid_area": null,
            "grid_template_columns": null,
            "flex": null,
            "_model_name": "LayoutModel",
            "justify_items": null,
            "grid_row": null,
            "max_height": null,
            "align_content": null,
            "visibility": null,
            "align_self": null,
            "height": null,
            "min_height": null,
            "padding": null,
            "grid_auto_rows": null,
            "grid_gap": null,
            "max_width": null,
            "order": null,
            "_view_module_version": "1.2.0",
            "grid_template_areas": null,
            "object_position": null,
            "object_fit": null,
            "grid_auto_columns": null,
            "margin": null,
            "display": null,
            "left": null
          }
        }
      }
    }
  },
  "cells": [
    {
      "cell_type": "markdown",
      "metadata": {
        "id": "view-in-github",
        "colab_type": "text"
      },
      "source": [
        "<a href=\"https://colab.research.google.com/github/rahiakela/transformers-research-and-practice/blob/main/natural-language-processing-with-transformers/02-text-classification/01_text_classification_using_feature_extractors.ipynb\" target=\"_parent\"><img src=\"https://colab.research.google.com/assets/colab-badge.svg\" alt=\"Open In Colab\"/></a>"
      ]
    },
    {
      "cell_type": "markdown",
      "source": [
        "##Text Classification"
      ],
      "metadata": {
        "id": "PfCJmxSiZ8Bd"
      }
    },
    {
      "cell_type": "markdown",
      "source": [
        "Text classification is one of the most common tasks in NLP and can be used for applications\n",
        "such as tagging customer feedback into categories or routing support tickets according to their\n",
        "language. Chances are that your email’s spam filter is using text classification to protect your\n",
        "inbox from a deluge of unwanted junk!\n",
        "\n",
        "Another common type of text classification is sentiment analysis, which aims to identify the\n",
        "polarity of a given text.\n",
        "\n",
        "Now imagine that you are a data scientist who needs to build a system that can automatically\n",
        "identify emotional states such as “anger” or “joy” that people express towards your company’s\n",
        "product on Twitter. \n",
        "\n",
        "Until 2018, the deep learning approach to this problem typically involved\n",
        "finding a suitable neural architecture for the task and training it from scratch on a dataset of\n",
        "labeled tweets. This approach suffered from three major drawbacks:\n",
        "\n",
        "- You needed a lot of labeled data to train accurate models like recurrent or\n",
        "convolutional neural networks.\n",
        "- Training these models from scratch was time consuming and expensive.\n",
        "- The trained model could not be easily adapted to a new task, e.g. with a different set of labels.\n",
        "\n",
        "Nowadays, these limitations are largely overcome via transfer learning, where typically a\n",
        "Transformer-based architecture is pretrained on a generic task such as language modeling and\n",
        "then reused for a wide variety of downstream tasks."
      ],
      "metadata": {
        "id": "0O5UwNeIZ8op"
      }
    },
    {
      "cell_type": "markdown",
      "source": [
        "##Setup"
      ],
      "metadata": {
        "id": "NmjXzjlJaZVE"
      }
    },
    {
      "cell_type": "code",
      "source": [
        "!pip -q install transformers[sentencepiece]\n",
        "!pip -q install datasets"
      ],
      "metadata": {
        "id": "TbIsiaFwaaky"
      },
      "execution_count": null,
      "outputs": []
    },
    {
      "cell_type": "code",
      "source": [
        "!pip -q install umap-learn"
      ],
      "metadata": {
        "id": "KuO4afypo7-T"
      },
      "execution_count": null,
      "outputs": []
    },
    {
      "cell_type": "code",
      "source": [
        "from transformers import pipeline\n",
        "from transformers import set_seed\n",
        "from transformers import AutoTokenizer\n",
        "from transformers import AutoModel\n",
        "from transformers import AutoModelForSequenceClassification\n",
        "from transformers import Trainer, TrainingArguments\n",
        "\n",
        "from datasets import list_datasets, load_dataset\n",
        "\n",
        "import torch\n",
        "from torch.nn.functional import cross_entropy\n",
        "\n",
        "from sklearn.preprocessing import MinMaxScaler\n",
        "from sklearn.linear_model import LogisticRegression\n",
        "from sklearn.dummy import DummyClassifier\n",
        "from sklearn.metrics import classification_report, accuracy_score, f1_score, plot_confusion_matrix, confusion_matrix, ConfusionMatrixDisplay\n",
        "\n",
        "import pandas as pd\n",
        "import numpy as np\n",
        "import umap.umap_ as umap\n",
        "import matplotlib.pyplot as plt"
      ],
      "metadata": {
        "id": "Kl_TTiiIaeLG"
      },
      "execution_count": 3,
      "outputs": []
    },
    {
      "cell_type": "code",
      "source": [
        "device = torch.device(\"cuda\" if torch.cuda.is_available() else \"cpu\")"
      ],
      "metadata": {
        "id": "3wiDc664MCDa"
      },
      "execution_count": 4,
      "outputs": []
    },
    {
      "cell_type": "markdown",
      "source": [
        "##The Dataset"
      ],
      "metadata": {
        "id": "FE-e_1EIaa1F"
      }
    },
    {
      "cell_type": "markdown",
      "source": [
        "To build our emotion detector we’ll use a great dataset from an article that explored how\n",
        "emotions are represented in English Twitter messages. \n",
        "\n",
        "Unlike most sentiment analysis datasets\n",
        "that involve just “positive” and “negative” polarities, this dataset contains six basic emotions:\n",
        "anger, disgust, fear, joy, sadness, and surprise. \n",
        "\n",
        "\n",
        "Given a tweet, our task will be to train a model\n",
        "that can classify it into one of these emotions!"
      ],
      "metadata": {
        "id": "8-2ciOUGayjC"
      }
    },
    {
      "cell_type": "markdown",
      "source": [
        "###Overview of Datasets"
      ],
      "metadata": {
        "id": "s1hPKMSVhT_J"
      }
    },
    {
      "cell_type": "code",
      "source": [
        "# We can use the list_datasets function to see what datasets are available in the Hub:\n",
        "datasets = list_datasets()\n",
        "\n",
        "print(f\"There are {len(datasets)} datasets currently available on the Hub.\")\n",
        "print(f\"The first 10 are: {datasets[:10]}\")"
      ],
      "metadata": {
        "colab": {
          "base_uri": "https://localhost:8080/"
        },
        "id": "pjvtlOmQbdG0",
        "outputId": "e8560a0a-ecfa-4607-a9ea-7a6a5f5e8b84"
      },
      "execution_count": 5,
      "outputs": [
        {
          "output_type": "stream",
          "name": "stdout",
          "text": [
            "There are 3342 datasets currently available on the Hub.\n",
            "The first 10 are: ['acronym_identification', 'ade_corpus_v2', 'adversarial_qa', 'aeslc', 'afrikaans_ner_corpus', 'ag_news', 'ai2_arc', 'air_dialogue', 'ajgt_twitter_ar', 'allegro_reviews']\n"
          ]
        }
      ]
    },
    {
      "cell_type": "markdown",
      "source": [
        "We see that each dataset is given a name, so let’s inspect the metadata associated with the\n",
        "emotion dataset:"
      ],
      "metadata": {
        "id": "Ns2dh4xdbyIm"
      }
    },
    {
      "cell_type": "code",
      "source": [
        "metadata = list_datasets(with_details=True)[datasets.index(\"emotion\")]\n",
        "\n",
        "# Show dataset description\n",
        "print(\"Description:\", metadata.description, \"\\n\")\n",
        "# Show first 8 lines of the citation string\n",
        "print(\"Citation:\", \"\\n\".join(metadata.citation.split(\"\\n\")[:8]))"
      ],
      "metadata": {
        "colab": {
          "base_uri": "https://localhost:8080/"
        },
        "id": "WE2INspybyz1",
        "outputId": "3318bdd8-cedb-4d91-c74f-b858b0fdbbba"
      },
      "execution_count": 6,
      "outputs": [
        {
          "output_type": "stream",
          "name": "stdout",
          "text": [
            "Description: Emotion is a dataset of English Twitter messages with six basic emotions: anger, fear, joy, love, sadness, and surprise. For more detailed information please refer to the paper. \n",
            "\n",
            "Citation: @inproceedings{saravia-etal-2018-carer,\n",
            "    title = \"{CARER}: Contextualized Affect Representations for Emotion Recognition\",\n",
            "    author = \"Saravia, Elvis  and\n",
            "      Liu, Hsien-Chi Toby  and\n",
            "      Huang, Yen-Hao  and\n",
            "      Wu, Junlin  and\n",
            "      Chen, Yi-Shin\",\n",
            "    booktitle = \"Proceedings of the 2018 Conference on Empirical Methods in Natural Language Processing\",\n"
          ]
        }
      ]
    },
    {
      "cell_type": "markdown",
      "source": [
        "This looks like the dataset we’re after, so next we can load it with the `load_dataset` function from Datasets:"
      ],
      "metadata": {
        "id": "TFwzYC8Zdm-P"
      }
    },
    {
      "cell_type": "code",
      "source": [
        "emotions = load_dataset(\"emotion\")"
      ],
      "metadata": {
        "id": "pPaEqtbZdoj4"
      },
      "execution_count": null,
      "outputs": []
    },
    {
      "cell_type": "code",
      "source": [
        "emotions"
      ],
      "metadata": {
        "colab": {
          "base_uri": "https://localhost:8080/"
        },
        "id": "UZ1KLuRdeQnh",
        "outputId": "427acb5d-2dd2-4e53-9017-48d885397c88"
      },
      "execution_count": null,
      "outputs": [
        {
          "output_type": "execute_result",
          "data": {
            "text/plain": [
              "DatasetDict({\n",
              "    train: Dataset({\n",
              "        features: ['text', 'label'],\n",
              "        num_rows: 16000\n",
              "    })\n",
              "    validation: Dataset({\n",
              "        features: ['text', 'label'],\n",
              "        num_rows: 2000\n",
              "    })\n",
              "    test: Dataset({\n",
              "        features: ['text', 'label'],\n",
              "        num_rows: 2000\n",
              "    })\n",
              "})"
            ]
          },
          "metadata": {},
          "execution_count": 8
        }
      ]
    },
    {
      "cell_type": "markdown",
      "source": [
        "we see it is similar to a Python dictionary, with each key corresponding to a different split. \n",
        "\n",
        "And just like any dictionary, we can access an individual split as usual"
      ],
      "metadata": {
        "id": "SGOtUtiMebHD"
      }
    },
    {
      "cell_type": "code",
      "source": [
        "train_ds = emotions[\"train\"]\n",
        "train_ds"
      ],
      "metadata": {
        "colab": {
          "base_uri": "https://localhost:8080/"
        },
        "id": "iDGm5pQledFm",
        "outputId": "f2baec1a-e7ef-460d-855e-425263fcf6c6"
      },
      "execution_count": 8,
      "outputs": [
        {
          "output_type": "execute_result",
          "data": {
            "text/plain": [
              "Dataset({\n",
              "    features: ['text', 'label'],\n",
              "    num_rows: 16000\n",
              "})"
            ]
          },
          "metadata": {},
          "execution_count": 8
        }
      ]
    },
    {
      "cell_type": "code",
      "source": [
        "len(train_ds)"
      ],
      "metadata": {
        "colab": {
          "base_uri": "https://localhost:8080/"
        },
        "id": "dvDZesbXerQ0",
        "outputId": "b8c28757-7fdf-47da-895d-8f29898eb35a"
      },
      "execution_count": null,
      "outputs": [
        {
          "output_type": "execute_result",
          "data": {
            "text/plain": [
              "16000"
            ]
          },
          "metadata": {},
          "execution_count": 10
        }
      ]
    },
    {
      "cell_type": "markdown",
      "source": [
        "or access a single example by its index"
      ],
      "metadata": {
        "id": "RECvP-DqexU5"
      }
    },
    {
      "cell_type": "code",
      "source": [
        "train_ds[0]"
      ],
      "metadata": {
        "colab": {
          "base_uri": "https://localhost:8080/"
        },
        "id": "ev1O0vYSexxU",
        "outputId": "c90495f2-4f08-483a-9061-3d0819414488"
      },
      "execution_count": null,
      "outputs": [
        {
          "output_type": "execute_result",
          "data": {
            "text/plain": [
              "{'label': 0, 'text': 'i didnt feel humiliated'}"
            ]
          },
          "metadata": {},
          "execution_count": 11
        }
      ]
    },
    {
      "cell_type": "markdown",
      "source": [
        "Here we see that a single row is represented as a\n",
        "dictionary, where the keys correspond to the column names"
      ],
      "metadata": {
        "id": "xfD3nZkbe7n1"
      }
    },
    {
      "cell_type": "code",
      "source": [
        "train_ds.column_names"
      ],
      "metadata": {
        "colab": {
          "base_uri": "https://localhost:8080/"
        },
        "id": "xR7VRirHe8Qj",
        "outputId": "609aa76c-42dc-400c-9c97-a9124069469f"
      },
      "execution_count": null,
      "outputs": [
        {
          "output_type": "execute_result",
          "data": {
            "text/plain": [
              "['text', 'label']"
            ]
          },
          "metadata": {},
          "execution_count": 12
        }
      ]
    },
    {
      "cell_type": "markdown",
      "source": [
        "This reflects the fact that Datasets is\n",
        "based on Apache Arrow, which defines a typed columnar format that is more memory efficient\n",
        "than native Python. \n",
        "\n",
        "We can see what data types are being used under the hood by accessing the\n",
        "features attribute of a Dataset object:"
      ],
      "metadata": {
        "id": "zOGbQFIrfGyD"
      }
    },
    {
      "cell_type": "code",
      "source": [
        "train_ds.features"
      ],
      "metadata": {
        "colab": {
          "base_uri": "https://localhost:8080/"
        },
        "id": "ZXFN6Y1MfKuf",
        "outputId": "718dfe4a-9f8f-4cb3-a5c3-dc81a7e061e2"
      },
      "execution_count": null,
      "outputs": [
        {
          "output_type": "execute_result",
          "data": {
            "text/plain": [
              "{'label': ClassLabel(num_classes=6, names=['sadness', 'joy', 'love', 'anger', 'fear', 'surprise'], names_file=None, id=None),\n",
              " 'text': Value(dtype='string', id=None)}"
            ]
          },
          "metadata": {},
          "execution_count": 13
        }
      ]
    },
    {
      "cell_type": "markdown",
      "source": [
        "We can also access several rows with a slice"
      ],
      "metadata": {
        "id": "3fpWX3D1fayp"
      }
    },
    {
      "cell_type": "code",
      "source": [
        "train_ds[:6]"
      ],
      "metadata": {
        "colab": {
          "base_uri": "https://localhost:8080/"
        },
        "id": "5ji3TnXWfZl3",
        "outputId": "3089fd4c-9c33-4198-bebf-9caec7f6542f"
      },
      "execution_count": null,
      "outputs": [
        {
          "output_type": "execute_result",
          "data": {
            "text/plain": [
              "{'label': [0, 0, 3, 2, 3, 0],\n",
              " 'text': ['i didnt feel humiliated',\n",
              "  'i can go from feeling so hopeless to so damned hopeful just from being around someone who cares and is awake',\n",
              "  'im grabbing a minute to post i feel greedy wrong',\n",
              "  'i am ever feeling nostalgic about the fireplace i will know that it is still on the property',\n",
              "  'i am feeling grouchy',\n",
              "  'ive been feeling a little burdened lately wasnt sure why that was']}"
            ]
          },
          "metadata": {},
          "execution_count": 14
        }
      ]
    },
    {
      "cell_type": "markdown",
      "source": [
        "or get the full column by name"
      ],
      "metadata": {
        "id": "r7Urq-NifloZ"
      }
    },
    {
      "cell_type": "code",
      "source": [
        "train_ds[\"text\"][:6]"
      ],
      "metadata": {
        "colab": {
          "base_uri": "https://localhost:8080/"
        },
        "id": "47yK6jLAfmN4",
        "outputId": "16103e09-73cb-4f70-edb7-d2a29ac82935"
      },
      "execution_count": null,
      "outputs": [
        {
          "output_type": "execute_result",
          "data": {
            "text/plain": [
              "['i didnt feel humiliated',\n",
              " 'i can go from feeling so hopeless to so damned hopeful just from being around someone who cares and is awake',\n",
              " 'im grabbing a minute to post i feel greedy wrong',\n",
              " 'i am ever feeling nostalgic about the fireplace i will know that it is still on the property',\n",
              " 'i am feeling grouchy',\n",
              " 'ive been feeling a little burdened lately wasnt sure why that was']"
            ]
          },
          "metadata": {},
          "execution_count": 15
        }
      ]
    },
    {
      "cell_type": "markdown",
      "source": [
        "In each case the resulting data structure depends on the type of query; although this may feel\n",
        "strange at first, it’s part of the secret sauce that makes Datasets so flexible!"
      ],
      "metadata": {
        "id": "pqLCZbrwf3Eb"
      }
    },
    {
      "cell_type": "markdown",
      "source": [
        "##Tokenization"
      ],
      "metadata": {
        "id": "AcJYRsUunEVs"
      }
    },
    {
      "cell_type": "markdown",
      "source": [
        "Transformer models like BERT cannot receive raw strings as input; instead they assume the\n",
        "text has been tokenized into numerical vectors. Tokenization is the step of breaking down a\n",
        "string into the atomic units used in the model. \n",
        "\n",
        "There are several tokenization strategies one can\n",
        "adopt and the optimal splitting of words in sub-units is usually learned from the corpus.\n",
        "\n",
        "Before\n",
        "looking at the tokenizer used for BERT, let’s motivate it by looking at two extreme cases:\n",
        "character and word tokenizers."
      ],
      "metadata": {
        "id": "95kJmltPnHwi"
      }
    },
    {
      "cell_type": "markdown",
      "source": [
        "###Subword Tokenization"
      ],
      "metadata": {
        "id": "U4O6LxG5PZ4e"
      }
    },
    {
      "cell_type": "markdown",
      "source": [
        "The idea behind subword tokenization is to take the best of both worlds from character and\n",
        "word tokenization. On one hand, we want to use characters since they allow the model to deal\n",
        "with rare character combinations and misspellings. On the other hand, we want to keep frequent\n",
        "words and word parts as unique entities.\n",
        "\n",
        "There are several subword tokenization algorithms such as Byte-Pair-Encoding, WordPiece,\n",
        "Unigram, and SentencePiece.\n",
        "\n",
        "The main distinguishing feature of subword tokenization (as well as word\n",
        "tokenization) is that it is learned from the corpus used for pretraining.\n"
      ],
      "metadata": {
        "id": "r5MbwQnWPcN4"
      }
    },
    {
      "cell_type": "markdown",
      "source": [
        "The Transformers library provides a convenient\n",
        "`from_pretrained` function that can be used to load both objects, either from the Hugging Face Model Hub or from a local path.\n",
        "\n",
        "Let’s get started by loading the tokenizer for the DistilBERT model."
      ],
      "metadata": {
        "id": "pjS47tMWSTjS"
      }
    },
    {
      "cell_type": "code",
      "source": [
        "model_name = \"distilbert-base-uncased\"\n",
        "tokenizer = AutoTokenizer.from_pretrained(model_name)"
      ],
      "metadata": {
        "id": "u8Wank0tTsM1"
      },
      "execution_count": null,
      "outputs": []
    },
    {
      "cell_type": "markdown",
      "source": [
        "We can examine a few attributes of the tokenizer such as the vocabulary size:"
      ],
      "metadata": {
        "id": "TrCVX20XUG-e"
      }
    },
    {
      "cell_type": "code",
      "source": [
        "tokenizer.vocab_size"
      ],
      "metadata": {
        "id": "oH6fi04CUHa0",
        "outputId": "8aeec137-80b1-4a42-b7b6-d58bd55842e6",
        "colab": {
          "base_uri": "https://localhost:8080/"
        }
      },
      "execution_count": 10,
      "outputs": [
        {
          "output_type": "execute_result",
          "data": {
            "text/plain": [
              "30522"
            ]
          },
          "metadata": {},
          "execution_count": 10
        }
      ]
    },
    {
      "cell_type": "markdown",
      "source": [
        "We can also look at the special tokens used by the tokenizer, which differ from model to model.\n",
        "\n",
        "For example, BERT uses the `[MASK]` token for the primary objective of masked language\n",
        "modeling and the `[CLS]` and `[SEP]` tokens for the secondary pretraining objective of\n",
        "predicting if two sentences are consecutive:"
      ],
      "metadata": {
        "id": "pJrNRmAZUdkK"
      }
    },
    {
      "cell_type": "code",
      "source": [
        "tokenizer.special_tokens_map"
      ],
      "metadata": {
        "id": "sO837NxFUkvz",
        "outputId": "b3050ae1-77d1-4e4b-bf22-7de45941ac24",
        "colab": {
          "base_uri": "https://localhost:8080/"
        }
      },
      "execution_count": null,
      "outputs": [
        {
          "output_type": "execute_result",
          "data": {
            "text/plain": [
              "{'cls_token': '[CLS]',\n",
              " 'mask_token': '[MASK]',\n",
              " 'pad_token': '[PAD]',\n",
              " 'sep_token': '[SEP]',\n",
              " 'unk_token': '[UNK]'}"
            ]
          },
          "metadata": {},
          "execution_count": 19
        }
      ]
    },
    {
      "cell_type": "markdown",
      "source": [
        "Furthermore, the tokenizer stores the information of the corresponding model’s maximum\n",
        "context sizes:"
      ],
      "metadata": {
        "id": "eGt9oLXpUxeT"
      }
    },
    {
      "cell_type": "code",
      "source": [
        "tokenizer.model_max_length"
      ],
      "metadata": {
        "id": "1iFI3vCwUx8o",
        "outputId": "e87a01ce-cb64-47d2-e12a-2aaab59a6f4f",
        "colab": {
          "base_uri": "https://localhost:8080/"
        }
      },
      "execution_count": null,
      "outputs": [
        {
          "output_type": "execute_result",
          "data": {
            "text/plain": [
              "512"
            ]
          },
          "metadata": {},
          "execution_count": 20
        }
      ]
    },
    {
      "cell_type": "markdown",
      "source": [
        "Lets examine how the encoding and decoding of strings works in practice by first encoding a\n",
        "test string:"
      ],
      "metadata": {
        "id": "rKsTAXGPU6lV"
      }
    },
    {
      "cell_type": "code",
      "source": [
        "text = \"Tokenizing text is a core task of NLP.\"\n",
        "encoded_text = tokenizer(text)\n",
        "encoded_text"
      ],
      "metadata": {
        "id": "xDlB8n3HU7Bz",
        "outputId": "b949d626-0146-471b-87a8-ea0ee24c3c23",
        "colab": {
          "base_uri": "https://localhost:8080/"
        }
      },
      "execution_count": null,
      "outputs": [
        {
          "output_type": "execute_result",
          "data": {
            "text/plain": [
              "{'input_ids': [101, 19204, 6026, 3793, 2003, 1037, 4563, 4708, 1997, 17953, 2361, 1012, 102], 'attention_mask': [1, 1, 1, 1, 1, 1, 1, 1, 1, 1, 1, 1, 1]}"
            ]
          },
          "metadata": {},
          "execution_count": 21
        }
      ]
    },
    {
      "cell_type": "markdown",
      "source": [
        "Now that we have the\n",
        "`input_ids`, we can convert them back into tokens by using the tokenizer’s\n",
        "`convert_ids_to_tokens()` method:"
      ],
      "metadata": {
        "id": "Wy8DKKxyWXZH"
      }
    },
    {
      "cell_type": "code",
      "source": [
        "tokens = tokenizer.convert_ids_to_tokens(encoded_text.input_ids)\n",
        "print(tokens)"
      ],
      "metadata": {
        "id": "lR2x6uB5WaeQ",
        "outputId": "c87a4fb7-dabb-4f75-bc37-5250775d7182",
        "colab": {
          "base_uri": "https://localhost:8080/"
        }
      },
      "execution_count": null,
      "outputs": [
        {
          "output_type": "stream",
          "name": "stdout",
          "text": [
            "['[CLS]', 'token', '##izing', 'text', 'is', 'a', 'core', 'task', 'of', 'nl', '##p', '.', '[SEP]']\n"
          ]
        }
      ]
    },
    {
      "cell_type": "markdown",
      "source": [
        "The AutoTokenizer class has a `convert_tokens_to_string()` method for\n",
        "remove the prefix etc., so let’s apply it to our tokens:"
      ],
      "metadata": {
        "id": "pc7PWTt8Wu_F"
      }
    },
    {
      "cell_type": "code",
      "source": [
        "print(tokenizer.convert_tokens_to_string(tokens))"
      ],
      "metadata": {
        "id": "gwaSgK8MW0z7",
        "outputId": "915231b1-3b72-4d55-87a4-7ad778b77605",
        "colab": {
          "base_uri": "https://localhost:8080/"
        }
      },
      "execution_count": null,
      "outputs": [
        {
          "output_type": "stream",
          "name": "stdout",
          "text": [
            "[CLS] tokenizing text is a core task of nlp. [SEP]\n"
          ]
        }
      ]
    },
    {
      "cell_type": "markdown",
      "source": [
        "###Tokenizing the Whole Dataset"
      ],
      "metadata": {
        "id": "8sPKGaA3yFdm"
      }
    },
    {
      "cell_type": "markdown",
      "source": [
        "To tokenize the whole corpus, we'll use the `map()` method of our `DatasetDict` object. We'll encounter this method many times throughout this book, as it provides a convenient way to apply a processing function to each element in a dataset. As we'll soon see, the `map()` method can also be used to create new rows and columns.\n",
        "\n",
        "To get started, the first thing we need is a processing function to tokenize our examples with:"
      ],
      "metadata": {
        "id": "ptyo7kkgyIQU"
      }
    },
    {
      "cell_type": "code",
      "source": [
        "def tokenize(batch):\n",
        "  return tokenizer(batch[\"text\"], padding=True, truncation=True)"
      ],
      "metadata": {
        "id": "ygQ5EKEQrsDJ"
      },
      "execution_count": 11,
      "outputs": []
    },
    {
      "cell_type": "markdown",
      "source": [
        "This function applies the tokenizer to a batch of examples; `padding=True` will pad the examples with zeros to the size of the longest one in a batch, and `truncation=True` will truncate the examples to the model's maximum context size. \n",
        "\n",
        "To see `tokenize()` in action, let's pass a batch of two examples from the training set:"
      ],
      "metadata": {
        "id": "UhuJoyTtsASM"
      }
    },
    {
      "cell_type": "code",
      "source": [
        "print(tokenize(emotions[\"train\"][:2]))"
      ],
      "metadata": {
        "id": "YCHqR8RDsB-8",
        "outputId": "6eaa2dd6-f745-4932-ab3c-6ba065fa9fd2",
        "colab": {
          "base_uri": "https://localhost:8080/"
        }
      },
      "execution_count": 12,
      "outputs": [
        {
          "output_type": "stream",
          "name": "stdout",
          "text": [
            "{'input_ids': [[101, 1045, 2134, 2102, 2514, 26608, 102, 0, 0, 0, 0, 0, 0, 0, 0, 0, 0, 0, 0, 0, 0, 0, 0], [101, 1045, 2064, 2175, 2013, 3110, 2061, 20625, 2000, 2061, 9636, 17772, 2074, 2013, 2108, 2105, 2619, 2040, 14977, 1998, 2003, 8300, 102]], 'attention_mask': [[1, 1, 1, 1, 1, 1, 1, 0, 0, 0, 0, 0, 0, 0, 0, 0, 0, 0, 0, 0, 0, 0, 0], [1, 1, 1, 1, 1, 1, 1, 1, 1, 1, 1, 1, 1, 1, 1, 1, 1, 1, 1, 1, 1, 1, 1]]}\n"
          ]
        }
      ]
    },
    {
      "cell_type": "markdown",
      "source": [
        "Here we can see the result of padding: the first element of `input_ids` is shorter than the second, so zeros have been added to that element to make them the same length. \n",
        "\n",
        "These zeros have a corresponding `[PAD]` token in the vocabulary, and the set of special tokens also includes the `[CLS]` and `[SEP]` tokens that we encountered earlier:"
      ],
      "metadata": {
        "id": "PKovGtKAuXLq"
      }
    },
    {
      "cell_type": "code",
      "source": [
        "tokens2ids = list(zip(tokenizer.all_special_tokens, tokenizer.all_special_ids))\n",
        "data = sorted(tokens2ids, key=lambda x: x[-1])\n",
        "df = pd.DataFrame(data, columns=[\"Special Token\", \"Special Token ID\"])\n",
        "df.T"
      ],
      "metadata": {
        "id": "AYvdR1ELuZCL",
        "outputId": "f4cdb6c0-2ff9-4221-8581-c3c0e509a287",
        "colab": {
          "base_uri": "https://localhost:8080/",
          "height": 112
        }
      },
      "execution_count": 13,
      "outputs": [
        {
          "output_type": "execute_result",
          "data": {
            "text/html": [
              "\n",
              "  <div id=\"df-f0d0dc3a-7ae2-45e0-8cb9-ed4764338d6d\">\n",
              "    <div class=\"colab-df-container\">\n",
              "      <div>\n",
              "<style scoped>\n",
              "    .dataframe tbody tr th:only-of-type {\n",
              "        vertical-align: middle;\n",
              "    }\n",
              "\n",
              "    .dataframe tbody tr th {\n",
              "        vertical-align: top;\n",
              "    }\n",
              "\n",
              "    .dataframe thead th {\n",
              "        text-align: right;\n",
              "    }\n",
              "</style>\n",
              "<table border=\"1\" class=\"dataframe\">\n",
              "  <thead>\n",
              "    <tr style=\"text-align: right;\">\n",
              "      <th></th>\n",
              "      <th>0</th>\n",
              "      <th>1</th>\n",
              "      <th>2</th>\n",
              "      <th>3</th>\n",
              "      <th>4</th>\n",
              "    </tr>\n",
              "  </thead>\n",
              "  <tbody>\n",
              "    <tr>\n",
              "      <th>Special Token</th>\n",
              "      <td>[PAD]</td>\n",
              "      <td>[UNK]</td>\n",
              "      <td>[CLS]</td>\n",
              "      <td>[SEP]</td>\n",
              "      <td>[MASK]</td>\n",
              "    </tr>\n",
              "    <tr>\n",
              "      <th>Special Token ID</th>\n",
              "      <td>0</td>\n",
              "      <td>100</td>\n",
              "      <td>101</td>\n",
              "      <td>102</td>\n",
              "      <td>103</td>\n",
              "    </tr>\n",
              "  </tbody>\n",
              "</table>\n",
              "</div>\n",
              "      <button class=\"colab-df-convert\" onclick=\"convertToInteractive('df-f0d0dc3a-7ae2-45e0-8cb9-ed4764338d6d')\"\n",
              "              title=\"Convert this dataframe to an interactive table.\"\n",
              "              style=\"display:none;\">\n",
              "        \n",
              "  <svg xmlns=\"http://www.w3.org/2000/svg\" height=\"24px\"viewBox=\"0 0 24 24\"\n",
              "       width=\"24px\">\n",
              "    <path d=\"M0 0h24v24H0V0z\" fill=\"none\"/>\n",
              "    <path d=\"M18.56 5.44l.94 2.06.94-2.06 2.06-.94-2.06-.94-.94-2.06-.94 2.06-2.06.94zm-11 1L8.5 8.5l.94-2.06 2.06-.94-2.06-.94L8.5 2.5l-.94 2.06-2.06.94zm10 10l.94 2.06.94-2.06 2.06-.94-2.06-.94-.94-2.06-.94 2.06-2.06.94z\"/><path d=\"M17.41 7.96l-1.37-1.37c-.4-.4-.92-.59-1.43-.59-.52 0-1.04.2-1.43.59L10.3 9.45l-7.72 7.72c-.78.78-.78 2.05 0 2.83L4 21.41c.39.39.9.59 1.41.59.51 0 1.02-.2 1.41-.59l7.78-7.78 2.81-2.81c.8-.78.8-2.07 0-2.86zM5.41 20L4 18.59l7.72-7.72 1.47 1.35L5.41 20z\"/>\n",
              "  </svg>\n",
              "      </button>\n",
              "      \n",
              "  <style>\n",
              "    .colab-df-container {\n",
              "      display:flex;\n",
              "      flex-wrap:wrap;\n",
              "      gap: 12px;\n",
              "    }\n",
              "\n",
              "    .colab-df-convert {\n",
              "      background-color: #E8F0FE;\n",
              "      border: none;\n",
              "      border-radius: 50%;\n",
              "      cursor: pointer;\n",
              "      display: none;\n",
              "      fill: #1967D2;\n",
              "      height: 32px;\n",
              "      padding: 0 0 0 0;\n",
              "      width: 32px;\n",
              "    }\n",
              "\n",
              "    .colab-df-convert:hover {\n",
              "      background-color: #E2EBFA;\n",
              "      box-shadow: 0px 1px 2px rgba(60, 64, 67, 0.3), 0px 1px 3px 1px rgba(60, 64, 67, 0.15);\n",
              "      fill: #174EA6;\n",
              "    }\n",
              "\n",
              "    [theme=dark] .colab-df-convert {\n",
              "      background-color: #3B4455;\n",
              "      fill: #D2E3FC;\n",
              "    }\n",
              "\n",
              "    [theme=dark] .colab-df-convert:hover {\n",
              "      background-color: #434B5C;\n",
              "      box-shadow: 0px 1px 3px 1px rgba(0, 0, 0, 0.15);\n",
              "      filter: drop-shadow(0px 1px 2px rgba(0, 0, 0, 0.3));\n",
              "      fill: #FFFFFF;\n",
              "    }\n",
              "  </style>\n",
              "\n",
              "      <script>\n",
              "        const buttonEl =\n",
              "          document.querySelector('#df-f0d0dc3a-7ae2-45e0-8cb9-ed4764338d6d button.colab-df-convert');\n",
              "        buttonEl.style.display =\n",
              "          google.colab.kernel.accessAllowed ? 'block' : 'none';\n",
              "\n",
              "        async function convertToInteractive(key) {\n",
              "          const element = document.querySelector('#df-f0d0dc3a-7ae2-45e0-8cb9-ed4764338d6d');\n",
              "          const dataTable =\n",
              "            await google.colab.kernel.invokeFunction('convertToInteractive',\n",
              "                                                     [key], {});\n",
              "          if (!dataTable) return;\n",
              "\n",
              "          const docLinkHtml = 'Like what you see? Visit the ' +\n",
              "            '<a target=\"_blank\" href=https://colab.research.google.com/notebooks/data_table.ipynb>data table notebook</a>'\n",
              "            + ' to learn more about interactive tables.';\n",
              "          element.innerHTML = '';\n",
              "          dataTable['output_type'] = 'display_data';\n",
              "          await google.colab.output.renderOutput(dataTable, element);\n",
              "          const docLink = document.createElement('div');\n",
              "          docLink.innerHTML = docLinkHtml;\n",
              "          element.appendChild(docLink);\n",
              "        }\n",
              "      </script>\n",
              "    </div>\n",
              "  </div>\n",
              "  "
            ],
            "text/plain": [
              "                      0      1      2      3       4\n",
              "Special Token     [PAD]  [UNK]  [CLS]  [SEP]  [MASK]\n",
              "Special Token ID      0    100    101    102     103"
            ]
          },
          "metadata": {},
          "execution_count": 13
        }
      ]
    },
    {
      "cell_type": "markdown",
      "source": [
        "Also note that in addition to returning the encoded tweets as `input_ids`, the tokenizer returns a list of `attention_mask` arrays. This is because we do not want the model to get confused by the additional padding tokens: the attention mask allows the model to ignore the padded parts of the input. It provides a visual explanation of how the input IDs and attention masks are padded.\n",
        "\n",
        "<img alt=\"attention-mask\" caption=\"For each batch, the input sequences are padded to the maximum sequence length in the batch; the attention mask is used in the model to ignore the padded areas of the input tensors\" src=\"https://github.com/rahiakela/transformers-research-and-practice/blob/main/natural-language-processing-with-transformers/02-text-classification/images/chapter02_attention-mask.png?raw=1\" id=\"attention-mask\"/> \n",
        "\n",
        "Once we've defined a processing function, we can apply it across all the splits in the corpus in a single line of code:"
      ],
      "metadata": {
        "id": "hSttLMuAvEqf"
      }
    },
    {
      "cell_type": "code",
      "source": [
        "emotions_encoded = emotions.map(tokenize, batched=True, batch_size=None)"
      ],
      "metadata": {
        "id": "prEOtcGO3O0-"
      },
      "execution_count": null,
      "outputs": []
    },
    {
      "cell_type": "markdown",
      "source": [
        "By default, the `map()` method operates individually on every example in the corpus, so setting `batched=True` will encode the tweets in batches. Because we've set `batch_size=None`, our `tokenize()` function will be applied on the full dataset as a single batch. \n",
        "\n",
        "This ensures that the input tensors and attention masks have the same shape globally, and we can see that this operation has added new `input_ids` and `attention_mask` columns to the dataset:"
      ],
      "metadata": {
        "id": "rL1pjzl83oKI"
      }
    },
    {
      "cell_type": "code",
      "source": [
        "print(emotions_encoded[\"train\"].column_names)"
      ],
      "metadata": {
        "id": "2hPf5SaI3qI5",
        "outputId": "da2f593e-91bc-4f5e-8d49-2d1dcce6a6e3",
        "colab": {
          "base_uri": "https://localhost:8080/"
        }
      },
      "execution_count": 15,
      "outputs": [
        {
          "output_type": "stream",
          "name": "stdout",
          "text": [
            "['text', 'label', 'input_ids', 'attention_mask']\n"
          ]
        }
      ]
    },
    {
      "cell_type": "markdown",
      "source": [
        "> Note: Later, we'll see how _data collators_ can be used to dynamically pad the tensors in each batch. Padding globally will come in handy in the next section, where we extract a feature matrix from the whole corpus."
      ],
      "metadata": {
        "id": "2pMoYIKA35Ho"
      }
    },
    {
      "cell_type": "markdown",
      "source": [
        "As know, models like DistilBERT are pretrained to predict masked words in a sequence of text. However, we can't use these language models directly for text classification; we need to modify them slightly. To understand what modifications are necessary, let's take a look at the architecture of an encoder-based model like DistilBERT.\n",
        "\n",
        "<img src='https://github.com/rahiakela/transformers-research-and-practice/blob/main/natural-language-processing-with-transformers/02-text-classification/images/chapter02_encoder-classifier.png?raw=1'/>\n",
        "\n",
        "First, the text is tokenized and represented as one-hot vectors whose dimension is the size of\n",
        "the tokenizer vocabulary, usually consisting of 50k-100k unique tokens. \n",
        "\n",
        "Next, these token\n",
        "encodings are embedded in lower dimensions and passed through the encoder block layers to\n",
        "yield a hidden state for each input token. \n",
        "\n",
        "For the pretraining objective of language modeling,\n",
        "each hidden state is connected to a layer that predicts the token for the input token, which is\n",
        "only non-trivial if the input token was masked. \n",
        "\n",
        "For the classification task, we replace the\n",
        "language modeling layer with a classification layer. BERT sequences always start with a\n",
        "classification token `[CLS]`, therefore we use the hidden state for the classification token as\n",
        "input for our classification layer.\n",
        "\n",
        "We have two options to train such a model on our Twitter dataset:\n",
        "- **Feature extraction**\n",
        "  - We use the hidden states as features and just train a classifier on them.\n",
        "- **Fine-tuning**\n",
        "  - We train the whole model end-to-end, which also updates the parameters of the pretrained BERT model.\n",
        "\n",
        "In this section we explore both options for DistilBert and examine their trade-offs."
      ],
      "metadata": {
        "id": "zLPTXZ6OXM4r"
      }
    },
    {
      "cell_type": "markdown",
      "source": [
        "##Transformers as Feature Extractors"
      ],
      "metadata": {
        "id": "H3ubA-LmZtoM"
      }
    },
    {
      "cell_type": "markdown",
      "source": [
        "To use a Transformer as a feature extractor is fairly simple;we freeze\n",
        "the body’s weights during training and use the hidden states as features for the classifier. \n",
        "\n",
        "The advantage of this approach is that we can quickly train a small or shallow model. Such a model\n",
        "could be a neural classification layer or a method that does not rely on gradients such a Random Forest. \n",
        "\n",
        "This method is especially convenient if GPUs are unavailable since the hidden\n",
        "states can be computed relatively fast on a CPU.\n",
        "\n",
        "<img src='https://github.com/rahiakela/transformers-research-and-practice/blob/main/natural-language-processing-with-transformers/02-text-classification/images/2.png?raw=1' width='800'/>\n",
        "\n",
        "The feature-based method relies on the assumption that the hidden states capture all the\n",
        "information necessary for the classification task. However, if some information is not required\n",
        "for the pretraining task, it may not be encoded in the hidden state, even if it would be crucial\n",
        "for the classification task. \n",
        "\n",
        "In this case the classification model has to work with suboptimal\n",
        "data, and it is better to use the fine-tuning approach."
      ],
      "metadata": {
        "id": "37VM1KwmZxxE"
      }
    },
    {
      "cell_type": "markdown",
      "source": [
        "####Using Pretrained Models"
      ],
      "metadata": {
        "id": "t-jSca37hvyr"
      }
    },
    {
      "cell_type": "markdown",
      "source": [
        "We will use another convenient auto class Transformers called `AutoModel`. Similar to the `AutoTokenizer` class, `AutoModel` has a `from_pretrained()` method to load the weights of a pretrained model. \n",
        "\n",
        "Let's use this method to load the DistilBERT checkpoint:"
      ],
      "metadata": {
        "id": "CtbAp2o7hwoI"
      }
    },
    {
      "cell_type": "code",
      "source": [
        "model = AutoModel.from_pretrained(model_name).to(device)"
      ],
      "metadata": {
        "id": "eTal_KxliCOm"
      },
      "execution_count": null,
      "outputs": []
    },
    {
      "cell_type": "markdown",
      "source": [
        "The `AutoModel` class converts the token encodings to embeddings, and then feeds them through the encoder stack to return the hidden states. \n",
        "\n",
        "Let's take a look at how we can extract these states from our corpus."
      ],
      "metadata": {
        "id": "XOpGCY3-jLA9"
      }
    },
    {
      "cell_type": "markdown",
      "source": [
        "####Extracting the Last Hidden States"
      ],
      "metadata": {
        "id": "DWdSpDUNjZyu"
      }
    },
    {
      "cell_type": "markdown",
      "source": [
        "To warm up, let’s retrieve the last hidden states for a single string. The first thing we need to do is encode the string and convert the tokens to PyTorch tensors."
      ],
      "metadata": {
        "id": "JRmzyYa3japM"
      }
    },
    {
      "cell_type": "code",
      "source": [
        "text = \"this is a test\"\n",
        "inputs = tokenizer(text, return_tensors=\"pt\")\n",
        "print(f\"Input tensor shape: {inputs['input_ids'].size()}\")"
      ],
      "metadata": {
        "id": "hfZzNpyqjesF",
        "outputId": "9e245cf8-f9de-4e42-b53e-bfe52a0bd9fc",
        "colab": {
          "base_uri": "https://localhost:8080/"
        }
      },
      "execution_count": 17,
      "outputs": [
        {
          "output_type": "stream",
          "name": "stdout",
          "text": [
            "Input tensor shape: torch.Size([1, 6])\n"
          ]
        }
      ]
    },
    {
      "cell_type": "markdown",
      "source": [
        "Now that we have the encodings as a tensor, the final step is to\n",
        "place them on the same device as the model and pass the inputs as follows:"
      ],
      "metadata": {
        "id": "UbMLLf6Skjwd"
      }
    },
    {
      "cell_type": "code",
      "source": [
        "inputs = {k: v.to(device) for k, v in inputs.items()}\n",
        "\n",
        "with torch.no_grad():\n",
        "  outputs = model(**inputs)\n",
        "print(outputs)"
      ],
      "metadata": {
        "id": "EmWQ7lJOkw6-",
        "outputId": "cfa8a24d-a6d2-4c30-bb3f-eee303709168",
        "colab": {
          "base_uri": "https://localhost:8080/"
        }
      },
      "execution_count": 18,
      "outputs": [
        {
          "output_type": "stream",
          "name": "stdout",
          "text": [
            "BaseModelOutput(last_hidden_state=tensor([[[-0.1565, -0.1862,  0.0528,  ..., -0.1188,  0.0662,  0.5470],\n",
            "         [-0.3575, -0.6484, -0.0618,  ..., -0.3040,  0.3508,  0.5221],\n",
            "         [-0.2772, -0.4459,  0.1818,  ..., -0.0948, -0.0076,  0.9958],\n",
            "         [-0.2841, -0.3917,  0.3753,  ..., -0.2151, -0.1173,  1.0526],\n",
            "         [ 0.2661, -0.5094, -0.3180,  ..., -0.4203,  0.0144, -0.2149],\n",
            "         [ 0.9441,  0.0112, -0.4714,  ...,  0.1439, -0.7288, -0.1619]]],\n",
            "       device='cuda:0'), hidden_states=None, attentions=None)\n"
          ]
        }
      ]
    },
    {
      "cell_type": "markdown",
      "source": [
        "Here we’ve used the torch.no_grad() context manager to disable the\n",
        "automatic calculation of the gradient. This is useful for inference since it\n",
        "reduces the memory footprint of the computations.\n",
        "\n",
        "The current model returns only one attribute, which is the last hidden state, so let’s examine its shape:"
      ],
      "metadata": {
        "id": "tXHZsKB_lKEn"
      }
    },
    {
      "cell_type": "code",
      "source": [
        "outputs.last_hidden_state.size()"
      ],
      "metadata": {
        "id": "bjWOFpqW9bRa",
        "outputId": "2934fb70-bcdd-4bc8-a457-a0d842609995",
        "colab": {
          "base_uri": "https://localhost:8080/"
        }
      },
      "execution_count": 19,
      "outputs": [
        {
          "output_type": "execute_result",
          "data": {
            "text/plain": [
              "torch.Size([1, 6, 768])"
            ]
          },
          "metadata": {},
          "execution_count": 19
        }
      ]
    },
    {
      "cell_type": "markdown",
      "source": [
        "For classification tasks, it is common\n",
        "practice to just use the hidden state associated with the `[CLS]` token as the\n",
        "input feature. \n",
        "\n",
        "Since this token appears at the start of each sequence, we can\n",
        "extract it by simply indexing into `outputs.last_hidden_state` as follows:"
      ],
      "metadata": {
        "id": "CXx9WXW-9s1h"
      }
    },
    {
      "cell_type": "code",
      "source": [
        "outputs.last_hidden_state[:, 0].size()"
      ],
      "metadata": {
        "id": "4xdU6M339wZL",
        "outputId": "14111aef-2fc6-44eb-e89d-db0e353946a6",
        "colab": {
          "base_uri": "https://localhost:8080/"
        }
      },
      "execution_count": 20,
      "outputs": [
        {
          "output_type": "execute_result",
          "data": {
            "text/plain": [
              "torch.Size([1, 768])"
            ]
          },
          "metadata": {},
          "execution_count": 20
        }
      ]
    },
    {
      "cell_type": "markdown",
      "source": [
        "Now we know how to get the last hidden state for a single string; let’s do the\n",
        "same for the whole dataset by creating a new hidden_state column that\n",
        "stores all these vectors."
      ],
      "metadata": {
        "id": "hNsgBfob-Fix"
      }
    },
    {
      "cell_type": "code",
      "source": [
        "def extract_hidden_states(batch):\n",
        "  # Place model inputs on the GPU\n",
        "  inputs = {k: v.to(device) for k, v in batch.items() if k in tokenizer.model_input_names}\n",
        "  # Extract last hidden states\n",
        "  with torch.no_grad():\n",
        "    last_hidden_state = model(**inputs).last_hidden_state\n",
        "  # Return vector for [CLS] token\n",
        "  return {\"hidden_state\": last_hidden_state[:, 0].cpu().numpy()}"
      ],
      "metadata": {
        "id": "YudEGFbq-GyP"
      },
      "execution_count": 21,
      "outputs": []
    },
    {
      "cell_type": "markdown",
      "source": [
        "Since our model expects tensors as inputs, the next thing to do is convert the\n",
        "`input_ids` and `attention_mask` columns to the \"torch\" format, as\n",
        "follows:"
      ],
      "metadata": {
        "id": "4ax8fVhJ_LrW"
      }
    },
    {
      "cell_type": "code",
      "source": [
        "emotions_encoded.set_format(\"torch\", columns=[\"input_ids\", \"attention_mask\", \"label\"])"
      ],
      "metadata": {
        "id": "zRsrhpcf_PPe"
      },
      "execution_count": 22,
      "outputs": []
    },
    {
      "cell_type": "markdown",
      "source": [
        "We can then go ahead and extract the hidden states across all splits in one go:"
      ],
      "metadata": {
        "id": "trLG0PuOAdyT"
      }
    },
    {
      "cell_type": "code",
      "source": [
        "emotions_hidden = emotions_encoded.map(extract_hidden_states, batched=True)"
      ],
      "metadata": {
        "id": "d-eCtvanAecy"
      },
      "execution_count": null,
      "outputs": []
    },
    {
      "cell_type": "markdown",
      "source": [
        "Notice that we did not set `batch_size=None` in this case, which means the\n",
        "default `batch_size=1000` is used instead. \n",
        "\n",
        "As expected, applying the\n",
        "`extract_ hid den_ states()` function has added a new `hidden_state`\n",
        "column to our dataset:"
      ],
      "metadata": {
        "id": "TKBKEozuAt6A"
      }
    },
    {
      "cell_type": "code",
      "source": [
        "emotions_hidden[\"train\"].column_names"
      ],
      "metadata": {
        "id": "t4K5g9f5AzYy",
        "outputId": "b98d0b3a-37f9-4848-c902-797700e41fcd",
        "colab": {
          "base_uri": "https://localhost:8080/"
        }
      },
      "execution_count": 24,
      "outputs": [
        {
          "output_type": "execute_result",
          "data": {
            "text/plain": [
              "['text', 'label', 'input_ids', 'attention_mask', 'hidden_state']"
            ]
          },
          "metadata": {},
          "execution_count": 24
        }
      ]
    },
    {
      "cell_type": "markdown",
      "source": [
        "Now that we have the hidden states associated with each tweet, the next step\n",
        "is to train a classifier on them. \n",
        "\n",
        "To do that, we’ll need a feature matrix—let’s\n",
        "take a look."
      ],
      "metadata": {
        "id": "sZDcB6fWA93V"
      }
    },
    {
      "cell_type": "markdown",
      "source": [
        "####Creating a Feature Matrix"
      ],
      "metadata": {
        "id": "HAR99aNWjfb3"
      }
    },
    {
      "cell_type": "markdown",
      "source": [
        "The preprocessed dataset now contains all the information we need to train a clasifier on it. We\n",
        "will use the hidden states as input features and the labels as targets. \n",
        "\n",
        "We can easily create the\n",
        "corresponding arrays in the well known Scikit-Learn format as follows:"
      ],
      "metadata": {
        "id": "_Iieu74UjgMN"
      }
    },
    {
      "cell_type": "code",
      "source": [
        "x_train = np.array(emotions_hidden[\"train\"][\"hidden_state\"])\n",
        "x_valid = np.array(emotions_hidden[\"validation\"][\"hidden_state\"])\n",
        "\n",
        "y_train = np.array(emotions_hidden[\"train\"][\"label\"])\n",
        "y_valid = np.array(emotions_hidden[\"validation\"][\"label\"])\n",
        "\n",
        "x_train.shape, x_valid.shape"
      ],
      "metadata": {
        "id": "n5jXHj2DjuVX",
        "outputId": "9e7f9694-808e-4fdf-a58a-e76f38eadd4a",
        "colab": {
          "base_uri": "https://localhost:8080/"
        }
      },
      "execution_count": 25,
      "outputs": [
        {
          "output_type": "execute_result",
          "data": {
            "text/plain": [
              "((16000, 768), (2000, 768))"
            ]
          },
          "metadata": {},
          "execution_count": 25
        }
      ]
    },
    {
      "cell_type": "markdown",
      "source": [
        "Before we train a model on the hidden states, it's good practice to perform a sanity check to ensure that they provide a useful representation of the emotions we want to classify. \n",
        "\n",
        "In the next section, we'll see how visualizing the features provides a fast way to achieve this."
      ],
      "metadata": {
        "id": "FN123x8HGIaS"
      }
    },
    {
      "cell_type": "markdown",
      "source": [
        "####Dimensionality Reduction with UMAP"
      ],
      "metadata": {
        "id": "1JcTEZwpkqxG"
      }
    },
    {
      "cell_type": "markdown",
      "source": [
        "Before we train a model on the hidden states, it is good practice to perform a sanity check that\n",
        "they provide a useful representation of the emotions we want to classify. \n",
        "\n",
        "Since visualising the hidden states in 768 dimensions is tricky to say the least, we’ll use the powerful UMAP algorithm to project the vectors down to 2D. \n",
        "\n",
        "Since UMAP works best when the features are scaled to lie in the `[0,1]` interval, we’ll first apply a MinMaxScaler and then use UMAP to\n",
        "reduce the hidden states:"
      ],
      "metadata": {
        "id": "1XFcm7NLkrjm"
      }
    },
    {
      "cell_type": "code",
      "source": [
        "# Scale features to [0,1] range\n",
        "x_scaled = MinMaxScaler().fit_transform(x_train)\n",
        "# Initialize and fit UMAP\n",
        "mapper = umap.UMAP(n_components=2, metric=\"cosine\").fit(x_scaled)\n",
        "\n",
        "# Create a DataFrame of 2D embeddings\n",
        "df_emb = pd.DataFrame(mapper.embedding_, columns=[\"X\", \"Y\"])\n",
        "df_emb[\"label\"] = y_train\n",
        "\n",
        "df_emb.head()"
      ],
      "metadata": {
        "id": "6_rihDiHoi98",
        "outputId": "b7a67ff4-48c0-4c4d-fdb9-321970b79883",
        "colab": {
          "base_uri": "https://localhost:8080/",
          "height": 261
        }
      },
      "execution_count": 26,
      "outputs": [
        {
          "output_type": "stream",
          "name": "stderr",
          "text": [
            "/usr/local/lib/python3.7/dist-packages/numba/np/ufunc/parallel.py:363: NumbaWarning: The TBB threading layer requires TBB version 2019.5 or later i.e., TBB_INTERFACE_VERSION >= 11005. Found TBB_INTERFACE_VERSION = 9107. The TBB threading layer is disabled.\n",
            "  warnings.warn(problem)\n"
          ]
        },
        {
          "output_type": "execute_result",
          "data": {
            "text/html": [
              "\n",
              "  <div id=\"df-6c738675-1c27-4cfd-96ff-6afc1ff73504\">\n",
              "    <div class=\"colab-df-container\">\n",
              "      <div>\n",
              "<style scoped>\n",
              "    .dataframe tbody tr th:only-of-type {\n",
              "        vertical-align: middle;\n",
              "    }\n",
              "\n",
              "    .dataframe tbody tr th {\n",
              "        vertical-align: top;\n",
              "    }\n",
              "\n",
              "    .dataframe thead th {\n",
              "        text-align: right;\n",
              "    }\n",
              "</style>\n",
              "<table border=\"1\" class=\"dataframe\">\n",
              "  <thead>\n",
              "    <tr style=\"text-align: right;\">\n",
              "      <th></th>\n",
              "      <th>X</th>\n",
              "      <th>Y</th>\n",
              "      <th>label</th>\n",
              "    </tr>\n",
              "  </thead>\n",
              "  <tbody>\n",
              "    <tr>\n",
              "      <th>0</th>\n",
              "      <td>4.263856</td>\n",
              "      <td>7.386122</td>\n",
              "      <td>0</td>\n",
              "    </tr>\n",
              "    <tr>\n",
              "      <th>1</th>\n",
              "      <td>-3.017067</td>\n",
              "      <td>6.642220</td>\n",
              "      <td>0</td>\n",
              "    </tr>\n",
              "    <tr>\n",
              "      <th>2</th>\n",
              "      <td>5.466436</td>\n",
              "      <td>3.854279</td>\n",
              "      <td>3</td>\n",
              "    </tr>\n",
              "    <tr>\n",
              "      <th>3</th>\n",
              "      <td>-2.305874</td>\n",
              "      <td>4.443530</td>\n",
              "      <td>2</td>\n",
              "    </tr>\n",
              "    <tr>\n",
              "      <th>4</th>\n",
              "      <td>-3.185508</td>\n",
              "      <td>4.700703</td>\n",
              "      <td>3</td>\n",
              "    </tr>\n",
              "  </tbody>\n",
              "</table>\n",
              "</div>\n",
              "      <button class=\"colab-df-convert\" onclick=\"convertToInteractive('df-6c738675-1c27-4cfd-96ff-6afc1ff73504')\"\n",
              "              title=\"Convert this dataframe to an interactive table.\"\n",
              "              style=\"display:none;\">\n",
              "        \n",
              "  <svg xmlns=\"http://www.w3.org/2000/svg\" height=\"24px\"viewBox=\"0 0 24 24\"\n",
              "       width=\"24px\">\n",
              "    <path d=\"M0 0h24v24H0V0z\" fill=\"none\"/>\n",
              "    <path d=\"M18.56 5.44l.94 2.06.94-2.06 2.06-.94-2.06-.94-.94-2.06-.94 2.06-2.06.94zm-11 1L8.5 8.5l.94-2.06 2.06-.94-2.06-.94L8.5 2.5l-.94 2.06-2.06.94zm10 10l.94 2.06.94-2.06 2.06-.94-2.06-.94-.94-2.06-.94 2.06-2.06.94z\"/><path d=\"M17.41 7.96l-1.37-1.37c-.4-.4-.92-.59-1.43-.59-.52 0-1.04.2-1.43.59L10.3 9.45l-7.72 7.72c-.78.78-.78 2.05 0 2.83L4 21.41c.39.39.9.59 1.41.59.51 0 1.02-.2 1.41-.59l7.78-7.78 2.81-2.81c.8-.78.8-2.07 0-2.86zM5.41 20L4 18.59l7.72-7.72 1.47 1.35L5.41 20z\"/>\n",
              "  </svg>\n",
              "      </button>\n",
              "      \n",
              "  <style>\n",
              "    .colab-df-container {\n",
              "      display:flex;\n",
              "      flex-wrap:wrap;\n",
              "      gap: 12px;\n",
              "    }\n",
              "\n",
              "    .colab-df-convert {\n",
              "      background-color: #E8F0FE;\n",
              "      border: none;\n",
              "      border-radius: 50%;\n",
              "      cursor: pointer;\n",
              "      display: none;\n",
              "      fill: #1967D2;\n",
              "      height: 32px;\n",
              "      padding: 0 0 0 0;\n",
              "      width: 32px;\n",
              "    }\n",
              "\n",
              "    .colab-df-convert:hover {\n",
              "      background-color: #E2EBFA;\n",
              "      box-shadow: 0px 1px 2px rgba(60, 64, 67, 0.3), 0px 1px 3px 1px rgba(60, 64, 67, 0.15);\n",
              "      fill: #174EA6;\n",
              "    }\n",
              "\n",
              "    [theme=dark] .colab-df-convert {\n",
              "      background-color: #3B4455;\n",
              "      fill: #D2E3FC;\n",
              "    }\n",
              "\n",
              "    [theme=dark] .colab-df-convert:hover {\n",
              "      background-color: #434B5C;\n",
              "      box-shadow: 0px 1px 3px 1px rgba(0, 0, 0, 0.15);\n",
              "      filter: drop-shadow(0px 1px 2px rgba(0, 0, 0, 0.3));\n",
              "      fill: #FFFFFF;\n",
              "    }\n",
              "  </style>\n",
              "\n",
              "      <script>\n",
              "        const buttonEl =\n",
              "          document.querySelector('#df-6c738675-1c27-4cfd-96ff-6afc1ff73504 button.colab-df-convert');\n",
              "        buttonEl.style.display =\n",
              "          google.colab.kernel.accessAllowed ? 'block' : 'none';\n",
              "\n",
              "        async function convertToInteractive(key) {\n",
              "          const element = document.querySelector('#df-6c738675-1c27-4cfd-96ff-6afc1ff73504');\n",
              "          const dataTable =\n",
              "            await google.colab.kernel.invokeFunction('convertToInteractive',\n",
              "                                                     [key], {});\n",
              "          if (!dataTable) return;\n",
              "\n",
              "          const docLinkHtml = 'Like what you see? Visit the ' +\n",
              "            '<a target=\"_blank\" href=https://colab.research.google.com/notebooks/data_table.ipynb>data table notebook</a>'\n",
              "            + ' to learn more about interactive tables.';\n",
              "          element.innerHTML = '';\n",
              "          dataTable['output_type'] = 'display_data';\n",
              "          await google.colab.output.renderOutput(dataTable, element);\n",
              "          const docLink = document.createElement('div');\n",
              "          docLink.innerHTML = docLinkHtml;\n",
              "          element.appendChild(docLink);\n",
              "        }\n",
              "      </script>\n",
              "    </div>\n",
              "  </div>\n",
              "  "
            ],
            "text/plain": [
              "          X         Y  label\n",
              "0  4.263856  7.386122      0\n",
              "1 -3.017067  6.642220      0\n",
              "2  5.466436  3.854279      3\n",
              "3 -2.305874  4.443530      2\n",
              "4 -3.185508  4.700703      3"
            ]
          },
          "metadata": {},
          "execution_count": 26
        }
      ]
    },
    {
      "cell_type": "markdown",
      "source": [
        "The result is an array with the same number of training samples, but with only 2 features instead of the 768 we started with! \n",
        "\n",
        "Let us investigate the compressed data a little bit further and\n",
        "plot the density of points for each category separately:"
      ],
      "metadata": {
        "id": "pnj3R2qfsD8C"
      }
    },
    {
      "cell_type": "code",
      "source": [
        "labels= emotions[\"train\"].features[\"label\"]\n",
        "labels.names"
      ],
      "metadata": {
        "id": "j5mqzxUkyF-g",
        "outputId": "76b615af-386c-4e2b-c52f-9c0fc62d0ce4",
        "colab": {
          "base_uri": "https://localhost:8080/"
        }
      },
      "execution_count": 27,
      "outputs": [
        {
          "output_type": "execute_result",
          "data": {
            "text/plain": [
              "['sadness', 'joy', 'love', 'anger', 'fear', 'surprise']"
            ]
          },
          "metadata": {},
          "execution_count": 27
        }
      ]
    },
    {
      "cell_type": "code",
      "source": [
        "fig, axes = plt.subplots(2, 3, figsize=(7, 5))\n",
        "axes = axes.flatten()\n",
        "cmaps = [\"Greys\", \"Blues\", \"Oranges\", \"Reds\", \"Purples\", \"Greens\"]\n",
        "labels= emotions[\"train\"].features[\"label\"].names\n",
        "\n",
        "for i, (label, cmap) in enumerate(zip(labels, cmaps)):\n",
        "  df_emb_sub = df_emb.query(f\"label == {i}\")\n",
        "  axes[i].hexbin(df_emb_sub[\"X\"], df_emb_sub[\"Y\"], cmap=cmap, gridsize=20, linewidths=(0,))\n",
        "  axes[i].set_title(label)\n",
        "  axes[i].set_xticks([]), axes[i].set_yticks([])\n",
        "plt.tight_layout()\n",
        "plt.show()"
      ],
      "metadata": {
        "id": "-6g6h59psGS8",
        "outputId": "e4bbb9ee-7d6e-4acb-9015-de91951d3fa3",
        "colab": {
          "base_uri": "https://localhost:8080/",
          "height": 369
        }
      },
      "execution_count": 28,
      "outputs": [
        {
          "output_type": "display_data",
          "data": {
            "image/png": "[encoded data removed]",
            "text/plain": [
              "<Figure size 504x360 with 6 Axes>"
            ]
          },
          "metadata": {}
        }
      ]
    },
    {
      "cell_type": "markdown",
      "source": [
        ">These are only projections onto a lower dimensional space. Just because some categories overlap does not mean\n",
        "that they are not separable in the original space. Conversely, if they are separable in the projected space they will\n",
        "be separable in the original space.\n",
        "\n",
        "Now there seem to be clearer patterns; the negative feelings such as sadness, anger and\n",
        "fear all occupy a similar regions with slightly varying distributions. \n",
        "\n",
        "On the other hand, joy\n",
        "and love are well separated from the negative emotions and also share a similar space.\n",
        "\n",
        "Finally, surprise is scattered all over the place. We hoped for some separation but this in no\n",
        "way guaranteed since the model was not trained to know the difference between this emotions\n",
        "but learned them implicitly by predicting missing words."
      ],
      "metadata": {
        "id": "lrB5e0WayfuO"
      }
    },
    {
      "cell_type": "markdown",
      "source": [
        "####Training a Simple Classifier"
      ],
      "metadata": {
        "id": "mPmTzNQ_y2bu"
      }
    },
    {
      "cell_type": "markdown",
      "source": [
        "We have seen that the hidden states are somewhat different between the emotions, although for\n",
        "several of them there is not an obvious boundary. \n",
        "\n",
        "Let’s use these hidden states to train a simple\n",
        "logistic regressor with Scikit-Learn! Training such a simple model is fast and does not require a GPU:"
      ],
      "metadata": {
        "id": "71DzidTcy5cp"
      }
    },
    {
      "cell_type": "code",
      "source": [
        "#  We increase `max_iter` to guarantee convergence \n",
        "lr_clf = LogisticRegression(max_iter=3000)\n",
        "lr_clf.fit(x_train, y_train)"
      ],
      "metadata": {
        "id": "H9yWM5A5nsrl",
        "outputId": "7549c2c8-eacb-4cd0-fe11-47e5cbf267e1",
        "colab": {
          "base_uri": "https://localhost:8080/"
        }
      },
      "execution_count": 29,
      "outputs": [
        {
          "output_type": "execute_result",
          "data": {
            "text/plain": [
              "LogisticRegression(max_iter=3000)"
            ]
          },
          "metadata": {},
          "execution_count": 29
        }
      ]
    },
    {
      "cell_type": "code",
      "source": [
        "lr_clf.score(x_valid, y_valid)"
      ],
      "metadata": {
        "id": "J3ex7-0aHu2J",
        "outputId": "35590af2-42ba-4214-907e-3acc3df2860e",
        "colab": {
          "base_uri": "https://localhost:8080/"
        }
      },
      "execution_count": 30,
      "outputs": [
        {
          "output_type": "execute_result",
          "data": {
            "text/plain": [
              "0.633"
            ]
          },
          "metadata": {},
          "execution_count": 30
        }
      ]
    },
    {
      "cell_type": "markdown",
      "source": [
        "By looking at the accuracy it might appear that our model is just a bit better than random, but\n",
        "since we are dealing with an unbalanced multiclass dataset this is significantly better than\n",
        "random. We can get a better feeling for whether our model is any good by comparing against a\n",
        "simple baseline.\n",
        "\n",
        "In Scikit-Learn there is a `DummyClassifier` that can be used to build a\n",
        "classifier with simple heuristics such as always choose the majority class or always draw a random class. In this case the best performing heuristic is to always choose the most frequent class:"
      ],
      "metadata": {
        "id": "41d7osNdqfcw"
      }
    },
    {
      "cell_type": "code",
      "source": [
        "dummy_clf = DummyClassifier(strategy=\"most_frequent\")\n",
        "dummy_clf.fit(x_train, y_train)\n",
        "dummy_clf.score(x_valid, y_valid)"
      ],
      "metadata": {
        "id": "VcmibFTOqoMX",
        "outputId": "3cebe8fa-6f42-4021-f34e-a9ee7f1d68b7",
        "colab": {
          "base_uri": "https://localhost:8080/"
        }
      },
      "execution_count": 31,
      "outputs": [
        {
          "output_type": "execute_result",
          "data": {
            "text/plain": [
              "0.352"
            ]
          },
          "metadata": {},
          "execution_count": 31
        }
      ]
    },
    {
      "cell_type": "markdown",
      "source": [
        "So, our simple classifier with DistilBERT embeddings is significantly better than our baseline. \n",
        "\n",
        "We can further investigate the performance of the model by looking at the confusion matrix of the classifier, which tells us the relationship between the true and predicted labels:"
      ],
      "metadata": {
        "id": "C2yAg3vVrEw4"
      }
    },
    {
      "cell_type": "code",
      "source": [
        "def plot_confusion_matrix(y_preds, y_true, labels):\n",
        "    cm = confusion_matrix(y_true, y_preds, normalize=\"true\")\n",
        "    fig, ax = plt.subplots(figsize=(6, 6))\n",
        "    disp = ConfusionMatrixDisplay(confusion_matrix=cm, display_labels=labels)\n",
        "    disp.plot(cmap=\"Blues\", values_format=\".2f\", ax=ax, colorbar=False)\n",
        "    plt.title(\"Normalized confusion matrix\")\n",
        "    plt.show()\n",
        "    \n",
        "y_preds = lr_clf.predict(x_valid)\n",
        "plot_confusion_matrix(y_preds, y_valid, labels)"
      ],
      "metadata": {
        "id": "CJcqOL8yrHRs",
        "outputId": "bfda04e2-16c8-4d13-8e8f-223c2668cfed",
        "colab": {
          "base_uri": "https://localhost:8080/",
          "height": 404
        }
      },
      "execution_count": 34,
      "outputs": [
        {
          "output_type": "display_data",
          "data": {
            "image/png": "[encoded data removed]",
            "text/plain": [
              "<Figure size 432x432 with 1 Axes>"
            ]
          },
          "metadata": {
            "needs_background": "light"
          }
        }
      ]
    },
    {
      "cell_type": "markdown",
      "source": [
        "We can see that `anger` and `fear` are most often confused with `sadness`, which agrees with the observation we made when visualizing the embeddings. Also, `love` and `surprise` are frequently mistaken for `joy`."
      ],
      "metadata": {
        "id": "3CWERZKUyApb"
      }
    },
    {
      "cell_type": "code",
      "source": [
        "print(classification_report(y_valid, y_preds, target_names=labels))"
      ],
      "metadata": {
        "id": "I6MSc5tTyFKl",
        "outputId": "aa84f21d-bb16-4cb9-99aa-6ecdfdbc80c2",
        "colab": {
          "base_uri": "https://localhost:8080/"
        }
      },
      "execution_count": 36,
      "outputs": [
        {
          "output_type": "stream",
          "name": "stdout",
          "text": [
            "              precision    recall  f1-score   support\n",
            "\n",
            "     sadness       0.65      0.71      0.68       550\n",
            "         joy       0.71      0.80      0.75       704\n",
            "        love       0.49      0.30      0.37       178\n",
            "       anger       0.51      0.44      0.47       275\n",
            "        fear       0.55      0.55      0.55       212\n",
            "    surprise       0.54      0.27      0.36        81\n",
            "\n",
            "    accuracy                           0.63      2000\n",
            "   macro avg       0.57      0.51      0.53      2000\n",
            "weighted avg       0.62      0.63      0.62      2000\n",
            "\n"
          ]
        }
      ]
    },
    {
      "cell_type": "markdown",
      "source": [
        "Now, we will explore the fine-tuning approach which leads to superior\n",
        "classification performance. It is however important to note, that doing this requires much more\n",
        "computational resources, such as GPUs, that might not be available in your company. \n",
        "\n",
        "In cases\n",
        "like this, a feature-based approach can be a good compromise between doing traditional\n",
        "machine learning and deep learning."
      ],
      "metadata": {
        "id": "wJUmolQ5yjCe"
      }
    },
    {
      "cell_type": "markdown",
      "source": [
        "##Making Predictions"
      ],
      "metadata": {
        "id": "3rgPEpolN567"
      }
    },
    {
      "cell_type": "markdown",
      "source": [
        "We can also use the fine-tuned model to make predictions on new tweets. \n",
        "\n",
        "First, we need to\n",
        "tokenize the text, pass the tensor through the model, and extract the logits:"
      ],
      "metadata": {
        "id": "xI5mHrzUN6bq"
      }
    },
    {
      "cell_type": "code",
      "source": [
        "custom_tweet = \"i saw a movie today and it was really good.\"\n",
        "input_tensor = tokenizer(custom_tweet, return_tensors=\"pt\").to(device)\n",
        "# logits = lr_clf.predict(input_tensor.cpu().numpy()).logits\n",
        "# logits = model(input_tensor).logits\n",
        "print(f\"Input tensor shape: {input_tensor['input_ids'].size()}\")"
      ],
      "metadata": {
        "id": "QOc7dFVRN8o8",
        "colab": {
          "base_uri": "https://localhost:8080/"
        },
        "outputId": "7ad1c85b-597f-4113-98ae-d2d7875346d9"
      },
      "execution_count": 58,
      "outputs": [
        {
          "output_type": "stream",
          "name": "stdout",
          "text": [
            "Input tensor shape: torch.Size([1, 13])\n"
          ]
        }
      ]
    },
    {
      "cell_type": "code",
      "source": [
        "inputs = {k:v.to(device) for k,v in input_tensor.items()}\n",
        "with torch.no_grad():\n",
        "    outputs = model(**inputs)\n",
        "print(outputs)"
      ],
      "metadata": {
        "colab": {
          "base_uri": "https://localhost:8080/"
        },
        "id": "gY-n__8_C549",
        "outputId": "37c3c1fe-7326-4af5-fd30-3aa1dc50be3c"
      },
      "execution_count": 59,
      "outputs": [
        {
          "output_type": "stream",
          "name": "stdout",
          "text": [
            "BaseModelOutput(last_hidden_state=tensor([[[ 0.1135, -0.1893, -0.0793,  ..., -0.0236,  0.3456,  0.1747],\n",
            "         [ 0.5735, -0.5289, -0.2483,  ..., -0.2529,  0.8052,  0.0033],\n",
            "         [ 0.0477, -0.5381,  0.4829,  ..., -0.1972,  0.2453, -0.6509],\n",
            "         ...,\n",
            "         [ 0.0060, -0.2709,  0.1621,  ..., -0.1915,  0.3236, -0.7069],\n",
            "         [ 0.7006, -0.0351, -0.5565,  ...,  0.3081, -0.1986, -0.5850],\n",
            "         [ 0.6324, -0.0124, -0.2455,  ...,  0.2976, -0.1591, -0.4604]]],\n",
            "       device='cuda:0'), hidden_states=None, attentions=None)\n"
          ]
        }
      ]
    },
    {
      "cell_type": "code",
      "source": [
        "outputs.last_hidden_state.size()"
      ],
      "metadata": {
        "id": "A-iApJ9LHJs8",
        "outputId": "16f3d01d-a119-4ef2-e13b-67a9d306cbad",
        "colab": {
          "base_uri": "https://localhost:8080/"
        }
      },
      "execution_count": 60,
      "outputs": [
        {
          "output_type": "execute_result",
          "data": {
            "text/plain": [
              "torch.Size([1, 13, 768])"
            ]
          },
          "metadata": {},
          "execution_count": 60
        }
      ]
    },
    {
      "cell_type": "markdown",
      "source": [
        "The model predictions are not normalized meaning that they are not a probability distribution\n",
        "but the raw outputs before the softmax layer:"
      ],
      "metadata": {
        "id": "Z7FKsF2VN_Ho"
      }
    },
    {
      "cell_type": "code",
      "source": [
        "outputs.last_hidden_state[:,0].size()"
      ],
      "metadata": {
        "id": "fMs9H-NcOBYw",
        "colab": {
          "base_uri": "https://localhost:8080/"
        },
        "outputId": "1ed31e9e-5f60-4d11-b1f0-87f9231dad92"
      },
      "execution_count": 61,
      "outputs": [
        {
          "output_type": "execute_result",
          "data": {
            "text/plain": [
              "torch.Size([1, 768])"
            ]
          },
          "metadata": {},
          "execution_count": 61
        }
      ]
    },
    {
      "cell_type": "code",
      "source": [
        "lr_clf.predict(outputs.cpu().numpy())"
      ],
      "metadata": {
        "id": "nmi-WsNhHXHk",
        "outputId": "13d0a3f3-4690-423f-9a97-5d567c94673a",
        "colab": {
          "base_uri": "https://localhost:8080/",
          "height": 166
        }
      },
      "execution_count": 69,
      "outputs": [
        {
          "output_type": "error",
          "ename": "AttributeError",
          "evalue": "ignored",
          "traceback": [
            "\u001b[0;31m---------------------------------------------------------------------------\u001b[0m",
            "\u001b[0;31mAttributeError\u001b[0m                            Traceback (most recent call last)",
            "\u001b[0;32m<ipython-input-69-be1d4b579679>\u001b[0m in \u001b[0;36m<module>\u001b[0;34m()\u001b[0m\n\u001b[0;32m----> 1\u001b[0;31m \u001b[0mlr_clf\u001b[0m\u001b[0;34m.\u001b[0m\u001b[0mpredict\u001b[0m\u001b[0;34m(\u001b[0m\u001b[0moutputs\u001b[0m\u001b[0;34m.\u001b[0m\u001b[0mcpu\u001b[0m\u001b[0;34m(\u001b[0m\u001b[0;34m)\u001b[0m\u001b[0;34m.\u001b[0m\u001b[0mnumpy\u001b[0m\u001b[0;34m(\u001b[0m\u001b[0;34m)\u001b[0m\u001b[0;34m)\u001b[0m\u001b[0;34m\u001b[0m\u001b[0;34m\u001b[0m\u001b[0m\n\u001b[0m",
            "\u001b[0;31mAttributeError\u001b[0m: 'BaseModelOutput' object has no attribute 'cpu'"
          ]
        }
      ]
    },
    {
      "cell_type": "markdown",
      "source": [
        "We can easily make the predictions a probability distribution by applying a softmax function to\n",
        "them. \n",
        "\n",
        "Since we have a batch size of 1, we can get rid of the first dimension and convert the\n",
        "tensor to a NumPy array for processing on the CPU:"
      ],
      "metadata": {
        "id": "hOqdZEXOODSt"
      }
    },
    {
      "cell_type": "code",
      "source": [
        "softmax = torch.nn.Softmax(dim=1)\n",
        "probs = softmax(input_tensor)[0]\n",
        "probs = probs.cpu().detach().numpy()"
      ],
      "metadata": {
        "id": "IZyWBm0EOFjR",
        "colab": {
          "base_uri": "https://localhost:8080/",
          "height": 346
        },
        "outputId": "90dcc087-7771-4f31-c69f-7c906c0d13f0"
      },
      "execution_count": 42,
      "outputs": [
        {
          "output_type": "error",
          "ename": "RuntimeError",
          "evalue": "ignored",
          "traceback": [
            "\u001b[0;31m---------------------------------------------------------------------------\u001b[0m",
            "\u001b[0;31mRuntimeError\u001b[0m                              Traceback (most recent call last)",
            "\u001b[0;32m<ipython-input-42-e5de3fc9dd87>\u001b[0m in \u001b[0;36m<module>\u001b[0;34m()\u001b[0m\n\u001b[1;32m      1\u001b[0m \u001b[0msoftmax\u001b[0m \u001b[0;34m=\u001b[0m \u001b[0mtorch\u001b[0m\u001b[0;34m.\u001b[0m\u001b[0mnn\u001b[0m\u001b[0;34m.\u001b[0m\u001b[0mSoftmax\u001b[0m\u001b[0;34m(\u001b[0m\u001b[0mdim\u001b[0m\u001b[0;34m=\u001b[0m\u001b[0;36m1\u001b[0m\u001b[0;34m)\u001b[0m\u001b[0;34m\u001b[0m\u001b[0;34m\u001b[0m\u001b[0m\n\u001b[0;32m----> 2\u001b[0;31m \u001b[0mprobs\u001b[0m \u001b[0;34m=\u001b[0m \u001b[0msoftmax\u001b[0m\u001b[0;34m(\u001b[0m\u001b[0minput_tensor\u001b[0m\u001b[0;34m)\u001b[0m\u001b[0;34m[\u001b[0m\u001b[0;36m0\u001b[0m\u001b[0;34m]\u001b[0m\u001b[0;34m\u001b[0m\u001b[0;34m\u001b[0m\u001b[0m\n\u001b[0m\u001b[1;32m      3\u001b[0m \u001b[0mprobs\u001b[0m \u001b[0;34m=\u001b[0m \u001b[0mprobs\u001b[0m\u001b[0;34m.\u001b[0m\u001b[0mcpu\u001b[0m\u001b[0;34m(\u001b[0m\u001b[0;34m)\u001b[0m\u001b[0;34m.\u001b[0m\u001b[0mdetach\u001b[0m\u001b[0;34m(\u001b[0m\u001b[0;34m)\u001b[0m\u001b[0;34m.\u001b[0m\u001b[0mnumpy\u001b[0m\u001b[0;34m(\u001b[0m\u001b[0;34m)\u001b[0m\u001b[0;34m\u001b[0m\u001b[0;34m\u001b[0m\u001b[0m\n",
            "\u001b[0;32m/usr/local/lib/python3.7/dist-packages/torch/nn/modules/module.py\u001b[0m in \u001b[0;36m_call_impl\u001b[0;34m(self, *input, **kwargs)\u001b[0m\n\u001b[1;32m   1100\u001b[0m         if not (self._backward_hooks or self._forward_hooks or self._forward_pre_hooks or _global_backward_hooks\n\u001b[1;32m   1101\u001b[0m                 or _global_forward_hooks or _global_forward_pre_hooks):\n\u001b[0;32m-> 1102\u001b[0;31m             \u001b[0;32mreturn\u001b[0m \u001b[0mforward_call\u001b[0m\u001b[0;34m(\u001b[0m\u001b[0;34m*\u001b[0m\u001b[0minput\u001b[0m\u001b[0;34m,\u001b[0m \u001b[0;34m**\u001b[0m\u001b[0mkwargs\u001b[0m\u001b[0;34m)\u001b[0m\u001b[0;34m\u001b[0m\u001b[0;34m\u001b[0m\u001b[0m\n\u001b[0m\u001b[1;32m   1103\u001b[0m         \u001b[0;31m# Do not call functions when jit is used\u001b[0m\u001b[0;34m\u001b[0m\u001b[0;34m\u001b[0m\u001b[0;34m\u001b[0m\u001b[0m\n\u001b[1;32m   1104\u001b[0m         \u001b[0mfull_backward_hooks\u001b[0m\u001b[0;34m,\u001b[0m \u001b[0mnon_full_backward_hooks\u001b[0m \u001b[0;34m=\u001b[0m \u001b[0;34m[\u001b[0m\u001b[0;34m]\u001b[0m\u001b[0;34m,\u001b[0m \u001b[0;34m[\u001b[0m\u001b[0;34m]\u001b[0m\u001b[0;34m\u001b[0m\u001b[0;34m\u001b[0m\u001b[0m\n",
            "\u001b[0;32m/usr/local/lib/python3.7/dist-packages/torch/nn/modules/activation.py\u001b[0m in \u001b[0;36mforward\u001b[0;34m(self, input)\u001b[0m\n\u001b[1;32m   1224\u001b[0m \u001b[0;34m\u001b[0m\u001b[0m\n\u001b[1;32m   1225\u001b[0m     \u001b[0;32mdef\u001b[0m \u001b[0mforward\u001b[0m\u001b[0;34m(\u001b[0m\u001b[0mself\u001b[0m\u001b[0;34m,\u001b[0m \u001b[0minput\u001b[0m\u001b[0;34m:\u001b[0m \u001b[0mTensor\u001b[0m\u001b[0;34m)\u001b[0m \u001b[0;34m->\u001b[0m \u001b[0mTensor\u001b[0m\u001b[0;34m:\u001b[0m\u001b[0;34m\u001b[0m\u001b[0;34m\u001b[0m\u001b[0m\n\u001b[0;32m-> 1226\u001b[0;31m         \u001b[0;32mreturn\u001b[0m \u001b[0mF\u001b[0m\u001b[0;34m.\u001b[0m\u001b[0msoftmax\u001b[0m\u001b[0;34m(\u001b[0m\u001b[0minput\u001b[0m\u001b[0;34m,\u001b[0m \u001b[0mself\u001b[0m\u001b[0;34m.\u001b[0m\u001b[0mdim\u001b[0m\u001b[0;34m,\u001b[0m \u001b[0m_stacklevel\u001b[0m\u001b[0;34m=\u001b[0m\u001b[0;36m5\u001b[0m\u001b[0;34m)\u001b[0m\u001b[0;34m\u001b[0m\u001b[0;34m\u001b[0m\u001b[0m\n\u001b[0m\u001b[1;32m   1227\u001b[0m \u001b[0;34m\u001b[0m\u001b[0m\n\u001b[1;32m   1228\u001b[0m     \u001b[0;32mdef\u001b[0m \u001b[0mextra_repr\u001b[0m\u001b[0;34m(\u001b[0m\u001b[0mself\u001b[0m\u001b[0;34m)\u001b[0m \u001b[0;34m->\u001b[0m \u001b[0mstr\u001b[0m\u001b[0;34m:\u001b[0m\u001b[0;34m\u001b[0m\u001b[0;34m\u001b[0m\u001b[0m\n",
            "\u001b[0;32m/usr/local/lib/python3.7/dist-packages/torch/nn/functional.py\u001b[0m in \u001b[0;36msoftmax\u001b[0;34m(input, dim, _stacklevel, dtype)\u001b[0m\n\u001b[1;32m   1678\u001b[0m         \u001b[0mdim\u001b[0m \u001b[0;34m=\u001b[0m \u001b[0m_get_softmax_dim\u001b[0m\u001b[0;34m(\u001b[0m\u001b[0;34m\"softmax\"\u001b[0m\u001b[0;34m,\u001b[0m \u001b[0minput\u001b[0m\u001b[0;34m.\u001b[0m\u001b[0mdim\u001b[0m\u001b[0;34m(\u001b[0m\u001b[0;34m)\u001b[0m\u001b[0;34m,\u001b[0m \u001b[0m_stacklevel\u001b[0m\u001b[0;34m)\u001b[0m\u001b[0;34m\u001b[0m\u001b[0;34m\u001b[0m\u001b[0m\n\u001b[1;32m   1679\u001b[0m     \u001b[0;32mif\u001b[0m \u001b[0mdtype\u001b[0m \u001b[0;32mis\u001b[0m \u001b[0;32mNone\u001b[0m\u001b[0;34m:\u001b[0m\u001b[0;34m\u001b[0m\u001b[0;34m\u001b[0m\u001b[0m\n\u001b[0;32m-> 1680\u001b[0;31m         \u001b[0mret\u001b[0m \u001b[0;34m=\u001b[0m \u001b[0minput\u001b[0m\u001b[0;34m.\u001b[0m\u001b[0msoftmax\u001b[0m\u001b[0;34m(\u001b[0m\u001b[0mdim\u001b[0m\u001b[0;34m)\u001b[0m\u001b[0;34m\u001b[0m\u001b[0;34m\u001b[0m\u001b[0m\n\u001b[0m\u001b[1;32m   1681\u001b[0m     \u001b[0;32melse\u001b[0m\u001b[0;34m:\u001b[0m\u001b[0;34m\u001b[0m\u001b[0;34m\u001b[0m\u001b[0m\n\u001b[1;32m   1682\u001b[0m         \u001b[0mret\u001b[0m \u001b[0;34m=\u001b[0m \u001b[0minput\u001b[0m\u001b[0;34m.\u001b[0m\u001b[0msoftmax\u001b[0m\u001b[0;34m(\u001b[0m\u001b[0mdim\u001b[0m\u001b[0;34m,\u001b[0m \u001b[0mdtype\u001b[0m\u001b[0;34m=\u001b[0m\u001b[0mdtype\u001b[0m\u001b[0;34m)\u001b[0m\u001b[0;34m\u001b[0m\u001b[0;34m\u001b[0m\u001b[0m\n",
            "\u001b[0;31mRuntimeError\u001b[0m: \"host_softmax\" not implemented for 'Long'"
          ]
        }
      ]
    },
    {
      "cell_type": "code",
      "source": [
        "probs"
      ],
      "metadata": {
        "id": "vFdrq6JxOJrV"
      },
      "execution_count": null,
      "outputs": []
    },
    {
      "cell_type": "markdown",
      "source": [
        "Finally, we can plot the probability for each class in a bar plot. \n",
        "\n",
        "Clearly, the model estimates that\n",
        "the most likely class is joy, which appears to be reasonable given the tweet."
      ],
      "metadata": {
        "id": "W0gDcGqdOH0T"
      }
    },
    {
      "cell_type": "code",
      "source": [
        "labels"
      ],
      "metadata": {
        "id": "4S7iSZ-KON5U"
      },
      "execution_count": null,
      "outputs": []
    },
    {
      "cell_type": "code",
      "source": [
        "plt.bar(labels.names, 100 * probs, color=\"C0\")\n",
        "plt.title(f\"Prediction for : '{custom_tweet}'\")\n",
        "plt.ylabel(\"Class probability (%)\")"
      ],
      "metadata": {
        "id": "o4ssLRZgORff"
      },
      "execution_count": null,
      "outputs": []
    },
    {
      "cell_type": "markdown",
      "source": [
        "##Error Analysis"
      ],
      "metadata": {
        "id": "l4dnQOclgrmm"
      }
    },
    {
      "cell_type": "markdown",
      "source": [
        "A simple, yet\n",
        "powerful tool is to sort the validation samples by the model loss. When passing the label during\n",
        "the forward pass, the loss is automatically calculated and returned. Below is a function that\n",
        "returns the loss along with the predicted label."
      ],
      "metadata": {
        "id": "qb6ZndErgsnd"
      }
    },
    {
      "cell_type": "code",
      "source": [
        "def forward_pass_with_label(batch):\n",
        "  input_ids = torch.tensor(batch[\"input_ids\"], device=device)\n",
        "  attention_mask = torch.tensor(batch[\"attention_mask\"], device=device)\n",
        "  labels = torch.tensor(batch[\"label\"], device=device)\n",
        "  print(labels)\n",
        "\n",
        "  with torch.no_grad():\n",
        "    output = model(input_ids, attention_mask)\n",
        "    pred_label = torch.argmax(output.logits, axis=-1)\n",
        "    loss = cross_entropy(output.logits, labels, reduction=\"none\")\n",
        "\n",
        "  batch[\"predicted_label\"] = pred_label.cpu().numpy()\n",
        "  batch[\"loss\"] = loss.cpu().numpy()\n",
        "  return batch"
      ],
      "metadata": {
        "id": "iDrRf6n_g0JJ"
      },
      "execution_count": null,
      "outputs": []
    },
    {
      "cell_type": "markdown",
      "source": [
        "Using the `DatasetDict.map` function once more, we apply the function to get the losses for\n",
        "all the samples:"
      ],
      "metadata": {
        "id": "P3A4ryC6iCxy"
      }
    },
    {
      "cell_type": "code",
      "source": [
        "emotions_encoded.reset_format()\n",
        "emotions_encoded[\"validation\"] = emotions_encoded[\"validation\"].map(forward_pass_with_label, batched=True, batch_size=16)"
      ],
      "metadata": {
        "id": "4dmH0HVViEj_",
        "outputId": "85b4e1b5-3b74-4335-b5ba-e752f4d59d8c",
        "colab": {
          "base_uri": "https://localhost:8080/",
          "height": 1000,
          "referenced_widgets": [
            "fde25f6e68f6433fb4ba56492316d003",
            "02336c3d4a6d400cbf066ecf5b624d6c",
            "69a905ad637d4d469c837b2717c3e539",
            "8cb57e2fa02644a8ae59e8b613e9ebcb",
            "e391ebf96adb49ef83cd1481f90037f5",
            "f444df8f62c64933bd902d0182b36588",
            "a04afc3ed9764dc0a14dbf24924c7356",
            "eee34693b3b1491e88387a5fa1aca5c6",
            "6de8225a39d44469b2af98f9c0f44e37",
            "4f0877d7c4bb46d5925daac27907f65f",
            "c1f71eaf2bcc4e19a2cb5aa5db1f51a6"
          ]
        }
      },
      "execution_count": null,
      "outputs": [
        {
          "output_type": "display_data",
          "data": {
            "application/vnd.jupyter.widget-view+json": {
              "model_id": "fde25f6e68f6433fb4ba56492316d003",
              "version_minor": 0,
              "version_major": 2
            },
            "text/plain": [
              "  0%|          | 0/125 [00:00<?, ?ba/s]"
            ]
          },
          "metadata": {}
        },
        {
          "output_type": "stream",
          "name": "stdout",
          "text": [
            "tensor([0, 0, 2, 3, 1, 1, 1, 1, 1, 0, 3, 1, 0, 0, 0, 1], device='cuda:0')\n",
            "tensor([0, 3, 2, 1, 4, 0, 1, 0, 0, 0, 0, 1, 0, 0, 2, 0], device='cuda:0')\n",
            "tensor([1, 0, 0, 1, 0, 0, 3, 1, 2, 0, 0, 0, 3, 0, 0, 3], device='cuda:0')\n",
            "tensor([2, 0, 0, 1, 1, 0, 1, 1, 3, 0, 0, 2, 2, 1, 0, 1], device='cuda:0')\n",
            "tensor([1, 0, 0, 2, 4, 0, 1, 1, 1, 4, 2, 1, 0, 3, 0, 0], device='cuda:0')\n",
            "tensor([0, 3, 3, 0, 3, 2, 1, 1, 2, 3, 3, 1, 2, 3, 4, 1], device='cuda:0')\n",
            "tensor([3, 3, 2, 0, 3, 2, 2, 0, 1, 3, 0, 1, 0, 0, 1, 1], device='cuda:0')\n",
            "tensor([0, 0, 0, 0, 1, 0, 3, 3, 3, 1, 0, 2, 4, 4, 1, 0], device='cuda:0')\n",
            "tensor([4, 0, 0, 1, 3, 0, 4, 4, 2, 1, 1, 0, 1, 0, 1, 3], device='cuda:0')\n",
            "tensor([5, 2, 4, 2, 0, 2, 1, 4, 3, 1, 3, 1, 5, 3, 2, 0], device='cuda:0')\n",
            "tensor([4, 3, 1, 0, 1, 5, 1, 4, 4, 0, 0, 5, 0, 1, 4, 1], device='cuda:0')\n",
            "tensor([4, 0, 2, 2, 0, 3, 3, 1, 1, 3, 3, 0, 0, 0, 1, 1], device='cuda:0')\n",
            "tensor([1, 1, 1, 1, 4, 1, 4, 1, 3, 0, 4, 1, 0, 1, 3, 3], device='cuda:0')\n",
            "tensor([1, 4, 0, 4, 1, 1, 0, 0, 0, 1, 5, 4, 0, 0, 1, 5], device='cuda:0')\n",
            "tensor([0, 4, 0, 5, 4, 1, 3, 4, 1, 1, 3, 5, 1, 2, 1, 1], device='cuda:0')\n",
            "tensor([4, 1, 2, 4, 0, 0, 0, 1, 1, 5, 3, 2, 1, 1, 4, 1], device='cuda:0')\n",
            "tensor([1, 0, 0, 3, 1, 1, 1, 1, 0, 1, 1, 0, 1, 0, 2, 0], device='cuda:0')\n",
            "tensor([1, 3, 1, 1, 0, 1, 1, 1, 0, 0, 1, 1, 0, 1, 1, 1], device='cuda:0')\n",
            "tensor([4, 0, 5, 1, 2, 1, 3, 0, 1, 4, 3, 4, 2, 2, 1, 4], device='cuda:0')\n",
            "tensor([0, 4, 0, 0, 3, 0, 4, 3, 0, 1, 0, 2, 1, 1, 4, 1], device='cuda:0')\n",
            "tensor([1, 0, 1, 0, 5, 4, 3, 4, 1, 1, 3, 1, 2, 1, 3, 3], device='cuda:0')\n",
            "tensor([1, 1, 4, 5, 3, 0, 0, 4, 3, 1, 0, 3, 3, 0, 1, 2], device='cuda:0')\n",
            "tensor([0, 4, 0, 0, 1, 2, 1, 2, 3, 2, 1, 0, 3, 3, 1, 0], device='cuda:0')\n",
            "tensor([0, 0, 4, 0, 0, 1, 0, 0, 4, 2, 1, 0, 3, 1, 1, 1], device='cuda:0')\n",
            "tensor([1, 3, 0, 0, 0, 1, 4, 1, 0, 0, 0, 1, 0, 1, 1, 1], device='cuda:0')\n",
            "tensor([1, 4, 1, 1, 1, 4, 1, 2, 4, 0, 1, 3, 0, 4, 1, 2], device='cuda:0')\n",
            "tensor([4, 1, 1, 3, 1, 1, 1, 3, 1, 2, 1, 1, 1, 3, 1, 3], device='cuda:0')\n",
            "tensor([1, 0, 3, 1, 3, 3, 4, 0, 3, 2, 4, 1, 2, 0, 3, 1], device='cuda:0')\n",
            "tensor([2, 1, 3, 1, 1, 3, 1, 1, 1, 5, 1, 0, 2, 0, 1, 2], device='cuda:0')\n",
            "tensor([0, 1, 1, 1, 1, 0, 1, 3, 1, 0, 1, 0, 2, 4, 2, 4], device='cuda:0')\n",
            "tensor([3, 0, 4, 1, 4, 3, 0, 0, 2, 1, 1, 1, 3, 3, 1, 0], device='cuda:0')\n",
            "tensor([1, 3, 0, 5, 2, 0, 0, 0, 5, 1, 0, 0, 0, 0, 1, 0], device='cuda:0')\n",
            "tensor([0, 5, 2, 0, 3, 1, 1, 1, 1, 1, 1, 1, 3, 0, 0, 4], device='cuda:0')\n",
            "tensor([3, 1, 1, 0, 4, 0, 0, 0, 4, 2, 4, 1, 0, 0, 3, 0], device='cuda:0')\n",
            "tensor([0, 0, 1, 0, 3, 0, 3, 0, 0, 2, 3, 2, 1, 1, 0, 2], device='cuda:0')\n",
            "tensor([4, 1, 0, 0, 1, 0, 0, 1, 2, 0, 1, 0, 5, 2, 0, 4], device='cuda:0')\n",
            "tensor([5, 0, 1, 2, 4, 2, 0, 5, 2, 0, 0, 2, 4, 1, 1, 4], device='cuda:0')\n",
            "tensor([0, 4, 0, 3, 0, 0, 0, 3, 0, 2, 0, 1, 1, 5, 1, 0], device='cuda:0')\n",
            "tensor([0, 1, 1, 1, 3, 2, 1, 1, 1, 1, 0, 0, 1, 4, 3, 0], device='cuda:0')\n",
            "tensor([3, 0, 0, 1, 1, 5, 1, 1, 1, 3, 4, 0, 1, 0, 5, 4], device='cuda:0')\n",
            "tensor([1, 4, 2, 3, 1, 3, 1, 0, 1, 4, 0, 1, 0, 0, 1, 1], device='cuda:0')\n",
            "tensor([2, 0, 0, 2, 3, 2, 2, 2, 1, 4, 2, 1, 1, 1, 3, 1], device='cuda:0')\n",
            "tensor([2, 0, 1, 1, 1, 1, 1, 0, 2, 1, 0, 1, 1, 4, 5, 0], device='cuda:0')\n",
            "tensor([1, 0, 4, 0, 4, 1, 0, 0, 3, 0, 1, 2, 3, 1, 1, 0], device='cuda:0')\n",
            "tensor([1, 3, 0, 3, 1, 1, 3, 3, 4, 0, 3, 1, 1, 4, 1, 4], device='cuda:0')\n",
            "tensor([0, 5, 1, 1, 3, 0, 1, 4, 0, 3, 3, 1, 5, 0, 0, 0], device='cuda:0')\n",
            "tensor([0, 1, 1, 5, 1, 1, 1, 3, 0, 1, 5, 5, 4, 1, 4, 3], device='cuda:0')\n",
            "tensor([1, 3, 1, 3, 0, 0, 1, 4, 0, 1, 1, 1, 0, 1, 3, 5], device='cuda:0')\n",
            "tensor([0, 0, 0, 1, 0, 0, 4, 1, 0, 4, 3, 0, 1, 5, 1, 0], device='cuda:0')\n",
            "tensor([4, 0, 1, 1, 2, 1, 1, 0, 0, 1, 3, 1, 0, 1, 1, 2], device='cuda:0')\n",
            "tensor([3, 3, 1, 0, 1, 0, 1, 3, 2, 3, 0, 1, 0, 1, 1, 4], device='cuda:0')\n",
            "tensor([1, 1, 0, 1, 0, 1, 0, 0, 1, 3, 0, 4, 4, 1, 1, 3], device='cuda:0')\n",
            "tensor([4, 1, 0, 1, 0, 0, 0, 1, 1, 3, 1, 1, 2, 1, 1, 1], device='cuda:0')\n",
            "tensor([1, 2, 0, 3, 3, 4, 4, 1, 1, 1, 2, 1, 1, 0, 0, 4], device='cuda:0')\n",
            "tensor([0, 4, 0, 0, 1, 0, 0, 1, 0, 4, 0, 1, 1, 1, 3, 1], device='cuda:0')\n",
            "tensor([0, 1, 2, 1, 0, 1, 3, 2, 2, 0, 1, 3, 1, 1, 4, 0], device='cuda:0')\n",
            "tensor([3, 3, 1, 3, 1, 1, 2, 1, 1, 1, 0, 0, 1, 2, 0, 1], device='cuda:0')\n",
            "tensor([3, 0, 0, 0, 2, 3, 0, 4, 0, 1, 2, 0, 1, 1, 5, 1], device='cuda:0')\n",
            "tensor([1, 3, 5, 0, 5, 1, 1, 4, 4, 1, 0, 0, 2, 1, 1, 2], device='cuda:0')\n",
            "tensor([2, 4, 1, 1, 1, 1, 3, 1, 0, 0, 0, 0, 1, 4, 3, 1], device='cuda:0')\n",
            "tensor([1, 1, 3, 1, 1, 1, 0, 2, 1, 0, 3, 2, 1, 2, 2, 2], device='cuda:0')\n",
            "tensor([1, 0, 0, 1, 4, 0, 3, 1, 0, 0, 5, 1, 2, 0, 3, 0], device='cuda:0')\n",
            "tensor([0, 2, 3, 4, 0, 3, 1, 4, 5, 3, 1, 5, 0, 2, 1, 0], device='cuda:0')\n",
            "tensor([1, 5, 1, 1, 1, 1, 1, 3, 3, 1, 0, 4, 1, 5, 0, 0], device='cuda:0')\n",
            "tensor([0, 3, 3, 0, 1, 3, 0, 1, 0, 3, 1, 2, 1, 0, 0, 3], device='cuda:0')\n",
            "tensor([3, 0, 3, 0, 1, 0, 0, 3, 3, 1, 1, 1, 3, 3, 3, 1], device='cuda:0')\n",
            "tensor([3, 0, 2, 4, 1, 2, 1, 1, 3, 2, 1, 1, 1, 4, 0, 2], device='cuda:0')\n",
            "tensor([1, 5, 1, 0, 3, 0, 1, 1, 3, 1, 1, 3, 2, 2, 0, 0], device='cuda:0')\n",
            "tensor([1, 0, 1, 0, 0, 2, 1, 1, 2, 0, 0, 1, 1, 1, 0, 0], device='cuda:0')\n",
            "tensor([3, 0, 1, 4, 1, 1, 0, 1, 2, 0, 0, 3, 3, 0, 1, 1], device='cuda:0')\n",
            "tensor([0, 2, 5, 4, 3, 1, 5, 0, 3, 1, 0, 4, 1, 1, 4, 2], device='cuda:0')\n",
            "tensor([0, 1, 4, 1, 0, 2, 3, 4, 4, 4, 0, 1, 1, 0, 1, 0], device='cuda:0')\n",
            "tensor([0, 1, 1, 0, 2, 1, 1, 3, 1, 4, 1, 0, 0, 1, 0, 0], device='cuda:0')\n",
            "tensor([1, 4, 1, 3, 1, 1, 4, 3, 0, 5, 0, 1, 2, 4, 0, 0], device='cuda:0')\n",
            "tensor([1, 0, 0, 4, 0, 0, 0, 1, 0, 1, 1, 3, 1, 1, 1, 1], device='cuda:0')\n",
            "tensor([0, 4, 0, 3, 1, 1, 5, 0, 1, 3, 0, 3, 1, 3, 1, 2], device='cuda:0')\n",
            "tensor([1, 1, 1, 1, 0, 1, 3, 1, 0, 4, 1, 2, 1, 5, 5, 1], device='cuda:0')\n",
            "tensor([4, 1, 1, 1, 0, 4, 3, 1, 3, 0, 0, 0, 2, 3, 0, 4], device='cuda:0')\n",
            "tensor([1, 1, 3, 2, 1, 4, 1, 1, 3, 0, 4, 1, 5, 4, 0, 1], device='cuda:0')\n",
            "tensor([4, 1, 0, 0, 4, 1, 1, 0, 0, 0, 1, 3, 0, 3, 2, 3], device='cuda:0')\n",
            "tensor([1, 1, 5, 1, 3, 1, 1, 3, 4, 3, 3, 1, 1, 3, 5, 0], device='cuda:0')\n",
            "tensor([4, 3, 1, 0, 0, 1, 4, 0, 5, 3, 1, 0, 1, 2, 0, 0], device='cuda:0')\n",
            "tensor([0, 0, 2, 5, 1, 0, 5, 0, 1, 4, 0, 1, 3, 0, 0, 1], device='cuda:0')\n",
            "tensor([1, 1, 1, 0, 4, 0, 1, 2, 1, 3, 4, 3, 1, 2, 0, 3], device='cuda:0')\n",
            "tensor([5, 3, 1, 3, 4, 3, 0, 0, 4, 1, 1, 1, 4, 1, 0, 1], device='cuda:0')\n",
            "tensor([3, 1, 3, 2, 0, 1, 2, 4, 0, 1, 1, 1, 2, 5, 0, 3], device='cuda:0')\n",
            "tensor([0, 2, 0, 4, 1, 1, 3, 4, 1, 1, 1, 2, 0, 1, 0, 1], device='cuda:0')\n",
            "tensor([3, 0, 0, 2, 0, 1, 4, 0, 1, 1, 1, 3, 3, 2, 1, 0], device='cuda:0')\n",
            "tensor([2, 4, 3, 1, 1, 4, 1, 4, 4, 1, 1, 2, 4, 1, 3, 1], device='cuda:0')\n",
            "tensor([1, 1, 1, 0, 1, 0, 1, 2, 1, 0, 1, 2, 0, 1, 5, 1], device='cuda:0')\n",
            "tensor([4, 1, 0, 1, 3, 1, 1, 3, 1, 1, 4, 2, 0, 5, 0, 1], device='cuda:0')\n",
            "tensor([0, 0, 1, 4, 0, 0, 2, 4, 3, 3, 0, 3, 0, 3, 1, 0], device='cuda:0')\n",
            "tensor([1, 3, 3, 1, 1, 2, 3, 3, 1, 1, 5, 5, 1, 3, 0, 1], device='cuda:0')\n",
            "tensor([3, 0, 0, 4, 1, 5, 0, 1, 1, 3, 1, 2, 3, 0, 0, 5], device='cuda:0')\n",
            "tensor([0, 1, 0, 2, 1, 1, 0, 1, 1, 1, 1, 2, 3, 0, 2, 3], device='cuda:0')\n",
            "tensor([3, 5, 0, 1, 1, 0, 1, 1, 1, 3, 1, 0, 0, 3, 0, 1], device='cuda:0')\n",
            "tensor([4, 1, 2, 1, 0, 4, 2, 2, 1, 3, 1, 1, 1, 1, 0, 1], device='cuda:0')\n",
            "tensor([3, 2, 4, 0, 0, 0, 1, 0, 1, 1, 2, 4, 0, 1, 1, 1], device='cuda:0')\n",
            "tensor([1, 1, 4, 3, 3, 1, 0, 1, 1, 1, 2, 4, 0, 3, 5, 1], device='cuda:0')\n",
            "tensor([3, 0, 3, 1, 1, 1, 3, 0, 4, 4, 1, 1, 4, 1, 1, 4], device='cuda:0')\n",
            "tensor([1, 0, 2, 3, 5, 1, 4, 1, 3, 3, 4, 4, 1, 4, 2, 1], device='cuda:0')\n",
            "tensor([1, 3, 1, 1, 1, 0, 1, 0, 1, 3, 1, 0, 3, 0, 4, 1], device='cuda:0')\n",
            "tensor([4, 1, 1, 3, 1, 3, 1, 0, 0, 4, 0, 1, 0, 1, 2, 4], device='cuda:0')\n",
            "tensor([1, 1, 1, 1, 2, 1, 0, 4, 0, 1, 2, 1, 0, 3, 1, 0], device='cuda:0')\n",
            "tensor([5, 0, 2, 0, 4, 1, 1, 0, 2, 3, 3, 1, 4, 4, 1, 1], device='cuda:0')\n",
            "tensor([4, 0, 4, 3, 0, 1, 0, 0, 1, 4, 0, 0, 0, 3, 1, 0], device='cuda:0')\n",
            "tensor([3, 2, 0, 4, 2, 4, 1, 3, 1, 0, 0, 4, 0, 0, 1, 5], device='cuda:0')\n",
            "tensor([0, 0, 5, 0, 1, 1, 1, 1, 2, 0, 0, 1, 5, 0, 0, 1], device='cuda:0')\n",
            "tensor([1, 3, 1, 0, 1, 1, 2, 2, 0, 3, 4, 0, 0, 1, 1, 4], device='cuda:0')\n",
            "tensor([3, 4, 4, 0, 0, 3, 0, 4, 3, 0, 0, 0, 1, 3, 5, 0], device='cuda:0')\n",
            "tensor([0, 0, 1, 1, 0, 3, 0, 0, 3, 5, 0, 1, 3, 4, 0, 1], device='cuda:0')\n",
            "tensor([2, 4, 5, 3, 1, 5, 1, 1, 0, 5, 4, 0, 2, 0, 1, 1], device='cuda:0')\n",
            "tensor([0, 1, 4, 0, 1, 1, 1, 3, 1, 2, 0, 0, 1, 3, 0, 0], device='cuda:0')\n",
            "tensor([2, 4, 0, 0, 0, 0, 0, 1, 5, 5, 0, 1, 3, 1, 3, 1], device='cuda:0')\n",
            "tensor([5, 3, 1, 1, 4, 1, 0, 1, 3, 4, 0, 0, 4, 0, 1, 4], device='cuda:0')\n",
            "tensor([1, 2, 0, 3, 3, 4, 1, 3, 0, 0, 2, 2, 0, 3, 1, 4], device='cuda:0')\n",
            "tensor([1, 5, 4, 2, 2, 0, 1, 0, 1, 2, 0, 1, 5, 1, 1, 3], device='cuda:0')\n",
            "tensor([2, 1, 0, 1, 4, 0, 0, 4, 1, 4, 2, 1, 1, 2, 0, 0], device='cuda:0')\n",
            "tensor([1, 2, 0, 1, 1, 4, 0, 3, 0, 2, 0, 5, 1, 1, 0, 0], device='cuda:0')\n",
            "tensor([1, 0, 1, 1, 1, 4, 1, 4, 0, 1, 1, 0, 0, 0, 3, 4], device='cuda:0')\n",
            "tensor([2, 1, 1, 1, 1, 4, 3, 5, 0, 0, 3, 4, 4, 0, 1, 1], device='cuda:0')\n",
            "tensor([4, 0, 0, 1, 4, 1, 1, 2, 3, 1, 0, 0, 5, 1, 5, 1], device='cuda:0')\n",
            "tensor([4, 0, 0, 2, 2, 1, 4, 3, 1, 1, 1, 1, 1, 0, 1, 0], device='cuda:0')\n",
            "tensor([0, 0, 1, 1, 2, 0, 3, 0, 1, 1, 2, 0, 1, 4, 3, 3], device='cuda:0')\n",
            "tensor([0, 3, 1, 1, 2, 4, 4, 0, 5, 3, 3, 0, 1, 1, 1, 1], device='cuda:0')\n"
          ]
        }
      ]
    },
    {
      "cell_type": "markdown",
      "source": [
        "Finally, we create a DataFrame with the texts, losses, and the predicted/true labels."
      ],
      "metadata": {
        "id": "6dik4CKXii9N"
      }
    },
    {
      "cell_type": "code",
      "source": [
        "emotions_encoded.set_format(\"pandas\")\n",
        "cols = [\"text\", \"label\", \"predicted_label\", \"loss\"]\n",
        "df_test = emotions_encoded[\"validation\"][:][cols]\n",
        "df_test[\"label\"] = df_test[\"label\"].apply(label_int2str, split=\"test\")\n",
        "df_test[\"predicted_label\"] = (df_test[\"predicted_label\"].apply(label_int2str, split=\"test\"))"
      ],
      "metadata": {
        "id": "nFSXhQlXjmK2"
      },
      "execution_count": null,
      "outputs": []
    },
    {
      "cell_type": "code",
      "source": [
        "df_test.head()"
      ],
      "metadata": {
        "id": "2qmqy77imHMm",
        "outputId": "93171d2f-08b7-414a-9870-0faf4e9345b4",
        "colab": {
          "base_uri": "https://localhost:8080/",
          "height": 206
        }
      },
      "execution_count": null,
      "outputs": [
        {
          "output_type": "execute_result",
          "data": {
            "text/html": [
              "\n",
              "  <div id=\"df-b496d5d5-9fac-4544-a53c-c3673f3d4726\">\n",
              "    <div class=\"colab-df-container\">\n",
              "      <div>\n",
              "<style scoped>\n",
              "    .dataframe tbody tr th:only-of-type {\n",
              "        vertical-align: middle;\n",
              "    }\n",
              "\n",
              "    .dataframe tbody tr th {\n",
              "        vertical-align: top;\n",
              "    }\n",
              "\n",
              "    .dataframe thead th {\n",
              "        text-align: right;\n",
              "    }\n",
              "</style>\n",
              "<table border=\"1\" class=\"dataframe\">\n",
              "  <thead>\n",
              "    <tr style=\"text-align: right;\">\n",
              "      <th></th>\n",
              "      <th>text</th>\n",
              "      <th>label</th>\n",
              "      <th>predicted_label</th>\n",
              "      <th>loss</th>\n",
              "    </tr>\n",
              "  </thead>\n",
              "  <tbody>\n",
              "    <tr>\n",
              "      <th>0</th>\n",
              "      <td>im feeling quite sad and sorry for myself but ...</td>\n",
              "      <td>sadness</td>\n",
              "      <td>sadness</td>\n",
              "      <td>0.021769</td>\n",
              "    </tr>\n",
              "    <tr>\n",
              "      <th>1</th>\n",
              "      <td>i feel like i am still looking at a blank canv...</td>\n",
              "      <td>sadness</td>\n",
              "      <td>sadness</td>\n",
              "      <td>0.021934</td>\n",
              "    </tr>\n",
              "    <tr>\n",
              "      <th>2</th>\n",
              "      <td>i feel like a faithful servant</td>\n",
              "      <td>love</td>\n",
              "      <td>love</td>\n",
              "      <td>0.428474</td>\n",
              "    </tr>\n",
              "    <tr>\n",
              "      <th>3</th>\n",
              "      <td>i am just feeling cranky and blue</td>\n",
              "      <td>anger</td>\n",
              "      <td>anger</td>\n",
              "      <td>0.029345</td>\n",
              "    </tr>\n",
              "    <tr>\n",
              "      <th>4</th>\n",
              "      <td>i can have for a treat or if i am feeling festive</td>\n",
              "      <td>joy</td>\n",
              "      <td>joy</td>\n",
              "      <td>0.022436</td>\n",
              "    </tr>\n",
              "  </tbody>\n",
              "</table>\n",
              "</div>\n",
              "      <button class=\"colab-df-convert\" onclick=\"convertToInteractive('df-b496d5d5-9fac-4544-a53c-c3673f3d4726')\"\n",
              "              title=\"Convert this dataframe to an interactive table.\"\n",
              "              style=\"display:none;\">\n",
              "        \n",
              "  <svg xmlns=\"http://www.w3.org/2000/svg\" height=\"24px\"viewBox=\"0 0 24 24\"\n",
              "       width=\"24px\">\n",
              "    <path d=\"M0 0h24v24H0V0z\" fill=\"none\"/>\n",
              "    <path d=\"M18.56 5.44l.94 2.06.94-2.06 2.06-.94-2.06-.94-.94-2.06-.94 2.06-2.06.94zm-11 1L8.5 8.5l.94-2.06 2.06-.94-2.06-.94L8.5 2.5l-.94 2.06-2.06.94zm10 10l.94 2.06.94-2.06 2.06-.94-2.06-.94-.94-2.06-.94 2.06-2.06.94z\"/><path d=\"M17.41 7.96l-1.37-1.37c-.4-.4-.92-.59-1.43-.59-.52 0-1.04.2-1.43.59L10.3 9.45l-7.72 7.72c-.78.78-.78 2.05 0 2.83L4 21.41c.39.39.9.59 1.41.59.51 0 1.02-.2 1.41-.59l7.78-7.78 2.81-2.81c.8-.78.8-2.07 0-2.86zM5.41 20L4 18.59l7.72-7.72 1.47 1.35L5.41 20z\"/>\n",
              "  </svg>\n",
              "      </button>\n",
              "      \n",
              "  <style>\n",
              "    .colab-df-container {\n",
              "      display:flex;\n",
              "      flex-wrap:wrap;\n",
              "      gap: 12px;\n",
              "    }\n",
              "\n",
              "    .colab-df-convert {\n",
              "      background-color: #E8F0FE;\n",
              "      border: none;\n",
              "      border-radius: 50%;\n",
              "      cursor: pointer;\n",
              "      display: none;\n",
              "      fill: #1967D2;\n",
              "      height: 32px;\n",
              "      padding: 0 0 0 0;\n",
              "      width: 32px;\n",
              "    }\n",
              "\n",
              "    .colab-df-convert:hover {\n",
              "      background-color: #E2EBFA;\n",
              "      box-shadow: 0px 1px 2px rgba(60, 64, 67, 0.3), 0px 1px 3px 1px rgba(60, 64, 67, 0.15);\n",
              "      fill: #174EA6;\n",
              "    }\n",
              "\n",
              "    [theme=dark] .colab-df-convert {\n",
              "      background-color: #3B4455;\n",
              "      fill: #D2E3FC;\n",
              "    }\n",
              "\n",
              "    [theme=dark] .colab-df-convert:hover {\n",
              "      background-color: #434B5C;\n",
              "      box-shadow: 0px 1px 3px 1px rgba(0, 0, 0, 0.15);\n",
              "      filter: drop-shadow(0px 1px 2px rgba(0, 0, 0, 0.3));\n",
              "      fill: #FFFFFF;\n",
              "    }\n",
              "  </style>\n",
              "\n",
              "      <script>\n",
              "        const buttonEl =\n",
              "          document.querySelector('#df-b496d5d5-9fac-4544-a53c-c3673f3d4726 button.colab-df-convert');\n",
              "        buttonEl.style.display =\n",
              "          google.colab.kernel.accessAllowed ? 'block' : 'none';\n",
              "\n",
              "        async function convertToInteractive(key) {\n",
              "          const element = document.querySelector('#df-b496d5d5-9fac-4544-a53c-c3673f3d4726');\n",
              "          const dataTable =\n",
              "            await google.colab.kernel.invokeFunction('convertToInteractive',\n",
              "                                                     [key], {});\n",
              "          if (!dataTable) return;\n",
              "\n",
              "          const docLinkHtml = 'Like what you see? Visit the ' +\n",
              "            '<a target=\"_blank\" href=https://colab.research.google.com/notebooks/data_table.ipynb>data table notebook</a>'\n",
              "            + ' to learn more about interactive tables.';\n",
              "          element.innerHTML = '';\n",
              "          dataTable['output_type'] = 'display_data';\n",
              "          await google.colab.output.renderOutput(dataTable, element);\n",
              "          const docLink = document.createElement('div');\n",
              "          docLink.innerHTML = docLinkHtml;\n",
              "          element.appendChild(docLink);\n",
              "        }\n",
              "      </script>\n",
              "    </div>\n",
              "  </div>\n",
              "  "
            ],
            "text/plain": [
              "                                                text  ...      loss\n",
              "0  im feeling quite sad and sorry for myself but ...  ...  0.021769\n",
              "1  i feel like i am still looking at a blank canv...  ...  0.021934\n",
              "2                     i feel like a faithful servant  ...  0.428474\n",
              "3                  i am just feeling cranky and blue  ...  0.029345\n",
              "4  i can have for a treat or if i am feeling festive  ...  0.022436\n",
              "\n",
              "[5 rows x 4 columns]"
            ]
          },
          "metadata": {},
          "execution_count": 101
        }
      ]
    },
    {
      "cell_type": "markdown",
      "source": [
        "We can now easily sort the DataFrame by the losses in either ascending or descending order."
      ],
      "metadata": {
        "id": "VGcyQUMRl-80"
      }
    },
    {
      "cell_type": "code",
      "source": [
        "df_test.sort_values(by=[\"loss\"], ascending=False).head(10)"
      ],
      "metadata": {
        "id": "OTLwegMXlr_J",
        "outputId": "6083ea44-6dfb-4f32-cc71-9481c0a54a87",
        "colab": {
          "base_uri": "https://localhost:8080/",
          "height": 363
        }
      },
      "execution_count": null,
      "outputs": [
        {
          "output_type": "execute_result",
          "data": {
            "text/html": [
              "\n",
              "  <div id=\"df-1ca5f04b-4eec-44e5-95a7-765e98b89077\">\n",
              "    <div class=\"colab-df-container\">\n",
              "      <div>\n",
              "<style scoped>\n",
              "    .dataframe tbody tr th:only-of-type {\n",
              "        vertical-align: middle;\n",
              "    }\n",
              "\n",
              "    .dataframe tbody tr th {\n",
              "        vertical-align: top;\n",
              "    }\n",
              "\n",
              "    .dataframe thead th {\n",
              "        text-align: right;\n",
              "    }\n",
              "</style>\n",
              "<table border=\"1\" class=\"dataframe\">\n",
              "  <thead>\n",
              "    <tr style=\"text-align: right;\">\n",
              "      <th></th>\n",
              "      <th>text</th>\n",
              "      <th>label</th>\n",
              "      <th>predicted_label</th>\n",
              "      <th>loss</th>\n",
              "    </tr>\n",
              "  </thead>\n",
              "  <tbody>\n",
              "    <tr>\n",
              "      <th>882</th>\n",
              "      <td>i feel badly about reneging on my commitment t...</td>\n",
              "      <td>love</td>\n",
              "      <td>sadness</td>\n",
              "      <td>5.655755</td>\n",
              "    </tr>\n",
              "    <tr>\n",
              "      <th>1500</th>\n",
              "      <td>i guess we would naturally feel a sense of lon...</td>\n",
              "      <td>anger</td>\n",
              "      <td>sadness</td>\n",
              "      <td>5.384926</td>\n",
              "    </tr>\n",
              "    <tr>\n",
              "      <th>318</th>\n",
              "      <td>i felt ashamed of these feelings and was scare...</td>\n",
              "      <td>fear</td>\n",
              "      <td>sadness</td>\n",
              "      <td>5.326014</td>\n",
              "    </tr>\n",
              "    <tr>\n",
              "      <th>1963</th>\n",
              "      <td>i called myself pro life and voted for perry w...</td>\n",
              "      <td>joy</td>\n",
              "      <td>sadness</td>\n",
              "      <td>5.279847</td>\n",
              "    </tr>\n",
              "    <tr>\n",
              "      <th>1950</th>\n",
              "      <td>i as representative of everything thats wrong ...</td>\n",
              "      <td>surprise</td>\n",
              "      <td>sadness</td>\n",
              "      <td>4.977571</td>\n",
              "    </tr>\n",
              "    <tr>\n",
              "      <th>1870</th>\n",
              "      <td>i guess i feel betrayed because i admired him ...</td>\n",
              "      <td>joy</td>\n",
              "      <td>sadness</td>\n",
              "      <td>4.878881</td>\n",
              "    </tr>\n",
              "    <tr>\n",
              "      <th>1801</th>\n",
              "      <td>i feel that he was being overshadowed by the s...</td>\n",
              "      <td>love</td>\n",
              "      <td>sadness</td>\n",
              "      <td>4.834704</td>\n",
              "    </tr>\n",
              "    <tr>\n",
              "      <th>1111</th>\n",
              "      <td>im lazy my characters fall into categories of ...</td>\n",
              "      <td>joy</td>\n",
              "      <td>fear</td>\n",
              "      <td>4.702950</td>\n",
              "    </tr>\n",
              "    <tr>\n",
              "      <th>1509</th>\n",
              "      <td>i guess this is a memoir so it feels like that...</td>\n",
              "      <td>joy</td>\n",
              "      <td>fear</td>\n",
              "      <td>4.630934</td>\n",
              "    </tr>\n",
              "    <tr>\n",
              "      <th>1274</th>\n",
              "      <td>i am going to several holiday parties and i ca...</td>\n",
              "      <td>joy</td>\n",
              "      <td>sadness</td>\n",
              "      <td>4.506275</td>\n",
              "    </tr>\n",
              "  </tbody>\n",
              "</table>\n",
              "</div>\n",
              "      <button class=\"colab-df-convert\" onclick=\"convertToInteractive('df-1ca5f04b-4eec-44e5-95a7-765e98b89077')\"\n",
              "              title=\"Convert this dataframe to an interactive table.\"\n",
              "              style=\"display:none;\">\n",
              "        \n",
              "  <svg xmlns=\"http://www.w3.org/2000/svg\" height=\"24px\"viewBox=\"0 0 24 24\"\n",
              "       width=\"24px\">\n",
              "    <path d=\"M0 0h24v24H0V0z\" fill=\"none\"/>\n",
              "    <path d=\"M18.56 5.44l.94 2.06.94-2.06 2.06-.94-2.06-.94-.94-2.06-.94 2.06-2.06.94zm-11 1L8.5 8.5l.94-2.06 2.06-.94-2.06-.94L8.5 2.5l-.94 2.06-2.06.94zm10 10l.94 2.06.94-2.06 2.06-.94-2.06-.94-.94-2.06-.94 2.06-2.06.94z\"/><path d=\"M17.41 7.96l-1.37-1.37c-.4-.4-.92-.59-1.43-.59-.52 0-1.04.2-1.43.59L10.3 9.45l-7.72 7.72c-.78.78-.78 2.05 0 2.83L4 21.41c.39.39.9.59 1.41.59.51 0 1.02-.2 1.41-.59l7.78-7.78 2.81-2.81c.8-.78.8-2.07 0-2.86zM5.41 20L4 18.59l7.72-7.72 1.47 1.35L5.41 20z\"/>\n",
              "  </svg>\n",
              "      </button>\n",
              "      \n",
              "  <style>\n",
              "    .colab-df-container {\n",
              "      display:flex;\n",
              "      flex-wrap:wrap;\n",
              "      gap: 12px;\n",
              "    }\n",
              "\n",
              "    .colab-df-convert {\n",
              "      background-color: #E8F0FE;\n",
              "      border: none;\n",
              "      border-radius: 50%;\n",
              "      cursor: pointer;\n",
              "      display: none;\n",
              "      fill: #1967D2;\n",
              "      height: 32px;\n",
              "      padding: 0 0 0 0;\n",
              "      width: 32px;\n",
              "    }\n",
              "\n",
              "    .colab-df-convert:hover {\n",
              "      background-color: #E2EBFA;\n",
              "      box-shadow: 0px 1px 2px rgba(60, 64, 67, 0.3), 0px 1px 3px 1px rgba(60, 64, 67, 0.15);\n",
              "      fill: #174EA6;\n",
              "    }\n",
              "\n",
              "    [theme=dark] .colab-df-convert {\n",
              "      background-color: #3B4455;\n",
              "      fill: #D2E3FC;\n",
              "    }\n",
              "\n",
              "    [theme=dark] .colab-df-convert:hover {\n",
              "      background-color: #434B5C;\n",
              "      box-shadow: 0px 1px 3px 1px rgba(0, 0, 0, 0.15);\n",
              "      filter: drop-shadow(0px 1px 2px rgba(0, 0, 0, 0.3));\n",
              "      fill: #FFFFFF;\n",
              "    }\n",
              "  </style>\n",
              "\n",
              "      <script>\n",
              "        const buttonEl =\n",
              "          document.querySelector('#df-1ca5f04b-4eec-44e5-95a7-765e98b89077 button.colab-df-convert');\n",
              "        buttonEl.style.display =\n",
              "          google.colab.kernel.accessAllowed ? 'block' : 'none';\n",
              "\n",
              "        async function convertToInteractive(key) {\n",
              "          const element = document.querySelector('#df-1ca5f04b-4eec-44e5-95a7-765e98b89077');\n",
              "          const dataTable =\n",
              "            await google.colab.kernel.invokeFunction('convertToInteractive',\n",
              "                                                     [key], {});\n",
              "          if (!dataTable) return;\n",
              "\n",
              "          const docLinkHtml = 'Like what you see? Visit the ' +\n",
              "            '<a target=\"_blank\" href=https://colab.research.google.com/notebooks/data_table.ipynb>data table notebook</a>'\n",
              "            + ' to learn more about interactive tables.';\n",
              "          element.innerHTML = '';\n",
              "          dataTable['output_type'] = 'display_data';\n",
              "          await google.colab.output.renderOutput(dataTable, element);\n",
              "          const docLink = document.createElement('div');\n",
              "          docLink.innerHTML = docLinkHtml;\n",
              "          element.appendChild(docLink);\n",
              "        }\n",
              "      </script>\n",
              "    </div>\n",
              "  </div>\n",
              "  "
            ],
            "text/plain": [
              "                                                   text  ...      loss\n",
              "882   i feel badly about reneging on my commitment t...  ...  5.655755\n",
              "1500  i guess we would naturally feel a sense of lon...  ...  5.384926\n",
              "318   i felt ashamed of these feelings and was scare...  ...  5.326014\n",
              "1963  i called myself pro life and voted for perry w...  ...  5.279847\n",
              "1950  i as representative of everything thats wrong ...  ...  4.977571\n",
              "1870  i guess i feel betrayed because i admired him ...  ...  4.878881\n",
              "1801  i feel that he was being overshadowed by the s...  ...  4.834704\n",
              "1111  im lazy my characters fall into categories of ...  ...  4.702950\n",
              "1509  i guess this is a memoir so it feels like that...  ...  4.630934\n",
              "1274  i am going to several holiday parties and i ca...  ...  4.506275\n",
              "\n",
              "[10 rows x 4 columns]"
            ]
          },
          "metadata": {},
          "execution_count": 105
        }
      ]
    },
    {
      "cell_type": "markdown",
      "source": [
        "We can clearly see that the model predicted some of the labels wrong. On the other hand it\n",
        "seems that there are quite a few examples with no clear class which might be either mislabelled\n",
        "or require an new class altogether. \n",
        "\n",
        "In particular, joy seems to be mislabelled several times. With\n",
        "this information we can refine the dataset which often can lead to as much or more performance\n",
        "gain as having more data or larger models!"
      ],
      "metadata": {
        "id": "iZasWdGTnXXp"
      }
    },
    {
      "cell_type": "code",
      "source": [
        "df_test.sort_values(by=[\"loss\"], ascending=True).head(10)"
      ],
      "metadata": {
        "id": "xYN8mbmPoAnQ",
        "outputId": "c19a2108-eb03-4015-93c3-70f5ed0afcfc",
        "colab": {
          "base_uri": "https://localhost:8080/",
          "height": 363
        }
      },
      "execution_count": null,
      "outputs": [
        {
          "output_type": "execute_result",
          "data": {
            "text/html": [
              "\n",
              "  <div id=\"df-cd09332d-26dc-4f21-babb-facc74e8e78f\">\n",
              "    <div class=\"colab-df-container\">\n",
              "      <div>\n",
              "<style scoped>\n",
              "    .dataframe tbody tr th:only-of-type {\n",
              "        vertical-align: middle;\n",
              "    }\n",
              "\n",
              "    .dataframe tbody tr th {\n",
              "        vertical-align: top;\n",
              "    }\n",
              "\n",
              "    .dataframe thead th {\n",
              "        text-align: right;\n",
              "    }\n",
              "</style>\n",
              "<table border=\"1\" class=\"dataframe\">\n",
              "  <thead>\n",
              "    <tr style=\"text-align: right;\">\n",
              "      <th></th>\n",
              "      <th>text</th>\n",
              "      <th>label</th>\n",
              "      <th>predicted_label</th>\n",
              "      <th>loss</th>\n",
              "    </tr>\n",
              "  </thead>\n",
              "  <tbody>\n",
              "    <tr>\n",
              "      <th>1601</th>\n",
              "      <td>i feel so ungrateful when thinking saying thes...</td>\n",
              "      <td>sadness</td>\n",
              "      <td>sadness</td>\n",
              "      <td>0.016944</td>\n",
              "    </tr>\n",
              "    <tr>\n",
              "      <th>1466</th>\n",
              "      <td>i feel so ungrateful to be wishing this pregna...</td>\n",
              "      <td>sadness</td>\n",
              "      <td>sadness</td>\n",
              "      <td>0.017046</td>\n",
              "    </tr>\n",
              "    <tr>\n",
              "      <th>1502</th>\n",
              "      <td>i feel ungrateful for stupid shit like</td>\n",
              "      <td>sadness</td>\n",
              "      <td>sadness</td>\n",
              "      <td>0.017291</td>\n",
              "    </tr>\n",
              "    <tr>\n",
              "      <th>133</th>\n",
              "      <td>i and feel quite ungrateful for it but i m loo...</td>\n",
              "      <td>sadness</td>\n",
              "      <td>sadness</td>\n",
              "      <td>0.017595</td>\n",
              "    </tr>\n",
              "    <tr>\n",
              "      <th>1531</th>\n",
              "      <td>i forgive stanley hes not so quick to forgive ...</td>\n",
              "      <td>sadness</td>\n",
              "      <td>sadness</td>\n",
              "      <td>0.017609</td>\n",
              "    </tr>\n",
              "    <tr>\n",
              "      <th>1310</th>\n",
              "      <td>i feel like an ungrateful asshole</td>\n",
              "      <td>sadness</td>\n",
              "      <td>sadness</td>\n",
              "      <td>0.017713</td>\n",
              "    </tr>\n",
              "    <tr>\n",
              "      <th>21</th>\n",
              "      <td>i feel try to tell me im ungrateful tell me im...</td>\n",
              "      <td>sadness</td>\n",
              "      <td>sadness</td>\n",
              "      <td>0.017856</td>\n",
              "    </tr>\n",
              "    <tr>\n",
              "      <th>1861</th>\n",
              "      <td>im tired of feeling lethargic hating to work o...</td>\n",
              "      <td>sadness</td>\n",
              "      <td>sadness</td>\n",
              "      <td>0.018021</td>\n",
              "    </tr>\n",
              "    <tr>\n",
              "      <th>866</th>\n",
              "      <td>i feel quite jaded and unenthusiastic about li...</td>\n",
              "      <td>sadness</td>\n",
              "      <td>sadness</td>\n",
              "      <td>0.018029</td>\n",
              "    </tr>\n",
              "    <tr>\n",
              "      <th>76</th>\n",
              "      <td>i feel like im an unwelcome presence whenever ...</td>\n",
              "      <td>sadness</td>\n",
              "      <td>sadness</td>\n",
              "      <td>0.018094</td>\n",
              "    </tr>\n",
              "  </tbody>\n",
              "</table>\n",
              "</div>\n",
              "      <button class=\"colab-df-convert\" onclick=\"convertToInteractive('df-cd09332d-26dc-4f21-babb-facc74e8e78f')\"\n",
              "              title=\"Convert this dataframe to an interactive table.\"\n",
              "              style=\"display:none;\">\n",
              "        \n",
              "  <svg xmlns=\"http://www.w3.org/2000/svg\" height=\"24px\"viewBox=\"0 0 24 24\"\n",
              "       width=\"24px\">\n",
              "    <path d=\"M0 0h24v24H0V0z\" fill=\"none\"/>\n",
              "    <path d=\"M18.56 5.44l.94 2.06.94-2.06 2.06-.94-2.06-.94-.94-2.06-.94 2.06-2.06.94zm-11 1L8.5 8.5l.94-2.06 2.06-.94-2.06-.94L8.5 2.5l-.94 2.06-2.06.94zm10 10l.94 2.06.94-2.06 2.06-.94-2.06-.94-.94-2.06-.94 2.06-2.06.94z\"/><path d=\"M17.41 7.96l-1.37-1.37c-.4-.4-.92-.59-1.43-.59-.52 0-1.04.2-1.43.59L10.3 9.45l-7.72 7.72c-.78.78-.78 2.05 0 2.83L4 21.41c.39.39.9.59 1.41.59.51 0 1.02-.2 1.41-.59l7.78-7.78 2.81-2.81c.8-.78.8-2.07 0-2.86zM5.41 20L4 18.59l7.72-7.72 1.47 1.35L5.41 20z\"/>\n",
              "  </svg>\n",
              "      </button>\n",
              "      \n",
              "  <style>\n",
              "    .colab-df-container {\n",
              "      display:flex;\n",
              "      flex-wrap:wrap;\n",
              "      gap: 12px;\n",
              "    }\n",
              "\n",
              "    .colab-df-convert {\n",
              "      background-color: #E8F0FE;\n",
              "      border: none;\n",
              "      border-radius: 50%;\n",
              "      cursor: pointer;\n",
              "      display: none;\n",
              "      fill: #1967D2;\n",
              "      height: 32px;\n",
              "      padding: 0 0 0 0;\n",
              "      width: 32px;\n",
              "    }\n",
              "\n",
              "    .colab-df-convert:hover {\n",
              "      background-color: #E2EBFA;\n",
              "      box-shadow: 0px 1px 2px rgba(60, 64, 67, 0.3), 0px 1px 3px 1px rgba(60, 64, 67, 0.15);\n",
              "      fill: #174EA6;\n",
              "    }\n",
              "\n",
              "    [theme=dark] .colab-df-convert {\n",
              "      background-color: #3B4455;\n",
              "      fill: #D2E3FC;\n",
              "    }\n",
              "\n",
              "    [theme=dark] .colab-df-convert:hover {\n",
              "      background-color: #434B5C;\n",
              "      box-shadow: 0px 1px 3px 1px rgba(0, 0, 0, 0.15);\n",
              "      filter: drop-shadow(0px 1px 2px rgba(0, 0, 0, 0.3));\n",
              "      fill: #FFFFFF;\n",
              "    }\n",
              "  </style>\n",
              "\n",
              "      <script>\n",
              "        const buttonEl =\n",
              "          document.querySelector('#df-cd09332d-26dc-4f21-babb-facc74e8e78f button.colab-df-convert');\n",
              "        buttonEl.style.display =\n",
              "          google.colab.kernel.accessAllowed ? 'block' : 'none';\n",
              "\n",
              "        async function convertToInteractive(key) {\n",
              "          const element = document.querySelector('#df-cd09332d-26dc-4f21-babb-facc74e8e78f');\n",
              "          const dataTable =\n",
              "            await google.colab.kernel.invokeFunction('convertToInteractive',\n",
              "                                                     [key], {});\n",
              "          if (!dataTable) return;\n",
              "\n",
              "          const docLinkHtml = 'Like what you see? Visit the ' +\n",
              "            '<a target=\"_blank\" href=https://colab.research.google.com/notebooks/data_table.ipynb>data table notebook</a>'\n",
              "            + ' to learn more about interactive tables.';\n",
              "          element.innerHTML = '';\n",
              "          dataTable['output_type'] = 'display_data';\n",
              "          await google.colab.output.renderOutput(dataTable, element);\n",
              "          const docLink = document.createElement('div');\n",
              "          docLink.innerHTML = docLinkHtml;\n",
              "          element.appendChild(docLink);\n",
              "        }\n",
              "      </script>\n",
              "    </div>\n",
              "  </div>\n",
              "  "
            ],
            "text/plain": [
              "                                                   text  ...      loss\n",
              "1601  i feel so ungrateful when thinking saying thes...  ...  0.016944\n",
              "1466  i feel so ungrateful to be wishing this pregna...  ...  0.017046\n",
              "1502             i feel ungrateful for stupid shit like  ...  0.017291\n",
              "133   i and feel quite ungrateful for it but i m loo...  ...  0.017595\n",
              "1531  i forgive stanley hes not so quick to forgive ...  ...  0.017609\n",
              "1310                  i feel like an ungrateful asshole  ...  0.017713\n",
              "21    i feel try to tell me im ungrateful tell me im...  ...  0.017856\n",
              "1861  im tired of feeling lethargic hating to work o...  ...  0.018021\n",
              "866   i feel quite jaded and unenthusiastic about li...  ...  0.018029\n",
              "76    i feel like im an unwelcome presence whenever ...  ...  0.018094\n",
              "\n",
              "[10 rows x 4 columns]"
            ]
          },
          "metadata": {},
          "execution_count": 108
        }
      ]
    },
    {
      "cell_type": "markdown",
      "source": [
        "We now know that the joy is sometimes mislabelled and that the model is most confident about\n",
        "giving the label sadness. With this information we can make targeted improvements to our dataset and also keep an eye on the class the model seems to be very confident about."
      ],
      "metadata": {
        "id": "KU7TcAlgoQDJ"
      }
    },
    {
      "cell_type": "code",
      "source": [
        "df_test.sort_values(by=[\"label\"], ascending=True).head(10)"
      ],
      "metadata": {
        "id": "z7C2UkF8mkOH",
        "outputId": "c5953b29-6792-4881-96a3-99dfd9772f18",
        "colab": {
          "base_uri": "https://localhost:8080/",
          "height": 363
        }
      },
      "execution_count": null,
      "outputs": [
        {
          "output_type": "execute_result",
          "data": {
            "text/html": [
              "\n",
              "  <div id=\"df-31feddeb-c79e-4f6b-9fc3-7714828d67be\">\n",
              "    <div class=\"colab-df-container\">\n",
              "      <div>\n",
              "<style scoped>\n",
              "    .dataframe tbody tr th:only-of-type {\n",
              "        vertical-align: middle;\n",
              "    }\n",
              "\n",
              "    .dataframe tbody tr th {\n",
              "        vertical-align: top;\n",
              "    }\n",
              "\n",
              "    .dataframe thead th {\n",
              "        text-align: right;\n",
              "    }\n",
              "</style>\n",
              "<table border=\"1\" class=\"dataframe\">\n",
              "  <thead>\n",
              "    <tr style=\"text-align: right;\">\n",
              "      <th></th>\n",
              "      <th>text</th>\n",
              "      <th>label</th>\n",
              "      <th>predicted_label</th>\n",
              "      <th>loss</th>\n",
              "    </tr>\n",
              "  </thead>\n",
              "  <tbody>\n",
              "    <tr>\n",
              "      <th>1447</th>\n",
              "      <td>i feeling so agitated right now</td>\n",
              "      <td>anger</td>\n",
              "      <td>anger</td>\n",
              "      <td>0.688883</td>\n",
              "    </tr>\n",
              "    <tr>\n",
              "      <th>1290</th>\n",
              "      <td>ive spent the last several days feeling irrita...</td>\n",
              "      <td>anger</td>\n",
              "      <td>anger</td>\n",
              "      <td>0.029656</td>\n",
              "    </tr>\n",
              "    <tr>\n",
              "      <th>1289</th>\n",
              "      <td>im feeling very distracted today</td>\n",
              "      <td>anger</td>\n",
              "      <td>anger</td>\n",
              "      <td>0.053064</td>\n",
              "    </tr>\n",
              "    <tr>\n",
              "      <th>1287</th>\n",
              "      <td>i feel resentful in that i sacrificed alot for...</td>\n",
              "      <td>anger</td>\n",
              "      <td>anger</td>\n",
              "      <td>0.030770</td>\n",
              "    </tr>\n",
              "    <tr>\n",
              "      <th>1284</th>\n",
              "      <td>i look in my wallet and i feel a cold chill</td>\n",
              "      <td>anger</td>\n",
              "      <td>anger</td>\n",
              "      <td>0.051482</td>\n",
              "    </tr>\n",
              "    <tr>\n",
              "      <th>1279</th>\n",
              "      <td>i am feeling so violent i just fucking shudder...</td>\n",
              "      <td>anger</td>\n",
              "      <td>anger</td>\n",
              "      <td>0.035331</td>\n",
              "    </tr>\n",
              "    <tr>\n",
              "      <th>234</th>\n",
              "      <td>im feeling less grumpy after that</td>\n",
              "      <td>anger</td>\n",
              "      <td>anger</td>\n",
              "      <td>0.031395</td>\n",
              "    </tr>\n",
              "    <tr>\n",
              "      <th>1277</th>\n",
              "      <td>i will just say that i feel jealous and angry</td>\n",
              "      <td>anger</td>\n",
              "      <td>anger</td>\n",
              "      <td>0.038462</td>\n",
              "    </tr>\n",
              "    <tr>\n",
              "      <th>1683</th>\n",
              "      <td>i had applied for a job and they had assured m...</td>\n",
              "      <td>anger</td>\n",
              "      <td>joy</td>\n",
              "      <td>3.749578</td>\n",
              "    </tr>\n",
              "    <tr>\n",
              "      <th>1275</th>\n",
              "      <td>i wake up every morning excited about breakfas...</td>\n",
              "      <td>anger</td>\n",
              "      <td>anger</td>\n",
              "      <td>0.037265</td>\n",
              "    </tr>\n",
              "  </tbody>\n",
              "</table>\n",
              "</div>\n",
              "      <button class=\"colab-df-convert\" onclick=\"convertToInteractive('df-31feddeb-c79e-4f6b-9fc3-7714828d67be')\"\n",
              "              title=\"Convert this dataframe to an interactive table.\"\n",
              "              style=\"display:none;\">\n",
              "        \n",
              "  <svg xmlns=\"http://www.w3.org/2000/svg\" height=\"24px\"viewBox=\"0 0 24 24\"\n",
              "       width=\"24px\">\n",
              "    <path d=\"M0 0h24v24H0V0z\" fill=\"none\"/>\n",
              "    <path d=\"M18.56 5.44l.94 2.06.94-2.06 2.06-.94-2.06-.94-.94-2.06-.94 2.06-2.06.94zm-11 1L8.5 8.5l.94-2.06 2.06-.94-2.06-.94L8.5 2.5l-.94 2.06-2.06.94zm10 10l.94 2.06.94-2.06 2.06-.94-2.06-.94-.94-2.06-.94 2.06-2.06.94z\"/><path d=\"M17.41 7.96l-1.37-1.37c-.4-.4-.92-.59-1.43-.59-.52 0-1.04.2-1.43.59L10.3 9.45l-7.72 7.72c-.78.78-.78 2.05 0 2.83L4 21.41c.39.39.9.59 1.41.59.51 0 1.02-.2 1.41-.59l7.78-7.78 2.81-2.81c.8-.78.8-2.07 0-2.86zM5.41 20L4 18.59l7.72-7.72 1.47 1.35L5.41 20z\"/>\n",
              "  </svg>\n",
              "      </button>\n",
              "      \n",
              "  <style>\n",
              "    .colab-df-container {\n",
              "      display:flex;\n",
              "      flex-wrap:wrap;\n",
              "      gap: 12px;\n",
              "    }\n",
              "\n",
              "    .colab-df-convert {\n",
              "      background-color: #E8F0FE;\n",
              "      border: none;\n",
              "      border-radius: 50%;\n",
              "      cursor: pointer;\n",
              "      display: none;\n",
              "      fill: #1967D2;\n",
              "      height: 32px;\n",
              "      padding: 0 0 0 0;\n",
              "      width: 32px;\n",
              "    }\n",
              "\n",
              "    .colab-df-convert:hover {\n",
              "      background-color: #E2EBFA;\n",
              "      box-shadow: 0px 1px 2px rgba(60, 64, 67, 0.3), 0px 1px 3px 1px rgba(60, 64, 67, 0.15);\n",
              "      fill: #174EA6;\n",
              "    }\n",
              "\n",
              "    [theme=dark] .colab-df-convert {\n",
              "      background-color: #3B4455;\n",
              "      fill: #D2E3FC;\n",
              "    }\n",
              "\n",
              "    [theme=dark] .colab-df-convert:hover {\n",
              "      background-color: #434B5C;\n",
              "      box-shadow: 0px 1px 3px 1px rgba(0, 0, 0, 0.15);\n",
              "      filter: drop-shadow(0px 1px 2px rgba(0, 0, 0, 0.3));\n",
              "      fill: #FFFFFF;\n",
              "    }\n",
              "  </style>\n",
              "\n",
              "      <script>\n",
              "        const buttonEl =\n",
              "          document.querySelector('#df-31feddeb-c79e-4f6b-9fc3-7714828d67be button.colab-df-convert');\n",
              "        buttonEl.style.display =\n",
              "          google.colab.kernel.accessAllowed ? 'block' : 'none';\n",
              "\n",
              "        async function convertToInteractive(key) {\n",
              "          const element = document.querySelector('#df-31feddeb-c79e-4f6b-9fc3-7714828d67be');\n",
              "          const dataTable =\n",
              "            await google.colab.kernel.invokeFunction('convertToInteractive',\n",
              "                                                     [key], {});\n",
              "          if (!dataTable) return;\n",
              "\n",
              "          const docLinkHtml = 'Like what you see? Visit the ' +\n",
              "            '<a target=\"_blank\" href=https://colab.research.google.com/notebooks/data_table.ipynb>data table notebook</a>'\n",
              "            + ' to learn more about interactive tables.';\n",
              "          element.innerHTML = '';\n",
              "          dataTable['output_type'] = 'display_data';\n",
              "          await google.colab.output.renderOutput(dataTable, element);\n",
              "          const docLink = document.createElement('div');\n",
              "          docLink.innerHTML = docLinkHtml;\n",
              "          element.appendChild(docLink);\n",
              "        }\n",
              "      </script>\n",
              "    </div>\n",
              "  </div>\n",
              "  "
            ],
            "text/plain": [
              "                                                   text  ...      loss\n",
              "1447                    i feeling so agitated right now  ...  0.688883\n",
              "1290  ive spent the last several days feeling irrita...  ...  0.029656\n",
              "1289                   im feeling very distracted today  ...  0.053064\n",
              "1287  i feel resentful in that i sacrificed alot for...  ...  0.030770\n",
              "1284        i look in my wallet and i feel a cold chill  ...  0.051482\n",
              "1279  i am feeling so violent i just fucking shudder...  ...  0.035331\n",
              "234                   im feeling less grumpy after that  ...  0.031395\n",
              "1277      i will just say that i feel jealous and angry  ...  0.038462\n",
              "1683  i had applied for a job and they had assured m...  ...  3.749578\n",
              "1275  i wake up every morning excited about breakfas...  ...  0.037265\n",
              "\n",
              "[10 rows x 4 columns]"
            ]
          },
          "metadata": {},
          "execution_count": 107
        }
      ]
    },
    {
      "cell_type": "code",
      "source": [
        "# selecting the true and pred mismatch labels\n",
        "true_pred_labels_mismatch = df_test[df_test[\"label\"] != df_test[\"predicted_label\"]]"
      ],
      "metadata": {
        "id": "8EKQCsnnqcji"
      },
      "execution_count": null,
      "outputs": []
    },
    {
      "cell_type": "code",
      "source": [
        "true_pred_labels_mismatch"
      ],
      "metadata": {
        "id": "EAEmY5Guq_1Y",
        "outputId": "13137cdb-fbad-496b-9449-7d9539e2488c",
        "colab": {
          "base_uri": "https://localhost:8080/",
          "height": 424
        }
      },
      "execution_count": null,
      "outputs": [
        {
          "output_type": "execute_result",
          "data": {
            "text/html": [
              "\n",
              "  <div id=\"df-3d4589ae-81c1-4a52-9d93-2904b286b2a4\">\n",
              "    <div class=\"colab-df-container\">\n",
              "      <div>\n",
              "<style scoped>\n",
              "    .dataframe tbody tr th:only-of-type {\n",
              "        vertical-align: middle;\n",
              "    }\n",
              "\n",
              "    .dataframe tbody tr th {\n",
              "        vertical-align: top;\n",
              "    }\n",
              "\n",
              "    .dataframe thead th {\n",
              "        text-align: right;\n",
              "    }\n",
              "</style>\n",
              "<table border=\"1\" class=\"dataframe\">\n",
              "  <thead>\n",
              "    <tr style=\"text-align: right;\">\n",
              "      <th></th>\n",
              "      <th>text</th>\n",
              "      <th>label</th>\n",
              "      <th>predicted_label</th>\n",
              "      <th>loss</th>\n",
              "    </tr>\n",
              "  </thead>\n",
              "  <tbody>\n",
              "    <tr>\n",
              "      <th>17</th>\n",
              "      <td>i know what it feels like he stressed glaring ...</td>\n",
              "      <td>anger</td>\n",
              "      <td>sadness</td>\n",
              "      <td>1.198635</td>\n",
              "    </tr>\n",
              "    <tr>\n",
              "      <th>27</th>\n",
              "      <td>i feel as if i am the beloved preparing hersel...</td>\n",
              "      <td>joy</td>\n",
              "      <td>love</td>\n",
              "      <td>1.772280</td>\n",
              "    </tr>\n",
              "    <tr>\n",
              "      <th>35</th>\n",
              "      <td>i am feeling very blessed today that they shar...</td>\n",
              "      <td>joy</td>\n",
              "      <td>love</td>\n",
              "      <td>1.236907</td>\n",
              "    </tr>\n",
              "    <tr>\n",
              "      <th>55</th>\n",
              "      <td>i didn t feel accepted</td>\n",
              "      <td>joy</td>\n",
              "      <td>love</td>\n",
              "      <td>0.806654</td>\n",
              "    </tr>\n",
              "    <tr>\n",
              "      <th>72</th>\n",
              "      <td>i feel that this is important in itself the fa...</td>\n",
              "      <td>joy</td>\n",
              "      <td>sadness</td>\n",
              "      <td>1.316638</td>\n",
              "    </tr>\n",
              "    <tr>\n",
              "      <th>...</th>\n",
              "      <td>...</td>\n",
              "      <td>...</td>\n",
              "      <td>...</td>\n",
              "      <td>...</td>\n",
              "    </tr>\n",
              "    <tr>\n",
              "      <th>1963</th>\n",
              "      <td>i called myself pro life and voted for perry w...</td>\n",
              "      <td>joy</td>\n",
              "      <td>sadness</td>\n",
              "      <td>5.279847</td>\n",
              "    </tr>\n",
              "    <tr>\n",
              "      <th>1964</th>\n",
              "      <td>i feel vaguely cheated and a little amused</td>\n",
              "      <td>joy</td>\n",
              "      <td>anger</td>\n",
              "      <td>3.938705</td>\n",
              "    </tr>\n",
              "    <tr>\n",
              "      <th>1987</th>\n",
              "      <td>i feel im supposed to hate dams amp all the co...</td>\n",
              "      <td>joy</td>\n",
              "      <td>anger</td>\n",
              "      <td>1.259942</td>\n",
              "    </tr>\n",
              "    <tr>\n",
              "      <th>1993</th>\n",
              "      <td>i feel so tortured by it</td>\n",
              "      <td>anger</td>\n",
              "      <td>fear</td>\n",
              "      <td>0.855164</td>\n",
              "    </tr>\n",
              "    <tr>\n",
              "      <th>1998</th>\n",
              "      <td>i truly feel that if you are passionate enough...</td>\n",
              "      <td>joy</td>\n",
              "      <td>love</td>\n",
              "      <td>1.002115</td>\n",
              "    </tr>\n",
              "  </tbody>\n",
              "</table>\n",
              "<p>150 rows × 4 columns</p>\n",
              "</div>\n",
              "      <button class=\"colab-df-convert\" onclick=\"convertToInteractive('df-3d4589ae-81c1-4a52-9d93-2904b286b2a4')\"\n",
              "              title=\"Convert this dataframe to an interactive table.\"\n",
              "              style=\"display:none;\">\n",
              "        \n",
              "  <svg xmlns=\"http://www.w3.org/2000/svg\" height=\"24px\"viewBox=\"0 0 24 24\"\n",
              "       width=\"24px\">\n",
              "    <path d=\"M0 0h24v24H0V0z\" fill=\"none\"/>\n",
              "    <path d=\"M18.56 5.44l.94 2.06.94-2.06 2.06-.94-2.06-.94-.94-2.06-.94 2.06-2.06.94zm-11 1L8.5 8.5l.94-2.06 2.06-.94-2.06-.94L8.5 2.5l-.94 2.06-2.06.94zm10 10l.94 2.06.94-2.06 2.06-.94-2.06-.94-.94-2.06-.94 2.06-2.06.94z\"/><path d=\"M17.41 7.96l-1.37-1.37c-.4-.4-.92-.59-1.43-.59-.52 0-1.04.2-1.43.59L10.3 9.45l-7.72 7.72c-.78.78-.78 2.05 0 2.83L4 21.41c.39.39.9.59 1.41.59.51 0 1.02-.2 1.41-.59l7.78-7.78 2.81-2.81c.8-.78.8-2.07 0-2.86zM5.41 20L4 18.59l7.72-7.72 1.47 1.35L5.41 20z\"/>\n",
              "  </svg>\n",
              "      </button>\n",
              "      \n",
              "  <style>\n",
              "    .colab-df-container {\n",
              "      display:flex;\n",
              "      flex-wrap:wrap;\n",
              "      gap: 12px;\n",
              "    }\n",
              "\n",
              "    .colab-df-convert {\n",
              "      background-color: #E8F0FE;\n",
              "      border: none;\n",
              "      border-radius: 50%;\n",
              "      cursor: pointer;\n",
              "      display: none;\n",
              "      fill: #1967D2;\n",
              "      height: 32px;\n",
              "      padding: 0 0 0 0;\n",
              "      width: 32px;\n",
              "    }\n",
              "\n",
              "    .colab-df-convert:hover {\n",
              "      background-color: #E2EBFA;\n",
              "      box-shadow: 0px 1px 2px rgba(60, 64, 67, 0.3), 0px 1px 3px 1px rgba(60, 64, 67, 0.15);\n",
              "      fill: #174EA6;\n",
              "    }\n",
              "\n",
              "    [theme=dark] .colab-df-convert {\n",
              "      background-color: #3B4455;\n",
              "      fill: #D2E3FC;\n",
              "    }\n",
              "\n",
              "    [theme=dark] .colab-df-convert:hover {\n",
              "      background-color: #434B5C;\n",
              "      box-shadow: 0px 1px 3px 1px rgba(0, 0, 0, 0.15);\n",
              "      filter: drop-shadow(0px 1px 2px rgba(0, 0, 0, 0.3));\n",
              "      fill: #FFFFFF;\n",
              "    }\n",
              "  </style>\n",
              "\n",
              "      <script>\n",
              "        const buttonEl =\n",
              "          document.querySelector('#df-3d4589ae-81c1-4a52-9d93-2904b286b2a4 button.colab-df-convert');\n",
              "        buttonEl.style.display =\n",
              "          google.colab.kernel.accessAllowed ? 'block' : 'none';\n",
              "\n",
              "        async function convertToInteractive(key) {\n",
              "          const element = document.querySelector('#df-3d4589ae-81c1-4a52-9d93-2904b286b2a4');\n",
              "          const dataTable =\n",
              "            await google.colab.kernel.invokeFunction('convertToInteractive',\n",
              "                                                     [key], {});\n",
              "          if (!dataTable) return;\n",
              "\n",
              "          const docLinkHtml = 'Like what you see? Visit the ' +\n",
              "            '<a target=\"_blank\" href=https://colab.research.google.com/notebooks/data_table.ipynb>data table notebook</a>'\n",
              "            + ' to learn more about interactive tables.';\n",
              "          element.innerHTML = '';\n",
              "          dataTable['output_type'] = 'display_data';\n",
              "          await google.colab.output.renderOutput(dataTable, element);\n",
              "          const docLink = document.createElement('div');\n",
              "          docLink.innerHTML = docLinkHtml;\n",
              "          element.appendChild(docLink);\n",
              "        }\n",
              "      </script>\n",
              "    </div>\n",
              "  </div>\n",
              "  "
            ],
            "text/plain": [
              "                                                   text  ...      loss\n",
              "17    i know what it feels like he stressed glaring ...  ...  1.198635\n",
              "27    i feel as if i am the beloved preparing hersel...  ...  1.772280\n",
              "35    i am feeling very blessed today that they shar...  ...  1.236907\n",
              "55                               i didn t feel accepted  ...  0.806654\n",
              "72    i feel that this is important in itself the fa...  ...  1.316638\n",
              "...                                                 ...  ...       ...\n",
              "1963  i called myself pro life and voted for perry w...  ...  5.279847\n",
              "1964         i feel vaguely cheated and a little amused  ...  3.938705\n",
              "1987  i feel im supposed to hate dams amp all the co...  ...  1.259942\n",
              "1993                           i feel so tortured by it  ...  0.855164\n",
              "1998  i truly feel that if you are passionate enough...  ...  1.002115\n",
              "\n",
              "[150 rows x 4 columns]"
            ]
          },
          "metadata": {},
          "execution_count": 115
        }
      ]
    },
    {
      "cell_type": "code",
      "source": [
        "true_pred_labels_mismatch.shape"
      ],
      "metadata": {
        "id": "95Tc15P5roCy",
        "outputId": "92a1f0a2-49e9-4677-8482-143683dee916",
        "colab": {
          "base_uri": "https://localhost:8080/"
        }
      },
      "execution_count": null,
      "outputs": [
        {
          "output_type": "execute_result",
          "data": {
            "text/plain": [
              "(150, 4)"
            ]
          },
          "metadata": {},
          "execution_count": 116
        }
      ]
    },
    {
      "cell_type": "code",
      "source": [
        "len(true_pred_labels_mismatch)"
      ],
      "metadata": {
        "id": "yZiU_UFOsEq_",
        "outputId": "1d166c5b-a757-46ee-fd3c-9d31b3a7d3c7",
        "colab": {
          "base_uri": "https://localhost:8080/"
        }
      },
      "execution_count": null,
      "outputs": [
        {
          "output_type": "execute_result",
          "data": {
            "text/plain": [
              "150"
            ]
          },
          "metadata": {},
          "execution_count": 117
        }
      ]
    },
    {
      "cell_type": "markdown",
      "source": [
        "So, we have 150 samples that are misclassified."
      ],
      "metadata": {
        "id": "IpTD_cQosHQn"
      }
    },
    {
      "cell_type": "code",
      "source": [
        "# selecting the true and pred mismatch labels\n",
        "true_pred_labels_mismatch = df_test.loc[df_test[\"label\"] != df_test[\"predicted_label\"]]\n",
        "true_pred_labels_mismatch"
      ],
      "metadata": {
        "id": "b6wV8DuuwFRp",
        "outputId": "add2b1aa-175e-48a8-dd11-6d20903fd0cc",
        "colab": {
          "base_uri": "https://localhost:8080/",
          "height": 424
        }
      },
      "execution_count": null,
      "outputs": [
        {
          "output_type": "execute_result",
          "data": {
            "text/html": [
              "\n",
              "  <div id=\"df-8b24e539-f285-44b8-acbd-d382ef668362\">\n",
              "    <div class=\"colab-df-container\">\n",
              "      <div>\n",
              "<style scoped>\n",
              "    .dataframe tbody tr th:only-of-type {\n",
              "        vertical-align: middle;\n",
              "    }\n",
              "\n",
              "    .dataframe tbody tr th {\n",
              "        vertical-align: top;\n",
              "    }\n",
              "\n",
              "    .dataframe thead th {\n",
              "        text-align: right;\n",
              "    }\n",
              "</style>\n",
              "<table border=\"1\" class=\"dataframe\">\n",
              "  <thead>\n",
              "    <tr style=\"text-align: right;\">\n",
              "      <th></th>\n",
              "      <th>text</th>\n",
              "      <th>label</th>\n",
              "      <th>predicted_label</th>\n",
              "      <th>loss</th>\n",
              "    </tr>\n",
              "  </thead>\n",
              "  <tbody>\n",
              "    <tr>\n",
              "      <th>17</th>\n",
              "      <td>i know what it feels like he stressed glaring ...</td>\n",
              "      <td>anger</td>\n",
              "      <td>sadness</td>\n",
              "      <td>1.198635</td>\n",
              "    </tr>\n",
              "    <tr>\n",
              "      <th>27</th>\n",
              "      <td>i feel as if i am the beloved preparing hersel...</td>\n",
              "      <td>joy</td>\n",
              "      <td>love</td>\n",
              "      <td>1.772280</td>\n",
              "    </tr>\n",
              "    <tr>\n",
              "      <th>35</th>\n",
              "      <td>i am feeling very blessed today that they shar...</td>\n",
              "      <td>joy</td>\n",
              "      <td>love</td>\n",
              "      <td>1.236907</td>\n",
              "    </tr>\n",
              "    <tr>\n",
              "      <th>55</th>\n",
              "      <td>i didn t feel accepted</td>\n",
              "      <td>joy</td>\n",
              "      <td>love</td>\n",
              "      <td>0.806654</td>\n",
              "    </tr>\n",
              "    <tr>\n",
              "      <th>72</th>\n",
              "      <td>i feel that this is important in itself the fa...</td>\n",
              "      <td>joy</td>\n",
              "      <td>sadness</td>\n",
              "      <td>1.316638</td>\n",
              "    </tr>\n",
              "    <tr>\n",
              "      <th>...</th>\n",
              "      <td>...</td>\n",
              "      <td>...</td>\n",
              "      <td>...</td>\n",
              "      <td>...</td>\n",
              "    </tr>\n",
              "    <tr>\n",
              "      <th>1963</th>\n",
              "      <td>i called myself pro life and voted for perry w...</td>\n",
              "      <td>joy</td>\n",
              "      <td>sadness</td>\n",
              "      <td>5.279847</td>\n",
              "    </tr>\n",
              "    <tr>\n",
              "      <th>1964</th>\n",
              "      <td>i feel vaguely cheated and a little amused</td>\n",
              "      <td>joy</td>\n",
              "      <td>anger</td>\n",
              "      <td>3.938705</td>\n",
              "    </tr>\n",
              "    <tr>\n",
              "      <th>1987</th>\n",
              "      <td>i feel im supposed to hate dams amp all the co...</td>\n",
              "      <td>joy</td>\n",
              "      <td>anger</td>\n",
              "      <td>1.259942</td>\n",
              "    </tr>\n",
              "    <tr>\n",
              "      <th>1993</th>\n",
              "      <td>i feel so tortured by it</td>\n",
              "      <td>anger</td>\n",
              "      <td>fear</td>\n",
              "      <td>0.855164</td>\n",
              "    </tr>\n",
              "    <tr>\n",
              "      <th>1998</th>\n",
              "      <td>i truly feel that if you are passionate enough...</td>\n",
              "      <td>joy</td>\n",
              "      <td>love</td>\n",
              "      <td>1.002115</td>\n",
              "    </tr>\n",
              "  </tbody>\n",
              "</table>\n",
              "<p>150 rows × 4 columns</p>\n",
              "</div>\n",
              "      <button class=\"colab-df-convert\" onclick=\"convertToInteractive('df-8b24e539-f285-44b8-acbd-d382ef668362')\"\n",
              "              title=\"Convert this dataframe to an interactive table.\"\n",
              "              style=\"display:none;\">\n",
              "        \n",
              "  <svg xmlns=\"http://www.w3.org/2000/svg\" height=\"24px\"viewBox=\"0 0 24 24\"\n",
              "       width=\"24px\">\n",
              "    <path d=\"M0 0h24v24H0V0z\" fill=\"none\"/>\n",
              "    <path d=\"M18.56 5.44l.94 2.06.94-2.06 2.06-.94-2.06-.94-.94-2.06-.94 2.06-2.06.94zm-11 1L8.5 8.5l.94-2.06 2.06-.94-2.06-.94L8.5 2.5l-.94 2.06-2.06.94zm10 10l.94 2.06.94-2.06 2.06-.94-2.06-.94-.94-2.06-.94 2.06-2.06.94z\"/><path d=\"M17.41 7.96l-1.37-1.37c-.4-.4-.92-.59-1.43-.59-.52 0-1.04.2-1.43.59L10.3 9.45l-7.72 7.72c-.78.78-.78 2.05 0 2.83L4 21.41c.39.39.9.59 1.41.59.51 0 1.02-.2 1.41-.59l7.78-7.78 2.81-2.81c.8-.78.8-2.07 0-2.86zM5.41 20L4 18.59l7.72-7.72 1.47 1.35L5.41 20z\"/>\n",
              "  </svg>\n",
              "      </button>\n",
              "      \n",
              "  <style>\n",
              "    .colab-df-container {\n",
              "      display:flex;\n",
              "      flex-wrap:wrap;\n",
              "      gap: 12px;\n",
              "    }\n",
              "\n",
              "    .colab-df-convert {\n",
              "      background-color: #E8F0FE;\n",
              "      border: none;\n",
              "      border-radius: 50%;\n",
              "      cursor: pointer;\n",
              "      display: none;\n",
              "      fill: #1967D2;\n",
              "      height: 32px;\n",
              "      padding: 0 0 0 0;\n",
              "      width: 32px;\n",
              "    }\n",
              "\n",
              "    .colab-df-convert:hover {\n",
              "      background-color: #E2EBFA;\n",
              "      box-shadow: 0px 1px 2px rgba(60, 64, 67, 0.3), 0px 1px 3px 1px rgba(60, 64, 67, 0.15);\n",
              "      fill: #174EA6;\n",
              "    }\n",
              "\n",
              "    [theme=dark] .colab-df-convert {\n",
              "      background-color: #3B4455;\n",
              "      fill: #D2E3FC;\n",
              "    }\n",
              "\n",
              "    [theme=dark] .colab-df-convert:hover {\n",
              "      background-color: #434B5C;\n",
              "      box-shadow: 0px 1px 3px 1px rgba(0, 0, 0, 0.15);\n",
              "      filter: drop-shadow(0px 1px 2px rgba(0, 0, 0, 0.3));\n",
              "      fill: #FFFFFF;\n",
              "    }\n",
              "  </style>\n",
              "\n",
              "      <script>\n",
              "        const buttonEl =\n",
              "          document.querySelector('#df-8b24e539-f285-44b8-acbd-d382ef668362 button.colab-df-convert');\n",
              "        buttonEl.style.display =\n",
              "          google.colab.kernel.accessAllowed ? 'block' : 'none';\n",
              "\n",
              "        async function convertToInteractive(key) {\n",
              "          const element = document.querySelector('#df-8b24e539-f285-44b8-acbd-d382ef668362');\n",
              "          const dataTable =\n",
              "            await google.colab.kernel.invokeFunction('convertToInteractive',\n",
              "                                                     [key], {});\n",
              "          if (!dataTable) return;\n",
              "\n",
              "          const docLinkHtml = 'Like what you see? Visit the ' +\n",
              "            '<a target=\"_blank\" href=https://colab.research.google.com/notebooks/data_table.ipynb>data table notebook</a>'\n",
              "            + ' to learn more about interactive tables.';\n",
              "          element.innerHTML = '';\n",
              "          dataTable['output_type'] = 'display_data';\n",
              "          await google.colab.output.renderOutput(dataTable, element);\n",
              "          const docLink = document.createElement('div');\n",
              "          docLink.innerHTML = docLinkHtml;\n",
              "          element.appendChild(docLink);\n",
              "        }\n",
              "      </script>\n",
              "    </div>\n",
              "  </div>\n",
              "  "
            ],
            "text/plain": [
              "                                                   text  ...      loss\n",
              "17    i know what it feels like he stressed glaring ...  ...  1.198635\n",
              "27    i feel as if i am the beloved preparing hersel...  ...  1.772280\n",
              "35    i am feeling very blessed today that they shar...  ...  1.236907\n",
              "55                               i didn t feel accepted  ...  0.806654\n",
              "72    i feel that this is important in itself the fa...  ...  1.316638\n",
              "...                                                 ...  ...       ...\n",
              "1963  i called myself pro life and voted for perry w...  ...  5.279847\n",
              "1964         i feel vaguely cheated and a little amused  ...  3.938705\n",
              "1987  i feel im supposed to hate dams amp all the co...  ...  1.259942\n",
              "1993                           i feel so tortured by it  ...  0.855164\n",
              "1998  i truly feel that if you are passionate enough...  ...  1.002115\n",
              "\n",
              "[150 rows x 4 columns]"
            ]
          },
          "metadata": {},
          "execution_count": 118
        }
      ]
    },
    {
      "cell_type": "markdown",
      "source": [
        "##Saving the Model"
      ],
      "metadata": {
        "id": "ZRJNfobDoeJv"
      }
    },
    {
      "cell_type": "markdown",
      "source": [
        "Finally, we want to save the model so we can reuse it in another session or later if we want to\n",
        "put it in production. \n",
        "\n",
        "We can save the model together with the right tokenizer in the same folder:"
      ],
      "metadata": {
        "id": "KIbleC4yoe00"
      }
    },
    {
      "cell_type": "code",
      "source": [
        "trainer.save_model(\"models/distilbert-emotion\")"
      ],
      "metadata": {
        "id": "zMcd0BfYoloi",
        "outputId": "c1ebd24b-da36-4c1a-ba16-d61f37670bb1",
        "colab": {
          "base_uri": "https://localhost:8080/"
        }
      },
      "execution_count": null,
      "outputs": [
        {
          "output_type": "stream",
          "name": "stderr",
          "text": [
            "Saving model checkpoint to models/distilbert-emotion\n",
            "Configuration saved in models/distilbert-emotion/config.json\n",
            "Model weights saved in models/distilbert-emotion/pytorch_model.bin\n"
          ]
        }
      ]
    },
    {
      "cell_type": "code",
      "source": [
        "tokenizer.save_pretrained(\"models/distilbert-emotion\")"
      ],
      "metadata": {
        "id": "bWk3pjWRovyB",
        "outputId": "11901fc8-3e47-4fed-ee19-70e718162199",
        "colab": {
          "base_uri": "https://localhost:8080/"
        }
      },
      "execution_count": null,
      "outputs": [
        {
          "output_type": "stream",
          "name": "stderr",
          "text": [
            "tokenizer config file saved in models/distilbert-emotion/tokenizer_config.json\n",
            "Special tokens file saved in models/distilbert-emotion/special_tokens_map.json\n"
          ]
        },
        {
          "output_type": "execute_result",
          "data": {
            "text/plain": [
              "('models/distilbert-emotion/tokenizer_config.json',\n",
              " 'models/distilbert-emotion/special_tokens_map.json',\n",
              " 'models/distilbert-emotion/vocab.txt',\n",
              " 'models/distilbert-emotion/added_tokens.json',\n",
              " 'models/distilbert-emotion/tokenizer.json')"
            ]
          },
          "metadata": {},
          "execution_count": 110
        }
      ]
    },
    {
      "cell_type": "markdown",
      "source": [
        "The NLP community benefits greatly from sharing pretrained and fine-tuned models, and\n",
        "everybody can share their models with others via the Hugging Face Model Hub."
      ],
      "metadata": {
        "id": "4vS305dlpA43"
      }
    }
  ]
}