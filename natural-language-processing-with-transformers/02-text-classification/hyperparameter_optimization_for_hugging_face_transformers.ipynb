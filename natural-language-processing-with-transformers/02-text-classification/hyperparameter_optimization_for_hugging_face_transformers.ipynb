{
  "nbformat": 4,
  "nbformat_minor": 0,
  "metadata": {
    "colab": {
      "name": "hyperparameter-optimization-for-hugging-face-transformers.ipynb",
      "provenance": [],
      "toc_visible": true,
      "authorship_tag": "ABX9TyMNHSfQXJDf4CZaPn7PBkbc",
      "include_colab_link": true
    },
    "kernelspec": {
      "name": "python3",
      "display_name": "Python 3"
    },
    "language_info": {
      "name": "python"
    },
    "accelerator": "GPU"
  },
  "cells": [
    {
      "cell_type": "markdown",
      "metadata": {
        "id": "view-in-github",
        "colab_type": "text"
      },
      "source": [
        "<a href=\"https://colab.research.google.com/github/rahiakela/transformers-research-and-practice/blob/main/natural-language-processing-with-transformers/02-text-classification/hyperparameter_optimization_for_hugging_face_transformers.ipynb\" target=\"_parent\"><img src=\"https://colab.research.google.com/assets/colab-badge.svg\" alt=\"Open In Colab\"/></a>"
      ]
    },
    {
      "cell_type": "markdown",
      "source": [
        "##Hyperparameter Optimization for Hugging Face Transformers"
      ],
      "metadata": {
        "id": "PfCJmxSiZ8Bd"
      }
    },
    {
      "cell_type": "markdown",
      "source": [
        "Text classification is one of the most common tasks in NLP and can be used for applications\n",
        "such as tagging customer feedback into categories or routing support tickets according to their\n",
        "language. Chances are that your email’s spam filter is using text classification to protect your\n",
        "inbox from a deluge of unwanted junk!\n",
        "\n",
        "Another common type of text classification is sentiment analysis, which aims to identify the\n",
        "polarity of a given text.\n",
        "\n",
        "Now imagine that you are a data scientist who needs to build a system that can automatically\n",
        "identify emotional states such as “anger” or “joy” that people express towards your company’s\n",
        "product on Twitter. \n",
        "\n",
        "Until 2018, the deep learning approach to this problem typically involved\n",
        "finding a suitable neural architecture for the task and training it from scratch on a dataset of\n",
        "labeled tweets. This approach suffered from three major drawbacks:\n",
        "\n",
        "- You needed a lot of labeled data to train accurate models like recurrent or\n",
        "convolutional neural networks.\n",
        "- Training these models from scratch was time consuming and expensive.\n",
        "- The trained model could not be easily adapted to a new task, e.g. with a different set of labels.\n",
        "\n",
        "Nowadays, these limitations are largely overcome via transfer learning, where typically a\n",
        "Transformer-based architecture is pretrained on a generic task such as language modeling and\n",
        "then reused for a wide variety of downstream tasks.\n",
        "\n",
        "**Reference**\n",
        "\n",
        "- [Hyperparameter Search with Transformers and Ray Tune](https://huggingface.co/blog/ray-tune)\n",
        "\n",
        "- [Hyperparameter Optimization for Hugging Face Transformers](https://wandb.ai/amogkam/transformers/reports/Hyperparameter-Optimization-for-Hugging-Face-Transformers--VmlldzoyMTc2ODI)\n",
        "\n",
        "- [The Simplest Way to Serve your NLP Model in Production with Pure Python](https://medium.com/distributed-computing-with-ray/the-simplest-way-to-serve-your-nlp-model-in-production-with-pure-python-d42b6a97ad55)"
      ],
      "metadata": {
        "id": "0O5UwNeIZ8op"
      }
    },
    {
      "cell_type": "markdown",
      "source": [
        "##Setup"
      ],
      "metadata": {
        "id": "NmjXzjlJaZVE"
      }
    },
    {
      "cell_type": "code",
      "source": [
        "!pip -q install transformers[sentencepiece]\n",
        "!pip -q install datasets"
      ],
      "metadata": {
        "id": "TbIsiaFwaaky"
      },
      "execution_count": null,
      "outputs": []
    },
    {
      "cell_type": "code",
      "source": [
        "!pip -q install umap-learn"
      ],
      "metadata": {
        "id": "KuO4afypo7-T"
      },
      "execution_count": null,
      "outputs": []
    },
    {
      "cell_type": "code",
      "source": [
        "from transformers import pipeline\n",
        "from transformers import set_seed\n",
        "from transformers import AutoTokenizer\n",
        "from transformers import AutoModel\n",
        "from transformers import AutoModelForSequenceClassification\n",
        "from transformers import Trainer, TrainingArguments\n",
        "\n",
        "from datasets import list_datasets, load_dataset\n",
        "\n",
        "import torch\n",
        "from torch.nn.functional import cross_entropy\n",
        "\n",
        "from sklearn.preprocessing import MinMaxScaler\n",
        "from sklearn.linear_model import LogisticRegression\n",
        "from sklearn.dummy import DummyClassifier\n",
        "from sklearn.metrics import classification_report, accuracy_score, f1_score, plot_confusion_matrix\n",
        "\n",
        "import pandas as pd\n",
        "import numpy as np\n",
        "import umap.umap_ as umap\n",
        "import matplotlib.pyplot as plt"
      ],
      "metadata": {
        "id": "Kl_TTiiIaeLG"
      },
      "execution_count": 3,
      "outputs": []
    },
    {
      "cell_type": "code",
      "source": [
        "device = torch.device(\"cuda\" if torch.cuda.is_available() else \"cpu\")"
      ],
      "metadata": {
        "id": "3wiDc664MCDa"
      },
      "execution_count": 4,
      "outputs": []
    },
    {
      "cell_type": "code",
      "source": [
        "# will use DistilBERT model\n",
        "model_name = \"distilbert-base-uncased\""
      ],
      "metadata": {
        "id": "EwKvvUucdhK2"
      },
      "execution_count": 5,
      "outputs": []
    },
    {
      "cell_type": "markdown",
      "source": [
        "##Dataset exploration"
      ],
      "metadata": {
        "id": "FE-e_1EIaa1F"
      }
    },
    {
      "cell_type": "markdown",
      "source": [
        "To build our emotion detector we’ll use a great dataset from an article that explored how\n",
        "emotions are represented in English Twitter messages. \n",
        "\n",
        "Unlike most sentiment analysis datasets\n",
        "that involve just “positive” and “negative” polarities, this dataset contains six basic emotions:\n",
        "anger, disgust, fear, joy, sadness, and surprise. \n",
        "\n",
        "\n",
        "Given a tweet, our task will be to train a model\n",
        "that can classify it into one of these emotions!"
      ],
      "metadata": {
        "id": "8-2ciOUGayjC"
      }
    },
    {
      "cell_type": "markdown",
      "source": [
        "###Loading  Datasets"
      ],
      "metadata": {
        "id": "s1hPKMSVhT_J"
      }
    },
    {
      "cell_type": "markdown",
      "source": [
        "This looks like the dataset we’re after, so next we can load it with the `load_dataset` function from Datasets:"
      ],
      "metadata": {
        "id": "TFwzYC8Zdm-P"
      }
    },
    {
      "cell_type": "code",
      "source": [
        "emotions = load_dataset(\"emotion\")"
      ],
      "metadata": {
        "id": "pPaEqtbZdoj4"
      },
      "execution_count": null,
      "outputs": []
    },
    {
      "cell_type": "code",
      "source": [
        "emotions"
      ],
      "metadata": {
        "colab": {
          "base_uri": "https://localhost:8080/"
        },
        "id": "UZ1KLuRdeQnh",
        "outputId": "6d93fcc3-60d8-4fb7-e7ce-d77588d4a187"
      },
      "execution_count": 7,
      "outputs": [
        {
          "output_type": "execute_result",
          "data": {
            "text/plain": [
              "DatasetDict({\n",
              "    train: Dataset({\n",
              "        features: ['text', 'label'],\n",
              "        num_rows: 16000\n",
              "    })\n",
              "    validation: Dataset({\n",
              "        features: ['text', 'label'],\n",
              "        num_rows: 2000\n",
              "    })\n",
              "    test: Dataset({\n",
              "        features: ['text', 'label'],\n",
              "        num_rows: 2000\n",
              "    })\n",
              "})"
            ]
          },
          "metadata": {},
          "execution_count": 7
        }
      ]
    },
    {
      "cell_type": "markdown",
      "source": [
        "we see it is similar to a Python dictionary, with each key corresponding to a different split. \n",
        "\n",
        "And just like any dictionary, we can access an individual split as usual"
      ],
      "metadata": {
        "id": "SGOtUtiMebHD"
      }
    },
    {
      "cell_type": "code",
      "source": [
        "train_ds = emotions[\"train\"]\n",
        "train_ds"
      ],
      "metadata": {
        "colab": {
          "base_uri": "https://localhost:8080/"
        },
        "id": "iDGm5pQledFm",
        "outputId": "f2cfd35f-1b6c-443d-bc16-91c6fb049e5f"
      },
      "execution_count": 8,
      "outputs": [
        {
          "output_type": "execute_result",
          "data": {
            "text/plain": [
              "Dataset({\n",
              "    features: ['text', 'label'],\n",
              "    num_rows: 16000\n",
              "})"
            ]
          },
          "metadata": {},
          "execution_count": 8
        }
      ]
    },
    {
      "cell_type": "markdown",
      "source": [
        "This object behaves like an\n",
        "ordinary Python container, so we can query its length"
      ],
      "metadata": {
        "id": "leozYrtJeqo6"
      }
    },
    {
      "cell_type": "code",
      "source": [
        "len(train_ds)"
      ],
      "metadata": {
        "colab": {
          "base_uri": "https://localhost:8080/"
        },
        "id": "dvDZesbXerQ0",
        "outputId": "d06fed61-5ac4-476f-f105-adbbda921690"
      },
      "execution_count": 9,
      "outputs": [
        {
          "output_type": "execute_result",
          "data": {
            "text/plain": [
              "16000"
            ]
          },
          "metadata": {},
          "execution_count": 9
        }
      ]
    },
    {
      "cell_type": "markdown",
      "source": [
        "or access a single example by its index"
      ],
      "metadata": {
        "id": "RECvP-DqexU5"
      }
    },
    {
      "cell_type": "code",
      "source": [
        "train_ds[0]"
      ],
      "metadata": {
        "colab": {
          "base_uri": "https://localhost:8080/"
        },
        "id": "ev1O0vYSexxU",
        "outputId": "32b68245-c123-43ea-fa1f-db368e057d82"
      },
      "execution_count": 10,
      "outputs": [
        {
          "output_type": "execute_result",
          "data": {
            "text/plain": [
              "{'label': 0, 'text': 'i didnt feel humiliated'}"
            ]
          },
          "metadata": {},
          "execution_count": 10
        }
      ]
    },
    {
      "cell_type": "markdown",
      "source": [
        "Here we see that a single row is represented as a\n",
        "dictionary, where the keys correspond to the column names"
      ],
      "metadata": {
        "id": "xfD3nZkbe7n1"
      }
    },
    {
      "cell_type": "code",
      "source": [
        "train_ds.column_names"
      ],
      "metadata": {
        "colab": {
          "base_uri": "https://localhost:8080/"
        },
        "id": "xR7VRirHe8Qj",
        "outputId": "db5b8d00-4cf0-4776-d341-cd890a8ce220"
      },
      "execution_count": 11,
      "outputs": [
        {
          "output_type": "execute_result",
          "data": {
            "text/plain": [
              "['text', 'label']"
            ]
          },
          "metadata": {},
          "execution_count": 11
        }
      ]
    },
    {
      "cell_type": "markdown",
      "source": [
        "This reflects the fact that Datasets is\n",
        "based on Apache Arrow, which defines a typed columnar format that is more memory efficient\n",
        "than native Python. \n",
        "\n",
        "We can see what data types are being used under the hood by accessing the\n",
        "features attribute of a Dataset object:"
      ],
      "metadata": {
        "id": "zOGbQFIrfGyD"
      }
    },
    {
      "cell_type": "code",
      "source": [
        "train_ds.features"
      ],
      "metadata": {
        "colab": {
          "base_uri": "https://localhost:8080/"
        },
        "id": "ZXFN6Y1MfKuf",
        "outputId": "81e1129f-b281-4531-929a-4e7810f2be79"
      },
      "execution_count": 12,
      "outputs": [
        {
          "output_type": "execute_result",
          "data": {
            "text/plain": [
              "{'label': ClassLabel(num_classes=6, names=['sadness', 'joy', 'love', 'anger', 'fear', 'surprise'], names_file=None, id=None),\n",
              " 'text': Value(dtype='string', id=None)}"
            ]
          },
          "metadata": {},
          "execution_count": 12
        }
      ]
    },
    {
      "cell_type": "markdown",
      "source": [
        "We can also access several rows with a slice"
      ],
      "metadata": {
        "id": "3fpWX3D1fayp"
      }
    },
    {
      "cell_type": "code",
      "source": [
        "train_ds[:6]"
      ],
      "metadata": {
        "colab": {
          "base_uri": "https://localhost:8080/"
        },
        "id": "5ji3TnXWfZl3",
        "outputId": "847e8fb1-ddeb-4d47-b640-15f6b6e1eefb"
      },
      "execution_count": 13,
      "outputs": [
        {
          "output_type": "execute_result",
          "data": {
            "text/plain": [
              "{'label': [0, 0, 3, 2, 3, 0],\n",
              " 'text': ['i didnt feel humiliated',\n",
              "  'i can go from feeling so hopeless to so damned hopeful just from being around someone who cares and is awake',\n",
              "  'im grabbing a minute to post i feel greedy wrong',\n",
              "  'i am ever feeling nostalgic about the fireplace i will know that it is still on the property',\n",
              "  'i am feeling grouchy',\n",
              "  'ive been feeling a little burdened lately wasnt sure why that was']}"
            ]
          },
          "metadata": {},
          "execution_count": 13
        }
      ]
    },
    {
      "cell_type": "markdown",
      "source": [
        "or get the full column by name"
      ],
      "metadata": {
        "id": "r7Urq-NifloZ"
      }
    },
    {
      "cell_type": "code",
      "source": [
        "train_ds[\"text\"][:6]"
      ],
      "metadata": {
        "colab": {
          "base_uri": "https://localhost:8080/"
        },
        "id": "47yK6jLAfmN4",
        "outputId": "e588a624-f6be-4892-db13-fec4e976f630"
      },
      "execution_count": 14,
      "outputs": [
        {
          "output_type": "execute_result",
          "data": {
            "text/plain": [
              "['i didnt feel humiliated',\n",
              " 'i can go from feeling so hopeless to so damned hopeful just from being around someone who cares and is awake',\n",
              " 'im grabbing a minute to post i feel greedy wrong',\n",
              " 'i am ever feeling nostalgic about the fireplace i will know that it is still on the property',\n",
              " 'i am feeling grouchy',\n",
              " 'ive been feeling a little burdened lately wasnt sure why that was']"
            ]
          },
          "metadata": {},
          "execution_count": 14
        }
      ]
    },
    {
      "cell_type": "markdown",
      "source": [
        "In each case the resulting data structure depends on the type of query; although this may feel\n",
        "strange at first, it’s part of the secret sauce that makes Datasets so flexible!"
      ],
      "metadata": {
        "id": "pqLCZbrwf3Eb"
      }
    },
    {
      "cell_type": "markdown",
      "source": [
        "###From Datasets to DataFrames"
      ],
      "metadata": {
        "id": "P5m7jqyif3ug"
      }
    },
    {
      "cell_type": "markdown",
      "source": [
        "Although Datasets provides a lot of low-level functionality to slice and dice our data, it is often\n",
        "convenient to convert a Dataset object to a Pandas DataFrame so we can access highlevel\n",
        "APIs for data visualization. \n",
        "\n",
        "To enable the conversion, Datasets provides a\n",
        "`Dataset.set_format` function that allow us to change the output format of the Dataset.\n",
        "\n",
        "This does not change the underlying data format which is Apache Arrow and you can switch to\n",
        "another format later if needed:"
      ],
      "metadata": {
        "id": "xqyQ0Xhsf6OL"
      }
    },
    {
      "cell_type": "code",
      "source": [
        "emotions.set_format(type=\"pandas\")\n",
        "\n",
        "df = emotions[\"train\"][:]\n",
        "df.head()"
      ],
      "metadata": {
        "colab": {
          "base_uri": "https://localhost:8080/",
          "height": 206
        },
        "id": "aDDPc_8AgTBQ",
        "outputId": "49ae8ed1-d0cc-44a6-ac88-7019752b4310"
      },
      "execution_count": 15,
      "outputs": [
        {
          "output_type": "execute_result",
          "data": {
            "text/html": [
              "\n",
              "  <div id=\"df-b11c0c73-7549-4d3f-be05-cd3fa74d7d34\">\n",
              "    <div class=\"colab-df-container\">\n",
              "      <div>\n",
              "<style scoped>\n",
              "    .dataframe tbody tr th:only-of-type {\n",
              "        vertical-align: middle;\n",
              "    }\n",
              "\n",
              "    .dataframe tbody tr th {\n",
              "        vertical-align: top;\n",
              "    }\n",
              "\n",
              "    .dataframe thead th {\n",
              "        text-align: right;\n",
              "    }\n",
              "</style>\n",
              "<table border=\"1\" class=\"dataframe\">\n",
              "  <thead>\n",
              "    <tr style=\"text-align: right;\">\n",
              "      <th></th>\n",
              "      <th>text</th>\n",
              "      <th>label</th>\n",
              "    </tr>\n",
              "  </thead>\n",
              "  <tbody>\n",
              "    <tr>\n",
              "      <th>0</th>\n",
              "      <td>i didnt feel humiliated</td>\n",
              "      <td>0</td>\n",
              "    </tr>\n",
              "    <tr>\n",
              "      <th>1</th>\n",
              "      <td>i can go from feeling so hopeless to so damned...</td>\n",
              "      <td>0</td>\n",
              "    </tr>\n",
              "    <tr>\n",
              "      <th>2</th>\n",
              "      <td>im grabbing a minute to post i feel greedy wrong</td>\n",
              "      <td>3</td>\n",
              "    </tr>\n",
              "    <tr>\n",
              "      <th>3</th>\n",
              "      <td>i am ever feeling nostalgic about the fireplac...</td>\n",
              "      <td>2</td>\n",
              "    </tr>\n",
              "    <tr>\n",
              "      <th>4</th>\n",
              "      <td>i am feeling grouchy</td>\n",
              "      <td>3</td>\n",
              "    </tr>\n",
              "  </tbody>\n",
              "</table>\n",
              "</div>\n",
              "      <button class=\"colab-df-convert\" onclick=\"convertToInteractive('df-b11c0c73-7549-4d3f-be05-cd3fa74d7d34')\"\n",
              "              title=\"Convert this dataframe to an interactive table.\"\n",
              "              style=\"display:none;\">\n",
              "        \n",
              "  <svg xmlns=\"http://www.w3.org/2000/svg\" height=\"24px\"viewBox=\"0 0 24 24\"\n",
              "       width=\"24px\">\n",
              "    <path d=\"M0 0h24v24H0V0z\" fill=\"none\"/>\n",
              "    <path d=\"M18.56 5.44l.94 2.06.94-2.06 2.06-.94-2.06-.94-.94-2.06-.94 2.06-2.06.94zm-11 1L8.5 8.5l.94-2.06 2.06-.94-2.06-.94L8.5 2.5l-.94 2.06-2.06.94zm10 10l.94 2.06.94-2.06 2.06-.94-2.06-.94-.94-2.06-.94 2.06-2.06.94z\"/><path d=\"M17.41 7.96l-1.37-1.37c-.4-.4-.92-.59-1.43-.59-.52 0-1.04.2-1.43.59L10.3 9.45l-7.72 7.72c-.78.78-.78 2.05 0 2.83L4 21.41c.39.39.9.59 1.41.59.51 0 1.02-.2 1.41-.59l7.78-7.78 2.81-2.81c.8-.78.8-2.07 0-2.86zM5.41 20L4 18.59l7.72-7.72 1.47 1.35L5.41 20z\"/>\n",
              "  </svg>\n",
              "      </button>\n",
              "      \n",
              "  <style>\n",
              "    .colab-df-container {\n",
              "      display:flex;\n",
              "      flex-wrap:wrap;\n",
              "      gap: 12px;\n",
              "    }\n",
              "\n",
              "    .colab-df-convert {\n",
              "      background-color: #E8F0FE;\n",
              "      border: none;\n",
              "      border-radius: 50%;\n",
              "      cursor: pointer;\n",
              "      display: none;\n",
              "      fill: #1967D2;\n",
              "      height: 32px;\n",
              "      padding: 0 0 0 0;\n",
              "      width: 32px;\n",
              "    }\n",
              "\n",
              "    .colab-df-convert:hover {\n",
              "      background-color: #E2EBFA;\n",
              "      box-shadow: 0px 1px 2px rgba(60, 64, 67, 0.3), 0px 1px 3px 1px rgba(60, 64, 67, 0.15);\n",
              "      fill: #174EA6;\n",
              "    }\n",
              "\n",
              "    [theme=dark] .colab-df-convert {\n",
              "      background-color: #3B4455;\n",
              "      fill: #D2E3FC;\n",
              "    }\n",
              "\n",
              "    [theme=dark] .colab-df-convert:hover {\n",
              "      background-color: #434B5C;\n",
              "      box-shadow: 0px 1px 3px 1px rgba(0, 0, 0, 0.15);\n",
              "      filter: drop-shadow(0px 1px 2px rgba(0, 0, 0, 0.3));\n",
              "      fill: #FFFFFF;\n",
              "    }\n",
              "  </style>\n",
              "\n",
              "      <script>\n",
              "        const buttonEl =\n",
              "          document.querySelector('#df-b11c0c73-7549-4d3f-be05-cd3fa74d7d34 button.colab-df-convert');\n",
              "        buttonEl.style.display =\n",
              "          google.colab.kernel.accessAllowed ? 'block' : 'none';\n",
              "\n",
              "        async function convertToInteractive(key) {\n",
              "          const element = document.querySelector('#df-b11c0c73-7549-4d3f-be05-cd3fa74d7d34');\n",
              "          const dataTable =\n",
              "            await google.colab.kernel.invokeFunction('convertToInteractive',\n",
              "                                                     [key], {});\n",
              "          if (!dataTable) return;\n",
              "\n",
              "          const docLinkHtml = 'Like what you see? Visit the ' +\n",
              "            '<a target=\"_blank\" href=https://colab.research.google.com/notebooks/data_table.ipynb>data table notebook</a>'\n",
              "            + ' to learn more about interactive tables.';\n",
              "          element.innerHTML = '';\n",
              "          dataTable['output_type'] = 'display_data';\n",
              "          await google.colab.output.renderOutput(dataTable, element);\n",
              "          const docLink = document.createElement('div');\n",
              "          docLink.innerHTML = docLinkHtml;\n",
              "          element.appendChild(docLink);\n",
              "        }\n",
              "      </script>\n",
              "    </div>\n",
              "  </div>\n",
              "  "
            ],
            "text/plain": [
              "                                                text  label\n",
              "0                            i didnt feel humiliated      0\n",
              "1  i can go from feeling so hopeless to so damned...      0\n",
              "2   im grabbing a minute to post i feel greedy wrong      3\n",
              "3  i am ever feeling nostalgic about the fireplac...      2\n",
              "4                               i am feeling grouchy      3"
            ]
          },
          "metadata": {},
          "execution_count": 15
        }
      ]
    },
    {
      "cell_type": "markdown",
      "source": [
        "As we can see, the column headers have been preserved and the first few rows match our\n",
        "previous views of the data. \n",
        "\n",
        "However, the labels are represented as integers so let’s use the\n",
        "`ClassLabel.int2str` function to create a new column in our DataFrame with the\n",
        "corresponding label names:"
      ],
      "metadata": {
        "id": "wxNAZtVOhvUa"
      }
    },
    {
      "cell_type": "code",
      "source": [
        "def label_int2str(row, split):\n",
        "  return emotions[split].features[\"label\"].int2str(row)"
      ],
      "metadata": {
        "id": "_UienA5Chx-U"
      },
      "execution_count": 16,
      "outputs": []
    },
    {
      "cell_type": "code",
      "source": [
        "df[\"label_name\"] = df[\"label\"].apply(label_int2str, split=\"train\")\n",
        "df.head()"
      ],
      "metadata": {
        "colab": {
          "base_uri": "https://localhost:8080/",
          "height": 206
        },
        "id": "nQ3XTyNlh_jE",
        "outputId": "07683241-9384-453b-bc45-bf341a7c39b2"
      },
      "execution_count": 17,
      "outputs": [
        {
          "output_type": "execute_result",
          "data": {
            "text/html": [
              "\n",
              "  <div id=\"df-6375c205-0276-4b9d-8cfb-5152c3763b6f\">\n",
              "    <div class=\"colab-df-container\">\n",
              "      <div>\n",
              "<style scoped>\n",
              "    .dataframe tbody tr th:only-of-type {\n",
              "        vertical-align: middle;\n",
              "    }\n",
              "\n",
              "    .dataframe tbody tr th {\n",
              "        vertical-align: top;\n",
              "    }\n",
              "\n",
              "    .dataframe thead th {\n",
              "        text-align: right;\n",
              "    }\n",
              "</style>\n",
              "<table border=\"1\" class=\"dataframe\">\n",
              "  <thead>\n",
              "    <tr style=\"text-align: right;\">\n",
              "      <th></th>\n",
              "      <th>text</th>\n",
              "      <th>label</th>\n",
              "      <th>label_name</th>\n",
              "    </tr>\n",
              "  </thead>\n",
              "  <tbody>\n",
              "    <tr>\n",
              "      <th>0</th>\n",
              "      <td>i didnt feel humiliated</td>\n",
              "      <td>0</td>\n",
              "      <td>sadness</td>\n",
              "    </tr>\n",
              "    <tr>\n",
              "      <th>1</th>\n",
              "      <td>i can go from feeling so hopeless to so damned...</td>\n",
              "      <td>0</td>\n",
              "      <td>sadness</td>\n",
              "    </tr>\n",
              "    <tr>\n",
              "      <th>2</th>\n",
              "      <td>im grabbing a minute to post i feel greedy wrong</td>\n",
              "      <td>3</td>\n",
              "      <td>anger</td>\n",
              "    </tr>\n",
              "    <tr>\n",
              "      <th>3</th>\n",
              "      <td>i am ever feeling nostalgic about the fireplac...</td>\n",
              "      <td>2</td>\n",
              "      <td>love</td>\n",
              "    </tr>\n",
              "    <tr>\n",
              "      <th>4</th>\n",
              "      <td>i am feeling grouchy</td>\n",
              "      <td>3</td>\n",
              "      <td>anger</td>\n",
              "    </tr>\n",
              "  </tbody>\n",
              "</table>\n",
              "</div>\n",
              "      <button class=\"colab-df-convert\" onclick=\"convertToInteractive('df-6375c205-0276-4b9d-8cfb-5152c3763b6f')\"\n",
              "              title=\"Convert this dataframe to an interactive table.\"\n",
              "              style=\"display:none;\">\n",
              "        \n",
              "  <svg xmlns=\"http://www.w3.org/2000/svg\" height=\"24px\"viewBox=\"0 0 24 24\"\n",
              "       width=\"24px\">\n",
              "    <path d=\"M0 0h24v24H0V0z\" fill=\"none\"/>\n",
              "    <path d=\"M18.56 5.44l.94 2.06.94-2.06 2.06-.94-2.06-.94-.94-2.06-.94 2.06-2.06.94zm-11 1L8.5 8.5l.94-2.06 2.06-.94-2.06-.94L8.5 2.5l-.94 2.06-2.06.94zm10 10l.94 2.06.94-2.06 2.06-.94-2.06-.94-.94-2.06-.94 2.06-2.06.94z\"/><path d=\"M17.41 7.96l-1.37-1.37c-.4-.4-.92-.59-1.43-.59-.52 0-1.04.2-1.43.59L10.3 9.45l-7.72 7.72c-.78.78-.78 2.05 0 2.83L4 21.41c.39.39.9.59 1.41.59.51 0 1.02-.2 1.41-.59l7.78-7.78 2.81-2.81c.8-.78.8-2.07 0-2.86zM5.41 20L4 18.59l7.72-7.72 1.47 1.35L5.41 20z\"/>\n",
              "  </svg>\n",
              "      </button>\n",
              "      \n",
              "  <style>\n",
              "    .colab-df-container {\n",
              "      display:flex;\n",
              "      flex-wrap:wrap;\n",
              "      gap: 12px;\n",
              "    }\n",
              "\n",
              "    .colab-df-convert {\n",
              "      background-color: #E8F0FE;\n",
              "      border: none;\n",
              "      border-radius: 50%;\n",
              "      cursor: pointer;\n",
              "      display: none;\n",
              "      fill: #1967D2;\n",
              "      height: 32px;\n",
              "      padding: 0 0 0 0;\n",
              "      width: 32px;\n",
              "    }\n",
              "\n",
              "    .colab-df-convert:hover {\n",
              "      background-color: #E2EBFA;\n",
              "      box-shadow: 0px 1px 2px rgba(60, 64, 67, 0.3), 0px 1px 3px 1px rgba(60, 64, 67, 0.15);\n",
              "      fill: #174EA6;\n",
              "    }\n",
              "\n",
              "    [theme=dark] .colab-df-convert {\n",
              "      background-color: #3B4455;\n",
              "      fill: #D2E3FC;\n",
              "    }\n",
              "\n",
              "    [theme=dark] .colab-df-convert:hover {\n",
              "      background-color: #434B5C;\n",
              "      box-shadow: 0px 1px 3px 1px rgba(0, 0, 0, 0.15);\n",
              "      filter: drop-shadow(0px 1px 2px rgba(0, 0, 0, 0.3));\n",
              "      fill: #FFFFFF;\n",
              "    }\n",
              "  </style>\n",
              "\n",
              "      <script>\n",
              "        const buttonEl =\n",
              "          document.querySelector('#df-6375c205-0276-4b9d-8cfb-5152c3763b6f button.colab-df-convert');\n",
              "        buttonEl.style.display =\n",
              "          google.colab.kernel.accessAllowed ? 'block' : 'none';\n",
              "\n",
              "        async function convertToInteractive(key) {\n",
              "          const element = document.querySelector('#df-6375c205-0276-4b9d-8cfb-5152c3763b6f');\n",
              "          const dataTable =\n",
              "            await google.colab.kernel.invokeFunction('convertToInteractive',\n",
              "                                                     [key], {});\n",
              "          if (!dataTable) return;\n",
              "\n",
              "          const docLinkHtml = 'Like what you see? Visit the ' +\n",
              "            '<a target=\"_blank\" href=https://colab.research.google.com/notebooks/data_table.ipynb>data table notebook</a>'\n",
              "            + ' to learn more about interactive tables.';\n",
              "          element.innerHTML = '';\n",
              "          dataTable['output_type'] = 'display_data';\n",
              "          await google.colab.output.renderOutput(dataTable, element);\n",
              "          const docLink = document.createElement('div');\n",
              "          docLink.innerHTML = docLinkHtml;\n",
              "          element.appendChild(docLink);\n",
              "        }\n",
              "      </script>\n",
              "    </div>\n",
              "  </div>\n",
              "  "
            ],
            "text/plain": [
              "                                                text  label label_name\n",
              "0                            i didnt feel humiliated      0    sadness\n",
              "1  i can go from feeling so hopeless to so damned...      0    sadness\n",
              "2   im grabbing a minute to post i feel greedy wrong      3      anger\n",
              "3  i am ever feeling nostalgic about the fireplac...      2       love\n",
              "4                               i am feeling grouchy      3      anger"
            ]
          },
          "metadata": {},
          "execution_count": 17
        }
      ]
    },
    {
      "cell_type": "markdown",
      "source": [
        "###Look at the Class Distribution"
      ],
      "metadata": {
        "id": "cvyIeZcLkGNW"
      }
    },
    {
      "cell_type": "markdown",
      "source": [
        "Whenever you are working on text classification problems, it is a good idea to examine the\n",
        "distribution of examples among each class. \n",
        "\n",
        "For example, a dataset with a skewed class\n",
        "distribution might require a different treatment in terms of the training loss and evaluation\n",
        "metrics than a balanced one.\n",
        "\n",
        "With Pandas and the visualisation library Matplotlib we can quickly visualize this as follows:"
      ],
      "metadata": {
        "id": "TL6_McSRkG8H"
      }
    },
    {
      "cell_type": "code",
      "source": [
        "df[\"label_name\"].value_counts(ascending=True).plot.barh()\n",
        "plt.title(\"Category Counts\");"
      ],
      "metadata": {
        "colab": {
          "base_uri": "https://localhost:8080/",
          "height": 281
        },
        "id": "NrrK740UkwXQ",
        "outputId": "742b3d77-795f-4752-fb49-2f905dc33cd8"
      },
      "execution_count": 18,
      "outputs": [
        {
          "output_type": "display_data",
          "data": {
            "image/png": "[encoded data removed]",
            "text/plain": [
              "<Figure size 432x288 with 1 Axes>"
            ]
          },
          "metadata": {
            "needs_background": "light"
          }
        }
      ]
    },
    {
      "cell_type": "markdown",
      "source": [
        "We can see that the dataset is heavily imbalanced; the joy and sadness classes appear\n",
        "frequently whereas love and sadness are about 5-10 times rarer.\n",
        "\n",
        "There are several ways to\n",
        "deal with imbalanced data such as resampling the minority or majority classes.\n",
        "\n",
        "Alternatively, we can also weight the loss function to account for the underrepresented classes."
      ],
      "metadata": {
        "id": "zrzFOJU1lah_"
      }
    },
    {
      "cell_type": "markdown",
      "source": [
        "###How Long Are Our Tweets?"
      ],
      "metadata": {
        "id": "8XYTrTFoloGX"
      }
    },
    {
      "cell_type": "markdown",
      "source": [
        "Transformer models have a maximum input sequence length that is referred to as the maximum context size. \n",
        "\n",
        "For most applications with BERT, the maximum context size is 512 tokens, where\n",
        "a token is defined by the choice of tokenizer and can be a word, subword, or character. \n",
        "\n",
        "Let’s make a rough estimate of our tweet lengths per emotion by looking at the distribution of words per tweet:"
      ],
      "metadata": {
        "id": "c-ay6PU2lo6K"
      }
    },
    {
      "cell_type": "code",
      "source": [
        "df[\"Words Per Tweet\"] = df[\"text\"].str.split().apply(len)\n",
        "\n",
        "df.boxplot(\"Words Per Tweet\", by=\"label_name\", grid=False, showfliers=False, color=\"red\", )\n",
        "plt.suptitle(\"\")\n",
        "plt.xlabel(\"\");"
      ],
      "metadata": {
        "colab": {
          "base_uri": "https://localhost:8080/",
          "height": 336
        },
        "id": "hCjuEu9Tl_nS",
        "outputId": "ce6f3aa3-344f-459b-c1b8-13283738104b"
      },
      "execution_count": 19,
      "outputs": [
        {
          "output_type": "stream",
          "name": "stderr",
          "text": [
            "/usr/local/lib/python3.7/dist-packages/numpy/core/_asarray.py:83: VisibleDeprecationWarning: Creating an ndarray from ragged nested sequences (which is a list-or-tuple of lists-or-tuples-or ndarrays with different lengths or shapes) is deprecated. If you meant to do this, you must specify 'dtype=object' when creating the ndarray\n",
            "  return array(a, dtype, copy=False, order=order)\n"
          ]
        },
        {
          "output_type": "display_data",
          "data": {
            "image/png": "[encoded data removed]",
            "text/plain": [
              "<Figure size 432x288 with 1 Axes>"
            ]
          },
          "metadata": {
            "needs_background": "light"
          }
        }
      ]
    },
    {
      "cell_type": "markdown",
      "source": [
        "From the plot we see that for each emotion, most tweets are around 15 words long and the\n",
        "longest tweets are well below BERT’s maximum context size of 512 tokens. \n",
        "\n",
        "Texts that are\n",
        "longer than a model’s context window need to be truncated, which can lead to a loss in\n",
        "performance if the truncated text contains crucial information. \n",
        "\n",
        "Let’s now figure out how we can\n",
        "convert these raw texts into a format suitable for Transformers!"
      ],
      "metadata": {
        "id": "K7OzrHh-m6_Q"
      }
    },
    {
      "cell_type": "markdown",
      "source": [
        "##Tokenization and Vectorization"
      ],
      "metadata": {
        "id": "AcJYRsUunEVs"
      }
    },
    {
      "cell_type": "markdown",
      "source": [
        "Transformer models like BERT cannot receive raw strings as input; instead they assume the\n",
        "text has been tokenized into numerical vectors. Tokenization is the step of breaking down a\n",
        "string into the atomic units used in the model. \n",
        "\n",
        "There are several tokenization strategies one can\n",
        "adopt and the optimal splitting of words in sub-units is usually learned from the corpus."
      ],
      "metadata": {
        "id": "95kJmltPnHwi"
      }
    },
    {
      "cell_type": "markdown",
      "source": [
        "###Using Pretrained Tokenizers"
      ],
      "metadata": {
        "id": "BWYtppgoSRXZ"
      }
    },
    {
      "cell_type": "markdown",
      "source": [
        "We’ve noted that loading the right pretrained tokenizer for a given pretrained model is crucial\n",
        "to getting sensible results. \n",
        "\n",
        "The Transformers library provides a convenient\n",
        "`from_pretrained` function that can be used to load both objects, either from the Hugging Face Model Hub or from a local path.\n",
        "\n",
        "To build our emotion detector we’ll use a BERT variant called DistilBERT, which is a\n",
        "downscaled version of the original BERT model. The main advantage of this model is that it\n",
        "achieves comparable performance to BERT while being significantly smaller and more\n",
        "efficient.\n",
        "\n",
        "Let’s get started by loading the tokenizer for the DistilBERT model."
      ],
      "metadata": {
        "id": "pjS47tMWSTjS"
      }
    },
    {
      "cell_type": "code",
      "source": [
        "tokenizer = AutoTokenizer.from_pretrained(model_name)"
      ],
      "metadata": {
        "id": "u8Wank0tTsM1"
      },
      "execution_count": null,
      "outputs": []
    },
    {
      "cell_type": "markdown",
      "source": [
        "We can examine a few attributes of the tokenizer such as the vocabulary size:"
      ],
      "metadata": {
        "id": "TrCVX20XUG-e"
      }
    },
    {
      "cell_type": "code",
      "source": [
        "tokenizer.vocab_size"
      ],
      "metadata": {
        "id": "oH6fi04CUHa0",
        "outputId": "4fa74b91-0e84-4f7b-f255-8003aa253a80",
        "colab": {
          "base_uri": "https://localhost:8080/"
        }
      },
      "execution_count": 21,
      "outputs": [
        {
          "output_type": "execute_result",
          "data": {
            "text/plain": [
              "30522"
            ]
          },
          "metadata": {},
          "execution_count": 21
        }
      ]
    },
    {
      "cell_type": "markdown",
      "source": [
        "We can also look at the special tokens used by the tokenizer, which differ from model to model.\n",
        "\n",
        "For example, BERT uses the `[MASK]` token for the primary objective of masked language\n",
        "modeling and the `[CLS]` and `[SEP]` tokens for the secondary pretraining objective of\n",
        "predicting if two sentences are consecutive:"
      ],
      "metadata": {
        "id": "pJrNRmAZUdkK"
      }
    },
    {
      "cell_type": "code",
      "source": [
        "tokenizer.special_tokens_map"
      ],
      "metadata": {
        "id": "sO837NxFUkvz",
        "outputId": "1df7eb74-54b6-4987-9786-14bb4a7fa00a",
        "colab": {
          "base_uri": "https://localhost:8080/"
        }
      },
      "execution_count": 22,
      "outputs": [
        {
          "output_type": "execute_result",
          "data": {
            "text/plain": [
              "{'cls_token': '[CLS]',\n",
              " 'mask_token': '[MASK]',\n",
              " 'pad_token': '[PAD]',\n",
              " 'sep_token': '[SEP]',\n",
              " 'unk_token': '[UNK]'}"
            ]
          },
          "metadata": {},
          "execution_count": 22
        }
      ]
    },
    {
      "cell_type": "markdown",
      "source": [
        "Furthermore, the tokenizer stores the information of the corresponding model’s maximum\n",
        "context sizes:"
      ],
      "metadata": {
        "id": "eGt9oLXpUxeT"
      }
    },
    {
      "cell_type": "code",
      "source": [
        "tokenizer.model_max_length"
      ],
      "metadata": {
        "id": "1iFI3vCwUx8o",
        "outputId": "32b90b10-529b-4eaf-99c7-d2fe32b38ad1",
        "colab": {
          "base_uri": "https://localhost:8080/"
        }
      },
      "execution_count": 23,
      "outputs": [
        {
          "output_type": "execute_result",
          "data": {
            "text/plain": [
              "512"
            ]
          },
          "metadata": {},
          "execution_count": 23
        }
      ]
    },
    {
      "cell_type": "markdown",
      "source": [
        "###Tokenizing the Whole Dataset"
      ],
      "metadata": {
        "id": "shtT4Bj4lUB_"
      }
    },
    {
      "cell_type": "markdown",
      "source": [
        "Now that we know how to extract the hidden states for a single string, let’s tokenize the whole\n",
        "dataset! \n",
        "\n",
        "To do this, we can write a simple function that will tokenize our examples"
      ],
      "metadata": {
        "id": "Kdrpk38HlWrw"
      }
    },
    {
      "cell_type": "code",
      "source": [
        "def tokenize(batch):\n",
        "  return tokenizer(batch[\"text\"], padding=True, truncation=True)"
      ],
      "metadata": {
        "id": "GdOcTdJLoIJU"
      },
      "execution_count": 24,
      "outputs": []
    },
    {
      "cell_type": "markdown",
      "source": [
        "where `padding=True` will pad the examples with zeroes to the longest one in a batch, and\n",
        "`truncation=True` will truncate the examples to the model’s maximum context size.\n",
        "\n",
        "Previously, we set the output format of the dataset to \"pandas\" so that the accessed data is\n",
        "returned as a DataFrame. \n",
        "\n",
        "We don’t need this output format anymore so we can now reset it\n",
        "as follows:"
      ],
      "metadata": {
        "id": "ER1JlJCwoaGt"
      }
    },
    {
      "cell_type": "code",
      "source": [
        "emotions.reset_format()"
      ],
      "metadata": {
        "id": "3zWH5GQtol1g"
      },
      "execution_count": 25,
      "outputs": []
    },
    {
      "cell_type": "markdown",
      "source": [
        "By applying the tokenize function on a small set of texts."
      ],
      "metadata": {
        "id": "o4W8yVHeorST"
      }
    },
    {
      "cell_type": "code",
      "source": [
        "tokenize(emotions[\"train\"][:3])"
      ],
      "metadata": {
        "id": "rDx3_qxPor8o",
        "outputId": "47af9846-8453-4d64-dc6a-97d1f03828f8",
        "colab": {
          "base_uri": "https://localhost:8080/"
        }
      },
      "execution_count": 26,
      "outputs": [
        {
          "output_type": "execute_result",
          "data": {
            "text/plain": [
              "{'input_ids': [[101, 1045, 2134, 2102, 2514, 26608, 102, 0, 0, 0, 0, 0, 0, 0, 0, 0, 0, 0, 0, 0, 0, 0, 0], [101, 1045, 2064, 2175, 2013, 3110, 2061, 20625, 2000, 2061, 9636, 17772, 2074, 2013, 2108, 2105, 2619, 2040, 14977, 1998, 2003, 8300, 102], [101, 10047, 9775, 1037, 3371, 2000, 2695, 1045, 2514, 20505, 3308, 102, 0, 0, 0, 0, 0, 0, 0, 0, 0, 0, 0]], 'attention_mask': [[1, 1, 1, 1, 1, 1, 1, 0, 0, 0, 0, 0, 0, 0, 0, 0, 0, 0, 0, 0, 0, 0, 0], [1, 1, 1, 1, 1, 1, 1, 1, 1, 1, 1, 1, 1, 1, 1, 1, 1, 1, 1, 1, 1, 1, 1], [1, 1, 1, 1, 1, 1, 1, 1, 1, 1, 1, 1, 0, 0, 0, 0, 0, 0, 0, 0, 0, 0, 0]]}"
            ]
          },
          "metadata": {},
          "execution_count": 26
        }
      ]
    },
    {
      "cell_type": "markdown",
      "source": [
        "we see that the result is a dictionary, where each value is a list of lists generated by the\n",
        "tokenizer. In particular, each sequence in input_ids starts with 101 and ends with 102,\n",
        "followed by zeroes, corresponding to the `[CLS], [SEP]`, and `[PAD]` tokens respectively:\n",
        "\n",
        "<img src='https://github.com/rahiakela/transformers-research-and-practice/blob/main/natural-language-processing-with-transformers/02-text-classification/images/3.png?raw=1' width='800'/>\n",
        "\n",
        "Also note that in addition to returning the encoded tweets as input_ids, the tokenizer also\n",
        "returns list of attention_mask arrays. This is because we do not want the model to get\n",
        "confused by the additional padding tokens, so the attention mask allows the model to ignore the\n",
        "padded parts of the input.\n",
        "\n",
        "<img src='https://github.com/rahiakela/transformers-research-and-practice/blob/main/natural-language-processing-with-transformers/02-text-classification/images/4.png?raw=1' width='800'/>\n",
        "\n",
        ">For each batch, the input sequences are padded to the maximum sequence length in the batch. The attention mask is used in the model to ignore the padded areas of the input tensors.\n",
        "\n",
        "To apply our tokenize function to the whole emotions corpus, we’ll use the\n",
        "DatasetDict.map function. \n",
        "\n",
        "This will apply tokenize across all the splits in the corpus,\n",
        "so our training, validation and test data will be preprocessed in a single line of code:"
      ],
      "metadata": {
        "id": "mEE7AMU1pAbD"
      }
    },
    {
      "cell_type": "code",
      "source": [
        "# batch_size=None applies our tokenize function in one single batch and ensures that the input tensors and attention masks have the same shape globally\n",
        "emotions_encoded = emotions.map(tokenize, batched=True, batch_size=None)"
      ],
      "metadata": {
        "id": "1gcxWkgdrzFs"
      },
      "execution_count": null,
      "outputs": []
    },
    {
      "cell_type": "markdown",
      "source": [
        "By default, `DatasetDict.map` operates individually on every example in the corpus, so setting `batched=True` will encode the tweets in batches, while `batch_size=None` applies our tokenize function in one single batch and ensures that the input tensors and attention masks have the same shape globally. \n",
        "\n",
        "We can see that this operation has added two new features to the dataset: `input_ids` and the `attention mask`."
      ],
      "metadata": {
        "id": "MwdkqczIsU8k"
      }
    },
    {
      "cell_type": "code",
      "source": [
        "emotions_encoded[\"train\"].features"
      ],
      "metadata": {
        "id": "GOobcJtBo_3Z",
        "outputId": "9151d01c-0270-4fb6-c4a4-3f02e9eeeabe",
        "colab": {
          "base_uri": "https://localhost:8080/"
        }
      },
      "execution_count": 28,
      "outputs": [
        {
          "output_type": "execute_result",
          "data": {
            "text/plain": [
              "{'attention_mask': Sequence(feature=Value(dtype='int8', id=None), length=-1, id=None),\n",
              " 'input_ids': Sequence(feature=Value(dtype='int32', id=None), length=-1, id=None),\n",
              " 'label': ClassLabel(num_classes=6, names=['sadness', 'joy', 'love', 'anger', 'fear', 'surprise'], names_file=None, id=None),\n",
              " 'text': Value(dtype='string', id=None)}"
            ]
          },
          "metadata": {},
          "execution_count": 28
        }
      ]
    },
    {
      "cell_type": "code",
      "source": [
        "emotions_encoded[\"train\"].features[\"attention_mask\"]"
      ],
      "metadata": {
        "id": "DvKyMMTKtFKe",
        "outputId": "40bf2c9c-95e0-4fec-ef03-9511bdea4ffc",
        "colab": {
          "base_uri": "https://localhost:8080/"
        }
      },
      "execution_count": 29,
      "outputs": [
        {
          "output_type": "execute_result",
          "data": {
            "text/plain": [
              "Sequence(feature=Value(dtype='int8', id=None), length=-1, id=None)"
            ]
          },
          "metadata": {},
          "execution_count": 29
        }
      ]
    },
    {
      "cell_type": "code",
      "source": [
        "emotions_encoded[\"train\"].features[\"input_ids\"]"
      ],
      "metadata": {
        "id": "EF0UsdCatJdW",
        "outputId": "6c683a92-c84a-4ba4-f4de-fd4fedd49b7a",
        "colab": {
          "base_uri": "https://localhost:8080/"
        }
      },
      "execution_count": 30,
      "outputs": [
        {
          "output_type": "execute_result",
          "data": {
            "text/plain": [
              "Sequence(feature=Value(dtype='int32', id=None), length=-1, id=None)"
            ]
          },
          "metadata": {},
          "execution_count": 30
        }
      ]
    },
    {
      "cell_type": "code",
      "source": [
        "emotions_encoded[\"train\"].features[\"label\"]"
      ],
      "metadata": {
        "id": "64MG2ANytMPV",
        "outputId": "3cc137ee-b59f-4142-9cd0-6d35148b2890",
        "colab": {
          "base_uri": "https://localhost:8080/"
        }
      },
      "execution_count": 31,
      "outputs": [
        {
          "output_type": "execute_result",
          "data": {
            "text/plain": [
              "ClassLabel(num_classes=6, names=['sadness', 'joy', 'love', 'anger', 'fear', 'surprise'], names_file=None, id=None)"
            ]
          },
          "metadata": {},
          "execution_count": 31
        }
      ]
    },
    {
      "cell_type": "code",
      "source": [
        "emotions_encoded[\"train\"].features[\"text\"]"
      ],
      "metadata": {
        "id": "cOrJJqjItPYH",
        "outputId": "c0b70628-4f3d-4a27-9c09-b6a5646a9bea",
        "colab": {
          "base_uri": "https://localhost:8080/"
        }
      },
      "execution_count": 32,
      "outputs": [
        {
          "output_type": "execute_result",
          "data": {
            "text/plain": [
              "Value(dtype='string', id=None)"
            ]
          },
          "metadata": {},
          "execution_count": 32
        }
      ]
    },
    {
      "cell_type": "markdown",
      "source": [
        "###From Input IDs to Hidden States"
      ],
      "metadata": {
        "id": "fjG6S1hwj6q7"
      }
    },
    {
      "cell_type": "markdown",
      "source": [
        "Now that we have converted our tweets to numerical inputs, the next step is to extract the last hidden states so that we can feed them to a classifier. \n",
        "\n",
        "If we had a single example we could simply pass the `input_ids` and `attention_mask` to the model as follows:\n",
        "\n",
        "```python\n",
        "hidden_states = model(input_ids, attention_mask)\n",
        "```\n",
        "\n",
        "but what we really want are the hidden states across the whole dataset. For this, we can use the `DatasetDict.map` function again! \n",
        "\n",
        "Let’s define a `forward_pass` function that takes a\n",
        "batch of input IDs and attention masks, feeds them to the model, and adds a new\n",
        "`hidden_state` feature to our batch:"
      ],
      "metadata": {
        "id": "Pwa5OxyWj76q"
      }
    },
    {
      "cell_type": "code",
      "source": [
        "def forward_pass(batch):\n",
        "  input_ids = torch.tensor(batch[\"input_ids\"]).to(device)\n",
        "  attention_mask = torch.tensor(batch[\"attention_mask\"]).to(device)\n",
        "\n",
        "  with torch.no_grad():\n",
        "    last_hidden_state = model(input_ids, attention_mask).last_hidden_state\n",
        "    last_hidden_state = last_hidden_state.cpu().numpy()\n",
        "\n",
        "  # Use average of unmasked hidden states for classification\n",
        "  lhs_shape = last_hidden_state.shape\n",
        "  boolean_mask = ~np.array(batch[\"attention_mask\"]).astype(bool)\n",
        "  boolean_mask = np.repeat(boolean_mask, lhs_shape[-1], axis=-1)\n",
        "  boolean_mask = boolean_mask.reshape(lhs_shape)\n",
        "  masked_mean = np.ma.array(last_hidden_state, mask=boolean_mask).mean(axis=1)\n",
        "  batch[\"hidden_state\"] = masked_mean.data\n",
        "\n",
        "  return batch"
      ],
      "metadata": {
        "id": "R8vsGztRj-WH"
      },
      "execution_count": 45,
      "outputs": []
    },
    {
      "cell_type": "code",
      "source": [
        "model = AutoModel.from_pretrained(model_name).to(device)"
      ],
      "metadata": {
        "id": "lPl8sCi3kRqQ"
      },
      "execution_count": null,
      "outputs": []
    },
    {
      "cell_type": "code",
      "source": [
        "emotions_encoded = emotions_encoded.map(forward_pass, batched=True, batch_size=16)"
      ],
      "metadata": {
        "id": "DfnPEpb-kCy8"
      },
      "execution_count": null,
      "outputs": []
    },
    {
      "cell_type": "markdown",
      "source": [
        "As before, the application of `DatasetDict.map` has added a new `hidden_state` feature to our dataset:"
      ],
      "metadata": {
        "id": "i2McPaXCkFhG"
      }
    },
    {
      "cell_type": "code",
      "source": [
        "emotions_encoded[\"train\"].features"
      ],
      "metadata": {
        "colab": {
          "base_uri": "https://localhost:8080/"
        },
        "id": "agakjzazkF6W",
        "outputId": "feb5a30e-c876-49da-cc5d-76aa1dcfde7b"
      },
      "execution_count": 50,
      "outputs": [
        {
          "output_type": "execute_result",
          "data": {
            "text/plain": [
              "{'attention_mask': Sequence(feature=Value(dtype='int8', id=None), length=-1, id=None),\n",
              " 'hidden_state': Sequence(feature=Value(dtype='float64', id=None), length=-1, id=None),\n",
              " 'input_ids': Sequence(feature=Value(dtype='int32', id=None), length=-1, id=None),\n",
              " 'label': ClassLabel(num_classes=6, names=['sadness', 'joy', 'love', 'anger', 'fear', 'surprise'], names_file=None, id=None),\n",
              " 'text': Value(dtype='string', id=None)}"
            ]
          },
          "metadata": {},
          "execution_count": 50
        }
      ]
    },
    {
      "cell_type": "code",
      "source": [
        "labels_name= emotions_encoded[\"train\"].features[\"label\"]\n",
        "labels_name.names"
      ],
      "metadata": {
        "colab": {
          "base_uri": "https://localhost:8080/"
        },
        "id": "9vri1fzlkhpg",
        "outputId": "8ae271bb-f044-4b09-c530-f8b503b9edf3"
      },
      "execution_count": 51,
      "outputs": [
        {
          "output_type": "execute_result",
          "data": {
            "text/plain": [
              "['sadness', 'joy', 'love', 'anger', 'fear', 'surprise']"
            ]
          },
          "metadata": {},
          "execution_count": 51
        }
      ]
    },
    {
      "cell_type": "markdown",
      "source": [
        "###Creating a Feature Matrix"
      ],
      "metadata": {
        "id": "HAR99aNWjfb3"
      }
    },
    {
      "cell_type": "markdown",
      "source": [
        "The preprocessed dataset now contains all the information we need to train a clasifier on it. We\n",
        "will use the hidden states as input features and the labels as targets. \n",
        "\n",
        "We can easily create the\n",
        "corresponding arrays in the well known Scikit-Learn format as follows:"
      ],
      "metadata": {
        "id": "_Iieu74UjgMN"
      }
    },
    {
      "cell_type": "code",
      "source": [
        "x_train = np.array(emotions_encoded[\"train\"][\"hidden_state\"])\n",
        "x_valid = np.array(emotions_encoded[\"validation\"][\"hidden_state\"])\n",
        "\n",
        "y_train = np.array(emotions_encoded[\"train\"][\"label\"])\n",
        "y_valid = np.array(emotions_encoded[\"validation\"][\"label\"])\n",
        "\n",
        "x_train.shape, x_valid.shape"
      ],
      "metadata": {
        "id": "n5jXHj2DjuVX",
        "colab": {
          "base_uri": "https://localhost:8080/"
        },
        "outputId": "76c80be8-a153-43dc-ea4e-bd01d673c0c9"
      },
      "execution_count": 53,
      "outputs": [
        {
          "output_type": "execute_result",
          "data": {
            "text/plain": [
              "((16000, 768), (2000, 768))"
            ]
          },
          "metadata": {},
          "execution_count": 53
        }
      ]
    },
    {
      "cell_type": "markdown",
      "source": [
        "###Dimensionality Reduction with UMAP"
      ],
      "metadata": {
        "id": "1JcTEZwpkqxG"
      }
    },
    {
      "cell_type": "markdown",
      "source": [
        "Before we train a model on the hidden states, it is good practice to perform a sanity check that\n",
        "they provide a useful representation of the emotions we want to classify. \n",
        "\n",
        "Since visualising the hidden states in 768 dimensions is tricky to say the least, we’ll use the powerful UMAP algorithm to project the vectors down to 2D. \n",
        "\n",
        "Since UMAP works best when the features are scaled to lie in the `[0,1]` interval, we’ll first apply a MinMaxScaler and then use UMAP to\n",
        "reduce the hidden states:"
      ],
      "metadata": {
        "id": "1XFcm7NLkrjm"
      }
    },
    {
      "cell_type": "code",
      "source": [
        "x_scaled = MinMaxScaler().fit_transform(x_train)\n",
        "mapper = umap.UMAP(n_components=2, metric=\"cosine\").fit(x_scaled)\n",
        "df_emb = pd.DataFrame(mapper.embedding_, columns=[\"X\", \"Y\"])\n",
        "df_emb[\"label\"] = y_train\n",
        "\n",
        "df_emb.head()"
      ],
      "metadata": {
        "id": "6_rihDiHoi98",
        "outputId": "064c7758-6360-4bc1-999d-97f29b4db972",
        "colab": {
          "base_uri": "https://localhost:8080/",
          "height": 206
        }
      },
      "execution_count": 54,
      "outputs": [
        {
          "output_type": "execute_result",
          "data": {
            "text/html": [
              "\n",
              "  <div id=\"df-f753184c-fdc2-4d1e-aa71-712c6123ab76\">\n",
              "    <div class=\"colab-df-container\">\n",
              "      <div>\n",
              "<style scoped>\n",
              "    .dataframe tbody tr th:only-of-type {\n",
              "        vertical-align: middle;\n",
              "    }\n",
              "\n",
              "    .dataframe tbody tr th {\n",
              "        vertical-align: top;\n",
              "    }\n",
              "\n",
              "    .dataframe thead th {\n",
              "        text-align: right;\n",
              "    }\n",
              "</style>\n",
              "<table border=\"1\" class=\"dataframe\">\n",
              "  <thead>\n",
              "    <tr style=\"text-align: right;\">\n",
              "      <th></th>\n",
              "      <th>X</th>\n",
              "      <th>Y</th>\n",
              "      <th>label</th>\n",
              "    </tr>\n",
              "  </thead>\n",
              "  <tbody>\n",
              "    <tr>\n",
              "      <th>0</th>\n",
              "      <td>6.248400</td>\n",
              "      <td>4.642050</td>\n",
              "      <td>0</td>\n",
              "    </tr>\n",
              "    <tr>\n",
              "      <th>1</th>\n",
              "      <td>1.292773</td>\n",
              "      <td>4.426934</td>\n",
              "      <td>0</td>\n",
              "    </tr>\n",
              "    <tr>\n",
              "      <th>2</th>\n",
              "      <td>5.448877</td>\n",
              "      <td>1.858183</td>\n",
              "      <td>3</td>\n",
              "    </tr>\n",
              "    <tr>\n",
              "      <th>3</th>\n",
              "      <td>2.250811</td>\n",
              "      <td>2.956772</td>\n",
              "      <td>2</td>\n",
              "    </tr>\n",
              "    <tr>\n",
              "      <th>4</th>\n",
              "      <td>0.672228</td>\n",
              "      <td>6.810980</td>\n",
              "      <td>3</td>\n",
              "    </tr>\n",
              "  </tbody>\n",
              "</table>\n",
              "</div>\n",
              "      <button class=\"colab-df-convert\" onclick=\"convertToInteractive('df-f753184c-fdc2-4d1e-aa71-712c6123ab76')\"\n",
              "              title=\"Convert this dataframe to an interactive table.\"\n",
              "              style=\"display:none;\">\n",
              "        \n",
              "  <svg xmlns=\"http://www.w3.org/2000/svg\" height=\"24px\"viewBox=\"0 0 24 24\"\n",
              "       width=\"24px\">\n",
              "    <path d=\"M0 0h24v24H0V0z\" fill=\"none\"/>\n",
              "    <path d=\"M18.56 5.44l.94 2.06.94-2.06 2.06-.94-2.06-.94-.94-2.06-.94 2.06-2.06.94zm-11 1L8.5 8.5l.94-2.06 2.06-.94-2.06-.94L8.5 2.5l-.94 2.06-2.06.94zm10 10l.94 2.06.94-2.06 2.06-.94-2.06-.94-.94-2.06-.94 2.06-2.06.94z\"/><path d=\"M17.41 7.96l-1.37-1.37c-.4-.4-.92-.59-1.43-.59-.52 0-1.04.2-1.43.59L10.3 9.45l-7.72 7.72c-.78.78-.78 2.05 0 2.83L4 21.41c.39.39.9.59 1.41.59.51 0 1.02-.2 1.41-.59l7.78-7.78 2.81-2.81c.8-.78.8-2.07 0-2.86zM5.41 20L4 18.59l7.72-7.72 1.47 1.35L5.41 20z\"/>\n",
              "  </svg>\n",
              "      </button>\n",
              "      \n",
              "  <style>\n",
              "    .colab-df-container {\n",
              "      display:flex;\n",
              "      flex-wrap:wrap;\n",
              "      gap: 12px;\n",
              "    }\n",
              "\n",
              "    .colab-df-convert {\n",
              "      background-color: #E8F0FE;\n",
              "      border: none;\n",
              "      border-radius: 50%;\n",
              "      cursor: pointer;\n",
              "      display: none;\n",
              "      fill: #1967D2;\n",
              "      height: 32px;\n",
              "      padding: 0 0 0 0;\n",
              "      width: 32px;\n",
              "    }\n",
              "\n",
              "    .colab-df-convert:hover {\n",
              "      background-color: #E2EBFA;\n",
              "      box-shadow: 0px 1px 2px rgba(60, 64, 67, 0.3), 0px 1px 3px 1px rgba(60, 64, 67, 0.15);\n",
              "      fill: #174EA6;\n",
              "    }\n",
              "\n",
              "    [theme=dark] .colab-df-convert {\n",
              "      background-color: #3B4455;\n",
              "      fill: #D2E3FC;\n",
              "    }\n",
              "\n",
              "    [theme=dark] .colab-df-convert:hover {\n",
              "      background-color: #434B5C;\n",
              "      box-shadow: 0px 1px 3px 1px rgba(0, 0, 0, 0.15);\n",
              "      filter: drop-shadow(0px 1px 2px rgba(0, 0, 0, 0.3));\n",
              "      fill: #FFFFFF;\n",
              "    }\n",
              "  </style>\n",
              "\n",
              "      <script>\n",
              "        const buttonEl =\n",
              "          document.querySelector('#df-f753184c-fdc2-4d1e-aa71-712c6123ab76 button.colab-df-convert');\n",
              "        buttonEl.style.display =\n",
              "          google.colab.kernel.accessAllowed ? 'block' : 'none';\n",
              "\n",
              "        async function convertToInteractive(key) {\n",
              "          const element = document.querySelector('#df-f753184c-fdc2-4d1e-aa71-712c6123ab76');\n",
              "          const dataTable =\n",
              "            await google.colab.kernel.invokeFunction('convertToInteractive',\n",
              "                                                     [key], {});\n",
              "          if (!dataTable) return;\n",
              "\n",
              "          const docLinkHtml = 'Like what you see? Visit the ' +\n",
              "            '<a target=\"_blank\" href=https://colab.research.google.com/notebooks/data_table.ipynb>data table notebook</a>'\n",
              "            + ' to learn more about interactive tables.';\n",
              "          element.innerHTML = '';\n",
              "          dataTable['output_type'] = 'display_data';\n",
              "          await google.colab.output.renderOutput(dataTable, element);\n",
              "          const docLink = document.createElement('div');\n",
              "          docLink.innerHTML = docLinkHtml;\n",
              "          element.appendChild(docLink);\n",
              "        }\n",
              "      </script>\n",
              "    </div>\n",
              "  </div>\n",
              "  "
            ],
            "text/plain": [
              "          X         Y  label\n",
              "0  6.248400  4.642050      0\n",
              "1  1.292773  4.426934      0\n",
              "2  5.448877  1.858183      3\n",
              "3  2.250811  2.956772      2\n",
              "4  0.672228  6.810980      3"
            ]
          },
          "metadata": {},
          "execution_count": 54
        }
      ]
    },
    {
      "cell_type": "markdown",
      "source": [
        "The result is an array with the same number of training samples, but with only 2 features instead of the 768 we started with! \n",
        "\n",
        "Let us investigate the compressed data a little bit further and\n",
        "plot the density of points for each category separately:"
      ],
      "metadata": {
        "id": "pnj3R2qfsD8C"
      }
    },
    {
      "cell_type": "code",
      "source": [
        "labels= emotions_encoded[\"train\"].features[\"label\"]\n",
        "labels.names"
      ],
      "metadata": {
        "id": "j5mqzxUkyF-g",
        "outputId": "53be257d-e7e6-4a75-cab9-ce1c4efbdc39",
        "colab": {
          "base_uri": "https://localhost:8080/"
        }
      },
      "execution_count": 55,
      "outputs": [
        {
          "output_type": "execute_result",
          "data": {
            "text/plain": [
              "['sadness', 'joy', 'love', 'anger', 'fear', 'surprise']"
            ]
          },
          "metadata": {},
          "execution_count": 55
        }
      ]
    },
    {
      "cell_type": "code",
      "source": [
        "fig, axes = plt.subplots(2, 3)\n",
        "axes = axes.flatten()\n",
        "cmaps = [\"Greys\", \"Blues\", \"Oranges\", \"Reds\", \"Purples\", \"Greens\"]\n",
        "labels= emotions_encoded[\"train\"].features[\"label\"].names\n",
        "\n",
        "for i, (label, cmap) in enumerate(zip(labels, cmaps)):\n",
        "  df_emb_sub = df_emb.query(f\"label == {i}\")\n",
        "  axes[i].hexbin(df_emb_sub[\"X\"], df_emb_sub[\"Y\"], cmap=cmap, gridsize=20, linewidths=(0,))\n",
        "  axes[i].set_title(label)\n",
        "  axes[i].set_xticks([]), axes[i].set_yticks([])"
      ],
      "metadata": {
        "id": "-6g6h59psGS8",
        "outputId": "6345faa3-3d49-4af0-ab82-6a3a012821ad",
        "colab": {
          "base_uri": "https://localhost:8080/",
          "height": 268
        }
      },
      "execution_count": 56,
      "outputs": [
        {
          "output_type": "display_data",
          "data": {
            "image/png": "[encoded data removed]",
            "text/plain": [
              "<Figure size 432x288 with 6 Axes>"
            ]
          },
          "metadata": {}
        }
      ]
    },
    {
      "cell_type": "markdown",
      "source": [
        ">These are only projections onto a lower dimensional space. Just because some categories overlap does not mean\n",
        "that they are not separable in the original space. Conversely, if they are separable in the projected space they will\n",
        "be separable in the original space.\n",
        "\n",
        "Now there seem to be clearer patterns; the negative feelings such as sadness, anger and\n",
        "fear all occupy a similar regions with slightly varying distributions. \n",
        "\n",
        "On the other hand, joy\n",
        "and love are well separated from the negative emotions and also share a similar space.\n",
        "\n",
        "Finally, surprise is scattered all over the place. We hoped for some separation but this in no\n",
        "way guaranteed since the model was not trained to know the difference between this emotions\n",
        "but learned them implicitly by predicting missing words."
      ],
      "metadata": {
        "id": "lrB5e0WayfuO"
      }
    },
    {
      "cell_type": "markdown",
      "source": [
        "##Fine-tuning Transformers"
      ],
      "metadata": {
        "id": "GRSoM5_xypAB"
      }
    },
    {
      "cell_type": "markdown",
      "source": [
        "Let’s now explore what it takes to fine-tune a Transformer end-to-end. With the fine-tuning\n",
        "approach we do not use the hidden states as fixed features, but instead train them as shown.\n",
        "\n",
        "<img src='https://github.com/rahiakela/transformers-research-and-practice/blob/main/natural-language-processing-with-transformers/02-text-classification/images/5.png?raw=1' width='800'/>\n",
        "\n",
        "This requires the classification head to be differentiable, which is why this method\n",
        "usually uses a neural network for classification. \n",
        "\n",
        "Since we retrain all the DistilBERT parameters,\n",
        "this approach requires much more compute than the feature extraction approach and typically\n",
        "requires a GPU.\n",
        "\n",
        "Since we train the hidden states that serve as inputs to the classification model, we also avoid\n",
        "the problem of working with data that may not be well suited for the classification task. \n",
        "\n",
        "Instead,\n",
        "the initial hidden states adapt during training to decrease the model loss and thus increase its\n",
        "performance. If the necessary compute is available, this method is commonly chosen over the\n",
        "feature-based approach since it usually outperforms it.\n",
        "\n",
        "We’ll be using the Trainer API from Transformers to simplify the training loop - let’s look at the ingredients we need to set one up!"
      ],
      "metadata": {
        "id": "neMUtYZByrbQ"
      }
    },
    {
      "cell_type": "markdown",
      "source": [
        "####Loading a Pretrained Model"
      ],
      "metadata": {
        "id": "LtEateZ0yq3W"
      }
    },
    {
      "cell_type": "markdown",
      "source": [
        "The first thing we need is a pretrained `DistilBERT` model like the one we used in the featurebased approach. The only slight modification is that we use the\n",
        "`AutoModelForSequenceClassification` model instead of `AutoModel`. \n",
        "\n",
        "The difference is that the `AutoModelForSequenceClassification` model has a\n",
        "classification head on top of the model outputs which can be easily trained with the base model.\n",
        "\n",
        "We just need to specify how many labels the model has to predict (six in our case), since this dictates the number of outputs the classification head has:"
      ],
      "metadata": {
        "id": "TJhNcumVyrpC"
      }
    },
    {
      "cell_type": "code",
      "source": [
        "num_labels = 6\n",
        "\n",
        "model = (AutoModelForSequenceClassification.from_pretrained(model_name, num_labels=num_labels).to(device))"
      ],
      "metadata": {
        "id": "rV9B-TGB11I6",
        "outputId": "ee446dbe-a326-4d23-ca50-e5adae92f014",
        "colab": {
          "base_uri": "https://localhost:8080/"
        }
      },
      "execution_count": 57,
      "outputs": [
        {
          "output_type": "stream",
          "name": "stderr",
          "text": [
            "Some weights of the model checkpoint at distilbert-base-uncased were not used when initializing DistilBertForSequenceClassification: ['vocab_projector.weight', 'vocab_transform.weight', 'vocab_layer_norm.weight', 'vocab_layer_norm.bias', 'vocab_transform.bias', 'vocab_projector.bias']\n",
            "- This IS expected if you are initializing DistilBertForSequenceClassification from the checkpoint of a model trained on another task or with another architecture (e.g. initializing a BertForSequenceClassification model from a BertForPreTraining model).\n",
            "- This IS NOT expected if you are initializing DistilBertForSequenceClassification from the checkpoint of a model that you expect to be exactly identical (initializing a BertForSequenceClassification model from a BertForSequenceClassification model).\n",
            "Some weights of DistilBertForSequenceClassification were not initialized from the model checkpoint at distilbert-base-uncased and are newly initialized: ['pre_classifier.weight', 'classifier.bias', 'classifier.weight', 'pre_classifier.bias']\n",
            "You should probably TRAIN this model on a down-stream task to be able to use it for predictions and inference.\n"
          ]
        }
      ]
    },
    {
      "cell_type": "markdown",
      "source": [
        "You will probably see a warning that some parts of the models are randomly initialized. This is\n",
        "normal since the classification head has not yet been trained."
      ],
      "metadata": {
        "id": "aiSrnFjB2RDh"
      }
    },
    {
      "cell_type": "markdown",
      "source": [
        "####Preprocess the Tweets"
      ],
      "metadata": {
        "id": "m7PzYLfX2Rpf"
      }
    },
    {
      "cell_type": "markdown",
      "source": [
        "In addition to the tokenization we also need to set the format of the columns to\n",
        "`torch.Tensor`. This allows us to train the model without needing to change back and forth\n",
        "between lists, arrays, and tensors. \n",
        "\n",
        "With Datasets we can use the `set_format` function to\n",
        "change the data type of the columns we wish to keep, while dropping all the rest:"
      ],
      "metadata": {
        "id": "PUmGSdGj2Udt"
      }
    },
    {
      "cell_type": "code",
      "source": [
        "emotions_encoded.set_format(\"torch\", columns=[\"input_ids\", \"attention_mask\", \"label\"])"
      ],
      "metadata": {
        "id": "8OdqFDiE2j3N"
      },
      "execution_count": 58,
      "outputs": []
    },
    {
      "cell_type": "markdown",
      "source": [
        "We can see that the samples are now of type `torch.Tensor`:"
      ],
      "metadata": {
        "id": "JhWMNEjK20d5"
      }
    },
    {
      "cell_type": "code",
      "source": [
        "emotions_encoded[\"train\"][0]"
      ],
      "metadata": {
        "id": "X5ptMv6R23Qg",
        "outputId": "f4c4bcab-4b29-4418-87c1-7b18005205f9",
        "colab": {
          "base_uri": "https://localhost:8080/"
        }
      },
      "execution_count": 59,
      "outputs": [
        {
          "output_type": "execute_result",
          "data": {
            "text/plain": [
              "{'attention_mask': tensor([1, 1, 1, 1, 1, 1, 1, 0, 0, 0, 0, 0, 0, 0, 0, 0, 0, 0, 0, 0, 0, 0, 0, 0,\n",
              "         0, 0, 0, 0, 0, 0, 0, 0, 0, 0, 0, 0, 0, 0, 0, 0, 0, 0, 0, 0, 0, 0, 0, 0,\n",
              "         0, 0, 0, 0, 0, 0, 0, 0, 0, 0, 0, 0, 0, 0, 0, 0, 0, 0, 0, 0, 0, 0, 0, 0,\n",
              "         0, 0, 0, 0, 0, 0, 0, 0, 0, 0, 0, 0, 0, 0, 0]),\n",
              " 'input_ids': tensor([  101,  1045,  2134,  2102,  2514, 26608,   102,     0,     0,     0,\n",
              "             0,     0,     0,     0,     0,     0,     0,     0,     0,     0,\n",
              "             0,     0,     0,     0,     0,     0,     0,     0,     0,     0,\n",
              "             0,     0,     0,     0,     0,     0,     0,     0,     0,     0,\n",
              "             0,     0,     0,     0,     0,     0,     0,     0,     0,     0,\n",
              "             0,     0,     0,     0,     0,     0,     0,     0,     0,     0,\n",
              "             0,     0,     0,     0,     0,     0,     0,     0,     0,     0,\n",
              "             0,     0,     0,     0,     0,     0,     0,     0,     0,     0,\n",
              "             0,     0,     0,     0,     0,     0,     0]),\n",
              " 'label': tensor(0)}"
            ]
          },
          "metadata": {},
          "execution_count": 59
        }
      ]
    },
    {
      "cell_type": "code",
      "source": [
        "emotions_encoded[\"train\"][1]"
      ],
      "metadata": {
        "id": "K4h-Hvv53DJB",
        "outputId": "44308028-fca1-45ab-aa92-7e5cf0229cd1",
        "colab": {
          "base_uri": "https://localhost:8080/"
        }
      },
      "execution_count": 60,
      "outputs": [
        {
          "output_type": "execute_result",
          "data": {
            "text/plain": [
              "{'attention_mask': tensor([1, 1, 1, 1, 1, 1, 1, 1, 1, 1, 1, 1, 1, 1, 1, 1, 1, 1, 1, 1, 1, 1, 1, 0,\n",
              "         0, 0, 0, 0, 0, 0, 0, 0, 0, 0, 0, 0, 0, 0, 0, 0, 0, 0, 0, 0, 0, 0, 0, 0,\n",
              "         0, 0, 0, 0, 0, 0, 0, 0, 0, 0, 0, 0, 0, 0, 0, 0, 0, 0, 0, 0, 0, 0, 0, 0,\n",
              "         0, 0, 0, 0, 0, 0, 0, 0, 0, 0, 0, 0, 0, 0, 0]),\n",
              " 'input_ids': tensor([  101,  1045,  2064,  2175,  2013,  3110,  2061, 20625,  2000,  2061,\n",
              "          9636, 17772,  2074,  2013,  2108,  2105,  2619,  2040, 14977,  1998,\n",
              "          2003,  8300,   102,     0,     0,     0,     0,     0,     0,     0,\n",
              "             0,     0,     0,     0,     0,     0,     0,     0,     0,     0,\n",
              "             0,     0,     0,     0,     0,     0,     0,     0,     0,     0,\n",
              "             0,     0,     0,     0,     0,     0,     0,     0,     0,     0,\n",
              "             0,     0,     0,     0,     0,     0,     0,     0,     0,     0,\n",
              "             0,     0,     0,     0,     0,     0,     0,     0,     0,     0,\n",
              "             0,     0,     0,     0,     0,     0,     0]),\n",
              " 'label': tensor(0)}"
            ]
          },
          "metadata": {},
          "execution_count": 60
        }
      ]
    },
    {
      "cell_type": "markdown",
      "source": [
        "####Define the Performance Metrics"
      ],
      "metadata": {
        "id": "09ZJGyMG3Km9"
      }
    },
    {
      "cell_type": "markdown",
      "source": [
        "Furthermore, we define some metrics that are monitored during training. This can be any\n",
        "function that takes a prediction object, that contains the model predictions as well as the correct\n",
        "labels and returns a dictionary with scalar metric values. \n",
        "\n",
        "We will monitor the F1-score and the\n",
        "accuracy of the model."
      ],
      "metadata": {
        "id": "7hZidsx23LeS"
      }
    },
    {
      "cell_type": "code",
      "source": [
        "def compute_metrics(pred):\n",
        "  labels = pred.label_ids\n",
        "  preds = pred.predictions.argmax(-1)\n",
        "  f1 = f1_score(labels, preds, average=\"weighted\")\n",
        "  acc = accuracy_score(labels, preds)\n",
        "\n",
        "  return {\"accuracy\": acc, \"f1\": f1}"
      ],
      "metadata": {
        "id": "WxiP1Ri33bMD"
      },
      "execution_count": 61,
      "outputs": []
    },
    {
      "cell_type": "markdown",
      "source": [
        "####Training the Model"
      ],
      "metadata": {
        "id": "640GkDBW4CLe"
      }
    },
    {
      "cell_type": "markdown",
      "source": [
        "With the dataset and metrics ready we can now instantiate a Trainer class. The main\n",
        "ingredient here is the TrainingArguments class to specify all the parameters of the\n",
        "training run, one of which is the output directory for the model checkpoints."
      ],
      "metadata": {
        "id": "hkaeesq-4DBF"
      }
    },
    {
      "cell_type": "code",
      "source": [
        "batch_size = 64\n",
        "logging_steps = len(emotions_encoded[\"train\"]) // batch_size\n",
        "training_args = TrainingArguments(output_dir=\"results\",\n",
        "                                  num_train_epochs=2,\n",
        "                                  learning_rate=2e-5,\n",
        "                                  per_device_train_batch_size=batch_size,\n",
        "                                  per_device_eval_batch_size=batch_size,\n",
        "                                  load_best_model_at_end=True,\n",
        "                                  metric_for_best_model=\"f1\",\n",
        "                                  weight_decay=0.01,\n",
        "                                  evaluation_strategy=\"steps\",\n",
        "                                  disable_tqdm=False,\n",
        "                                  logging_steps=logging_steps,)"
      ],
      "metadata": {
        "id": "--VlMc924Tk0"
      },
      "execution_count": 62,
      "outputs": []
    },
    {
      "cell_type": "markdown",
      "source": [
        "With this final ingredient, we can instantiate and finetune\n",
        "our model with the `Trainer`:"
      ],
      "metadata": {
        "id": "ut1v7LAq7b0p"
      }
    },
    {
      "cell_type": "code",
      "source": [
        "trainer = Trainer(model=model, args=training_args,\n",
        "                  compute_metrics=compute_metrics,\n",
        "                  train_dataset=emotions_encoded[\"train\"],\n",
        "                  eval_dataset=emotions_encoded[\"validation\"])\n",
        "trainer.train();"
      ],
      "metadata": {
        "id": "1HyJNsTE7drI",
        "outputId": "9839d5d3-ed12-4637-9a00-73ec42f393fd",
        "colab": {
          "base_uri": "https://localhost:8080/",
          "height": 610
        }
      },
      "execution_count": 63,
      "outputs": [
        {
          "output_type": "stream",
          "name": "stderr",
          "text": [
            "The following columns in the training set  don't have a corresponding argument in `DistilBertForSequenceClassification.forward` and have been ignored: hidden_state, text.\n",
            "***** Running training *****\n",
            "  Num examples = 16000\n",
            "  Num Epochs = 2\n",
            "  Instantaneous batch size per device = 64\n",
            "  Total train batch size (w. parallel, distributed & accumulation) = 64\n",
            "  Gradient Accumulation steps = 1\n",
            "  Total optimization steps = 500\n"
          ]
        },
        {
          "output_type": "display_data",
          "data": {
            "text/html": [
              "\n",
              "    <div>\n",
              "      \n",
              "      <progress value='500' max='500' style='width:300px; height:20px; vertical-align: middle;'></progress>\n",
              "      [500/500 07:17, Epoch 2/2]\n",
              "    </div>\n",
              "    <table border=\"1\" class=\"dataframe\">\n",
              "  <thead>\n",
              "    <tr style=\"text-align: left;\">\n",
              "      <th>Step</th>\n",
              "      <th>Training Loss</th>\n",
              "      <th>Validation Loss</th>\n",
              "      <th>Accuracy</th>\n",
              "      <th>F1</th>\n",
              "    </tr>\n",
              "  </thead>\n",
              "  <tbody>\n",
              "    <tr>\n",
              "      <td>250</td>\n",
              "      <td>0.818700</td>\n",
              "      <td>0.321873</td>\n",
              "      <td>0.906000</td>\n",
              "      <td>0.903479</td>\n",
              "    </tr>\n",
              "    <tr>\n",
              "      <td>500</td>\n",
              "      <td>0.247500</td>\n",
              "      <td>0.224831</td>\n",
              "      <td>0.924000</td>\n",
              "      <td>0.924199</td>\n",
              "    </tr>\n",
              "  </tbody>\n",
              "</table><p>"
            ],
            "text/plain": [
              "<IPython.core.display.HTML object>"
            ]
          },
          "metadata": {}
        },
        {
          "output_type": "stream",
          "name": "stderr",
          "text": [
            "The following columns in the evaluation set  don't have a corresponding argument in `DistilBertForSequenceClassification.forward` and have been ignored: hidden_state, text.\n",
            "***** Running Evaluation *****\n",
            "  Num examples = 2000\n",
            "  Batch size = 64\n",
            "The following columns in the evaluation set  don't have a corresponding argument in `DistilBertForSequenceClassification.forward` and have been ignored: hidden_state, text.\n",
            "***** Running Evaluation *****\n",
            "  Num examples = 2000\n",
            "  Batch size = 64\n",
            "Saving model checkpoint to results/checkpoint-500\n",
            "Configuration saved in results/checkpoint-500/config.json\n",
            "Model weights saved in results/checkpoint-500/pytorch_model.bin\n",
            "\n",
            "\n",
            "Training completed. Do not forget to share your model on huggingface.co/models =)\n",
            "\n",
            "\n",
            "Loading best model from results/checkpoint-500 (score: 0.924198595718084).\n"
          ]
        }
      ]
    },
    {
      "cell_type": "markdown",
      "source": [
        "Looking at the logs we can see that our model has an `F1` score on the validation set of around\n",
        "`92%` - this is a significant improvement over the feature-based approach! \n",
        "\n",
        "We can also see that\n",
        "the best model was saved by running the `evaluate` method:"
      ],
      "metadata": {
        "id": "yl3dZ45d8K25"
      }
    },
    {
      "cell_type": "code",
      "source": [
        "results = trainer.evaluate()\n",
        "results"
      ],
      "metadata": {
        "id": "xwLI0Xh08RnY",
        "outputId": "ec88b39a-a6ec-44a0-a2e2-bef24d22b1a4",
        "colab": {
          "base_uri": "https://localhost:8080/",
          "height": 256
        }
      },
      "execution_count": 64,
      "outputs": [
        {
          "output_type": "stream",
          "name": "stderr",
          "text": [
            "The following columns in the evaluation set  don't have a corresponding argument in `DistilBertForSequenceClassification.forward` and have been ignored: hidden_state, text.\n",
            "***** Running Evaluation *****\n",
            "  Num examples = 2000\n",
            "  Batch size = 64\n"
          ]
        },
        {
          "output_type": "display_data",
          "data": {
            "text/html": [
              "\n",
              "    <div>\n",
              "      \n",
              "      <progress value='32' max='32' style='width:300px; height:20px; vertical-align: middle;'></progress>\n",
              "      [32/32 00:08]\n",
              "    </div>\n",
              "    "
            ],
            "text/plain": [
              "<IPython.core.display.HTML object>"
            ]
          },
          "metadata": {}
        },
        {
          "output_type": "execute_result",
          "data": {
            "text/plain": [
              "{'epoch': 2.0,\n",
              " 'eval_accuracy': 0.924,\n",
              " 'eval_f1': 0.924198595718084,\n",
              " 'eval_loss': 0.22483114898204803,\n",
              " 'eval_runtime': 8.6083,\n",
              " 'eval_samples_per_second': 232.333,\n",
              " 'eval_steps_per_second': 3.717}"
            ]
          },
          "metadata": {},
          "execution_count": 64
        }
      ]
    },
    {
      "cell_type": "markdown",
      "source": [
        "Let’s have a more detailed look at the training metrics by calculating the confusion matrix."
      ],
      "metadata": {
        "id": "S8tiA-te8vDD"
      }
    },
    {
      "cell_type": "markdown",
      "source": [
        "####Visualize the Confusion Matrix"
      ],
      "metadata": {
        "id": "VJHzyNw78hBY"
      }
    },
    {
      "cell_type": "markdown",
      "source": [
        "To visualise the confusion matrix, we first need to get the predictions on the validation set. \n",
        "\n",
        "The predict function of the Trainer class returns several useful objects we can use for evaluation:"
      ],
      "metadata": {
        "id": "bixI80Bf8iRd"
      }
    },
    {
      "cell_type": "code",
      "source": [
        "preds_output = trainer.predict(emotions_encoded[\"validation\"])"
      ],
      "metadata": {
        "id": "JJ9Gk5y5Umnd",
        "outputId": "841d0e2b-b3fe-4c08-8af0-7450c1f31290",
        "colab": {
          "base_uri": "https://localhost:8080/",
          "height": 130
        }
      },
      "execution_count": 65,
      "outputs": [
        {
          "output_type": "stream",
          "name": "stderr",
          "text": [
            "The following columns in the test set  don't have a corresponding argument in `DistilBertForSequenceClassification.forward` and have been ignored: hidden_state, text.\n",
            "***** Running Prediction *****\n",
            "  Num examples = 2000\n",
            "  Batch size = 64\n"
          ]
        },
        {
          "output_type": "display_data",
          "data": {
            "text/html": [
              "\n",
              "    <div>\n",
              "      \n",
              "      <progress value='64' max='32' style='width:300px; height:20px; vertical-align: middle;'></progress>\n",
              "      [32/32 00:16]\n",
              "    </div>\n",
              "    "
            ],
            "text/plain": [
              "<IPython.core.display.HTML object>"
            ]
          },
          "metadata": {}
        }
      ]
    },
    {
      "cell_type": "markdown",
      "source": [
        "First, it contains the loss and the metrics we specified earlier:"
      ],
      "metadata": {
        "id": "Iy_8MXFjU2V5"
      }
    },
    {
      "cell_type": "code",
      "source": [
        "preds_output.metrics"
      ],
      "metadata": {
        "id": "qgBK_KXtU2wd",
        "outputId": "a55792d6-efd6-40b6-b452-ffb260ef0e36",
        "colab": {
          "base_uri": "https://localhost:8080/"
        }
      },
      "execution_count": 66,
      "outputs": [
        {
          "output_type": "execute_result",
          "data": {
            "text/plain": [
              "{'test_accuracy': 0.924,\n",
              " 'test_f1': 0.924198595718084,\n",
              " 'test_loss': 0.22483114898204803,\n",
              " 'test_runtime': 8.4396,\n",
              " 'test_samples_per_second': 236.979,\n",
              " 'test_steps_per_second': 3.792}"
            ]
          },
          "metadata": {},
          "execution_count": 66
        }
      ]
    },
    {
      "cell_type": "markdown",
      "source": [
        "It also contains the raw predictions for each class. We decode the predictions greedily with an\n",
        "argmax. \n",
        "\n",
        "This yields the predicted label and has the same format as the labels returned by the\n",
        "Scikit-Learn models in the feature-based approach:"
      ],
      "metadata": {
        "id": "sSX-D_n3VNN5"
      }
    },
    {
      "cell_type": "code",
      "source": [
        "y_preds = np.argmax(preds_output.predictions, axis=1)"
      ],
      "metadata": {
        "id": "WpNiWX2MVOjJ"
      },
      "execution_count": 67,
      "outputs": []
    },
    {
      "cell_type": "markdown",
      "source": [
        "With the predictions we can plot the confusion matrix again:"
      ],
      "metadata": {
        "id": "yPfQQytzVZcu"
      }
    },
    {
      "cell_type": "code",
      "source": [
        "y_train = np.array(emotions_encoded[\"train\"][\"label\"])\n",
        "y_valid = np.array(emotions_encoded[\"validation\"][\"label\"])\n",
        "labels= emotions_encoded[\"train\"].features[\"label\"]\n",
        "labels.names"
      ],
      "metadata": {
        "id": "tNHOChZVWxI9",
        "outputId": "c975b6b2-98d6-4a6c-d5cd-c1d29fa47cad",
        "colab": {
          "base_uri": "https://localhost:8080/"
        }
      },
      "execution_count": 68,
      "outputs": [
        {
          "output_type": "execute_result",
          "data": {
            "text/plain": [
              "['sadness', 'joy', 'love', 'anger', 'fear', 'surprise']"
            ]
          },
          "metadata": {},
          "execution_count": 68
        }
      ]
    },
    {
      "cell_type": "code",
      "source": [
        "#plot_confusion_matrix(y_preds, y_valid, labels)"
      ],
      "metadata": {
        "id": "AA8Qpz_qVZ13"
      },
      "execution_count": null,
      "outputs": []
    },
    {
      "cell_type": "markdown",
      "source": [
        "Also, looking at the classification report reveals that the model is also performing much better\n",
        "for minority classes like surprise."
      ],
      "metadata": {
        "id": "M14ODYT6XGiY"
      }
    },
    {
      "cell_type": "code",
      "source": [
        "print(classification_report(y_valid, y_preds, target_names=labels.names))"
      ],
      "metadata": {
        "id": "m5XIpbaUXGqi",
        "outputId": "4b41d45a-c2de-4e59-f1c5-45ce0b09cf3b",
        "colab": {
          "base_uri": "https://localhost:8080/"
        }
      },
      "execution_count": 69,
      "outputs": [
        {
          "output_type": "stream",
          "name": "stdout",
          "text": [
            "              precision    recall  f1-score   support\n",
            "\n",
            "     sadness       0.94      0.97      0.96       550\n",
            "         joy       0.95      0.93      0.94       704\n",
            "        love       0.81      0.91      0.85       178\n",
            "       anger       0.94      0.92      0.93       275\n",
            "        fear       0.87      0.88      0.88       212\n",
            "    surprise       0.91      0.79      0.85        81\n",
            "\n",
            "    accuracy                           0.92      2000\n",
            "   macro avg       0.90      0.90      0.90      2000\n",
            "weighted avg       0.93      0.92      0.92      2000\n",
            "\n"
          ]
        }
      ]
    },
    {
      "cell_type": "markdown",
      "source": [
        "##Hyperparameter Optimization"
      ],
      "metadata": {
        "id": "UmCnELHqXX5Y"
      }
    },
    {
      "cell_type": "markdown",
      "source": [
        ""
      ],
      "metadata": {
        "id": "Lv75ZON8XZR9"
      }
    }
  ]
}