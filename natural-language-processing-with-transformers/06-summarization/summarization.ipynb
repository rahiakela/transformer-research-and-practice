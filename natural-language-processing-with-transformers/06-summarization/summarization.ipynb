{
  "nbformat": 4,
  "nbformat_minor": 0,
  "metadata": {
    "colab": {
      "name": "summarization.ipynb",
      "provenance": [],
      "toc_visible": true,
      "authorship_tag": "ABX9TyMGm7bxoV/tvvVaiWVScWEU",
      "include_colab_link": true
    },
    "kernelspec": {
      "name": "python3",
      "display_name": "Python 3"
    },
    "language_info": {
      "name": "python"
    },
    "accelerator": "GPU"
  },
  "cells": [
    {
      "cell_type": "markdown",
      "metadata": {
        "id": "view-in-github",
        "colab_type": "text"
      },
      "source": [
        "<a href=\"https://colab.research.google.com/github/rahiakela/transformers-research-and-practice/blob/main/natural-language-processing-with-transformers/06-summarization/summarization.ipynb\" target=\"_parent\"><img src=\"https://colab.research.google.com/assets/colab-badge.svg\" alt=\"Open In Colab\"/></a>"
      ]
    },
    {
      "cell_type": "markdown",
      "source": [
        "##Summarization"
      ],
      "metadata": {
        "id": "yec-35M4BWvO"
      }
    },
    {
      "cell_type": "markdown",
      "source": [
        "Text summarization is a\n",
        "difficult task for neural language models, including transformers. Despite these challenges,\n",
        "text summarization offers the prospect for domain experts to significantly\n",
        "speed up their workflows and is used by enterprises to condense internal knowledge,\n",
        "summarize contracts, automatically generate content for social media releases,\n",
        "and more.\n",
        "\n",
        "Summarization is a classic\n",
        "sequence-to-sequence (seq2seq) task with an input text and a target text."
      ],
      "metadata": {
        "id": "dfFj2oRmBXpd"
      }
    },
    {
      "cell_type": "markdown",
      "source": [
        "##Setup"
      ],
      "metadata": {
        "id": "0jROG17wBazd"
      }
    },
    {
      "cell_type": "code",
      "source": [
        "!pip -q install transformers\n",
        "!pip -q install datasets"
      ],
      "metadata": {
        "id": "ojHJ4FhvBb7V"
      },
      "execution_count": null,
      "outputs": []
    },
    {
      "cell_type": "code",
      "source": [
        "from transformers import pipeline, set_seed\n",
        "from transformers import AutoModelForSeq2SeqLM, AutoTokenizer\n",
        "from transformers import DataCollatorForSeq2Seq\n",
        "from transformers import TrainingArguments, Trainer\n",
        "\n",
        "from datasets import load_dataset, load_metric\n",
        "\n",
        "import pandas as pd\n",
        "import numpy as np\n",
        "import matplotlib.pyplot as plt\n",
        "\n",
        "import torch\n",
        "\n",
        "import nltk\n",
        "from nltk.tokenize import sent_tokenize\n",
        "\n",
        "from tqdm import tqdm"
      ],
      "metadata": {
        "id": "dIrfRuBsBibh"
      },
      "execution_count": 2,
      "outputs": []
    },
    {
      "cell_type": "markdown",
      "source": [
        "##CNN/DailyMail Dataset"
      ],
      "metadata": {
        "id": "qBE7AF9bD1Wx"
      }
    },
    {
      "cell_type": "markdown",
      "source": [
        "The CNN/DailyMail dataset consists of around 300,000 pairs of news articles and\n",
        "their corresponding summaries, composed from the bullet points that CNN and the\n",
        "DailyMail attach to their articles.\n",
        "\n",
        "An important aspect of the dataset is that the summaries are abstractive and not extractive, which means that they consist of new\n",
        "sentences instead of simple excerpts.\n",
        "\n",
        "We’ll use version 3.0.0, which is a nonanonymized version set up for summarization."
      ],
      "metadata": {
        "id": "5IQkUfASD2Kw"
      }
    },
    {
      "cell_type": "code",
      "source": [
        "dataset = load_dataset(\"cnn_dailymail\", version=\"3.0.0\")"
      ],
      "metadata": {
        "id": "le4s8kDKEMwp"
      },
      "execution_count": null,
      "outputs": []
    },
    {
      "cell_type": "code",
      "source": [
        "print(f\"Features: {dataset['train'].column_names}\")"
      ],
      "metadata": {
        "colab": {
          "base_uri": "https://localhost:8080/"
        },
        "id": "hlgyxXqHE5BQ",
        "outputId": "698a0f08-fc7f-4833-c0b5-82428f46576c"
      },
      "execution_count": 5,
      "outputs": [
        {
          "output_type": "stream",
          "name": "stdout",
          "text": [
            "Features: ['article', 'highlights', 'id']\n"
          ]
        }
      ]
    },
    {
      "cell_type": "markdown",
      "source": [
        "Let’s look at an excerpt from an article:"
      ],
      "metadata": {
        "id": "liZjNQ2KFA9w"
      }
    },
    {
      "cell_type": "code",
      "source": [
        "sample = dataset[\"train\"][1]\n",
        "\n",
        "print(f\"\"\"Article (excerpt of 500 characters, total length: {len(sample['article'])})\"\"\")\n",
        "print(sample[\"article\"])\n",
        "\n",
        "print(f\"\\nSummary (length: {len(sample['highlights'])})\")\n",
        "print(sample[\"highlights\"])"
      ],
      "metadata": {
        "colab": {
          "base_uri": "https://localhost:8080/"
        },
        "id": "nKLCJt-wFC49",
        "outputId": "b33140b6-572a-42ec-f0be-7c506147fffd"
      },
      "execution_count": 9,
      "outputs": [
        {
          "output_type": "stream",
          "name": "stdout",
          "text": [
            "Article (excerpt of 500 characters, total length: 3192)\n",
            "(CNN) -- Usain Bolt rounded off the world championships Sunday by claiming his third gold in Moscow as he anchored Jamaica to victory in the men's 4x100m relay. The fastest man in the world charged clear of United States rival Justin Gatlin as the Jamaican quartet of Nesta Carter, Kemar Bailey-Cole, Nickel Ashmeade and Bolt won in 37.36 seconds. The U.S finished second in 37.56 seconds with Canada taking the bronze after Britain were disqualified for a faulty handover. The 26-year-old Bolt has now collected eight gold medals at world championships, equaling the record held by American trio Carl Lewis, Michael Johnson and Allyson Felix, not to mention the small matter of six Olympic titles. The relay triumph followed individual successes in the 100 and 200 meters in the Russian capital. \"I'm proud of myself and I'll continue to work to dominate for as long as possible,\" Bolt said, having previously expressed his intention to carry on until the 2016 Rio Olympics. Victory was never seriously in doubt once he got the baton safely in hand from Ashmeade, while Gatlin and the United States third leg runner Rakieem Salaam had problems. Gatlin strayed out of his lane as he struggled to get full control of their baton and was never able to get on terms with Bolt. Earlier, Jamaica's women underlined their dominance in the sprint events by winning the 4x100m relay gold, anchored by Shelly-Ann Fraser-Pryce, who like Bolt was completing a triple. Their quartet recorded a championship record of 41.29 seconds, well clear of France, who crossed the line in second place in 42.73 seconds. Defending champions, the United States, were initially back in the bronze medal position after losing time on the second handover between Alexandria Anderson and English Gardner, but promoted to silver when France were subsequently disqualified for an illegal handover. The British quartet, who were initially fourth, were promoted to the bronze which eluded their men's team. Fraser-Pryce, like Bolt aged 26, became the first woman to achieve three golds in the 100-200 and the relay. In other final action on the last day of the championships, France's Teddy Tamgho became the third man to leap over 18m in the triple jump, exceeding the mark by four centimeters to take gold. Germany's Christina Obergfoll finally took gold at global level in the women's javelin after five previous silvers, while Kenya's Asbel Kiprop easily won a tactical men's 1500m final. Kiprop's compatriot Eunice Jepkoech Sum was a surprise winner of the women's 800m. Bolt's final dash for golden glory brought the eight-day championship to a rousing finale, but while the hosts topped the medal table from the United States there was criticism of the poor attendances in the Luzhniki Stadium. There was further concern when their pole vault gold medalist Yelena Isinbayeva made controversial remarks in support of Russia's new laws, which make \"the propagandizing of non-traditional sexual relations among minors\" a criminal offense. She later attempted to clarify her comments, but there were renewed calls by gay rights groups for a boycott of the 2014 Winter Games in Sochi, the next major sports event in Russia.\n",
            "\n",
            "Summary (length: 180)\n",
            "Usain Bolt wins third gold of world championship .\n",
            "Anchors Jamaica to 4x100m relay victory .\n",
            "Eighth gold at the championships for Bolt .\n",
            "Jamaica double up in women's 4x100m relay .\n"
          ]
        }
      ]
    },
    {
      "cell_type": "markdown",
      "source": [
        "We see that the articles can be very long compared to the target summary; in this particular\n",
        "case the difference is 17-fold.\n",
        "\n",
        "Long articles pose a challenge to most transformer\n",
        "models since the context size is usually limited to 1,000 tokens or so, which is\n",
        "equivalent to a few paragraphs of text. The standard, yet crude way to deal with this\n",
        "for summarization is to simply truncate the texts beyond the model’s context size."
      ],
      "metadata": {
        "id": "I3uztDnPIwQN"
      }
    },
    {
      "cell_type": "markdown",
      "source": [
        "##Text Summarization Pipelines"
      ],
      "metadata": {
        "id": "PXn-s8xdI3n-"
      }
    },
    {
      "cell_type": "markdown",
      "source": [
        ""
      ],
      "metadata": {
        "id": "AIIQn9SpI4V1"
      }
    }
  ]
}