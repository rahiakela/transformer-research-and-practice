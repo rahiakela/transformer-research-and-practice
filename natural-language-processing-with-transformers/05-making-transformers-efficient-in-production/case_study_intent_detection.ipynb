{
  "nbformat": 4,
  "nbformat_minor": 0,
  "metadata": {
    "colab": {
      "name": "case-study--intent-detection.ipynb",
      "provenance": [],
      "toc_visible": true,
      "authorship_tag": "ABX9TyMKJDhzEHg1DyFE/LlR14RA",
      "include_colab_link": true
    },
    "kernelspec": {
      "name": "python3",
      "display_name": "Python 3"
    },
    "language_info": {
      "name": "python"
    },
    "accelerator": "GPU",
    "widgets": {
      "application/vnd.jupyter.widget-state+json": {
        "a706dc06d1d642ca83d7a4c28113feed": {
          "model_module": "@jupyter-widgets/controls",
          "model_name": "HBoxModel",
          "model_module_version": "1.5.0",
          "state": {
            "_view_name": "HBoxView",
            "_dom_classes": [],
            "_model_name": "HBoxModel",
            "_view_module": "@jupyter-widgets/controls",
            "_model_module_version": "1.5.0",
            "_view_count": null,
            "_view_module_version": "1.5.0",
            "box_style": "",
            "layout": "IPY_MODEL_8df513c8e54242afb47c21779b12d034",
            "_model_module": "@jupyter-widgets/controls",
            "children": [
              "IPY_MODEL_50fc823eb05f45a08433ccc0f7406aa6",
              "IPY_MODEL_c97ac97db97e41de951fcd87c24e2b12",
              "IPY_MODEL_ae4ad65daa024098a452e41dca0f9d54"
            ]
          }
        },
        "8df513c8e54242afb47c21779b12d034": {
          "model_module": "@jupyter-widgets/base",
          "model_name": "LayoutModel",
          "model_module_version": "1.2.0",
          "state": {
            "_view_name": "LayoutView",
            "grid_template_rows": null,
            "right": null,
            "justify_content": null,
            "_view_module": "@jupyter-widgets/base",
            "overflow": null,
            "_model_module_version": "1.2.0",
            "_view_count": null,
            "flex_flow": null,
            "width": null,
            "min_width": null,
            "border": null,
            "align_items": null,
            "bottom": null,
            "_model_module": "@jupyter-widgets/base",
            "top": null,
            "grid_column": null,
            "overflow_y": null,
            "overflow_x": null,
            "grid_auto_flow": null,
            "grid_area": null,
            "grid_template_columns": null,
            "flex": null,
            "_model_name": "LayoutModel",
            "justify_items": null,
            "grid_row": null,
            "max_height": null,
            "align_content": null,
            "visibility": null,
            "align_self": null,
            "height": null,
            "min_height": null,
            "padding": null,
            "grid_auto_rows": null,
            "grid_gap": null,
            "max_width": null,
            "order": null,
            "_view_module_version": "1.2.0",
            "grid_template_areas": null,
            "object_position": null,
            "object_fit": null,
            "grid_auto_columns": null,
            "margin": null,
            "display": null,
            "left": null
          }
        },
        "50fc823eb05f45a08433ccc0f7406aa6": {
          "model_module": "@jupyter-widgets/controls",
          "model_name": "HTMLModel",
          "model_module_version": "1.5.0",
          "state": {
            "_view_name": "HTMLView",
            "style": "IPY_MODEL_1f6b72e370c9412296d42151c8a576dd",
            "_dom_classes": [],
            "description": "",
            "_model_name": "HTMLModel",
            "placeholder": "​",
            "_view_module": "@jupyter-widgets/controls",
            "_model_module_version": "1.5.0",
            "value": "100%",
            "_view_count": null,
            "_view_module_version": "1.5.0",
            "description_tooltip": null,
            "_model_module": "@jupyter-widgets/controls",
            "layout": "IPY_MODEL_9c1eb0342fd34cd1a7b759c3761f8b05"
          }
        },
        "c97ac97db97e41de951fcd87c24e2b12": {
          "model_module": "@jupyter-widgets/controls",
          "model_name": "FloatProgressModel",
          "model_module_version": "1.5.0",
          "state": {
            "_view_name": "ProgressView",
            "style": "IPY_MODEL_a7c2a9498de749cabade90d4d4b3175d",
            "_dom_classes": [],
            "description": "",
            "_model_name": "FloatProgressModel",
            "bar_style": "success",
            "max": 3,
            "_view_module": "@jupyter-widgets/controls",
            "_model_module_version": "1.5.0",
            "value": 3,
            "_view_count": null,
            "_view_module_version": "1.5.0",
            "orientation": "horizontal",
            "min": 0,
            "description_tooltip": null,
            "_model_module": "@jupyter-widgets/controls",
            "layout": "IPY_MODEL_126889b1b3644b849b3a01eb1afa4fa3"
          }
        },
        "ae4ad65daa024098a452e41dca0f9d54": {
          "model_module": "@jupyter-widgets/controls",
          "model_name": "HTMLModel",
          "model_module_version": "1.5.0",
          "state": {
            "_view_name": "HTMLView",
            "style": "IPY_MODEL_10abef3ba09f42e6a21ec4e7157079f9",
            "_dom_classes": [],
            "description": "",
            "_model_name": "HTMLModel",
            "placeholder": "​",
            "_view_module": "@jupyter-widgets/controls",
            "_model_module_version": "1.5.0",
            "value": " 3/3 [00:00&lt;00:00, 69.64it/s]",
            "_view_count": null,
            "_view_module_version": "1.5.0",
            "description_tooltip": null,
            "_model_module": "@jupyter-widgets/controls",
            "layout": "IPY_MODEL_f5cd1c859f914c1d8e1b913a2c87aeb9"
          }
        },
        "1f6b72e370c9412296d42151c8a576dd": {
          "model_module": "@jupyter-widgets/controls",
          "model_name": "DescriptionStyleModel",
          "model_module_version": "1.5.0",
          "state": {
            "_view_name": "StyleView",
            "_model_name": "DescriptionStyleModel",
            "description_width": "",
            "_view_module": "@jupyter-widgets/base",
            "_model_module_version": "1.5.0",
            "_view_count": null,
            "_view_module_version": "1.2.0",
            "_model_module": "@jupyter-widgets/controls"
          }
        },
        "9c1eb0342fd34cd1a7b759c3761f8b05": {
          "model_module": "@jupyter-widgets/base",
          "model_name": "LayoutModel",
          "model_module_version": "1.2.0",
          "state": {
            "_view_name": "LayoutView",
            "grid_template_rows": null,
            "right": null,
            "justify_content": null,
            "_view_module": "@jupyter-widgets/base",
            "overflow": null,
            "_model_module_version": "1.2.0",
            "_view_count": null,
            "flex_flow": null,
            "width": null,
            "min_width": null,
            "border": null,
            "align_items": null,
            "bottom": null,
            "_model_module": "@jupyter-widgets/base",
            "top": null,
            "grid_column": null,
            "overflow_y": null,
            "overflow_x": null,
            "grid_auto_flow": null,
            "grid_area": null,
            "grid_template_columns": null,
            "flex": null,
            "_model_name": "LayoutModel",
            "justify_items": null,
            "grid_row": null,
            "max_height": null,
            "align_content": null,
            "visibility": null,
            "align_self": null,
            "height": null,
            "min_height": null,
            "padding": null,
            "grid_auto_rows": null,
            "grid_gap": null,
            "max_width": null,
            "order": null,
            "_view_module_version": "1.2.0",
            "grid_template_areas": null,
            "object_position": null,
            "object_fit": null,
            "grid_auto_columns": null,
            "margin": null,
            "display": null,
            "left": null
          }
        },
        "a7c2a9498de749cabade90d4d4b3175d": {
          "model_module": "@jupyter-widgets/controls",
          "model_name": "ProgressStyleModel",
          "model_module_version": "1.5.0",
          "state": {
            "_view_name": "StyleView",
            "_model_name": "ProgressStyleModel",
            "description_width": "",
            "_view_module": "@jupyter-widgets/base",
            "_model_module_version": "1.5.0",
            "_view_count": null,
            "_view_module_version": "1.2.0",
            "bar_color": null,
            "_model_module": "@jupyter-widgets/controls"
          }
        },
        "126889b1b3644b849b3a01eb1afa4fa3": {
          "model_module": "@jupyter-widgets/base",
          "model_name": "LayoutModel",
          "model_module_version": "1.2.0",
          "state": {
            "_view_name": "LayoutView",
            "grid_template_rows": null,
            "right": null,
            "justify_content": null,
            "_view_module": "@jupyter-widgets/base",
            "overflow": null,
            "_model_module_version": "1.2.0",
            "_view_count": null,
            "flex_flow": null,
            "width": null,
            "min_width": null,
            "border": null,
            "align_items": null,
            "bottom": null,
            "_model_module": "@jupyter-widgets/base",
            "top": null,
            "grid_column": null,
            "overflow_y": null,
            "overflow_x": null,
            "grid_auto_flow": null,
            "grid_area": null,
            "grid_template_columns": null,
            "flex": null,
            "_model_name": "LayoutModel",
            "justify_items": null,
            "grid_row": null,
            "max_height": null,
            "align_content": null,
            "visibility": null,
            "align_self": null,
            "height": null,
            "min_height": null,
            "padding": null,
            "grid_auto_rows": null,
            "grid_gap": null,
            "max_width": null,
            "order": null,
            "_view_module_version": "1.2.0",
            "grid_template_areas": null,
            "object_position": null,
            "object_fit": null,
            "grid_auto_columns": null,
            "margin": null,
            "display": null,
            "left": null
          }
        },
        "10abef3ba09f42e6a21ec4e7157079f9": {
          "model_module": "@jupyter-widgets/controls",
          "model_name": "DescriptionStyleModel",
          "model_module_version": "1.5.0",
          "state": {
            "_view_name": "StyleView",
            "_model_name": "DescriptionStyleModel",
            "description_width": "",
            "_view_module": "@jupyter-widgets/base",
            "_model_module_version": "1.5.0",
            "_view_count": null,
            "_view_module_version": "1.2.0",
            "_model_module": "@jupyter-widgets/controls"
          }
        },
        "f5cd1c859f914c1d8e1b913a2c87aeb9": {
          "model_module": "@jupyter-widgets/base",
          "model_name": "LayoutModel",
          "model_module_version": "1.2.0",
          "state": {
            "_view_name": "LayoutView",
            "grid_template_rows": null,
            "right": null,
            "justify_content": null,
            "_view_module": "@jupyter-widgets/base",
            "overflow": null,
            "_model_module_version": "1.2.0",
            "_view_count": null,
            "flex_flow": null,
            "width": null,
            "min_width": null,
            "border": null,
            "align_items": null,
            "bottom": null,
            "_model_module": "@jupyter-widgets/base",
            "top": null,
            "grid_column": null,
            "overflow_y": null,
            "overflow_x": null,
            "grid_auto_flow": null,
            "grid_area": null,
            "grid_template_columns": null,
            "flex": null,
            "_model_name": "LayoutModel",
            "justify_items": null,
            "grid_row": null,
            "max_height": null,
            "align_content": null,
            "visibility": null,
            "align_self": null,
            "height": null,
            "min_height": null,
            "padding": null,
            "grid_auto_rows": null,
            "grid_gap": null,
            "max_width": null,
            "order": null,
            "_view_module_version": "1.2.0",
            "grid_template_areas": null,
            "object_position": null,
            "object_fit": null,
            "grid_auto_columns": null,
            "margin": null,
            "display": null,
            "left": null
          }
        },
        "f625a55778eb486eb3138929d3389b6c": {
          "model_module": "@jupyter-widgets/controls",
          "model_name": "HBoxModel",
          "model_module_version": "1.5.0",
          "state": {
            "_view_name": "HBoxView",
            "_dom_classes": [],
            "_model_name": "HBoxModel",
            "_view_module": "@jupyter-widgets/controls",
            "_model_module_version": "1.5.0",
            "_view_count": null,
            "_view_module_version": "1.5.0",
            "box_style": "",
            "layout": "IPY_MODEL_31549a9b333c4564896bfe599a22f79e",
            "_model_module": "@jupyter-widgets/controls",
            "children": [
              "IPY_MODEL_19dcbcdb5bcf4c6b9e5db89807960891",
              "IPY_MODEL_1d75b49bff02422a9ba18921cb27a45b",
              "IPY_MODEL_d49ac72f16f64f488af1a3ca9f99c649"
            ]
          }
        },
        "31549a9b333c4564896bfe599a22f79e": {
          "model_module": "@jupyter-widgets/base",
          "model_name": "LayoutModel",
          "model_module_version": "1.2.0",
          "state": {
            "_view_name": "LayoutView",
            "grid_template_rows": null,
            "right": null,
            "justify_content": null,
            "_view_module": "@jupyter-widgets/base",
            "overflow": null,
            "_model_module_version": "1.2.0",
            "_view_count": null,
            "flex_flow": null,
            "width": null,
            "min_width": null,
            "border": null,
            "align_items": null,
            "bottom": null,
            "_model_module": "@jupyter-widgets/base",
            "top": null,
            "grid_column": null,
            "overflow_y": null,
            "overflow_x": null,
            "grid_auto_flow": null,
            "grid_area": null,
            "grid_template_columns": null,
            "flex": null,
            "_model_name": "LayoutModel",
            "justify_items": null,
            "grid_row": null,
            "max_height": null,
            "align_content": null,
            "visibility": null,
            "align_self": null,
            "height": null,
            "min_height": null,
            "padding": null,
            "grid_auto_rows": null,
            "grid_gap": null,
            "max_width": null,
            "order": null,
            "_view_module_version": "1.2.0",
            "grid_template_areas": null,
            "object_position": null,
            "object_fit": null,
            "grid_auto_columns": null,
            "margin": null,
            "display": null,
            "left": null
          }
        },
        "19dcbcdb5bcf4c6b9e5db89807960891": {
          "model_module": "@jupyter-widgets/controls",
          "model_name": "HTMLModel",
          "model_module_version": "1.5.0",
          "state": {
            "_view_name": "HTMLView",
            "style": "IPY_MODEL_9297b8e11b3c44c6b5040c62f500762e",
            "_dom_classes": [],
            "description": "",
            "_model_name": "HTMLModel",
            "placeholder": "​",
            "_view_module": "@jupyter-widgets/controls",
            "_model_module_version": "1.5.0",
            "value": "Downloading: ",
            "_view_count": null,
            "_view_module_version": "1.5.0",
            "description_tooltip": null,
            "_model_module": "@jupyter-widgets/controls",
            "layout": "IPY_MODEL_5828337adfd849609009ba0e49e2492d"
          }
        },
        "1d75b49bff02422a9ba18921cb27a45b": {
          "model_module": "@jupyter-widgets/controls",
          "model_name": "FloatProgressModel",
          "model_module_version": "1.5.0",
          "state": {
            "_view_name": "ProgressView",
            "style": "IPY_MODEL_ffc6c158823f47ed8125e3ee8ec4a23a",
            "_dom_classes": [],
            "description": "",
            "_model_name": "FloatProgressModel",
            "bar_style": "success",
            "max": 1420,
            "_view_module": "@jupyter-widgets/controls",
            "_model_module_version": "1.5.0",
            "value": 1420,
            "_view_count": null,
            "_view_module_version": "1.5.0",
            "orientation": "horizontal",
            "min": 0,
            "description_tooltip": null,
            "_model_module": "@jupyter-widgets/controls",
            "layout": "IPY_MODEL_80f8553ddefe458185ec992f4653eb56"
          }
        },
        "d49ac72f16f64f488af1a3ca9f99c649": {
          "model_module": "@jupyter-widgets/controls",
          "model_name": "HTMLModel",
          "model_module_version": "1.5.0",
          "state": {
            "_view_name": "HTMLView",
            "style": "IPY_MODEL_b05cb74cac6d4b9785d8900f3b30e696",
            "_dom_classes": [],
            "description": "",
            "_model_name": "HTMLModel",
            "placeholder": "​",
            "_view_module": "@jupyter-widgets/controls",
            "_model_module_version": "1.5.0",
            "value": " 3.20k/? [00:00&lt;00:00, 76.0kB/s]",
            "_view_count": null,
            "_view_module_version": "1.5.0",
            "description_tooltip": null,
            "_model_module": "@jupyter-widgets/controls",
            "layout": "IPY_MODEL_20c7e5baa0c347fdb352276b3e81bd2c"
          }
        },
        "9297b8e11b3c44c6b5040c62f500762e": {
          "model_module": "@jupyter-widgets/controls",
          "model_name": "DescriptionStyleModel",
          "model_module_version": "1.5.0",
          "state": {
            "_view_name": "StyleView",
            "_model_name": "DescriptionStyleModel",
            "description_width": "",
            "_view_module": "@jupyter-widgets/base",
            "_model_module_version": "1.5.0",
            "_view_count": null,
            "_view_module_version": "1.2.0",
            "_model_module": "@jupyter-widgets/controls"
          }
        },
        "5828337adfd849609009ba0e49e2492d": {
          "model_module": "@jupyter-widgets/base",
          "model_name": "LayoutModel",
          "model_module_version": "1.2.0",
          "state": {
            "_view_name": "LayoutView",
            "grid_template_rows": null,
            "right": null,
            "justify_content": null,
            "_view_module": "@jupyter-widgets/base",
            "overflow": null,
            "_model_module_version": "1.2.0",
            "_view_count": null,
            "flex_flow": null,
            "width": null,
            "min_width": null,
            "border": null,
            "align_items": null,
            "bottom": null,
            "_model_module": "@jupyter-widgets/base",
            "top": null,
            "grid_column": null,
            "overflow_y": null,
            "overflow_x": null,
            "grid_auto_flow": null,
            "grid_area": null,
            "grid_template_columns": null,
            "flex": null,
            "_model_name": "LayoutModel",
            "justify_items": null,
            "grid_row": null,
            "max_height": null,
            "align_content": null,
            "visibility": null,
            "align_self": null,
            "height": null,
            "min_height": null,
            "padding": null,
            "grid_auto_rows": null,
            "grid_gap": null,
            "max_width": null,
            "order": null,
            "_view_module_version": "1.2.0",
            "grid_template_areas": null,
            "object_position": null,
            "object_fit": null,
            "grid_auto_columns": null,
            "margin": null,
            "display": null,
            "left": null
          }
        },
        "ffc6c158823f47ed8125e3ee8ec4a23a": {
          "model_module": "@jupyter-widgets/controls",
          "model_name": "ProgressStyleModel",
          "model_module_version": "1.5.0",
          "state": {
            "_view_name": "StyleView",
            "_model_name": "ProgressStyleModel",
            "description_width": "",
            "_view_module": "@jupyter-widgets/base",
            "_model_module_version": "1.5.0",
            "_view_count": null,
            "_view_module_version": "1.2.0",
            "bar_color": null,
            "_model_module": "@jupyter-widgets/controls"
          }
        },
        "80f8553ddefe458185ec992f4653eb56": {
          "model_module": "@jupyter-widgets/base",
          "model_name": "LayoutModel",
          "model_module_version": "1.2.0",
          "state": {
            "_view_name": "LayoutView",
            "grid_template_rows": null,
            "right": null,
            "justify_content": null,
            "_view_module": "@jupyter-widgets/base",
            "overflow": null,
            "_model_module_version": "1.2.0",
            "_view_count": null,
            "flex_flow": null,
            "width": null,
            "min_width": null,
            "border": null,
            "align_items": null,
            "bottom": null,
            "_model_module": "@jupyter-widgets/base",
            "top": null,
            "grid_column": null,
            "overflow_y": null,
            "overflow_x": null,
            "grid_auto_flow": null,
            "grid_area": null,
            "grid_template_columns": null,
            "flex": null,
            "_model_name": "LayoutModel",
            "justify_items": null,
            "grid_row": null,
            "max_height": null,
            "align_content": null,
            "visibility": null,
            "align_self": null,
            "height": null,
            "min_height": null,
            "padding": null,
            "grid_auto_rows": null,
            "grid_gap": null,
            "max_width": null,
            "order": null,
            "_view_module_version": "1.2.0",
            "grid_template_areas": null,
            "object_position": null,
            "object_fit": null,
            "grid_auto_columns": null,
            "margin": null,
            "display": null,
            "left": null
          }
        },
        "b05cb74cac6d4b9785d8900f3b30e696": {
          "model_module": "@jupyter-widgets/controls",
          "model_name": "DescriptionStyleModel",
          "model_module_version": "1.5.0",
          "state": {
            "_view_name": "StyleView",
            "_model_name": "DescriptionStyleModel",
            "description_width": "",
            "_view_module": "@jupyter-widgets/base",
            "_model_module_version": "1.5.0",
            "_view_count": null,
            "_view_module_version": "1.2.0",
            "_model_module": "@jupyter-widgets/controls"
          }
        },
        "20c7e5baa0c347fdb352276b3e81bd2c": {
          "model_module": "@jupyter-widgets/base",
          "model_name": "LayoutModel",
          "model_module_version": "1.2.0",
          "state": {
            "_view_name": "LayoutView",
            "grid_template_rows": null,
            "right": null,
            "justify_content": null,
            "_view_module": "@jupyter-widgets/base",
            "overflow": null,
            "_model_module_version": "1.2.0",
            "_view_count": null,
            "flex_flow": null,
            "width": null,
            "min_width": null,
            "border": null,
            "align_items": null,
            "bottom": null,
            "_model_module": "@jupyter-widgets/base",
            "top": null,
            "grid_column": null,
            "overflow_y": null,
            "overflow_x": null,
            "grid_auto_flow": null,
            "grid_area": null,
            "grid_template_columns": null,
            "flex": null,
            "_model_name": "LayoutModel",
            "justify_items": null,
            "grid_row": null,
            "max_height": null,
            "align_content": null,
            "visibility": null,
            "align_self": null,
            "height": null,
            "min_height": null,
            "padding": null,
            "grid_auto_rows": null,
            "grid_gap": null,
            "max_width": null,
            "order": null,
            "_view_module_version": "1.2.0",
            "grid_template_areas": null,
            "object_position": null,
            "object_fit": null,
            "grid_auto_columns": null,
            "margin": null,
            "display": null,
            "left": null
          }
        }
      }
    }
  },
  "cells": [
    {
      "cell_type": "markdown",
      "metadata": {
        "id": "view-in-github",
        "colab_type": "text"
      },
      "source": [
        "<a href=\"https://colab.research.google.com/github/rahiakela/transformers-research-and-practice/blob/main/natural-language-processing-with-transformers/05-making-transformers-efficient-in-production/case_study_intent_detection.ipynb\" target=\"_parent\"><img src=\"https://colab.research.google.com/assets/colab-badge.svg\" alt=\"Open In Colab\"/></a>"
      ]
    },
    {
      "cell_type": "markdown",
      "source": [
        "##Intent Detection: Case Study"
      ],
      "metadata": {
        "id": "W519IdztjisY"
      }
    },
    {
      "cell_type": "markdown",
      "source": [
        "Let’s suppose that we’re trying to build a text-based assistant for our company’s call center so\n",
        "that customers can request the balance of their account or make bookings without needing to\n",
        "speak with a human agent. In order to understand the goals of a customer, our assistant will\n",
        "need to be able to classify a wide variety of natural language text into a set of predefined\n",
        "actions or intents.\n",
        "\n",
        "For example, a customer may send a message about an upcoming trip:\n",
        "\n",
        "```txt\n",
        "Hey, I’d like to rent a vehicle from Nov 1st to Nov 15th in Paris and I need a 15 passenger van\n",
        "```\n",
        "\n",
        "and our intent classifier could automatically categorize this as a Car Rental intent, which then triggers an action and response.\n",
        "\n",
        "To be robust in a production environment, our classifier will\n",
        "also need to be able to handle out-of-scope queries.\n",
        "\n",
        "<img src='https://github.com/rahiakela/transformers-research-and-practice/blob/main/natural-language-processing-with-transformers/05-making-transformers-efficient-in-production/images/1.png?raw=1' width='600'/>\n",
        "\n",
        "In the third case, the text-assistant\n",
        "has been trained to detect out-of-scope queries (usually labelled as a separate class) and informs the customer about which topics they can respond to.\n",
        "\n",
        "As a baseline we’ve fine-tuned a BERT-base model that achieves around `94%` accuracy on the\n",
        "`CLINC150` dataset. This dataset includes `22,500` in-scope queries across `150` intents and `10`\n",
        "domains like banking and travel, and also includes `1,200` out-of-scope queries that belong to an\n",
        "oos intent class. In practice we would also gather our own in-house dataset, but using public\n",
        "data is a great way to iterate quickly and generate preliminary results.\n",
        "\n"
      ],
      "metadata": {
        "id": "XOmQOa_QjwHw"
      }
    },
    {
      "cell_type": "markdown",
      "source": [
        "##Setup"
      ],
      "metadata": {
        "id": "UP1EHAnilUGK"
      }
    },
    {
      "cell_type": "code",
      "source": [
        "!pip -q install transformers[sentencepiece]\n",
        "!pip -q install datasets"
      ],
      "metadata": {
        "id": "PJs0JgLwlVIt"
      },
      "execution_count": null,
      "outputs": []
    },
    {
      "cell_type": "code",
      "source": [
        "from transformers import (AutoTokenizer, AutoModelForSequenceClassification, TextClassificationPipeline)\n",
        "from transformers import TrainingArguments, Trainer\n",
        "from transformers import AutoConfig\n",
        "from datasets import load_dataset, load_metric\n",
        "\n",
        "import torch\n",
        "import torch.nn as nn\n",
        "import torch.nn.functional as F\n",
        "\n",
        "from pathlib import Path\n",
        "from time import perf_counter\n",
        "\n",
        "import numpy as np\n",
        "import pandas as pd\n",
        "import matplotlib.pyplot as plt"
      ],
      "metadata": {
        "id": "A15YGFMiloPN"
      },
      "execution_count": 31,
      "outputs": []
    },
    {
      "cell_type": "markdown",
      "source": [
        "Now, let’s download our fine-tuned model from the Hugging Face Hub and wrap it in a pipeline for text classification:"
      ],
      "metadata": {
        "id": "OIOFJ-dkm0E_"
      }
    },
    {
      "cell_type": "code",
      "source": [
        "# molde path has changed: https://huggingface.co/transformersbook/bert-base-uncased-finetuned-clinc\n",
        "bert_ckpt = \"transformersbook/bert-base-uncased-finetuned-clinc\"\n",
        "\n",
        "bert_tokenizer = AutoTokenizer.from_pretrained(bert_ckpt)\n",
        "bert_model = (AutoModelForSequenceClassification.from_pretrained(bert_ckpt).to(\"cpu\"))\n",
        "\n",
        "bert_pipeline = TextClassificationPipeline(model=bert_model, tokenizer=bert_tokenizer)"
      ],
      "metadata": {
        "id": "l3NVuFLdm2qj"
      },
      "execution_count": null,
      "outputs": []
    },
    {
      "cell_type": "markdown",
      "source": [
        "Here we’ve set the model’s device to cpu since our text-assistant will need to operate in an\n",
        "environment where queries are processed and responded to in real-time.\n",
        "\n",
        "Now that we have a pipeline, we can pass a query to get the predicted intent and confidence\n",
        "score from the model:"
      ],
      "metadata": {
        "id": "lQ6kcqUNrsUP"
      }
    },
    {
      "cell_type": "code",
      "source": [
        "query = \"\"\"Hey, I'd like to rent a vehicle from Nov 1st to Nov 15th in Paris and I need a 15 passenger van\"\"\"\n",
        "\n",
        "bert_pipeline(query)"
      ],
      "metadata": {
        "colab": {
          "base_uri": "https://localhost:8080/"
        },
        "id": "fygRC29urv7Z",
        "outputId": "99915558-eecf-418d-8e12-8252af845a0a"
      },
      "execution_count": 4,
      "outputs": [
        {
          "output_type": "execute_result",
          "data": {
            "text/plain": [
              "[{'label': 'car_rental', 'score': 0.5490034818649292}]"
            ]
          },
          "metadata": {},
          "execution_count": 4
        }
      ]
    },
    {
      "cell_type": "markdown",
      "source": [
        "Great, the `car_rental` intent makes sense so let’s now look at creating a benchmark that we\n",
        "can use to evaluate the performance of our baseline model."
      ],
      "metadata": {
        "id": "ckP-6KbIsBne"
      }
    },
    {
      "cell_type": "markdown",
      "source": [
        "##Performance Benchmark"
      ],
      "metadata": {
        "id": "3auvFWv7sENZ"
      }
    },
    {
      "cell_type": "markdown",
      "source": [
        "Like any other machine learning model, deploying Transformers in production environments involves a trade-off among several constraints, the most common being:\n",
        "\n",
        "- **Model performance**\n",
        "  - How well does our model perform on a well-crafted test set that reflects production data?\n",
        "- **Latency**\n",
        "  - How fast can our model deliver predictions?\n",
        "- **Memory**\n",
        "  - How can we deploy billion-parameter models like GPT-2 or T5 that require gigabytes of disk storage and RAM?\n",
        "\n",
        "Failing to address these constraints can have a negative impact on the user experience of your\n",
        "application, or more commonly, lead to ballooning costs from running expensive cloud servers\n",
        "that may only need to handle a few requests.\n",
        "\n",
        "To explore how each of the these constraints can\n",
        "be optimized with various compression techniques, let’s begin by creating a simple benchmark\n",
        "that measures each quantity for a given pipeline and test set."
      ],
      "metadata": {
        "id": "L-Wj4qUwsG5m"
      }
    },
    {
      "cell_type": "code",
      "source": [
        "class PerformanceBenchmark:\n",
        "  def __init__(self, pipeline, dataset, optim_type=\"BERT baseline\") -> None:\n",
        "    self.pipeline = pipeline\n",
        "    self.dataset = dataset\n",
        "    self.optim_type = optim_type\n",
        "\n",
        "  def compute_accuracy(self):\n",
        "    pass\n",
        "\n",
        "  def compute_size(self):\n",
        "    pass\n",
        "\n",
        "  def time_pipeline(self):\n",
        "    pass\n",
        "\n",
        "  # We’ll use the run_benchmark function to collect all the metrics in a dictionary, with keys given by optim_type.\n",
        "  def run_benchmark(self):\n",
        "    metrics = {}\n",
        "    metrics[self.optim_type] = self.compute_size()\n",
        "    metrics[self.optim_type].update(self.time_pipeline())\n",
        "    metrics[self.optim_type].update(self.compute_accuracy())\n",
        "    return metrics"
      ],
      "metadata": {
        "id": "mw8ChQz0zP0d"
      },
      "execution_count": 5,
      "outputs": []
    },
    {
      "cell_type": "markdown",
      "source": [
        "First we need some data to test on, so let’s download the CLINC150 dataset that was used to finetune our baseline model. \n",
        "\n",
        "We can get the dataset from the Hub with the Datasets library as follows:"
      ],
      "metadata": {
        "id": "RymNuU1w0rB3"
      }
    },
    {
      "cell_type": "code",
      "source": [
        "clinc = load_dataset(\"clinc_oos\", \"plus\")\n",
        "clinc"
      ],
      "metadata": {
        "colab": {
          "base_uri": "https://localhost:8080/",
          "height": 341,
          "referenced_widgets": [
            "a706dc06d1d642ca83d7a4c28113feed",
            "8df513c8e54242afb47c21779b12d034",
            "50fc823eb05f45a08433ccc0f7406aa6",
            "c97ac97db97e41de951fcd87c24e2b12",
            "ae4ad65daa024098a452e41dca0f9d54",
            "1f6b72e370c9412296d42151c8a576dd",
            "9c1eb0342fd34cd1a7b759c3761f8b05",
            "a7c2a9498de749cabade90d4d4b3175d",
            "126889b1b3644b849b3a01eb1afa4fa3",
            "10abef3ba09f42e6a21ec4e7157079f9",
            "f5cd1c859f914c1d8e1b913a2c87aeb9"
          ]
        },
        "id": "fWSUNfxG0vHo",
        "outputId": "5613d36e-f897-41a1-d9fc-130594e8e4ee"
      },
      "execution_count": 24,
      "outputs": [
        {
          "output_type": "stream",
          "name": "stderr",
          "text": [
            "Reusing dataset clinc_oos (/root/.cache/huggingface/datasets/clinc_oos/plus/1.0.0/abcc41d382f8137f039adc747af44714941e8196e845dfbdd8ae7a7e020e6ba1)\n"
          ]
        },
        {
          "output_type": "display_data",
          "data": {
            "application/vnd.jupyter.widget-view+json": {
              "model_id": "a706dc06d1d642ca83d7a4c28113feed",
              "version_minor": 0,
              "version_major": 2
            },
            "text/plain": [
              "  0%|          | 0/3 [00:00<?, ?it/s]"
            ]
          },
          "metadata": {}
        },
        {
          "output_type": "execute_result",
          "data": {
            "text/plain": [
              "DatasetDict({\n",
              "    train: Dataset({\n",
              "        features: ['text', 'intent'],\n",
              "        num_rows: 15250\n",
              "    })\n",
              "    validation: Dataset({\n",
              "        features: ['text', 'intent'],\n",
              "        num_rows: 3100\n",
              "    })\n",
              "    test: Dataset({\n",
              "        features: ['text', 'intent'],\n",
              "        num_rows: 5500\n",
              "    })\n",
              "})"
            ]
          },
          "metadata": {},
          "execution_count": 24
        }
      ]
    },
    {
      "cell_type": "markdown",
      "source": [
        "Each example in the CLINC150 dataset consists of a query in the text column and its corresponding intent. \n",
        "\n",
        "We’ll use the test set to benchmark our models, so let’s take a look at one\n",
        "of the dataset’s examples:"
      ],
      "metadata": {
        "id": "q9J8hxCM1RuH"
      }
    },
    {
      "cell_type": "code",
      "source": [
        "clinc[\"test\"][42]"
      ],
      "metadata": {
        "colab": {
          "base_uri": "https://localhost:8080/"
        },
        "id": "H7lx13kR1UGm",
        "outputId": "fbb69bef-77c3-4fe5-9fb5-d311725e67fa"
      },
      "execution_count": 7,
      "outputs": [
        {
          "output_type": "execute_result",
          "data": {
            "text/plain": [
              "{'intent': 133, 'text': 'transfer $100 from my checking to saving account'}"
            ]
          },
          "metadata": {},
          "execution_count": 7
        }
      ]
    },
    {
      "cell_type": "markdown",
      "source": [
        "The intents are provided as IDs, but we can easily get the mapping to strings (and vice versa)\n",
        "by accessing the `Dataset.features` attribute:"
      ],
      "metadata": {
        "id": "_M_kfBpA1gNg"
      }
    },
    {
      "cell_type": "code",
      "source": [
        "intents = clinc[\"test\"].features[\"intent\"]\n",
        "intents.int2str(clinc[\"test\"][42][\"intent\"])"
      ],
      "metadata": {
        "colab": {
          "base_uri": "https://localhost:8080/",
          "height": 35
        },
        "id": "VhTLlAHg1iVg",
        "outputId": "273f775b-e5d4-4197-acd9-d68a43f2d904"
      },
      "execution_count": 8,
      "outputs": [
        {
          "output_type": "execute_result",
          "data": {
            "application/vnd.google.colaboratory.intrinsic+json": {
              "type": "string"
            },
            "text/plain": [
              "'transfer'"
            ]
          },
          "metadata": {},
          "execution_count": 8
        }
      ]
    },
    {
      "cell_type": "markdown",
      "source": [
        "###Exploring Class distribution"
      ],
      "metadata": {
        "id": "9d7m9nc-D5Wk"
      }
    },
    {
      "cell_type": "markdown",
      "source": [
        "Now that we have a basic understanding of the contents in the CLINC150 dataset, let’s check it class distribution."
      ],
      "metadata": {
        "id": "Ii9JuBXW3csg"
      }
    },
    {
      "cell_type": "code",
      "source": [
        "clinc.set_format(type=\"pandas\")\n",
        "\n",
        "df = clinc[\"train\"][:]\n",
        "df.head()"
      ],
      "metadata": {
        "colab": {
          "base_uri": "https://localhost:8080/",
          "height": 206
        },
        "id": "kvjEe7k63yj_",
        "outputId": "a17cb074-6361-46ec-9294-08380838cd74"
      },
      "execution_count": 9,
      "outputs": [
        {
          "output_type": "execute_result",
          "data": {
            "text/html": [
              "\n",
              "  <div id=\"df-94b722e4-b7b9-4762-9ce6-83162f7c0424\">\n",
              "    <div class=\"colab-df-container\">\n",
              "      <div>\n",
              "<style scoped>\n",
              "    .dataframe tbody tr th:only-of-type {\n",
              "        vertical-align: middle;\n",
              "    }\n",
              "\n",
              "    .dataframe tbody tr th {\n",
              "        vertical-align: top;\n",
              "    }\n",
              "\n",
              "    .dataframe thead th {\n",
              "        text-align: right;\n",
              "    }\n",
              "</style>\n",
              "<table border=\"1\" class=\"dataframe\">\n",
              "  <thead>\n",
              "    <tr style=\"text-align: right;\">\n",
              "      <th></th>\n",
              "      <th>text</th>\n",
              "      <th>intent</th>\n",
              "    </tr>\n",
              "  </thead>\n",
              "  <tbody>\n",
              "    <tr>\n",
              "      <th>0</th>\n",
              "      <td>what expression would i use to say i love you ...</td>\n",
              "      <td>61</td>\n",
              "    </tr>\n",
              "    <tr>\n",
              "      <th>1</th>\n",
              "      <td>can you tell me how to say 'i do not speak muc...</td>\n",
              "      <td>61</td>\n",
              "    </tr>\n",
              "    <tr>\n",
              "      <th>2</th>\n",
              "      <td>what is the equivalent of, 'life is good' in f...</td>\n",
              "      <td>61</td>\n",
              "    </tr>\n",
              "    <tr>\n",
              "      <th>3</th>\n",
              "      <td>tell me how to say, 'it is a beautiful morning...</td>\n",
              "      <td>61</td>\n",
              "    </tr>\n",
              "    <tr>\n",
              "      <th>4</th>\n",
              "      <td>if i were mongolian, how would i say that i am...</td>\n",
              "      <td>61</td>\n",
              "    </tr>\n",
              "  </tbody>\n",
              "</table>\n",
              "</div>\n",
              "      <button class=\"colab-df-convert\" onclick=\"convertToInteractive('df-94b722e4-b7b9-4762-9ce6-83162f7c0424')\"\n",
              "              title=\"Convert this dataframe to an interactive table.\"\n",
              "              style=\"display:none;\">\n",
              "        \n",
              "  <svg xmlns=\"http://www.w3.org/2000/svg\" height=\"24px\"viewBox=\"0 0 24 24\"\n",
              "       width=\"24px\">\n",
              "    <path d=\"M0 0h24v24H0V0z\" fill=\"none\"/>\n",
              "    <path d=\"M18.56 5.44l.94 2.06.94-2.06 2.06-.94-2.06-.94-.94-2.06-.94 2.06-2.06.94zm-11 1L8.5 8.5l.94-2.06 2.06-.94-2.06-.94L8.5 2.5l-.94 2.06-2.06.94zm10 10l.94 2.06.94-2.06 2.06-.94-2.06-.94-.94-2.06-.94 2.06-2.06.94z\"/><path d=\"M17.41 7.96l-1.37-1.37c-.4-.4-.92-.59-1.43-.59-.52 0-1.04.2-1.43.59L10.3 9.45l-7.72 7.72c-.78.78-.78 2.05 0 2.83L4 21.41c.39.39.9.59 1.41.59.51 0 1.02-.2 1.41-.59l7.78-7.78 2.81-2.81c.8-.78.8-2.07 0-2.86zM5.41 20L4 18.59l7.72-7.72 1.47 1.35L5.41 20z\"/>\n",
              "  </svg>\n",
              "      </button>\n",
              "      \n",
              "  <style>\n",
              "    .colab-df-container {\n",
              "      display:flex;\n",
              "      flex-wrap:wrap;\n",
              "      gap: 12px;\n",
              "    }\n",
              "\n",
              "    .colab-df-convert {\n",
              "      background-color: #E8F0FE;\n",
              "      border: none;\n",
              "      border-radius: 50%;\n",
              "      cursor: pointer;\n",
              "      display: none;\n",
              "      fill: #1967D2;\n",
              "      height: 32px;\n",
              "      padding: 0 0 0 0;\n",
              "      width: 32px;\n",
              "    }\n",
              "\n",
              "    .colab-df-convert:hover {\n",
              "      background-color: #E2EBFA;\n",
              "      box-shadow: 0px 1px 2px rgba(60, 64, 67, 0.3), 0px 1px 3px 1px rgba(60, 64, 67, 0.15);\n",
              "      fill: #174EA6;\n",
              "    }\n",
              "\n",
              "    [theme=dark] .colab-df-convert {\n",
              "      background-color: #3B4455;\n",
              "      fill: #D2E3FC;\n",
              "    }\n",
              "\n",
              "    [theme=dark] .colab-df-convert:hover {\n",
              "      background-color: #434B5C;\n",
              "      box-shadow: 0px 1px 3px 1px rgba(0, 0, 0, 0.15);\n",
              "      filter: drop-shadow(0px 1px 2px rgba(0, 0, 0, 0.3));\n",
              "      fill: #FFFFFF;\n",
              "    }\n",
              "  </style>\n",
              "\n",
              "      <script>\n",
              "        const buttonEl =\n",
              "          document.querySelector('#df-94b722e4-b7b9-4762-9ce6-83162f7c0424 button.colab-df-convert');\n",
              "        buttonEl.style.display =\n",
              "          google.colab.kernel.accessAllowed ? 'block' : 'none';\n",
              "\n",
              "        async function convertToInteractive(key) {\n",
              "          const element = document.querySelector('#df-94b722e4-b7b9-4762-9ce6-83162f7c0424');\n",
              "          const dataTable =\n",
              "            await google.colab.kernel.invokeFunction('convertToInteractive',\n",
              "                                                     [key], {});\n",
              "          if (!dataTable) return;\n",
              "\n",
              "          const docLinkHtml = 'Like what you see? Visit the ' +\n",
              "            '<a target=\"_blank\" href=https://colab.research.google.com/notebooks/data_table.ipynb>data table notebook</a>'\n",
              "            + ' to learn more about interactive tables.';\n",
              "          element.innerHTML = '';\n",
              "          dataTable['output_type'] = 'display_data';\n",
              "          await google.colab.output.renderOutput(dataTable, element);\n",
              "          const docLink = document.createElement('div');\n",
              "          docLink.innerHTML = docLinkHtml;\n",
              "          element.appendChild(docLink);\n",
              "        }\n",
              "      </script>\n",
              "    </div>\n",
              "  </div>\n",
              "  "
            ],
            "text/plain": [
              "                                                text  intent\n",
              "0  what expression would i use to say i love you ...      61\n",
              "1  can you tell me how to say 'i do not speak muc...      61\n",
              "2  what is the equivalent of, 'life is good' in f...      61\n",
              "3  tell me how to say, 'it is a beautiful morning...      61\n",
              "4  if i were mongolian, how would i say that i am...      61"
            ]
          },
          "metadata": {},
          "execution_count": 9
        }
      ]
    },
    {
      "cell_type": "code",
      "source": [
        "def label_int2str(row, split):\n",
        "  return clinc[split].features[\"intent\"].int2str(row)"
      ],
      "metadata": {
        "id": "S4qNxogY4G5u"
      },
      "execution_count": 10,
      "outputs": []
    },
    {
      "cell_type": "code",
      "source": [
        "df[\"label_name\"] = df[\"intent\"].apply(label_int2str, split=\"train\")\n",
        "df.head()"
      ],
      "metadata": {
        "colab": {
          "base_uri": "https://localhost:8080/",
          "height": 206
        },
        "id": "7BBQ5y8C4HUd",
        "outputId": "9fb2d680-1321-46de-d50d-7d8174da0822"
      },
      "execution_count": 11,
      "outputs": [
        {
          "output_type": "execute_result",
          "data": {
            "text/html": [
              "\n",
              "  <div id=\"df-9c2e755d-96c1-48a1-80e6-ffcd6e38fee1\">\n",
              "    <div class=\"colab-df-container\">\n",
              "      <div>\n",
              "<style scoped>\n",
              "    .dataframe tbody tr th:only-of-type {\n",
              "        vertical-align: middle;\n",
              "    }\n",
              "\n",
              "    .dataframe tbody tr th {\n",
              "        vertical-align: top;\n",
              "    }\n",
              "\n",
              "    .dataframe thead th {\n",
              "        text-align: right;\n",
              "    }\n",
              "</style>\n",
              "<table border=\"1\" class=\"dataframe\">\n",
              "  <thead>\n",
              "    <tr style=\"text-align: right;\">\n",
              "      <th></th>\n",
              "      <th>text</th>\n",
              "      <th>intent</th>\n",
              "      <th>label_name</th>\n",
              "    </tr>\n",
              "  </thead>\n",
              "  <tbody>\n",
              "    <tr>\n",
              "      <th>0</th>\n",
              "      <td>what expression would i use to say i love you ...</td>\n",
              "      <td>61</td>\n",
              "      <td>translate</td>\n",
              "    </tr>\n",
              "    <tr>\n",
              "      <th>1</th>\n",
              "      <td>can you tell me how to say 'i do not speak muc...</td>\n",
              "      <td>61</td>\n",
              "      <td>translate</td>\n",
              "    </tr>\n",
              "    <tr>\n",
              "      <th>2</th>\n",
              "      <td>what is the equivalent of, 'life is good' in f...</td>\n",
              "      <td>61</td>\n",
              "      <td>translate</td>\n",
              "    </tr>\n",
              "    <tr>\n",
              "      <th>3</th>\n",
              "      <td>tell me how to say, 'it is a beautiful morning...</td>\n",
              "      <td>61</td>\n",
              "      <td>translate</td>\n",
              "    </tr>\n",
              "    <tr>\n",
              "      <th>4</th>\n",
              "      <td>if i were mongolian, how would i say that i am...</td>\n",
              "      <td>61</td>\n",
              "      <td>translate</td>\n",
              "    </tr>\n",
              "  </tbody>\n",
              "</table>\n",
              "</div>\n",
              "      <button class=\"colab-df-convert\" onclick=\"convertToInteractive('df-9c2e755d-96c1-48a1-80e6-ffcd6e38fee1')\"\n",
              "              title=\"Convert this dataframe to an interactive table.\"\n",
              "              style=\"display:none;\">\n",
              "        \n",
              "  <svg xmlns=\"http://www.w3.org/2000/svg\" height=\"24px\"viewBox=\"0 0 24 24\"\n",
              "       width=\"24px\">\n",
              "    <path d=\"M0 0h24v24H0V0z\" fill=\"none\"/>\n",
              "    <path d=\"M18.56 5.44l.94 2.06.94-2.06 2.06-.94-2.06-.94-.94-2.06-.94 2.06-2.06.94zm-11 1L8.5 8.5l.94-2.06 2.06-.94-2.06-.94L8.5 2.5l-.94 2.06-2.06.94zm10 10l.94 2.06.94-2.06 2.06-.94-2.06-.94-.94-2.06-.94 2.06-2.06.94z\"/><path d=\"M17.41 7.96l-1.37-1.37c-.4-.4-.92-.59-1.43-.59-.52 0-1.04.2-1.43.59L10.3 9.45l-7.72 7.72c-.78.78-.78 2.05 0 2.83L4 21.41c.39.39.9.59 1.41.59.51 0 1.02-.2 1.41-.59l7.78-7.78 2.81-2.81c.8-.78.8-2.07 0-2.86zM5.41 20L4 18.59l7.72-7.72 1.47 1.35L5.41 20z\"/>\n",
              "  </svg>\n",
              "      </button>\n",
              "      \n",
              "  <style>\n",
              "    .colab-df-container {\n",
              "      display:flex;\n",
              "      flex-wrap:wrap;\n",
              "      gap: 12px;\n",
              "    }\n",
              "\n",
              "    .colab-df-convert {\n",
              "      background-color: #E8F0FE;\n",
              "      border: none;\n",
              "      border-radius: 50%;\n",
              "      cursor: pointer;\n",
              "      display: none;\n",
              "      fill: #1967D2;\n",
              "      height: 32px;\n",
              "      padding: 0 0 0 0;\n",
              "      width: 32px;\n",
              "    }\n",
              "\n",
              "    .colab-df-convert:hover {\n",
              "      background-color: #E2EBFA;\n",
              "      box-shadow: 0px 1px 2px rgba(60, 64, 67, 0.3), 0px 1px 3px 1px rgba(60, 64, 67, 0.15);\n",
              "      fill: #174EA6;\n",
              "    }\n",
              "\n",
              "    [theme=dark] .colab-df-convert {\n",
              "      background-color: #3B4455;\n",
              "      fill: #D2E3FC;\n",
              "    }\n",
              "\n",
              "    [theme=dark] .colab-df-convert:hover {\n",
              "      background-color: #434B5C;\n",
              "      box-shadow: 0px 1px 3px 1px rgba(0, 0, 0, 0.15);\n",
              "      filter: drop-shadow(0px 1px 2px rgba(0, 0, 0, 0.3));\n",
              "      fill: #FFFFFF;\n",
              "    }\n",
              "  </style>\n",
              "\n",
              "      <script>\n",
              "        const buttonEl =\n",
              "          document.querySelector('#df-9c2e755d-96c1-48a1-80e6-ffcd6e38fee1 button.colab-df-convert');\n",
              "        buttonEl.style.display =\n",
              "          google.colab.kernel.accessAllowed ? 'block' : 'none';\n",
              "\n",
              "        async function convertToInteractive(key) {\n",
              "          const element = document.querySelector('#df-9c2e755d-96c1-48a1-80e6-ffcd6e38fee1');\n",
              "          const dataTable =\n",
              "            await google.colab.kernel.invokeFunction('convertToInteractive',\n",
              "                                                     [key], {});\n",
              "          if (!dataTable) return;\n",
              "\n",
              "          const docLinkHtml = 'Like what you see? Visit the ' +\n",
              "            '<a target=\"_blank\" href=https://colab.research.google.com/notebooks/data_table.ipynb>data table notebook</a>'\n",
              "            + ' to learn more about interactive tables.';\n",
              "          element.innerHTML = '';\n",
              "          dataTable['output_type'] = 'display_data';\n",
              "          await google.colab.output.renderOutput(dataTable, element);\n",
              "          const docLink = document.createElement('div');\n",
              "          docLink.innerHTML = docLinkHtml;\n",
              "          element.appendChild(docLink);\n",
              "        }\n",
              "      </script>\n",
              "    </div>\n",
              "  </div>\n",
              "  "
            ],
            "text/plain": [
              "                                                text  intent label_name\n",
              "0  what expression would i use to say i love you ...      61  translate\n",
              "1  can you tell me how to say 'i do not speak muc...      61  translate\n",
              "2  what is the equivalent of, 'life is good' in f...      61  translate\n",
              "3  tell me how to say, 'it is a beautiful morning...      61  translate\n",
              "4  if i were mongolian, how would i say that i am...      61  translate"
            ]
          },
          "metadata": {},
          "execution_count": 11
        }
      ]
    },
    {
      "cell_type": "code",
      "source": [
        "df[\"label_name\"].value_counts(ascending=True)"
      ],
      "metadata": {
        "colab": {
          "base_uri": "https://localhost:8080/"
        },
        "id": "4ig5e0lu4-S5",
        "outputId": "037b2ce4-4284-4f28-f62b-1018baebbc75"
      },
      "execution_count": 12,
      "outputs": [
        {
          "output_type": "execute_result",
          "data": {
            "text/plain": [
              "redeem_rewards     100\n",
              "credit_limit       100\n",
              "meal_suggestion    100\n",
              "calendar           100\n",
              "rewards_balance    100\n",
              "                  ... \n",
              "gas                100\n",
              "thank_you          100\n",
              "how_busy           100\n",
              "are_you_a_bot      100\n",
              "oos                250\n",
              "Name: label_name, Length: 151, dtype: int64"
            ]
          },
          "metadata": {},
          "execution_count": 12
        }
      ]
    },
    {
      "cell_type": "code",
      "source": [
        "df[\"label_name\"].value_counts(ascending=True).plot.barh()\n",
        "plt.title(\"Intent Counts\");"
      ],
      "metadata": {
        "colab": {
          "base_uri": "https://localhost:8080/",
          "height": 281
        },
        "id": "2BXcUSw13gJK",
        "outputId": "3262998c-a39e-4e2b-cd56-1e9abb9ee25f"
      },
      "execution_count": 13,
      "outputs": [
        {
          "output_type": "display_data",
          "data": {
            "image/png": "[encoded data removed]",
            "text/plain": [
              "<Figure size 432x288 with 1 Axes>"
            ]
          },
          "metadata": {
            "needs_background": "light"
          }
        }
      ]
    },
    {
      "cell_type": "code",
      "source": [
        "# reset back to original format\n",
        "clinc.reset_format()"
      ],
      "metadata": {
        "id": "nogbgDni5pew"
      },
      "execution_count": 14,
      "outputs": []
    },
    {
      "cell_type": "markdown",
      "source": [
        "###Updating Benchmark statistics"
      ],
      "metadata": {
        "id": "5lrgcTOpDmNN"
      }
    },
    {
      "cell_type": "markdown",
      "source": [
        "Since the dataset is balanced across the intent\n",
        "classes, we’ll use accuracy as our metric which we can load from Datasets.\n",
        "\n",
        "let’s implement the compute_accuracy function:"
      ],
      "metadata": {
        "id": "MpBAkN4mDyoR"
      }
    },
    {
      "cell_type": "code",
      "source": [
        "accuracy_score = load_metric(\"accuracy\")\n",
        "accuracy_score"
      ],
      "metadata": {
        "colab": {
          "base_uri": "https://localhost:8080/",
          "height": 358,
          "referenced_widgets": [
            "f625a55778eb486eb3138929d3389b6c",
            "31549a9b333c4564896bfe599a22f79e",
            "19dcbcdb5bcf4c6b9e5db89807960891",
            "1d75b49bff02422a9ba18921cb27a45b",
            "d49ac72f16f64f488af1a3ca9f99c649",
            "9297b8e11b3c44c6b5040c62f500762e",
            "5828337adfd849609009ba0e49e2492d",
            "ffc6c158823f47ed8125e3ee8ec4a23a",
            "80f8553ddefe458185ec992f4653eb56",
            "b05cb74cac6d4b9785d8900f3b30e696",
            "20c7e5baa0c347fdb352276b3e81bd2c"
          ]
        },
        "id": "3cNor6J857nf",
        "outputId": "4d7500d1-9a9f-4458-c9a1-50f48c347531"
      },
      "execution_count": 15,
      "outputs": [
        {
          "output_type": "display_data",
          "data": {
            "application/vnd.jupyter.widget-view+json": {
              "model_id": "f625a55778eb486eb3138929d3389b6c",
              "version_minor": 0,
              "version_major": 2
            },
            "text/plain": [
              "Downloading:   0%|          | 0.00/1.42k [00:00<?, ?B/s]"
            ]
          },
          "metadata": {}
        },
        {
          "output_type": "execute_result",
          "data": {
            "text/plain": [
              "Metric(name: \"accuracy\", features: {'predictions': Value(dtype='int32', id=None), 'references': Value(dtype='int32', id=None)}, usage: \"\"\"\n",
              "Args:\n",
              "    predictions: Predicted labels, as returned by a model.\n",
              "    references: Ground truth labels.\n",
              "    normalize: If False, return the number of correctly classified samples.\n",
              "        Otherwise, return the fraction of correctly classified samples.\n",
              "    sample_weight: Sample weights.\n",
              "Returns:\n",
              "    accuracy: Accuracy score.\n",
              "Examples:\n",
              "\n",
              "    >>> accuracy_metric = datasets.load_metric(\"accuracy\")\n",
              "    >>> results = accuracy_metric.compute(references=[0, 1], predictions=[0, 1])\n",
              "    >>> print(results)\n",
              "    {'accuracy': 1.0}\n",
              "\"\"\", stored examples: 0)"
            ]
          },
          "metadata": {},
          "execution_count": 15
        }
      ]
    },
    {
      "cell_type": "markdown",
      "source": [
        "The metric’s description tells us that we need to provide the predictions and references (i.e. the ground truth labels) as integers, so we can use the pipeline to extract the predictions from the\n",
        "text field and then use the `ClassLabel.str2int` function to map the prediction to its corresponding ID.\n",
        "\n",
        "So we need to collect all the predictions and labels in lists before\n",
        "returning the accuracy on the dataset. \n",
        "\n",
        "Let’s also add it to our PerformanceBenchmark class:"
      ],
      "metadata": {
        "id": "0ifeF1Ip6iyX"
      }
    },
    {
      "cell_type": "code",
      "source": [
        "def compute_accuracy(self):\n",
        "  preds, labels = [], []\n",
        "  for example in self.dataset:\n",
        "    pred = self.pipeline(example[\"text\"])[0][\"label\"]\n",
        "    label = example[\"intent\"]\n",
        "    preds.append(intents.str2int(pred))\n",
        "    labels.append(label)\n",
        "  accuracy = accuracy_score.compute(predictions=preds, references=labels)\n",
        "  print(f\"Accuracy on test set - {accuracy['accuracy']:.3f}\")\n",
        "  return accuracy\n",
        "\n",
        "# now update compute_accuracy method of PerformanceBenchmark class\n",
        "PerformanceBenchmark.compute_accuracy = compute_accuracy"
      ],
      "metadata": {
        "id": "orlz3RxM6vNL"
      },
      "execution_count": 16,
      "outputs": []
    },
    {
      "cell_type": "markdown",
      "source": [
        "Next, let’s compute the size of our model by using the `torch.save` function from PyTorch to serialize the model to disk.In PyTorch,\n",
        "the recommended way to save a model is by using its `state_dict`, which is a Python dictionary that maps each layer in a model to its learnable parameters (i.e. weights and biases).\n",
        "\n",
        "Let’s see what is stored in the `state_dict` of our baseline model:"
      ],
      "metadata": {
        "id": "omnODJah9Zfb"
      }
    },
    {
      "cell_type": "code",
      "source": [
        "list(bert_pipeline.model.state_dict().items())[42]"
      ],
      "metadata": {
        "colab": {
          "base_uri": "https://localhost:8080/"
        },
        "id": "B6tJJOTl9quL",
        "outputId": "16380121-a6de-498e-d7e3-7c12528f9c70"
      },
      "execution_count": 17,
      "outputs": [
        {
          "output_type": "execute_result",
          "data": {
            "text/plain": [
              "('bert.encoder.layer.2.attention.self.value.weight',\n",
              " tensor([[-1.0526e-02, -3.2215e-02,  2.2097e-02,  ..., -6.0953e-03,\n",
              "           4.6521e-03,  2.9844e-02],\n",
              "         [-1.4964e-02, -1.0915e-02,  5.2396e-04,  ...,  3.2047e-05,\n",
              "          -2.6890e-02, -2.1943e-02],\n",
              "         [-2.9640e-02, -3.7842e-03, -1.2582e-02,  ..., -1.0917e-02,\n",
              "           3.1152e-02, -9.7786e-03],\n",
              "         ...,\n",
              "         [-1.5116e-02, -3.3226e-02,  4.2063e-02,  ..., -5.2652e-03,\n",
              "           1.1093e-02,  2.9703e-03],\n",
              "         [-3.6809e-02,  5.6848e-02, -2.6544e-02,  ..., -4.0114e-02,\n",
              "           6.7487e-03,  1.0511e-03],\n",
              "         [-2.4961e-02,  1.4747e-03, -5.4271e-02,  ...,  2.0004e-02,\n",
              "           2.3981e-02, -4.2880e-02]]))"
            ]
          },
          "metadata": {},
          "execution_count": 17
        }
      ]
    },
    {
      "cell_type": "markdown",
      "source": [
        "We can clearly see that each key-value pair corresponds to a specific layer and tensor in BERT.\n",
        "\n",
        "We can then use the Path.stat function from Python’s `pathlib` module to get information about the underlying files. In particular `Path(PATH).stat().st_size` will give us the model size in bytes, so let’s put this all together in the `compute_size` function and add it to PerformanceBenchmark:"
      ],
      "metadata": {
        "id": "sRzVsR2k-BxR"
      }
    },
    {
      "cell_type": "code",
      "source": [
        "def compute_size(self):\n",
        "  state_dict = self.pipeline.model.state_dict()\n",
        "  tmp_path = Path(\"model.pt\")\n",
        "  torch.save(state_dict, tmp_path)\n",
        "  # Calculate size in megabytes\n",
        "  size_mb = Path(tmp_path).stat().st_size / (1024 * 1024)\n",
        "  # Delete temporary file\n",
        "  tmp_path.unlink()\n",
        "  print(f\"Model size (MB) - {size_mb:.2f}\")\n",
        "  return {\"size_mb\": size_mb}\n",
        "\n",
        "# now update compute_size method of PerformanceBenchmark class\n",
        "PerformanceBenchmark.compute_size = compute_size"
      ],
      "metadata": {
        "id": "Shhg-0oO-Qh1"
      },
      "execution_count": 18,
      "outputs": []
    },
    {
      "cell_type": "markdown",
      "source": [
        "Finally let’s implement the `time_pipeline` function so that we can time the median latency\n",
        "per query. For this application, latency refers to the time it takes to feed a text query to the\n",
        "pipeline and return the predicted intent from the model.\n",
        "\n",
        "Under the hood, the pipeline also\n",
        "tokenizes the text but this is around 1,000 times faster than generating the predictions and thus\n",
        "adds a negligible contribution to the overall latency.\n",
        "\n",
        "A simple way to measure the time of a\n",
        "code snippet is to use the `perf_counter` function from Python’s `time` module. This function has a better time resolution than the `time.time` function and so is well suited for getting precise results.\n",
        "\n",
        "We can use `perf_counter` to time our `pipeline` by passing our test query and calculating the\n",
        "time difference in milliseconds between the start and end:"
      ],
      "metadata": {
        "id": "wZF_qb7NAEXS"
      }
    },
    {
      "cell_type": "code",
      "source": [
        "for _ in range(3):\n",
        "  start_time = perf_counter()\n",
        "  _ = bert_pipeline(query)\n",
        "  latency = perf_counter() - start_time\n",
        "  print(f\"Latency (ms) - {1000 * latency:.3f}\")"
      ],
      "metadata": {
        "colab": {
          "base_uri": "https://localhost:8080/"
        },
        "id": "j3kj_JIxAYDs",
        "outputId": "0b5e6c3b-6d68-4232-ab0e-3318cfad6430"
      },
      "execution_count": 19,
      "outputs": [
        {
          "output_type": "stream",
          "name": "stdout",
          "text": [
            "Latency (ms) - 154.874\n",
            "Latency (ms) - 144.460\n",
            "Latency (ms) - 141.518\n"
          ]
        }
      ]
    },
    {
      "cell_type": "markdown",
      "source": [
        "So instead,\n",
        "we’ll collect the latencies over many runs and then use the resulting distribution to calculate the\n",
        "mean and standard deviation, which will give us an idea about the spread in values. \n",
        "\n",
        "The following code does what we need and includes a phase to warm-up the CPU before performing the actual timed run:"
      ],
      "metadata": {
        "id": "ZXrtyG41CIcI"
      }
    },
    {
      "cell_type": "code",
      "source": [
        "def time_pipeline(self, query=\"What is the pin number for my account?\"):\n",
        "  latencies = []\n",
        "  # Warmup\n",
        "  for _ in range(10):\n",
        "    _ = self.pipeline(query)\n",
        "  # Timed run\n",
        "  for _ in range(100):\n",
        "    start_time = perf_counter()\n",
        "    _ = bert_pipeline(query)\n",
        "    latency = perf_counter() - start_time\n",
        "    latencies.append(latency)\n",
        "  # Compute run statistics\n",
        "  time_avg_ms = 1000 * np.mean(latencies)\n",
        "  time_std_ms = 1000 * np.std(latencies)\n",
        "  print(f\"Average latency (ms) - {time_avg_ms:.2f} +\\- {time_std_ms:.2f}\")\n",
        "  return {\"time_avg_ms\": time_avg_ms, \"time_std_ms\": time_std_ms}\n",
        "\n",
        "# now update time_pipeline method of PerformanceBenchmark class\n",
        "PerformanceBenchmark.time_pipeline = time_pipeline"
      ],
      "metadata": {
        "id": "knmN6SIHCL2Z"
      },
      "execution_count": 20,
      "outputs": []
    },
    {
      "cell_type": "markdown",
      "source": [
        "###Benchmarking Our Baseline Model"
      ],
      "metadata": {
        "id": "YmmzDTmVDada"
      }
    },
    {
      "cell_type": "markdown",
      "source": [
        "Now that our `PerformanceBenchmark` is complete, let’s give it a spin! For the baseline\n",
        "model we just need to pass the pipeline and dataset we wish to perform the benchmark on, and\n",
        "we’ll collect the results in the `perf_metrics` dictionary to keep track of each model’s\n",
        "performance:"
      ],
      "metadata": {
        "id": "83rwOZcdDbMO"
      }
    },
    {
      "cell_type": "code",
      "source": [
        "pb = PerformanceBenchmark(bert_pipeline, clinc[\"test\"])\n",
        "perf_metrics = pb.run_benchmark()"
      ],
      "metadata": {
        "colab": {
          "base_uri": "https://localhost:8080/"
        },
        "id": "JMRdYK5sEehl",
        "outputId": "e712ece3-897d-4fb8-ced5-a54c8b5ef6e2"
      },
      "execution_count": 21,
      "outputs": [
        {
          "output_type": "stream",
          "name": "stdout",
          "text": [
            "Model size (MB) - 418.16\n",
            "Average latency (ms) - 81.89 +\\- 4.06\n",
            "Accuracy on test set - 0.867\n"
          ]
        }
      ]
    },
    {
      "cell_type": "markdown",
      "source": [
        "Once we have determined the best performing model we can then explore different backends to reduce the absolute latency if needed.\n",
        "\n",
        "Now that we have a reference point, let’s look at our first compression technique: **knowledge distillation**."
      ],
      "metadata": {
        "id": "UGxlw8_fE8Ou"
      }
    },
    {
      "cell_type": "markdown",
      "source": [
        "##Knowledge Distillation for Smaller Models "
      ],
      "metadata": {
        "id": "eft__0YfFDQu"
      }
    },
    {
      "cell_type": "markdown",
      "source": [
        "Knowledge distillation is a general-purpose method for training a smaller student model to mimic the behavior of a slower, larger, but better performing teacher."
      ],
      "metadata": {
        "id": "nAA500rZ_mXn"
      }
    },
    {
      "cell_type": "markdown",
      "source": [
        "###Knowledge Distillation for Fine-tuning"
      ],
      "metadata": {
        "id": "gNZunsXj_mvu"
      }
    },
    {
      "cell_type": "markdown",
      "source": [
        "For supervised tasks like fine-tuning, the main idea is to augment the ground truth labels with a distribution of `soft probabilities` from the teacher which provide complementary information for the student to learn from. \n",
        "\n",
        "For example, if our BERT-base classifier assigns high\n",
        "probabilities to multiple intents, then this could be a sign that these intents lie close to each\n",
        "other in the feature space. By training the student to mimic these probabilities, the goal is to\n",
        "distill some of this `dark knowledge` that the teacher has learnt; knowledge which is not available from the labels alone.\n",
        "\n",
        "Mathematically, the way this works is as follows. Suppose we feed an input sequence x to the teacher to generate a vector of logits $z(x) = [z_1 (x), ..., z_N (x)]$. We can convert these logits into probabilities by applying a softmax function:\n",
        "\n",
        "$$\n",
        "\\frac{exp(z_i(x))}{\\sum_j{exp(z_i(x))}}\n",
        "$$\n",
        "\n",
        "but this isn’t quite what we want because in many cases the teacher will assign a high\n",
        "probability to one class, with all other class probabilities close to zero.\n",
        "\n",
        "When that happens, the\n",
        "teacher doesn’t provide much additional information beyond the ground truth labels, so instead\n",
        "we `soften` the probabilities by scaling the logits with a positive temperature hyperparameter\n",
        "$T$ before applying the softmax:\n",
        "\n",
        "$$\n",
        "p_i(x) = \\frac{exp(z_i(x)/T)}{\\sum_j{exp(z_i(x)/T)}}\n",
        "$$\n",
        "\n",
        "As shown, higher values of $T$ produce a softer probability distribution over the classes and reveal much more information about the decision boundary that the teacher has learned for each training example. When $T = 1$ we recover the original softmax distribution.\n",
        "\n",
        "<img src='https://github.com/rahiakela/transformers-research-and-practice/blob/main/natural-language-processing-with-transformers/05-making-transformers-efficient-in-production/images/2.png?raw=1' width='600'/>\n",
        "\n",
        "Since the student also produces softened probabilities $q_i(x)$ of its own we can use the Kullback-Leibler (KL) divergence:\n",
        "\n",
        "$$\n",
        "D_{KL}(p, q) = \\sum_i p_i(x)log\\frac{p_i(x)}{q_i(x)}\n",
        "$$\n",
        "\n",
        "to measure the difference between the two probability distributions and thereby define a knowledge distillation loss:\n",
        "\n",
        "$$\n",
        "L_{KD} = T^2 D_{KL} = T^2 \\sum_i p_i(x)log\\frac{p_i(x)}{q_i(x)}\n",
        "$$\n",
        "\n",
        "where $T^2$ is a normalization factor to account for the fact that the magnitude of the gradients produced by soft labels scales as $1/T^2$. \n",
        "\n",
        "For classification tasks, the student loss is then a weighted average of the distillation loss with the usual cross-entropy  $loss_{CE}$ of the ground truth labels:\n",
        "\n",
        "$$\n",
        "L_{student} = \\alpha L_{CE} + (1 - \\alpha) L_{KD}\n",
        "$$\n",
        "\n",
        "where $\\alpha$ is a hyperparameter that controls the relative strength of each loss.\n",
        "\n",
        "A diagram of the whole process is shown below and the temperature is set to 1 at inference time to recover the standard softmax probabilities.\n",
        "\n",
        "\n",
        "<img src='https://github.com/rahiakela/transformers-research-and-practice/blob/main/natural-language-processing-with-transformers/05-making-transformers-efficient-in-production/images/3.png?raw=1' width='600'/>\n"
      ],
      "metadata": {
        "id": "3B9QAGIDFIHU"
      }
    },
    {
      "cell_type": "markdown",
      "source": [
        "###Knowledge Distillation for Pretraining"
      ],
      "metadata": {
        "id": "yZiJmuOy_Vas"
      }
    },
    {
      "cell_type": "markdown",
      "source": [
        "Knowledge distillation can also be used during pretraining to create a general-purpose student\n",
        "that can be subsequently fine-tuned on downstream tasks. In this case, the teacher is a\n",
        "pretrained language model like BERT which transfers its knowledge about masked-languagemodeling\n",
        "to the student. \n",
        "\n",
        "For example, in the DistilBERT paper, the masked-languagemodeling\n",
        "loss $L_{mlm}$ is augmented with a term from knowledge distillation and a cosine\n",
        "embedding loss $L_{cos} = 1− cos (h_s, h_t)$ to align the directions of the hidden state vectors between the teacher and student:\n",
        "\n",
        "$$L_{DistilBERT} = \\alpha L_{mlm} + \\beta L_{KD} + \\gamma L_{cos}$$\n",
        "\n",
        "Since we already have a fine-tuned BERT-base model, let’s see how we can use knowledge distillation to fine-tune a smaller and faster model. To do that we’ll need a way to augment the cross-entropy loss with a $L_{KD}$ term; fortunately we can do this by creating our own trainer!"
      ],
      "metadata": {
        "id": "u_NZvi7g_1Qi"
      }
    },
    {
      "cell_type": "markdown",
      "source": [
        "####Knowledge Distillation Trainer"
      ],
      "metadata": {
        "id": "Fp6K2B7nCh2N"
      }
    },
    {
      "cell_type": "markdown",
      "source": [
        "To implement knowledge distillation we need to add a few things to the `Trainer` base class:\n",
        "\n",
        "- The new hyperparameters $\\alpha$ and $T$ which control the relative weight of the distillation loss and how much the probability distribution of the labels should be smoothed.\n",
        "- The fine-tuned teacher model, which in our case is `BERT-base`\n",
        "- A new loss function that includes the cross-entropy loss with the knowledge\n",
        "distillation loss.\n",
        "\n",
        "Adding the new hyperparameters is quite simple since we just need to subclass\n",
        "`TrainingArguments` and include them as new attributes:"
      ],
      "metadata": {
        "id": "npBIwXwuCjF-"
      }
    },
    {
      "cell_type": "code",
      "source": [
        "class DistillationTrainingArguments(TrainingArguments):\n",
        "  def __init__(self, *args, alpha=0.5, temperature=2.0, **kwargs):\n",
        "    super().__init__(*args, **kwargs)\n",
        "    self.alpha = alpha\n",
        "    self.temperature = temperature"
      ],
      "metadata": {
        "id": "1kTBUu3UDGMa"
      },
      "execution_count": 22,
      "outputs": []
    },
    {
      "cell_type": "markdown",
      "source": [
        "For the trainer itself, we want a new loss function so the way to implement this is by subclassing `Trainer` and overriding the `compute_loss` function to include the knowledge distillation loss term $L_{KD}$:"
      ],
      "metadata": {
        "id": "60pJYgs6D3g0"
      }
    },
    {
      "cell_type": "code",
      "source": [
        "class DistillationTrainer(Trainer):\n",
        "  def __init__(self, *args, teacher_model=None, **kwargs):\n",
        "    super().__init__(*args, **kwargs)\n",
        "    self.teacher_model = teacher_model\n",
        "\n",
        "  #reference: https://discuss.huggingface.co/t/custom-loss-compute-loss-got-an-unexpected-keyword-argument-return-outputs/4148\n",
        "  def compute_loss(self, model, inputs, return_outputs=False):\n",
        "    outputs_student = model(**inputs)\n",
        "    # Extract cross-entropy loss and logits from student\n",
        "    loss_ce = outputs_student.loss\n",
        "    logits_student = outputs_student.logits\n",
        "    # Extract logits from teacher\n",
        "    with torch.no_grad():\n",
        "      outputs_teacher = self.teacher_model(**inputs)\n",
        "      logits_teacher = outputs_teacher.logits\n",
        "    # Soften probabilities and compute distillation loss\n",
        "    loss_kld = nn.KLDivLoss(reduction=\"batchmean\")\n",
        "    loss_kd = self.args.temperature ** 2 * loss_kld(\n",
        "        F.log_softmax(logits_student / self.args.temperature, dim=-1),\n",
        "        F.softmax(logits_teacher / self.args.temperature, dim=-1)\n",
        "    )\n",
        "    # Return weighted student loss\n",
        "    return (loss_ce, outputs_student) if return_outputs else  self.args.alpha * loss_ce + (1. - self.args.alpha) * loss_kd"
      ],
      "metadata": {
        "id": "Wqs3s63AD_Z7"
      },
      "execution_count": 55,
      "outputs": []
    },
    {
      "cell_type": "code",
      "source": [
        "help(Trainer.compute_loss)"
      ],
      "metadata": {
        "id": "O57Zu5kdYKbU",
        "outputId": "e9f7d6ec-edac-45c6-9d0d-d38c7ce5752d",
        "colab": {
          "base_uri": "https://localhost:8080/"
        }
      },
      "execution_count": 54,
      "outputs": [
        {
          "output_type": "stream",
          "name": "stdout",
          "text": [
            "Help on function compute_loss in module transformers.trainer:\n",
            "\n",
            "compute_loss(self, model, inputs, return_outputs=False)\n",
            "    How the loss is computed by Trainer. By default, all models return the loss in the first element.\n",
            "    \n",
            "    Subclass and override for custom behavior.\n",
            "\n"
          ]
        }
      ]
    },
    {
      "cell_type": "markdown",
      "source": [
        "When we instantiate `DistillationTrainer`, we pass a `teacher_model` argument with a teacher that has already been fine-tuned on our task. \n",
        "\n",
        "Next, in the `compute_loss` function we extract the logits from the student and teacher, scale them\n",
        "by the temperature and then normalize them with a softmax before passing them to PyTorch’s `nn.KLDivLoss` function for computing the KL divergence. \n",
        "Since `nn.KLDivLoss` expects the inputs in the form of `log-probabilities`, we’ve used the `F.log_softmax` function to\n",
        "normalize the student’s logits, while the teacher’s logits are converted to probabilities with a standard softmax. The `reduction=batchmean` argument in `nn.KLDivLoss` specifies that we average the losses over the batch dimension."
      ],
      "metadata": {
        "id": "BPtnIJhBIv-J"
      }
    },
    {
      "cell_type": "markdown",
      "source": [
        "####Student Initialization"
      ],
      "metadata": {
        "id": "6knZ667PJX4e"
      }
    },
    {
      "cell_type": "markdown",
      "source": [
        "We should pick smaller model for the student to reduce the latency and memory footprint, and a good rule of thumb from the literature is that knowledge distillation works best when the teacher and student are of the same model type.\n",
        "\n",
        "One possible reason for this is that different model types, say BERT and\n",
        "RoBERTa, can have different output embedding spaces which hinders the ability of the student to mimic the teacher.\n",
        "\n",
        "In our case study, the teacher is BERT-base so DistilBERT is natural\n",
        "candidate to intitialize the student since it has 40% less parameters and has been shown to achieve strong results on downstream tasks.\n",
        "\n",
        "First we’ll need to tokenize and encode our queries, so let’s instantiate the tokenizer from DistilBERT and create a simple function to take care of the preprocessing:"
      ],
      "metadata": {
        "id": "PH0nMZIJJYyr"
      }
    },
    {
      "cell_type": "code",
      "source": [
        "student_ckpt = \"distilbert-base-uncased\"\n",
        "student_tokenizer = AutoTokenizer.from_pretrained(student_ckpt)"
      ],
      "metadata": {
        "id": "ax_JZOv2K0vc"
      },
      "execution_count": null,
      "outputs": []
    },
    {
      "cell_type": "code",
      "source": [
        "def tokenize_text(batch, tokenizer):\n",
        "  return tokenizer(batch[\"text\"], truncation=True)"
      ],
      "metadata": {
        "id": "gCFG9TGyLIEs"
      },
      "execution_count": 41,
      "outputs": []
    },
    {
      "cell_type": "code",
      "source": [
        "# removed the text column since we no longer need it\n",
        "clinc_enc = clinc.map(tokenize_text, batched=True, remove_columns=[\"text\"], fn_kwargs={\"tokenizer\": student_tokenizer})\n",
        "# renamed the intent column to labels so it can be automatically detected by the trainer\n",
        "clinc_enc.rename_column_(\"intent\", \"labels\")"
      ],
      "metadata": {
        "id": "0lqqjIXwLVm-"
      },
      "execution_count": null,
      "outputs": []
    },
    {
      "cell_type": "code",
      "source": [
        "clinc_enc[\"train\"][0]"
      ],
      "metadata": {
        "id": "4N1gOFu3MMCO",
        "outputId": "840f1227-c97e-485c-8504-1561e8177df2",
        "colab": {
          "base_uri": "https://localhost:8080/"
        }
      },
      "execution_count": 43,
      "outputs": [
        {
          "output_type": "execute_result",
          "data": {
            "text/plain": [
              "{'attention_mask': [1, 1, 1, 1, 1, 1, 1, 1, 1, 1, 1, 1, 1, 1, 1, 1, 1],\n",
              " 'input_ids': [101,\n",
              "  2054,\n",
              "  3670,\n",
              "  2052,\n",
              "  1045,\n",
              "  2224,\n",
              "  2000,\n",
              "  2360,\n",
              "  1045,\n",
              "  2293,\n",
              "  2017,\n",
              "  2065,\n",
              "  1045,\n",
              "  2020,\n",
              "  2019,\n",
              "  3059,\n",
              "  102],\n",
              " 'labels': 61}"
            ]
          },
          "metadata": {},
          "execution_count": 43
        }
      ]
    },
    {
      "cell_type": "markdown",
      "source": [
        "Now that our texts are processed, the next thing to do is instantiate\n",
        "DistilBERT for fine-tuning. Since we will be doing multiple runs with the trainer, we’ll use a function to initialize the model with each new run:"
      ],
      "metadata": {
        "id": "gEyc7WqqMdO_"
      }
    },
    {
      "cell_type": "code",
      "source": [
        "num_labels = intents.num_classes\n",
        "id2label = bert_model.config.id2label\n",
        "label2id = bert_model.config.label2id\n",
        "\n",
        "device = torch.device(\"cuda\" if torch.cuda.is_available() else \"cpu\")"
      ],
      "metadata": {
        "id": "rAihzuJYMes1"
      },
      "execution_count": 44,
      "outputs": []
    },
    {
      "cell_type": "code",
      "source": [
        "student_config = (AutoConfig.from_pretrained(student_ckpt, num_labels=num_labels, id2label=id2label, label2id=label2id))"
      ],
      "metadata": {
        "id": "wZDE5_CXNEki"
      },
      "execution_count": null,
      "outputs": []
    },
    {
      "cell_type": "code",
      "source": [
        "def student_init():\n",
        "  return (AutoModelForSequenceClassification.from_pretrained(student_ckpt, config=student_config).to(device))"
      ],
      "metadata": {
        "id": "CWMVApsPNci3"
      },
      "execution_count": 46,
      "outputs": []
    },
    {
      "cell_type": "markdown",
      "source": [
        "Next, we need to define the metrics to track during training. As we did in the\n",
        "performance benchmark, we’ll use accuracy as the main metric so we can reuse our\n",
        "`accuracy_score` function in the `compute_metrics` function that we’ll include in the trainer:"
      ],
      "metadata": {
        "id": "sDfs6hUbN55r"
      }
    },
    {
      "cell_type": "code",
      "source": [
        "def compute_metrics(pred):\n",
        "  predictions, labels = pred\n",
        "  # find the most confident class prediction\n",
        "  predictions = np.argmax(predictions, axis=1)\n",
        "  # and compare that against the ground truth labels\n",
        "  return accuracy_score.compute(predictions=predictions, references=labels)"
      ],
      "metadata": {
        "id": "BJkOaxRFN99g"
      },
      "execution_count": 47,
      "outputs": []
    },
    {
      "cell_type": "markdown",
      "source": [
        "Finally, we just need to define the training arguments. To warm-up, we’ll set $\\alpha = 1$ to see how well DistilBERT performs without any signal from the teacher:"
      ],
      "metadata": {
        "id": "7HuGGqt_P_MI"
      }
    },
    {
      "cell_type": "code",
      "source": [
        "batch_size = 48\n",
        "\n",
        "student_training_args = DistillationTrainingArguments(\n",
        "    output_dir=\"checkpoints\",\n",
        "    evaluation_strategy=\"epoch\",\n",
        "    num_train_epochs=5,\n",
        "    learning_rate=2e-5,\n",
        "    per_device_train_batch_size=batch_size,\n",
        "    per_device_eval_batch_size=batch_size,\n",
        "    alpha=1,\n",
        "    weight_decay=0.01\n",
        ")"
      ],
      "metadata": {
        "id": "2cuML55IQHLn"
      },
      "execution_count": null,
      "outputs": []
    },
    {
      "cell_type": "markdown",
      "source": [
        "Next we load the teacher model, instantiate the trainer and start fine-tuning:"
      ],
      "metadata": {
        "id": "1Dz0_3o9Qqjc"
      }
    },
    {
      "cell_type": "code",
      "source": [
        "teacher_checkpoint = \"transformersbook/bert-base-uncased-finetuned-clinc\"\n",
        "teacher_model = (AutoModelForSequenceClassification.from_pretrained(teacher_checkpoint, num_labels=num_labels).to(device))"
      ],
      "metadata": {
        "id": "naP58JFbQrDO"
      },
      "execution_count": null,
      "outputs": []
    },
    {
      "cell_type": "code",
      "source": [
        "distil_trainer = DistillationTrainer(model_init=student_init, \n",
        "                                     teacher_model=teacher_model,\n",
        "                                     args=student_training_args,\n",
        "                                     train_dataset=clinc_enc[\"train\"],\n",
        "                                     eval_dataset=clinc_enc[\"validation\"],\n",
        "                                     compute_metrics=compute_metrics,\n",
        "                                     tokenizer=student_tokenizer)\n",
        "\n",
        "# start fine-tuning\n",
        "distil_trainer.train();"
      ],
      "metadata": {
        "id": "n0piU3z7RPW-",
        "outputId": "b79940b6-56a5-4c9b-cebd-eecb5e6be1bc",
        "colab": {
          "base_uri": "https://localhost:8080/",
          "height": 1000
        }
      },
      "execution_count": 57,
      "outputs": [
        {
          "output_type": "stream",
          "name": "stderr",
          "text": [
            "loading weights file https://huggingface.co/distilbert-base-uncased/resolve/main/pytorch_model.bin from cache at /root/.cache/huggingface/transformers/9c169103d7e5a73936dd2b627e42851bec0831212b677c637033ee4bce9ab5ee.126183e36667471617ae2f0835fab707baa54b731f991507ebbb55ea85adb12a\n",
            "Some weights of the model checkpoint at distilbert-base-uncased were not used when initializing DistilBertForSequenceClassification: ['vocab_projector.weight', 'vocab_projector.bias', 'vocab_layer_norm.bias', 'vocab_transform.weight', 'vocab_transform.bias', 'vocab_layer_norm.weight']\n",
            "- This IS expected if you are initializing DistilBertForSequenceClassification from the checkpoint of a model trained on another task or with another architecture (e.g. initializing a BertForSequenceClassification model from a BertForPreTraining model).\n",
            "- This IS NOT expected if you are initializing DistilBertForSequenceClassification from the checkpoint of a model that you expect to be exactly identical (initializing a BertForSequenceClassification model from a BertForSequenceClassification model).\n",
            "Some weights of DistilBertForSequenceClassification were not initialized from the model checkpoint at distilbert-base-uncased and are newly initialized: ['pre_classifier.bias', 'classifier.weight', 'classifier.bias', 'pre_classifier.weight']\n",
            "You should probably TRAIN this model on a down-stream task to be able to use it for predictions and inference.\n",
            "loading weights file https://huggingface.co/distilbert-base-uncased/resolve/main/pytorch_model.bin from cache at /root/.cache/huggingface/transformers/9c169103d7e5a73936dd2b627e42851bec0831212b677c637033ee4bce9ab5ee.126183e36667471617ae2f0835fab707baa54b731f991507ebbb55ea85adb12a\n",
            "Some weights of the model checkpoint at distilbert-base-uncased were not used when initializing DistilBertForSequenceClassification: ['vocab_projector.weight', 'vocab_projector.bias', 'vocab_layer_norm.bias', 'vocab_transform.weight', 'vocab_transform.bias', 'vocab_layer_norm.weight']\n",
            "- This IS expected if you are initializing DistilBertForSequenceClassification from the checkpoint of a model trained on another task or with another architecture (e.g. initializing a BertForSequenceClassification model from a BertForPreTraining model).\n",
            "- This IS NOT expected if you are initializing DistilBertForSequenceClassification from the checkpoint of a model that you expect to be exactly identical (initializing a BertForSequenceClassification model from a BertForSequenceClassification model).\n",
            "Some weights of DistilBertForSequenceClassification were not initialized from the model checkpoint at distilbert-base-uncased and are newly initialized: ['pre_classifier.bias', 'classifier.weight', 'classifier.bias', 'pre_classifier.weight']\n",
            "You should probably TRAIN this model on a down-stream task to be able to use it for predictions and inference.\n",
            "***** Running training *****\n",
            "  Num examples = 15250\n",
            "  Num Epochs = 5\n",
            "  Instantaneous batch size per device = 48\n",
            "  Total train batch size (w. parallel, distributed & accumulation) = 48\n",
            "  Gradient Accumulation steps = 1\n",
            "  Total optimization steps = 1590\n"
          ]
        },
        {
          "output_type": "display_data",
          "data": {
            "text/html": [
              "\n",
              "    <div>\n",
              "      \n",
              "      <progress value='1590' max='1590' style='width:300px; height:20px; vertical-align: middle;'></progress>\n",
              "      [1590/1590 13:20, Epoch 5/5]\n",
              "    </div>\n",
              "    <table border=\"1\" class=\"dataframe\">\n",
              "  <thead>\n",
              "    <tr style=\"text-align: left;\">\n",
              "      <th>Epoch</th>\n",
              "      <th>Training Loss</th>\n",
              "      <th>Validation Loss</th>\n",
              "      <th>Accuracy</th>\n",
              "    </tr>\n",
              "  </thead>\n",
              "  <tbody>\n",
              "    <tr>\n",
              "      <td>1</td>\n",
              "      <td>No log</td>\n",
              "      <td>3.307489</td>\n",
              "      <td>0.741613</td>\n",
              "    </tr>\n",
              "    <tr>\n",
              "      <td>2</td>\n",
              "      <td>3.806900</td>\n",
              "      <td>1.879182</td>\n",
              "      <td>0.838387</td>\n",
              "    </tr>\n",
              "    <tr>\n",
              "      <td>3</td>\n",
              "      <td>3.806900</td>\n",
              "      <td>1.151380</td>\n",
              "      <td>0.893871</td>\n",
              "    </tr>\n",
              "    <tr>\n",
              "      <td>4</td>\n",
              "      <td>1.684800</td>\n",
              "      <td>0.856650</td>\n",
              "      <td>0.907742</td>\n",
              "    </tr>\n",
              "    <tr>\n",
              "      <td>5</td>\n",
              "      <td>0.890200</td>\n",
              "      <td>0.773014</td>\n",
              "      <td>0.911613</td>\n",
              "    </tr>\n",
              "  </tbody>\n",
              "</table><p>"
            ],
            "text/plain": [
              "<IPython.core.display.HTML object>"
            ]
          },
          "metadata": {}
        },
        {
          "output_type": "stream",
          "name": "stderr",
          "text": [
            "***** Running Evaluation *****\n",
            "  Num examples = 3100\n",
            "  Batch size = 48\n",
            "Saving model checkpoint to checkpoints/checkpoint-500\n",
            "Configuration saved in checkpoints/checkpoint-500/config.json\n",
            "Model weights saved in checkpoints/checkpoint-500/pytorch_model.bin\n",
            "tokenizer config file saved in checkpoints/checkpoint-500/tokenizer_config.json\n",
            "Special tokens file saved in checkpoints/checkpoint-500/special_tokens_map.json\n",
            "***** Running Evaluation *****\n",
            "  Num examples = 3100\n",
            "  Batch size = 48\n",
            "***** Running Evaluation *****\n",
            "  Num examples = 3100\n",
            "  Batch size = 48\n",
            "Saving model checkpoint to checkpoints/checkpoint-1000\n",
            "Configuration saved in checkpoints/checkpoint-1000/config.json\n",
            "Model weights saved in checkpoints/checkpoint-1000/pytorch_model.bin\n",
            "tokenizer config file saved in checkpoints/checkpoint-1000/tokenizer_config.json\n",
            "Special tokens file saved in checkpoints/checkpoint-1000/special_tokens_map.json\n",
            "***** Running Evaluation *****\n",
            "  Num examples = 3100\n",
            "  Batch size = 48\n",
            "Saving model checkpoint to checkpoints/checkpoint-1500\n",
            "Configuration saved in checkpoints/checkpoint-1500/config.json\n",
            "Model weights saved in checkpoints/checkpoint-1500/pytorch_model.bin\n",
            "tokenizer config file saved in checkpoints/checkpoint-1500/tokenizer_config.json\n",
            "Special tokens file saved in checkpoints/checkpoint-1500/special_tokens_map.json\n",
            "***** Running Evaluation *****\n",
            "  Num examples = 3100\n",
            "  Batch size = 48\n",
            "\n",
            "\n",
            "Training completed. Do not forget to share your model on huggingface.co/models =)\n",
            "\n",
            "\n"
          ]
        }
      ]
    },
    {
      "cell_type": "markdown",
      "source": [
        "The accuracy on the validation set looks quite good compared to the 94% that BERT-base teacher achieves.\n",
        "\n",
        "Now that we’ve fine-tuned `DistilBERT`, we can wrap it in a\n",
        "`TextClassificationPipeline` and run it through our performance benchmark:"
      ],
      "metadata": {
        "id": "4HosG-frbp81"
      }
    },
    {
      "cell_type": "code",
      "source": [
        "distil_bert_pipeline = TextClassificationPipeline(model=distil_trainer.model.to(\"cpu\"), tokenizer=distil_trainer.tokenizer)\n",
        "\n",
        "optim_type = \"DistilBERT\"\n",
        "pb = PerformanceBenchmark(distil_bert_pipeline, clinc[\"test\"], optim_type=optim_type)\n",
        "perf_metrics.update(pb.run_benchmark())"
      ],
      "metadata": {
        "id": "cGli0gNkb60u",
        "outputId": "3d82991e-17da-41b0-8d5f-d7fb795fba44",
        "colab": {
          "base_uri": "https://localhost:8080/"
        }
      },
      "execution_count": 58,
      "outputs": [
        {
          "output_type": "stream",
          "name": "stdout",
          "text": [
            "Model size (MB) - 255.89\n",
            "Average latency (ms) - 79.01 +\\- 3.96\n",
            "Accuracy on test set - 0.860\n"
          ]
        }
      ]
    },
    {
      "cell_type": "markdown",
      "source": [
        "To compare these results against our baseline, let’s create a scatter plot of the accuracy against the latency, with the radius of each point corresponding to the size of the model."
      ],
      "metadata": {
        "id": "KwViR6mmc3Aa"
      }
    },
    {
      "cell_type": "code",
      "source": [
        "perf_metrics"
      ],
      "metadata": {
        "id": "EbF0XPQSfqIo",
        "outputId": "d1d2b9bb-27b0-48ae-e6c7-68e3bae3b3fe",
        "colab": {
          "base_uri": "https://localhost:8080/"
        }
      },
      "execution_count": 60,
      "outputs": [
        {
          "output_type": "execute_result",
          "data": {
            "text/plain": [
              "{'BERT baseline': {'accuracy': 0.8672727272727273,\n",
              "  'size_mb': 418.162091255188,\n",
              "  'time_avg_ms': 81.88562939999741,\n",
              "  'time_std_ms': 4.060993653998385},\n",
              " 'DistilBERT': {'accuracy': 0.8598181818181818,\n",
              "  'size_mb': 255.8870096206665,\n",
              "  'time_avg_ms': 79.01073841999278,\n",
              "  'time_std_ms': 3.9551259328212667}}"
            ]
          },
          "metadata": {},
          "execution_count": 60
        }
      ]
    },
    {
      "cell_type": "code",
      "source": [
        "df = pd.DataFrame.from_dict(perf_metrics, orient=\"index\")\n",
        "print(df.index)"
      ],
      "metadata": {
        "id": "FNEEbYLch3h6",
        "outputId": "7427c761-b7f6-467c-ad95-f736b09c7670",
        "colab": {
          "base_uri": "https://localhost:8080/"
        }
      },
      "execution_count": 70,
      "outputs": [
        {
          "output_type": "stream",
          "name": "stdout",
          "text": [
            "Index(['BERT baseline', 'DistilBERT'], dtype='object')\n"
          ]
        }
      ]
    },
    {
      "cell_type": "code",
      "source": [
        "for idx in df.index:\n",
        "  print(idx)"
      ],
      "metadata": {
        "id": "QqY7yINKh7gd",
        "outputId": "b3e70810-6ecd-4b92-c909-425c06e16170",
        "colab": {
          "base_uri": "https://localhost:8080/"
        }
      },
      "execution_count": 71,
      "outputs": [
        {
          "output_type": "stream",
          "name": "stdout",
          "text": [
            "BERT baseline\n",
            "DistilBERT\n"
          ]
        }
      ]
    },
    {
      "cell_type": "code",
      "source": [
        "def plot_metrics(perf_metrics, current_optim_type):\n",
        "  df = pd.DataFrame.from_dict(perf_metrics, orient=\"index\")\n",
        "  for idx in df.index:\n",
        "    df_opt = df.loc[idx]\n",
        "    if idx == current_optim_type:\n",
        "      plt.scatter(df_opt[\"time_avg_ms\"], df_opt[\"accuracy\"] * 100, alpha=0.5, s=df_opt[\"size_mb\"], label=idx, marker=\"$\\u25CC$\")\n",
        "    else:\n",
        "      plt.scatter(df_opt[\"time_avg_ms\"], df_opt[\"accuracy\"] * 100, s=df_opt[\"size_mb\"], label=idx, alpha=0.5)\n",
        "  legend = plt.legend(bbox_to_anchor=(1, 1))\n",
        "  for handle in legend.legendHandles:\n",
        "    handle.set_sizes([20])\n",
        "  plt.ylim(80,90)\n",
        "  plt.xlim(5, 53)\n",
        "  plt.ylabel(\"Accuracy (%)\")\n",
        "  plt.xlabel(\"Average latency (ms)\")\n",
        "  plt.show()\n",
        "\n",
        "plot_metrics(perf_metrics, optim_type)"
      ],
      "metadata": {
        "id": "G6s9nLXrc-Ti",
        "outputId": "180b3c02-9c0a-403d-8070-34464aaedc73",
        "colab": {
          "base_uri": "https://localhost:8080/",
          "height": 283
        }
      },
      "execution_count": 75,
      "outputs": [
        {
          "output_type": "display_data",
          "data": {
            "image/png": "[encoded data removed]",
            "text/plain": [
              "<Figure size 432x288 with 1 Axes>"
            ]
          },
          "metadata": {
            "needs_background": "light"
          }
        }
      ]
    },
    {
      "cell_type": "markdown",
      "source": [
        "From the plot we can see that by using a smaller model we’ve managed to decrease the average latency by almost a factor of two. And all this at the price of just over a 1% reduction in accuracy! \n",
        "\n",
        "Let’s see if we can close that last gap by including the distillation loss the teacher and finding good values for $\\alpha$ and $T$."
      ],
      "metadata": {
        "id": "C9rJ5le4ijzV"
      }
    },
    {
      "cell_type": "markdown",
      "source": [
        "##Searching Hyperparameters with Optuna"
      ],
      "metadata": {
        "id": "djZ0VsfUitow"
      }
    },
    {
      "cell_type": "markdown",
      "source": [
        ""
      ],
      "metadata": {
        "id": "K4aVw0lti5GQ"
      }
    }
  ]
}