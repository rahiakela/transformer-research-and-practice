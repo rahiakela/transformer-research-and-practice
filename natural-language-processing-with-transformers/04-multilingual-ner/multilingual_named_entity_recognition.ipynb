{
  "nbformat": 4,
  "nbformat_minor": 0,
  "metadata": {
    "colab": {
      "name": "multilingual-named-entity-recognition.ipynb",
      "provenance": [],
      "toc_visible": true,
      "authorship_tag": "ABX9TyM+UVtRkmd0ZhWKbLpTxqrc",
      "include_colab_link": true
    },
    "kernelspec": {
      "name": "python3",
      "display_name": "Python 3"
    },
    "language_info": {
      "name": "python"
    }
  },
  "cells": [
    {
      "cell_type": "markdown",
      "metadata": {
        "id": "view-in-github",
        "colab_type": "text"
      },
      "source": [
        "<a href=\"https://colab.research.google.com/github/rahiakela/transformers-research-and-practice/blob/main/natural-language-processing-with-transformers/04-multilingual-ner/multilingual_named_entity_recognition.ipynb\" target=\"_parent\"><img src=\"https://colab.research.google.com/assets/colab-badge.svg\" alt=\"Open In Colab\"/></a>"
      ]
    },
    {
      "cell_type": "markdown",
      "source": [
        "##Multilingual Named Entity Recognition"
      ],
      "metadata": {
        "id": "IcdvovQpzhkI"
      }
    },
    {
      "cell_type": "markdown",
      "source": [
        "In this notebook we will explore how a single Transformer model called XLM-RoBERTa can be fine-tuned to\n",
        "perform named entity recognition (NER) across several languages. NER is a common NLP task that identifies\n",
        "entities like people, organizations, or locations in text. These entities can be used for various applications such as\n",
        "gaining insights from company documents, augmenting the quality of search engines, or simply building a\n",
        "structured database from a corpus."
      ],
      "metadata": {
        "id": "iaOVAWdCzu8J"
      }
    },
    {
      "cell_type": "markdown",
      "source": [
        "##Setup"
      ],
      "metadata": {
        "id": "Tx8XRrYJz6SS"
      }
    },
    {
      "cell_type": "code",
      "source": [
        "%%shell\n",
        "\n",
        "pip -q install transformers\n",
        "pip -q install datasets"
      ],
      "metadata": {
        "id": "VYnilI_Qz7Yh"
      },
      "execution_count": null,
      "outputs": []
    },
    {
      "cell_type": "code",
      "source": [
        "import pandas as pd\n",
        "import numpy as np\n",
        "\n",
        "from datasets import get_dataset_config_names\n",
        "from datasets import load_dataset\n",
        "\n",
        "from IPython.display import HTML, display, set_matplotlib_formats"
      ],
      "metadata": {
        "id": "6pGaeyjn4SuG"
      },
      "execution_count": 8,
      "outputs": []
    },
    {
      "cell_type": "code",
      "source": [
        "def display_df(df, max_cols=15, header=True, index=True):\n",
        "    # 15 cols seems to be limit for O'reilly\n",
        "    return display(HTML(df.to_html(header=header, index=index, max_cols=max_cols)))"
      ],
      "metadata": {
        "id": "HjFrvYj543xi"
      },
      "execution_count": 4,
      "outputs": []
    },
    {
      "cell_type": "markdown",
      "source": [
        "##The Dataset"
      ],
      "metadata": {
        "id": "z7Ok2tF-0TV1"
      }
    },
    {
      "cell_type": "markdown",
      "source": [
        "we will be using a subset of the Cross-lingual TRansfer Evaluation of Multilingual Encoders\n",
        "(XTREME) benchmark called Wikiann or PAN-X. This dataset consists of Wikipedia articles in many\n",
        "languages, including the four most commonly spoken languages in Switzerland: German (62.9%), French (22.9%),\n",
        "Italian (8.4%), and English (5.9%). \n",
        "\n",
        "Each article is annotated with LOC (location), PER (person) and ORG\n",
        "(organization) tags in the “inside-outside-beginning” (IOB2) format, where a B-prefix indicates the beginning of\n",
        "an entity, and consecutive positions of the same entity are given an I- prefix. An O tag indicates that the token does\n",
        "not belong to any entity. \n",
        "\n",
        "For example, the following sentence\n",
        "\n"
      ],
      "metadata": {
        "id": "db96XyEI0XwC"
      }
    },
    {
      "cell_type": "code",
      "source": [
        "tokens = \"Jeff Dean is a computer scientist at Google in California\".split()\n",
        "labels = [\"B-PER\", \"I-PER\", \"O\", \"O\", \"O\", \"O\", \"O\", \"B-ORG\", \"O\", \"B-LOC\"]\n",
        "\n",
        "df = pd.DataFrame(data=[tokens, labels], index=[\"Tokens\", \"Tags\"])\n",
        "display_df(df, header=None)"
      ],
      "metadata": {
        "colab": {
          "base_uri": "https://localhost:8080/",
          "height": 80
        },
        "id": "oS3u-g2h4OZx",
        "outputId": "cbe9f291-cd4a-4e00-8bb1-0aafa61acb51"
      },
      "execution_count": 7,
      "outputs": [
        {
          "output_type": "display_data",
          "data": {
            "text/html": [
              "<table border=\"1\" class=\"dataframe\">\n",
              "  <tbody>\n",
              "    <tr>\n",
              "      <th>Tokens</th>\n",
              "      <td>Jeff</td>\n",
              "      <td>Dean</td>\n",
              "      <td>is</td>\n",
              "      <td>a</td>\n",
              "      <td>computer</td>\n",
              "      <td>scientist</td>\n",
              "      <td>at</td>\n",
              "      <td>Google</td>\n",
              "      <td>in</td>\n",
              "      <td>California</td>\n",
              "    </tr>\n",
              "    <tr>\n",
              "      <th>Tags</th>\n",
              "      <td>B-PER</td>\n",
              "      <td>I-PER</td>\n",
              "      <td>O</td>\n",
              "      <td>O</td>\n",
              "      <td>O</td>\n",
              "      <td>O</td>\n",
              "      <td>O</td>\n",
              "      <td>B-ORG</td>\n",
              "      <td>O</td>\n",
              "      <td>B-LOC</td>\n",
              "    </tr>\n",
              "  </tbody>\n",
              "</table>"
            ],
            "text/plain": [
              "<IPython.core.display.HTML object>"
            ]
          },
          "metadata": {}
        }
      ]
    }
  ]
}