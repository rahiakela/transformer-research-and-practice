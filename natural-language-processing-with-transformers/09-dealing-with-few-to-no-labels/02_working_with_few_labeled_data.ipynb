{
  "nbformat": 4,
  "nbformat_minor": 0,
  "metadata": {
    "colab": {
      "name": "02-working-with-few-labeled-data.ipynb",
      "provenance": [],
      "toc_visible": true,
      "authorship_tag": "ABX9TyNe7wPr51xphaO9UxJZ2uNJ",
      "include_colab_link": true
    },
    "kernelspec": {
      "name": "python3",
      "display_name": "Python 3"
    },
    "language_info": {
      "name": "python"
    },
    "accelerator": "GPU",
    "gpuClass": "standard",
    "widgets": {
      "application/vnd.jupyter.widget-state+json": {
        "8c5a139cecfc44e2ac0ad6e6a2227f10": {
          "model_module": "@jupyter-widgets/controls",
          "model_name": "HBoxModel",
          "model_module_version": "1.5.0",
          "state": {
            "_dom_classes": [],
            "_model_module": "@jupyter-widgets/controls",
            "_model_module_version": "1.5.0",
            "_model_name": "HBoxModel",
            "_view_count": null,
            "_view_module": "@jupyter-widgets/controls",
            "_view_module_version": "1.5.0",
            "_view_name": "HBoxView",
            "box_style": "",
            "children": [
              "IPY_MODEL_53742bb4b4d84511b7be295d9717d13f",
              "IPY_MODEL_2400be96912e4802a921ffd9e0c6ea0b",
              "IPY_MODEL_14264a65a9e54e5dbead0a97d0db2eb9"
            ],
            "layout": "IPY_MODEL_c312dbd820314d29869c1308adb0c899"
          }
        },
        "53742bb4b4d84511b7be295d9717d13f": {
          "model_module": "@jupyter-widgets/controls",
          "model_name": "HTMLModel",
          "model_module_version": "1.5.0",
          "state": {
            "_dom_classes": [],
            "_model_module": "@jupyter-widgets/controls",
            "_model_module_version": "1.5.0",
            "_model_name": "HTMLModel",
            "_view_count": null,
            "_view_module": "@jupyter-widgets/controls",
            "_view_module_version": "1.5.0",
            "_view_name": "HTMLView",
            "description": "",
            "description_tooltip": null,
            "layout": "IPY_MODEL_10521e538fce4182a0006ad91b2466e8",
            "placeholder": "​",
            "style": "IPY_MODEL_ec1bd48e23804cf9871c064058f5d2a4",
            "value": "  0%"
          }
        },
        "2400be96912e4802a921ffd9e0c6ea0b": {
          "model_module": "@jupyter-widgets/controls",
          "model_name": "FloatProgressModel",
          "model_module_version": "1.5.0",
          "state": {
            "_dom_classes": [],
            "_model_module": "@jupyter-widgets/controls",
            "_model_module_version": "1.5.0",
            "_model_name": "FloatProgressModel",
            "_view_count": null,
            "_view_module": "@jupyter-widgets/controls",
            "_view_module_version": "1.5.0",
            "_view_name": "ProgressView",
            "bar_style": "danger",
            "description": "",
            "description_tooltip": null,
            "layout": "IPY_MODEL_e2dbdf567b7e4029957e4b6a314d9095",
            "max": 1,
            "min": 0,
            "orientation": "horizontal",
            "style": "IPY_MODEL_fe780c2394ff46f58c4d1459cd2614fd",
            "value": 0
          }
        },
        "14264a65a9e54e5dbead0a97d0db2eb9": {
          "model_module": "@jupyter-widgets/controls",
          "model_name": "HTMLModel",
          "model_module_version": "1.5.0",
          "state": {
            "_dom_classes": [],
            "_model_module": "@jupyter-widgets/controls",
            "_model_module_version": "1.5.0",
            "_model_name": "HTMLModel",
            "_view_count": null,
            "_view_module": "@jupyter-widgets/controls",
            "_view_module_version": "1.5.0",
            "_view_name": "HTMLView",
            "description": "",
            "description_tooltip": null,
            "layout": "IPY_MODEL_0c469ff70c074435bbf273c0455e8b46",
            "placeholder": "​",
            "style": "IPY_MODEL_a46d8340c3c24fa9bbc089882b4300ba",
            "value": " 0/1 [01:07&lt;?, ?ba/s]"
          }
        },
        "c312dbd820314d29869c1308adb0c899": {
          "model_module": "@jupyter-widgets/base",
          "model_name": "LayoutModel",
          "model_module_version": "1.2.0",
          "state": {
            "_model_module": "@jupyter-widgets/base",
            "_model_module_version": "1.2.0",
            "_model_name": "LayoutModel",
            "_view_count": null,
            "_view_module": "@jupyter-widgets/base",
            "_view_module_version": "1.2.0",
            "_view_name": "LayoutView",
            "align_content": null,
            "align_items": null,
            "align_self": null,
            "border": null,
            "bottom": null,
            "display": null,
            "flex": null,
            "flex_flow": null,
            "grid_area": null,
            "grid_auto_columns": null,
            "grid_auto_flow": null,
            "grid_auto_rows": null,
            "grid_column": null,
            "grid_gap": null,
            "grid_row": null,
            "grid_template_areas": null,
            "grid_template_columns": null,
            "grid_template_rows": null,
            "height": null,
            "justify_content": null,
            "justify_items": null,
            "left": null,
            "margin": null,
            "max_height": null,
            "max_width": null,
            "min_height": null,
            "min_width": null,
            "object_fit": null,
            "object_position": null,
            "order": null,
            "overflow": null,
            "overflow_x": null,
            "overflow_y": null,
            "padding": null,
            "right": null,
            "top": null,
            "visibility": null,
            "width": null
          }
        },
        "10521e538fce4182a0006ad91b2466e8": {
          "model_module": "@jupyter-widgets/base",
          "model_name": "LayoutModel",
          "model_module_version": "1.2.0",
          "state": {
            "_model_module": "@jupyter-widgets/base",
            "_model_module_version": "1.2.0",
            "_model_name": "LayoutModel",
            "_view_count": null,
            "_view_module": "@jupyter-widgets/base",
            "_view_module_version": "1.2.0",
            "_view_name": "LayoutView",
            "align_content": null,
            "align_items": null,
            "align_self": null,
            "border": null,
            "bottom": null,
            "display": null,
            "flex": null,
            "flex_flow": null,
            "grid_area": null,
            "grid_auto_columns": null,
            "grid_auto_flow": null,
            "grid_auto_rows": null,
            "grid_column": null,
            "grid_gap": null,
            "grid_row": null,
            "grid_template_areas": null,
            "grid_template_columns": null,
            "grid_template_rows": null,
            "height": null,
            "justify_content": null,
            "justify_items": null,
            "left": null,
            "margin": null,
            "max_height": null,
            "max_width": null,
            "min_height": null,
            "min_width": null,
            "object_fit": null,
            "object_position": null,
            "order": null,
            "overflow": null,
            "overflow_x": null,
            "overflow_y": null,
            "padding": null,
            "right": null,
            "top": null,
            "visibility": null,
            "width": null
          }
        },
        "ec1bd48e23804cf9871c064058f5d2a4": {
          "model_module": "@jupyter-widgets/controls",
          "model_name": "DescriptionStyleModel",
          "model_module_version": "1.5.0",
          "state": {
            "_model_module": "@jupyter-widgets/controls",
            "_model_module_version": "1.5.0",
            "_model_name": "DescriptionStyleModel",
            "_view_count": null,
            "_view_module": "@jupyter-widgets/base",
            "_view_module_version": "1.2.0",
            "_view_name": "StyleView",
            "description_width": ""
          }
        },
        "e2dbdf567b7e4029957e4b6a314d9095": {
          "model_module": "@jupyter-widgets/base",
          "model_name": "LayoutModel",
          "model_module_version": "1.2.0",
          "state": {
            "_model_module": "@jupyter-widgets/base",
            "_model_module_version": "1.2.0",
            "_model_name": "LayoutModel",
            "_view_count": null,
            "_view_module": "@jupyter-widgets/base",
            "_view_module_version": "1.2.0",
            "_view_name": "LayoutView",
            "align_content": null,
            "align_items": null,
            "align_self": null,
            "border": null,
            "bottom": null,
            "display": null,
            "flex": null,
            "flex_flow": null,
            "grid_area": null,
            "grid_auto_columns": null,
            "grid_auto_flow": null,
            "grid_auto_rows": null,
            "grid_column": null,
            "grid_gap": null,
            "grid_row": null,
            "grid_template_areas": null,
            "grid_template_columns": null,
            "grid_template_rows": null,
            "height": null,
            "justify_content": null,
            "justify_items": null,
            "left": null,
            "margin": null,
            "max_height": null,
            "max_width": null,
            "min_height": null,
            "min_width": null,
            "object_fit": null,
            "object_position": null,
            "order": null,
            "overflow": null,
            "overflow_x": null,
            "overflow_y": null,
            "padding": null,
            "right": null,
            "top": null,
            "visibility": null,
            "width": null
          }
        },
        "fe780c2394ff46f58c4d1459cd2614fd": {
          "model_module": "@jupyter-widgets/controls",
          "model_name": "ProgressStyleModel",
          "model_module_version": "1.5.0",
          "state": {
            "_model_module": "@jupyter-widgets/controls",
            "_model_module_version": "1.5.0",
            "_model_name": "ProgressStyleModel",
            "_view_count": null,
            "_view_module": "@jupyter-widgets/base",
            "_view_module_version": "1.2.0",
            "_view_name": "StyleView",
            "bar_color": null,
            "description_width": ""
          }
        },
        "0c469ff70c074435bbf273c0455e8b46": {
          "model_module": "@jupyter-widgets/base",
          "model_name": "LayoutModel",
          "model_module_version": "1.2.0",
          "state": {
            "_model_module": "@jupyter-widgets/base",
            "_model_module_version": "1.2.0",
            "_model_name": "LayoutModel",
            "_view_count": null,
            "_view_module": "@jupyter-widgets/base",
            "_view_module_version": "1.2.0",
            "_view_name": "LayoutView",
            "align_content": null,
            "align_items": null,
            "align_self": null,
            "border": null,
            "bottom": null,
            "display": null,
            "flex": null,
            "flex_flow": null,
            "grid_area": null,
            "grid_auto_columns": null,
            "grid_auto_flow": null,
            "grid_auto_rows": null,
            "grid_column": null,
            "grid_gap": null,
            "grid_row": null,
            "grid_template_areas": null,
            "grid_template_columns": null,
            "grid_template_rows": null,
            "height": null,
            "justify_content": null,
            "justify_items": null,
            "left": null,
            "margin": null,
            "max_height": null,
            "max_width": null,
            "min_height": null,
            "min_width": null,
            "object_fit": null,
            "object_position": null,
            "order": null,
            "overflow": null,
            "overflow_x": null,
            "overflow_y": null,
            "padding": null,
            "right": null,
            "top": null,
            "visibility": null,
            "width": null
          }
        },
        "a46d8340c3c24fa9bbc089882b4300ba": {
          "model_module": "@jupyter-widgets/controls",
          "model_name": "DescriptionStyleModel",
          "model_module_version": "1.5.0",
          "state": {
            "_model_module": "@jupyter-widgets/controls",
            "_model_module_version": "1.5.0",
            "_model_name": "DescriptionStyleModel",
            "_view_count": null,
            "_view_module": "@jupyter-widgets/base",
            "_view_module_version": "1.2.0",
            "_view_name": "StyleView",
            "description_width": ""
          }
        }
      }
    }
  },
  "cells": [
    {
      "cell_type": "markdown",
      "metadata": {
        "id": "view-in-github",
        "colab_type": "text"
      },
      "source": [
        "<a href=\"https://colab.research.google.com/github/rahiakela/transformers-research-and-practice/blob/main/natural-language-processing-with-transformers/09-dealing-with-few-to-no-labels/02_working_with_few_labeled_data.ipynb\" target=\"_parent\"><img src=\"https://colab.research.google.com/assets/colab-badge.svg\" alt=\"Open In Colab\"/></a>"
      ]
    },
    {
      "cell_type": "markdown",
      "source": [
        "##Working with Few Labeled Data"
      ],
      "metadata": {
        "id": "t2xEZpSsot74"
      }
    },
    {
      "cell_type": "markdown",
      "source": [
        "Fortunately, there are several methods that are well suited for dealing with few to no\n",
        "labels! You may already be familiar with some of them, such as zero-shot or few-shot\n",
        "learning, as witnessed by GPT-3’s impressive ability to perform a diverse range of\n",
        "tasks with just a few dozen examples.\n",
        "\n",
        "In general, the best-performing method will depend on the task, the amount of available\n",
        "data, and what fraction of that data is labeled.\n",
        "\n",
        "<img src='https://github.com/rahiakela/transformers-research-and-practice/blob/main/natural-language-processing-with-transformers/09-dealing-with-few-to-no-labels/images/decision-tree.png?raw=1' width='600'/>"
      ],
      "metadata": {
        "id": "eRyFxpXKpyZl"
      }
    },
    {
      "cell_type": "markdown",
      "source": [
        "##Setup"
      ],
      "metadata": {
        "id": "yN8syxejua0D"
      }
    },
    {
      "cell_type": "code",
      "source": [
        "!pip -q install transformers[sentencepiece]\n",
        "!pip -q install datasets\n",
        "!pip -q install scikit-multilearn\n",
        "!pip -q install nlpaug\n",
        "!pip -q install sacremoses"
      ],
      "metadata": {
        "id": "puEruirWucC7"
      },
      "execution_count": null,
      "outputs": []
    },
    {
      "cell_type": "code",
      "source": [
        "from transformers import (AutoTokenizer, AutoModelForSequenceClassification, TextClassificationPipeline)\n",
        "from transformers import TrainingArguments, Trainer\n",
        "from transformers import AutoConfig\n",
        "from transformers import pipeline\n",
        "from datasets import load_dataset, load_metric\n",
        "from datasets import Dataset, DatasetDict\n",
        "from transformers import set_seed\n",
        "\n",
        "import torch\n",
        "import torch.nn as nn\n",
        "import torch.nn.functional as F\n",
        "\n",
        "import nlpaug.augmenter.word as naw\n",
        "import nlpaug.augmenter.char as nac\n",
        "import nlpaug.augmenter.sentence as nas\n",
        "import nlpaug.flow as nafc\n",
        "import nltk\n",
        "\n",
        "from sklearn.preprocessing import MultiLabelBinarizer\n",
        "from sklearn.naive_bayes import MultinomialNB\n",
        "from sklearn.metrics import classification_report\n",
        "from skmultilearn.problem_transform import BinaryRelevance\n",
        "from sklearn.feature_extraction.text import CountVectorizer\n",
        "from skmultilearn.model_selection import iterative_train_test_split\n",
        "from sklearn.model_selection import train_test_split\n",
        "\n",
        "\n",
        "from collections import defaultdict\n",
        "from pathlib import Path\n",
        "from time import perf_counter\n",
        "\n",
        "import sys\n",
        "import time\n",
        "import math\n",
        "import requests\n",
        "from pathlib import Path\n",
        "from tqdm.auto import tqdm\n",
        "import numpy as np\n",
        "import pandas as pd\n",
        "import matplotlib.pyplot as plt"
      ],
      "metadata": {
        "id": "pkHIwQyFufI-"
      },
      "execution_count": null,
      "outputs": []
    },
    {
      "cell_type": "code",
      "source": [
        "nltk.download('averaged_perceptron_tagger')\n",
        "nltk.download('wordnet')"
      ],
      "metadata": {
        "id": "4G_Or-YOrDQV"
      },
      "execution_count": null,
      "outputs": []
    },
    {
      "cell_type": "markdown",
      "source": [
        "If you want to download the issues yourself, you can query the Issues endpoint by using the Requests library, which is the standard way for making HTTP requests in Python."
      ],
      "metadata": {
        "id": "_1kmZUOts4vS"
      }
    },
    {
      "cell_type": "code",
      "source": [
        "def fetch_issues(owner=\"huggingface\", repo=\"transformers\", num_issues=10_000, rate_limit=5_000):    \n",
        "  batch = []\n",
        "  all_issues = []\n",
        "  per_page = 100 # Number of issues to return per page\n",
        "  num_pages = math.ceil(num_issues / per_page)\n",
        "  base_url = \"https://api.github.com/repos\"\n",
        "  \n",
        "  for page in tqdm(range(num_pages)):\n",
        "    # Query with state=all to get both open and closed issues\n",
        "    query = f\"issues?page={page}&per_page={per_page}&state=all\"\n",
        "    issues = requests.get(f\"{base_url}/{owner}/{repo}/{query}\")\n",
        "    batch.extend(issues.json())\n",
        "\n",
        "    if len(batch) > rate_limit and len(all_issues) < num_issues:\n",
        "      all_issues.extend(batch)\n",
        "      batch = [] # Flush batch for next time period\n",
        "      print(f\"Reached GitHub rate limit. Sleeping for one hour ...\")\n",
        "      time.sleep(60 * 60 + 1)\n",
        "          \n",
        "  all_issues.extend(batch)\n",
        "  df = pd.DataFrame.from_records(all_issues)\n",
        "  df.to_json(f\"github-issues-{repo}.jsonl\", orient=\"records\", lines=True)"
      ],
      "metadata": {
        "id": "wEtf53SItATG"
      },
      "execution_count": 3,
      "outputs": []
    },
    {
      "cell_type": "markdown",
      "source": [
        "Now when you call `fetch_issues()`, it will download all the issues in batches to avoid exceeding GitHub's limit on the number of requests per hour. The results will be stored in an github-issues-transformers.jsonl file, where each line is a JSON object the represents the issue."
      ],
      "metadata": {
        "id": "kygtJjrnuxXI"
      }
    },
    {
      "cell_type": "code",
      "source": [
        "# fetch_issues()"
      ],
      "metadata": {
        "id": "YOdZFK9yusGp"
      },
      "execution_count": 4,
      "outputs": []
    },
    {
      "cell_type": "markdown",
      "source": [
        "Alternative way."
      ],
      "metadata": {
        "id": "yk_vC65MvYO-"
      }
    },
    {
      "cell_type": "code",
      "source": [
        "!wget https://github.com/nlp-with-transformers/notebooks/raw/main/data/github-issues-transformers.jsonl"
      ],
      "metadata": {
        "id": "XtDr2v8-vaUQ"
      },
      "execution_count": null,
      "outputs": []
    },
    {
      "cell_type": "code",
      "source": [
        "def plot_metrics(micro_scores, macro_scores, sample_sizes, current_model):\n",
        "  fig, (ax0, ax1) = plt.subplots(1, 2, figsize=(10, 4), sharey=True)\n",
        "\n",
        "  for run in micro_scores.keys():\n",
        "    if run == current_model:\n",
        "      ax0.plot(sample_sizes, micro_scores[run], label=run, linewidth=2)\n",
        "      ax1.plot(sample_sizes, macro_scores[run], label=run, linewidth=2)\n",
        "    else:\n",
        "      ax0.plot(sample_sizes, micro_scores[run], label=run, linestyle=\"dashed\")\n",
        "      ax1.plot(sample_sizes, macro_scores[run], label=run, linestyle=\"dashed\")\n",
        "\n",
        "  ax0.set_title(\"Micro F1 scores\")\n",
        "  ax1.set_title(\"Macro F1 scores\")\n",
        "  ax0.set_ylabel(\"Test set F1 score\")\n",
        "  ax0.legend(loc=\"lower right\")\n",
        "  for ax in [ax0, ax1]:\n",
        "    ax.set_xlabel(\"Number of training samples\")\n",
        "    ax.set_xscale(\"log\")\n",
        "    ax.set_xticks(sample_sizes)\n",
        "    ax.set_xticklabels(sample_sizes)\n",
        "    ax.minorticks_off()\n",
        "  plt.tight_layout()\n",
        "  plt.show()"
      ],
      "metadata": {
        "id": "zLJdypDGwpFd"
      },
      "execution_count": 6,
      "outputs": []
    },
    {
      "cell_type": "markdown",
      "source": [
        "##Dataset"
      ],
      "metadata": {
        "id": "ZgoTZPXuzyDh"
      }
    },
    {
      "cell_type": "markdown",
      "source": [
        "###Preparing the Data"
      ],
      "metadata": {
        "id": "FsPSawO7zysp"
      }
    },
    {
      "cell_type": "code",
      "source": [
        "df_issues = pd.read_json(\"github-issues-transformers.jsonl\", lines=True)\n",
        "print(f\"DataFrame shape: {df_issues.shape}\")"
      ],
      "metadata": {
        "id": "uqKm-pSNwh0a",
        "outputId": "9402aa8b-2eec-4fba-fb96-d8c69343aac7",
        "colab": {
          "base_uri": "https://localhost:8080/"
        }
      },
      "execution_count": 7,
      "outputs": [
        {
          "output_type": "stream",
          "name": "stdout",
          "text": [
            "DataFrame shape: (9930, 26)\n"
          ]
        }
      ]
    },
    {
      "cell_type": "code",
      "source": [
        "df_issues.head(1)"
      ],
      "metadata": {
        "id": "Wz7mtj93yklI",
        "outputId": "9917f141-06df-49b8-fad7-a7b533355c22",
        "colab": {
          "base_uri": "https://localhost:8080/",
          "height": 243
        }
      },
      "execution_count": 8,
      "outputs": [
        {
          "output_type": "execute_result",
          "data": {
            "text/plain": [
              "                                                 url  \\\n",
              "0  https://api.github.com/repos/huggingface/trans...   \n",
              "\n",
              "                                      repository_url  \\\n",
              "0  https://api.github.com/repos/huggingface/trans...   \n",
              "\n",
              "                                          labels_url  \\\n",
              "0  https://api.github.com/repos/huggingface/trans...   \n",
              "\n",
              "                                        comments_url  \\\n",
              "0  https://api.github.com/repos/huggingface/trans...   \n",
              "\n",
              "                                          events_url  \\\n",
              "0  https://api.github.com/repos/huggingface/trans...   \n",
              "\n",
              "                                            html_url         id  \\\n",
              "0  https://github.com/huggingface/transformers/is...  849568459   \n",
              "\n",
              "                    node_id  number  \\\n",
              "0  MDU6SXNzdWU4NDk1Njg0NTk=   11046   \n",
              "\n",
              "                                               title  ... milestone comments  \\\n",
              "0  Potential incorrect application of layer norm ...  ...       NaN        0   \n",
              "\n",
              "           created_at          updated_at closed_at author_association  \\\n",
              "0 2021-04-03 03:37:32 2021-04-03 03:37:32       NaT               NONE   \n",
              "\n",
              "   active_lock_reason                                               body  \\\n",
              "0                None  In BlenderbotSmallDecoder,  layer norm is appl...   \n",
              "\n",
              "  performed_via_github_app pull_request  \n",
              "0                      NaN         None  \n",
              "\n",
              "[1 rows x 26 columns]"
            ],
            "text/html": [
              "\n",
              "  <div id=\"df-ded18aae-749c-493b-9ba8-1162ab8217d2\">\n",
              "    <div class=\"colab-df-container\">\n",
              "      <div>\n",
              "<style scoped>\n",
              "    .dataframe tbody tr th:only-of-type {\n",
              "        vertical-align: middle;\n",
              "    }\n",
              "\n",
              "    .dataframe tbody tr th {\n",
              "        vertical-align: top;\n",
              "    }\n",
              "\n",
              "    .dataframe thead th {\n",
              "        text-align: right;\n",
              "    }\n",
              "</style>\n",
              "<table border=\"1\" class=\"dataframe\">\n",
              "  <thead>\n",
              "    <tr style=\"text-align: right;\">\n",
              "      <th></th>\n",
              "      <th>url</th>\n",
              "      <th>repository_url</th>\n",
              "      <th>labels_url</th>\n",
              "      <th>comments_url</th>\n",
              "      <th>events_url</th>\n",
              "      <th>html_url</th>\n",
              "      <th>id</th>\n",
              "      <th>node_id</th>\n",
              "      <th>number</th>\n",
              "      <th>title</th>\n",
              "      <th>...</th>\n",
              "      <th>milestone</th>\n",
              "      <th>comments</th>\n",
              "      <th>created_at</th>\n",
              "      <th>updated_at</th>\n",
              "      <th>closed_at</th>\n",
              "      <th>author_association</th>\n",
              "      <th>active_lock_reason</th>\n",
              "      <th>body</th>\n",
              "      <th>performed_via_github_app</th>\n",
              "      <th>pull_request</th>\n",
              "    </tr>\n",
              "  </thead>\n",
              "  <tbody>\n",
              "    <tr>\n",
              "      <th>0</th>\n",
              "      <td>https://api.github.com/repos/huggingface/trans...</td>\n",
              "      <td>https://api.github.com/repos/huggingface/trans...</td>\n",
              "      <td>https://api.github.com/repos/huggingface/trans...</td>\n",
              "      <td>https://api.github.com/repos/huggingface/trans...</td>\n",
              "      <td>https://api.github.com/repos/huggingface/trans...</td>\n",
              "      <td>https://github.com/huggingface/transformers/is...</td>\n",
              "      <td>849568459</td>\n",
              "      <td>MDU6SXNzdWU4NDk1Njg0NTk=</td>\n",
              "      <td>11046</td>\n",
              "      <td>Potential incorrect application of layer norm ...</td>\n",
              "      <td>...</td>\n",
              "      <td>NaN</td>\n",
              "      <td>0</td>\n",
              "      <td>2021-04-03 03:37:32</td>\n",
              "      <td>2021-04-03 03:37:32</td>\n",
              "      <td>NaT</td>\n",
              "      <td>NONE</td>\n",
              "      <td>None</td>\n",
              "      <td>In BlenderbotSmallDecoder,  layer norm is appl...</td>\n",
              "      <td>NaN</td>\n",
              "      <td>None</td>\n",
              "    </tr>\n",
              "  </tbody>\n",
              "</table>\n",
              "<p>1 rows × 26 columns</p>\n",
              "</div>\n",
              "      <button class=\"colab-df-convert\" onclick=\"convertToInteractive('df-ded18aae-749c-493b-9ba8-1162ab8217d2')\"\n",
              "              title=\"Convert this dataframe to an interactive table.\"\n",
              "              style=\"display:none;\">\n",
              "        \n",
              "  <svg xmlns=\"http://www.w3.org/2000/svg\" height=\"24px\"viewBox=\"0 0 24 24\"\n",
              "       width=\"24px\">\n",
              "    <path d=\"M0 0h24v24H0V0z\" fill=\"none\"/>\n",
              "    <path d=\"M18.56 5.44l.94 2.06.94-2.06 2.06-.94-2.06-.94-.94-2.06-.94 2.06-2.06.94zm-11 1L8.5 8.5l.94-2.06 2.06-.94-2.06-.94L8.5 2.5l-.94 2.06-2.06.94zm10 10l.94 2.06.94-2.06 2.06-.94-2.06-.94-.94-2.06-.94 2.06-2.06.94z\"/><path d=\"M17.41 7.96l-1.37-1.37c-.4-.4-.92-.59-1.43-.59-.52 0-1.04.2-1.43.59L10.3 9.45l-7.72 7.72c-.78.78-.78 2.05 0 2.83L4 21.41c.39.39.9.59 1.41.59.51 0 1.02-.2 1.41-.59l7.78-7.78 2.81-2.81c.8-.78.8-2.07 0-2.86zM5.41 20L4 18.59l7.72-7.72 1.47 1.35L5.41 20z\"/>\n",
              "  </svg>\n",
              "      </button>\n",
              "      \n",
              "  <style>\n",
              "    .colab-df-container {\n",
              "      display:flex;\n",
              "      flex-wrap:wrap;\n",
              "      gap: 12px;\n",
              "    }\n",
              "\n",
              "    .colab-df-convert {\n",
              "      background-color: #E8F0FE;\n",
              "      border: none;\n",
              "      border-radius: 50%;\n",
              "      cursor: pointer;\n",
              "      display: none;\n",
              "      fill: #1967D2;\n",
              "      height: 32px;\n",
              "      padding: 0 0 0 0;\n",
              "      width: 32px;\n",
              "    }\n",
              "\n",
              "    .colab-df-convert:hover {\n",
              "      background-color: #E2EBFA;\n",
              "      box-shadow: 0px 1px 2px rgba(60, 64, 67, 0.3), 0px 1px 3px 1px rgba(60, 64, 67, 0.15);\n",
              "      fill: #174EA6;\n",
              "    }\n",
              "\n",
              "    [theme=dark] .colab-df-convert {\n",
              "      background-color: #3B4455;\n",
              "      fill: #D2E3FC;\n",
              "    }\n",
              "\n",
              "    [theme=dark] .colab-df-convert:hover {\n",
              "      background-color: #434B5C;\n",
              "      box-shadow: 0px 1px 3px 1px rgba(0, 0, 0, 0.15);\n",
              "      filter: drop-shadow(0px 1px 2px rgba(0, 0, 0, 0.3));\n",
              "      fill: #FFFFFF;\n",
              "    }\n",
              "  </style>\n",
              "\n",
              "      <script>\n",
              "        const buttonEl =\n",
              "          document.querySelector('#df-ded18aae-749c-493b-9ba8-1162ab8217d2 button.colab-df-convert');\n",
              "        buttonEl.style.display =\n",
              "          google.colab.kernel.accessAllowed ? 'block' : 'none';\n",
              "\n",
              "        async function convertToInteractive(key) {\n",
              "          const element = document.querySelector('#df-ded18aae-749c-493b-9ba8-1162ab8217d2');\n",
              "          const dataTable =\n",
              "            await google.colab.kernel.invokeFunction('convertToInteractive',\n",
              "                                                     [key], {});\n",
              "          if (!dataTable) return;\n",
              "\n",
              "          const docLinkHtml = 'Like what you see? Visit the ' +\n",
              "            '<a target=\"_blank\" href=https://colab.research.google.com/notebooks/data_table.ipynb>data table notebook</a>'\n",
              "            + ' to learn more about interactive tables.';\n",
              "          element.innerHTML = '';\n",
              "          dataTable['output_type'] = 'display_data';\n",
              "          await google.colab.output.renderOutput(dataTable, element);\n",
              "          const docLink = document.createElement('div');\n",
              "          docLink.innerHTML = docLinkHtml;\n",
              "          element.appendChild(docLink);\n",
              "        }\n",
              "      </script>\n",
              "    </div>\n",
              "  </div>\n",
              "  "
            ]
          },
          "metadata": {},
          "execution_count": 8
        }
      ]
    },
    {
      "cell_type": "markdown",
      "source": [
        "By looking at a single row we can\n",
        "see that the information retrieved from the GitHub API contains many fields.\n",
        "\n",
        "Let's truncate it for desired columns."
      ],
      "metadata": {
        "id": "Eu0HCnZYyxtW"
      }
    },
    {
      "cell_type": "code",
      "source": [
        "cols = [\"url\", \"id\", \"title\", \"user\", \"labels\", \"state\", \"created_at\", \"body\"]\n",
        "df_issues.loc[2, cols].to_frame()"
      ],
      "metadata": {
        "id": "0w2lrvPGy6ep",
        "outputId": "11d4339f-4cdb-4b17-caa4-3df6e2cc151d",
        "colab": {
          "base_uri": "https://localhost:8080/",
          "height": 300
        }
      },
      "execution_count": 9,
      "outputs": [
        {
          "output_type": "execute_result",
          "data": {
            "text/plain": [
              "                                                            2\n",
              "url         https://api.github.com/repos/huggingface/trans...\n",
              "id                                                  849529761\n",
              "title       [DeepSpeed] ZeRO stage 3 integration: getting ...\n",
              "user        {'login': 'stas00', 'id': 10676103, 'node_id':...\n",
              "labels      [{'id': 2659267025, 'node_id': 'MDU6TGFiZWwyNj...\n",
              "state                                                    open\n",
              "created_at                                2021-04-02 23:40:42\n",
              "body        **[This is not yet alive, preparing for the re..."
            ],
            "text/html": [
              "\n",
              "  <div id=\"df-edf2d5c0-2a5a-4fa0-93e5-29b9542c8c3d\">\n",
              "    <div class=\"colab-df-container\">\n",
              "      <div>\n",
              "<style scoped>\n",
              "    .dataframe tbody tr th:only-of-type {\n",
              "        vertical-align: middle;\n",
              "    }\n",
              "\n",
              "    .dataframe tbody tr th {\n",
              "        vertical-align: top;\n",
              "    }\n",
              "\n",
              "    .dataframe thead th {\n",
              "        text-align: right;\n",
              "    }\n",
              "</style>\n",
              "<table border=\"1\" class=\"dataframe\">\n",
              "  <thead>\n",
              "    <tr style=\"text-align: right;\">\n",
              "      <th></th>\n",
              "      <th>2</th>\n",
              "    </tr>\n",
              "  </thead>\n",
              "  <tbody>\n",
              "    <tr>\n",
              "      <th>url</th>\n",
              "      <td>https://api.github.com/repos/huggingface/trans...</td>\n",
              "    </tr>\n",
              "    <tr>\n",
              "      <th>id</th>\n",
              "      <td>849529761</td>\n",
              "    </tr>\n",
              "    <tr>\n",
              "      <th>title</th>\n",
              "      <td>[DeepSpeed] ZeRO stage 3 integration: getting ...</td>\n",
              "    </tr>\n",
              "    <tr>\n",
              "      <th>user</th>\n",
              "      <td>{'login': 'stas00', 'id': 10676103, 'node_id':...</td>\n",
              "    </tr>\n",
              "    <tr>\n",
              "      <th>labels</th>\n",
              "      <td>[{'id': 2659267025, 'node_id': 'MDU6TGFiZWwyNj...</td>\n",
              "    </tr>\n",
              "    <tr>\n",
              "      <th>state</th>\n",
              "      <td>open</td>\n",
              "    </tr>\n",
              "    <tr>\n",
              "      <th>created_at</th>\n",
              "      <td>2021-04-02 23:40:42</td>\n",
              "    </tr>\n",
              "    <tr>\n",
              "      <th>body</th>\n",
              "      <td>**[This is not yet alive, preparing for the re...</td>\n",
              "    </tr>\n",
              "  </tbody>\n",
              "</table>\n",
              "</div>\n",
              "      <button class=\"colab-df-convert\" onclick=\"convertToInteractive('df-edf2d5c0-2a5a-4fa0-93e5-29b9542c8c3d')\"\n",
              "              title=\"Convert this dataframe to an interactive table.\"\n",
              "              style=\"display:none;\">\n",
              "        \n",
              "  <svg xmlns=\"http://www.w3.org/2000/svg\" height=\"24px\"viewBox=\"0 0 24 24\"\n",
              "       width=\"24px\">\n",
              "    <path d=\"M0 0h24v24H0V0z\" fill=\"none\"/>\n",
              "    <path d=\"M18.56 5.44l.94 2.06.94-2.06 2.06-.94-2.06-.94-.94-2.06-.94 2.06-2.06.94zm-11 1L8.5 8.5l.94-2.06 2.06-.94-2.06-.94L8.5 2.5l-.94 2.06-2.06.94zm10 10l.94 2.06.94-2.06 2.06-.94-2.06-.94-.94-2.06-.94 2.06-2.06.94z\"/><path d=\"M17.41 7.96l-1.37-1.37c-.4-.4-.92-.59-1.43-.59-.52 0-1.04.2-1.43.59L10.3 9.45l-7.72 7.72c-.78.78-.78 2.05 0 2.83L4 21.41c.39.39.9.59 1.41.59.51 0 1.02-.2 1.41-.59l7.78-7.78 2.81-2.81c.8-.78.8-2.07 0-2.86zM5.41 20L4 18.59l7.72-7.72 1.47 1.35L5.41 20z\"/>\n",
              "  </svg>\n",
              "      </button>\n",
              "      \n",
              "  <style>\n",
              "    .colab-df-container {\n",
              "      display:flex;\n",
              "      flex-wrap:wrap;\n",
              "      gap: 12px;\n",
              "    }\n",
              "\n",
              "    .colab-df-convert {\n",
              "      background-color: #E8F0FE;\n",
              "      border: none;\n",
              "      border-radius: 50%;\n",
              "      cursor: pointer;\n",
              "      display: none;\n",
              "      fill: #1967D2;\n",
              "      height: 32px;\n",
              "      padding: 0 0 0 0;\n",
              "      width: 32px;\n",
              "    }\n",
              "\n",
              "    .colab-df-convert:hover {\n",
              "      background-color: #E2EBFA;\n",
              "      box-shadow: 0px 1px 2px rgba(60, 64, 67, 0.3), 0px 1px 3px 1px rgba(60, 64, 67, 0.15);\n",
              "      fill: #174EA6;\n",
              "    }\n",
              "\n",
              "    [theme=dark] .colab-df-convert {\n",
              "      background-color: #3B4455;\n",
              "      fill: #D2E3FC;\n",
              "    }\n",
              "\n",
              "    [theme=dark] .colab-df-convert:hover {\n",
              "      background-color: #434B5C;\n",
              "      box-shadow: 0px 1px 3px 1px rgba(0, 0, 0, 0.15);\n",
              "      filter: drop-shadow(0px 1px 2px rgba(0, 0, 0, 0.3));\n",
              "      fill: #FFFFFF;\n",
              "    }\n",
              "  </style>\n",
              "\n",
              "      <script>\n",
              "        const buttonEl =\n",
              "          document.querySelector('#df-edf2d5c0-2a5a-4fa0-93e5-29b9542c8c3d button.colab-df-convert');\n",
              "        buttonEl.style.display =\n",
              "          google.colab.kernel.accessAllowed ? 'block' : 'none';\n",
              "\n",
              "        async function convertToInteractive(key) {\n",
              "          const element = document.querySelector('#df-edf2d5c0-2a5a-4fa0-93e5-29b9542c8c3d');\n",
              "          const dataTable =\n",
              "            await google.colab.kernel.invokeFunction('convertToInteractive',\n",
              "                                                     [key], {});\n",
              "          if (!dataTable) return;\n",
              "\n",
              "          const docLinkHtml = 'Like what you see? Visit the ' +\n",
              "            '<a target=\"_blank\" href=https://colab.research.google.com/notebooks/data_table.ipynb>data table notebook</a>'\n",
              "            + ' to learn more about interactive tables.';\n",
              "          element.innerHTML = '';\n",
              "          dataTable['output_type'] = 'display_data';\n",
              "          await google.colab.output.renderOutput(dataTable, element);\n",
              "          const docLink = document.createElement('div');\n",
              "          docLink.innerHTML = docLinkHtml;\n",
              "          element.appendChild(docLink);\n",
              "        }\n",
              "      </script>\n",
              "    </div>\n",
              "  </div>\n",
              "  "
            ]
          },
          "metadata": {},
          "execution_count": 9
        }
      ]
    },
    {
      "cell_type": "code",
      "source": [
        "# The labels column is the thing that we’re interested in\n",
        "df_issues.loc[2, cols][\"labels\"]"
      ],
      "metadata": {
        "id": "pFPOPKKW0nV9",
        "outputId": "2e508193-fda4-4a7c-e6ac-7e5feaf6a536",
        "colab": {
          "base_uri": "https://localhost:8080/"
        }
      },
      "execution_count": 10,
      "outputs": [
        {
          "output_type": "execute_result",
          "data": {
            "text/plain": [
              "[{'color': '4D34F7',\n",
              "  'default': False,\n",
              "  'description': '',\n",
              "  'id': 2659267025,\n",
              "  'name': 'DeepSpeed',\n",
              "  'node_id': 'MDU6TGFiZWwyNjU5MjY3MDI1',\n",
              "  'url': 'https://api.github.com/repos/huggingface/transformers/labels/DeepSpeed'}]"
            ]
          },
          "metadata": {},
          "execution_count": 10
        }
      ]
    },
    {
      "cell_type": "code",
      "source": [
        "# For our purposes, we’re only interested in the name field of each label object\n",
        "df_issues[\"labels\"] = (df_issues[\"labels\"].apply(lambda x: [meta[\"name\"] for meta in x]))\n",
        "df_issues[\"labels\"].head()"
      ],
      "metadata": {
        "id": "mr3jBaEW1Bgy",
        "outputId": "1e24dfea-b8ac-4fb4-947d-faac1832c648",
        "colab": {
          "base_uri": "https://localhost:8080/"
        }
      },
      "execution_count": 11,
      "outputs": [
        {
          "output_type": "execute_result",
          "data": {
            "text/plain": [
              "0             []\n",
              "1             []\n",
              "2    [DeepSpeed]\n",
              "3             []\n",
              "4             []\n",
              "Name: labels, dtype: object"
            ]
          },
          "metadata": {},
          "execution_count": 11
        }
      ]
    },
    {
      "cell_type": "code",
      "source": [
        "# let's compute the length of each row to find the number of labels per issue\n",
        "df_issues[\"labels\"].apply(lambda x: len(x)).value_counts().to_frame().T"
      ],
      "metadata": {
        "id": "0hUicFXV1awc",
        "outputId": "b0596fd6-234f-4288-bab2-328cf2fc1698",
        "colab": {
          "base_uri": "https://localhost:8080/",
          "height": 81
        }
      },
      "execution_count": 12,
      "outputs": [
        {
          "output_type": "execute_result",
          "data": {
            "text/plain": [
              "           0     1    2    3   4  5\n",
              "labels  6440  3057  305  100  25  3"
            ],
            "text/html": [
              "\n",
              "  <div id=\"df-672b7416-8718-4c92-8d38-8dbc44c8ce84\">\n",
              "    <div class=\"colab-df-container\">\n",
              "      <div>\n",
              "<style scoped>\n",
              "    .dataframe tbody tr th:only-of-type {\n",
              "        vertical-align: middle;\n",
              "    }\n",
              "\n",
              "    .dataframe tbody tr th {\n",
              "        vertical-align: top;\n",
              "    }\n",
              "\n",
              "    .dataframe thead th {\n",
              "        text-align: right;\n",
              "    }\n",
              "</style>\n",
              "<table border=\"1\" class=\"dataframe\">\n",
              "  <thead>\n",
              "    <tr style=\"text-align: right;\">\n",
              "      <th></th>\n",
              "      <th>0</th>\n",
              "      <th>1</th>\n",
              "      <th>2</th>\n",
              "      <th>3</th>\n",
              "      <th>4</th>\n",
              "      <th>5</th>\n",
              "    </tr>\n",
              "  </thead>\n",
              "  <tbody>\n",
              "    <tr>\n",
              "      <th>labels</th>\n",
              "      <td>6440</td>\n",
              "      <td>3057</td>\n",
              "      <td>305</td>\n",
              "      <td>100</td>\n",
              "      <td>25</td>\n",
              "      <td>3</td>\n",
              "    </tr>\n",
              "  </tbody>\n",
              "</table>\n",
              "</div>\n",
              "      <button class=\"colab-df-convert\" onclick=\"convertToInteractive('df-672b7416-8718-4c92-8d38-8dbc44c8ce84')\"\n",
              "              title=\"Convert this dataframe to an interactive table.\"\n",
              "              style=\"display:none;\">\n",
              "        \n",
              "  <svg xmlns=\"http://www.w3.org/2000/svg\" height=\"24px\"viewBox=\"0 0 24 24\"\n",
              "       width=\"24px\">\n",
              "    <path d=\"M0 0h24v24H0V0z\" fill=\"none\"/>\n",
              "    <path d=\"M18.56 5.44l.94 2.06.94-2.06 2.06-.94-2.06-.94-.94-2.06-.94 2.06-2.06.94zm-11 1L8.5 8.5l.94-2.06 2.06-.94-2.06-.94L8.5 2.5l-.94 2.06-2.06.94zm10 10l.94 2.06.94-2.06 2.06-.94-2.06-.94-.94-2.06-.94 2.06-2.06.94z\"/><path d=\"M17.41 7.96l-1.37-1.37c-.4-.4-.92-.59-1.43-.59-.52 0-1.04.2-1.43.59L10.3 9.45l-7.72 7.72c-.78.78-.78 2.05 0 2.83L4 21.41c.39.39.9.59 1.41.59.51 0 1.02-.2 1.41-.59l7.78-7.78 2.81-2.81c.8-.78.8-2.07 0-2.86zM5.41 20L4 18.59l7.72-7.72 1.47 1.35L5.41 20z\"/>\n",
              "  </svg>\n",
              "      </button>\n",
              "      \n",
              "  <style>\n",
              "    .colab-df-container {\n",
              "      display:flex;\n",
              "      flex-wrap:wrap;\n",
              "      gap: 12px;\n",
              "    }\n",
              "\n",
              "    .colab-df-convert {\n",
              "      background-color: #E8F0FE;\n",
              "      border: none;\n",
              "      border-radius: 50%;\n",
              "      cursor: pointer;\n",
              "      display: none;\n",
              "      fill: #1967D2;\n",
              "      height: 32px;\n",
              "      padding: 0 0 0 0;\n",
              "      width: 32px;\n",
              "    }\n",
              "\n",
              "    .colab-df-convert:hover {\n",
              "      background-color: #E2EBFA;\n",
              "      box-shadow: 0px 1px 2px rgba(60, 64, 67, 0.3), 0px 1px 3px 1px rgba(60, 64, 67, 0.15);\n",
              "      fill: #174EA6;\n",
              "    }\n",
              "\n",
              "    [theme=dark] .colab-df-convert {\n",
              "      background-color: #3B4455;\n",
              "      fill: #D2E3FC;\n",
              "    }\n",
              "\n",
              "    [theme=dark] .colab-df-convert:hover {\n",
              "      background-color: #434B5C;\n",
              "      box-shadow: 0px 1px 3px 1px rgba(0, 0, 0, 0.15);\n",
              "      filter: drop-shadow(0px 1px 2px rgba(0, 0, 0, 0.3));\n",
              "      fill: #FFFFFF;\n",
              "    }\n",
              "  </style>\n",
              "\n",
              "      <script>\n",
              "        const buttonEl =\n",
              "          document.querySelector('#df-672b7416-8718-4c92-8d38-8dbc44c8ce84 button.colab-df-convert');\n",
              "        buttonEl.style.display =\n",
              "          google.colab.kernel.accessAllowed ? 'block' : 'none';\n",
              "\n",
              "        async function convertToInteractive(key) {\n",
              "          const element = document.querySelector('#df-672b7416-8718-4c92-8d38-8dbc44c8ce84');\n",
              "          const dataTable =\n",
              "            await google.colab.kernel.invokeFunction('convertToInteractive',\n",
              "                                                     [key], {});\n",
              "          if (!dataTable) return;\n",
              "\n",
              "          const docLinkHtml = 'Like what you see? Visit the ' +\n",
              "            '<a target=\"_blank\" href=https://colab.research.google.com/notebooks/data_table.ipynb>data table notebook</a>'\n",
              "            + ' to learn more about interactive tables.';\n",
              "          element.innerHTML = '';\n",
              "          dataTable['output_type'] = 'display_data';\n",
              "          await google.colab.output.renderOutput(dataTable, element);\n",
              "          const docLink = document.createElement('div');\n",
              "          docLink.innerHTML = docLinkHtml;\n",
              "          element.appendChild(docLink);\n",
              "        }\n",
              "      </script>\n",
              "    </div>\n",
              "  </div>\n",
              "  "
            ]
          },
          "metadata": {},
          "execution_count": 12
        }
      ]
    },
    {
      "cell_type": "markdown",
      "source": [
        "Next let’s take a look at the top 10 most frequent labels in the dataset."
      ],
      "metadata": {
        "id": "OH8xaLG912OP"
      }
    },
    {
      "cell_type": "code",
      "source": [
        "# we can do this by “exploding” the labels column so that each label in the list becomes a row\n",
        "df_counts = df_issues[\"labels\"].explode().value_counts()\n",
        "print(f\"Number of labels: {len(df_counts)}\")"
      ],
      "metadata": {
        "id": "P6XCxIq1126U",
        "outputId": "1b7b7b18-43e6-4ad7-8730-ce5d3c158f3d",
        "colab": {
          "base_uri": "https://localhost:8080/"
        }
      },
      "execution_count": 13,
      "outputs": [
        {
          "output_type": "stream",
          "name": "stdout",
          "text": [
            "Number of labels: 65\n"
          ]
        }
      ]
    },
    {
      "cell_type": "code",
      "source": [
        "# Display the top-8 label categories\n",
        "df_counts.to_frame().head(8).T"
      ],
      "metadata": {
        "id": "eqcxzgG72PzM",
        "outputId": "3d8edddc-92ea-4449-c1db-d14c10d64c5c",
        "colab": {
          "base_uri": "https://localhost:8080/",
          "height": 142
        }
      },
      "execution_count": 14,
      "outputs": [
        {
          "output_type": "execute_result",
          "data": {
            "text/plain": [
              "        wontfix  model card  Core: Tokenization  New model  Core: Modeling  \\\n",
              "labels     2284         649                 106         98              64   \n",
              "\n",
              "        Help wanted  Good First Issue  Usage  \n",
              "labels           52                50     46  "
            ],
            "text/html": [
              "\n",
              "  <div id=\"df-7f2ca1d3-9dad-4641-859d-830fcdfa5b3e\">\n",
              "    <div class=\"colab-df-container\">\n",
              "      <div>\n",
              "<style scoped>\n",
              "    .dataframe tbody tr th:only-of-type {\n",
              "        vertical-align: middle;\n",
              "    }\n",
              "\n",
              "    .dataframe tbody tr th {\n",
              "        vertical-align: top;\n",
              "    }\n",
              "\n",
              "    .dataframe thead th {\n",
              "        text-align: right;\n",
              "    }\n",
              "</style>\n",
              "<table border=\"1\" class=\"dataframe\">\n",
              "  <thead>\n",
              "    <tr style=\"text-align: right;\">\n",
              "      <th></th>\n",
              "      <th>wontfix</th>\n",
              "      <th>model card</th>\n",
              "      <th>Core: Tokenization</th>\n",
              "      <th>New model</th>\n",
              "      <th>Core: Modeling</th>\n",
              "      <th>Help wanted</th>\n",
              "      <th>Good First Issue</th>\n",
              "      <th>Usage</th>\n",
              "    </tr>\n",
              "  </thead>\n",
              "  <tbody>\n",
              "    <tr>\n",
              "      <th>labels</th>\n",
              "      <td>2284</td>\n",
              "      <td>649</td>\n",
              "      <td>106</td>\n",
              "      <td>98</td>\n",
              "      <td>64</td>\n",
              "      <td>52</td>\n",
              "      <td>50</td>\n",
              "      <td>46</td>\n",
              "    </tr>\n",
              "  </tbody>\n",
              "</table>\n",
              "</div>\n",
              "      <button class=\"colab-df-convert\" onclick=\"convertToInteractive('df-7f2ca1d3-9dad-4641-859d-830fcdfa5b3e')\"\n",
              "              title=\"Convert this dataframe to an interactive table.\"\n",
              "              style=\"display:none;\">\n",
              "        \n",
              "  <svg xmlns=\"http://www.w3.org/2000/svg\" height=\"24px\"viewBox=\"0 0 24 24\"\n",
              "       width=\"24px\">\n",
              "    <path d=\"M0 0h24v24H0V0z\" fill=\"none\"/>\n",
              "    <path d=\"M18.56 5.44l.94 2.06.94-2.06 2.06-.94-2.06-.94-.94-2.06-.94 2.06-2.06.94zm-11 1L8.5 8.5l.94-2.06 2.06-.94-2.06-.94L8.5 2.5l-.94 2.06-2.06.94zm10 10l.94 2.06.94-2.06 2.06-.94-2.06-.94-.94-2.06-.94 2.06-2.06.94z\"/><path d=\"M17.41 7.96l-1.37-1.37c-.4-.4-.92-.59-1.43-.59-.52 0-1.04.2-1.43.59L10.3 9.45l-7.72 7.72c-.78.78-.78 2.05 0 2.83L4 21.41c.39.39.9.59 1.41.59.51 0 1.02-.2 1.41-.59l7.78-7.78 2.81-2.81c.8-.78.8-2.07 0-2.86zM5.41 20L4 18.59l7.72-7.72 1.47 1.35L5.41 20z\"/>\n",
              "  </svg>\n",
              "      </button>\n",
              "      \n",
              "  <style>\n",
              "    .colab-df-container {\n",
              "      display:flex;\n",
              "      flex-wrap:wrap;\n",
              "      gap: 12px;\n",
              "    }\n",
              "\n",
              "    .colab-df-convert {\n",
              "      background-color: #E8F0FE;\n",
              "      border: none;\n",
              "      border-radius: 50%;\n",
              "      cursor: pointer;\n",
              "      display: none;\n",
              "      fill: #1967D2;\n",
              "      height: 32px;\n",
              "      padding: 0 0 0 0;\n",
              "      width: 32px;\n",
              "    }\n",
              "\n",
              "    .colab-df-convert:hover {\n",
              "      background-color: #E2EBFA;\n",
              "      box-shadow: 0px 1px 2px rgba(60, 64, 67, 0.3), 0px 1px 3px 1px rgba(60, 64, 67, 0.15);\n",
              "      fill: #174EA6;\n",
              "    }\n",
              "\n",
              "    [theme=dark] .colab-df-convert {\n",
              "      background-color: #3B4455;\n",
              "      fill: #D2E3FC;\n",
              "    }\n",
              "\n",
              "    [theme=dark] .colab-df-convert:hover {\n",
              "      background-color: #434B5C;\n",
              "      box-shadow: 0px 1px 3px 1px rgba(0, 0, 0, 0.15);\n",
              "      filter: drop-shadow(0px 1px 2px rgba(0, 0, 0, 0.3));\n",
              "      fill: #FFFFFF;\n",
              "    }\n",
              "  </style>\n",
              "\n",
              "      <script>\n",
              "        const buttonEl =\n",
              "          document.querySelector('#df-7f2ca1d3-9dad-4641-859d-830fcdfa5b3e button.colab-df-convert');\n",
              "        buttonEl.style.display =\n",
              "          google.colab.kernel.accessAllowed ? 'block' : 'none';\n",
              "\n",
              "        async function convertToInteractive(key) {\n",
              "          const element = document.querySelector('#df-7f2ca1d3-9dad-4641-859d-830fcdfa5b3e');\n",
              "          const dataTable =\n",
              "            await google.colab.kernel.invokeFunction('convertToInteractive',\n",
              "                                                     [key], {});\n",
              "          if (!dataTable) return;\n",
              "\n",
              "          const docLinkHtml = 'Like what you see? Visit the ' +\n",
              "            '<a target=\"_blank\" href=https://colab.research.google.com/notebooks/data_table.ipynb>data table notebook</a>'\n",
              "            + ' to learn more about interactive tables.';\n",
              "          element.innerHTML = '';\n",
              "          dataTable['output_type'] = 'display_data';\n",
              "          await google.colab.output.renderOutput(dataTable, element);\n",
              "          const docLink = document.createElement('div');\n",
              "          docLink.innerHTML = docLinkHtml;\n",
              "          element.appendChild(docLink);\n",
              "        }\n",
              "      </script>\n",
              "    </div>\n",
              "  </div>\n",
              "  "
            ]
          },
          "metadata": {},
          "execution_count": 14
        }
      ]
    },
    {
      "cell_type": "markdown",
      "source": [
        "Let's filters the dataset for the subset of labels that we’ll work with,\n",
        "along with a standardization of the names to make them easier to read."
      ],
      "metadata": {
        "id": "dieEPSuW2l4F"
      }
    },
    {
      "cell_type": "code",
      "source": [
        "label_map = {\n",
        "  \"Core: Tokenization\": \"tokenization\",\n",
        "  \"New model\": \"new model\",\n",
        "  \"Core: Modeling\": \"model training\",\n",
        "  \"Usage\": \"usage\",\n",
        "  \"Core: Pipeline\": \"pipeline\",\n",
        "  \"TensorFlow\": \"tensorflow or tf\",\n",
        "  \"PyTorch\": \"pytorch\",\n",
        "  \"Examples\": \"examples\",\n",
        "  \"Documentation\": \"documentation\"\n",
        "}\n",
        "\n",
        "def filter_labels(x):\n",
        "  return [label_map[label] for label in x if label in label_map]"
      ],
      "metadata": {
        "id": "_eEWclg52nYZ"
      },
      "execution_count": 15,
      "outputs": []
    },
    {
      "cell_type": "code",
      "source": [
        "df_issues[\"labels\"] = df_issues[\"labels\"].apply(filter_labels)\n",
        "all_labels = list(label_map.values())"
      ],
      "metadata": {
        "id": "pBAOoeM1yb8y"
      },
      "execution_count": 16,
      "outputs": []
    },
    {
      "cell_type": "markdown",
      "source": [
        "Now let’s look at the distribution of the new labels."
      ],
      "metadata": {
        "id": "qPLVdcvAy6AY"
      }
    },
    {
      "cell_type": "code",
      "source": [
        "df_counts = df_issues[\"labels\"].explode().value_counts()\n",
        "df_counts.to_frame().T"
      ],
      "metadata": {
        "colab": {
          "base_uri": "https://localhost:8080/",
          "height": 142
        },
        "id": "h3sWuT6Cy6nV",
        "outputId": "36d50ccf-bd02-4724-e87d-46336058d727"
      },
      "execution_count": 17,
      "outputs": [
        {
          "output_type": "execute_result",
          "data": {
            "text/plain": [
              "        tokenization  new model  model training  usage  pipeline  \\\n",
              "labels           106         98              64     46        42   \n",
              "\n",
              "        tensorflow or tf  pytorch  documentation  examples  \n",
              "labels                41       37             28        24  "
            ],
            "text/html": [
              "\n",
              "  <div id=\"df-ee87c721-7037-404f-b70f-8033c8de6b7e\">\n",
              "    <div class=\"colab-df-container\">\n",
              "      <div>\n",
              "<style scoped>\n",
              "    .dataframe tbody tr th:only-of-type {\n",
              "        vertical-align: middle;\n",
              "    }\n",
              "\n",
              "    .dataframe tbody tr th {\n",
              "        vertical-align: top;\n",
              "    }\n",
              "\n",
              "    .dataframe thead th {\n",
              "        text-align: right;\n",
              "    }\n",
              "</style>\n",
              "<table border=\"1\" class=\"dataframe\">\n",
              "  <thead>\n",
              "    <tr style=\"text-align: right;\">\n",
              "      <th></th>\n",
              "      <th>tokenization</th>\n",
              "      <th>new model</th>\n",
              "      <th>model training</th>\n",
              "      <th>usage</th>\n",
              "      <th>pipeline</th>\n",
              "      <th>tensorflow or tf</th>\n",
              "      <th>pytorch</th>\n",
              "      <th>documentation</th>\n",
              "      <th>examples</th>\n",
              "    </tr>\n",
              "  </thead>\n",
              "  <tbody>\n",
              "    <tr>\n",
              "      <th>labels</th>\n",
              "      <td>106</td>\n",
              "      <td>98</td>\n",
              "      <td>64</td>\n",
              "      <td>46</td>\n",
              "      <td>42</td>\n",
              "      <td>41</td>\n",
              "      <td>37</td>\n",
              "      <td>28</td>\n",
              "      <td>24</td>\n",
              "    </tr>\n",
              "  </tbody>\n",
              "</table>\n",
              "</div>\n",
              "      <button class=\"colab-df-convert\" onclick=\"convertToInteractive('df-ee87c721-7037-404f-b70f-8033c8de6b7e')\"\n",
              "              title=\"Convert this dataframe to an interactive table.\"\n",
              "              style=\"display:none;\">\n",
              "        \n",
              "  <svg xmlns=\"http://www.w3.org/2000/svg\" height=\"24px\"viewBox=\"0 0 24 24\"\n",
              "       width=\"24px\">\n",
              "    <path d=\"M0 0h24v24H0V0z\" fill=\"none\"/>\n",
              "    <path d=\"M18.56 5.44l.94 2.06.94-2.06 2.06-.94-2.06-.94-.94-2.06-.94 2.06-2.06.94zm-11 1L8.5 8.5l.94-2.06 2.06-.94-2.06-.94L8.5 2.5l-.94 2.06-2.06.94zm10 10l.94 2.06.94-2.06 2.06-.94-2.06-.94-.94-2.06-.94 2.06-2.06.94z\"/><path d=\"M17.41 7.96l-1.37-1.37c-.4-.4-.92-.59-1.43-.59-.52 0-1.04.2-1.43.59L10.3 9.45l-7.72 7.72c-.78.78-.78 2.05 0 2.83L4 21.41c.39.39.9.59 1.41.59.51 0 1.02-.2 1.41-.59l7.78-7.78 2.81-2.81c.8-.78.8-2.07 0-2.86zM5.41 20L4 18.59l7.72-7.72 1.47 1.35L5.41 20z\"/>\n",
              "  </svg>\n",
              "      </button>\n",
              "      \n",
              "  <style>\n",
              "    .colab-df-container {\n",
              "      display:flex;\n",
              "      flex-wrap:wrap;\n",
              "      gap: 12px;\n",
              "    }\n",
              "\n",
              "    .colab-df-convert {\n",
              "      background-color: #E8F0FE;\n",
              "      border: none;\n",
              "      border-radius: 50%;\n",
              "      cursor: pointer;\n",
              "      display: none;\n",
              "      fill: #1967D2;\n",
              "      height: 32px;\n",
              "      padding: 0 0 0 0;\n",
              "      width: 32px;\n",
              "    }\n",
              "\n",
              "    .colab-df-convert:hover {\n",
              "      background-color: #E2EBFA;\n",
              "      box-shadow: 0px 1px 2px rgba(60, 64, 67, 0.3), 0px 1px 3px 1px rgba(60, 64, 67, 0.15);\n",
              "      fill: #174EA6;\n",
              "    }\n",
              "\n",
              "    [theme=dark] .colab-df-convert {\n",
              "      background-color: #3B4455;\n",
              "      fill: #D2E3FC;\n",
              "    }\n",
              "\n",
              "    [theme=dark] .colab-df-convert:hover {\n",
              "      background-color: #434B5C;\n",
              "      box-shadow: 0px 1px 3px 1px rgba(0, 0, 0, 0.15);\n",
              "      filter: drop-shadow(0px 1px 2px rgba(0, 0, 0, 0.3));\n",
              "      fill: #FFFFFF;\n",
              "    }\n",
              "  </style>\n",
              "\n",
              "      <script>\n",
              "        const buttonEl =\n",
              "          document.querySelector('#df-ee87c721-7037-404f-b70f-8033c8de6b7e button.colab-df-convert');\n",
              "        buttonEl.style.display =\n",
              "          google.colab.kernel.accessAllowed ? 'block' : 'none';\n",
              "\n",
              "        async function convertToInteractive(key) {\n",
              "          const element = document.querySelector('#df-ee87c721-7037-404f-b70f-8033c8de6b7e');\n",
              "          const dataTable =\n",
              "            await google.colab.kernel.invokeFunction('convertToInteractive',\n",
              "                                                     [key], {});\n",
              "          if (!dataTable) return;\n",
              "\n",
              "          const docLinkHtml = 'Like what you see? Visit the ' +\n",
              "            '<a target=\"_blank\" href=https://colab.research.google.com/notebooks/data_table.ipynb>data table notebook</a>'\n",
              "            + ' to learn more about interactive tables.';\n",
              "          element.innerHTML = '';\n",
              "          dataTable['output_type'] = 'display_data';\n",
              "          await google.colab.output.renderOutput(dataTable, element);\n",
              "          const docLink = document.createElement('div');\n",
              "          docLink.innerHTML = docLinkHtml;\n",
              "          element.appendChild(docLink);\n",
              "        }\n",
              "      </script>\n",
              "    </div>\n",
              "  </div>\n",
              "  "
            ]
          },
          "metadata": {},
          "execution_count": 17
        }
      ]
    },
    {
      "cell_type": "markdown",
      "source": [
        "let’s create a new column that indicates whether the issue is unlabeled\n",
        "or not."
      ],
      "metadata": {
        "id": "PvWEIpgO1hWj"
      }
    },
    {
      "cell_type": "code",
      "source": [
        "df_issues[\"split\"] = \"unlabeled\"\n",
        "mask = df_issues[\"labels\"].apply(lambda x: len(x)) > 0\n",
        "df_issues.loc[mask, \"split\"] = \"labeled\"\n",
        "df_issues[\"split\"].value_counts().to_frame()"
      ],
      "metadata": {
        "colab": {
          "base_uri": "https://localhost:8080/",
          "height": 112
        },
        "id": "57Er8sV81j2R",
        "outputId": "47b93534-a0dc-4558-b9e2-77318d4bd587"
      },
      "execution_count": 18,
      "outputs": [
        {
          "output_type": "execute_result",
          "data": {
            "text/plain": [
              "           split\n",
              "unlabeled   9489\n",
              "labeled      441"
            ],
            "text/html": [
              "\n",
              "  <div id=\"df-547968d6-4324-4bc4-a0d7-3b295a79f605\">\n",
              "    <div class=\"colab-df-container\">\n",
              "      <div>\n",
              "<style scoped>\n",
              "    .dataframe tbody tr th:only-of-type {\n",
              "        vertical-align: middle;\n",
              "    }\n",
              "\n",
              "    .dataframe tbody tr th {\n",
              "        vertical-align: top;\n",
              "    }\n",
              "\n",
              "    .dataframe thead th {\n",
              "        text-align: right;\n",
              "    }\n",
              "</style>\n",
              "<table border=\"1\" class=\"dataframe\">\n",
              "  <thead>\n",
              "    <tr style=\"text-align: right;\">\n",
              "      <th></th>\n",
              "      <th>split</th>\n",
              "    </tr>\n",
              "  </thead>\n",
              "  <tbody>\n",
              "    <tr>\n",
              "      <th>unlabeled</th>\n",
              "      <td>9489</td>\n",
              "    </tr>\n",
              "    <tr>\n",
              "      <th>labeled</th>\n",
              "      <td>441</td>\n",
              "    </tr>\n",
              "  </tbody>\n",
              "</table>\n",
              "</div>\n",
              "      <button class=\"colab-df-convert\" onclick=\"convertToInteractive('df-547968d6-4324-4bc4-a0d7-3b295a79f605')\"\n",
              "              title=\"Convert this dataframe to an interactive table.\"\n",
              "              style=\"display:none;\">\n",
              "        \n",
              "  <svg xmlns=\"http://www.w3.org/2000/svg\" height=\"24px\"viewBox=\"0 0 24 24\"\n",
              "       width=\"24px\">\n",
              "    <path d=\"M0 0h24v24H0V0z\" fill=\"none\"/>\n",
              "    <path d=\"M18.56 5.44l.94 2.06.94-2.06 2.06-.94-2.06-.94-.94-2.06-.94 2.06-2.06.94zm-11 1L8.5 8.5l.94-2.06 2.06-.94-2.06-.94L8.5 2.5l-.94 2.06-2.06.94zm10 10l.94 2.06.94-2.06 2.06-.94-2.06-.94-.94-2.06-.94 2.06-2.06.94z\"/><path d=\"M17.41 7.96l-1.37-1.37c-.4-.4-.92-.59-1.43-.59-.52 0-1.04.2-1.43.59L10.3 9.45l-7.72 7.72c-.78.78-.78 2.05 0 2.83L4 21.41c.39.39.9.59 1.41.59.51 0 1.02-.2 1.41-.59l7.78-7.78 2.81-2.81c.8-.78.8-2.07 0-2.86zM5.41 20L4 18.59l7.72-7.72 1.47 1.35L5.41 20z\"/>\n",
              "  </svg>\n",
              "      </button>\n",
              "      \n",
              "  <style>\n",
              "    .colab-df-container {\n",
              "      display:flex;\n",
              "      flex-wrap:wrap;\n",
              "      gap: 12px;\n",
              "    }\n",
              "\n",
              "    .colab-df-convert {\n",
              "      background-color: #E8F0FE;\n",
              "      border: none;\n",
              "      border-radius: 50%;\n",
              "      cursor: pointer;\n",
              "      display: none;\n",
              "      fill: #1967D2;\n",
              "      height: 32px;\n",
              "      padding: 0 0 0 0;\n",
              "      width: 32px;\n",
              "    }\n",
              "\n",
              "    .colab-df-convert:hover {\n",
              "      background-color: #E2EBFA;\n",
              "      box-shadow: 0px 1px 2px rgba(60, 64, 67, 0.3), 0px 1px 3px 1px rgba(60, 64, 67, 0.15);\n",
              "      fill: #174EA6;\n",
              "    }\n",
              "\n",
              "    [theme=dark] .colab-df-convert {\n",
              "      background-color: #3B4455;\n",
              "      fill: #D2E3FC;\n",
              "    }\n",
              "\n",
              "    [theme=dark] .colab-df-convert:hover {\n",
              "      background-color: #434B5C;\n",
              "      box-shadow: 0px 1px 3px 1px rgba(0, 0, 0, 0.15);\n",
              "      filter: drop-shadow(0px 1px 2px rgba(0, 0, 0, 0.3));\n",
              "      fill: #FFFFFF;\n",
              "    }\n",
              "  </style>\n",
              "\n",
              "      <script>\n",
              "        const buttonEl =\n",
              "          document.querySelector('#df-547968d6-4324-4bc4-a0d7-3b295a79f605 button.colab-df-convert');\n",
              "        buttonEl.style.display =\n",
              "          google.colab.kernel.accessAllowed ? 'block' : 'none';\n",
              "\n",
              "        async function convertToInteractive(key) {\n",
              "          const element = document.querySelector('#df-547968d6-4324-4bc4-a0d7-3b295a79f605');\n",
              "          const dataTable =\n",
              "            await google.colab.kernel.invokeFunction('convertToInteractive',\n",
              "                                                     [key], {});\n",
              "          if (!dataTable) return;\n",
              "\n",
              "          const docLinkHtml = 'Like what you see? Visit the ' +\n",
              "            '<a target=\"_blank\" href=https://colab.research.google.com/notebooks/data_table.ipynb>data table notebook</a>'\n",
              "            + ' to learn more about interactive tables.';\n",
              "          element.innerHTML = '';\n",
              "          dataTable['output_type'] = 'display_data';\n",
              "          await google.colab.output.renderOutput(dataTable, element);\n",
              "          const docLink = document.createElement('div');\n",
              "          docLink.innerHTML = docLinkHtml;\n",
              "          element.appendChild(docLink);\n",
              "        }\n",
              "      </script>\n",
              "    </div>\n",
              "  </div>\n",
              "  "
            ]
          },
          "metadata": {},
          "execution_count": 18
        }
      ]
    },
    {
      "cell_type": "markdown",
      "source": [
        "Let’s now take a look at an example."
      ],
      "metadata": {
        "id": "06beyuTE3frT"
      }
    },
    {
      "cell_type": "code",
      "source": [
        "for column in [\"title\", \"body\", \"labels\"]:\n",
        "  print(f\"{column }: {df_issues[column ].iloc[26][:500]}\\n\")"
      ],
      "metadata": {
        "colab": {
          "base_uri": "https://localhost:8080/"
        },
        "id": "92Qxa4XT3gP6",
        "outputId": "0a9131d0-7dab-4237-ceb6-cbd6691e7cf6"
      },
      "execution_count": 19,
      "outputs": [
        {
          "output_type": "stream",
          "name": "stdout",
          "text": [
            "title: Add new CANINE model\n",
            "\n",
            "body: # 🌟 New model addition\r\n",
            "\r\n",
            "## Model description\r\n",
            "\r\n",
            "Google recently proposed a new **C**haracter **A**rchitecture with **N**o tokenization **I**n **N**eural **E**ncoders architecture (CANINE). Not only the title is exciting:\r\n",
            "\r\n",
            "> Pipelined NLP systems have largely been superseded by end-to-end neural modeling, yet nearly all commonly-used models still require an explicit tokenization step. While recent tokenization approaches based on data-derived subword lexicons are less brittle than manually en\n",
            "\n",
            "labels: ['new model']\n",
            "\n"
          ]
        }
      ]
    },
    {
      "cell_type": "markdown",
      "source": [
        "We can also see that the title contains information that will be useful for our classifier.\n",
        "\n",
        "So let’s concatenate it with the issue’s description in the body field."
      ],
      "metadata": {
        "id": "TyYCxPYQH9SM"
      }
    },
    {
      "cell_type": "code",
      "source": [
        "df_issues[\"text\"] = (df_issues.apply(lambda x: x[\"title\"] + \"\\n\\n\" + x[\"body\"], axis=1))"
      ],
      "metadata": {
        "id": "itsZdsa4ICbI"
      },
      "execution_count": 20,
      "outputs": []
    },
    {
      "cell_type": "code",
      "source": [
        "# let’s check for any duplicates in the data and drop them\n",
        "len_before = len(df_issues)\n",
        "df_issues = df_issues.drop_duplicates(subset=\"text\")\n",
        "print(f\"Removed {(len_before - len(df_issues)) // len_before:.2f} duplicates.\")"
      ],
      "metadata": {
        "id": "YOXr5MAAIa96",
        "outputId": "4e6ac29d-5fd6-4b15-a795-3c596c7fd10b",
        "colab": {
          "base_uri": "https://localhost:8080/"
        }
      },
      "execution_count": 21,
      "outputs": [
        {
          "output_type": "stream",
          "name": "stdout",
          "text": [
            "Removed 0.00 duplicates.\n"
          ]
        }
      ]
    },
    {
      "cell_type": "markdown",
      "source": [
        "It’s also a good idea to\n",
        "have a quick look at the number of words in our texts to see if we’ll lose much information\n",
        "when we truncate to each model’s context size."
      ],
      "metadata": {
        "id": "pral1oiuLtoS"
      }
    },
    {
      "cell_type": "code",
      "source": [
        "(df_issues[\"text\"].str.split().apply(len)).hist(bins=np.linspace(0, 500, 50), grid=False, edgecolor=\"C0\")\n",
        "plt.title(\"Words per issue\")\n",
        "plt.xlabel(\"Number of words\")\n",
        "plt.ylabel(\"Number of issues\")\n",
        "plt.show()"
      ],
      "metadata": {
        "id": "9y8oQhNhLwE-",
        "outputId": "2c228abc-44ce-44c2-bcfc-44376f93690b",
        "colab": {
          "base_uri": "https://localhost:8080/",
          "height": 295
        }
      },
      "execution_count": 22,
      "outputs": [
        {
          "output_type": "display_data",
          "data": {
            "text/plain": [
              "<Figure size 432x288 with 1 Axes>"
            ],
            "image/png": "[encoded data removed]"
          },
          "metadata": {
            "needs_background": "light"
          }
        }
      ]
    },
    {
      "cell_type": "markdown",
      "source": [
        "Most of the\n",
        "texts are fairly short, but there are also issues with more than 500 words.\n",
        "\n",
        "Given that most transformer models have a context size\n",
        "of 512 tokens or larger, truncating a handful of long issues is not likely to affect the overall performance."
      ],
      "metadata": {
        "id": "hArDJ7IJNkqM"
      }
    },
    {
      "cell_type": "markdown",
      "source": [
        "###Creating Training Sets"
      ],
      "metadata": {
        "id": "-LJqX5NaNteT"
      }
    },
    {
      "cell_type": "markdown",
      "source": [
        "Creating training and validation sets is a bit trickier for multlilabel problems because\n",
        "there is no guaranteed balance for all labels. However, it can be approximated, and we\n",
        "can use the [Scikit-multilearn library](http://scikit.ml/), which is specifically set up for this purpose."
      ],
      "metadata": {
        "id": "WHp-GStSNvbz"
      }
    },
    {
      "cell_type": "code",
      "source": [
        "# takes a list of label names and creates a vector with zeros for absent labels and ones for present labels\n",
        "mlb = MultiLabelBinarizer()\n",
        "mlb.fit([all_labels])\n",
        "mlb.transform([[\"tokenization\", \"new model\"], [\"pytorch\"]])"
      ],
      "metadata": {
        "id": "rPlKVHdEwaRU",
        "outputId": "a44de1eb-d41a-4603-8f26-074ee208c093",
        "colab": {
          "base_uri": "https://localhost:8080/"
        }
      },
      "execution_count": 23,
      "outputs": [
        {
          "output_type": "execute_result",
          "data": {
            "text/plain": [
              "array([[0, 0, 0, 1, 0, 0, 0, 1, 0],\n",
              "       [0, 0, 0, 0, 0, 1, 0, 0, 0]])"
            ]
          },
          "metadata": {},
          "execution_count": 23
        }
      ]
    },
    {
      "cell_type": "code",
      "source": [
        "def balanced_split(df, test_size=0.5):\n",
        "  index = np.expand_dims(np.arange(len(df)), axis=1)\n",
        "  labels = mlb.transform(df[\"labels\"])\n",
        "  # creates the train/test splits iteratively to achieve balanced labels\n",
        "  ind_train, _, ind_test, _ = iterative_train_test_split(index, labels, test_size)\n",
        "  return df.iloc[ind_train[:, 0]], df.iloc[ind_test[:, 0]]"
      ],
      "metadata": {
        "id": "l3WGQoE5yu5n"
      },
      "execution_count": 24,
      "outputs": []
    },
    {
      "cell_type": "markdown",
      "source": [
        "Now, we can split the data into supervised\n",
        "and unsupervised datasets, and then create balanced training, validation, and test sets."
      ],
      "metadata": {
        "id": "Xh-wki8h03Mu"
      }
    },
    {
      "cell_type": "code",
      "source": [
        "np.random.seed(0)\n",
        "\n",
        "df_clean = df_issues[[\"text\", \"labels\", \"split\"]].reset_index(drop=True).copy()\n",
        "\n",
        "df_unsup = df_clean.loc[df_clean[\"split\"] == \"unlabeled\", [\"text\", \"labels\"]]\n",
        "df_sup = df_clean.loc[df_clean[\"split\"] == \"labeled\", [\"text\", \"labels\"]]\n",
        "\n",
        "df_train, df_tmp = balanced_split(df_sup, test_size=0.5)\n",
        "df_valid, df_test = balanced_split(df_tmp, test_size=0.5)"
      ],
      "metadata": {
        "id": "S4HWCC3p04kh"
      },
      "execution_count": 25,
      "outputs": []
    },
    {
      "cell_type": "markdown",
      "source": [
        "Finally, let’s create a `DatasetDict` with all the splits so that we can easily tokenize the dataset and integrate with the `Trainer`."
      ],
      "metadata": {
        "id": "ma6o5B-72xG5"
      }
    },
    {
      "cell_type": "code",
      "source": [
        "ds = DatasetDict({\n",
        "  \"train\": Dataset.from_pandas(df_train.reset_index(drop=True)),\n",
        "  \"valid\": Dataset.from_pandas(df_valid.reset_index(drop=True)),\n",
        "  \"test\": Dataset.from_pandas(df_test.reset_index(drop=True)),\n",
        "  \"unsup\": Dataset.from_pandas(df_unsup.reset_index(drop=True)),\n",
        "})"
      ],
      "metadata": {
        "id": "AfXpuYnC21Np"
      },
      "execution_count": 26,
      "outputs": []
    },
    {
      "cell_type": "markdown",
      "source": [
        "###Creating Training Slices"
      ],
      "metadata": {
        "id": "62zFkJ-P4Buc"
      }
    },
    {
      "cell_type": "code",
      "source": [
        "np.random.seed(0)\n",
        "\n",
        "all_indices = np.expand_dims(list(range(len(ds[\"train\"]))), axis=1)\n",
        "indices_pool = all_indices\n",
        "labels = mlb.transform(ds[\"train\"][\"labels\"])\n",
        "train_samples = [8, 16, 32, 64, 128]\n",
        "train_slices, last_k = [], 0\n",
        "\n",
        "for i, k in enumerate(train_samples):\n",
        "  # Split off samples necessary to fill the gap to the next split size\n",
        "  indices_pool, labels, new_slice, _ = iterative_train_test_split(indices_pool, labels, (k - last_k) / len(labels))\n",
        "  last_k = k\n",
        "  if i == 0:\n",
        "    train_slices.append(new_slice)\n",
        "  else:\n",
        "    train_slices.append(np.concatenate((train_slices[-1], new_slice)))\n",
        "\n",
        "# Add full dataset as last slice\n",
        "train_slices.append(all_indices)\n",
        "train_samples.append(len(ds[\"train\"]))\n",
        "train_slices = [np.squeeze(train_slice) for train_slice in train_slices]"
      ],
      "metadata": {
        "id": "agPh7qveLWGT"
      },
      "execution_count": 27,
      "outputs": []
    },
    {
      "cell_type": "markdown",
      "source": [
        "Note that this iterative approach only approximately splits the samples to the desired\n",
        "size, since it is not always possible to find a balanced split at a given split size:"
      ],
      "metadata": {
        "id": "qJd8brJQQONP"
      }
    },
    {
      "cell_type": "code",
      "source": [
        "print(\"Target split sizes:\")\n",
        "print(train_samples)\n",
        "print(\"Actual split sizes:\")\n",
        "print([len(x) for x in train_slices])"
      ],
      "metadata": {
        "id": "YLi567yIRDum",
        "outputId": "bfe9b08c-04d3-49cc-d9bb-2f600be0fd35",
        "colab": {
          "base_uri": "https://localhost:8080/"
        }
      },
      "execution_count": 28,
      "outputs": [
        {
          "output_type": "stream",
          "name": "stdout",
          "text": [
            "Target split sizes:\n",
            "[8, 16, 32, 64, 128, 223]\n",
            "Actual split sizes:\n",
            "[10, 19, 36, 68, 134, 223]\n"
          ]
        }
      ]
    },
    {
      "cell_type": "markdown",
      "source": [
        "##Implementing Naive Bayesline"
      ],
      "metadata": {
        "id": "KonAZOdKSaoO"
      }
    },
    {
      "cell_type": "markdown",
      "source": [
        "For text classification, a great\n",
        "baseline is a Naive Bayes classifier as it is very simple, quick to train, and fairly robust\n",
        "to perturbations in the inputs. \n",
        "\n",
        "The Scikit-learn implementation of Naive Bayes does\n",
        "not support multilabel classification out of the box, but fortunately we can again use\n",
        "the Scikit-multilearn library to cast the problem as a one-versus-rest classification\n",
        "task where we train L binary classifiers for L labels.\n",
        "\n",
        "First, let’s use a multilabel binarizer\n",
        "to create a new label_ids column in our training sets."
      ],
      "metadata": {
        "id": "FBHHqyXkScL1"
      }
    },
    {
      "cell_type": "code",
      "source": [
        "def prepare_labels(batch):\n",
        "  batch[\"label_ids\"] = mlb.transform(batch[\"labels\"])\n",
        "  return batch\n",
        "\n",
        "ds = ds.map(prepare_labels, batched=True)"
      ],
      "metadata": {
        "id": "DF87pJ4ssSD9"
      },
      "execution_count": null,
      "outputs": []
    },
    {
      "cell_type": "markdown",
      "source": [
        "let’s create a defaultdict with a list to store the scores\n",
        "per split."
      ],
      "metadata": {
        "id": "QxM5Kse2tG9o"
      }
    },
    {
      "cell_type": "code",
      "source": [
        "macro_scores, micro_scores = defaultdict(list), defaultdict(list)"
      ],
      "metadata": {
        "id": "npYPfH71tGc8"
      },
      "execution_count": 30,
      "outputs": []
    },
    {
      "cell_type": "markdown",
      "source": [
        "Now we’re finally ready to train our baseline!"
      ],
      "metadata": {
        "id": "VzONXgTmtVAy"
      }
    },
    {
      "cell_type": "code",
      "source": [
        "for train_slice in train_slices:\n",
        "  # Get training slice and test data\n",
        "  ds_train_sample = ds[\"train\"].select(train_slice)\n",
        "  y_train = np.array(ds_train_sample[\"label_ids\"])\n",
        "  y_test = np.array(ds[\"test\"][\"label_ids\"])\n",
        "\n",
        "  # Use a simple count vectorizer to encode our texts as token counts\n",
        "  count_vec = CountVectorizer()\n",
        "  x_train_counts = count_vec.fit_transform(ds_train_sample[\"text\"])\n",
        "  x_test_counts = count_vec.transform(ds[\"test\"][\"text\"])\n",
        "\n",
        "  # Create and train our model!\n",
        "  classifier = BinaryRelevance(classifier=MultinomialNB())\n",
        "  classifier.fit(x_train_counts, y_train)\n",
        "\n",
        "  # Generate predictions and evaluate\n",
        "  y_pred_test = classifier.predict(x_test_counts)\n",
        "  clf_report = classification_report(y_test, y_pred_test, target_names=mlb.classes_, zero_division=0, output_dict=True)\n",
        "\n",
        "  # Store metrics\n",
        "  macro_scores[\"Naive Bayes\"].append(clf_report[\"macro avg\"][\"f1-score\"])\n",
        "  micro_scores[\"Naive Bayes\"].append(clf_report[\"micro avg\"][\"f1-score\"])"
      ],
      "metadata": {
        "id": "50oYMxy5tUdA"
      },
      "execution_count": 31,
      "outputs": []
    },
    {
      "cell_type": "markdown",
      "source": [
        "Let's plot the results of this experiment."
      ],
      "metadata": {
        "id": "uxNdyzJTwaMH"
      }
    },
    {
      "cell_type": "code",
      "source": [
        "plot_metrics(micro_scores, macro_scores, train_samples, \"Naive Bayes\")"
      ],
      "metadata": {
        "id": "2HQ3Hoe3wbvL",
        "outputId": "a4acc707-1061-45df-c79b-1c7e7dbbab31",
        "colab": {
          "base_uri": "https://localhost:8080/",
          "height": 297
        }
      },
      "execution_count": 32,
      "outputs": [
        {
          "output_type": "display_data",
          "data": {
            "text/plain": [
              "<Figure size 720x288 with 2 Axes>"
            ],
            "image/png": "[encoded data removed]"
          },
          "metadata": {
            "needs_background": "light"
          }
        }
      ]
    },
    {
      "cell_type": "markdown",
      "source": [
        "##Working with No Labeled Data"
      ],
      "metadata": {
        "id": "jYBaZo8oxGzN"
      }
    },
    {
      "cell_type": "markdown",
      "source": [
        "The first technique that we’ll consider is zero-shot classification, which is suitable in\n",
        "settings where you have no labeled data at all. This is surprisingly common in industry,\n",
        "and might occur because there is no historic data with labels or because acquiring\n",
        "the labels for the data is difficult.\n",
        "\n",
        "The goal of zero-shot classification is to make use of a pretrained model without any\n",
        "additional fine-tuning on your task-specific corpus.\n",
        "\n",
        "Let's try is to load BERT-base in the fillmask\n",
        "pipeline, which uses the masked language model to predict the content of the\n",
        "masked tokens:"
      ],
      "metadata": {
        "id": "QJv51GgIxH7r"
      }
    },
    {
      "cell_type": "code",
      "source": [
        "mask_pipeline = pipeline(\"fill-mask\", model=\"bert-base-uncased\")"
      ],
      "metadata": {
        "id": "pWcuo_bigiEX"
      },
      "execution_count": null,
      "outputs": []
    },
    {
      "cell_type": "markdown",
      "source": [
        "Next, let’s construct a little movie description and add a prompt to it with a masked word."
      ],
      "metadata": {
        "id": "IYCb7atDg8rR"
      }
    },
    {
      "cell_type": "code",
      "source": [
        "movie_desc = \"The main characters of the movie madacascar are a lion, a zebra, a giraffe, and a hippo.\"\n",
        "prompt = \"The movie is about [MASK].\"\n",
        "\n",
        "output = mask_pipeline(movie_desc + prompt)\n",
        "for element in output:\n",
        "  print(f\"Token {element['token_str']}:\\t{element['score']:.3f}%\")"
      ],
      "metadata": {
        "id": "EU7fxHtCg-Ud",
        "outputId": "6c1b0138-2a96-4ae4-f9d0-b0df3e8a0357",
        "colab": {
          "base_uri": "https://localhost:8080/"
        }
      },
      "execution_count": 34,
      "outputs": [
        {
          "output_type": "stream",
          "name": "stdout",
          "text": [
            "Token animals:\t0.103%\n",
            "Token lions:\t0.066%\n",
            "Token birds:\t0.025%\n",
            "Token love:\t0.015%\n",
            "Token hunting:\t0.013%\n"
          ]
        }
      ]
    },
    {
      "cell_type": "markdown",
      "source": [
        "We can also turn\n",
        "this around, and instead of getting the most likely tokens we can query the pipeline\n",
        "for the probability of a few given tokens."
      ],
      "metadata": {
        "id": "ndIcmjtEh3Gj"
      }
    },
    {
      "cell_type": "code",
      "source": [
        "output = mask_pipeline(movie_desc + prompt, targets=[\"animals\", \"cars\"])\n",
        "for element in output:\n",
        "  print(f\"Token {element['token_str']}:\\t{element['score']:.3f}%\")"
      ],
      "metadata": {
        "id": "rHSjMu6Ih3mn",
        "outputId": "97316970-8d78-4229-be44-f858a9019637",
        "colab": {
          "base_uri": "https://localhost:8080/"
        }
      },
      "execution_count": 35,
      "outputs": [
        {
          "output_type": "stream",
          "name": "stdout",
          "text": [
            "Token animals:\t0.103%\n",
            "Token cars:\t0.001%\n"
          ]
        }
      ]
    },
    {
      "cell_type": "markdown",
      "source": [
        "Let’s see if this also works for a description that is closer to cars."
      ],
      "metadata": {
        "id": "zSxe9oGaiQSh"
      }
    },
    {
      "cell_type": "code",
      "source": [
        "movie_desc = \"In the movie transformers aliens can morph into a wide range of vehicles.\"\n",
        "\n",
        "output = mask_pipeline(movie_desc + prompt, targets=[\"animals\", \"cars\"])\n",
        "for element in output:\n",
        "  print(f\"Token {element['token_str']}:\\t{element['score']:.3f}%\")"
      ],
      "metadata": {
        "id": "UckuKth1iQ40",
        "outputId": "3caa15e4-966b-46bb-9a5f-017414009cd0",
        "colab": {
          "base_uri": "https://localhost:8080/"
        }
      },
      "execution_count": 36,
      "outputs": [
        {
          "output_type": "stream",
          "name": "stdout",
          "text": [
            "Token cars:\t0.139%\n",
            "Token animals:\t0.006%\n"
          ]
        }
      ]
    },
    {
      "cell_type": "markdown",
      "source": [
        "Using the masked language model for classification is a nice trick, but we can do better\n",
        "still by using a model that has been trained on a task that is closer to classification.\n",
        "\n",
        "There is a neat proxy task called text entailment that fits the bill. In text entailment,\n",
        "the model needs to determine whether two text passages are likely to follow or contradict\n",
        "each other.\n",
        "\n",
        "Each sample in these datasets is composed of three parts: a premise, a hypothesis, and\n",
        "a label, which can be one of entailment, neutral, or contradiction."
      ],
      "metadata": {
        "id": "ikyvWx8awiFu"
      }
    },
    {
      "cell_type": "code",
      "source": [
        "zero_shot_pipe = pipeline(\"zero-shot-classification\", device=0)"
      ],
      "metadata": {
        "id": "q0n6V0H7w1C7"
      },
      "execution_count": null,
      "outputs": []
    },
    {
      "cell_type": "markdown",
      "source": [
        "Let's classify a text, we simply need to pass it to the\n",
        "pipeline along with the label names."
      ],
      "metadata": {
        "id": "ruw3pQgxyc3j"
      }
    },
    {
      "cell_type": "code",
      "source": [
        "sample = ds[\"train\"][0]\n",
        "print(f\"Labels: {sample['labels']}\")\n",
        "output = zero_shot_pipe(sample[\"text\"], all_labels, multi_label=True)\n",
        "print(output[\"sequence\"][:400])\n",
        "print(\"\\nnPredictions:\")\n",
        "\n",
        "for label, score in zip(output[\"labels\"], output[\"scores\"]):\n",
        "  print(f\"{label}, {score:.2f}\")"
      ],
      "metadata": {
        "colab": {
          "base_uri": "https://localhost:8080/"
        },
        "id": "n1ZbN5DNyemL",
        "outputId": "457b6e5e-e4c3-412f-c502-ffb68578ec9e"
      },
      "execution_count": 38,
      "outputs": [
        {
          "output_type": "stream",
          "name": "stdout",
          "text": [
            "Labels: ['new model']\n",
            "Add new CANINE model\n",
            "\n",
            "# 🌟 New model addition\n",
            "\n",
            "## Model description\n",
            "\n",
            "Google recently proposed a new **C**haracter **A**rchitecture with **N**o tokenization **I**n **N**eural **E**ncoders architecture (CANINE). Not only the title is exciting:\n",
            "\n",
            "> Pipelined NLP systems have largely been superseded by end-to-end neural modeling, yet nearly all commonly-used models still require an explicit tokeni\n",
            "\n",
            "nPredictions:\n",
            "new model, 0.98\n",
            "tensorflow or tf, 0.37\n",
            "examples, 0.34\n",
            "usage, 0.30\n",
            "pytorch, 0.25\n",
            "documentation, 0.25\n",
            "model training, 0.24\n",
            "tokenization, 0.17\n",
            "pipeline, 0.16\n"
          ]
        }
      ]
    },
    {
      "cell_type": "markdown",
      "source": [
        "An important aspect for zeroshot\n",
        "classification is the domain we’re operating in.\n",
        "\n",
        "Let’s write a function that feeds a single example through the zero-shot pipeline."
      ],
      "metadata": {
        "id": "MYt2bBhWzw66"
      }
    },
    {
      "cell_type": "code",
      "source": [
        "def zero_shot_pipeline(example):\n",
        "  output = zero_shot_pipe(example[\"text\"], all_labels, multi_label=True)\n",
        "  example[\"predicted_labels\"] = output[\"labels\"]\n",
        "  example[\"scores\"] = output[\"scores\"]\n",
        "  return example"
      ],
      "metadata": {
        "id": "4SML51Uvz42o"
      },
      "execution_count": 39,
      "outputs": []
    },
    {
      "cell_type": "code",
      "source": [
        "ds_zero_shot = ds[\"valid\"].map(zero_shot_pipeline)"
      ],
      "metadata": {
        "id": "DojUduMa1wF6"
      },
      "execution_count": null,
      "outputs": []
    },
    {
      "cell_type": "markdown",
      "source": [
        "To help us determine which method is best, let’s write a function that\n",
        "applies one of the approaches to retrieve the predictions."
      ],
      "metadata": {
        "id": "tOJBUHkk3d1C"
      }
    },
    {
      "cell_type": "code",
      "source": [
        "def get_preds(example, threshold=None, topk=None):\n",
        "  preds = []\n",
        "  if threshold:\n",
        "    for label, score in zip(example[\"predicted_labels\"], example[\"scores\"]):\n",
        "      if score >= threshold:\n",
        "        preds.append(label)\n",
        "  elif topk:\n",
        "    for i in range(topk):\n",
        "      preds.append(example[\"predicted_labels\"][i])\n",
        "  else:\n",
        "    raise ValueError(\"Set either `threshold` or `topk`.\")\n",
        "  return {\"pred_label_ids\": list(np.squeeze(mlb.transform([preds])))}"
      ],
      "metadata": {
        "id": "m5Ym01O_3gWj"
      },
      "execution_count": 41,
      "outputs": []
    },
    {
      "cell_type": "markdown",
      "source": [
        "Next, let’s write a second function that returns the Scikit-learn\n",
        "classification report from a dataset with the predicted labels."
      ],
      "metadata": {
        "id": "em2An4tJ4ycP"
      }
    },
    {
      "cell_type": "code",
      "source": [
        "def get_clf_report(ds):\n",
        "  y_true = np.array(ds[\"label_ids\"])\n",
        "  y_pred = np.array(ds[\"pred_label_ids\"])\n",
        "  return classification_report(y_true, y_pred, target_names=mlb.classes_, zero_division=0, output_dict=True)"
      ],
      "metadata": {
        "id": "hDmNQCOW41hS"
      },
      "execution_count": 42,
      "outputs": []
    },
    {
      "cell_type": "markdown",
      "source": [
        "Let’s start with the `top-k` method by increasing `k` for\n",
        "several values and then plotting the micro and macro F1-scores across the validation set."
      ],
      "metadata": {
        "id": "9CaAZIv_9pOx"
      }
    },
    {
      "cell_type": "code",
      "source": [
        "macros, micros = [], []\n",
        "topks = [1, 2, 3, 4]\n",
        "\n",
        "for topk in topks:\n",
        "  ds_zero_shot = ds_zero_shot.map(get_preds, batched=False, fn_kwargs={\"topk\": topk})\n",
        "  clf_report = get_clf_report(ds_zero_shot)\n",
        "  micros.append(clf_report[\"micro avg\"][\"f1-score\"])\n",
        "  macros.append(clf_report[\"macro avg\"][\"f1-score\"])"
      ],
      "metadata": {
        "id": "xftWOJ5A9urw"
      },
      "execution_count": null,
      "outputs": []
    },
    {
      "cell_type": "code",
      "source": [
        "plt.plot(topks, micros, label='Micro F1')\n",
        "plt.plot(topks, macros, label='Macro F1')\n",
        "plt.xlabel(\"Top-k\")\n",
        "plt.ylabel(\"F1-score\")\n",
        "plt.legend(loc='best')\n",
        "plt.show()"
      ],
      "metadata": {
        "colab": {
          "base_uri": "https://localhost:8080/",
          "height": 279
        },
        "id": "03DEtYHc-yWi",
        "outputId": "120708f2-d3d6-473c-8985-8c8c1f64dbcf"
      },
      "execution_count": 44,
      "outputs": [
        {
          "output_type": "display_data",
          "data": {
            "text/plain": [
              "<Figure size 432x288 with 1 Axes>"
            ],
            "image/png": "[encoded data removed]"
          },
          "metadata": {
            "needs_background": "light"
          }
        }
      ]
    },
    {
      "cell_type": "markdown",
      "source": [
        "Let’s now compare this against setting a threshold, so we can potentially predict more than one label per example."
      ],
      "metadata": {
        "id": "s-lu7jDA81R7"
      }
    },
    {
      "cell_type": "code",
      "source": [
        "macros, micros = [], []\n",
        "thresholds = np.linspace(0.01, 1, 100)\n",
        "\n",
        "for threshold in thresholds:\n",
        "  ds_zero_shot = ds_zero_shot.map(get_preds, batched=False, fn_kwargs={\"threshold\": threshold})\n",
        "  clf_report = get_clf_report(ds_zero_shot)\n",
        "  micros.append(clf_report[\"micro avg\"][\"f1-score\"])\n",
        "  macros.append(clf_report[\"macro avg\"][\"f1-score\"])"
      ],
      "metadata": {
        "id": "9UrjFKwV84aT"
      },
      "execution_count": null,
      "outputs": []
    },
    {
      "cell_type": "code",
      "source": [
        "plt.plot(thresholds, micros, label='Micro F1')\n",
        "plt.plot(thresholds, macros, label='Macro F1')\n",
        "plt.xlabel(\"Threshold\")\n",
        "plt.ylabel(\"F1-score\")\n",
        "plt.legend(loc='best')\n",
        "plt.show()"
      ],
      "metadata": {
        "id": "h3dRf2A1-qvm",
        "outputId": "63e3c6e2-9ddf-41b5-dd00-5d5902a18101",
        "colab": {
          "base_uri": "https://localhost:8080/",
          "height": 279
        }
      },
      "execution_count": 46,
      "outputs": [
        {
          "output_type": "display_data",
          "data": {
            "text/plain": [
              "<Figure size 432x288 with 1 Axes>"
            ],
            "image/png": "[encoded data removed]"
          },
          "metadata": {
            "needs_background": "light"
          }
        }
      ]
    },
    {
      "cell_type": "code",
      "source": [
        "best_t, best_micro = thresholds[np.argmax(micros)], np.max(micros)\n",
        "print(f\"Best threshold (micro): {best_t} with F1-score {best_micro:.2f}.\")\n",
        "\n",
        "best_t, best_macro = thresholds[np.argmax(macros)], np.max(macros)\n",
        "print(f\"Best threshold (macro): {best_t} with F1-score {best_macro:.2f}.\")"
      ],
      "metadata": {
        "id": "tG7mg7GG__7D",
        "outputId": "e1284507-c52f-4506-a94d-520ef511113c",
        "colab": {
          "base_uri": "https://localhost:8080/"
        }
      },
      "execution_count": 47,
      "outputs": [
        {
          "output_type": "stream",
          "name": "stdout",
          "text": [
            "Best threshold (micro): 0.75 with F1-score 0.46.\n",
            "Best threshold (macro): 0.72 with F1-score 0.42.\n"
          ]
        }
      ]
    },
    {
      "cell_type": "markdown",
      "source": [
        "Since the top-1 method performs best, let’s use this to compare zero-shot classification\n",
        "against Naive Bayes on the test set."
      ],
      "metadata": {
        "id": "fARaghMqA1yW"
      }
    },
    {
      "cell_type": "code",
      "source": [
        "ds_zero_shot = ds[\"test\"].map(zero_shot_pipeline)\n",
        "ds_zero_shot = ds_zero_shot.map(get_preds, fn_kwargs={\"topk\": 1})\n",
        "clf_report = get_clf_report(ds_zero_shot)\n",
        "\n",
        "for train_slice in train_slices:\n",
        "  macro_scores[\"Zero Shot\"].append(clf_report['macro avg']['f1-score'])\n",
        "  micro_scores[\"Zero Shot\"].append(clf_report['micro avg']['f1-score'])"
      ],
      "metadata": {
        "id": "ueHdDQT1A2vT"
      },
      "execution_count": null,
      "outputs": []
    },
    {
      "cell_type": "code",
      "source": [
        "plot_metrics(micro_scores, macro_scores, train_samples, \"Zero Shot\")"
      ],
      "metadata": {
        "id": "N6qX8PLjC1-W",
        "outputId": "18d51d87-60af-445d-8090-8e21a07bc566",
        "colab": {
          "base_uri": "https://localhost:8080/",
          "height": 297
        }
      },
      "execution_count": 49,
      "outputs": [
        {
          "output_type": "display_data",
          "data": {
            "text/plain": [
              "<Figure size 720x288 with 2 Axes>"
            ],
            "image/png": "[encoded data removed]"
          },
          "metadata": {
            "needs_background": "light"
          }
        }
      ]
    },
    {
      "cell_type": "markdown",
      "source": [
        "Comparing the zero-shot pipeline to the baseline, we observe two things:\n",
        "\n",
        "1. If we have less than 50 labeled samples, the zero-shot pipeline handily outperforms the baseline.\n",
        "\n",
        "2. Even above 50 samples, the performance of the zero-shot pipeline is superior\n",
        "when considering both the micro and macro F1-scores. The results for the micro\n",
        "F1-score tell us that the baseline performs well on the frequent classes, while the zero-shot pipeline excels at those since it does not require any examples to learn from."
      ],
      "metadata": {
        "id": "TtZpdt8ODVfj"
      }
    },
    {
      "cell_type": "markdown",
      "source": [
        "##Working with a Few Labels"
      ],
      "metadata": {
        "id": "vWsOAtWCpoEy"
      }
    },
    {
      "cell_type": "markdown",
      "source": [
        "In most NLP projects, you’ll have access to at least a few labeled examples. The labels\n",
        "might come directly from a client or cross-company team, or you might decide to just\n",
        "sit down and annotate a few examples yourself.\n",
        "\n",
        "Let’s start by looking at a technique known as data augmentation\n",
        "that can help us multiply the little labeled data that we have."
      ],
      "metadata": {
        "id": "YX87tWqypqG2"
      }
    },
    {
      "cell_type": "markdown",
      "source": [
        "###Data Augmentation"
      ],
      "metadata": {
        "id": "ugnhStVfpvc8"
      }
    },
    {
      "cell_type": "markdown",
      "source": [
        "One simple but effective way to boost the performance of text classifiers on small\n",
        "datasets is to apply data augmentation techniques to generate new training examples\n",
        "from the existing ones.\n",
        "\n",
        "For text, data augmentation is somewhat trickier because perturbing\n",
        "the words or characters can completely change the meaning.\n",
        "\n",
        "However, if the text\n",
        "consists of more than a few sentences (like our GitHub issues do), then the noise\n",
        "introduced by these types of transformations will generally not affect the label. \n",
        "\n",
        "In practice, there are two types of data augmentation techniques that are commonly used:\n",
        "\n",
        "* Back translation\n",
        "* Token perturbations\n",
        "\n",
        "Let's see examples of these transformations."
      ],
      "metadata": {
        "id": "_Nq3Zoj6pxX4"
      }
    },
    {
      "cell_type": "code",
      "source": [
        "set_seed(3)\n",
        "\n",
        "text = \"Even if you defeat me Megatron, others will rise to defeat your tyranny\"\n",
        "augs = {}\n",
        "\n",
        "augs[\"synonym_replace\"] = naw.SynonymAug(aug_src=\"wordnet\")\n",
        "augs[\"random_insert\"] = naw.ContextualWordEmbsAug(model_path=\"distilbert-base-uncased\", device=\"cpu\", action=\"insert\", aug_max=1)\n",
        "augs[\"random_swap\"] = naw.RandomWordAug(action=\"swap\")\n",
        "augs[\"random_delete\"] = naw.RandomWordAug()\n",
        "augs[\"bt_en_de\"] = naw.BackTranslationAug(from_model_name=\"facebook/wmt19-en-de\", to_model_name=\"facebook/wmt19-de-en\")"
      ],
      "metadata": {
        "id": "x-Q8t1r0qLVJ"
      },
      "execution_count": null,
      "outputs": []
    },
    {
      "cell_type": "code",
      "source": [
        "for k, v in augs.items():\n",
        "  print(f\"Original text: {text}\")\n",
        "  print(f\"{k}: {v.augment(text)}\")\n",
        "  print(\"\")"
      ],
      "metadata": {
        "colab": {
          "base_uri": "https://localhost:8080/"
        },
        "id": "GYrxkP_Ku2Sy",
        "outputId": "74770d18-525d-4d9a-a8a3-0eb70e5d629d"
      },
      "execution_count": 56,
      "outputs": [
        {
          "output_type": "stream",
          "name": "stdout",
          "text": [
            "Original text: Even if you defeat me Megatron, others will rise to defeat your tyranny\n",
            "synonym_replace: ['Even if you vote down me Megatron, others will turn out to defeat your tyranny']\n",
            "\n",
            "Original text: Even if you defeat me Megatron, others will rise to defeat your tyranny\n",
            "random_insert: ['even if you defeat me megatron, others will rise to slowly defeat your tyranny']\n",
            "\n",
            "Original text: Even if you defeat me Megatron, others will rise to defeat your tyranny\n",
            "random_swap: ['Even if you defeat Megatron me, others to will rise defeat your tyranny']\n",
            "\n",
            "Original text: Even if you defeat me Megatron, others will rise to defeat your tyranny\n",
            "random_delete: ['Even if me Megatron, will rise to tyranny']\n",
            "\n",
            "Original text: Even if you defeat me Megatron, others will rise to defeat your tyranny\n",
            "bt_en_de: ['Even if you defeat me, others will rise up to defeat your tyranny']\n",
            "\n"
          ]
        }
      ]
    },
    {
      "cell_type": "markdown",
      "source": [
        "We’ll use the `ContextualWordEmbsAug` augmenter from `NlpAug` to leverage the contextual word embeddings of `DistilBERT` for our synonym replacements. \n",
        "\n",
        "Let’s start with a simple example:"
      ],
      "metadata": {
        "id": "6y7UNl7YuKFE"
      }
    },
    {
      "cell_type": "code",
      "source": [
        "set_seed(3)\n",
        "\n",
        "aug = naw.ContextualWordEmbsAug(model_path=\"distilbert-base-uncased\", device=\"cpu\", action=\"substitute\")"
      ],
      "metadata": {
        "id": "wb3WvP2_uP0w"
      },
      "execution_count": 57,
      "outputs": []
    },
    {
      "cell_type": "code",
      "source": [
        "text = \"Transformers are the most popular toys\"\n",
        "\n",
        "print(f\"Original text: {text}\")\n",
        "print(f\"Augmented text: {aug.augment(text)}\")"
      ],
      "metadata": {
        "colab": {
          "base_uri": "https://localhost:8080/"
        },
        "id": "T9kfrtr5ufyO",
        "outputId": "83c168fa-b76e-4b6c-c677-2ec753e90a6c"
      },
      "execution_count": 58,
      "outputs": [
        {
          "output_type": "stream",
          "name": "stdout",
          "text": [
            "Original text: Transformers are the most popular toys\n",
            "Augmented text: ['transformers have the most available toys']\n"
          ]
        }
      ]
    },
    {
      "cell_type": "markdown",
      "source": [
        "We can wrap this augmentation in a simple function."
      ],
      "metadata": {
        "id": "7j0Xg7hKvLLn"
      }
    },
    {
      "cell_type": "code",
      "source": [
        "def augment_text(batch, transformations_per_example=1):\n",
        "  text_aug, label_ids = [], []\n",
        "  for text, labels in zip(batch[\"text\"], batch[\"label_ids\"]):\n",
        "    text_aug += [text]\n",
        "    label_ids += [labels] \n",
        "    for _ in range(transformations_per_example):\n",
        "      text_aug += [aug.augment(text)]\n",
        "      label_ids += [labels]\n",
        "  return {\"text\": text_aug, \"label_ids\": label_ids}"
      ],
      "metadata": {
        "id": "mtScUs8RvL94"
      },
      "execution_count": 59,
      "outputs": []
    },
    {
      "cell_type": "markdown",
      "source": [
        "Let's train the Naive Bayes classifier by simply adding one line after\n",
        "we select the slice."
      ],
      "metadata": {
        "id": "2nbeapVpwUhA"
      }
    },
    {
      "cell_type": "code",
      "source": [
        "for train_slice in train_slices:\n",
        "  # Get training slice and test data\n",
        "  ds_train_sample = ds[\"train\"].select(train_slice)\n",
        "\n",
        "  # Flatten augmentations and align labels!\n",
        "  ds_train_aug = (ds_train_sample.map(augment_text, batched=True, remove_columns=ds_train_sample.column_names).shuffle(seed=42))\n",
        "\n",
        "  y_train = np.array(ds_train_aug[\"label_ids\"])\n",
        "  y_test = np.array(ds[\"test\"][\"label_ids\"])\n",
        "\n",
        "  # Use a simple count vectorizer to encode our texts as token counts\n",
        "  count_vec = CountVectorizer()\n",
        "  x_train_counts = count_vec.fit_transform(ds_train_aug[\"text\"])\n",
        "  x_test_counts = count_vec.transform(ds[\"test\"][\"text\"])\n",
        "\n",
        "  # Create and train our model!\n",
        "  classifier = BinaryRelevance(classifier=MultinomialNB())\n",
        "  classifier.fit(x_train_counts, y_train)\n",
        "\n",
        "  # Generate predictions and evaluate\n",
        "  y_pred_test = classifier.predict(x_test_counts)\n",
        "  clf_report = classification_report(y_test, y_pred_test, target_names=mlb.classes_, zero_division=0, output_dict=True)\n",
        "\n",
        "  # Store metrics\n",
        "  macro_scores[\"Naive Bayes + Aug\"].append(clf_report[\"macro avg\"][\"f1-score\"])\n",
        "  micro_scores[\"Naive Bayes + Aug\"].append(clf_report[\"micro avg\"][\"f1-score\"])"
      ],
      "metadata": {
        "colab": {
          "base_uri": "https://localhost:8080/",
          "height": 378,
          "referenced_widgets": [
            "8c5a139cecfc44e2ac0ad6e6a2227f10",
            "53742bb4b4d84511b7be295d9717d13f",
            "2400be96912e4802a921ffd9e0c6ea0b",
            "14264a65a9e54e5dbead0a97d0db2eb9",
            "c312dbd820314d29869c1308adb0c899",
            "10521e538fce4182a0006ad91b2466e8",
            "ec1bd48e23804cf9871c064058f5d2a4",
            "e2dbdf567b7e4029957e4b6a314d9095",
            "fe780c2394ff46f58c4d1459cd2614fd",
            "0c469ff70c074435bbf273c0455e8b46",
            "a46d8340c3c24fa9bbc089882b4300ba"
          ]
        },
        "id": "wlq_1qsCwV7G",
        "outputId": "238dd2d0-cdad-4b6d-8da8-7411a5a24f13"
      },
      "execution_count": 63,
      "outputs": [
        {
          "output_type": "display_data",
          "data": {
            "text/plain": [
              "  0%|          | 0/1 [00:00<?, ?ba/s]"
            ],
            "application/vnd.jupyter.widget-view+json": {
              "version_major": 2,
              "version_minor": 0,
              "model_id": "8c5a139cecfc44e2ac0ad6e6a2227f10"
            }
          },
          "metadata": {}
        },
        {
          "output_type": "error",
          "ename": "ArrowTypeError",
          "evalue": "ignored",
          "traceback": [
            "\u001b[0;31m---------------------------------------------------------------------------\u001b[0m",
            "\u001b[0;31mArrowTypeError\u001b[0m                            Traceback (most recent call last)",
            "\u001b[0;32m/usr/local/lib/python3.7/dist-packages/datasets/arrow_writer.py\u001b[0m in \u001b[0;36m__arrow_array__\u001b[0;34m(self, type)\u001b[0m\n\u001b[1;32m    182\u001b[0m                 \u001b[0mtrying_cast_to_python_objects\u001b[0m \u001b[0;34m=\u001b[0m \u001b[0;32mTrue\u001b[0m\u001b[0;34m\u001b[0m\u001b[0;34m\u001b[0m\u001b[0m\n\u001b[0;32m--> 183\u001b[0;31m                 \u001b[0mout\u001b[0m \u001b[0;34m=\u001b[0m \u001b[0mpa\u001b[0m\u001b[0;34m.\u001b[0m\u001b[0marray\u001b[0m\u001b[0;34m(\u001b[0m\u001b[0mcast_to_python_objects\u001b[0m\u001b[0;34m(\u001b[0m\u001b[0mdata\u001b[0m\u001b[0;34m,\u001b[0m \u001b[0monly_1d_for_numpy\u001b[0m\u001b[0;34m=\u001b[0m\u001b[0;32mTrue\u001b[0m\u001b[0;34m)\u001b[0m\u001b[0;34m)\u001b[0m\u001b[0;34m\u001b[0m\u001b[0;34m\u001b[0m\u001b[0m\n\u001b[0m\u001b[1;32m    184\u001b[0m             \u001b[0;31m# use smaller integer precisions if possible\u001b[0m\u001b[0;34m\u001b[0m\u001b[0;34m\u001b[0m\u001b[0;34m\u001b[0m\u001b[0m\n",
            "\u001b[0;32m/usr/local/lib/python3.7/dist-packages/pyarrow/array.pxi\u001b[0m in \u001b[0;36mpyarrow.lib.array\u001b[0;34m()\u001b[0m\n",
            "\u001b[0;32m/usr/local/lib/python3.7/dist-packages/pyarrow/array.pxi\u001b[0m in \u001b[0;36mpyarrow.lib._sequence_to_array\u001b[0;34m()\u001b[0m\n",
            "\u001b[0;32m/usr/local/lib/python3.7/dist-packages/pyarrow/error.pxi\u001b[0m in \u001b[0;36mpyarrow.lib.pyarrow_internal_check_status\u001b[0;34m()\u001b[0m\n",
            "\u001b[0;32m/usr/local/lib/python3.7/dist-packages/pyarrow/error.pxi\u001b[0m in \u001b[0;36mpyarrow.lib.check_status\u001b[0;34m()\u001b[0m\n",
            "\u001b[0;31mArrowTypeError\u001b[0m: Expected bytes, got a 'list' object",
            "\nDuring handling of the above exception, another exception occurred:\n",
            "\u001b[0;31mArrowTypeError\u001b[0m                            Traceback (most recent call last)",
            "\u001b[0;32m<ipython-input-63-567582b37b98>\u001b[0m in \u001b[0;36m<module>\u001b[0;34m()\u001b[0m\n\u001b[1;32m      4\u001b[0m \u001b[0;34m\u001b[0m\u001b[0m\n\u001b[1;32m      5\u001b[0m   \u001b[0;31m# Flatten augmentations and align labels!\u001b[0m\u001b[0;34m\u001b[0m\u001b[0;34m\u001b[0m\u001b[0;34m\u001b[0m\u001b[0m\n\u001b[0;32m----> 6\u001b[0;31m   \u001b[0mds_train_aug\u001b[0m \u001b[0;34m=\u001b[0m \u001b[0;34m(\u001b[0m\u001b[0mds_train_sample\u001b[0m\u001b[0;34m.\u001b[0m\u001b[0mmap\u001b[0m\u001b[0;34m(\u001b[0m\u001b[0maugment_text\u001b[0m\u001b[0;34m,\u001b[0m \u001b[0mbatched\u001b[0m\u001b[0;34m=\u001b[0m\u001b[0;32mTrue\u001b[0m\u001b[0;34m,\u001b[0m \u001b[0mremove_columns\u001b[0m\u001b[0;34m=\u001b[0m\u001b[0mds_train_sample\u001b[0m\u001b[0;34m.\u001b[0m\u001b[0mcolumn_names\u001b[0m\u001b[0;34m)\u001b[0m\u001b[0;34m.\u001b[0m\u001b[0mshuffle\u001b[0m\u001b[0;34m(\u001b[0m\u001b[0mseed\u001b[0m\u001b[0;34m=\u001b[0m\u001b[0;36m42\u001b[0m\u001b[0;34m)\u001b[0m\u001b[0;34m)\u001b[0m\u001b[0;34m\u001b[0m\u001b[0;34m\u001b[0m\u001b[0m\n\u001b[0m\u001b[1;32m      7\u001b[0m \u001b[0;34m\u001b[0m\u001b[0m\n\u001b[1;32m      8\u001b[0m   \u001b[0my_train\u001b[0m \u001b[0;34m=\u001b[0m \u001b[0mnp\u001b[0m\u001b[0;34m.\u001b[0m\u001b[0marray\u001b[0m\u001b[0;34m(\u001b[0m\u001b[0mds_train_aug\u001b[0m\u001b[0;34m[\u001b[0m\u001b[0;34m\"label_ids\"\u001b[0m\u001b[0;34m]\u001b[0m\u001b[0;34m)\u001b[0m\u001b[0;34m\u001b[0m\u001b[0;34m\u001b[0m\u001b[0m\n",
            "\u001b[0;32m/usr/local/lib/python3.7/dist-packages/datasets/arrow_dataset.py\u001b[0m in \u001b[0;36mmap\u001b[0;34m(self, function, with_indices, with_rank, input_columns, batched, batch_size, drop_last_batch, remove_columns, keep_in_memory, load_from_cache_file, cache_file_name, writer_batch_size, features, disable_nullable, fn_kwargs, num_proc, suffix_template, new_fingerprint, desc)\u001b[0m\n\u001b[1;32m   2392\u001b[0m                 \u001b[0mnew_fingerprint\u001b[0m\u001b[0;34m=\u001b[0m\u001b[0mnew_fingerprint\u001b[0m\u001b[0;34m,\u001b[0m\u001b[0;34m\u001b[0m\u001b[0;34m\u001b[0m\u001b[0m\n\u001b[1;32m   2393\u001b[0m                 \u001b[0mdisable_tqdm\u001b[0m\u001b[0;34m=\u001b[0m\u001b[0mdisable_tqdm\u001b[0m\u001b[0;34m,\u001b[0m\u001b[0;34m\u001b[0m\u001b[0;34m\u001b[0m\u001b[0m\n\u001b[0;32m-> 2394\u001b[0;31m                 \u001b[0mdesc\u001b[0m\u001b[0;34m=\u001b[0m\u001b[0mdesc\u001b[0m\u001b[0;34m,\u001b[0m\u001b[0;34m\u001b[0m\u001b[0;34m\u001b[0m\u001b[0m\n\u001b[0m\u001b[1;32m   2395\u001b[0m             )\n\u001b[1;32m   2396\u001b[0m         \u001b[0;32melse\u001b[0m\u001b[0;34m:\u001b[0m\u001b[0;34m\u001b[0m\u001b[0;34m\u001b[0m\u001b[0m\n",
            "\u001b[0;32m/usr/local/lib/python3.7/dist-packages/datasets/arrow_dataset.py\u001b[0m in \u001b[0;36mwrapper\u001b[0;34m(*args, **kwargs)\u001b[0m\n\u001b[1;32m    549\u001b[0m             \u001b[0mself\u001b[0m\u001b[0;34m:\u001b[0m \u001b[0;34m\"Dataset\"\u001b[0m \u001b[0;34m=\u001b[0m \u001b[0mkwargs\u001b[0m\u001b[0;34m.\u001b[0m\u001b[0mpop\u001b[0m\u001b[0;34m(\u001b[0m\u001b[0;34m\"self\"\u001b[0m\u001b[0;34m)\u001b[0m\u001b[0;34m\u001b[0m\u001b[0;34m\u001b[0m\u001b[0m\n\u001b[1;32m    550\u001b[0m         \u001b[0;31m# apply actual function\u001b[0m\u001b[0;34m\u001b[0m\u001b[0;34m\u001b[0m\u001b[0;34m\u001b[0m\u001b[0m\n\u001b[0;32m--> 551\u001b[0;31m         \u001b[0mout\u001b[0m\u001b[0;34m:\u001b[0m \u001b[0mUnion\u001b[0m\u001b[0;34m[\u001b[0m\u001b[0;34m\"Dataset\"\u001b[0m\u001b[0;34m,\u001b[0m \u001b[0;34m\"DatasetDict\"\u001b[0m\u001b[0;34m]\u001b[0m \u001b[0;34m=\u001b[0m \u001b[0mfunc\u001b[0m\u001b[0;34m(\u001b[0m\u001b[0mself\u001b[0m\u001b[0;34m,\u001b[0m \u001b[0;34m*\u001b[0m\u001b[0margs\u001b[0m\u001b[0;34m,\u001b[0m \u001b[0;34m**\u001b[0m\u001b[0mkwargs\u001b[0m\u001b[0;34m)\u001b[0m\u001b[0;34m\u001b[0m\u001b[0;34m\u001b[0m\u001b[0m\n\u001b[0m\u001b[1;32m    552\u001b[0m         \u001b[0mdatasets\u001b[0m\u001b[0;34m:\u001b[0m \u001b[0mList\u001b[0m\u001b[0;34m[\u001b[0m\u001b[0;34m\"Dataset\"\u001b[0m\u001b[0;34m]\u001b[0m \u001b[0;34m=\u001b[0m \u001b[0mlist\u001b[0m\u001b[0;34m(\u001b[0m\u001b[0mout\u001b[0m\u001b[0;34m.\u001b[0m\u001b[0mvalues\u001b[0m\u001b[0;34m(\u001b[0m\u001b[0;34m)\u001b[0m\u001b[0;34m)\u001b[0m \u001b[0;32mif\u001b[0m \u001b[0misinstance\u001b[0m\u001b[0;34m(\u001b[0m\u001b[0mout\u001b[0m\u001b[0;34m,\u001b[0m \u001b[0mdict\u001b[0m\u001b[0;34m)\u001b[0m \u001b[0;32melse\u001b[0m \u001b[0;34m[\u001b[0m\u001b[0mout\u001b[0m\u001b[0;34m]\u001b[0m\u001b[0;34m\u001b[0m\u001b[0;34m\u001b[0m\u001b[0m\n\u001b[1;32m    553\u001b[0m         \u001b[0;32mfor\u001b[0m \u001b[0mdataset\u001b[0m \u001b[0;32min\u001b[0m \u001b[0mdatasets\u001b[0m\u001b[0;34m:\u001b[0m\u001b[0;34m\u001b[0m\u001b[0;34m\u001b[0m\u001b[0m\n",
            "\u001b[0;32m/usr/local/lib/python3.7/dist-packages/datasets/arrow_dataset.py\u001b[0m in \u001b[0;36mwrapper\u001b[0;34m(*args, **kwargs)\u001b[0m\n\u001b[1;32m    516\u001b[0m         }\n\u001b[1;32m    517\u001b[0m         \u001b[0;31m# apply actual function\u001b[0m\u001b[0;34m\u001b[0m\u001b[0;34m\u001b[0m\u001b[0;34m\u001b[0m\u001b[0m\n\u001b[0;32m--> 518\u001b[0;31m         \u001b[0mout\u001b[0m\u001b[0;34m:\u001b[0m \u001b[0mUnion\u001b[0m\u001b[0;34m[\u001b[0m\u001b[0;34m\"Dataset\"\u001b[0m\u001b[0;34m,\u001b[0m \u001b[0;34m\"DatasetDict\"\u001b[0m\u001b[0;34m]\u001b[0m \u001b[0;34m=\u001b[0m \u001b[0mfunc\u001b[0m\u001b[0;34m(\u001b[0m\u001b[0mself\u001b[0m\u001b[0;34m,\u001b[0m \u001b[0;34m*\u001b[0m\u001b[0margs\u001b[0m\u001b[0;34m,\u001b[0m \u001b[0;34m**\u001b[0m\u001b[0mkwargs\u001b[0m\u001b[0;34m)\u001b[0m\u001b[0;34m\u001b[0m\u001b[0;34m\u001b[0m\u001b[0m\n\u001b[0m\u001b[1;32m    519\u001b[0m         \u001b[0mdatasets\u001b[0m\u001b[0;34m:\u001b[0m \u001b[0mList\u001b[0m\u001b[0;34m[\u001b[0m\u001b[0;34m\"Dataset\"\u001b[0m\u001b[0;34m]\u001b[0m \u001b[0;34m=\u001b[0m \u001b[0mlist\u001b[0m\u001b[0;34m(\u001b[0m\u001b[0mout\u001b[0m\u001b[0;34m.\u001b[0m\u001b[0mvalues\u001b[0m\u001b[0;34m(\u001b[0m\u001b[0;34m)\u001b[0m\u001b[0;34m)\u001b[0m \u001b[0;32mif\u001b[0m \u001b[0misinstance\u001b[0m\u001b[0;34m(\u001b[0m\u001b[0mout\u001b[0m\u001b[0;34m,\u001b[0m \u001b[0mdict\u001b[0m\u001b[0;34m)\u001b[0m \u001b[0;32melse\u001b[0m \u001b[0;34m[\u001b[0m\u001b[0mout\u001b[0m\u001b[0;34m]\u001b[0m\u001b[0;34m\u001b[0m\u001b[0;34m\u001b[0m\u001b[0m\n\u001b[1;32m    520\u001b[0m         \u001b[0;31m# re-apply format to the output\u001b[0m\u001b[0;34m\u001b[0m\u001b[0;34m\u001b[0m\u001b[0;34m\u001b[0m\u001b[0m\n",
            "\u001b[0;32m/usr/local/lib/python3.7/dist-packages/datasets/fingerprint.py\u001b[0m in \u001b[0;36mwrapper\u001b[0;34m(*args, **kwargs)\u001b[0m\n\u001b[1;32m    456\u001b[0m             \u001b[0;31m# Call actual function\u001b[0m\u001b[0;34m\u001b[0m\u001b[0;34m\u001b[0m\u001b[0;34m\u001b[0m\u001b[0m\n\u001b[1;32m    457\u001b[0m \u001b[0;34m\u001b[0m\u001b[0m\n\u001b[0;32m--> 458\u001b[0;31m             \u001b[0mout\u001b[0m \u001b[0;34m=\u001b[0m \u001b[0mfunc\u001b[0m\u001b[0;34m(\u001b[0m\u001b[0mself\u001b[0m\u001b[0;34m,\u001b[0m \u001b[0;34m*\u001b[0m\u001b[0margs\u001b[0m\u001b[0;34m,\u001b[0m \u001b[0;34m**\u001b[0m\u001b[0mkwargs\u001b[0m\u001b[0;34m)\u001b[0m\u001b[0;34m\u001b[0m\u001b[0;34m\u001b[0m\u001b[0m\n\u001b[0m\u001b[1;32m    459\u001b[0m \u001b[0;34m\u001b[0m\u001b[0m\n\u001b[1;32m    460\u001b[0m             \u001b[0;31m# Update fingerprint of in-place transforms + update in-place history of transforms\u001b[0m\u001b[0;34m\u001b[0m\u001b[0;34m\u001b[0m\u001b[0;34m\u001b[0m\u001b[0m\n",
            "\u001b[0;32m/usr/local/lib/python3.7/dist-packages/datasets/arrow_dataset.py\u001b[0m in \u001b[0;36m_map_single\u001b[0;34m(self, function, with_indices, with_rank, input_columns, batched, batch_size, drop_last_batch, remove_columns, keep_in_memory, load_from_cache_file, cache_file_name, writer_batch_size, features, disable_nullable, fn_kwargs, new_fingerprint, rank, offset, disable_tqdm, desc, cache_only)\u001b[0m\n\u001b[1;32m   2779\u001b[0m                                 \u001b[0mwriter\u001b[0m\u001b[0;34m.\u001b[0m\u001b[0mwrite_table\u001b[0m\u001b[0;34m(\u001b[0m\u001b[0mbatch\u001b[0m\u001b[0;34m)\u001b[0m\u001b[0;34m\u001b[0m\u001b[0;34m\u001b[0m\u001b[0m\n\u001b[1;32m   2780\u001b[0m                             \u001b[0;32melse\u001b[0m\u001b[0;34m:\u001b[0m\u001b[0;34m\u001b[0m\u001b[0;34m\u001b[0m\u001b[0m\n\u001b[0;32m-> 2781\u001b[0;31m                                 \u001b[0mwriter\u001b[0m\u001b[0;34m.\u001b[0m\u001b[0mwrite_batch\u001b[0m\u001b[0;34m(\u001b[0m\u001b[0mbatch\u001b[0m\u001b[0;34m)\u001b[0m\u001b[0;34m\u001b[0m\u001b[0;34m\u001b[0m\u001b[0m\n\u001b[0m\u001b[1;32m   2782\u001b[0m                 \u001b[0;32mif\u001b[0m \u001b[0mupdate_data\u001b[0m \u001b[0;32mand\u001b[0m \u001b[0mwriter\u001b[0m \u001b[0;32mis\u001b[0m \u001b[0;32mnot\u001b[0m \u001b[0;32mNone\u001b[0m\u001b[0;34m:\u001b[0m\u001b[0;34m\u001b[0m\u001b[0;34m\u001b[0m\u001b[0m\n\u001b[1;32m   2783\u001b[0m                     \u001b[0mwriter\u001b[0m\u001b[0;34m.\u001b[0m\u001b[0mfinalize\u001b[0m\u001b[0;34m(\u001b[0m\u001b[0;34m)\u001b[0m  \u001b[0;31m# close_stream=bool(buf_writer is None))  # We only close if we are writing in a file\u001b[0m\u001b[0;34m\u001b[0m\u001b[0;34m\u001b[0m\u001b[0m\n",
            "\u001b[0;32m/usr/local/lib/python3.7/dist-packages/datasets/arrow_writer.py\u001b[0m in \u001b[0;36mwrite_batch\u001b[0;34m(self, batch_examples, writer_batch_size)\u001b[0m\n\u001b[1;32m    501\u001b[0m             \u001b[0mcol_try_type\u001b[0m \u001b[0;34m=\u001b[0m \u001b[0mtry_features\u001b[0m\u001b[0;34m[\u001b[0m\u001b[0mcol\u001b[0m\u001b[0;34m]\u001b[0m \u001b[0;32mif\u001b[0m \u001b[0mtry_features\u001b[0m \u001b[0;32mis\u001b[0m \u001b[0;32mnot\u001b[0m \u001b[0;32mNone\u001b[0m \u001b[0;32mand\u001b[0m \u001b[0mcol\u001b[0m \u001b[0;32min\u001b[0m \u001b[0mtry_features\u001b[0m \u001b[0;32melse\u001b[0m \u001b[0;32mNone\u001b[0m\u001b[0;34m\u001b[0m\u001b[0;34m\u001b[0m\u001b[0m\n\u001b[1;32m    502\u001b[0m             \u001b[0mtyped_sequence\u001b[0m \u001b[0;34m=\u001b[0m \u001b[0mOptimizedTypedSequence\u001b[0m\u001b[0;34m(\u001b[0m\u001b[0mbatch_examples\u001b[0m\u001b[0;34m[\u001b[0m\u001b[0mcol\u001b[0m\u001b[0;34m]\u001b[0m\u001b[0;34m,\u001b[0m \u001b[0mtype\u001b[0m\u001b[0;34m=\u001b[0m\u001b[0mcol_type\u001b[0m\u001b[0;34m,\u001b[0m \u001b[0mtry_type\u001b[0m\u001b[0;34m=\u001b[0m\u001b[0mcol_try_type\u001b[0m\u001b[0;34m,\u001b[0m \u001b[0mcol\u001b[0m\u001b[0;34m=\u001b[0m\u001b[0mcol\u001b[0m\u001b[0;34m)\u001b[0m\u001b[0;34m\u001b[0m\u001b[0;34m\u001b[0m\u001b[0m\n\u001b[0;32m--> 503\u001b[0;31m             \u001b[0marrays\u001b[0m\u001b[0;34m.\u001b[0m\u001b[0mappend\u001b[0m\u001b[0;34m(\u001b[0m\u001b[0mpa\u001b[0m\u001b[0;34m.\u001b[0m\u001b[0marray\u001b[0m\u001b[0;34m(\u001b[0m\u001b[0mtyped_sequence\u001b[0m\u001b[0;34m)\u001b[0m\u001b[0;34m)\u001b[0m\u001b[0;34m\u001b[0m\u001b[0;34m\u001b[0m\u001b[0m\n\u001b[0m\u001b[1;32m    504\u001b[0m             \u001b[0minferred_features\u001b[0m\u001b[0;34m[\u001b[0m\u001b[0mcol\u001b[0m\u001b[0;34m]\u001b[0m \u001b[0;34m=\u001b[0m \u001b[0mtyped_sequence\u001b[0m\u001b[0;34m.\u001b[0m\u001b[0mget_inferred_type\u001b[0m\u001b[0;34m(\u001b[0m\u001b[0;34m)\u001b[0m\u001b[0;34m\u001b[0m\u001b[0;34m\u001b[0m\u001b[0m\n\u001b[1;32m    505\u001b[0m         \u001b[0mschema\u001b[0m \u001b[0;34m=\u001b[0m \u001b[0minferred_features\u001b[0m\u001b[0;34m.\u001b[0m\u001b[0marrow_schema\u001b[0m \u001b[0;32mif\u001b[0m \u001b[0mself\u001b[0m\u001b[0;34m.\u001b[0m\u001b[0mpa_writer\u001b[0m \u001b[0;32mis\u001b[0m \u001b[0;32mNone\u001b[0m \u001b[0;32melse\u001b[0m \u001b[0mself\u001b[0m\u001b[0;34m.\u001b[0m\u001b[0mschema\u001b[0m\u001b[0;34m\u001b[0m\u001b[0;34m\u001b[0m\u001b[0m\n",
            "\u001b[0;32m/usr/local/lib/python3.7/dist-packages/pyarrow/array.pxi\u001b[0m in \u001b[0;36mpyarrow.lib.array\u001b[0;34m()\u001b[0m\n",
            "\u001b[0;32m/usr/local/lib/python3.7/dist-packages/pyarrow/array.pxi\u001b[0m in \u001b[0;36mpyarrow.lib._handle_arrow_array_protocol\u001b[0;34m()\u001b[0m\n",
            "\u001b[0;32m/usr/local/lib/python3.7/dist-packages/datasets/arrow_writer.py\u001b[0m in \u001b[0;36m__arrow_array__\u001b[0;34m(self, type)\u001b[0m\n\u001b[1;32m    207\u001b[0m                     \u001b[0;32melse\u001b[0m\u001b[0;34m:\u001b[0m\u001b[0;34m\u001b[0m\u001b[0;34m\u001b[0m\u001b[0m\n\u001b[1;32m    208\u001b[0m                         \u001b[0mtrying_cast_to_python_objects\u001b[0m \u001b[0;34m=\u001b[0m \u001b[0;32mTrue\u001b[0m\u001b[0;34m\u001b[0m\u001b[0;34m\u001b[0m\u001b[0m\n\u001b[0;32m--> 209\u001b[0;31m                         \u001b[0;32mreturn\u001b[0m \u001b[0mpa\u001b[0m\u001b[0;34m.\u001b[0m\u001b[0marray\u001b[0m\u001b[0;34m(\u001b[0m\u001b[0mcast_to_python_objects\u001b[0m\u001b[0;34m(\u001b[0m\u001b[0mdata\u001b[0m\u001b[0;34m,\u001b[0m \u001b[0monly_1d_for_numpy\u001b[0m\u001b[0;34m=\u001b[0m\u001b[0;32mTrue\u001b[0m\u001b[0;34m)\u001b[0m\u001b[0;34m)\u001b[0m\u001b[0;34m\u001b[0m\u001b[0;34m\u001b[0m\u001b[0m\n\u001b[0m\u001b[1;32m    210\u001b[0m                 \u001b[0;32mexcept\u001b[0m \u001b[0mpa\u001b[0m\u001b[0;34m.\u001b[0m\u001b[0mlib\u001b[0m\u001b[0;34m.\u001b[0m\u001b[0mArrowInvalid\u001b[0m \u001b[0;32mas\u001b[0m \u001b[0me\u001b[0m\u001b[0;34m:\u001b[0m\u001b[0;34m\u001b[0m\u001b[0;34m\u001b[0m\u001b[0m\n\u001b[1;32m    211\u001b[0m                     \u001b[0;32mif\u001b[0m \u001b[0;34m\"overflow\"\u001b[0m \u001b[0;32min\u001b[0m \u001b[0mstr\u001b[0m\u001b[0;34m(\u001b[0m\u001b[0me\u001b[0m\u001b[0;34m)\u001b[0m\u001b[0;34m:\u001b[0m\u001b[0;34m\u001b[0m\u001b[0;34m\u001b[0m\u001b[0m\n",
            "\u001b[0;32m/usr/local/lib/python3.7/dist-packages/pyarrow/array.pxi\u001b[0m in \u001b[0;36mpyarrow.lib.array\u001b[0;34m()\u001b[0m\n",
            "\u001b[0;32m/usr/local/lib/python3.7/dist-packages/pyarrow/array.pxi\u001b[0m in \u001b[0;36mpyarrow.lib._sequence_to_array\u001b[0;34m()\u001b[0m\n",
            "\u001b[0;32m/usr/local/lib/python3.7/dist-packages/pyarrow/error.pxi\u001b[0m in \u001b[0;36mpyarrow.lib.pyarrow_internal_check_status\u001b[0;34m()\u001b[0m\n",
            "\u001b[0;32m/usr/local/lib/python3.7/dist-packages/pyarrow/error.pxi\u001b[0m in \u001b[0;36mpyarrow.lib.check_status\u001b[0;34m()\u001b[0m\n",
            "\u001b[0;31mArrowTypeError\u001b[0m: Expected bytes, got a 'list' object"
          ]
        }
      ]
    },
    {
      "cell_type": "markdown",
      "source": [
        "After including this, now rerunning the analysis produces the plot."
      ],
      "metadata": {
        "id": "yGMVax7IxPwJ"
      }
    },
    {
      "cell_type": "code",
      "source": [
        "plot_metrics(micro_scores, macro_scores, train_samples, \"Naive Bayes + Aug\")"
      ],
      "metadata": {
        "id": "_EwsyBY0xZNK"
      },
      "execution_count": null,
      "outputs": []
    },
    {
      "cell_type": "markdown",
      "source": [
        "###Using Embeddings as a Lookup Table"
      ],
      "metadata": {
        "id": "whkneMcl1kfE"
      }
    },
    {
      "cell_type": "markdown",
      "source": [
        ""
      ],
      "metadata": {
        "id": "Law73uQP1lyJ"
      }
    }
  ]
}