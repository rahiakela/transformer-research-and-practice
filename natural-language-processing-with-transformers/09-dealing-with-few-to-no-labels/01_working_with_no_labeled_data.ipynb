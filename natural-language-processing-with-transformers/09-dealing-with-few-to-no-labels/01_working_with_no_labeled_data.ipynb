{
  "nbformat": 4,
  "nbformat_minor": 0,
  "metadata": {
    "colab": {
      "name": "01-working-with-no-labeled-data.ipynb",
      "provenance": [],
      "toc_visible": true,
      "authorship_tag": "ABX9TyPjj8V/WmE4JvZlhz9OgN+J",
      "include_colab_link": true
    },
    "kernelspec": {
      "name": "python3",
      "display_name": "Python 3"
    },
    "language_info": {
      "name": "python"
    }
  },
  "cells": [
    {
      "cell_type": "markdown",
      "metadata": {
        "id": "view-in-github",
        "colab_type": "text"
      },
      "source": [
        "<a href=\"https://colab.research.google.com/github/rahiakela/transformers-research-and-practice/blob/main/natural-language-processing-with-transformers/09-dealing-with-few-to-no-labels/01_working_with_no_labeled_data.ipynb\" target=\"_parent\"><img src=\"https://colab.research.google.com/assets/colab-badge.svg\" alt=\"Open In Colab\"/></a>"
      ]
    },
    {
      "cell_type": "markdown",
      "source": [
        "##Working with No Labeled Data"
      ],
      "metadata": {
        "id": "t2xEZpSsot74"
      }
    },
    {
      "cell_type": "markdown",
      "source": [
        "Fortunately, there are several methods that are well suited for dealing with few to no\n",
        "labels! You may already be familiar with some of them, such as zero-shot or few-shot\n",
        "learning, as witnessed by GPT-3’s impressive ability to perform a diverse range of\n",
        "tasks with just a few dozen examples.\n",
        "\n",
        "In general, the best-performing method will depend on the task, the amount of available\n",
        "data, and what fraction of that data is labeled.\n",
        "\n",
        "<img src='https://github.com/rahiakela/transformers-research-and-practice/blob/main/natural-language-processing-with-transformers/09-dealing-with-few-to-no-labels/images/decision-tree.png?raw=1' width='600'/>"
      ],
      "metadata": {
        "id": "eRyFxpXKpyZl"
      }
    },
    {
      "cell_type": "markdown",
      "source": [
        "##Setup"
      ],
      "metadata": {
        "id": "yN8syxejua0D"
      }
    },
    {
      "cell_type": "code",
      "source": [
        "!pip -q install transformers[sentencepiece]\n",
        "!pip -q install datasets\n",
        "!pip install scikit-multilearn"
      ],
      "metadata": {
        "id": "puEruirWucC7"
      },
      "execution_count": null,
      "outputs": []
    },
    {
      "cell_type": "code",
      "source": [
        "from transformers import (AutoTokenizer, AutoModelForSequenceClassification, TextClassificationPipeline)\n",
        "from transformers import TrainingArguments, Trainer\n",
        "from transformers import AutoConfig\n",
        "from datasets import load_dataset, load_metric\n",
        "from datasets import Dataset, DatasetDict\n",
        "\n",
        "import torch\n",
        "import torch.nn as nn\n",
        "import torch.nn.functional as F\n",
        "\n",
        "from sklearn.preprocessing import MultiLabelBinarizer\n",
        "from sklearn.naive_bayes import MultinomialNB\n",
        "from sklearn.metrics import classification_report\n",
        "from skmultilearn.problem_transform import BinaryRelevance\n",
        "from sklearn.feature_extraction.text import CountVectorizer\n",
        "from skmultilearn.model_selection import iterative_train_test_split\n",
        "from sklearn.model_selection import train_test_split\n",
        "\n",
        "\n",
        "from collections import defaultdict\n",
        "from pathlib import Path\n",
        "from time import perf_counter\n",
        "\n",
        "import sys\n",
        "import time\n",
        "import math\n",
        "import requests\n",
        "from pathlib import Path\n",
        "from tqdm.auto import tqdm\n",
        "import numpy as np\n",
        "import pandas as pd\n",
        "import matplotlib.pyplot as plt"
      ],
      "metadata": {
        "id": "pkHIwQyFufI-"
      },
      "execution_count": 2,
      "outputs": []
    },
    {
      "cell_type": "markdown",
      "source": [
        "If you want to download the issues yourself, you can query the Issues endpoint by using the Requests library, which is the standard way for making HTTP requests in Python."
      ],
      "metadata": {
        "id": "_1kmZUOts4vS"
      }
    },
    {
      "cell_type": "code",
      "source": [
        "def fetch_issues(owner=\"huggingface\", repo=\"transformers\", num_issues=10_000, rate_limit=5_000):    \n",
        "  batch = []\n",
        "  all_issues = []\n",
        "  per_page = 100 # Number of issues to return per page\n",
        "  num_pages = math.ceil(num_issues / per_page)\n",
        "  base_url = \"https://api.github.com/repos\"\n",
        "  \n",
        "  for page in tqdm(range(num_pages)):\n",
        "    # Query with state=all to get both open and closed issues\n",
        "    query = f\"issues?page={page}&per_page={per_page}&state=all\"\n",
        "    issues = requests.get(f\"{base_url}/{owner}/{repo}/{query}\")\n",
        "    batch.extend(issues.json())\n",
        "\n",
        "    if len(batch) > rate_limit and len(all_issues) < num_issues:\n",
        "      all_issues.extend(batch)\n",
        "      batch = [] # Flush batch for next time period\n",
        "      print(f\"Reached GitHub rate limit. Sleeping for one hour ...\")\n",
        "      time.sleep(60 * 60 + 1)\n",
        "          \n",
        "  all_issues.extend(batch)\n",
        "  df = pd.DataFrame.from_records(all_issues)\n",
        "  df.to_json(f\"github-issues-{repo}.jsonl\", orient=\"records\", lines=True)"
      ],
      "metadata": {
        "id": "wEtf53SItATG"
      },
      "execution_count": 3,
      "outputs": []
    },
    {
      "cell_type": "markdown",
      "source": [
        "Now when you call `fetch_issues()`, it will download all the issues in batches to avoid exceeding GitHub's limit on the number of requests per hour. The results will be stored in an github-issues-transformers.jsonl file, where each line is a JSON object the represents the issue."
      ],
      "metadata": {
        "id": "kygtJjrnuxXI"
      }
    },
    {
      "cell_type": "code",
      "source": [
        "# fetch_issues()"
      ],
      "metadata": {
        "id": "YOdZFK9yusGp"
      },
      "execution_count": 4,
      "outputs": []
    },
    {
      "cell_type": "markdown",
      "source": [
        "Alternative way."
      ],
      "metadata": {
        "id": "yk_vC65MvYO-"
      }
    },
    {
      "cell_type": "code",
      "source": [
        "!wget https://github.com/nlp-with-transformers/notebooks/raw/main/data/github-issues-transformers.jsonl"
      ],
      "metadata": {
        "id": "XtDr2v8-vaUQ"
      },
      "execution_count": null,
      "outputs": []
    },
    {
      "cell_type": "code",
      "source": [
        "def plot_metrics(micro_scores, macro_scores, sample_sizes, current_model):\n",
        "  fig, (ax0, ax1) = plt.subplots(1, 2, figsize=(10, 4), sharey=True)\n",
        "\n",
        "  for run in micro_scores.keys():\n",
        "    if run == current_model:\n",
        "      ax0.plot(sample_sizes, micro_scores[run], label=run, linewidth=2)\n",
        "      ax1.plot(sample_sizes, macro_scores[run], label=run, linewidth=2)\n",
        "    else:\n",
        "      ax0.plot(sample_sizes, micro_scores[run], label=run, linestyle=\"dashed\")\n",
        "      ax1.plot(sample_sizes, macro_scores[run], label=run, linestyle=\"dashed\")\n",
        "\n",
        "  ax0.set_title(\"Micro F1 scores\")\n",
        "  ax1.set_title(\"Macro F1 scores\")\n",
        "  ax0.set_ylabel(\"Test set F1 score\")\n",
        "  ax0.legend(loc=\"lower right\")\n",
        "  for ax in [ax0, ax1]:\n",
        "    ax.set_xlabel(\"Number of training samples\")\n",
        "    ax.set_xscale(\"log\")\n",
        "    ax.set_xticks(sample_sizes)\n",
        "    ax.set_xticklabels(sample_sizes)\n",
        "    ax.minorticks_off()\n",
        "  plt.tight_layout()\n",
        "  plt.show()"
      ],
      "metadata": {
        "id": "zLJdypDGwpFd"
      },
      "execution_count": 31,
      "outputs": []
    },
    {
      "cell_type": "markdown",
      "source": [
        "##Dataset"
      ],
      "metadata": {
        "id": "ZgoTZPXuzyDh"
      }
    },
    {
      "cell_type": "markdown",
      "source": [
        "###Preparing the Data"
      ],
      "metadata": {
        "id": "FsPSawO7zysp"
      }
    },
    {
      "cell_type": "code",
      "source": [
        "df_issues = pd.read_json(\"github-issues-transformers.jsonl\", lines=True)\n",
        "print(f\"DataFrame shape: {df_issues.shape}\")"
      ],
      "metadata": {
        "id": "uqKm-pSNwh0a",
        "outputId": "05da6c63-8385-48a6-d054-57d86ccd77e4",
        "colab": {
          "base_uri": "https://localhost:8080/"
        }
      },
      "execution_count": 6,
      "outputs": [
        {
          "output_type": "stream",
          "name": "stdout",
          "text": [
            "DataFrame shape: (9930, 26)\n"
          ]
        }
      ]
    },
    {
      "cell_type": "code",
      "source": [
        "df_issues.head(1)"
      ],
      "metadata": {
        "id": "Wz7mtj93yklI",
        "outputId": "217c9bcf-b812-4625-d26b-2c732a542f06",
        "colab": {
          "base_uri": "https://localhost:8080/",
          "height": 243
        }
      },
      "execution_count": 7,
      "outputs": [
        {
          "output_type": "execute_result",
          "data": {
            "text/plain": [
              "                                                 url  \\\n",
              "0  https://api.github.com/repos/huggingface/trans...   \n",
              "\n",
              "                                      repository_url  \\\n",
              "0  https://api.github.com/repos/huggingface/trans...   \n",
              "\n",
              "                                          labels_url  \\\n",
              "0  https://api.github.com/repos/huggingface/trans...   \n",
              "\n",
              "                                        comments_url  \\\n",
              "0  https://api.github.com/repos/huggingface/trans...   \n",
              "\n",
              "                                          events_url  \\\n",
              "0  https://api.github.com/repos/huggingface/trans...   \n",
              "\n",
              "                                            html_url         id  \\\n",
              "0  https://github.com/huggingface/transformers/is...  849568459   \n",
              "\n",
              "                    node_id  number  \\\n",
              "0  MDU6SXNzdWU4NDk1Njg0NTk=   11046   \n",
              "\n",
              "                                               title  ... milestone comments  \\\n",
              "0  Potential incorrect application of layer norm ...  ...       NaN        0   \n",
              "\n",
              "           created_at          updated_at closed_at author_association  \\\n",
              "0 2021-04-03 03:37:32 2021-04-03 03:37:32       NaT               NONE   \n",
              "\n",
              "   active_lock_reason                                               body  \\\n",
              "0                None  In BlenderbotSmallDecoder,  layer norm is appl...   \n",
              "\n",
              "  performed_via_github_app pull_request  \n",
              "0                      NaN         None  \n",
              "\n",
              "[1 rows x 26 columns]"
            ],
            "text/html": [
              "\n",
              "  <div id=\"df-18f62a97-94fe-427f-8236-b64bd3d6c076\">\n",
              "    <div class=\"colab-df-container\">\n",
              "      <div>\n",
              "<style scoped>\n",
              "    .dataframe tbody tr th:only-of-type {\n",
              "        vertical-align: middle;\n",
              "    }\n",
              "\n",
              "    .dataframe tbody tr th {\n",
              "        vertical-align: top;\n",
              "    }\n",
              "\n",
              "    .dataframe thead th {\n",
              "        text-align: right;\n",
              "    }\n",
              "</style>\n",
              "<table border=\"1\" class=\"dataframe\">\n",
              "  <thead>\n",
              "    <tr style=\"text-align: right;\">\n",
              "      <th></th>\n",
              "      <th>url</th>\n",
              "      <th>repository_url</th>\n",
              "      <th>labels_url</th>\n",
              "      <th>comments_url</th>\n",
              "      <th>events_url</th>\n",
              "      <th>html_url</th>\n",
              "      <th>id</th>\n",
              "      <th>node_id</th>\n",
              "      <th>number</th>\n",
              "      <th>title</th>\n",
              "      <th>...</th>\n",
              "      <th>milestone</th>\n",
              "      <th>comments</th>\n",
              "      <th>created_at</th>\n",
              "      <th>updated_at</th>\n",
              "      <th>closed_at</th>\n",
              "      <th>author_association</th>\n",
              "      <th>active_lock_reason</th>\n",
              "      <th>body</th>\n",
              "      <th>performed_via_github_app</th>\n",
              "      <th>pull_request</th>\n",
              "    </tr>\n",
              "  </thead>\n",
              "  <tbody>\n",
              "    <tr>\n",
              "      <th>0</th>\n",
              "      <td>https://api.github.com/repos/huggingface/trans...</td>\n",
              "      <td>https://api.github.com/repos/huggingface/trans...</td>\n",
              "      <td>https://api.github.com/repos/huggingface/trans...</td>\n",
              "      <td>https://api.github.com/repos/huggingface/trans...</td>\n",
              "      <td>https://api.github.com/repos/huggingface/trans...</td>\n",
              "      <td>https://github.com/huggingface/transformers/is...</td>\n",
              "      <td>849568459</td>\n",
              "      <td>MDU6SXNzdWU4NDk1Njg0NTk=</td>\n",
              "      <td>11046</td>\n",
              "      <td>Potential incorrect application of layer norm ...</td>\n",
              "      <td>...</td>\n",
              "      <td>NaN</td>\n",
              "      <td>0</td>\n",
              "      <td>2021-04-03 03:37:32</td>\n",
              "      <td>2021-04-03 03:37:32</td>\n",
              "      <td>NaT</td>\n",
              "      <td>NONE</td>\n",
              "      <td>None</td>\n",
              "      <td>In BlenderbotSmallDecoder,  layer norm is appl...</td>\n",
              "      <td>NaN</td>\n",
              "      <td>None</td>\n",
              "    </tr>\n",
              "  </tbody>\n",
              "</table>\n",
              "<p>1 rows × 26 columns</p>\n",
              "</div>\n",
              "      <button class=\"colab-df-convert\" onclick=\"convertToInteractive('df-18f62a97-94fe-427f-8236-b64bd3d6c076')\"\n",
              "              title=\"Convert this dataframe to an interactive table.\"\n",
              "              style=\"display:none;\">\n",
              "        \n",
              "  <svg xmlns=\"http://www.w3.org/2000/svg\" height=\"24px\"viewBox=\"0 0 24 24\"\n",
              "       width=\"24px\">\n",
              "    <path d=\"M0 0h24v24H0V0z\" fill=\"none\"/>\n",
              "    <path d=\"M18.56 5.44l.94 2.06.94-2.06 2.06-.94-2.06-.94-.94-2.06-.94 2.06-2.06.94zm-11 1L8.5 8.5l.94-2.06 2.06-.94-2.06-.94L8.5 2.5l-.94 2.06-2.06.94zm10 10l.94 2.06.94-2.06 2.06-.94-2.06-.94-.94-2.06-.94 2.06-2.06.94z\"/><path d=\"M17.41 7.96l-1.37-1.37c-.4-.4-.92-.59-1.43-.59-.52 0-1.04.2-1.43.59L10.3 9.45l-7.72 7.72c-.78.78-.78 2.05 0 2.83L4 21.41c.39.39.9.59 1.41.59.51 0 1.02-.2 1.41-.59l7.78-7.78 2.81-2.81c.8-.78.8-2.07 0-2.86zM5.41 20L4 18.59l7.72-7.72 1.47 1.35L5.41 20z\"/>\n",
              "  </svg>\n",
              "      </button>\n",
              "      \n",
              "  <style>\n",
              "    .colab-df-container {\n",
              "      display:flex;\n",
              "      flex-wrap:wrap;\n",
              "      gap: 12px;\n",
              "    }\n",
              "\n",
              "    .colab-df-convert {\n",
              "      background-color: #E8F0FE;\n",
              "      border: none;\n",
              "      border-radius: 50%;\n",
              "      cursor: pointer;\n",
              "      display: none;\n",
              "      fill: #1967D2;\n",
              "      height: 32px;\n",
              "      padding: 0 0 0 0;\n",
              "      width: 32px;\n",
              "    }\n",
              "\n",
              "    .colab-df-convert:hover {\n",
              "      background-color: #E2EBFA;\n",
              "      box-shadow: 0px 1px 2px rgba(60, 64, 67, 0.3), 0px 1px 3px 1px rgba(60, 64, 67, 0.15);\n",
              "      fill: #174EA6;\n",
              "    }\n",
              "\n",
              "    [theme=dark] .colab-df-convert {\n",
              "      background-color: #3B4455;\n",
              "      fill: #D2E3FC;\n",
              "    }\n",
              "\n",
              "    [theme=dark] .colab-df-convert:hover {\n",
              "      background-color: #434B5C;\n",
              "      box-shadow: 0px 1px 3px 1px rgba(0, 0, 0, 0.15);\n",
              "      filter: drop-shadow(0px 1px 2px rgba(0, 0, 0, 0.3));\n",
              "      fill: #FFFFFF;\n",
              "    }\n",
              "  </style>\n",
              "\n",
              "      <script>\n",
              "        const buttonEl =\n",
              "          document.querySelector('#df-18f62a97-94fe-427f-8236-b64bd3d6c076 button.colab-df-convert');\n",
              "        buttonEl.style.display =\n",
              "          google.colab.kernel.accessAllowed ? 'block' : 'none';\n",
              "\n",
              "        async function convertToInteractive(key) {\n",
              "          const element = document.querySelector('#df-18f62a97-94fe-427f-8236-b64bd3d6c076');\n",
              "          const dataTable =\n",
              "            await google.colab.kernel.invokeFunction('convertToInteractive',\n",
              "                                                     [key], {});\n",
              "          if (!dataTable) return;\n",
              "\n",
              "          const docLinkHtml = 'Like what you see? Visit the ' +\n",
              "            '<a target=\"_blank\" href=https://colab.research.google.com/notebooks/data_table.ipynb>data table notebook</a>'\n",
              "            + ' to learn more about interactive tables.';\n",
              "          element.innerHTML = '';\n",
              "          dataTable['output_type'] = 'display_data';\n",
              "          await google.colab.output.renderOutput(dataTable, element);\n",
              "          const docLink = document.createElement('div');\n",
              "          docLink.innerHTML = docLinkHtml;\n",
              "          element.appendChild(docLink);\n",
              "        }\n",
              "      </script>\n",
              "    </div>\n",
              "  </div>\n",
              "  "
            ]
          },
          "metadata": {},
          "execution_count": 7
        }
      ]
    },
    {
      "cell_type": "markdown",
      "source": [
        "By looking at a single row we can\n",
        "see that the information retrieved from the GitHub API contains many fields.\n",
        "\n",
        "Let's truncate it for desired columns."
      ],
      "metadata": {
        "id": "Eu0HCnZYyxtW"
      }
    },
    {
      "cell_type": "code",
      "source": [
        "cols = [\"url\", \"id\", \"title\", \"user\", \"labels\", \"state\", \"created_at\", \"body\"]\n",
        "df_issues.loc[2, cols].to_frame()"
      ],
      "metadata": {
        "id": "0w2lrvPGy6ep",
        "outputId": "8b522c0d-048d-40dc-cb6c-9ab40c5d1380",
        "colab": {
          "base_uri": "https://localhost:8080/",
          "height": 300
        }
      },
      "execution_count": 8,
      "outputs": [
        {
          "output_type": "execute_result",
          "data": {
            "text/plain": [
              "                                                            2\n",
              "url         https://api.github.com/repos/huggingface/trans...\n",
              "id                                                  849529761\n",
              "title       [DeepSpeed] ZeRO stage 3 integration: getting ...\n",
              "user        {'login': 'stas00', 'id': 10676103, 'node_id':...\n",
              "labels      [{'id': 2659267025, 'node_id': 'MDU6TGFiZWwyNj...\n",
              "state                                                    open\n",
              "created_at                                2021-04-02 23:40:42\n",
              "body        **[This is not yet alive, preparing for the re..."
            ],
            "text/html": [
              "\n",
              "  <div id=\"df-3a5d134f-f382-447f-9ab9-19945cd3e0a7\">\n",
              "    <div class=\"colab-df-container\">\n",
              "      <div>\n",
              "<style scoped>\n",
              "    .dataframe tbody tr th:only-of-type {\n",
              "        vertical-align: middle;\n",
              "    }\n",
              "\n",
              "    .dataframe tbody tr th {\n",
              "        vertical-align: top;\n",
              "    }\n",
              "\n",
              "    .dataframe thead th {\n",
              "        text-align: right;\n",
              "    }\n",
              "</style>\n",
              "<table border=\"1\" class=\"dataframe\">\n",
              "  <thead>\n",
              "    <tr style=\"text-align: right;\">\n",
              "      <th></th>\n",
              "      <th>2</th>\n",
              "    </tr>\n",
              "  </thead>\n",
              "  <tbody>\n",
              "    <tr>\n",
              "      <th>url</th>\n",
              "      <td>https://api.github.com/repos/huggingface/trans...</td>\n",
              "    </tr>\n",
              "    <tr>\n",
              "      <th>id</th>\n",
              "      <td>849529761</td>\n",
              "    </tr>\n",
              "    <tr>\n",
              "      <th>title</th>\n",
              "      <td>[DeepSpeed] ZeRO stage 3 integration: getting ...</td>\n",
              "    </tr>\n",
              "    <tr>\n",
              "      <th>user</th>\n",
              "      <td>{'login': 'stas00', 'id': 10676103, 'node_id':...</td>\n",
              "    </tr>\n",
              "    <tr>\n",
              "      <th>labels</th>\n",
              "      <td>[{'id': 2659267025, 'node_id': 'MDU6TGFiZWwyNj...</td>\n",
              "    </tr>\n",
              "    <tr>\n",
              "      <th>state</th>\n",
              "      <td>open</td>\n",
              "    </tr>\n",
              "    <tr>\n",
              "      <th>created_at</th>\n",
              "      <td>2021-04-02 23:40:42</td>\n",
              "    </tr>\n",
              "    <tr>\n",
              "      <th>body</th>\n",
              "      <td>**[This is not yet alive, preparing for the re...</td>\n",
              "    </tr>\n",
              "  </tbody>\n",
              "</table>\n",
              "</div>\n",
              "      <button class=\"colab-df-convert\" onclick=\"convertToInteractive('df-3a5d134f-f382-447f-9ab9-19945cd3e0a7')\"\n",
              "              title=\"Convert this dataframe to an interactive table.\"\n",
              "              style=\"display:none;\">\n",
              "        \n",
              "  <svg xmlns=\"http://www.w3.org/2000/svg\" height=\"24px\"viewBox=\"0 0 24 24\"\n",
              "       width=\"24px\">\n",
              "    <path d=\"M0 0h24v24H0V0z\" fill=\"none\"/>\n",
              "    <path d=\"M18.56 5.44l.94 2.06.94-2.06 2.06-.94-2.06-.94-.94-2.06-.94 2.06-2.06.94zm-11 1L8.5 8.5l.94-2.06 2.06-.94-2.06-.94L8.5 2.5l-.94 2.06-2.06.94zm10 10l.94 2.06.94-2.06 2.06-.94-2.06-.94-.94-2.06-.94 2.06-2.06.94z\"/><path d=\"M17.41 7.96l-1.37-1.37c-.4-.4-.92-.59-1.43-.59-.52 0-1.04.2-1.43.59L10.3 9.45l-7.72 7.72c-.78.78-.78 2.05 0 2.83L4 21.41c.39.39.9.59 1.41.59.51 0 1.02-.2 1.41-.59l7.78-7.78 2.81-2.81c.8-.78.8-2.07 0-2.86zM5.41 20L4 18.59l7.72-7.72 1.47 1.35L5.41 20z\"/>\n",
              "  </svg>\n",
              "      </button>\n",
              "      \n",
              "  <style>\n",
              "    .colab-df-container {\n",
              "      display:flex;\n",
              "      flex-wrap:wrap;\n",
              "      gap: 12px;\n",
              "    }\n",
              "\n",
              "    .colab-df-convert {\n",
              "      background-color: #E8F0FE;\n",
              "      border: none;\n",
              "      border-radius: 50%;\n",
              "      cursor: pointer;\n",
              "      display: none;\n",
              "      fill: #1967D2;\n",
              "      height: 32px;\n",
              "      padding: 0 0 0 0;\n",
              "      width: 32px;\n",
              "    }\n",
              "\n",
              "    .colab-df-convert:hover {\n",
              "      background-color: #E2EBFA;\n",
              "      box-shadow: 0px 1px 2px rgba(60, 64, 67, 0.3), 0px 1px 3px 1px rgba(60, 64, 67, 0.15);\n",
              "      fill: #174EA6;\n",
              "    }\n",
              "\n",
              "    [theme=dark] .colab-df-convert {\n",
              "      background-color: #3B4455;\n",
              "      fill: #D2E3FC;\n",
              "    }\n",
              "\n",
              "    [theme=dark] .colab-df-convert:hover {\n",
              "      background-color: #434B5C;\n",
              "      box-shadow: 0px 1px 3px 1px rgba(0, 0, 0, 0.15);\n",
              "      filter: drop-shadow(0px 1px 2px rgba(0, 0, 0, 0.3));\n",
              "      fill: #FFFFFF;\n",
              "    }\n",
              "  </style>\n",
              "\n",
              "      <script>\n",
              "        const buttonEl =\n",
              "          document.querySelector('#df-3a5d134f-f382-447f-9ab9-19945cd3e0a7 button.colab-df-convert');\n",
              "        buttonEl.style.display =\n",
              "          google.colab.kernel.accessAllowed ? 'block' : 'none';\n",
              "\n",
              "        async function convertToInteractive(key) {\n",
              "          const element = document.querySelector('#df-3a5d134f-f382-447f-9ab9-19945cd3e0a7');\n",
              "          const dataTable =\n",
              "            await google.colab.kernel.invokeFunction('convertToInteractive',\n",
              "                                                     [key], {});\n",
              "          if (!dataTable) return;\n",
              "\n",
              "          const docLinkHtml = 'Like what you see? Visit the ' +\n",
              "            '<a target=\"_blank\" href=https://colab.research.google.com/notebooks/data_table.ipynb>data table notebook</a>'\n",
              "            + ' to learn more about interactive tables.';\n",
              "          element.innerHTML = '';\n",
              "          dataTable['output_type'] = 'display_data';\n",
              "          await google.colab.output.renderOutput(dataTable, element);\n",
              "          const docLink = document.createElement('div');\n",
              "          docLink.innerHTML = docLinkHtml;\n",
              "          element.appendChild(docLink);\n",
              "        }\n",
              "      </script>\n",
              "    </div>\n",
              "  </div>\n",
              "  "
            ]
          },
          "metadata": {},
          "execution_count": 8
        }
      ]
    },
    {
      "cell_type": "code",
      "source": [
        "# The labels column is the thing that we’re interested in\n",
        "df_issues.loc[2, cols][\"labels\"]"
      ],
      "metadata": {
        "id": "pFPOPKKW0nV9",
        "outputId": "9849e478-3b61-43ff-9c97-ff4c9270cfde",
        "colab": {
          "base_uri": "https://localhost:8080/"
        }
      },
      "execution_count": 9,
      "outputs": [
        {
          "output_type": "execute_result",
          "data": {
            "text/plain": [
              "[{'color': '4D34F7',\n",
              "  'default': False,\n",
              "  'description': '',\n",
              "  'id': 2659267025,\n",
              "  'name': 'DeepSpeed',\n",
              "  'node_id': 'MDU6TGFiZWwyNjU5MjY3MDI1',\n",
              "  'url': 'https://api.github.com/repos/huggingface/transformers/labels/DeepSpeed'}]"
            ]
          },
          "metadata": {},
          "execution_count": 9
        }
      ]
    },
    {
      "cell_type": "code",
      "source": [
        "# For our purposes, we’re only interested in the name field of each label object\n",
        "df_issues[\"labels\"] = (df_issues[\"labels\"].apply(lambda x: [meta[\"name\"] for meta in x]))\n",
        "df_issues[\"labels\"].head()"
      ],
      "metadata": {
        "id": "mr3jBaEW1Bgy",
        "outputId": "db102a52-8923-4887-f521-c0f93abcfbfa",
        "colab": {
          "base_uri": "https://localhost:8080/"
        }
      },
      "execution_count": 10,
      "outputs": [
        {
          "output_type": "execute_result",
          "data": {
            "text/plain": [
              "0             []\n",
              "1             []\n",
              "2    [DeepSpeed]\n",
              "3             []\n",
              "4             []\n",
              "Name: labels, dtype: object"
            ]
          },
          "metadata": {},
          "execution_count": 10
        }
      ]
    },
    {
      "cell_type": "code",
      "source": [
        "# let's compute the length of each row to find the number of labels per issue\n",
        "df_issues[\"labels\"].apply(lambda x: len(x)).value_counts().to_frame().T"
      ],
      "metadata": {
        "id": "0hUicFXV1awc",
        "outputId": "ed4d71f1-de9c-4b35-fa20-dc6934c9ff94",
        "colab": {
          "base_uri": "https://localhost:8080/",
          "height": 81
        }
      },
      "execution_count": 11,
      "outputs": [
        {
          "output_type": "execute_result",
          "data": {
            "text/plain": [
              "           0     1    2    3   4  5\n",
              "labels  6440  3057  305  100  25  3"
            ],
            "text/html": [
              "\n",
              "  <div id=\"df-c9c6551f-8956-4a91-94e8-67fbf36065e9\">\n",
              "    <div class=\"colab-df-container\">\n",
              "      <div>\n",
              "<style scoped>\n",
              "    .dataframe tbody tr th:only-of-type {\n",
              "        vertical-align: middle;\n",
              "    }\n",
              "\n",
              "    .dataframe tbody tr th {\n",
              "        vertical-align: top;\n",
              "    }\n",
              "\n",
              "    .dataframe thead th {\n",
              "        text-align: right;\n",
              "    }\n",
              "</style>\n",
              "<table border=\"1\" class=\"dataframe\">\n",
              "  <thead>\n",
              "    <tr style=\"text-align: right;\">\n",
              "      <th></th>\n",
              "      <th>0</th>\n",
              "      <th>1</th>\n",
              "      <th>2</th>\n",
              "      <th>3</th>\n",
              "      <th>4</th>\n",
              "      <th>5</th>\n",
              "    </tr>\n",
              "  </thead>\n",
              "  <tbody>\n",
              "    <tr>\n",
              "      <th>labels</th>\n",
              "      <td>6440</td>\n",
              "      <td>3057</td>\n",
              "      <td>305</td>\n",
              "      <td>100</td>\n",
              "      <td>25</td>\n",
              "      <td>3</td>\n",
              "    </tr>\n",
              "  </tbody>\n",
              "</table>\n",
              "</div>\n",
              "      <button class=\"colab-df-convert\" onclick=\"convertToInteractive('df-c9c6551f-8956-4a91-94e8-67fbf36065e9')\"\n",
              "              title=\"Convert this dataframe to an interactive table.\"\n",
              "              style=\"display:none;\">\n",
              "        \n",
              "  <svg xmlns=\"http://www.w3.org/2000/svg\" height=\"24px\"viewBox=\"0 0 24 24\"\n",
              "       width=\"24px\">\n",
              "    <path d=\"M0 0h24v24H0V0z\" fill=\"none\"/>\n",
              "    <path d=\"M18.56 5.44l.94 2.06.94-2.06 2.06-.94-2.06-.94-.94-2.06-.94 2.06-2.06.94zm-11 1L8.5 8.5l.94-2.06 2.06-.94-2.06-.94L8.5 2.5l-.94 2.06-2.06.94zm10 10l.94 2.06.94-2.06 2.06-.94-2.06-.94-.94-2.06-.94 2.06-2.06.94z\"/><path d=\"M17.41 7.96l-1.37-1.37c-.4-.4-.92-.59-1.43-.59-.52 0-1.04.2-1.43.59L10.3 9.45l-7.72 7.72c-.78.78-.78 2.05 0 2.83L4 21.41c.39.39.9.59 1.41.59.51 0 1.02-.2 1.41-.59l7.78-7.78 2.81-2.81c.8-.78.8-2.07 0-2.86zM5.41 20L4 18.59l7.72-7.72 1.47 1.35L5.41 20z\"/>\n",
              "  </svg>\n",
              "      </button>\n",
              "      \n",
              "  <style>\n",
              "    .colab-df-container {\n",
              "      display:flex;\n",
              "      flex-wrap:wrap;\n",
              "      gap: 12px;\n",
              "    }\n",
              "\n",
              "    .colab-df-convert {\n",
              "      background-color: #E8F0FE;\n",
              "      border: none;\n",
              "      border-radius: 50%;\n",
              "      cursor: pointer;\n",
              "      display: none;\n",
              "      fill: #1967D2;\n",
              "      height: 32px;\n",
              "      padding: 0 0 0 0;\n",
              "      width: 32px;\n",
              "    }\n",
              "\n",
              "    .colab-df-convert:hover {\n",
              "      background-color: #E2EBFA;\n",
              "      box-shadow: 0px 1px 2px rgba(60, 64, 67, 0.3), 0px 1px 3px 1px rgba(60, 64, 67, 0.15);\n",
              "      fill: #174EA6;\n",
              "    }\n",
              "\n",
              "    [theme=dark] .colab-df-convert {\n",
              "      background-color: #3B4455;\n",
              "      fill: #D2E3FC;\n",
              "    }\n",
              "\n",
              "    [theme=dark] .colab-df-convert:hover {\n",
              "      background-color: #434B5C;\n",
              "      box-shadow: 0px 1px 3px 1px rgba(0, 0, 0, 0.15);\n",
              "      filter: drop-shadow(0px 1px 2px rgba(0, 0, 0, 0.3));\n",
              "      fill: #FFFFFF;\n",
              "    }\n",
              "  </style>\n",
              "\n",
              "      <script>\n",
              "        const buttonEl =\n",
              "          document.querySelector('#df-c9c6551f-8956-4a91-94e8-67fbf36065e9 button.colab-df-convert');\n",
              "        buttonEl.style.display =\n",
              "          google.colab.kernel.accessAllowed ? 'block' : 'none';\n",
              "\n",
              "        async function convertToInteractive(key) {\n",
              "          const element = document.querySelector('#df-c9c6551f-8956-4a91-94e8-67fbf36065e9');\n",
              "          const dataTable =\n",
              "            await google.colab.kernel.invokeFunction('convertToInteractive',\n",
              "                                                     [key], {});\n",
              "          if (!dataTable) return;\n",
              "\n",
              "          const docLinkHtml = 'Like what you see? Visit the ' +\n",
              "            '<a target=\"_blank\" href=https://colab.research.google.com/notebooks/data_table.ipynb>data table notebook</a>'\n",
              "            + ' to learn more about interactive tables.';\n",
              "          element.innerHTML = '';\n",
              "          dataTable['output_type'] = 'display_data';\n",
              "          await google.colab.output.renderOutput(dataTable, element);\n",
              "          const docLink = document.createElement('div');\n",
              "          docLink.innerHTML = docLinkHtml;\n",
              "          element.appendChild(docLink);\n",
              "        }\n",
              "      </script>\n",
              "    </div>\n",
              "  </div>\n",
              "  "
            ]
          },
          "metadata": {},
          "execution_count": 11
        }
      ]
    },
    {
      "cell_type": "markdown",
      "source": [
        "Next let’s take a look at the top 10 most frequent labels in the dataset."
      ],
      "metadata": {
        "id": "OH8xaLG912OP"
      }
    },
    {
      "cell_type": "code",
      "source": [
        "# we can do this by “exploding” the labels column so that each label in the list becomes a row\n",
        "df_counts = df_issues[\"labels\"].explode().value_counts()\n",
        "print(f\"Number of labels: {len(df_counts)}\")"
      ],
      "metadata": {
        "id": "P6XCxIq1126U",
        "outputId": "92b2254e-ee80-49a9-cf7b-95e3237f588d",
        "colab": {
          "base_uri": "https://localhost:8080/"
        }
      },
      "execution_count": 12,
      "outputs": [
        {
          "output_type": "stream",
          "name": "stdout",
          "text": [
            "Number of labels: 65\n"
          ]
        }
      ]
    },
    {
      "cell_type": "code",
      "source": [
        "# Display the top-8 label categories\n",
        "df_counts.to_frame().head(8).T"
      ],
      "metadata": {
        "id": "eqcxzgG72PzM",
        "outputId": "bdcebe56-ed1a-47cd-caf5-37f69c1cee96",
        "colab": {
          "base_uri": "https://localhost:8080/",
          "height": 142
        }
      },
      "execution_count": 13,
      "outputs": [
        {
          "output_type": "execute_result",
          "data": {
            "text/plain": [
              "        wontfix  model card  Core: Tokenization  New model  Core: Modeling  \\\n",
              "labels     2284         649                 106         98              64   \n",
              "\n",
              "        Help wanted  Good First Issue  Usage  \n",
              "labels           52                50     46  "
            ],
            "text/html": [
              "\n",
              "  <div id=\"df-8cc67984-b783-4883-89f7-8dba45ba7a9a\">\n",
              "    <div class=\"colab-df-container\">\n",
              "      <div>\n",
              "<style scoped>\n",
              "    .dataframe tbody tr th:only-of-type {\n",
              "        vertical-align: middle;\n",
              "    }\n",
              "\n",
              "    .dataframe tbody tr th {\n",
              "        vertical-align: top;\n",
              "    }\n",
              "\n",
              "    .dataframe thead th {\n",
              "        text-align: right;\n",
              "    }\n",
              "</style>\n",
              "<table border=\"1\" class=\"dataframe\">\n",
              "  <thead>\n",
              "    <tr style=\"text-align: right;\">\n",
              "      <th></th>\n",
              "      <th>wontfix</th>\n",
              "      <th>model card</th>\n",
              "      <th>Core: Tokenization</th>\n",
              "      <th>New model</th>\n",
              "      <th>Core: Modeling</th>\n",
              "      <th>Help wanted</th>\n",
              "      <th>Good First Issue</th>\n",
              "      <th>Usage</th>\n",
              "    </tr>\n",
              "  </thead>\n",
              "  <tbody>\n",
              "    <tr>\n",
              "      <th>labels</th>\n",
              "      <td>2284</td>\n",
              "      <td>649</td>\n",
              "      <td>106</td>\n",
              "      <td>98</td>\n",
              "      <td>64</td>\n",
              "      <td>52</td>\n",
              "      <td>50</td>\n",
              "      <td>46</td>\n",
              "    </tr>\n",
              "  </tbody>\n",
              "</table>\n",
              "</div>\n",
              "      <button class=\"colab-df-convert\" onclick=\"convertToInteractive('df-8cc67984-b783-4883-89f7-8dba45ba7a9a')\"\n",
              "              title=\"Convert this dataframe to an interactive table.\"\n",
              "              style=\"display:none;\">\n",
              "        \n",
              "  <svg xmlns=\"http://www.w3.org/2000/svg\" height=\"24px\"viewBox=\"0 0 24 24\"\n",
              "       width=\"24px\">\n",
              "    <path d=\"M0 0h24v24H0V0z\" fill=\"none\"/>\n",
              "    <path d=\"M18.56 5.44l.94 2.06.94-2.06 2.06-.94-2.06-.94-.94-2.06-.94 2.06-2.06.94zm-11 1L8.5 8.5l.94-2.06 2.06-.94-2.06-.94L8.5 2.5l-.94 2.06-2.06.94zm10 10l.94 2.06.94-2.06 2.06-.94-2.06-.94-.94-2.06-.94 2.06-2.06.94z\"/><path d=\"M17.41 7.96l-1.37-1.37c-.4-.4-.92-.59-1.43-.59-.52 0-1.04.2-1.43.59L10.3 9.45l-7.72 7.72c-.78.78-.78 2.05 0 2.83L4 21.41c.39.39.9.59 1.41.59.51 0 1.02-.2 1.41-.59l7.78-7.78 2.81-2.81c.8-.78.8-2.07 0-2.86zM5.41 20L4 18.59l7.72-7.72 1.47 1.35L5.41 20z\"/>\n",
              "  </svg>\n",
              "      </button>\n",
              "      \n",
              "  <style>\n",
              "    .colab-df-container {\n",
              "      display:flex;\n",
              "      flex-wrap:wrap;\n",
              "      gap: 12px;\n",
              "    }\n",
              "\n",
              "    .colab-df-convert {\n",
              "      background-color: #E8F0FE;\n",
              "      border: none;\n",
              "      border-radius: 50%;\n",
              "      cursor: pointer;\n",
              "      display: none;\n",
              "      fill: #1967D2;\n",
              "      height: 32px;\n",
              "      padding: 0 0 0 0;\n",
              "      width: 32px;\n",
              "    }\n",
              "\n",
              "    .colab-df-convert:hover {\n",
              "      background-color: #E2EBFA;\n",
              "      box-shadow: 0px 1px 2px rgba(60, 64, 67, 0.3), 0px 1px 3px 1px rgba(60, 64, 67, 0.15);\n",
              "      fill: #174EA6;\n",
              "    }\n",
              "\n",
              "    [theme=dark] .colab-df-convert {\n",
              "      background-color: #3B4455;\n",
              "      fill: #D2E3FC;\n",
              "    }\n",
              "\n",
              "    [theme=dark] .colab-df-convert:hover {\n",
              "      background-color: #434B5C;\n",
              "      box-shadow: 0px 1px 3px 1px rgba(0, 0, 0, 0.15);\n",
              "      filter: drop-shadow(0px 1px 2px rgba(0, 0, 0, 0.3));\n",
              "      fill: #FFFFFF;\n",
              "    }\n",
              "  </style>\n",
              "\n",
              "      <script>\n",
              "        const buttonEl =\n",
              "          document.querySelector('#df-8cc67984-b783-4883-89f7-8dba45ba7a9a button.colab-df-convert');\n",
              "        buttonEl.style.display =\n",
              "          google.colab.kernel.accessAllowed ? 'block' : 'none';\n",
              "\n",
              "        async function convertToInteractive(key) {\n",
              "          const element = document.querySelector('#df-8cc67984-b783-4883-89f7-8dba45ba7a9a');\n",
              "          const dataTable =\n",
              "            await google.colab.kernel.invokeFunction('convertToInteractive',\n",
              "                                                     [key], {});\n",
              "          if (!dataTable) return;\n",
              "\n",
              "          const docLinkHtml = 'Like what you see? Visit the ' +\n",
              "            '<a target=\"_blank\" href=https://colab.research.google.com/notebooks/data_table.ipynb>data table notebook</a>'\n",
              "            + ' to learn more about interactive tables.';\n",
              "          element.innerHTML = '';\n",
              "          dataTable['output_type'] = 'display_data';\n",
              "          await google.colab.output.renderOutput(dataTable, element);\n",
              "          const docLink = document.createElement('div');\n",
              "          docLink.innerHTML = docLinkHtml;\n",
              "          element.appendChild(docLink);\n",
              "        }\n",
              "      </script>\n",
              "    </div>\n",
              "  </div>\n",
              "  "
            ]
          },
          "metadata": {},
          "execution_count": 13
        }
      ]
    },
    {
      "cell_type": "markdown",
      "source": [
        "Let's filters the dataset for the subset of labels that we’ll work with,\n",
        "along with a standardization of the names to make them easier to read."
      ],
      "metadata": {
        "id": "dieEPSuW2l4F"
      }
    },
    {
      "cell_type": "code",
      "source": [
        "label_map = {\n",
        "  \"Core: Tokenization\": \"tokenization\",\n",
        "  \"New model\": \"new model\",\n",
        "  \"Core: Modeling\": \"model training\",\n",
        "  \"Usage\": \"usage\",\n",
        "  \"Core: Pipeline\": \"pipeline\",\n",
        "  \"TensorFlow\": \"tensorflow or tf\",\n",
        "  \"PyTorch\": \"pytorch\",\n",
        "  \"Examples\": \"examples\",\n",
        "  \"Documentation\": \"documentation\"\n",
        "}\n",
        "\n",
        "def filter_labels(x):\n",
        "  return [label_map[label] for label in x if label in label_map]"
      ],
      "metadata": {
        "id": "_eEWclg52nYZ"
      },
      "execution_count": 14,
      "outputs": []
    },
    {
      "cell_type": "code",
      "source": [
        "df_issues[\"labels\"] = df_issues[\"labels\"].apply(filter_labels)\n",
        "all_labels = list(label_map.values())"
      ],
      "metadata": {
        "id": "pBAOoeM1yb8y"
      },
      "execution_count": 15,
      "outputs": []
    },
    {
      "cell_type": "markdown",
      "source": [
        "Now let’s look at the distribution of the new labels."
      ],
      "metadata": {
        "id": "qPLVdcvAy6AY"
      }
    },
    {
      "cell_type": "code",
      "source": [
        "df_counts = df_issues[\"labels\"].explode().value_counts()\n",
        "df_counts.to_frame().T"
      ],
      "metadata": {
        "colab": {
          "base_uri": "https://localhost:8080/",
          "height": 142
        },
        "id": "h3sWuT6Cy6nV",
        "outputId": "18cd1717-5a4d-411a-e41f-3d46d33d9df1"
      },
      "execution_count": 16,
      "outputs": [
        {
          "output_type": "execute_result",
          "data": {
            "text/plain": [
              "        tokenization  new model  model training  usage  pipeline  \\\n",
              "labels           106         98              64     46        42   \n",
              "\n",
              "        tensorflow or tf  pytorch  documentation  examples  \n",
              "labels                41       37             28        24  "
            ],
            "text/html": [
              "\n",
              "  <div id=\"df-5eba3a30-39c8-4567-a587-18474d013b64\">\n",
              "    <div class=\"colab-df-container\">\n",
              "      <div>\n",
              "<style scoped>\n",
              "    .dataframe tbody tr th:only-of-type {\n",
              "        vertical-align: middle;\n",
              "    }\n",
              "\n",
              "    .dataframe tbody tr th {\n",
              "        vertical-align: top;\n",
              "    }\n",
              "\n",
              "    .dataframe thead th {\n",
              "        text-align: right;\n",
              "    }\n",
              "</style>\n",
              "<table border=\"1\" class=\"dataframe\">\n",
              "  <thead>\n",
              "    <tr style=\"text-align: right;\">\n",
              "      <th></th>\n",
              "      <th>tokenization</th>\n",
              "      <th>new model</th>\n",
              "      <th>model training</th>\n",
              "      <th>usage</th>\n",
              "      <th>pipeline</th>\n",
              "      <th>tensorflow or tf</th>\n",
              "      <th>pytorch</th>\n",
              "      <th>documentation</th>\n",
              "      <th>examples</th>\n",
              "    </tr>\n",
              "  </thead>\n",
              "  <tbody>\n",
              "    <tr>\n",
              "      <th>labels</th>\n",
              "      <td>106</td>\n",
              "      <td>98</td>\n",
              "      <td>64</td>\n",
              "      <td>46</td>\n",
              "      <td>42</td>\n",
              "      <td>41</td>\n",
              "      <td>37</td>\n",
              "      <td>28</td>\n",
              "      <td>24</td>\n",
              "    </tr>\n",
              "  </tbody>\n",
              "</table>\n",
              "</div>\n",
              "      <button class=\"colab-df-convert\" onclick=\"convertToInteractive('df-5eba3a30-39c8-4567-a587-18474d013b64')\"\n",
              "              title=\"Convert this dataframe to an interactive table.\"\n",
              "              style=\"display:none;\">\n",
              "        \n",
              "  <svg xmlns=\"http://www.w3.org/2000/svg\" height=\"24px\"viewBox=\"0 0 24 24\"\n",
              "       width=\"24px\">\n",
              "    <path d=\"M0 0h24v24H0V0z\" fill=\"none\"/>\n",
              "    <path d=\"M18.56 5.44l.94 2.06.94-2.06 2.06-.94-2.06-.94-.94-2.06-.94 2.06-2.06.94zm-11 1L8.5 8.5l.94-2.06 2.06-.94-2.06-.94L8.5 2.5l-.94 2.06-2.06.94zm10 10l.94 2.06.94-2.06 2.06-.94-2.06-.94-.94-2.06-.94 2.06-2.06.94z\"/><path d=\"M17.41 7.96l-1.37-1.37c-.4-.4-.92-.59-1.43-.59-.52 0-1.04.2-1.43.59L10.3 9.45l-7.72 7.72c-.78.78-.78 2.05 0 2.83L4 21.41c.39.39.9.59 1.41.59.51 0 1.02-.2 1.41-.59l7.78-7.78 2.81-2.81c.8-.78.8-2.07 0-2.86zM5.41 20L4 18.59l7.72-7.72 1.47 1.35L5.41 20z\"/>\n",
              "  </svg>\n",
              "      </button>\n",
              "      \n",
              "  <style>\n",
              "    .colab-df-container {\n",
              "      display:flex;\n",
              "      flex-wrap:wrap;\n",
              "      gap: 12px;\n",
              "    }\n",
              "\n",
              "    .colab-df-convert {\n",
              "      background-color: #E8F0FE;\n",
              "      border: none;\n",
              "      border-radius: 50%;\n",
              "      cursor: pointer;\n",
              "      display: none;\n",
              "      fill: #1967D2;\n",
              "      height: 32px;\n",
              "      padding: 0 0 0 0;\n",
              "      width: 32px;\n",
              "    }\n",
              "\n",
              "    .colab-df-convert:hover {\n",
              "      background-color: #E2EBFA;\n",
              "      box-shadow: 0px 1px 2px rgba(60, 64, 67, 0.3), 0px 1px 3px 1px rgba(60, 64, 67, 0.15);\n",
              "      fill: #174EA6;\n",
              "    }\n",
              "\n",
              "    [theme=dark] .colab-df-convert {\n",
              "      background-color: #3B4455;\n",
              "      fill: #D2E3FC;\n",
              "    }\n",
              "\n",
              "    [theme=dark] .colab-df-convert:hover {\n",
              "      background-color: #434B5C;\n",
              "      box-shadow: 0px 1px 3px 1px rgba(0, 0, 0, 0.15);\n",
              "      filter: drop-shadow(0px 1px 2px rgba(0, 0, 0, 0.3));\n",
              "      fill: #FFFFFF;\n",
              "    }\n",
              "  </style>\n",
              "\n",
              "      <script>\n",
              "        const buttonEl =\n",
              "          document.querySelector('#df-5eba3a30-39c8-4567-a587-18474d013b64 button.colab-df-convert');\n",
              "        buttonEl.style.display =\n",
              "          google.colab.kernel.accessAllowed ? 'block' : 'none';\n",
              "\n",
              "        async function convertToInteractive(key) {\n",
              "          const element = document.querySelector('#df-5eba3a30-39c8-4567-a587-18474d013b64');\n",
              "          const dataTable =\n",
              "            await google.colab.kernel.invokeFunction('convertToInteractive',\n",
              "                                                     [key], {});\n",
              "          if (!dataTable) return;\n",
              "\n",
              "          const docLinkHtml = 'Like what you see? Visit the ' +\n",
              "            '<a target=\"_blank\" href=https://colab.research.google.com/notebooks/data_table.ipynb>data table notebook</a>'\n",
              "            + ' to learn more about interactive tables.';\n",
              "          element.innerHTML = '';\n",
              "          dataTable['output_type'] = 'display_data';\n",
              "          await google.colab.output.renderOutput(dataTable, element);\n",
              "          const docLink = document.createElement('div');\n",
              "          docLink.innerHTML = docLinkHtml;\n",
              "          element.appendChild(docLink);\n",
              "        }\n",
              "      </script>\n",
              "    </div>\n",
              "  </div>\n",
              "  "
            ]
          },
          "metadata": {},
          "execution_count": 16
        }
      ]
    },
    {
      "cell_type": "markdown",
      "source": [
        "let’s create a new column that indicates whether the issue is unlabeled\n",
        "or not."
      ],
      "metadata": {
        "id": "PvWEIpgO1hWj"
      }
    },
    {
      "cell_type": "code",
      "source": [
        "df_issues[\"split\"] = \"unlabeled\"\n",
        "mask = df_issues[\"labels\"].apply(lambda x: len(x)) > 0\n",
        "df_issues.loc[mask, \"split\"] = \"labeled\"\n",
        "df_issues[\"split\"].value_counts().to_frame()"
      ],
      "metadata": {
        "colab": {
          "base_uri": "https://localhost:8080/",
          "height": 112
        },
        "id": "57Er8sV81j2R",
        "outputId": "91b37818-4a55-4cf8-ad54-013466cfee1a"
      },
      "execution_count": 17,
      "outputs": [
        {
          "output_type": "execute_result",
          "data": {
            "text/plain": [
              "           split\n",
              "unlabeled   9489\n",
              "labeled      441"
            ],
            "text/html": [
              "\n",
              "  <div id=\"df-ec646f11-40c6-4181-8cd3-a8d53ff4a67b\">\n",
              "    <div class=\"colab-df-container\">\n",
              "      <div>\n",
              "<style scoped>\n",
              "    .dataframe tbody tr th:only-of-type {\n",
              "        vertical-align: middle;\n",
              "    }\n",
              "\n",
              "    .dataframe tbody tr th {\n",
              "        vertical-align: top;\n",
              "    }\n",
              "\n",
              "    .dataframe thead th {\n",
              "        text-align: right;\n",
              "    }\n",
              "</style>\n",
              "<table border=\"1\" class=\"dataframe\">\n",
              "  <thead>\n",
              "    <tr style=\"text-align: right;\">\n",
              "      <th></th>\n",
              "      <th>split</th>\n",
              "    </tr>\n",
              "  </thead>\n",
              "  <tbody>\n",
              "    <tr>\n",
              "      <th>unlabeled</th>\n",
              "      <td>9489</td>\n",
              "    </tr>\n",
              "    <tr>\n",
              "      <th>labeled</th>\n",
              "      <td>441</td>\n",
              "    </tr>\n",
              "  </tbody>\n",
              "</table>\n",
              "</div>\n",
              "      <button class=\"colab-df-convert\" onclick=\"convertToInteractive('df-ec646f11-40c6-4181-8cd3-a8d53ff4a67b')\"\n",
              "              title=\"Convert this dataframe to an interactive table.\"\n",
              "              style=\"display:none;\">\n",
              "        \n",
              "  <svg xmlns=\"http://www.w3.org/2000/svg\" height=\"24px\"viewBox=\"0 0 24 24\"\n",
              "       width=\"24px\">\n",
              "    <path d=\"M0 0h24v24H0V0z\" fill=\"none\"/>\n",
              "    <path d=\"M18.56 5.44l.94 2.06.94-2.06 2.06-.94-2.06-.94-.94-2.06-.94 2.06-2.06.94zm-11 1L8.5 8.5l.94-2.06 2.06-.94-2.06-.94L8.5 2.5l-.94 2.06-2.06.94zm10 10l.94 2.06.94-2.06 2.06-.94-2.06-.94-.94-2.06-.94 2.06-2.06.94z\"/><path d=\"M17.41 7.96l-1.37-1.37c-.4-.4-.92-.59-1.43-.59-.52 0-1.04.2-1.43.59L10.3 9.45l-7.72 7.72c-.78.78-.78 2.05 0 2.83L4 21.41c.39.39.9.59 1.41.59.51 0 1.02-.2 1.41-.59l7.78-7.78 2.81-2.81c.8-.78.8-2.07 0-2.86zM5.41 20L4 18.59l7.72-7.72 1.47 1.35L5.41 20z\"/>\n",
              "  </svg>\n",
              "      </button>\n",
              "      \n",
              "  <style>\n",
              "    .colab-df-container {\n",
              "      display:flex;\n",
              "      flex-wrap:wrap;\n",
              "      gap: 12px;\n",
              "    }\n",
              "\n",
              "    .colab-df-convert {\n",
              "      background-color: #E8F0FE;\n",
              "      border: none;\n",
              "      border-radius: 50%;\n",
              "      cursor: pointer;\n",
              "      display: none;\n",
              "      fill: #1967D2;\n",
              "      height: 32px;\n",
              "      padding: 0 0 0 0;\n",
              "      width: 32px;\n",
              "    }\n",
              "\n",
              "    .colab-df-convert:hover {\n",
              "      background-color: #E2EBFA;\n",
              "      box-shadow: 0px 1px 2px rgba(60, 64, 67, 0.3), 0px 1px 3px 1px rgba(60, 64, 67, 0.15);\n",
              "      fill: #174EA6;\n",
              "    }\n",
              "\n",
              "    [theme=dark] .colab-df-convert {\n",
              "      background-color: #3B4455;\n",
              "      fill: #D2E3FC;\n",
              "    }\n",
              "\n",
              "    [theme=dark] .colab-df-convert:hover {\n",
              "      background-color: #434B5C;\n",
              "      box-shadow: 0px 1px 3px 1px rgba(0, 0, 0, 0.15);\n",
              "      filter: drop-shadow(0px 1px 2px rgba(0, 0, 0, 0.3));\n",
              "      fill: #FFFFFF;\n",
              "    }\n",
              "  </style>\n",
              "\n",
              "      <script>\n",
              "        const buttonEl =\n",
              "          document.querySelector('#df-ec646f11-40c6-4181-8cd3-a8d53ff4a67b button.colab-df-convert');\n",
              "        buttonEl.style.display =\n",
              "          google.colab.kernel.accessAllowed ? 'block' : 'none';\n",
              "\n",
              "        async function convertToInteractive(key) {\n",
              "          const element = document.querySelector('#df-ec646f11-40c6-4181-8cd3-a8d53ff4a67b');\n",
              "          const dataTable =\n",
              "            await google.colab.kernel.invokeFunction('convertToInteractive',\n",
              "                                                     [key], {});\n",
              "          if (!dataTable) return;\n",
              "\n",
              "          const docLinkHtml = 'Like what you see? Visit the ' +\n",
              "            '<a target=\"_blank\" href=https://colab.research.google.com/notebooks/data_table.ipynb>data table notebook</a>'\n",
              "            + ' to learn more about interactive tables.';\n",
              "          element.innerHTML = '';\n",
              "          dataTable['output_type'] = 'display_data';\n",
              "          await google.colab.output.renderOutput(dataTable, element);\n",
              "          const docLink = document.createElement('div');\n",
              "          docLink.innerHTML = docLinkHtml;\n",
              "          element.appendChild(docLink);\n",
              "        }\n",
              "      </script>\n",
              "    </div>\n",
              "  </div>\n",
              "  "
            ]
          },
          "metadata": {},
          "execution_count": 17
        }
      ]
    },
    {
      "cell_type": "markdown",
      "source": [
        "Let’s now take a look at an example."
      ],
      "metadata": {
        "id": "06beyuTE3frT"
      }
    },
    {
      "cell_type": "code",
      "source": [
        "for column in [\"title\", \"body\", \"labels\"]:\n",
        "  print(f\"{column }: {df_issues[column ].iloc[26][:500]}\\n\")"
      ],
      "metadata": {
        "colab": {
          "base_uri": "https://localhost:8080/"
        },
        "id": "92Qxa4XT3gP6",
        "outputId": "93bd21bb-490d-4cf9-99a9-22dc36ce1e85"
      },
      "execution_count": 18,
      "outputs": [
        {
          "output_type": "stream",
          "name": "stdout",
          "text": [
            "title: Add new CANINE model\n",
            "\n",
            "body: # 🌟 New model addition\r\n",
            "\r\n",
            "## Model description\r\n",
            "\r\n",
            "Google recently proposed a new **C**haracter **A**rchitecture with **N**o tokenization **I**n **N**eural **E**ncoders architecture (CANINE). Not only the title is exciting:\r\n",
            "\r\n",
            "> Pipelined NLP systems have largely been superseded by end-to-end neural modeling, yet nearly all commonly-used models still require an explicit tokenization step. While recent tokenization approaches based on data-derived subword lexicons are less brittle than manually en\n",
            "\n",
            "labels: ['new model']\n",
            "\n"
          ]
        }
      ]
    },
    {
      "cell_type": "markdown",
      "source": [
        "We can also see that the title contains information that will be useful for our classifier.\n",
        "\n",
        "So let’s concatenate it with the issue’s description in the body field."
      ],
      "metadata": {
        "id": "TyYCxPYQH9SM"
      }
    },
    {
      "cell_type": "code",
      "source": [
        "df_issues[\"text\"] = (df_issues.apply(lambda x: x[\"title\"] + \"\\n\\n\" + x[\"body\"], axis=1))"
      ],
      "metadata": {
        "id": "itsZdsa4ICbI"
      },
      "execution_count": 19,
      "outputs": []
    },
    {
      "cell_type": "code",
      "source": [
        "# let’s check for any duplicates in the data and drop them\n",
        "len_before = len(df_issues)\n",
        "df_issues = df_issues.drop_duplicates(subset=\"text\")\n",
        "print(f\"Removed {(len_before - len(df_issues)) // len_before:.2f} duplicates.\")"
      ],
      "metadata": {
        "id": "YOXr5MAAIa96",
        "outputId": "0e0f0c9f-b180-4198-9209-6ec576961ada",
        "colab": {
          "base_uri": "https://localhost:8080/"
        }
      },
      "execution_count": 20,
      "outputs": [
        {
          "output_type": "stream",
          "name": "stdout",
          "text": [
            "Removed 0.00 duplicates.\n"
          ]
        }
      ]
    },
    {
      "cell_type": "markdown",
      "source": [
        "It’s also a good idea to\n",
        "have a quick look at the number of words in our texts to see if we’ll lose much information\n",
        "when we truncate to each model’s context size."
      ],
      "metadata": {
        "id": "pral1oiuLtoS"
      }
    },
    {
      "cell_type": "code",
      "source": [
        "(df_issues[\"text\"].str.split().apply(len)).hist(bins=np.linspace(0, 500, 50), grid=False, edgecolor=\"C0\")\n",
        "plt.title(\"Words per issue\")\n",
        "plt.xlabel(\"Number of words\")\n",
        "plt.ylabel(\"Number of issues\")\n",
        "plt.show()"
      ],
      "metadata": {
        "id": "9y8oQhNhLwE-",
        "outputId": "3e3e3a41-f298-4cf8-9f14-ec1dbc88c917",
        "colab": {
          "base_uri": "https://localhost:8080/",
          "height": 295
        }
      },
      "execution_count": 21,
      "outputs": [
        {
          "output_type": "display_data",
          "data": {
            "text/plain": [
              "<Figure size 432x288 with 1 Axes>"
            ],
            "image/png": "[encoded data removed]"
          },
          "metadata": {
            "needs_background": "light"
          }
        }
      ]
    },
    {
      "cell_type": "markdown",
      "source": [
        "Most of the\n",
        "texts are fairly short, but there are also issues with more than 500 words.\n",
        "\n",
        "Given that most transformer models have a context size\n",
        "of 512 tokens or larger, truncating a handful of long issues is not likely to affect the overall performance."
      ],
      "metadata": {
        "id": "hArDJ7IJNkqM"
      }
    },
    {
      "cell_type": "markdown",
      "source": [
        "###Creating Training Sets"
      ],
      "metadata": {
        "id": "-LJqX5NaNteT"
      }
    },
    {
      "cell_type": "markdown",
      "source": [
        "Creating training and validation sets is a bit trickier for multlilabel problems because\n",
        "there is no guaranteed balance for all labels. However, it can be approximated, and we\n",
        "can use the [Scikit-multilearn library](http://scikit.ml/), which is specifically set up for this purpose."
      ],
      "metadata": {
        "id": "WHp-GStSNvbz"
      }
    },
    {
      "cell_type": "code",
      "source": [
        "# takes a list of label names and creates a vector with zeros for absent labels and ones for present labels\n",
        "mlb = MultiLabelBinarizer()\n",
        "mlb.fit([all_labels])\n",
        "mlb.transform([[\"tokenization\", \"new model\"], [\"pytorch\"]])"
      ],
      "metadata": {
        "id": "rPlKVHdEwaRU",
        "outputId": "2a3f4e24-924e-4c64-b11d-edc8560320bf",
        "colab": {
          "base_uri": "https://localhost:8080/"
        }
      },
      "execution_count": 22,
      "outputs": [
        {
          "output_type": "execute_result",
          "data": {
            "text/plain": [
              "array([[0, 0, 0, 1, 0, 0, 0, 1, 0],\n",
              "       [0, 0, 0, 0, 0, 1, 0, 0, 0]])"
            ]
          },
          "metadata": {},
          "execution_count": 22
        }
      ]
    },
    {
      "cell_type": "code",
      "source": [
        "def balanced_split(df, test_size=0.5):\n",
        "  index = np.expand_dims(np.arange(len(df)), axis=1)\n",
        "  labels = mlb.transform(df[\"labels\"])\n",
        "  # creates the train/test splits iteratively to achieve balanced labels\n",
        "  ind_train, _, ind_test, _ = iterative_train_test_split(index, labels, test_size)\n",
        "  return df.iloc[ind_train[:, 0]], df.iloc[ind_test[:, 0]]"
      ],
      "metadata": {
        "id": "l3WGQoE5yu5n"
      },
      "execution_count": 23,
      "outputs": []
    },
    {
      "cell_type": "markdown",
      "source": [
        "Now, we can split the data into supervised\n",
        "and unsupervised datasets, and then create balanced training, validation, and test sets."
      ],
      "metadata": {
        "id": "Xh-wki8h03Mu"
      }
    },
    {
      "cell_type": "code",
      "source": [
        "np.random.seed(0)\n",
        "\n",
        "df_clean = df_issues[[\"text\", \"labels\", \"split\"]].reset_index(drop=True).copy()\n",
        "\n",
        "df_unsup = df_clean.loc[df_clean[\"split\"] == \"unlabeled\", [\"text\", \"labels\"]]\n",
        "df_sup = df_clean.loc[df_clean[\"split\"] == \"labeled\", [\"text\", \"labels\"]]\n",
        "\n",
        "df_train, df_tmp = balanced_split(df_sup, test_size=0.5)\n",
        "df_valid, df_test = balanced_split(df_tmp, test_size=0.5)"
      ],
      "metadata": {
        "id": "S4HWCC3p04kh"
      },
      "execution_count": 24,
      "outputs": []
    },
    {
      "cell_type": "markdown",
      "source": [
        "Finally, let’s create a `DatasetDict` with all the splits so that we can easily tokenize the dataset and integrate with the `Trainer`."
      ],
      "metadata": {
        "id": "ma6o5B-72xG5"
      }
    },
    {
      "cell_type": "code",
      "source": [
        "ds = DatasetDict({\n",
        "  \"train\": Dataset.from_pandas(df_train.reset_index(drop=True)),\n",
        "  \"valid\": Dataset.from_pandas(df_valid.reset_index(drop=True)),\n",
        "  \"test\": Dataset.from_pandas(df_test.reset_index(drop=True)),\n",
        "  \"unsup\": Dataset.from_pandas(df_unsup.reset_index(drop=True)),\n",
        "})"
      ],
      "metadata": {
        "id": "AfXpuYnC21Np"
      },
      "execution_count": 25,
      "outputs": []
    },
    {
      "cell_type": "markdown",
      "source": [
        "###Creating Training Slices"
      ],
      "metadata": {
        "id": "62zFkJ-P4Buc"
      }
    },
    {
      "cell_type": "code",
      "source": [
        "np.random.seed(0)\n",
        "\n",
        "all_indices = np.expand_dims(list(range(len(ds[\"train\"]))), axis=1)\n",
        "indices_pool = all_indices\n",
        "labels = mlb.transform(ds[\"train\"][\"labels\"])\n",
        "train_samples = [8, 16, 32, 64, 128]\n",
        "train_slices, last_k = [], 0\n",
        "\n",
        "for i, k in enumerate(train_samples):\n",
        "  # Split off samples necessary to fill the gap to the next split size\n",
        "  indices_pool, labels, new_slice, _ = iterative_train_test_split(indices_pool, labels, (k - last_k) / len(labels))\n",
        "  last_k = k\n",
        "  if i == 0:\n",
        "    train_slices.append(new_slice)\n",
        "  else:\n",
        "    train_slices.append(np.concatenate((train_slices[-1], new_slice)))\n",
        "\n",
        "# Add full dataset as last slice\n",
        "train_slices.append(all_indices)\n",
        "train_samples.append(len(ds[\"train\"]))\n",
        "train_slices = [np.squeeze(train_slice) for train_slice in train_slices]"
      ],
      "metadata": {
        "id": "agPh7qveLWGT"
      },
      "execution_count": 26,
      "outputs": []
    },
    {
      "cell_type": "markdown",
      "source": [
        "Note that this iterative approach only approximately splits the samples to the desired\n",
        "size, since it is not always possible to find a balanced split at a given split size:"
      ],
      "metadata": {
        "id": "qJd8brJQQONP"
      }
    },
    {
      "cell_type": "code",
      "source": [
        "print(\"Target split sizes:\")\n",
        "print(train_samples)\n",
        "print(\"Actual split sizes:\")\n",
        "print([len(x) for x in train_slices])"
      ],
      "metadata": {
        "id": "YLi567yIRDum",
        "outputId": "c209d44e-1785-4349-872c-dc5cca334a17",
        "colab": {
          "base_uri": "https://localhost:8080/"
        }
      },
      "execution_count": 27,
      "outputs": [
        {
          "output_type": "stream",
          "name": "stdout",
          "text": [
            "Target split sizes:\n",
            "[8, 16, 32, 64, 128, 223]\n",
            "Actual split sizes:\n",
            "[10, 19, 36, 68, 134, 223]\n"
          ]
        }
      ]
    },
    {
      "cell_type": "markdown",
      "source": [
        "##Implementing Naive Bayesline"
      ],
      "metadata": {
        "id": "KonAZOdKSaoO"
      }
    },
    {
      "cell_type": "markdown",
      "source": [
        "For text classification, a great\n",
        "baseline is a Naive Bayes classifier as it is very simple, quick to train, and fairly robust\n",
        "to perturbations in the inputs. \n",
        "\n",
        "The Scikit-learn implementation of Naive Bayes does\n",
        "not support multilabel classification out of the box, but fortunately we can again use\n",
        "the Scikit-multilearn library to cast the problem as a one-versus-rest classification\n",
        "task where we train L binary classifiers for L labels.\n",
        "\n",
        "First, let’s use a multilabel binarizer\n",
        "to create a new label_ids column in our training sets."
      ],
      "metadata": {
        "id": "FBHHqyXkScL1"
      }
    },
    {
      "cell_type": "code",
      "source": [
        "def prepare_labels(batch):\n",
        "  batch[\"label_ids\"] = mlb.transform(batch[\"labels\"])\n",
        "  return batch\n",
        "\n",
        "ds = ds.map(prepare_labels, batched=True)"
      ],
      "metadata": {
        "id": "DF87pJ4ssSD9"
      },
      "execution_count": null,
      "outputs": []
    },
    {
      "cell_type": "markdown",
      "source": [
        "let’s create a defaultdict with a list to store the scores\n",
        "per split."
      ],
      "metadata": {
        "id": "QxM5Kse2tG9o"
      }
    },
    {
      "cell_type": "code",
      "source": [
        "macro_scores, micro_scores = defaultdict(list), defaultdict(list)"
      ],
      "metadata": {
        "id": "npYPfH71tGc8"
      },
      "execution_count": 29,
      "outputs": []
    },
    {
      "cell_type": "markdown",
      "source": [
        "Now we’re finally ready to train our baseline!"
      ],
      "metadata": {
        "id": "VzONXgTmtVAy"
      }
    },
    {
      "cell_type": "code",
      "source": [
        "for train_slice in train_slices:\n",
        "  # Get training slice and test data\n",
        "  ds_train_sample = ds[\"train\"].select(train_slice)\n",
        "  y_train = np.array(ds_train_sample[\"label_ids\"])\n",
        "  y_test = np.array(ds[\"test\"][\"label_ids\"])\n",
        "\n",
        "  # Use a simple count vectorizer to encode our texts as token counts\n",
        "  count_vec = CountVectorizer()\n",
        "  x_train_counts = count_vec.fit_transform(ds_train_sample[\"text\"])\n",
        "  x_test_counts = count_vec.transform(ds[\"test\"][\"text\"])\n",
        "\n",
        "  # Create and train our model!\n",
        "  classifier = BinaryRelevance(classifier=MultinomialNB())\n",
        "  classifier.fit(x_train_counts, y_train)\n",
        "\n",
        "  # Generate predictions and evaluate\n",
        "  y_pred_test = classifier.predict(x_test_counts)\n",
        "  clf_report = classification_report(y_test, y_pred_test, target_names=mlb.classes_, zero_division=0, output_dict=True)\n",
        "\n",
        "  # Store metrics\n",
        "  macro_scores[\"Naive Bayes\"].append(clf_report[\"macro avg\"][\"f1-score\"])\n",
        "  micro_scores[\"Naive Bayes\"].append(clf_report[\"micro avg\"][\"f1-score\"])"
      ],
      "metadata": {
        "id": "50oYMxy5tUdA"
      },
      "execution_count": 30,
      "outputs": []
    },
    {
      "cell_type": "markdown",
      "source": [
        "Let's plot the results of this experiment."
      ],
      "metadata": {
        "id": "uxNdyzJTwaMH"
      }
    },
    {
      "cell_type": "code",
      "source": [
        "plot_metrics(micro_scores, macro_scores, train_samples, \"Naive Bayes\")"
      ],
      "metadata": {
        "id": "2HQ3Hoe3wbvL",
        "outputId": "420f5436-a7f3-4e0d-ea9e-5e6444b6ee49",
        "colab": {
          "base_uri": "https://localhost:8080/",
          "height": 297
        }
      },
      "execution_count": 32,
      "outputs": [
        {
          "output_type": "display_data",
          "data": {
            "text/plain": [
              "<Figure size 720x288 with 2 Axes>"
            ],
            "image/png": "[encoded data removed]"
          },
          "metadata": {
            "needs_background": "light"
          }
        }
      ]
    },
    {
      "cell_type": "markdown",
      "source": [
        "##Working with No Labeled Data"
      ],
      "metadata": {
        "id": "jYBaZo8oxGzN"
      }
    },
    {
      "cell_type": "markdown",
      "source": [
        ""
      ],
      "metadata": {
        "id": "QJv51GgIxH7r"
      }
    }
  ]
}