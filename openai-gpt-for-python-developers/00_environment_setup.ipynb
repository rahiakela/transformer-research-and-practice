{
  "nbformat": 4,
  "nbformat_minor": 0,
  "metadata": {
    "colab": {
      "provenance": [],
      "authorship_tag": "ABX9TyMge/jBOMEU0kAW7CHffUL6",
      "include_colab_link": true
    },
    "kernelspec": {
      "name": "python3",
      "display_name": "Python 3"
    },
    "language_info": {
      "name": "python"
    }
  },
  "cells": [
    {
      "cell_type": "markdown",
      "metadata": {
        "id": "view-in-github",
        "colab_type": "text"
      },
      "source": [
        "<a href=\"https://colab.research.google.com/github/rahiakela/transformers-research-and-practice/blob/main/openai-gpt-for-python-developers/00_environment_setup.ipynb\" target=\"_parent\"><img src=\"https://colab.research.google.com/assets/colab-badge.svg\" alt=\"Open In Colab\"/></a>"
      ]
    },
    {
      "cell_type": "markdown",
      "source": [
        "##Setup"
      ],
      "metadata": {
        "id": "I1Aj48gxotET"
      }
    },
    {
      "cell_type": "code",
      "source": [
        "!pip install openai"
      ],
      "metadata": {
        "id": "KDyRIXxCoi2A"
      },
      "execution_count": null,
      "outputs": []
    },
    {
      "cell_type": "code",
      "source": [
        "!curl https://api.openai.com/v1/models -H \"Authorization: Bearer XXXX\""
      ],
      "metadata": {
        "id": "gHGLtX_PoxXk"
      },
      "execution_count": null,
      "outputs": []
    },
    {
      "cell_type": "code",
      "source": [
        "%%writefile .env\n",
        "API_KEY=XXXX"
      ],
      "metadata": {
        "colab": {
          "base_uri": "https://localhost:8080/"
        },
        "id": "Fq0V5ophpb50",
        "outputId": "7f7df6f8-0076-4b22-9a43-ac8374089ecf"
      },
      "execution_count": 4,
      "outputs": [
        {
          "output_type": "stream",
          "name": "stdout",
          "text": [
            "Writing .env\n"
          ]
        }
      ]
    },
    {
      "cell_type": "code",
      "source": [
        "import os\n",
        "import openai"
      ],
      "metadata": {
        "id": "4LWPGPFBpQV9"
      },
      "execution_count": 3,
      "outputs": []
    },
    {
      "cell_type": "code",
      "source": [
        "# reading variables from .env file, namely API_KEY and ORG_ID\n",
        "with open(\".env\") as env:\n",
        "  for line in env:\n",
        "    key, value = line.strip().split(\"=\")\n",
        "    os.environ[key] = value"
      ],
      "metadata": {
        "id": "22cRHX6JpSZZ"
      },
      "execution_count": 5,
      "outputs": []
    },
    {
      "cell_type": "code",
      "source": [
        "# Initializing the API key and organization id\n",
        "openai.api_key = os.environ.get(\"API_KEY\")"
      ],
      "metadata": {
        "id": "VKegtrqVqEGq"
      },
      "execution_count": 6,
      "outputs": []
    },
    {
      "cell_type": "code",
      "source": [
        "# Calling the API and listing models\n",
        "models = openai.Model.list()\n",
        "print(models.data[0])"
      ],
      "metadata": {
        "colab": {
          "base_uri": "https://localhost:8080/"
        },
        "id": "N7YBsgoMqXvS",
        "outputId": "faaf8826-f657-4449-edd3-1be5b6c1f8d9"
      },
      "execution_count": 19,
      "outputs": [
        {
          "output_type": "stream",
          "name": "stdout",
          "text": [
            "{\n",
            "  \"id\": \"whisper-1\",\n",
            "  \"object\": \"model\",\n",
            "  \"created\": 1677532384,\n",
            "  \"owned_by\": \"openai-internal\",\n",
            "  \"permission\": [\n",
            "    {\n",
            "      \"id\": \"modelperm-KlsZlfft3Gma8pI6A8rTnyjs\",\n",
            "      \"object\": \"model_permission\",\n",
            "      \"created\": 1683912666,\n",
            "      \"allow_create_engine\": false,\n",
            "      \"allow_sampling\": true,\n",
            "      \"allow_logprobs\": true,\n",
            "      \"allow_search_indices\": false,\n",
            "      \"allow_view\": true,\n",
            "      \"allow_fine_tuning\": false,\n",
            "      \"organization\": \"*\",\n",
            "      \"group\": null,\n",
            "      \"is_blocking\": false\n",
            "    }\n",
            "  ],\n",
            "  \"root\": \"whisper-1\",\n",
            "  \"parent\": null\n",
            "}\n"
          ]
        }
      ]
    },
    {
      "cell_type": "code",
      "source": [
        "[data.id for data in models.data]"
      ],
      "metadata": {
        "colab": {
          "base_uri": "https://localhost:8080/"
        },
        "id": "H6Ot9EbmrSvu",
        "outputId": "359e6f89-03c8-4e47-ccca-ee1da4de1cf4"
      },
      "execution_count": 21,
      "outputs": [
        {
          "output_type": "execute_result",
          "data": {
            "text/plain": [
              "['whisper-1',\n",
              " 'babbage',\n",
              " 'davinci',\n",
              " 'text-davinci-edit-001',\n",
              " 'babbage-code-search-code',\n",
              " 'text-similarity-babbage-001',\n",
              " 'text-embedding-ada-002',\n",
              " 'code-davinci-edit-001',\n",
              " 'text-davinci-001',\n",
              " 'ada',\n",
              " 'babbage-code-search-text',\n",
              " 'babbage-similarity',\n",
              " 'code-search-babbage-text-001',\n",
              " 'text-curie-001',\n",
              " 'code-search-babbage-code-001',\n",
              " 'gpt-3.5-turbo-0613',\n",
              " 'text-ada-001',\n",
              " 'text-similarity-ada-001',\n",
              " 'curie-instruct-beta',\n",
              " 'gpt-3.5-turbo',\n",
              " 'ada-code-search-code',\n",
              " 'ada-similarity',\n",
              " 'code-search-ada-text-001',\n",
              " 'text-search-ada-query-001',\n",
              " 'davinci-search-document',\n",
              " 'ada-code-search-text',\n",
              " 'text-search-ada-doc-001',\n",
              " 'davinci-instruct-beta',\n",
              " 'text-similarity-curie-001',\n",
              " 'code-search-ada-code-001',\n",
              " 'ada-search-query',\n",
              " 'text-search-davinci-query-001',\n",
              " 'curie-search-query',\n",
              " 'davinci-search-query',\n",
              " 'babbage-search-document',\n",
              " 'ada-search-document',\n",
              " 'text-search-curie-query-001',\n",
              " 'text-search-babbage-doc-001',\n",
              " 'curie-search-document',\n",
              " 'text-search-curie-doc-001',\n",
              " 'babbage-search-query',\n",
              " 'text-babbage-001',\n",
              " 'text-search-davinci-doc-001',\n",
              " 'text-search-babbage-query-001',\n",
              " 'curie-similarity',\n",
              " 'curie',\n",
              " 'text-similarity-davinci-001',\n",
              " 'text-davinci-002',\n",
              " 'gpt-3.5-turbo-0301',\n",
              " 'text-davinci-003',\n",
              " 'davinci-similarity',\n",
              " 'gpt-3.5-turbo-16k',\n",
              " 'gpt-3.5-turbo-16k-0613']"
            ]
          },
          "metadata": {},
          "execution_count": 21
        }
      ]
    },
    {
      "cell_type": "code",
      "source": [
        "def init_api():\n",
        "  with open(\".env\") as env:\n",
        "    for line in env:\n",
        "      key, value = line.strip().split(\"=\")\n",
        "      os.environ[key] = value\n",
        "  openai.api_key = os.environ.get(\"API_KEY\")"
      ],
      "metadata": {
        "id": "Ue-fZ7v5qo0O"
      },
      "execution_count": 22,
      "outputs": []
    },
    {
      "cell_type": "code",
      "source": [
        "init_api()"
      ],
      "metadata": {
        "id": "dT_3CKsOsWa7"
      },
      "execution_count": 23,
      "outputs": []
    },
    {
      "cell_type": "code",
      "source": [
        "models = openai.Model.list()\n",
        "[data.id for data in models.data]"
      ],
      "metadata": {
        "colab": {
          "base_uri": "https://localhost:8080/"
        },
        "id": "S-iz5DVAsbPP",
        "outputId": "4a3c1bb1-d378-49ed-9b4d-0552d727d52d"
      },
      "execution_count": 24,
      "outputs": [
        {
          "output_type": "execute_result",
          "data": {
            "text/plain": [
              "['whisper-1',\n",
              " 'babbage',\n",
              " 'davinci',\n",
              " 'text-davinci-edit-001',\n",
              " 'babbage-code-search-code',\n",
              " 'text-similarity-babbage-001',\n",
              " 'text-embedding-ada-002',\n",
              " 'code-davinci-edit-001',\n",
              " 'text-davinci-001',\n",
              " 'ada',\n",
              " 'babbage-code-search-text',\n",
              " 'babbage-similarity',\n",
              " 'code-search-babbage-text-001',\n",
              " 'text-curie-001',\n",
              " 'code-search-babbage-code-001',\n",
              " 'gpt-3.5-turbo-0613',\n",
              " 'text-ada-001',\n",
              " 'text-similarity-ada-001',\n",
              " 'curie-instruct-beta',\n",
              " 'gpt-3.5-turbo',\n",
              " 'ada-code-search-code',\n",
              " 'ada-similarity',\n",
              " 'code-search-ada-text-001',\n",
              " 'text-search-ada-query-001',\n",
              " 'davinci-search-document',\n",
              " 'ada-code-search-text',\n",
              " 'text-search-ada-doc-001',\n",
              " 'davinci-instruct-beta',\n",
              " 'text-similarity-curie-001',\n",
              " 'code-search-ada-code-001',\n",
              " 'ada-search-query',\n",
              " 'text-search-davinci-query-001',\n",
              " 'curie-search-query',\n",
              " 'davinci-search-query',\n",
              " 'babbage-search-document',\n",
              " 'ada-search-document',\n",
              " 'text-search-curie-query-001',\n",
              " 'text-search-babbage-doc-001',\n",
              " 'curie-search-document',\n",
              " 'text-search-curie-doc-001',\n",
              " 'babbage-search-query',\n",
              " 'text-babbage-001',\n",
              " 'text-search-davinci-doc-001',\n",
              " 'text-search-babbage-query-001',\n",
              " 'curie-similarity',\n",
              " 'curie',\n",
              " 'text-similarity-davinci-001',\n",
              " 'text-davinci-002',\n",
              " 'gpt-3.5-turbo-0301',\n",
              " 'text-davinci-003',\n",
              " 'davinci-similarity',\n",
              " 'gpt-3.5-turbo-16k',\n",
              " 'gpt-3.5-turbo-16k-0613']"
            ]
          },
          "metadata": {},
          "execution_count": 24
        }
      ]
    }
  ]
}