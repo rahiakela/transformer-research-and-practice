{
  "nbformat": 4,
  "nbformat_minor": 0,
  "metadata": {
    "colab": {
      "provenance": [],
      "toc_visible": true,
      "authorship_tag": "ABX9TyNq7/s46DRhuRD8W6oqMjMg",
      "include_colab_link": true
    },
    "kernelspec": {
      "name": "python3",
      "display_name": "Python 3"
    },
    "language_info": {
      "name": "python"
    }
  },
  "cells": [
    {
      "cell_type": "markdown",
      "metadata": {
        "id": "view-in-github",
        "colab_type": "text"
      },
      "source": [
        "<a href=\"https://colab.research.google.com/github/rahiakela/transformers-research-and-practice/blob/main/layout-lm-v3-works/01_document_classification_preprocessing.ipynb\" target=\"_parent\"><img src=\"https://colab.research.google.com/assets/colab-badge.svg\" alt=\"Open In Colab\"/></a>"
      ]
    },
    {
      "cell_type": "markdown",
      "source": [
        "##Setup"
      ],
      "metadata": {
        "id": "gK52p0GZQ_4J"
      }
    },
    {
      "cell_type": "code",
      "source": [
        "!pip install -qqq transformers==4.20.1 --progress-bar off\n",
        "!pip install -qqq pytorch-lightning==1.6.4 --progress-bar off\n",
        "!pip install -qqq selenium --progress-bar off\n",
        "!pip install -qqq Selenium-Screenshot --progress-bar off\n",
        "!pip install -qqq Pillow==9.0.1 --progress-bar off\n",
        "!pip install -qqq pytesseract --progress-bar off"
      ],
      "metadata": {
        "id": "lmewibnuRBBf"
      },
      "execution_count": null,
      "outputs": []
    },
    {
      "cell_type": "code",
      "source": [
        "!apt-get -qq update > /dev/null\n",
        "!apt-get -qq install chromium-chromedriver > /dev/null\n",
        "!apt-get -qq install tesseract-ocr > /dev/null"
      ],
      "metadata": {
        "id": "xth3q-2ESJtP"
      },
      "execution_count": null,
      "outputs": []
    },
    {
      "cell_type": "code",
      "source": [
        "!gdown 1tMZXonmajLPK9zhZ2dt-CdzRTs5YfHy0\n",
        "!unzip -q financial-documents.zip\n",
        "!mv \"TableClassifierQuaterlyWithNotes\" \"documents\""
      ],
      "metadata": {
        "colab": {
          "base_uri": "https://localhost:8080/"
        },
        "id": "YgaCelwLS-QO",
        "outputId": "808b0eda-fda7-4502-c04a-b7ce8a8f98e3"
      },
      "execution_count": null,
      "outputs": [
        {
          "output_type": "stream",
          "name": "stdout",
          "text": [
            "Downloading...\n",
            "From: https://drive.google.com/uc?id=1tMZXonmajLPK9zhZ2dt-CdzRTs5YfHy0\n",
            "To: /content/financial-documents.zip\n",
            "\r  0% 0.00/3.10M [00:00<?, ?B/s]\r100% 3.10M/3.10M [00:00<00:00, 189MB/s]\n"
          ]
        }
      ]
    },
    {
      "cell_type": "code",
      "source": [
        "from transformers import LayoutLMv3FeatureExtractor, LayoutLMv3TokenizerFast, LayoutLMv3Processor, LayoutLMv3ForSequenceClassification\n",
        "from selenium import webdriver\n",
        "from Screenshot import Screenshot\n",
        "from PIL import Image, ImageDraw\n",
        "import numpy as np\n",
        "import time\n",
        "from tqdm import tqdm\n",
        "import sys\n",
        "from pathlib import Path\n",
        "\n",
        "%matplotlib inline\n",
        "sys.path.insert(0, '/usr/lib/chromium-browser/chromiumdriver')"
      ],
      "metadata": {
        "id": "_4MCaevPTWeU"
      },
      "execution_count": null,
      "outputs": []
    },
    {
      "cell_type": "markdown",
      "source": [
        "## Data"
      ],
      "metadata": {
        "id": "G3cEbM72eZBm"
      }
    },
    {
      "cell_type": "code",
      "source": [
        "list(Path(\"documents\").glob(\"*\"))"
      ],
      "metadata": {
        "colab": {
          "base_uri": "https://localhost:8080/"
        },
        "id": "QyJM7K3iZEWS",
        "outputId": "f1fad8f6-e046-4caa-b2d2-9f4d751bb2fa"
      },
      "execution_count": null,
      "outputs": [
        {
          "output_type": "execute_result",
          "data": {
            "text/plain": [
              "[PosixPath('documents/Income Statement'),\n",
              " PosixPath('documents/Others'),\n",
              " PosixPath('documents/Balance Sheets'),\n",
              " PosixPath('documents/Notes'),\n",
              " PosixPath('documents/Cash Flow')]"
            ]
          },
          "metadata": {},
          "execution_count": 2
        }
      ]
    },
    {
      "cell_type": "code",
      "source": [
        "for dir in Path(\"documents\").glob(\"*\"):\n",
        "  dir.rename(str(dir).lower().replace(\" \", \"_\"))"
      ],
      "metadata": {
        "id": "1RV9kUqDZLKB"
      },
      "execution_count": null,
      "outputs": []
    },
    {
      "cell_type": "code",
      "source": [
        "list(Path(\"documents\").glob(\"*\"))"
      ],
      "metadata": {
        "colab": {
          "base_uri": "https://localhost:8080/"
        },
        "id": "Q6wq2KKqaK8x",
        "outputId": "64573400-6a01-41f5-b07c-28e028584e33"
      },
      "execution_count": null,
      "outputs": [
        {
          "output_type": "execute_result",
          "data": {
            "text/plain": [
              "[PosixPath('documents/notes'),\n",
              " PosixPath('documents/balance_sheets'),\n",
              " PosixPath('documents/others'),\n",
              " PosixPath('documents/income_statement'),\n",
              " PosixPath('documents/cash_flow')]"
            ]
          },
          "metadata": {},
          "execution_count": 4
        }
      ]
    },
    {
      "cell_type": "code",
      "source": [
        "from os.path import exists\n",
        "for dir in Path(\"documents\").glob(\"*\"):\n",
        "  image_dir = Path(f\"images/{dir.name}\")\n",
        "  image_dir.mkdir(exist_ok=True, parents=True)"
      ],
      "metadata": {
        "id": "9gM19P9tc5e8"
      },
      "execution_count": null,
      "outputs": []
    },
    {
      "cell_type": "code",
      "source": [
        "list(Path(\"images\").glob(\"*\"))"
      ],
      "metadata": {
        "colab": {
          "base_uri": "https://localhost:8080/"
        },
        "id": "mr584ZUeda-S",
        "outputId": "38ff4b06-ea19-4eeb-9003-33707efc2616"
      },
      "execution_count": null,
      "outputs": [
        {
          "output_type": "execute_result",
          "data": {
            "text/plain": [
              "[PosixPath('images/notes'),\n",
              " PosixPath('images/balance_sheets'),\n",
              " PosixPath('images/others'),\n",
              " PosixPath('images/income_statement'),\n",
              " PosixPath('images/cash_flow')]"
            ]
          },
          "metadata": {},
          "execution_count": 6
        }
      ]
    },
    {
      "cell_type": "markdown",
      "source": [
        "## HTML to PNG"
      ],
      "metadata": {
        "id": "lq8od0wQsUPj"
      }
    },
    {
      "cell_type": "code",
      "source": [
        "def create_chrome_driver() -> webdriver.Chrome:\n",
        "  chrome_options = webdriver.ChromeOptions()\n",
        "  chrome_options.add_argument('--headless')\n",
        "  chrome_options.add_argument('--no-sandbox')\n",
        "  chrome_options.add_argument('--disable-dev-shm-usage')\n",
        "  return webdriver.Chrome(options=chrome_options)"
      ],
      "metadata": {
        "id": "skQl7e37ecCz"
      },
      "execution_count": null,
      "outputs": []
    },
    {
      "cell_type": "code",
      "source": [
        "driver = create_chrome_driver()\n",
        "driver"
      ],
      "metadata": {
        "colab": {
          "base_uri": "https://localhost:8080/"
        },
        "id": "hT99wxuveu5G",
        "outputId": "ec1cbb69-1a49-423b-ead1-92c423675fb3"
      },
      "execution_count": null,
      "outputs": [
        {
          "output_type": "execute_result",
          "data": {
            "text/plain": [
              "<selenium.webdriver.chrome.webdriver.WebDriver (session=\"9d269a84bf19e89f343d4f1c9969ebf8\")>"
            ]
          },
          "metadata": {},
          "execution_count": 59
        }
      ]
    },
    {
      "cell_type": "code",
      "source": [
        "ob = Screenshot.Screenshot()\n",
        "#driver = webdriver.Chrome()\n",
        "url = \"https://github.com/sam4u3/Selenium_Screenshot/tree/master/test\"\n",
        "driver.get(url)\n",
        "img_url = ob.full_screenshot(driver, save_path=r'.', image_name='myimage.png', is_load_at_runtime=True,\n",
        "                                          load_wait_time=3)\n",
        "print(img_url)"
      ],
      "metadata": {
        "colab": {
          "base_uri": "https://localhost:8080/"
        },
        "id": "maxFKD8_0FAF",
        "outputId": "75c03175-01e6-49c0-8345-fcf575d479ea"
      },
      "execution_count": null,
      "outputs": [
        {
          "output_type": "stream",
          "name": "stdout",
          "text": [
            "/content/myimage.png\n"
          ]
        }
      ]
    },
    {
      "cell_type": "code",
      "source": [
        "!rm -rf images/notes/*"
      ],
      "metadata": {
        "id": "Prl4MBjW0sir"
      },
      "execution_count": null,
      "outputs": []
    },
    {
      "cell_type": "code",
      "source": [
        "# https://pypi.org/project/Selenium-Screenshot/\n",
        "def convert_html_to_image(driver: webdriver.Chrome, file_path: Path, image_dir: Path) -> Path:\n",
        "  driver.get(f\"file://content/{str(file_path)}\")\n",
        "\n",
        "  shot = Screenshot.Screenshot()\n",
        "  img_url = shot.full_screenshot(\n",
        "      driver,\n",
        "      save_path=f\"{str(image_dir)}/{file_path.parent.name}\",\n",
        "      image_name=file_path.with_suffix(\".png\").name,\n",
        "      is_load_at_runtime=True,\n",
        "      load_wait_time=3\n",
        "  )\n",
        "  return Path(img_url)"
      ],
      "metadata": {
        "id": "hgl8lra4fFHU"
      },
      "execution_count": null,
      "outputs": []
    },
    {
      "cell_type": "code",
      "source": [
        "list(Path(\"documents\").glob(\"*/*\"))[:5]"
      ],
      "metadata": {
        "colab": {
          "base_uri": "https://localhost:8080/"
        },
        "id": "pOepKX7ZjaKI",
        "outputId": "61113385-0ac9-427b-eb8e-27aec5fe5432"
      },
      "execution_count": null,
      "outputs": [
        {
          "output_type": "execute_result",
          "data": {
            "text/plain": [
              "[PosixPath('documents/notes/18989758_table_127.html'),\n",
              " PosixPath('documents/notes/18793895_table_214.html'),\n",
              " PosixPath('documents/notes/18599651_table_185.html'),\n",
              " PosixPath('documents/notes/18646845_table_93.html'),\n",
              " PosixPath('documents/notes/18646845_table_60.html')]"
            ]
          },
          "metadata": {},
          "execution_count": 30
        }
      ]
    },
    {
      "cell_type": "code",
      "source": [
        "documents_path = list(Path(\"documents\").glob(\"*/*\"))[:10]\n",
        "for doc_path in tqdm(documents_path):\n",
        "  convert_html_to_image(driver, doc_path, Path(\"images\"))"
      ],
      "metadata": {
        "colab": {
          "base_uri": "https://localhost:8080/"
        },
        "id": "To69FORqqdM9",
        "outputId": "defae211-69c6-41ed-f805-1d172e4d5f2d"
      },
      "execution_count": null,
      "outputs": [
        {
          "output_type": "stream",
          "name": "stderr",
          "text": [
            "100%|██████████| 10/10 [00:51<00:00,  5.17s/it]\n"
          ]
        }
      ]
    },
    {
      "cell_type": "code",
      "source": [
        "list(Path(\"images\").glob(\"*/*\"))[:5]"
      ],
      "metadata": {
        "colab": {
          "base_uri": "https://localhost:8080/"
        },
        "id": "RX0OqB1kq0cd",
        "outputId": "8855684d-0d23-4917-881a-3d8623e4f683"
      },
      "execution_count": null,
      "outputs": [
        {
          "output_type": "execute_result",
          "data": {
            "text/plain": [
              "[PosixPath('images/notes/18599651_table_185.png'),\n",
              " PosixPath('images/notes/19034589_table_69.png'),\n",
              " PosixPath('images/notes/19005595_table_237.png'),\n",
              " PosixPath('images/notes/18646845_table_93.png'),\n",
              " PosixPath('images/notes/18646845_table_60.png')]"
            ]
          },
          "metadata": {},
          "execution_count": 39
        }
      ]
    },
    {
      "cell_type": "code",
      "source": [
        "image_paths = list(Path(\"images\").glob(\"*/*\"))\n",
        "\n",
        "image = Image.open(image_paths[3]).convert(\"RGB\")\n",
        "image"
      ],
      "metadata": {
        "id": "cmJFLDtSr_6A",
        "colab": {
          "base_uri": "https://localhost:8080/",
          "height": 503
        },
        "outputId": "f7129ead-dfee-4f5d-a844-5c3c105a6aaf"
      },
      "execution_count": null,
      "outputs": [
        {
          "output_type": "execute_result",
          "data": {
            "text/plain": [
              "<PIL.Image.Image image mode=RGB size=1904x1080 at 0x78FAFAD2A680>"
            ],
            "image/png": "[encoded data removed]"
          },
          "metadata": {},
          "execution_count": 48
        }
      ]
    },
    {
      "cell_type": "code",
      "source": [
        "image_paths"
      ],
      "metadata": {
        "colab": {
          "base_uri": "https://localhost:8080/"
        },
        "id": "itVb1J11x9Gy",
        "outputId": "a76781df-9253-45cf-e658-8e2b43cf5245"
      },
      "execution_count": null,
      "outputs": [
        {
          "output_type": "execute_result",
          "data": {
            "text/plain": [
              "[PosixPath('images/notes/18599651_table_185.png'),\n",
              " PosixPath('images/notes/19034589_table_69.png'),\n",
              " PosixPath('images/notes/19005595_table_237.png'),\n",
              " PosixPath('images/notes/18646845_table_93.png'),\n",
              " PosixPath('images/notes/18646845_table_60.png'),\n",
              " PosixPath('images/notes/18612942_table_33.png'),\n",
              " PosixPath('images/notes/18630222_table_81.png'),\n",
              " PosixPath('images/notes/18793895_table_214.png'),\n",
              " PosixPath('images/notes/18989758_table_127.png'),\n",
              " PosixPath('images/notes/18599651_table_177.png')]"
            ]
          },
          "metadata": {},
          "execution_count": 14
        }
      ]
    }
  ]
}