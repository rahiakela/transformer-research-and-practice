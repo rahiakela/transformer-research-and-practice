{
  "nbformat": 4,
  "nbformat_minor": 0,
  "metadata": {
    "colab": {
      "name": "1-tabular-column-type-classification-data.ipynb",
      "provenance": [],
      "authorship_tag": "ABX9TyOXCYLRcz+7WuJnTU9Wxftc",
      "include_colab_link": true
    },
    "kernelspec": {
      "name": "python3",
      "display_name": "Python 3"
    },
    "language_info": {
      "name": "python"
    }
  },
  "cells": [
    {
      "cell_type": "markdown",
      "metadata": {
        "id": "view-in-github",
        "colab_type": "text"
      },
      "source": [
        "<a href=\"https://colab.research.google.com/github/rahiakela/transfer-learning-for-natural-language-processing/blob/main/5-preprocessing-data-for-rnn-transfer-learning/1_tabular_column_type_classification_data.ipynb\" target=\"_parent\"><img src=\"https://colab.research.google.com/assets/colab-badge.svg\" alt=\"Open In Colab\"/></a>"
      ]
    },
    {
      "cell_type": "markdown",
      "metadata": {
        "id": "pd6C7crltjz2"
      },
      "source": [
        "## Tabular Column Type Classification Data"
      ]
    },
    {
      "cell_type": "markdown",
      "metadata": {
        "id": "xNewLY3Wtksl"
      },
      "source": [
        "Here, we are interested in developing an algorithm that can ingest a tabular dataset and determine for the user which fundamental type is in each column, i.e., which columns are integer, string, float, address, etc. \n",
        "\n",
        "The key motivation for doing this is that an automatic machine learning\n",
        "system can decide what to do with the input tabular data – an important kind of data encountered in practice – based on this information. \n",
        "\n",
        "Detected latitude and longitude coordinate values could be plotted on a map and displayed to the user, for instance. \n",
        "\n",
        "Detected float columns could be potential candidate inputs or outputs of a regression problem, categorical columns are candidates for classification problem dependent variables, etc.\n",
        "\n",
        "<img src='https://github.com/rahiakela/img-repo/blob/master/transfer-learning-for-natural-language-processing/tabular-column-data-1.png?raw=1' width='800'/>\n",
        "\n",
        "We stress that this is a multilabel multiclass problem, since there are multiple possible classes for each input example, and each input sample can be assigned multiple such classes.\n",
        "\n",
        "For instance, the first column `Customer ID` has multiple output labels, namely\n",
        "`categorical` and `int`. This also helps to handle the cases where the input columns are not `clean` in the sense that they contain multiple types – such columns can be labeled with all types present and passed to a relevant parser for further cleaning, for instance."
      ]
    },
    {
      "cell_type": "markdown",
      "metadata": {
        "id": "3T30SOIY00tW"
      },
      "source": [
        "## Setup"
      ]
    },
    {
      "cell_type": "code",
      "metadata": {
        "id": "9Jokg6Em012b"
      },
      "source": [
        "import tensorflow as tf\n",
        "\n",
        "print(tf.__version__)"
      ],
      "execution_count": null,
      "outputs": []
    },
    {
      "cell_type": "code",
      "metadata": {
        "id": "x5t71age1D3x"
      },
      "source": [
        "import numpy as np  # linear algebra\n",
        "import pandas as pd # data processing, CSV file I/O (e.g. pd.read_csv)\n",
        "import random\n",
        "import re\n",
        "import os\n",
        "import time\n",
        "import email\n",
        "\n",
        "from tensorflow.keras.models import Model\n",
        "from tensorflow.keras.layers import Input, Dense, Dropout, concatenate\n",
        "\n",
        "from sklearn.preprocessing import StandardScaler, MinMaxScaler\n",
        "\n",
        "import nltk\n",
        "nltk.download('stopwords')\n",
        "from nltk.corpus import stopwords\n",
        "\n",
        "import sent2vec\n",
        "\n",
        "import matplotlib.pyplot as plt\n",
        "from IPython.display import HTML"
      ],
      "execution_count": null,
      "outputs": []
    }
  ]
}