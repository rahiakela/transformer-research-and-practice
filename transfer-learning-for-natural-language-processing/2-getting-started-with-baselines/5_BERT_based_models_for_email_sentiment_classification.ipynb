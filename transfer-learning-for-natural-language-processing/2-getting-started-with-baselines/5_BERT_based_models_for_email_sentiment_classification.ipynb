{
  "nbformat": 4,
  "nbformat_minor": 0,
  "metadata": {
    "colab": {
      "name": "5-BERT-based-models-for-email-sentiment-classification.ipynb",
      "provenance": [],
      "toc_visible": true,
      "authorship_tag": "ABX9TyM0D405l70jnPms/3oVc0mo",
      "include_colab_link": true
    },
    "kernelspec": {
      "name": "python3",
      "display_name": "Python 3"
    },
    "accelerator": "GPU"
  },
  "cells": [
    {
      "cell_type": "markdown",
      "metadata": {
        "id": "view-in-github",
        "colab_type": "text"
      },
      "source": [
        "<a href=\"https://colab.research.google.com/github/rahiakela/transfer-learning-for-natural-language-processing/blob/main/2-getting-started-with-baselines/5_BERT_based_models_for_email_sentiment_classification.ipynb\" target=\"_parent\"><img src=\"https://colab.research.google.com/assets/colab-badge.svg\" alt=\"Open In Colab\"/></a>"
      ]
    },
    {
      "cell_type": "markdown",
      "metadata": {
        "id": "0syenf2nUMgZ"
      },
      "source": [
        "# BERT based models for Email Sentiment Classification"
      ]
    },
    {
      "cell_type": "markdown",
      "metadata": {
        "id": "0Tvj1R7TUOC2"
      },
      "source": [
        "Our goal is to establish a set of baselines for a pair of concrete NLP problems, which we will later be able to use to measure progressive improvements gained from leveraging increasingly sophisticated transfer learning\r\n",
        "approaches. In the process of doing this, we aim to advance your general NLP instincts and refresh your understanding of typical procedures involved in setting up problem-solving pipelines for such problems. You will review techniques ranging from tokenization to data structure and model selection. We first train some traditional machine learning models from scratch to establish some preliminary baselines for these problems.\r\n",
        "\r\n",
        "We will focus on a pair of important representative example NLP problems – spam\r\n",
        "classification of email, and sentiment classification of movie reviews. This exercise will arm you with a number of important skills, including some tips for obtaining, visualizing and preprocessing data. \r\n",
        "\r\n",
        "Three major model classes will be covered, namely linear models such as logistic regression, decision-tree-based models such as random forests, and neural-network-based models such as ELMo. These classes are additionally represented by support vector machines (SVMs) with linear kernels, gradient-boosting machines (GBMs) and BERT respectively. \r\n",
        "\r\n",
        "<img src='https://github.com/rahiakela/img-repo/blob/master/transfer-learning-for-natural-language-processing/content-classification-supervised-models.png?raw=1' width='800'/>\r\n",
        "\r\n"
      ]
    },
    {
      "cell_type": "markdown",
      "metadata": {
        "id": "inPFIdfP7n4K"
      },
      "source": [
        "## Setup"
      ]
    },
    {
      "cell_type": "markdown",
      "metadata": {
        "id": "I-Pp-FuGn8Ej"
      },
      "source": [
        "Ref: https://stackoverflow.com/questions/57742410/error-on-scope-variable-while-using-tensorflow-hub"
      ]
    },
    {
      "cell_type": "code",
      "metadata": {
        "id": "f7SakR1eElHP"
      },
      "source": [
        "%%shell\r\n",
        "\r\n",
        "pip install keras==2.2.4 # critical dependency\r\n",
        "pip install tensorboard==1.14.0\r\n",
        "pip install -q bert-tensorflow"
      ],
      "execution_count": null,
      "outputs": []
    },
    {
      "cell_type": "code",
      "metadata": {
        "id": "Xlt8No657pZ_"
      },
      "source": [
        "import numpy as np  # linear algebra\r\n",
        "import pandas as pd # data processing, CSV file I/O (e.g. pd.read_csv)\r\n",
        "import email        # email package for processing email messages\r\n",
        "import random\r\n",
        "import re\r\n",
        "import time\r\n",
        "from tqdm import tqdm\r\n",
        "\r\n",
        "\r\n",
        "import tensorflow as tf\r\n",
        "import tensorflow_hub as hub\r\n",
        "from tensorflow.keras import backend as K\r\n",
        "\r\n",
        "from bert.tokenization import FullTokenizer\r\n",
        "\r\n",
        "import nltk\r\n",
        "nltk.download('stopwords')\r\n",
        "from nltk.corpus import stopwords\r\n",
        "\r\n",
        "import matplotlib.pyplot as plt"
      ],
      "execution_count": null,
      "outputs": []
    },
    {
      "cell_type": "code",
      "metadata": {
        "id": "tzDJNq2Xkz29"
      },
      "source": [
        "# Initialize tensorflow session\r\n",
        "sess = tf.Session()"
      ],
      "execution_count": null,
      "outputs": []
    },
    {
      "cell_type": "code",
      "metadata": {
        "id": "JQ8un4hI7uw1"
      },
      "source": [
        "from google.colab import files\r\n",
        "files.upload() # upload kaggle.json file"
      ],
      "execution_count": null,
      "outputs": []
    },
    {
      "cell_type": "code",
      "metadata": {
        "id": "wJKVZMbo7va7"
      },
      "source": [
        "%%shell\r\n",
        "\r\n",
        "mkdir -p ~/.kaggle\r\n",
        "mv kaggle.json ~/.kaggle/\r\n",
        "ls ~/.kaggle\r\n",
        "chmod 600 /root/.kaggle/kaggle.json\r\n",
        "\r\n",
        "# download dataset from kaggle\r\n",
        "kaggle datasets download -d wcukierski/enron-email-dataset\r\n",
        "unzip -qq enron-email-dataset.zip\r\n",
        "\r\n",
        "kaggle datasets download -d rtatman/fraudulent-email-corpus\r\n",
        "unzip -qq fraudulent-email-corpus.zip\r\n",
        "\r\n",
        "rm -rf enron-email-dataset.zip fraudulent-email-corpus.zip"
      ],
      "execution_count": null,
      "outputs": []
    },
    {
      "cell_type": "code",
      "metadata": {
        "id": "Srh_wOUmwefT"
      },
      "source": [
        "def extract_messages(df):\r\n",
        "  messages = []\r\n",
        "  for item in df[\"message\"]:\r\n",
        "    # Return a message object structure from a string\r\n",
        "    e = email.message_from_string(item)\r\n",
        "    # get message body\r\n",
        "    message_body = e.get_payload()\r\n",
        "    messages.append(message_body)\r\n",
        "  print(\"Successfully retrieved message body from e-mails!\")\r\n",
        "  return messages"
      ],
      "execution_count": null,
      "outputs": []
    },
    {
      "cell_type": "markdown",
      "metadata": {
        "id": "zQbAbRM7Wtfs"
      },
      "source": [
        "## Preprocessing Email Spam Data"
      ]
    },
    {
      "cell_type": "markdown",
      "metadata": {
        "id": "HplaHzeVWwfg"
      },
      "source": [
        "Here, we are interested in developing an algorithm that can detect whether any given email is spam or not, at scale. To do this, we will build a dataset from two separate sources – the popular Enron email corpus as a proxy for email that is not spam, and a collection of “419” fraudulent emails as a proxy for email that is spam.\r\n",
        "\r\n",
        "We will view this as a supervised classification task, where we will first train a classifier on a collection of emails labeled as either spam or not spam. \r\n",
        "\r\n",
        "In particular, we will sample the Enron Corpus – the largest public email collection, related to the notorious Enron financial scandal – as a proxy for email that are not spam, and sample “419” fraudulent emails, representing the best known type of spam, as a proxy for email that is spam. Both of these types of emails are openly available on [Kaggle](https://www.kaggle.com/wcukierski/enron-email-dataset).\r\n",
        "\r\n",
        "The Enron corpus contains about half a million emails written by employees of the Enron Corporation, as collected by the Federal Energy Commission for the purposes of investigating the collapse of the company. It has been used extensively in the literature to study machine learning methods for email applications and is often the first data source researchers working with emails look to for initial experimentation with algorithm prototypes. On Kaggle, it is\r\n",
        "available as a single-column .csv file with one email per row. Note that this data is still cleaner than one can expect to typically find in many practical applications in the wild.\r\n",
        "\r\n",
        "<img src='https://github.com/rahiakela/img-repo/blob/master/transfer-learning-for-natural-language-processing/spam-email-preprocessing.png?raw=1' width='800'/>\r\n",
        "\r\n",
        "The body of the email will first be separated from the headers of the email, some statistics about the dataset will be teased out to get a sense for the data, stopwords will be removed from the email, and it will then be classified as either spam or not spam."
      ]
    },
    {
      "cell_type": "markdown",
      "metadata": {
        "id": "Yl9EgWVOay5R"
      },
      "source": [
        "### Loading and Visualizing the Fraudulent Email Corpus"
      ]
    },
    {
      "cell_type": "markdown",
      "metadata": {
        "id": "U6g1Yz69a-w7"
      },
      "source": [
        "Let’s load the “419” fraudulent email corpus, so that we can have some example data in our training set representing the “spam” class.\r\n",
        "\r\n",
        "> Since this dataset comes as a .txt file, versus a .csv, the preprocessing steps are slightly different. First\r\n",
        "of all, we have to specify the encoding when reading the file as latin1, otherwise the default encoding option of\r\n",
        "utf-8 will fail. It is often the case in practice that one needs to experiment with a number of different encodings,\r\n",
        "with the aforementioned two being the most popular ones, to get some datasets to read correctly. Additionally,\r\n",
        "note that because this .txt file is one big column of emails (with headers) separated by line breaks and white\r\n",
        "space, and is not separated nicely into rows with one email per row – as was the case for the Enron corpus – we\r\n",
        "can’t use Pandas to neatly load it as was done before. We will read all the emails into a single string, and split\r\n",
        "the string on a code word that appears close to the beginning of each email’s header, i.e, “From r”."
      ]
    },
    {
      "cell_type": "code",
      "metadata": {
        "id": "KoaktA_bbB7e"
      },
      "source": [
        "filepath = \"./fradulent_emails.txt\"\r\n",
        "with open(filepath, \"r\", encoding=\"latin1\") as file:\r\n",
        "  data = file.read()"
      ],
      "execution_count": null,
      "outputs": []
    },
    {
      "cell_type": "markdown",
      "metadata": {
        "id": "4bmdi9UxbHDo"
      },
      "source": [
        "Split on the code word From r appearing close to the beginning of each email"
      ]
    },
    {
      "cell_type": "code",
      "metadata": {
        "id": "DydgG-oQbJcL"
      },
      "source": [
        "fraud_emails = data.split(\"From r\")\r\n",
        "print(\"Successfully loaded {} spam emails!\".format(len(fraud_emails)))"
      ],
      "execution_count": null,
      "outputs": []
    },
    {
      "cell_type": "markdown",
      "metadata": {
        "id": "IqSaPXPlbLfb"
      },
      "source": [
        "Now that the fraudulent data is loaded as a list, we can convert it into a Pandas DataFrame."
      ]
    },
    {
      "cell_type": "code",
      "metadata": {
        "id": "boolbOhybOhv"
      },
      "source": [
        "fraud_bodies = extract_messages(pd.DataFrame(fraud_emails, columns=[\"message\"], dtype=str))\r\n",
        "fraud_bodies_df = pd.DataFrame(fraud_bodies[1:])\r\n",
        "\r\n",
        "fraud_bodies_df.head()"
      ],
      "execution_count": null,
      "outputs": []
    },
    {
      "cell_type": "markdown",
      "metadata": {
        "id": "ZFjsooY28CFg"
      },
      "source": [
        "### Loading and Visualizing the Enron Corpus"
      ]
    },
    {
      "cell_type": "markdown",
      "metadata": {
        "id": "K9JO_OyeelZC"
      },
      "source": [
        "The first thing we need to do is load the data with the popular Pandas library, and to take a peek at a slice of the data to make sure we have a good sense of what it looks like."
      ]
    },
    {
      "cell_type": "code",
      "metadata": {
        "id": "5qxnwX82fZAE"
      },
      "source": [
        "filepath = \"./emails.csv\"\r\n",
        "\r\n",
        "# Read the enron data into a pandas.DataFrame called emails\r\n",
        "emails = pd.read_csv(filepath)\r\n",
        "print(\"Successfully loaded {} rows and {} columns!\".format(emails.shape[0], emails.shape[1]))\r\n",
        "print(emails.head())"
      ],
      "execution_count": null,
      "outputs": []
    },
    {
      "cell_type": "code",
      "metadata": {
        "id": "-rYJUDMShrGg"
      },
      "source": [
        "# take a closer look at the first email\r\n",
        "print(emails.loc[0][\"message\"])"
      ],
      "execution_count": null,
      "outputs": []
    },
    {
      "cell_type": "markdown",
      "metadata": {
        "id": "ZG5cG3UpiqNs"
      },
      "source": [
        "We see that the messages are contained within the message column of the resulting DataFrame, with the extra fields at the beginning of each message – including Message ID, To, From, etc.,– being referred to as the message’s header information or simply header.\r\n",
        "\r\n",
        "Traditional spam classification methods derive features from the header information for classifying the message as spam or not. Here, we would like to perform the same task based on the content of the message only. One possible motivation for this approach is the fact that email training data may often be de-identified in practice due to privacy concerns and regulations, thereby making header info unavailable. Thus, we need to separate the headers from the messages in our dataset."
      ]
    },
    {
      "cell_type": "code",
      "metadata": {
        "id": "m3t4cgehjw3t"
      },
      "source": [
        "bodies = extract_messages(emails)"
      ],
      "execution_count": null,
      "outputs": []
    },
    {
      "cell_type": "code",
      "metadata": {
        "id": "sp43leIyj6iB"
      },
      "source": [
        "# We then can display some processed emails\r\n",
        "bodies_df = pd.DataFrame(bodies)\r\n",
        "print(bodies_df.head())"
      ],
      "execution_count": null,
      "outputs": []
    },
    {
      "cell_type": "code",
      "metadata": {
        "id": "m8b-w2r3kbRK"
      },
      "source": [
        "# extract random 10000 enron email bodies for building dataset\r\n",
        "bodies_df = pd.DataFrame(random.sample(bodies, 10000))\r\n",
        "\r\n",
        "# expand default pandas display options to make emails more clearly visible when printed\r\n",
        "pd.set_option(\"display.max_colwidth\", 300)\r\n",
        "# you could do print(bodies_df.head()), but Jupyter displays this nicer for pandas DataFrames\r\n",
        "bodies_df.head()"
      ],
      "execution_count": null,
      "outputs": []
    },
    {
      "cell_type": "markdown",
      "metadata": {
        "id": "HjzHW02yni9B"
      },
      "source": [
        "The following (commented out) code is arguably the more \"pythonic\" way of achieving the extraction of bodies from messages. It is only 2 lines long and achieves the same result."
      ]
    },
    {
      "cell_type": "code",
      "metadata": {
        "id": "3g87bYPnnjNe"
      },
      "source": [
        "#messages = emails[\"message\"].apply(email.message_from_string)\r\n",
        "#bodies_df = messages.apply(lambda x: x.get_payload()).sample(10000)"
      ],
      "execution_count": null,
      "outputs": []
    },
    {
      "cell_type": "markdown",
      "metadata": {
        "id": "rsXoqMRdwC65"
      },
      "source": [
        "### Email text preprocessing"
      ]
    },
    {
      "cell_type": "markdown",
      "metadata": {
        "id": "UeeYY2_OuxYw"
      },
      "source": [
        "Having loaded both datasets, we are now ready to sample emails from each one into a single DataFrame that will represent the overall dataset covering both classes of emails. Before doing this, we must decide how many samples to draw from each class. Ideally, the number of samples in each class will represent the natural distribution of emails in the wild, i.e, if we expect our classifier to encounter 60% spam emails and 40% nonspam emails when deployed, then a ratio such as 600 to 400 respectively might make sense.\r\n",
        "\r\n",
        "**Note that a severe imbalance in the data, such as 99% for nonspam and 1% for spam may overfit to predict nonspam most of the time, an issue than needs to be considered when building datasets.** Since this is an idealized experiment, and we do not have any information on natural distributions of classes, we will\r\n",
        "assume a 50/50 split. \r\n",
        "\r\n",
        "We also need to give some thought to how we are going to tokenize the emails, i.e., split emails into subunits of text - words, sentences, etc. To start off, we will tokenize into words, as this is the most common approach. \r\n",
        "\r\n",
        "We must also decide the maximum number of tokens per email, and the maximum length of each token, to ensure that the occasional “extremely long” email does not bog down the performance of our classifier. \r\n",
        "\r\n",
        "We do all these by specifying the following general hyperparameters, which will later be tuned experimentally to enhance performance as needed:"
      ]
    },
    {
      "cell_type": "code",
      "metadata": {
        "id": "7_qzNMcNsGh-"
      },
      "source": [
        "n_sample = 1000   # number of samples to generate in each class - 'spam', 'not spam'\r\n",
        "maxtokens = 200    # the maximum number of tokens per document\r\n",
        "maxtokenlen = 100  # the maximum length of each token"
      ],
      "execution_count": null,
      "outputs": []
    },
    {
      "cell_type": "markdown",
      "metadata": {
        "id": "QRVD-qopxT2f"
      },
      "source": [
        "With these hyperparameters specified, we can now create a single DataFrame for the overarching training dataset. Let’s take the opportunity to also perform remaining preprocessing tasks, namely removing stop words, punctuations and tokenizing."
      ]
    },
    {
      "cell_type": "markdown",
      "metadata": {
        "id": "I2OTWZJ6w9-J"
      },
      "source": [
        "#### Tokenization"
      ]
    },
    {
      "cell_type": "markdown",
      "metadata": {
        "id": "A-dJjXYvxaK9"
      },
      "source": [
        "Let’s proceed by defining a function to tokenize emails by splitting them into words."
      ]
    },
    {
      "cell_type": "code",
      "metadata": {
        "id": "42b-458pwdRh"
      },
      "source": [
        "def tokenize(row):\r\n",
        "  if row is None or row is \"\":\r\n",
        "    tokens = \"\"\r\n",
        "  else:\r\n",
        "    tokens = str(row).split(\" \")[:maxtokens]\r\n",
        "  return tokens"
      ],
      "execution_count": null,
      "outputs": []
    },
    {
      "cell_type": "markdown",
      "metadata": {
        "id": "5_viulZEyUNO"
      },
      "source": [
        "#### Remove punctuation and unnecessary characters"
      ]
    },
    {
      "cell_type": "markdown",
      "metadata": {
        "id": "4MOkUJbxyUeG"
      },
      "source": [
        "Taking another look at the emails on the previous pair of pages, we see that they contain a lot of punctuation characters, and the spam emails tend to be capitalized. \r\n",
        "\r\n",
        "**In order to ensure that classification is done based on language content only, we have to remove punctuation marks and other non-word characters from the emails.** We do this by employing regular expressions with the Python regex library. We also normalize words by turning them into lower case."
      ]
    },
    {
      "cell_type": "code",
      "metadata": {
        "id": "2n-aNOVNx3mC"
      },
      "source": [
        "def reg_expressions(row):\r\n",
        "  tokens = []\r\n",
        "  try:\r\n",
        "    for token in row:\r\n",
        "      token = token.lower()          # make all characters lower case\r\n",
        "      token = re.sub(r\"[\\W\\d]\", \"\", token)\r\n",
        "      token = token[:maxtokenlen]    # truncate all tokens to hyperparameter maxtokenlen\r\n",
        "      tokens.append(token)\r\n",
        "  except:\r\n",
        "    token = \"\"\r\n",
        "    tokens.append(token)\r\n",
        "  return tokens"
      ],
      "execution_count": null,
      "outputs": []
    },
    {
      "cell_type": "markdown",
      "metadata": {
        "id": "Ubr6_29dzvyA"
      },
      "source": [
        "#### Stop-word removal"
      ]
    },
    {
      "cell_type": "markdown",
      "metadata": {
        "id": "VjpNoFWhzwqu"
      },
      "source": [
        "Finally, let’s define a function to remove stopwords - words that occur so frequently in language that they offer no useful information for classification. This includes words such as “the” and “are”, and the popular library NLTK provides a heavily used list that we will employ."
      ]
    },
    {
      "cell_type": "code",
      "metadata": {
        "id": "75fyCvyDzpFd"
      },
      "source": [
        "stop_words = stopwords.words(\"english\")\r\n",
        "\r\n",
        "def stop_word_removal(row):\r\n",
        "  token = [token for token in row if token not in stop_words]\r\n",
        "  token = filter(None, token)\r\n",
        "\r\n",
        "  return token"
      ],
      "execution_count": null,
      "outputs": []
    },
    {
      "cell_type": "markdown",
      "metadata": {
        "id": "2A14TaVP2Rro"
      },
      "source": [
        "### Assemble both Datasets"
      ]
    },
    {
      "cell_type": "markdown",
      "metadata": {
        "id": "BwhmZaVb2VDS"
      },
      "source": [
        "We are now going to put all these functions together to build the single dataset representing both classes. Most methods expect this dataset to be a Numpy array in order to process it, so we convert it to that form after combining the emails.\r\n",
        "\r\n",
        "Now, putting all the preprocessing steps together we assemble our dataset..."
      ]
    },
    {
      "cell_type": "code",
      "metadata": {
        "id": "V2rjwJFC0i7U"
      },
      "source": [
        "# Convert everything to lower-case, truncate to maxtokens and truncate each token to maxtokenlen\r\n",
        "\r\n",
        "# Apply predefined processing functions\r\n",
        "enron_emails = bodies_df.iloc[:, 0].apply(tokenize)\r\n",
        "enron_emails = enron_emails.apply(stop_word_removal)\r\n",
        "enron_emails = enron_emails.apply(reg_expressions)\r\n",
        "# sample the right number of emails from each class.\r\n",
        "enron_emails = enron_emails.sample(n_sample)\r\n",
        "\r\n",
        "# Apply predefined processing functions\r\n",
        "spam_emails = fraud_bodies_df.iloc[:, 0].apply(tokenize)\r\n",
        "spam_emails = spam_emails.apply(stop_word_removal)\r\n",
        "spam_emails = spam_emails.apply(reg_expressions)\r\n",
        "# sample the right number of emails from each class.\r\n",
        "spam_emails = spam_emails.sample(n_sample)\r\n",
        "\r\n",
        "# convert to Numpy array\r\n",
        "raw_data = pd.concat([enron_emails, spam_emails], axis=0).values"
      ],
      "execution_count": null,
      "outputs": []
    },
    {
      "cell_type": "markdown",
      "metadata": {
        "id": "siEiJQvp4Q29"
      },
      "source": [
        "Now, let’s take a peek at the result to make sure things are proceeding as expected:"
      ]
    },
    {
      "cell_type": "code",
      "metadata": {
        "id": "YSd-Yfri4KaB"
      },
      "source": [
        "print(\"Shape of combined data is:\", raw_data.shape)\r\n",
        "print(\"Data is:\")\r\n",
        "print(raw_data)"
      ],
      "execution_count": null,
      "outputs": []
    },
    {
      "cell_type": "markdown",
      "metadata": {
        "id": "NXy7SLuV44Xw"
      },
      "source": [
        "We see that the resulting array has divided the text into word units, as we intended to.\r\n",
        "\r\n",
        "Let’s create the headers corresponding to these emails, consisting of n_sample=1000 of spam emails followed by n_sample=1000 of non-spam emails:"
      ]
    },
    {
      "cell_type": "code",
      "metadata": {
        "id": "o2hCPV3z4qXn"
      },
      "source": [
        "categories = [\"spam\", \"notspam\"]\r\n",
        "header = ([1] * n_sample)\r\n",
        "header.extend(([0] * n_sample)) "
      ],
      "execution_count": null,
      "outputs": []
    },
    {
      "cell_type": "markdown",
      "metadata": {
        "id": "v9La125o61fZ"
      },
      "source": [
        "We are now ready to convert this Numpy array into numerical features that can actually be fed to the algorithms for classification."
      ]
    },
    {
      "cell_type": "markdown",
      "metadata": {
        "id": "sj0jsZ9W65Yo"
      },
      "source": [
        "### Converting the data to the form expected by Bert"
      ]
    },
    {
      "cell_type": "markdown",
      "metadata": {
        "id": "ALmmE6Wo7A-6"
      },
      "source": [
        "Before using this function to train a model, we will need to adapt our preprocessed data a bit for this model architecture.\r\n",
        "\r\n",
        "We use the below function to combine each such list into a single text string. This is the format in which the BERT TensorFlow hub model expects the input, and we are glad to oblige.\r\n",
        "\r\n",
        "> **NOTE**: The combined string in this case has stopwords removed – steps that are often not required in deep learning practice due to the uncanny ability of artificial neural networks to figure out what is important and isn’t,\r\n",
        "i.e., feature engineering, automatically. In our case, since we are trying to compare the strengths and weaknesses of the different model types for this problem, applying the same kind of preprocessing for all algorithms makes sense and is arguably the right approach. We note however that ELMo was pretrained on a corpus containing stopwords, as was BERT."
      ]
    },
    {
      "cell_type": "markdown",
      "metadata": {
        "id": "etyyQh-ZWWXf"
      },
      "source": [
        "Having fully vectorized the dataset, we must remember that it is not shuffled with respect to classes, i.e., it contains Nsamp = 1000 spam emails followed by an equal number of nonspam emails. Depending on how this dataset is split, in our case by picking the first 70% for training and the remainder for testing, this could lead to a training set composed of spam only, which would obviously lead to failure. In order to create a randomized ordering of class samples in the dataset, we will need to shuffle the data in unison with the header/list of labels.\r\n"
      ]
    },
    {
      "cell_type": "code",
      "metadata": {
        "id": "O1jUL1YnVBQN"
      },
      "source": [
        "# shuffle raw data first\r\n",
        "def unison_shuffle_data(data, header):\r\n",
        "  p = np.random.permutation(len(header))\r\n",
        "  data = data[p]\r\n",
        "  header = np.asarray(header)[p]\r\n",
        "\r\n",
        "  return data, header"
      ],
      "execution_count": null,
      "outputs": []
    },
    {
      "cell_type": "code",
      "metadata": {
        "id": "6-Fy3piLUjSq"
      },
      "source": [
        "# we expect a single string per email here, versus a list of tokens for the sklearn models previously explored\r\n",
        "def convert_data(raw_data, header):\r\n",
        "  converted_data, labels = [], []\r\n",
        "  for i in range(raw_data.shape[0]):\r\n",
        "    # combine list of tokens representing each email into single string\r\n",
        "    out = \" \".join(raw_data[i])\r\n",
        "    converted_data.append(out)\r\n",
        "    labels.append(header[i])\r\n",
        "  converted_data = np.array(converted_data, dtype=object)[:, np.newaxis]\r\n",
        "\r\n",
        "  return converted_data, np.array(labels)"
      ],
      "execution_count": null,
      "outputs": []
    },
    {
      "cell_type": "markdown",
      "metadata": {
        "id": "TIGDs4kZYCIr"
      },
      "source": [
        "As the very last step of preparing the email dataset for training by our baseline classifiers, we split it into independent training and testing or validation sets. This will allow us to evaluate the performance of the classifier on a set of data that was not used for training, an important thing\r\n",
        "to ensure in machine learning practice. We elect to use 70% of the data for training, and 30% for testing/validation afterwards."
      ]
    },
    {
      "cell_type": "code",
      "metadata": {
        "id": "h2bJ0TlTX3FW"
      },
      "source": [
        "raw_data, header = unison_shuffle_data(raw_data, header)\r\n",
        "\r\n",
        "# split into independent 70% training and 30% testing sets\r\n",
        "idx = int(0.7 * raw_data.shape[0])  # get 70% index value\r\n",
        "\r\n",
        "# 70% of data for training\r\n",
        "train_x, train_y = convert_data(raw_data[:idx], header[:idx])\r\n",
        "\r\n",
        "# remaining 30% for testing\r\n",
        "test_x, test_y = convert_data(raw_data[idx:], header[idx:])\r\n",
        "\r\n",
        "print(\"train_x/train_y list details, to make sure they are of the right form:\")\r\n",
        "print(len(train_x))\r\n",
        "print(train_x)\r\n",
        "print(len(train_y))\r\n",
        "print(train_y[:5])"
      ],
      "execution_count": null,
      "outputs": []
    },
    {
      "cell_type": "markdown",
      "metadata": {
        "id": "7HQRPMa4Z8RB"
      },
      "source": [
        "Since 70% of 2000 is 1400, looks good! (for n_sample=1000)"
      ]
    },
    {
      "cell_type": "markdown",
      "metadata": {
        "id": "yAdf-aVkadDa"
      },
      "source": [
        "## Neural Network Models"
      ]
    },
    {
      "cell_type": "markdown",
      "metadata": {
        "id": "lyHf2bhnaeI8"
      },
      "source": [
        "Neural networks are the most important class of machine learning algorithms for handling perceptual problems such as computer vision and NLP.\r\n",
        "\r\n",
        "we will train two representative pretrained neural network language models\r\n",
        "on the two illustrative example problems we have been baselining.\r\n",
        "\r\n",
        "The two models we will consider here are:\r\n",
        "\r\n",
        "- **ELMo** – Embeddings from Language Models, and\r\n",
        "- **BERT** – Bidirectional Encoder Representations from Transformers.\r\n",
        "\r\n",
        "ELMo includes elements of convolutional and recurrent (specifically LSTM) elements, while the appropriately named BERT is transformer-based.\r\n",
        "\r\n",
        "The simplest form of transfer learning fine-tuning will be employed, where a single dense classification layer is trained on top of the corresponding pretrained embedding over our dataset of labels.\r\n"
      ]
    },
    {
      "cell_type": "markdown",
      "metadata": {
        "id": "wHMpH7umylgU"
      },
      "source": [
        "### Bidirectional Encoder Representations from Transformers (BERT)"
      ]
    },
    {
      "cell_type": "markdown",
      "metadata": {
        "id": "gL3uRvZsyl91"
      },
      "source": [
        "**Bidirectional Encoder Representations from Transformers (BERT) model** was also named after a popular Sesame Street character as a nod to the trend started by ELMo. BERT variants achieve some of the best performance in transferring pretrained language model knowledge to downstream NLP tasks. The model was similarly trained to predict words in a sequence of words, although the exact masking procedure is somewhat different. It can also be done in an unsupervised manner on very large corpuses, and the resulting weights similarly\r\n",
        "generalize to a variety of other NLP tasks. **Arguably, to familiarize oneself with transfer learning in NLP, it is indispensable for one to familiarize oneself with BERT.**\r\n",
        "\r\n",
        "It will suffice to mention here that the model employs character-level convolutions to build up preliminary embeddings of word tokens, followed by transformer-based encoders with selfattention layers that provide the model with a context of surrounding words. **The transformer functionally replaced the role of the bidirectional LSTMs employed by ELMo. Transformers have some advantages versus LSTMs with respect to training scalability as well.**. Again, we will use Keras with Tensorflow backend to build our model.\r\n"
      ]
    },
    {
      "cell_type": "markdown",
      "metadata": {
        "id": "AZQZ0weNfaJY"
      },
      "source": [
        "### Define BERT layer"
      ]
    },
    {
      "cell_type": "markdown",
      "metadata": {
        "id": "vYjdm_U-fcNM"
      },
      "source": [
        "The BERT model is also available through the Tensorflow Hub. In order to\r\n",
        "make the hub model usable by Keras, we similarly define a custom Keras layer that instantiates it in the right format."
      ]
    },
    {
      "cell_type": "code",
      "metadata": {
        "id": "LUorbYbDZw8b"
      },
      "source": [
        "class BertLayer(tf.keras.layers.Layer):\r\n",
        "\r\n",
        "  def __init__(self, n_fine_tune_layers=10, pooling=\"mean\", bert_path=\"https://tfhub.dev/google/bert_uncased_L-12_H-768_A-12/1\", **kwargs):\r\n",
        "    self.n_fine_tune_layers = n_fine_tune_layers    # Default number of top layers to unfreeze for training\r\n",
        "    self.trainable = True\r\n",
        "    self.output_size = 768      # BERT embedding dimension, i.e., size of resulting output semantic vectors\r\n",
        "    self.pooling = pooling      # Choice of regularization type\r\n",
        "    self.bert_path = bert_path  # Pretrained model to use, this is the large uncased original version of the model\r\n",
        "\r\n",
        "    if self.pooling not in [\"first\", \"mean\"]:\r\n",
        "      raise NameError(f\"Undefined pooling type (must be either first or mean, but is {self.pooling}\")\r\n",
        "\r\n",
        "    super(BertLayer, self).__init__(**kwargs)\r\n",
        "\r\n",
        "  def build(self, input_shape):\r\n",
        "    \"\"\"function for building BERT embedding\"\"\"\r\n",
        "    # Download pretrained BERT model from Tensorflow Hub\r\n",
        "    self.bert = hub.Module(self.bert_path, trainable=self.trainable, name=f\"{self.name}_module\") \r\n",
        "\r\n",
        "    # Remove unused layers\r\n",
        "    trainable_vars = self.bert.variables\r\n",
        "    if self.pooling == \"first\":\r\n",
        "      trainable_vars = [var for var in trainable_vars if not \"/cls/\" in var.name]\r\n",
        "      trainable_vars = [\"pooler/dense\"]\r\n",
        "    elif self.pooling == \"mean\":\r\n",
        "      trainable_vars = [var for var in trainable_vars if not \"/cls/\" in var.name and not \"/pooler/\" in var.name]\r\n",
        "      trainable_vars = []\r\n",
        "    else:\r\n",
        "      raise NameError(f\"Undefined pooling type (must be either first or mean, but is {self.pooling}\")\r\n",
        "    \r\n",
        "    # Select how many layers to fine tune\r\n",
        "    for i in range(self.n_fine_tune_layers):\r\n",
        "      trainable_layers.append(f\"encoder/layer_{str(11 - i)}\")\r\n",
        "\r\n",
        "    # Update trainable vars to contain only the specified layers\r\n",
        "    trainable_vars = [var for var in trainable_vars if any([layer in var.name for layer in trainable_vars])]\r\n",
        "\r\n",
        "    # Add to trainable weights\r\n",
        "    for var in trainable_vars:\r\n",
        "      self._trainable_weights.append(var)\r\n",
        "\r\n",
        "    for var in self.bert.variables:\r\n",
        "      if var not in self._trainable_weights:\r\n",
        "        self._non_trainable_weights.append(var)\r\n",
        "\r\n",
        "    super(BertLayer, self).build(input_shape)\r\n",
        "\r\n",
        "  def call(self, inputs):\r\n",
        "    \"\"\"specify function for calling embedding\"\"\"\r\n",
        "    inputs = [K.cast(x, dtype=\"int32\") for x in inputs]\r\n",
        "    input_ids, input_mask, segment_ids = inputs\r\n",
        "    # Inputs to BERT take a very specific triplet form\r\n",
        "    bert_inputs = dict(\r\n",
        "        input_ids = input_ids,\r\n",
        "        input_mask = input_mask,\r\n",
        "        segment_ids = segment_ids\r\n",
        "    )\r\n",
        "    \r\n",
        "    if self.pooling == \"first\":\r\n",
        "      pooled = self.bert(inputs=bert_inputs, signature=\"tokens\", as_dict=True)[\"pooled_output\"]\r\n",
        "    elif self.pooling == \"mean\":\r\n",
        "      result = self.bert(inputs=bert_inputs, signature=\"tokens\", as_dict=True)[\"sequence_output\"]\r\n",
        "      # BERT “masks” some words and then attempts to predict them as learning target\r\n",
        "      mul_mask = lambda x, m: x * tf.expand_dims(m, axis=-1)\r\n",
        "      masked_reduce_mean = lambda x, m: tf.reduce_sum(mul_mask(x, m), axis=1) / (tf.reduce_sum(m, axis=1, keepdims=True) + 1e-10)\r\n",
        "      input_mask = tf.cast(input_mask, tf.float32)\r\n",
        "      pooled = masked_reduce_mean(result, input_mask)\r\n",
        "    else:\r\n",
        "      raise NameError(f\"Undefined pooling type (must be either first or mean, but is {self.pooling}\")\r\n",
        "\r\n",
        "    return pooled\r\n",
        "\r\n",
        "  def compute_output_shape(self, input_shape):\r\n",
        "    \"\"\"specify output shape\"\"\"\r\n",
        "    return (input_shape[0], self.output_size)"
      ],
      "execution_count": null,
      "outputs": []
    },
    {
      "cell_type": "markdown",
      "metadata": {
        "id": "V7Cg9jShftQj"
      },
      "source": [
        "### Build BERT model"
      ]
    },
    {
      "cell_type": "markdown",
      "metadata": {
        "id": "Hed2Z4FrysZV"
      },
      "source": [
        "Similarly to what we did for ELMo, we performed a sequence of analogous post-processing steps on the data from the prior sections to put it into the format required by the BERT model. In addition to what was done to concatenate the bag-of-words token representations into a list of strings, we subsequently need to convert each concatenated string into 3 arrays – **input ids, input masks and segment ids** – prior to feeding them to the BERT model."
      ]
    },
    {
      "cell_type": "code",
      "metadata": {
        "id": "9Vobk4LfyqQ9"
      },
      "source": [
        "def build_model(max_seq_length):\r\n",
        "  input_ids = tf.keras.layers.Input(shape=(max_seq_length, ), name=\"input_ids\")\r\n",
        "  input_masks = tf.keras.layers.Input(shape=(max_seq_length, ), name=\"input_masks\")\r\n",
        "  segment_ids = tf.keras.layers.Input(shape=(max_seq_length, ), name=\"segment_ids\")\r\n",
        "  bert_inputs = [input_ids, input_masks, segment_ids]\r\n",
        "\r\n",
        "  # We do not retrain any BERT layers, but rather use the pretrained model as an embedding and retrain some new\r\n",
        "  # layers on top of it so just extract BERT features, don't fine-tune\r\n",
        "  bert_output = BertLayer(n_fine_tune_layers=0)(bert_inputs)\r\n",
        "\r\n",
        "  # train dense classification layer on top of extracted features\r\n",
        "  dense = tf.keras.layers.Dense(256, activation=\"relu\")(bert_output)      # new layer outputting 256-dimensional feature vectors\r\n",
        "  prediction = tf.keras.layers.Dense(1, activation=\"sigmoid\")(dense)\r\n",
        "\r\n",
        "  # we could use sigmoid activation as well, but we choose softmax\r\n",
        "  # to enable us use sparse_categorical_crossentropy and sparse_categorical_accuracy below\r\n",
        "  model = tf.keras.models.Model(inputs=bert_inputs, outputs=prediction)\r\n",
        "  # use sparse_categorical_crossentropy and sparse_categorical_accuracy do avoid having to one-hot encode the labels\r\n",
        "  model.compile(loss=\"binary_crossentropy\", optimizer=\"adam\", metrics=[\"accuracy\"])\r\n",
        "\r\n",
        "  model.summary()\r\n",
        "\r\n",
        "  return model"
      ],
      "execution_count": null,
      "outputs": []
    },
    {
      "cell_type": "code",
      "metadata": {
        "id": "OmLLc59gYMVU"
      },
      "source": [
        "# initialize tensorflow variables correctly\r\n",
        "def initialize_vars(sess):\r\n",
        "  sess.run(tf.local_variables_initializer())\r\n",
        "  sess.run(tf.global_variables_initializer())\r\n",
        "  sess.run(tf.tables_initializer())\r\n",
        "  K.set_session(sess)"
      ],
      "execution_count": null,
      "outputs": []
    },
    {
      "cell_type": "markdown",
      "metadata": {
        "id": "x7jjzep8Z4-y"
      },
      "source": [
        "Now let's first define critical functions that define various components of the BERT model."
      ]
    },
    {
      "cell_type": "code",
      "metadata": {
        "id": "9qmvd5bThBLK"
      },
      "source": [
        "class InputExample(object):\r\n",
        "  \"\"\"A single training/test example for simple sequence classification.\"\"\"\r\n",
        "\r\n",
        "  def __init__(self, guid, text_a, text_b=None, label=None):\r\n",
        "    \"\"\"\r\n",
        "    Constructs a InputExample.\r\n",
        "    Args:\r\n",
        "      guid: Unique id for the example.\r\n",
        "      text_a: string. The untokenized text of the first sequence. For single\r\n",
        "        sequence tasks, only this sequence must be specified.\r\n",
        "      text_b: (Optional) string. The untokenized text of the second sequence.\r\n",
        "        Only must be specified for sequence pair tasks.\r\n",
        "      label: (Optional) string. The label of the example. This should be\r\n",
        "        specified for train examples, but not for test examples.\r\n",
        "    \"\"\"\r\n",
        "    self.guid = guid\r\n",
        "    self.text_a = text_a\r\n",
        "    self.text_b = text_b\r\n",
        "    self.label = label"
      ],
      "execution_count": null,
      "outputs": []
    },
    {
      "cell_type": "code",
      "metadata": {
        "id": "wj2NGhaGnOLa"
      },
      "source": [
        "def create_tokenizer_from_hub_module(bert_path):\r\n",
        "  \"\"\"Get the vocab file and casing info from the Hub module.\"\"\"\r\n",
        "  bert_module = hub.Module(bert_path)\r\n",
        "  tokenization_info = bert_module(signature=\"tokenization_info\", as_dict=True)\r\n",
        "  vocab_file, do_lower_case = sess.run([tokenization_info[\"vocab_file\"], tokenization_info[\"do_lower_case\"]])\r\n",
        "\r\n",
        "  return FullTokenizer(vocab_file=vocab_file, do_lower_case=do_lower_case)"
      ],
      "execution_count": null,
      "outputs": []
    },
    {
      "cell_type": "code",
      "metadata": {
        "id": "Sa4-ClNIbYp1"
      },
      "source": [
        "def convert_single_example(tokenizer, example, max_seq_length=256):\r\n",
        "  \"\"\"Converts a single `InputExample` into a single `InputFeatures`.\"\"\"\r\n",
        "  tokens_a = tokenizer.tokenize(example.text_a)\r\n",
        "  if len(tokens_a) > max_seq_length - 2:\r\n",
        "    tokens_a = tokens_a[0: (max_seq_length - 2)]\r\n",
        "\r\n",
        "  tokens = []\r\n",
        "  segment_ids = []\r\n",
        "  tokens.append(\"[CLS]\")\r\n",
        "  segment_ids.append(0)\r\n",
        "  for token in tokens_a:\r\n",
        "    tokens.append(token)\r\n",
        "    segment_ids.append(0)\r\n",
        "  tokens.append(\"[SEP]\")\r\n",
        "  segment_ids.append(0)\r\n",
        "\r\n",
        "  input_ids = tokenizer.convert_tokens_to_ids(tokens)\r\n",
        "\r\n",
        "  # The mask has 1 for real tokens and 0 for padding tokens. Only real tokens are attended to.\r\n",
        "  input_mask = [1] * len(input_ids)\r\n",
        "\r\n",
        "  # Zero-pad up to the sequence length.\r\n",
        "  while len(input_ids) < max_seq_length:\r\n",
        "    input_ids.append(0)\r\n",
        "    input_mask.append(0)\r\n",
        "    segment_ids.append(0)\r\n",
        "\r\n",
        "  assert len(input_ids) == max_seq_length\r\n",
        "  assert len(input_mask) == max_seq_length\r\n",
        "  assert len(segment_ids) == max_seq_length\r\n",
        "\r\n",
        "  return input_ids, input_mask, segment_ids, example.label"
      ],
      "execution_count": null,
      "outputs": []
    },
    {
      "cell_type": "code",
      "metadata": {
        "id": "5aMhN765l_S5"
      },
      "source": [
        "def convert_examples_to_features(tokenizer, examples, max_seq_length=256):\r\n",
        "  \"\"\"Convert a set of `InputExample`s to a list of `InputFeatures`.\"\"\"\r\n",
        "  input_ids, input_masks, segment_ids, labels = [], [], [], []\r\n",
        "  for example in tqdm(examples, desc=\"Converting examples to features\"):\r\n",
        "    input_id, input_mask, segment_id, label = convert_single_example(tokenizer, example, max_seq_length)\r\n",
        "    input_ids.append(input_id)\r\n",
        "    input_masks.append(input_mask)\r\n",
        "    segment_ids.append(segment_id)\r\n",
        "    labels.append(label)\r\n",
        "\r\n",
        "  return (np.array(input_ids), np.array(input_masks), np.array(segment_ids), np.array(labels).reshape(-1, 1))"
      ],
      "execution_count": null,
      "outputs": []
    },
    {
      "cell_type": "code",
      "metadata": {
        "id": "gNCYJbBgnBPb"
      },
      "source": [
        "def convert_text_to_examples(texts, labels):\r\n",
        "  InputExamples = []\r\n",
        "  for text, label in zip(texts, labels):\r\n",
        "    InputExamples.append(InputExample(guid=None, text_a=\" \".join(text), text_b=None, label=label))\r\n",
        "\r\n",
        "  return InputExamples"
      ],
      "execution_count": null,
      "outputs": []
    },
    {
      "cell_type": "markdown",
      "metadata": {
        "id": "lHcg9vEhoZhc"
      },
      "source": [
        "### Train BERT model"
      ]
    },
    {
      "cell_type": "code",
      "metadata": {
        "id": "eZ_Iw2ijobyN"
      },
      "source": [
        "# tf hub bert model path\r\n",
        "bert_path = \"https://tfhub.dev/google/bert_uncased_L-12_H-768_A-12/1\"\r\n",
        "\r\n",
        "# Create compatible tokenizer using function in BERT \r\n",
        "tokenizer = create_tokenizer_from_hub_module(bert_path)\r\n",
        "\r\n",
        "# Convert data to “InputExample” format using function in BERT \r\n",
        "train_examples = convert_text_to_examples(train_x, train_y)\r\n",
        "test_examples = convert_text_to_examples(test_x, test_y)\r\n",
        "\r\n",
        "# Convert InputExample format into triplet final BERT input format, using function in BERT\r\n",
        "(train_input_ids, train_input_masks, train_segment_ids, train_labels) = convert_examples_to_features(tokenizer, train_examples, max_seq_length=maxtokens)\r\n",
        "(test_input_ids, test_input_masks, test_segment_ids, test_labels) = convert_examples_to_features(tokenizer, test_examples, max_seq_length=maxtokens)\r\n",
        "\r\n",
        "# Build model\r\n",
        "model = build_model(maxtokens)\r\n",
        "\r\n",
        "# Instantiate variables\r\n",
        "initialize_vars(sess)\r\n",
        "\r\n",
        "# Train model\r\n",
        "history = model.fit([train_input_ids, train_input_masks, train_segment_ids], train_labels, \r\n",
        "                    validation_data=([test_input_ids, test_input_masks, test_segment_ids], test_labels),\r\n",
        "                    epochs=5, batch_size=32)"
      ],
      "execution_count": null,
      "outputs": []
    },
    {
      "cell_type": "markdown",
      "metadata": {
        "id": "ijD8G8DVyw7_"
      },
      "source": [
        "Similarly to the ELMo model, we put a pair of layers on top of the pretrained model and only train those, which amounts to about 200 thousand parameters.\r\n",
        "With hyperparameters set at comparable values with all of the prior methods, validation accuracies of approximately 77% and 71% for the email and movie review classification problems respectively were achieved (within 5 epochs)."
      ]
    },
    {
      "cell_type": "code",
      "metadata": {
        "id": "Ts1BU2mQmkT6"
      },
      "source": [
        "df_history = pd.DataFrame(history.history)\r\n",
        "\r\n",
        "fig,ax = plt.subplots()\r\n",
        "plt.plot(range(df_history.shape[0]),df_history['val_acc'],'bs--',label='validation')\r\n",
        "plt.plot(range(df_history.shape[0]),df_history['acc'],'r^--',label='training')\r\n",
        "plt.xlabel('epoch')\r\n",
        "plt.ylabel('accuracy')\r\n",
        "plt.title('BERT Email Classification Training')\r\n",
        "plt.legend(loc='best')\r\n",
        "plt.grid()\r\n",
        "plt.show()\r\n",
        "# Save figures\r\n",
        "fig.savefig('BERTConvergence.eps', format='eps')\r\n",
        "fig.savefig('BERTConvergence.pdf', format='pdf')\r\n",
        "fig.savefig('BERTConvergence.png', format='png')\r\n",
        "fig.savefig('BERTConvergence.svg', format='svg')"
      ],
      "execution_count": null,
      "outputs": []
    },
    {
      "cell_type": "markdown",
      "metadata": {
        "id": "uZe6rKw7mkxq"
      },
      "source": [
        "We see that a validation accuracy of approximately 98.83% is attained at the 4th epoch, i.e., in under a minute. This performance is comparable to the performance of the logistic regression approach, which is only slightly better at 98.8%. We note that the behavior of the algorithm is stochastic, i.e., it behaves differently from run to run.\r\n",
        "\r\n",
        "Finally, we note that the divergence of training and validation accuracies is suggestive of the beginning of overfitting as indicative in the figure. This\r\n",
        "lends credence to the hypothesis that increasing the amount of signal by increasing the length of tokens, as specified by hyper-parameter maxtokenlen, and the number of tokens per email, as specified by maxtokens, may increase performance further. Naturally, increasing the number of samples per class by cranking up Nsamp should also work to improve performance.\r\n",
        "\r\n",
        "Each epoch again takes approximately 10 seconds and a validation accuracy of approximately 70% is achieved in under a minute at the 2nd epoch.\r\n",
        "\r\n",
        "**Note that some evidence of overfitting can be observed at the 3rd and later epochs, as the training accuracy continues to improve, i.e., the fit to the data improves, while the validation accuracy remains lower.**"
      ]
    }
  ]
}