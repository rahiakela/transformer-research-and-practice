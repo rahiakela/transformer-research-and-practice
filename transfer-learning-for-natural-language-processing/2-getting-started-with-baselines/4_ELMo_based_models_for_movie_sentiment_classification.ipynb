{
  "nbformat": 4,
  "nbformat_minor": 0,
  "metadata": {
    "colab": {
      "name": "4-ELMo-based-models-for-movie-sentiment-classification.ipynb",
      "provenance": [],
      "toc_visible": true,
      "authorship_tag": "ABX9TyP0Dxc7T3m5+QhNEPY8J7mG",
      "include_colab_link": true
    },
    "kernelspec": {
      "name": "python3",
      "display_name": "Python 3"
    }
  },
  "cells": [
    {
      "cell_type": "markdown",
      "metadata": {
        "id": "view-in-github",
        "colab_type": "text"
      },
      "source": [
        "<a href=\"https://colab.research.google.com/github/rahiakela/transfer-learning-for-natural-language-processing/blob/main/2-getting-started-with-baselines/4_ELMo_based_models_for_movie_sentiment_classification.ipynb\" target=\"_parent\"><img src=\"https://colab.research.google.com/assets/colab-badge.svg\" alt=\"Open In Colab\"/></a>"
      ]
    },
    {
      "cell_type": "markdown",
      "metadata": {
        "id": "0syenf2nUMgZ"
      },
      "source": [
        "# ELMo based models for Movie Sentiment Classification"
      ]
    },
    {
      "cell_type": "markdown",
      "metadata": {
        "id": "0Tvj1R7TUOC2"
      },
      "source": [
        "Our goal is to establish a set of baselines for a pair of concrete NLP problems, which we will later be able to use to measure progressive improvements gained from leveraging increasingly sophisticated transfer learning\r\n",
        "approaches. In the process of doing this, we aim to advance your general NLP instincts and refresh your understanding of typical procedures involved in setting up problem-solving pipelines for such problems. You will review techniques ranging from tokenization to data structure and model selection. We first train some traditional machine learning models from scratch to establish some preliminary baselines for these problems.\r\n",
        "\r\n",
        "We will focus on a pair of important representative example NLP problems – spam\r\n",
        "classification of email, and sentiment classification of movie reviews. This exercise will arm you with a number of important skills, including some tips for obtaining, visualizing and preprocessing data. \r\n",
        "\r\n",
        "Three major model classes will be covered, namely linear models such as logistic regression, decision-tree-based models such as random forests, and neural-network-based models such as ELMo. These classes are additionally represented by support vector machines (SVMs) with linear kernels, gradient-boosting machines (GBMs) and BERT respectively. \r\n",
        "\r\n",
        "<img src='https://github.com/rahiakela/img-repo/blob/master/transfer-learning-for-natural-language-processing/content-classification-supervised-models.png?raw=1' width='800'/>\r\n",
        "\r\n"
      ]
    },
    {
      "cell_type": "markdown",
      "metadata": {
        "id": "inPFIdfP7n4K"
      },
      "source": [
        "## Setup"
      ]
    },
    {
      "cell_type": "markdown",
      "metadata": {
        "id": "eViYUVkrsQRx"
      },
      "source": [
        "Ref: https://stackoverflow.com/questions/57742410/error-on-scope-variable-while-using-tensorflow-hub"
      ]
    },
    {
      "cell_type": "code",
      "metadata": {
        "id": "196aBN-ysBut"
      },
      "source": [
        "!pip install keras==2.2.4 # critical dependency\r\n",
        "!pip install tensorflow==1.15\r\n",
        "!pip install \"tensorflow_hub>=0.6.0\""
      ],
      "execution_count": null,
      "outputs": []
    },
    {
      "cell_type": "code",
      "metadata": {
        "id": "Xlt8No657pZ_",
        "colab": {
          "base_uri": "https://localhost:8080/"
        },
        "outputId": "679bb014-42e4-4e60-aa29-7eb440c5cf0e"
      },
      "source": [
        "import numpy as np  # linear algebra\r\n",
        "import pandas as pd # data processing, CSV file I/O (e.g. pd.read_csv)\r\n",
        "import email        # email package for processing email messages\r\n",
        "import random\r\n",
        "import re\r\n",
        "import time\r\n",
        "import os\r\n",
        "\r\n",
        "\r\n",
        "import tensorflow as tf\r\n",
        "import tensorflow_hub as hub\r\n",
        "from keras import backend as K\r\n",
        "import keras.layers as layers\r\n",
        "from keras.models import Model, load_model\r\n",
        "from keras.engine import Layer\r\n",
        "\r\n",
        "import nltk\r\n",
        "nltk.download('stopwords')\r\n",
        "from nltk.corpus import stopwords\r\n",
        "\r\n",
        "import matplotlib.pyplot as plt"
      ],
      "execution_count": 15,
      "outputs": [
        {
          "output_type": "stream",
          "text": [
            "[nltk_data] Downloading package stopwords to /root/nltk_data...\n",
            "[nltk_data]   Package stopwords is already up-to-date!\n"
          ],
          "name": "stdout"
        }
      ]
    },
    {
      "cell_type": "code",
      "metadata": {
        "id": "-5dMITwbsVei"
      },
      "source": [
        "# Initialize tensorflow/keras session\r\n",
        "sess = tf.Session()\r\n",
        "K.set_session(sess)"
      ],
      "execution_count": 16,
      "outputs": []
    },
    {
      "cell_type": "code",
      "metadata": {
        "id": "wJKVZMbo7va7",
        "colab": {
          "base_uri": "https://localhost:8080/"
        },
        "outputId": "67e0028c-bc59-44ea-e4a7-7a8786bcb8fd"
      },
      "source": [
        "%%shell\r\n",
        "\r\n",
        "wget -q \"http://ai.stanford.edu/~amaas/data/sentiment/aclImdb_v1.tar.gz\"\r\n",
        "tar xzf aclImdb_v1.tar.gz\r\n",
        "\r\n",
        "rm -rf aclImdb_v1.tar.gz\r\n",
        "rm -rf aclImdb/train/unsup"
      ],
      "execution_count": 17,
      "outputs": [
        {
          "output_type": "execute_result",
          "data": {
            "text/plain": [
              ""
            ]
          },
          "metadata": {
            "tags": []
          },
          "execution_count": 17
        }
      ]
    },
    {
      "cell_type": "markdown",
      "metadata": {
        "id": "zQbAbRM7Wtfs"
      },
      "source": [
        "## Preprocessing Movie Sentiment Data"
      ]
    },
    {
      "cell_type": "markdown",
      "metadata": {
        "id": "HplaHzeVWwfg"
      },
      "source": [
        "This notebook is concerned with classifying movie reviews from IMDB into\r\n",
        "positive or negative sentiments expressed. This is a prototypical sentiment analysis example that has been used widely in the literature to study many algorithms.\r\n",
        "\r\n",
        "We will use a popular labeled dataset of 25000 reviews for this, which was assembled by scraping the popular movie review website IMDB and mapping the number of stars corresponding to each review to either 0 or 1 – depending on whether it was less than or greater than 5 out of 10 stars respectively.It has been used widely in prior NLP literature, and this familiarity is part of the reason we choose it as an illustrative example for baselining.\r\n",
        "\r\n",
        "The sequence of steps used to preprocess each IMDB movie review before analysis is very similar to the one presented for the email spam classification example.\r\n",
        "\r\n",
        "The first major difference is that no email headers are attached to these reviews, so the header extraction step is not applicable. \r\n",
        "\r\n",
        "Additionally, since some stopwords – including “no” and “not” – may\r\n",
        "change the sentiment of the message, the stopword removal step may need to be carried out with extra care, first making sure to drop such stopwords from the target list. We did experiment with dropping such words from the list, and saw little to no effect on the result. This is likely because other non-stopwords in the reviews are very predictive features, rendering this step irrelevant.\r\n",
        "\r\n",
        "<img src='https://github.com/rahiakela/img-repo/blob/master/transfer-learning-for-natural-language-processing/spam-email-preprocessing.png?raw=1' width='800'/>\r\n"
      ]
    },
    {
      "cell_type": "markdown",
      "metadata": {
        "id": "rsXoqMRdwC65"
      },
      "source": [
        "### IMDB Movie Review Dataset preprocessing"
      ]
    },
    {
      "cell_type": "markdown",
      "metadata": {
        "id": "UeeYY2_OuxYw"
      },
      "source": [
        "Before proceeding, we must decide how many samples to draw from each class. We must also decide the maximum number of tokens per email, and the maximum length of each token. This is done by setting the following overarching hyperparameters."
      ]
    },
    {
      "cell_type": "code",
      "metadata": {
        "id": "7_qzNMcNsGh-"
      },
      "source": [
        "n_sample = 1000   # number of samples to generate in each class\r\n",
        "maxtokens = 50    # the maximum number of tokens per document\r\n",
        "maxtokenlen = 20  # the maximum length of each token"
      ],
      "execution_count": 18,
      "outputs": []
    },
    {
      "cell_type": "markdown",
      "metadata": {
        "id": "QRVD-qopxT2f"
      },
      "source": [
        "With these hyperparameters specified, we can now create a single DataFrame for the overarching training dataset. Let’s take the opportunity to also perform remaining preprocessing tasks, namely removing stop words, punctuations and tokenizing."
      ]
    },
    {
      "cell_type": "markdown",
      "metadata": {
        "id": "I2OTWZJ6w9-J"
      },
      "source": [
        "#### Tokenization"
      ]
    },
    {
      "cell_type": "markdown",
      "metadata": {
        "id": "A-dJjXYvxaK9"
      },
      "source": [
        "Let’s proceed by defining a function to tokenize text by splitting them into \r\n",
        "words."
      ]
    },
    {
      "cell_type": "code",
      "metadata": {
        "id": "42b-458pwdRh"
      },
      "source": [
        "def tokenize(row):\r\n",
        "  if row is None or row is \"\":\r\n",
        "    tokens = \"\"\r\n",
        "  else:\r\n",
        "    tokens = row.split(\" \")[:maxtokens]\r\n",
        "  return tokens"
      ],
      "execution_count": 19,
      "outputs": []
    },
    {
      "cell_type": "markdown",
      "metadata": {
        "id": "5_viulZEyUNO"
      },
      "source": [
        "#### Remove punctuation and unnecessary characters"
      ]
    },
    {
      "cell_type": "markdown",
      "metadata": {
        "id": "4MOkUJbxyUeG"
      },
      "source": [
        "**In order to ensure that classification is done based on language content only, we have to remove punctuation marks and other non-word characters from the emails.** We do this by employing regular expressions with the Python regex library. We also normalize words by turning them into lower case."
      ]
    },
    {
      "cell_type": "code",
      "metadata": {
        "id": "2n-aNOVNx3mC"
      },
      "source": [
        "def reg_expressions(row):\r\n",
        "  tokens = []\r\n",
        "  try:\r\n",
        "    for token in row:\r\n",
        "      token = token.lower()          # make all characters lower case\r\n",
        "      token = re.sub(r\"[\\W\\d]\", \"\", token)\r\n",
        "      token = token[:maxtokenlen]    # truncate all tokens to hyperparameter maxtokenlen\r\n",
        "      tokens.append(token)\r\n",
        "  except:\r\n",
        "    token = \"\"\r\n",
        "    tokens.append(token)\r\n",
        "  return tokens"
      ],
      "execution_count": 20,
      "outputs": []
    },
    {
      "cell_type": "markdown",
      "metadata": {
        "id": "Ubr6_29dzvyA"
      },
      "source": [
        "#### Stop-word removal"
      ]
    },
    {
      "cell_type": "markdown",
      "metadata": {
        "id": "VjpNoFWhzwqu"
      },
      "source": [
        "Stop-words are also removed. Stop-words are words that are very common in text but offer no useful information that can be used to classify the text. Words such as is, and, the, are are examples of stop-words. The NLTK library contains a list of 127 English stop-words and can be used to filter our tokenized strings."
      ]
    },
    {
      "cell_type": "code",
      "metadata": {
        "id": "_fObPMgFUZ40",
        "colab": {
          "base_uri": "https://localhost:8080/"
        },
        "outputId": "b3a33f90-0388-4025-e32b-916d0396c7df"
      },
      "source": [
        "stop_words = stopwords.words(\"english\")\r\n",
        "print(stop_words)"
      ],
      "execution_count": 21,
      "outputs": [
        {
          "output_type": "stream",
          "text": [
            "['i', 'me', 'my', 'myself', 'we', 'our', 'ours', 'ourselves', 'you', \"you're\", \"you've\", \"you'll\", \"you'd\", 'your', 'yours', 'yourself', 'yourselves', 'he', 'him', 'his', 'himself', 'she', \"she's\", 'her', 'hers', 'herself', 'it', \"it's\", 'its', 'itself', 'they', 'them', 'their', 'theirs', 'themselves', 'what', 'which', 'who', 'whom', 'this', 'that', \"that'll\", 'these', 'those', 'am', 'is', 'are', 'was', 'were', 'be', 'been', 'being', 'have', 'has', 'had', 'having', 'do', 'does', 'did', 'doing', 'a', 'an', 'the', 'and', 'but', 'if', 'or', 'because', 'as', 'until', 'while', 'of', 'at', 'by', 'for', 'with', 'about', 'against', 'between', 'into', 'through', 'during', 'before', 'after', 'above', 'below', 'to', 'from', 'up', 'down', 'in', 'out', 'on', 'off', 'over', 'under', 'again', 'further', 'then', 'once', 'here', 'there', 'when', 'where', 'why', 'how', 'all', 'any', 'both', 'each', 'few', 'more', 'most', 'other', 'some', 'such', 'no', 'nor', 'not', 'only', 'own', 'same', 'so', 'than', 'too', 'very', 's', 't', 'can', 'will', 'just', 'don', \"don't\", 'should', \"should've\", 'now', 'd', 'll', 'm', 'o', 're', 've', 'y', 'ain', 'aren', \"aren't\", 'couldn', \"couldn't\", 'didn', \"didn't\", 'doesn', \"doesn't\", 'hadn', \"hadn't\", 'hasn', \"hasn't\", 'haven', \"haven't\", 'isn', \"isn't\", 'ma', 'mightn', \"mightn't\", 'mustn', \"mustn't\", 'needn', \"needn't\", 'shan', \"shan't\", 'shouldn', \"shouldn't\", 'wasn', \"wasn't\", 'weren', \"weren't\", 'won', \"won't\", 'wouldn', \"wouldn't\"]\n"
          ],
          "name": "stdout"
        }
      ]
    },
    {
      "cell_type": "code",
      "metadata": {
        "id": "qoJ-_4jZUr0N"
      },
      "source": [
        "# it may be beneficial to drop negation words from the removal list, as they can change the positive/negative meaning of a sentence\r\n",
        "stop_words.remove(\"no\")\r\n",
        "stop_words.remove(\"nor\")\r\n",
        "stop_words.remove(\"not\")"
      ],
      "execution_count": 22,
      "outputs": []
    },
    {
      "cell_type": "code",
      "metadata": {
        "id": "75fyCvyDzpFd"
      },
      "source": [
        "def stop_word_removal(row):\r\n",
        "  token = [token for token in row if token not in stop_words]\r\n",
        "  token = filter(None, token)\r\n",
        "\r\n",
        "  return token"
      ],
      "execution_count": 23,
      "outputs": []
    },
    {
      "cell_type": "markdown",
      "metadata": {
        "id": "sj0jsZ9W65Yo"
      },
      "source": [
        "### Converting the Sentiment Text Into Numbers"
      ]
    },
    {
      "cell_type": "markdown",
      "metadata": {
        "id": "ALmmE6Wo7A-6"
      },
      "source": [
        "Before using this function to train a model, we will need to adapt our preprocessed data a bit for this model architecture.\r\n",
        "\r\n",
        "We use the below function to combine each such list into a single text string. This is the format in which the ELMo TensorFlow hub model expects the input, and we are glad to oblige.\r\n",
        "\r\n",
        "> **NOTE**: The combined string in this case has stopwords removed – steps that are often not required in deep learning practice due to the uncanny ability of artificial neural networks to figure out what is important and isn’t,\r\n",
        "i.e., feature engineering, automatically. In our case, since we are trying to compare the strengths and weaknesses of the different model types for this problem, applying the same kind of preprocessing for all algorithms makes sense and is arguably the right approach. We note however that ELMo was pretrained on a corpus containing stopwords, as was BERT.\r\n",
        "\r\n",
        "Having fully vectorized the dataset, we must remember that it is not shuffled with respect to classes, i.e., it contains Nsamp = 1000 spam emails followed by an equal number of nonspam emails. Depending on how this dataset is split, in our case by picking the first 70% for training and the remainder for testing, this could lead to a training set composed of spam only, which would obviously lead to failure. In order to create a randomized ordering of class samples in the dataset, we will need to shuffle the data in unison with the header/list of labels.\r\n"
      ]
    },
    {
      "cell_type": "code",
      "metadata": {
        "id": "WPOqephWYXu6"
      },
      "source": [
        "# shuffle raw data first\r\n",
        "def unison_shuffle_data(data, header):\r\n",
        "  p = np.random.permutation(len(header))\r\n",
        "  data = data[p]\r\n",
        "  header = np.asarray(header)[p]\r\n",
        "\r\n",
        "  return data, header"
      ],
      "execution_count": 24,
      "outputs": []
    },
    {
      "cell_type": "markdown",
      "metadata": {
        "id": "M4w91A4yXqcc"
      },
      "source": [
        "Let's load dataset into a Numpy array after tokenizing, removing stopwords and punctuations, and shuffling."
      ]
    },
    {
      "cell_type": "code",
      "metadata": {
        "id": "mHgrPX9XX1Rr"
      },
      "source": [
        "# load data in appropriate form\r\n",
        "def load_data(path):\r\n",
        "  data, sentiments = [], []\r\n",
        "  for folder, sentiment in ((\"neg\", 0), (\"pos\", 1)):\r\n",
        "    folder = os.path.join(path, folder)\r\n",
        "    for name in os.listdir(folder):\r\n",
        "      with open(os.path.join(folder, name), \"r\") as reader:\r\n",
        "        text = reader.read()\r\n",
        "      text = tokenize(text)            # tokenizing\r\n",
        "      text = stop_word_removal(text)   # removing stopwords and punctuations\r\n",
        "      text = reg_expressions(text)\r\n",
        "      data.append(text)\r\n",
        "      sentiments.append(sentiment)     # Track corresponding sentiment labels\r\n",
        "\r\n",
        "  # converting to Numpy array\r\n",
        "  data_np = np.array(data)\r\n",
        "  # shuffling\r\n",
        "  data, sentiments = unison_shuffle_data(data_np, sentiments)\r\n",
        "\r\n",
        "  return data, sentiments"
      ],
      "execution_count": 25,
      "outputs": []
    },
    {
      "cell_type": "code",
      "metadata": {
        "id": "XLpNdWmlaYjB",
        "colab": {
          "base_uri": "https://localhost:8080/"
        },
        "outputId": "7def8aeb-bf7f-4717-a05d-2cabfdbdb13c"
      },
      "source": [
        "train_path = os.path.join(\"aclImdb\", \"train\")\r\n",
        "test_path = os.path.join(\"aclImdb\", \"test\")\r\n",
        "\r\n",
        "raw_data, raw_header = load_data(train_path)\r\n",
        "print(raw_data.shape)\r\n",
        "print(len(raw_header))"
      ],
      "execution_count": 26,
      "outputs": [
        {
          "output_type": "stream",
          "text": [
            "(25000,)\n",
            "25000\n"
          ],
          "name": "stdout"
        },
        {
          "output_type": "stream",
          "text": [
            "/usr/local/lib/python3.6/dist-packages/ipykernel_launcher.py:16: VisibleDeprecationWarning: Creating an ndarray from ragged nested sequences (which is a list-or-tuple of lists-or-tuples-or ndarrays with different lengths or shapes) is deprecated. If you meant to do this, you must specify 'dtype=object' when creating the ndarray\n",
            "  app.launch_new_instance()\n"
          ],
          "name": "stderr"
        }
      ]
    },
    {
      "cell_type": "markdown",
      "metadata": {
        "id": "Kzga3_25aXw3"
      },
      "source": [
        "Let's take n_sample*2 random entries of the loaded data for training:"
      ]
    },
    {
      "cell_type": "code",
      "metadata": {
        "id": "vUWw0t6fdhZf",
        "colab": {
          "base_uri": "https://localhost:8080/"
        },
        "outputId": "434d218c-626b-4753-f2cb-be018b11cfd1"
      },
      "source": [
        "# Subsample required number of samples\r\n",
        "random_indices = np.random.choice(range(len(raw_header)), size=(n_sample * 2, ), replace=False)\r\n",
        "data_train = raw_data[random_indices]\r\n",
        "header = raw_header[random_indices]\r\n",
        "\r\n",
        "print(\"DEBUG::data_train::\")\r\n",
        "print(data_train[:5])"
      ],
      "execution_count": 27,
      "outputs": [
        {
          "output_type": "stream",
          "text": [
            "DEBUG::data_train::\n",
            "[list(['i', 'watched', 'movie', '', 'years', 'ago', 'company', 'best', 'female', 'friend', 'i', 'got', 'judgment', 'teeth', 'pulled', 'i', 'feel', 'goodbr', 'br', 'i', 'ended', 'liking', 'big', 'time', 'its', 'hard', 'watch', 'take', 'account', 'deals', 'friendship', 'unwanted'])\n",
            " list(['the', 'movie', 'fun', 'staring', 'sunsheriff', 'pataki', 'total', 'retard', 'loves', 'nothing', 'better', 'sit', 'fat', 'rear', 'making', 'smoke', 'ring', 'puffy', 'cigars', 'drinking', 'booze', 'doctor', 'acts', 'like', 'zombie', 'version', 'nicholas', 'cage'])\n",
            " list(['rebar', 'astronaut', 'goes', 'worlds', 'first', 'space', 'mission', 'saturn', 'course', 'horror', 'movie', 'things', 'turn', 'ugly', 'returns', 'earth', 'survivor', 'stricken', 'bizarre', 'condition', 'causes', 'slowly', 'melt', 'lose', 'mind', 'unless'])\n",
            " list(['a', 'quiet', 'sweet', 'beutifully', 'nostalgic', 'movie', 'confronted', 'old', 'friends', 'surroundings', 'youth', 'memories', 'problems', 'sorrows', 'present', 'you', 'a', 'movie', 'makes', 'feel', 'good', 'all', 'ingredients', 'here', 'old', 'jelousy'])\n",
            " list(['i', 'never', 'panned', 'film', 'online', 'i', 'felt', 'moved', 'so', 'seeing', 'one', 'one', 'show', 'someones', 'funeral', 'say', 'bereaved', 'my', 'relatives', 'died', 'i', 'care', 'yoursbr', 'br', 'minus', 'propaganda', 'little', 'anything'])]\n"
          ],
          "name": "stdout"
        }
      ]
    },
    {
      "cell_type": "markdown",
      "metadata": {
        "id": "htBzFn8Bgb7N"
      },
      "source": [
        "Before proceeding, we need to check the balance of the resulting data with regards to class. In general, we don’t want one of the labels to represent most of the dataset, unless that is the distribution expected in practice."
      ]
    },
    {
      "cell_type": "code",
      "metadata": {
        "id": "ADYCfHfsgegJ",
        "colab": {
          "base_uri": "https://localhost:8080/"
        },
        "outputId": "c6abfd11-f801-4143-d829-3a59da20ebe0"
      },
      "source": [
        "# Display sentiments and their frequencies in the dataset, to ensure it is roughly balanced between classes\r\n",
        "unique_elements, counts_elements = np.unique(header, return_counts=True)\r\n",
        "print(\"Sentiments and their frequencies:\")\r\n",
        "print(unique_elements)\r\n",
        "print(counts_elements)"
      ],
      "execution_count": 28,
      "outputs": [
        {
          "output_type": "stream",
          "text": [
            "Sentiments and their frequencies:\n",
            "[0 1]\n",
            "[1029  971]\n"
          ],
          "name": "stdout"
        }
      ]
    },
    {
      "cell_type": "code",
      "metadata": {
        "id": "C9CWfDvIvLef"
      },
      "source": [
        "# function for converting data into the right format, due to the difference in required format from sklearn models\r\n",
        "# we expect a single string per email here, versus a list of tokens for the sklearn models previously explored\r\n",
        "def convert_data(raw_data, header):\r\n",
        "  converted_data, labels = [], []\r\n",
        "  for i in range(raw_data.shape[0]):\r\n",
        "    # combine list of tokens representing each email into single string\r\n",
        "    out = \" \".join(raw_data[i])\r\n",
        "    converted_data.append(out)\r\n",
        "    labels.append(header[i])\r\n",
        "  converted_data = np.array(converted_data, dtype=object)[:, np.newaxis]\r\n",
        "\r\n",
        "  return converted_data, np.array(labels)"
      ],
      "execution_count": 29,
      "outputs": []
    },
    {
      "cell_type": "markdown",
      "metadata": {
        "id": "TIGDs4kZYCIr"
      },
      "source": [
        "As the very last step of preparing the sentiment dataset for training by our baseline classifiers, we split it into independent training and testing or validation sets. This will allow us to evaluate the performance of the classifier on a set of data that was not used for training, an important thing\r\n",
        "to ensure in machine learning practice. We elect to use 70% of the data for training, and 30% for testing/validation afterwards."
      ]
    },
    {
      "cell_type": "code",
      "metadata": {
        "id": "h2bJ0TlTX3FW",
        "colab": {
          "base_uri": "https://localhost:8080/"
        },
        "outputId": "fa645a75-a706-4b70-c911-dc099fd9eb26"
      },
      "source": [
        "data_train, header = unison_shuffle_data(data_train, header)\r\n",
        "\r\n",
        "# split into independent 70% training and 30% testing sets\r\n",
        "idx = int(0.7 * data_train.shape[0])  # get 70% index value\r\n",
        "\r\n",
        "# 70% of data for training\r\n",
        "train_x, train_y = convert_data(data_train[:idx], header[:idx])\r\n",
        "\r\n",
        "# remaining 30% for testing\r\n",
        "test_x, test_y = convert_data(data_train[idx:], header[idx:])\r\n",
        "\r\n",
        "print(\"train_x/train_y list details, to make sure they are of the right form:\")\r\n",
        "print(len(train_x))\r\n",
        "print(train_x[:5])\r\n",
        "print(len(train_y))\r\n",
        "print(train_y[:5])"
      ],
      "execution_count": 31,
      "outputs": [
        {
          "output_type": "stream",
          "text": [
            "train_x/train_y list details, to make sure they are of the right form:\n",
            "1400\n",
            "[['where begin movie bad thisbr br do mention cast unlikeable heroes the overthetop acting the dreadful scriptbr br no you say anyone pays money see film poor needs head looking at i']\n",
            " ['truly one dire films ive ever sat through ive never actually taken time write one felt compelled witnessing affront filmmaking feel somewhat aggrieved wasting time piece turd honest']\n",
            " ['i firstly completely confidently disagree user calls spoof crispin glover serious film he personally introduced film screening i saw chicago he worked film years first']\n",
            " ['citizen x superbly told true story hunt one historys worst serial killers what makes story even compelling took place soviet union sbr br  mild spoilers br br  viktor burakov magnificently played']\n",
            " ['i really get people made film thought worth work put it even puzzling watched film without feeling cheated  minutes something valuable like cleaning couch reading leviticus br']]\n",
            "1400\n",
            "[0 0 0 1 0]\n"
          ],
          "name": "stdout"
        }
      ]
    },
    {
      "cell_type": "markdown",
      "metadata": {
        "id": "7HQRPMa4Z8RB"
      },
      "source": [
        "Since 70% of 2000 is 1400, looks good! (for n_sample=1000)"
      ]
    },
    {
      "cell_type": "markdown",
      "metadata": {
        "id": "yAdf-aVkadDa"
      },
      "source": [
        "## Neural Network Models"
      ]
    },
    {
      "cell_type": "markdown",
      "metadata": {
        "id": "lyHf2bhnaeI8"
      },
      "source": [
        "Neural networks are the most important class of machine learning algorithms for handling perceptual problems such as computer vision and NLP.\r\n",
        "\r\n",
        "we will train two representative pretrained neural network language models\r\n",
        "on the two illustrative example problems we have been baselining.\r\n",
        "\r\n",
        "The two models we will consider here are:\r\n",
        "\r\n",
        "- **ELMo** – Embeddings from Language Models, and\r\n",
        "- **BERT** – Bidirectional Encoder Representations from Transformers.\r\n",
        "\r\n",
        "ELMo includes elements of convolutional and recurrent (specifically LSTM) elements, while the appropriately named BERT is transformer-based.\r\n",
        "\r\n",
        "The simplest form of transfer learning fine-tuning will be employed, where a single dense classification layer is trained on top of the corresponding pretrained embedding over our dataset of labels.\r\n"
      ]
    },
    {
      "cell_type": "markdown",
      "metadata": {
        "id": "Tlwt9xNU6ESE"
      },
      "source": [
        "### Embeddings from Language Models (ELMo)"
      ]
    },
    {
      "cell_type": "markdown",
      "metadata": {
        "id": "jm2Qs3zL6F_M"
      },
      "source": [
        "The Embeddings from Language Models (ELMo) model, named after the popular Sesame Street character, was among the first models to demonstrate the effectiveness of transferring pretrained language model knowledge to general NLP tasks. The model was trained to predict the next word in a sequence of words, which can be done in an unsupervised manner on very large corpuses, and showed that the weights obtained as a result could generalize to a variety\r\n",
        "of other NLP tasks.\r\n",
        "\r\n",
        "It will suffice to mention here that the model employs character-level convolutions to build up preliminary embeddings of each word token, followed by bidirectional LSTM layers which introduce context of surrounding words into\r\n",
        "the final embeddings produced by the model.\r\n",
        "\r\n",
        "The ELMo model is available through the Tensorflow Hub, which provides an\r\n",
        "easy platform for sharing Tensorflow models. We will use Keras with Tensorflow backend to build our model. In order to make the tensorflow hub model usable by Keras, we will need to define a custom Keras layer that instantiates it in the right format.\r\n",
        "\r\n",
        "Let's create a custom tf hub ELMO embedding layer."
      ]
    },
    {
      "cell_type": "code",
      "metadata": {
        "id": "-z3ZAXn6-RtP"
      },
      "source": [
        "class ElmoEmbeddingLayer(Layer):\r\n",
        "\r\n",
        "  def __init__(self, **kwargs):\r\n",
        "    # initialize output dimension of ELMo embedding\r\n",
        "    self.dimensions = 1024\r\n",
        "    self.trainable = True\r\n",
        "    super(ElmoEmbeddingLayer, self).__init__(**kwargs)\r\n",
        "\r\n",
        "  def build(self, input_shape):\r\n",
        "    \"\"\"function for building ELMo embedding\"\"\"\r\n",
        "    # Download pretrained ELMo model from Tensorflow Hub\r\n",
        "    self.elmo = hub.Module(\"https://tfhub.dev/google/elmo/2\", trainable=self.trainable, name=\"{}_module\".format(self.name)) \r\n",
        "    # extract trainable parameters, which are only a small subset of the total - this is a constraint of\r\n",
        "    # the tf hub module as shared by the authors - see https://tfhub.dev/google/elmo/2\r\n",
        "    # the trainable parameters are 4 scalar weights on the sum of the outputs of ELMo layers \r\n",
        "    self.trainable_weights += K.tf.trainable_variables(scope=\"^{}_module/.*\".format(self.name))\r\n",
        "\r\n",
        "  def call(self, x, mask=None):\r\n",
        "    \"\"\"specify function for calling embedding\"\"\"\r\n",
        "    result = self.elmo(K.squeeze(K.cast(x, tf.string), axis=1), as_dict=True, signature=\"default\")[\"default\"]\r\n",
        "\r\n",
        "    return result\r\n",
        "\r\n",
        "  def compute_output_shape(self, input_shape):\r\n",
        "    \"\"\"specify output shape\"\"\"\r\n",
        "    return (input_shape[0], self.dimensions)"
      ],
      "execution_count": 32,
      "outputs": []
    },
    {
      "cell_type": "markdown",
      "metadata": {
        "id": "qSVYP1TK-vQe"
      },
      "source": [
        "We now use the custom TF hub ELMo embedding layer within a higher-level function to define the overall model. More specifically, we put a dense trainable layer of output dimension 256 on top of the ELMo embedding."
      ]
    },
    {
      "cell_type": "code",
      "metadata": {
        "id": "u4XnCjA1-Sr-"
      },
      "source": [
        "def build_model():\r\n",
        "  input_text = layers.Input(shape=(1,), dtype=\"string\")\r\n",
        "  embedding = ElmoEmbeddingLayer()(input_text)\r\n",
        "  dense = layers.Dense(256, activation=\"relu\")(embedding)      # new layer outputting 256-dimensional feature vectors\r\n",
        "  prediction = layers.Dense(1, activation=\"sigmoid\")(dense)\r\n",
        "\r\n",
        "  # we could use sigmoid activation as well, but we choose softmax\r\n",
        "  # to enable us use sparse_categorical_crossentropy and sparse_categorical_accuracy below\r\n",
        "  model = Model(inputs=[input_text], outputs=prediction)\r\n",
        "  # use sparse_categorical_crossentropy and sparse_categorical_accuracy do avoid having to one-hot encode the labels\r\n",
        "  model.compile(loss=\"binary_crossentropy\", optimizer=\"adam\", metrics=[\"accuracy\"])\r\n",
        "\r\n",
        "  model.summary()\r\n",
        "\r\n",
        "  return model"
      ],
      "execution_count": 33,
      "outputs": []
    },
    {
      "cell_type": "code",
      "metadata": {
        "id": "QolVseJU-fQ5",
        "colab": {
          "base_uri": "https://localhost:8080/"
        },
        "outputId": "5337fbe1-c06a-4f54-c08c-2aed00f8e854"
      },
      "source": [
        "# Build and fit\r\n",
        "model = build_model()\r\n",
        "history = model.fit(train_x, train_y, validation_data=(test_x, test_y), epochs=5, batch_size=32)"
      ],
      "execution_count": 34,
      "outputs": [
        {
          "output_type": "stream",
          "text": [
            "INFO:tensorflow:Saver not created because there are no variables in the graph to restore\n"
          ],
          "name": "stdout"
        },
        {
          "output_type": "stream",
          "text": [
            "INFO:tensorflow:Saver not created because there are no variables in the graph to restore\n"
          ],
          "name": "stderr"
        },
        {
          "output_type": "stream",
          "text": [
            "WARNING:tensorflow:From /usr/local/lib/python3.6/dist-packages/keras/backend/tensorflow_backend.py:4138: The name tf.random_uniform is deprecated. Please use tf.random.uniform instead.\n",
            "\n"
          ],
          "name": "stdout"
        },
        {
          "output_type": "stream",
          "text": [
            "WARNING:tensorflow:From /usr/local/lib/python3.6/dist-packages/keras/backend/tensorflow_backend.py:4138: The name tf.random_uniform is deprecated. Please use tf.random.uniform instead.\n",
            "\n"
          ],
          "name": "stderr"
        },
        {
          "output_type": "stream",
          "text": [
            "WARNING:tensorflow:From /usr/local/lib/python3.6/dist-packages/keras/optimizers.py:790: The name tf.train.Optimizer is deprecated. Please use tf.compat.v1.train.Optimizer instead.\n",
            "\n"
          ],
          "name": "stdout"
        },
        {
          "output_type": "stream",
          "text": [
            "WARNING:tensorflow:From /usr/local/lib/python3.6/dist-packages/keras/optimizers.py:790: The name tf.train.Optimizer is deprecated. Please use tf.compat.v1.train.Optimizer instead.\n",
            "\n"
          ],
          "name": "stderr"
        },
        {
          "output_type": "stream",
          "text": [
            "WARNING:tensorflow:From /usr/local/lib/python3.6/dist-packages/keras/backend/tensorflow_backend.py:3376: The name tf.log is deprecated. Please use tf.math.log instead.\n",
            "\n"
          ],
          "name": "stdout"
        },
        {
          "output_type": "stream",
          "text": [
            "WARNING:tensorflow:From /usr/local/lib/python3.6/dist-packages/keras/backend/tensorflow_backend.py:3376: The name tf.log is deprecated. Please use tf.math.log instead.\n",
            "\n"
          ],
          "name": "stderr"
        },
        {
          "output_type": "stream",
          "text": [
            "WARNING:tensorflow:From /usr/local/lib/python3.6/dist-packages/tensorflow_core/python/ops/nn_impl.py:183: where (from tensorflow.python.ops.array_ops) is deprecated and will be removed in a future version.\n",
            "Instructions for updating:\n",
            "Use tf.where in 2.0, which has the same broadcast rule as np.where\n"
          ],
          "name": "stdout"
        },
        {
          "output_type": "stream",
          "text": [
            "WARNING:tensorflow:From /usr/local/lib/python3.6/dist-packages/tensorflow_core/python/ops/nn_impl.py:183: where (from tensorflow.python.ops.array_ops) is deprecated and will be removed in a future version.\n",
            "Instructions for updating:\n",
            "Use tf.where in 2.0, which has the same broadcast rule as np.where\n"
          ],
          "name": "stderr"
        },
        {
          "output_type": "stream",
          "text": [
            "_________________________________________________________________\n",
            "Layer (type)                 Output Shape              Param #   \n",
            "=================================================================\n",
            "input_1 (InputLayer)         (None, 1)                 0         \n",
            "_________________________________________________________________\n",
            "elmo_embedding_layer_1 (Elmo (None, 1024)              4         \n",
            "_________________________________________________________________\n",
            "dense_1 (Dense)              (None, 256)               262400    \n",
            "_________________________________________________________________\n",
            "dense_2 (Dense)              (None, 1)                 257       \n",
            "=================================================================\n",
            "Total params: 262,661\n",
            "Trainable params: 262,661\n",
            "Non-trainable params: 0\n",
            "_________________________________________________________________\n",
            "WARNING:tensorflow:From /usr/local/lib/python3.6/dist-packages/keras/backend/tensorflow_backend.py:986: The name tf.assign_add is deprecated. Please use tf.compat.v1.assign_add instead.\n",
            "\n"
          ],
          "name": "stdout"
        },
        {
          "output_type": "stream",
          "text": [
            "WARNING:tensorflow:From /usr/local/lib/python3.6/dist-packages/keras/backend/tensorflow_backend.py:986: The name tf.assign_add is deprecated. Please use tf.compat.v1.assign_add instead.\n",
            "\n"
          ],
          "name": "stderr"
        },
        {
          "output_type": "stream",
          "text": [
            "WARNING:tensorflow:From /usr/local/lib/python3.6/dist-packages/keras/backend/tensorflow_backend.py:973: The name tf.assign is deprecated. Please use tf.compat.v1.assign instead.\n",
            "\n"
          ],
          "name": "stdout"
        },
        {
          "output_type": "stream",
          "text": [
            "WARNING:tensorflow:From /usr/local/lib/python3.6/dist-packages/keras/backend/tensorflow_backend.py:973: The name tf.assign is deprecated. Please use tf.compat.v1.assign instead.\n",
            "\n"
          ],
          "name": "stderr"
        },
        {
          "output_type": "stream",
          "text": [
            "Train on 1400 samples, validate on 600 samples\n",
            "Epoch 1/5\n",
            "WARNING:tensorflow:From /usr/local/lib/python3.6/dist-packages/keras/backend/tensorflow_backend.py:174: The name tf.get_default_session is deprecated. Please use tf.compat.v1.get_default_session instead.\n",
            "\n"
          ],
          "name": "stdout"
        },
        {
          "output_type": "stream",
          "text": [
            "WARNING:tensorflow:From /usr/local/lib/python3.6/dist-packages/keras/backend/tensorflow_backend.py:174: The name tf.get_default_session is deprecated. Please use tf.compat.v1.get_default_session instead.\n",
            "\n"
          ],
          "name": "stderr"
        },
        {
          "output_type": "stream",
          "text": [
            "WARNING:tensorflow:From /usr/local/lib/python3.6/dist-packages/keras/backend/tensorflow_backend.py:190: The name tf.global_variables is deprecated. Please use tf.compat.v1.global_variables instead.\n",
            "\n"
          ],
          "name": "stdout"
        },
        {
          "output_type": "stream",
          "text": [
            "WARNING:tensorflow:From /usr/local/lib/python3.6/dist-packages/keras/backend/tensorflow_backend.py:190: The name tf.global_variables is deprecated. Please use tf.compat.v1.global_variables instead.\n",
            "\n"
          ],
          "name": "stderr"
        },
        {
          "output_type": "stream",
          "text": [
            "WARNING:tensorflow:From /usr/local/lib/python3.6/dist-packages/keras/backend/tensorflow_backend.py:199: The name tf.is_variable_initialized is deprecated. Please use tf.compat.v1.is_variable_initialized instead.\n",
            "\n"
          ],
          "name": "stdout"
        },
        {
          "output_type": "stream",
          "text": [
            "WARNING:tensorflow:From /usr/local/lib/python3.6/dist-packages/keras/backend/tensorflow_backend.py:199: The name tf.is_variable_initialized is deprecated. Please use tf.compat.v1.is_variable_initialized instead.\n",
            "\n"
          ],
          "name": "stderr"
        },
        {
          "output_type": "stream",
          "text": [
            "WARNING:tensorflow:From /usr/local/lib/python3.6/dist-packages/keras/backend/tensorflow_backend.py:206: The name tf.variables_initializer is deprecated. Please use tf.compat.v1.variables_initializer instead.\n",
            "\n"
          ],
          "name": "stdout"
        },
        {
          "output_type": "stream",
          "text": [
            "WARNING:tensorflow:From /usr/local/lib/python3.6/dist-packages/keras/backend/tensorflow_backend.py:206: The name tf.variables_initializer is deprecated. Please use tf.compat.v1.variables_initializer instead.\n",
            "\n"
          ],
          "name": "stderr"
        },
        {
          "output_type": "stream",
          "text": [
            "1400/1400 [==============================] - 444s 317ms/step - loss: 0.6211 - acc: 0.6507 - val_loss: 0.5776 - val_acc: 0.7017\n",
            "Epoch 2/5\n",
            "1400/1400 [==============================] - 429s 307ms/step - loss: 0.5424 - acc: 0.7400 - val_loss: 0.5987 - val_acc: 0.6833\n",
            "Epoch 3/5\n",
            "1400/1400 [==============================] - 437s 312ms/step - loss: 0.5078 - acc: 0.7414 - val_loss: 0.6896 - val_acc: 0.6233\n",
            "Epoch 4/5\n",
            "1400/1400 [==============================] - 442s 316ms/step - loss: 0.4983 - acc: 0.7593 - val_loss: 0.5484 - val_acc: 0.7167\n",
            "Epoch 5/5\n",
            "1400/1400 [==============================] - 435s 311ms/step - loss: 0.4496 - acc: 0.7921 - val_loss: 0.5592 - val_acc: 0.7067\n"
          ],
          "name": "stdout"
        }
      ]
    },
    {
      "cell_type": "code",
      "metadata": {
        "id": "wUfBUPurxqrl"
      },
      "source": [
        "# Save trained model\r\n",
        "model.save(\"ELMoModel.h5\")"
      ],
      "execution_count": 35,
      "outputs": []
    },
    {
      "cell_type": "markdown",
      "metadata": {
        "id": "i-thuK3lxtWm"
      },
      "source": [
        "First of all, notice that we have added an additional layer on top the pretrained ELMo embedding, producing 256-dimensional feature vectors. We have also added a classification layer of output dimension 1. The activation function ‘sigmoid’ transforms its input into the interval between 0 and 1.\r\n",
        "\r\n",
        "Its output can be interpreted as the probability of the positive class, and when it exceeds some prespecified threshold (usually 0.5) the corresponding input to the network can be classified as the said positive class.\r\n",
        "\r\n",
        "We note that most of the trainable parameters in this case (approximately 260 thousand of them) are coming from the layers we added on top of the custom ELMo model. In other words, this is our first instance of transfer learning – learning a pair of new layers on top of the pretrained model shared by ELMo’s creators.\r\n",
        "\r\n",
        "In practice, one can increase the value of this parameter until the speed of convergence of a typical problem instance does not benefit from the increase, or whenever the GPU memory is no longer large enough for a single data batch to\r\n",
        "fit on it during an iteration of the algorithm, whichever happens first. Additionally, when dealing with a multi-GPU scenario, some evidence that the optimal scaling-up schedule of the batch size is linear in the number of GPUs, has been presented."
      ]
    },
    {
      "cell_type": "code",
      "metadata": {
        "id": "KP9SwddtxwbO",
        "outputId": "905004eb-c106-44e1-f6ef-4f2addc90f11",
        "colab": {
          "base_uri": "https://localhost:8080/",
          "height": 350
        }
      },
      "source": [
        "df_history = pd.DataFrame(history.history)\r\n",
        "\r\n",
        "fig,ax = plt.subplots()\r\n",
        "plt.plot(range(df_history.shape[0]),df_history['val_acc'],'bs--',label='validation')\r\n",
        "plt.plot(range(df_history.shape[0]),df_history['acc'],'r^--',label='training')\r\n",
        "plt.xlabel('epoch')\r\n",
        "plt.ylabel('accuracy')\r\n",
        "plt.title('ELMo Movie Review Classification Training')\r\n",
        "plt.legend(loc='best')\r\n",
        "plt.grid()\r\n",
        "plt.show()\r\n",
        "# Save figures\r\n",
        "fig.savefig('ELMoConvergence.eps', format='eps')\r\n",
        "fig.savefig('ELMoConvergence.pdf', format='pdf')\r\n",
        "fig.savefig('ELMoConvergence.png', format='png')\r\n",
        "fig.savefig('ELMoConvergence.svg', format='svg')"
      ],
      "execution_count": 36,
      "outputs": [
        {
          "output_type": "display_data",
          "data": {
            "image/png": "[encoded data removed]",
            "text/plain": [
              "<Figure size 432x288 with 1 Axes>"
            ]
          },
          "metadata": {
            "tags": [],
            "needs_background": "light"
          }
        },
        {
          "output_type": "stream",
          "text": [
            "WARNING:matplotlib.backends.backend_ps:The PostScript backend does not support transparency; partially transparent artists will be rendered opaque.\n",
            "WARNING:matplotlib.backends.backend_ps:The PostScript backend does not support transparency; partially transparent artists will be rendered opaque.\n"
          ],
          "name": "stderr"
        }
      ]
    },
    {
      "cell_type": "markdown",
      "metadata": {
        "id": "McjwONRhx0q8"
      },
      "source": [
        "We see that a validation accuracy of approximately 70.76% is attained at the 4th epoch, i.e., in under a minute. This performance is comparable to the performance of the logistic regression approach, which is only slightly better at 70.76%. We note that the behavior of the algorithm is stochastic, i.e., it behaves differently from run to run.\r\n",
        "\r\n",
        "Finally, we note that the divergence of training and validation accuracies is suggestive of the beginning of overfitting as indicative in the figure. This\r\n",
        "lends credence to the hypothesis that increasing the amount of signal by increasing the length of tokens, as specified by hyper-parameter maxtokenlen, and the number of tokens per email, as specified by maxtokens, may increase performance further. Naturally, increasing the number of samples per class by cranking up Nsamp should also work to improve performance.\r\n",
        "\r\n",
        "Each epoch again takes approximately 10 seconds and a validation accuracy of approximately 70% is achieved in under a minute at the 3rd epoch.\r\n",
        "\r\n",
        "**Note that some evidence of overfitting can be observed at the 3rd and later epochs, as the training accuracy continues to improve, i.e., the fit to the data improves, while the validation accuracy remains lower.**"
      ]
    }
  ]
}