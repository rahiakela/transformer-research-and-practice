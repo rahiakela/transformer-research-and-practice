{
  "nbformat": 4,
  "nbformat_minor": 0,
  "metadata": {
    "colab": {
      "name": "BERT-Sentiment-Classification.ipynb",
      "provenance": [],
      "toc_visible": true,
      "authorship_tag": "ABX9TyPzo6Kk8adm9ohBGtW69t5T",
      "include_colab_link": true
    },
    "kernelspec": {
      "name": "python3",
      "display_name": "Python 3"
    },
    "accelerator": "GPU"
  },
  "cells": [
    {
      "cell_type": "markdown",
      "metadata": {
        "id": "view-in-github",
        "colab_type": "text"
      },
      "source": [
        "<a href=\"https://colab.research.google.com/github/rahiakela/natural-language-processing-case-studies/blob/bert-transformer-labs/BERT_Sentiment_Classification.ipynb\" target=\"_parent\"><img src=\"https://colab.research.google.com/assets/colab-badge.svg\" alt=\"Open In Colab\"/></a>"
      ]
    },
    {
      "cell_type": "markdown",
      "metadata": {
        "id": "aP5V33hgW_wl"
      },
      "source": [
        "# BERT: Sentiment Classification with Pre-Trained Language Models using Ktrain"
      ]
    },
    {
      "cell_type": "markdown",
      "metadata": {
        "id": "YRkqrjOFXFpH"
      },
      "source": [
        "\r\n",
        "We’ll use [ktrain](https://github.com/amaiya/ktrain), a lightweight wrapper to train and use pre-trained DL models using the TensorFlow library Keras. ktrain provides a straightforward process for all steps, from obtaining the dataset and the pre-trained BERT to fine-tuning it for the classification task.\r\n",
        "\r\n"
      ]
    },
    {
      "cell_type": "markdown",
      "metadata": {
        "id": "VA8QmWoHgmBF"
      },
      "source": [
        "## Setup"
      ]
    },
    {
      "cell_type": "code",
      "metadata": {
        "id": "z3gKJ7Sdgnci"
      },
      "source": [
        "%%shell\r\n",
        "\r\n",
        "# install ktrain \r\n",
        "pip install ktrain"
      ],
      "execution_count": null,
      "outputs": []
    },
    {
      "cell_type": "code",
      "metadata": {
        "id": "Y0OX52uWgoDi"
      },
      "source": [
        "import tensorflow as tf\r\n",
        "import ktrain\r\n",
        "from ktrain import text\r\n",
        "\r\n",
        "import os.path\r\n",
        "\r\n",
        "import pandas as pd\r\n",
        "import io\r\n",
        "import numpy as np\r\n",
        "from collections import Counter\r\n",
        "import matplotlib.pyplot as plt\r\n",
        "%matplotlib inline"
      ],
      "execution_count": 3,
      "outputs": []
    },
    {
      "cell_type": "code",
      "metadata": {
        "colab": {
          "base_uri": "https://localhost:8080/",
          "height": 441
        },
        "id": "glAVLsnNhAxx",
        "outputId": "4f5b6274-b855-458b-bcf9-f82332ead7f3"
      },
      "source": [
        "# load dataset\r\n",
        "dataset = pd.read_csv(\"data.csv\")\r\n",
        "dataset.head()"
      ],
      "execution_count": 4,
      "outputs": [
        {
          "output_type": "execute_result",
          "data": {
            "text/html": [
              "<div>\n",
              "<style scoped>\n",
              "    .dataframe tbody tr th:only-of-type {\n",
              "        vertical-align: middle;\n",
              "    }\n",
              "\n",
              "    .dataframe tbody tr th {\n",
              "        vertical-align: top;\n",
              "    }\n",
              "\n",
              "    .dataframe thead th {\n",
              "        text-align: right;\n",
              "    }\n",
              "</style>\n",
              "<table border=\"1\" class=\"dataframe\">\n",
              "  <thead>\n",
              "    <tr style=\"text-align: right;\">\n",
              "      <th></th>\n",
              "      <th>tweet_id</th>\n",
              "      <th>airline_sentiment</th>\n",
              "      <th>airline_sentiment_confidence</th>\n",
              "      <th>negativereason</th>\n",
              "      <th>negativereason_confidence</th>\n",
              "      <th>airline</th>\n",
              "      <th>airline_sentiment_gold</th>\n",
              "      <th>name</th>\n",
              "      <th>negativereason_gold</th>\n",
              "      <th>retweet_count</th>\n",
              "      <th>text</th>\n",
              "      <th>tweet_coord</th>\n",
              "      <th>tweet_created</th>\n",
              "      <th>tweet_location</th>\n",
              "      <th>user_timezone</th>\n",
              "    </tr>\n",
              "  </thead>\n",
              "  <tbody>\n",
              "    <tr>\n",
              "      <th>0</th>\n",
              "      <td>5.703060e+17</td>\n",
              "      <td>neutral</td>\n",
              "      <td>1.0000</td>\n",
              "      <td>NaN</td>\n",
              "      <td>NaN</td>\n",
              "      <td>Virgin America</td>\n",
              "      <td>NaN</td>\n",
              "      <td>cairdin</td>\n",
              "      <td>NaN</td>\n",
              "      <td>0</td>\n",
              "      <td>@VirginAmerica What @dhepburn said.</td>\n",
              "      <td>NaN</td>\n",
              "      <td>24-02-2015 11:35</td>\n",
              "      <td>NaN</td>\n",
              "      <td>Eastern Time (US &amp; Canada)</td>\n",
              "    </tr>\n",
              "    <tr>\n",
              "      <th>1</th>\n",
              "      <td>5.703010e+17</td>\n",
              "      <td>positive</td>\n",
              "      <td>0.3486</td>\n",
              "      <td>NaN</td>\n",
              "      <td>0.0000</td>\n",
              "      <td>Virgin America</td>\n",
              "      <td>NaN</td>\n",
              "      <td>jnardino</td>\n",
              "      <td>NaN</td>\n",
              "      <td>0</td>\n",
              "      <td>@VirginAmerica plus you've added commercials t...</td>\n",
              "      <td>NaN</td>\n",
              "      <td>24-02-2015 11:15</td>\n",
              "      <td>NaN</td>\n",
              "      <td>Pacific Time (US &amp; Canada)</td>\n",
              "    </tr>\n",
              "    <tr>\n",
              "      <th>2</th>\n",
              "      <td>5.703010e+17</td>\n",
              "      <td>neutral</td>\n",
              "      <td>0.6837</td>\n",
              "      <td>NaN</td>\n",
              "      <td>NaN</td>\n",
              "      <td>Virgin America</td>\n",
              "      <td>NaN</td>\n",
              "      <td>yvonnalynn</td>\n",
              "      <td>NaN</td>\n",
              "      <td>0</td>\n",
              "      <td>@VirginAmerica I didn't today... Must mean I n...</td>\n",
              "      <td>NaN</td>\n",
              "      <td>24-02-2015 11:15</td>\n",
              "      <td>Lets Play</td>\n",
              "      <td>Central Time (US &amp; Canada)</td>\n",
              "    </tr>\n",
              "    <tr>\n",
              "      <th>3</th>\n",
              "      <td>5.703010e+17</td>\n",
              "      <td>negative</td>\n",
              "      <td>1.0000</td>\n",
              "      <td>Bad Flight</td>\n",
              "      <td>0.7033</td>\n",
              "      <td>Virgin America</td>\n",
              "      <td>NaN</td>\n",
              "      <td>jnardino</td>\n",
              "      <td>NaN</td>\n",
              "      <td>0</td>\n",
              "      <td>@VirginAmerica it's really aggressive to blast...</td>\n",
              "      <td>NaN</td>\n",
              "      <td>24-02-2015 11:15</td>\n",
              "      <td>NaN</td>\n",
              "      <td>Pacific Time (US &amp; Canada)</td>\n",
              "    </tr>\n",
              "    <tr>\n",
              "      <th>4</th>\n",
              "      <td>5.703010e+17</td>\n",
              "      <td>negative</td>\n",
              "      <td>1.0000</td>\n",
              "      <td>Can't Tell</td>\n",
              "      <td>1.0000</td>\n",
              "      <td>Virgin America</td>\n",
              "      <td>NaN</td>\n",
              "      <td>jnardino</td>\n",
              "      <td>NaN</td>\n",
              "      <td>0</td>\n",
              "      <td>@VirginAmerica and it's a really big bad thing...</td>\n",
              "      <td>NaN</td>\n",
              "      <td>24-02-2015 11:14</td>\n",
              "      <td>NaN</td>\n",
              "      <td>Pacific Time (US &amp; Canada)</td>\n",
              "    </tr>\n",
              "  </tbody>\n",
              "</table>\n",
              "</div>"
            ],
            "text/plain": [
              "       tweet_id airline_sentiment  ...  tweet_location               user_timezone\n",
              "0  5.703060e+17           neutral  ...             NaN  Eastern Time (US & Canada)\n",
              "1  5.703010e+17          positive  ...             NaN  Pacific Time (US & Canada)\n",
              "2  5.703010e+17           neutral  ...       Lets Play  Central Time (US & Canada)\n",
              "3  5.703010e+17          negative  ...             NaN  Pacific Time (US & Canada)\n",
              "4  5.703010e+17          negative  ...             NaN  Pacific Time (US & Canada)\n",
              "\n",
              "[5 rows x 15 columns]"
            ]
          },
          "metadata": {
            "tags": []
          },
          "execution_count": 4
        }
      ]
    },
    {
      "cell_type": "code",
      "metadata": {
        "colab": {
          "base_uri": "https://localhost:8080/",
          "height": 200
        },
        "id": "OVIUxRhnhWj4",
        "outputId": "4beb61d3-721a-4e6b-e9ce-824b17e614a0"
      },
      "source": [
        "# discard unwanted column\r\n",
        "data = dataset[[\"text\", \"airline_sentiment\"]]\r\n",
        "data.head()"
      ],
      "execution_count": 5,
      "outputs": [
        {
          "output_type": "execute_result",
          "data": {
            "text/html": [
              "<div>\n",
              "<style scoped>\n",
              "    .dataframe tbody tr th:only-of-type {\n",
              "        vertical-align: middle;\n",
              "    }\n",
              "\n",
              "    .dataframe tbody tr th {\n",
              "        vertical-align: top;\n",
              "    }\n",
              "\n",
              "    .dataframe thead th {\n",
              "        text-align: right;\n",
              "    }\n",
              "</style>\n",
              "<table border=\"1\" class=\"dataframe\">\n",
              "  <thead>\n",
              "    <tr style=\"text-align: right;\">\n",
              "      <th></th>\n",
              "      <th>text</th>\n",
              "      <th>airline_sentiment</th>\n",
              "    </tr>\n",
              "  </thead>\n",
              "  <tbody>\n",
              "    <tr>\n",
              "      <th>0</th>\n",
              "      <td>@VirginAmerica What @dhepburn said.</td>\n",
              "      <td>neutral</td>\n",
              "    </tr>\n",
              "    <tr>\n",
              "      <th>1</th>\n",
              "      <td>@VirginAmerica plus you've added commercials t...</td>\n",
              "      <td>positive</td>\n",
              "    </tr>\n",
              "    <tr>\n",
              "      <th>2</th>\n",
              "      <td>@VirginAmerica I didn't today... Must mean I n...</td>\n",
              "      <td>neutral</td>\n",
              "    </tr>\n",
              "    <tr>\n",
              "      <th>3</th>\n",
              "      <td>@VirginAmerica it's really aggressive to blast...</td>\n",
              "      <td>negative</td>\n",
              "    </tr>\n",
              "    <tr>\n",
              "      <th>4</th>\n",
              "      <td>@VirginAmerica and it's a really big bad thing...</td>\n",
              "      <td>negative</td>\n",
              "    </tr>\n",
              "  </tbody>\n",
              "</table>\n",
              "</div>"
            ],
            "text/plain": [
              "                                                text airline_sentiment\n",
              "0                @VirginAmerica What @dhepburn said.           neutral\n",
              "1  @VirginAmerica plus you've added commercials t...          positive\n",
              "2  @VirginAmerica I didn't today... Must mean I n...           neutral\n",
              "3  @VirginAmerica it's really aggressive to blast...          negative\n",
              "4  @VirginAmerica and it's a really big bad thing...          negative"
            ]
          },
          "metadata": {
            "tags": []
          },
          "execution_count": 5
        }
      ]
    },
    {
      "cell_type": "markdown",
      "metadata": {
        "id": "tCpD5Xvhjfbv"
      },
      "source": [
        "## STEP 1: Preprocessing"
      ]
    },
    {
      "cell_type": "code",
      "metadata": {
        "colab": {
          "base_uri": "https://localhost:8080/"
        },
        "id": "DwA060MKjHf7",
        "outputId": "e6e2031d-56b5-4ad7-f8f0-2090027a147a"
      },
      "source": [
        "# checking target value and its count\r\n",
        "data[\"airline_sentiment\"].value_counts()"
      ],
      "execution_count": 6,
      "outputs": [
        {
          "output_type": "execute_result",
          "data": {
            "text/plain": [
              "negative    1617\n",
              "neutral      510\n",
              "positive     372\n",
              "Name: airline_sentiment, dtype: int64"
            ]
          },
          "metadata": {
            "tags": []
          },
          "execution_count": 6
        }
      ]
    },
    {
      "cell_type": "code",
      "metadata": {
        "colab": {
          "base_uri": "https://localhost:8080/"
        },
        "id": "rUgnBEYmk5Q9",
        "outputId": "53a33a4e-7d99-4077-b2ba-05b5ee510a98"
      },
      "source": [
        "# checking the shape\r\n",
        "data.shape"
      ],
      "execution_count": 7,
      "outputs": [
        {
          "output_type": "execute_result",
          "data": {
            "text/plain": [
              "(2499, 2)"
            ]
          },
          "metadata": {
            "tags": []
          },
          "execution_count": 7
        }
      ]
    },
    {
      "cell_type": "code",
      "metadata": {
        "colab": {
          "base_uri": "https://localhost:8080/"
        },
        "id": "8zDrDtLbmOr4",
        "outputId": "8d545093-6645-463c-de59-31438b242a34"
      },
      "source": [
        "# check the total length of text \r\n",
        "data[\"text\"].str.len().sum()"
      ],
      "execution_count": 8,
      "outputs": [
        {
          "output_type": "execute_result",
          "data": {
            "text/plain": [
              "257971"
            ]
          },
          "metadata": {
            "tags": []
          },
          "execution_count": 8
        }
      ]
    },
    {
      "cell_type": "code",
      "metadata": {
        "colab": {
          "base_uri": "https://localhost:8080/"
        },
        "id": "j8jI9TntX66P",
        "outputId": "914f2081-68c5-4636-bcc2-5ae195a80f44"
      },
      "source": [
        "# checking the total unique words\r\n",
        "results = Counter()\r\n",
        "data['text'].str.lower().str.split().apply(results.update)\r\n",
        "print(len(results))"
      ],
      "execution_count": 9,
      "outputs": [
        {
          "output_type": "stream",
          "text": [
            "8204\n"
          ],
          "name": "stdout"
        }
      ]
    },
    {
      "cell_type": "code",
      "metadata": {
        "colab": {
          "base_uri": "https://localhost:8080/",
          "height": 200
        },
        "id": "Y_XIQOxuqenS",
        "outputId": "60f49152-ea0c-43c2-d763-1c94d0d66e98"
      },
      "source": [
        "# label one-hot encoding\r\n",
        "data = pd.get_dummies(data, columns=[\"airline_sentiment\"])\r\n",
        "data.head()"
      ],
      "execution_count": 10,
      "outputs": [
        {
          "output_type": "execute_result",
          "data": {
            "text/html": [
              "<div>\n",
              "<style scoped>\n",
              "    .dataframe tbody tr th:only-of-type {\n",
              "        vertical-align: middle;\n",
              "    }\n",
              "\n",
              "    .dataframe tbody tr th {\n",
              "        vertical-align: top;\n",
              "    }\n",
              "\n",
              "    .dataframe thead th {\n",
              "        text-align: right;\n",
              "    }\n",
              "</style>\n",
              "<table border=\"1\" class=\"dataframe\">\n",
              "  <thead>\n",
              "    <tr style=\"text-align: right;\">\n",
              "      <th></th>\n",
              "      <th>text</th>\n",
              "      <th>airline_sentiment_negative</th>\n",
              "      <th>airline_sentiment_neutral</th>\n",
              "      <th>airline_sentiment_positive</th>\n",
              "    </tr>\n",
              "  </thead>\n",
              "  <tbody>\n",
              "    <tr>\n",
              "      <th>0</th>\n",
              "      <td>@VirginAmerica What @dhepburn said.</td>\n",
              "      <td>0</td>\n",
              "      <td>1</td>\n",
              "      <td>0</td>\n",
              "    </tr>\n",
              "    <tr>\n",
              "      <th>1</th>\n",
              "      <td>@VirginAmerica plus you've added commercials t...</td>\n",
              "      <td>0</td>\n",
              "      <td>0</td>\n",
              "      <td>1</td>\n",
              "    </tr>\n",
              "    <tr>\n",
              "      <th>2</th>\n",
              "      <td>@VirginAmerica I didn't today... Must mean I n...</td>\n",
              "      <td>0</td>\n",
              "      <td>1</td>\n",
              "      <td>0</td>\n",
              "    </tr>\n",
              "    <tr>\n",
              "      <th>3</th>\n",
              "      <td>@VirginAmerica it's really aggressive to blast...</td>\n",
              "      <td>1</td>\n",
              "      <td>0</td>\n",
              "      <td>0</td>\n",
              "    </tr>\n",
              "    <tr>\n",
              "      <th>4</th>\n",
              "      <td>@VirginAmerica and it's a really big bad thing...</td>\n",
              "      <td>1</td>\n",
              "      <td>0</td>\n",
              "      <td>0</td>\n",
              "    </tr>\n",
              "  </tbody>\n",
              "</table>\n",
              "</div>"
            ],
            "text/plain": [
              "                                                text  ...  airline_sentiment_positive\n",
              "0                @VirginAmerica What @dhepburn said.  ...                           0\n",
              "1  @VirginAmerica plus you've added commercials t...  ...                           1\n",
              "2  @VirginAmerica I didn't today... Must mean I n...  ...                           0\n",
              "3  @VirginAmerica it's really aggressive to blast...  ...                           0\n",
              "4  @VirginAmerica and it's a really big bad thing...  ...                           0\n",
              "\n",
              "[5 rows x 4 columns]"
            ]
          },
          "metadata": {
            "tags": []
          },
          "execution_count": 10
        }
      ]
    },
    {
      "cell_type": "code",
      "metadata": {
        "id": "_AjyzNE4lRWN",
        "colab": {
          "base_uri": "https://localhost:8080/",
          "height": 200
        },
        "outputId": "08321930-bde8-43f6-fff2-f8b63a30e880"
      },
      "source": [
        "# rename one-hot colum name\r\n",
        "data = data.rename(columns={\"airline_sentiment_negative\":\"negative\", \"airline_sentiment_neutral\":\"neutral\", \"airline_sentiment_positive\":\"positive\"})\r\n",
        "data.head()"
      ],
      "execution_count": 11,
      "outputs": [
        {
          "output_type": "execute_result",
          "data": {
            "text/html": [
              "<div>\n",
              "<style scoped>\n",
              "    .dataframe tbody tr th:only-of-type {\n",
              "        vertical-align: middle;\n",
              "    }\n",
              "\n",
              "    .dataframe tbody tr th {\n",
              "        vertical-align: top;\n",
              "    }\n",
              "\n",
              "    .dataframe thead th {\n",
              "        text-align: right;\n",
              "    }\n",
              "</style>\n",
              "<table border=\"1\" class=\"dataframe\">\n",
              "  <thead>\n",
              "    <tr style=\"text-align: right;\">\n",
              "      <th></th>\n",
              "      <th>text</th>\n",
              "      <th>negative</th>\n",
              "      <th>neutral</th>\n",
              "      <th>positive</th>\n",
              "    </tr>\n",
              "  </thead>\n",
              "  <tbody>\n",
              "    <tr>\n",
              "      <th>0</th>\n",
              "      <td>@VirginAmerica What @dhepburn said.</td>\n",
              "      <td>0</td>\n",
              "      <td>1</td>\n",
              "      <td>0</td>\n",
              "    </tr>\n",
              "    <tr>\n",
              "      <th>1</th>\n",
              "      <td>@VirginAmerica plus you've added commercials t...</td>\n",
              "      <td>0</td>\n",
              "      <td>0</td>\n",
              "      <td>1</td>\n",
              "    </tr>\n",
              "    <tr>\n",
              "      <th>2</th>\n",
              "      <td>@VirginAmerica I didn't today... Must mean I n...</td>\n",
              "      <td>0</td>\n",
              "      <td>1</td>\n",
              "      <td>0</td>\n",
              "    </tr>\n",
              "    <tr>\n",
              "      <th>3</th>\n",
              "      <td>@VirginAmerica it's really aggressive to blast...</td>\n",
              "      <td>1</td>\n",
              "      <td>0</td>\n",
              "      <td>0</td>\n",
              "    </tr>\n",
              "    <tr>\n",
              "      <th>4</th>\n",
              "      <td>@VirginAmerica and it's a really big bad thing...</td>\n",
              "      <td>1</td>\n",
              "      <td>0</td>\n",
              "      <td>0</td>\n",
              "    </tr>\n",
              "  </tbody>\n",
              "</table>\n",
              "</div>"
            ],
            "text/plain": [
              "                                                text  ...  positive\n",
              "0                @VirginAmerica What @dhepburn said.  ...         0\n",
              "1  @VirginAmerica plus you've added commercials t...  ...         1\n",
              "2  @VirginAmerica I didn't today... Must mean I n...  ...         0\n",
              "3  @VirginAmerica it's really aggressive to blast...  ...         0\n",
              "4  @VirginAmerica and it's a really big bad thing...  ...         0\n",
              "\n",
              "[5 rows x 4 columns]"
            ]
          },
          "metadata": {
            "tags": []
          },
          "execution_count": 11
        }
      ]
    },
    {
      "cell_type": "code",
      "metadata": {
        "colab": {
          "base_uri": "https://localhost:8080/"
        },
        "id": "BTXqbBnerEu_",
        "outputId": "3aa2a129-9440-48c4-c5bb-800092e8e547"
      },
      "source": [
        "data.shape"
      ],
      "execution_count": 12,
      "outputs": [
        {
          "output_type": "execute_result",
          "data": {
            "text/plain": [
              "(2499, 4)"
            ]
          },
          "metadata": {
            "tags": []
          },
          "execution_count": 12
        }
      ]
    },
    {
      "cell_type": "markdown",
      "metadata": {
        "id": "VqZbdaVPt4cU"
      },
      "source": [
        "First, we use the texts_from_df function to load and preprocess the data in to arrays that can be directly fed into a neural network model.\r\n",
        "\r\n",
        "We set val_pct as 0.1, which will automatically sample 10% of the data for validation.\r\n",
        "\r\n",
        "We are using the BERT model (i.e., 'bert'), so we should use preprocess_mode='bert'."
      ]
    },
    {
      "cell_type": "code",
      "metadata": {
        "colab": {
          "base_uri": "https://localhost:8080/",
          "height": 282
        },
        "id": "JNTz7Cf1n0iP",
        "outputId": "279c9d7d-ac20-4972-d2e3-dd8355e6d877"
      },
      "source": [
        "(x_train, y_train), (x_test, y_test), preproc = text.texts_from_df(data, \r\n",
        "                                                                    \"text\", \r\n",
        "                                                                    label_columns=[\"negative\", \"neutral\", \"positive\"],\r\n",
        "                                                                    preprocess_mode='bert',\r\n",
        "                                                                    val_pct=0.1,\r\n",
        "                                                                    max_features=250000,\r\n",
        "                                                                    maxlen=170,\r\n",
        "                                                                    ngram_range=1\r\n",
        "                                                                    )"
      ],
      "execution_count": 13,
      "outputs": [
        {
          "output_type": "stream",
          "text": [
            "downloading pretrained BERT model (uncased_L-12_H-768_A-12.zip)...\n",
            "[██████████████████████████████████████████████████]\n",
            "extracting pretrained BERT model...\n",
            "done.\n",
            "\n",
            "cleanup downloaded zip...\n",
            "done.\n",
            "\n",
            "preprocessing train...\n",
            "language: en\n"
          ],
          "name": "stdout"
        },
        {
          "output_type": "display_data",
          "data": {
            "text/html": [
              "done."
            ],
            "text/plain": [
              "<IPython.core.display.HTML object>"
            ]
          },
          "metadata": {
            "tags": []
          }
        },
        {
          "output_type": "stream",
          "text": [
            "Is Multi-Label? False\n",
            "preprocessing test...\n",
            "language: en\n"
          ],
          "name": "stdout"
        },
        {
          "output_type": "display_data",
          "data": {
            "text/html": [
              "done."
            ],
            "text/plain": [
              "<IPython.core.display.HTML object>"
            ]
          },
          "metadata": {
            "tags": []
          }
        }
      ]
    },
    {
      "cell_type": "markdown",
      "metadata": {
        "id": "apEZ7FBMDinu"
      },
      "source": [
        "##STEP 2: Loading a pre trained BERT and wrapping it in a ktrain.learner object"
      ]
    },
    {
      "cell_type": "markdown",
      "metadata": {
        "id": "D9WLPg5tDjZs"
      },
      "source": [
        "The next step is to load the pre-trained BERT model and fine-tune it for this dataset.\r\n",
        "\r\n",
        "Next, we instantiate a Learner object and call the lr_find and lr_plot methods to help identify a good learning rate."
      ]
    },
    {
      "cell_type": "code",
      "metadata": {
        "colab": {
          "base_uri": "https://localhost:8080/"
        },
        "id": "yWqh6hoqsH71",
        "outputId": "cfb99325-b2ec-47dc-da92-0335bfc20cad"
      },
      "source": [
        "model = text.text_classifier(\"bert\", (x_train, y_train), preproc=preproc)\r\n",
        "learner = ktrain.get_learner(model, train_data=(x_train, y_train), val_data=(x_test, y_test), batch_size=6)"
      ],
      "execution_count": 14,
      "outputs": [
        {
          "output_type": "stream",
          "text": [
            "Is Multi-Label? False\n",
            "maxlen is 170\n",
            "done.\n"
          ],
          "name": "stdout"
        }
      ]
    },
    {
      "cell_type": "code",
      "metadata": {
        "colab": {
          "base_uri": "https://localhost:8080/"
        },
        "id": "fC-u4Sx6EE93",
        "outputId": "a1942048-618a-4015-c6e2-89526e00923a"
      },
      "source": [
        "learner.lr_find()"
      ],
      "execution_count": 15,
      "outputs": [
        {
          "output_type": "stream",
          "text": [
            "simulating training for different learning rates... this may take a few moments...\n",
            "Epoch 1/1024\n",
            "375/375 [==============================] - 175s 418ms/step - loss: 0.9650 - accuracy: 0.6135\n",
            "Epoch 2/1024\n",
            "375/375 [==============================] - 158s 423ms/step - loss: 0.6822 - accuracy: 0.7053\n",
            "Epoch 3/1024\n",
            "375/375 [==============================] - 160s 425ms/step - loss: 0.8920 - accuracy: 0.6450\n",
            "Epoch 4/1024\n",
            "375/375 [==============================] - 53s 141ms/step - loss: 3.6276 - accuracy: 0.5065\n",
            "\n",
            "\n",
            "done.\n",
            "Please invoke the Learner.lr_plot() method to visually inspect the loss plot to help identify the maximal learning rate associated with falling loss.\n"
          ],
          "name": "stdout"
        }
      ]
    },
    {
      "cell_type": "code",
      "metadata": {
        "id": "bYt3dYRDEJ81",
        "colab": {
          "base_uri": "https://localhost:8080/",
          "height": 283
        },
        "outputId": "f003563a-44e3-4ece-cb8b-37f287da80d5"
      },
      "source": [
        "learner.lr_plot()"
      ],
      "execution_count": 16,
      "outputs": [
        {
          "output_type": "display_data",
          "data": {
            "image/png": "[encoded data removed]",
            "text/plain": [
              "<Figure size 432x288 with 1 Axes>"
            ]
          },
          "metadata": {
            "tags": [],
            "needs_background": "light"
          }
        }
      ]
    },
    {
      "cell_type": "markdown",
      "metadata": {
        "id": "ALw0idEJEWvW"
      },
      "source": [
        "## STEP 3: Training and Tuning the model's parameters"
      ]
    },
    {
      "cell_type": "markdown",
      "metadata": {
        "id": "MUOnYAy1EXNs"
      },
      "source": [
        "Now we will train a text classifier using the BERT pre-trained model."
      ]
    },
    {
      "cell_type": "code",
      "metadata": {
        "colab": {
          "base_uri": "https://localhost:8080/"
        },
        "id": "zaVOTLwGEMXU",
        "outputId": "755bdb0b-443f-46ff-fbd7-64867f66b28a"
      },
      "source": [
        "# 2e-5 is one of the LRs  recommended by Google and is consistent with the plot above.\r\n",
        "learner.fit_onecycle(2e-5, 10)"
      ],
      "execution_count": 17,
      "outputs": [
        {
          "output_type": "stream",
          "text": [
            "\n",
            "\n",
            "begin training using onecycle policy with max lr of 2e-05...\n",
            "Epoch 1/10\n",
            "375/375 [==============================] - 186s 453ms/step - loss: 0.7376 - accuracy: 0.6910 - val_loss: 0.4617 - val_accuracy: 0.8080\n",
            "Epoch 2/10\n",
            "375/375 [==============================] - 167s 445ms/step - loss: 0.4252 - accuracy: 0.8248 - val_loss: 0.4132 - val_accuracy: 0.8280\n",
            "Epoch 3/10\n",
            "375/375 [==============================] - 167s 446ms/step - loss: 0.2612 - accuracy: 0.9040 - val_loss: 0.4314 - val_accuracy: 0.8560\n",
            "Epoch 4/10\n",
            "375/375 [==============================] - 168s 447ms/step - loss: 0.1340 - accuracy: 0.9542 - val_loss: 0.5841 - val_accuracy: 0.8080\n",
            "Epoch 5/10\n",
            "375/375 [==============================] - 167s 446ms/step - loss: 0.0705 - accuracy: 0.9787 - val_loss: 1.1457 - val_accuracy: 0.7680\n",
            "Epoch 6/10\n",
            "375/375 [==============================] - 168s 447ms/step - loss: 0.0782 - accuracy: 0.9742 - val_loss: 0.6376 - val_accuracy: 0.8360\n",
            "Epoch 7/10\n",
            "375/375 [==============================] - 167s 447ms/step - loss: 0.0353 - accuracy: 0.9902 - val_loss: 0.9090 - val_accuracy: 0.8240\n",
            "Epoch 8/10\n",
            "375/375 [==============================] - 167s 446ms/step - loss: 0.0224 - accuracy: 0.9916 - val_loss: 0.9505 - val_accuracy: 0.8080\n",
            "Epoch 9/10\n",
            "375/375 [==============================] - 167s 446ms/step - loss: 0.0090 - accuracy: 0.9973 - val_loss: 0.9540 - val_accuracy: 0.8160\n",
            "Epoch 10/10\n",
            "375/375 [==============================] - 167s 446ms/step - loss: 0.0057 - accuracy: 0.9982 - val_loss: 0.9851 - val_accuracy: 0.8200\n"
          ],
          "name": "stdout"
        },
        {
          "output_type": "execute_result",
          "data": {
            "text/plain": [
              "<tensorflow.python.keras.callbacks.History at 0x7fc271844e10>"
            ]
          },
          "metadata": {
            "tags": []
          },
          "execution_count": 17
        }
      ]
    },
    {
      "cell_type": "markdown",
      "metadata": {
        "id": "idtVyfD6gfYr"
      },
      "source": [
        "**As can be seen, our model yields a validation accuracy of 85.60 after 3rd epoch and then it is oscillating and not improving, so we need to search diffrent parameters like learning rate etc.**"
      ]
    },
    {
      "cell_type": "markdown",
      "metadata": {
        "id": "_j1sWDDNgjOh"
      },
      "source": [
        "## STEP-4: Making prediction on unseen data"
      ]
    },
    {
      "cell_type": "markdown",
      "metadata": {
        "id": "3RxwuzNAgmPs"
      },
      "source": [
        "Let's make some predictions on new data."
      ]
    },
    {
      "cell_type": "code",
      "metadata": {
        "id": "KK_GnS_PEmzx"
      },
      "source": [
        "predictor = ktrain.get_predictor(learner.model, preproc)"
      ],
      "execution_count": 18,
      "outputs": []
    },
    {
      "cell_type": "code",
      "metadata": {
        "colab": {
          "base_uri": "https://localhost:8080/"
        },
        "id": "7I9ECFSbXoY_",
        "outputId": "b202ac1d-7258-45b5-d0da-dd8aedc61f90"
      },
      "source": [
        "data = [\r\n",
        "  \" I booked a flight a while back to travel in March of 2020. But COVID-19 happened. I received a voucher for flight credits and was able to convert it back to cash to get my refund on my card. From March 2020 to now December 2020 I have still only received half of my refund. There is no number for Americans to call so I am stuck emailing. Everything went fine and I was initially told my refund would be processed. Months went by and I had only received half of it in May. I emailed again in July and by August or September I was told in 14 to 20 business days I would receive the other half. Over a month went by and nothing. I contacted once more in November and this time they sent “a receipt as proof that the payment was sent out” I guess they got tired of hearing from me and the next time I try to make a claim they will say they it was already sent out and the receipt is proof. They might has well has returned my flight credits. Choose another airline, these people are ripoffs. They will not refund your money.\",\r\n",
        "  \"Worst Customer service I have experienced, ever. Its been more than 6 months and still not been able to fully recover refund for cancelled flight back in March 2020. Every time you call, you get told different information, no reply to emails. Eventually received some funds, but not the full amount due to their error, It takes another 14 to 20 working days apparently to receive funds, so after waiting long again, its quite disappointing to find out only tiny amount has been refunded again, another error. Why do I have to beg for money that I am entitled to? Avoid if you can\",\r\n",
        "  \"Airlines cancelled my flight due to covid restrictions which is understandable. But they did not inform me it was cancelled luckily I had checked the airport site to see it was cancelled.\",\r\n",
        "  \"The wont say in the email that IF you don't check in online then you must pay at the airport to check in. Such a cheap way to make money! So misleading. The staff isn't helpful at all. I will never fly with this terrible airline again!\",\r\n",
        "  \"No problem except leg room which is rather uncomfortable if you are somewhat tall (5' 8 and my husband is 6'0) and it was very warm on the plane. Coming back what really bothered me was that going to the restroom early on in the flight the trash was full and the pump soap was empty. Someone had thrown bars of soap onto the counter. A 13 hour flight with guessing 300 people. Not very sanitary. Staff were polite and courteous. Good entertainment choices. Food average but I'm not the best judge for that. I'm not sure I would like to fly this airline again given a choice.\",\r\n",
        "  \"Very attentive service needs were taken care of before you asked and very good food although I have had even better food on other THY flights. My real issue is with the business class seat sleeping comfort on the A340-300.I am not sure at what angle the seat reclines but it is pretty nasty I was annoyed because the ticket price was pretty high.\"\r\n",
        "]\r\n",
        "\r\n",
        "predictor.predict(data)"
      ],
      "execution_count": 19,
      "outputs": [
        {
          "output_type": "execute_result",
          "data": {
            "text/plain": [
              "['negative', 'negative', 'negative', 'negative', 'negative', 'negative']"
            ]
          },
          "metadata": {
            "tags": []
          },
          "execution_count": 19
        }
      ]
    },
    {
      "cell_type": "code",
      "metadata": {
        "id": "io-oTWiuXyQz"
      },
      "source": [
        ""
      ],
      "execution_count": 19,
      "outputs": []
    }
  ]
}