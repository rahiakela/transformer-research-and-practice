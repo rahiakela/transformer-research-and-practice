{
  "nbformat": 4,
  "nbformat_minor": 0,
  "metadata": {
    "colab": {
      "provenance": [],
      "toc_visible": true,
      "authorship_tag": "ABX9TyMJypeq0QdflsK3oYx22wPH",
      "include_colab_link": true
    },
    "kernelspec": {
      "name": "python3",
      "display_name": "Python 3"
    },
    "language_info": {
      "name": "python"
    }
  },
  "cells": [
    {
      "cell_type": "markdown",
      "metadata": {
        "id": "view-in-github",
        "colab_type": "text"
      },
      "source": [
        "<a href=\"https://colab.research.google.com/github/rahiakela/transformers-research-and-practice/blob/main/attention-and-transformers-mechanism/attention-mechanism/scaled_dot_product_basic.ipynb\" target=\"_parent\"><img src=\"https://colab.research.google.com/assets/colab-badge.svg\" alt=\"Open In Colab\"/></a>"
      ]
    },
    {
      "cell_type": "markdown",
      "source": [
        "##Scaled dot product basic"
      ],
      "metadata": {
        "id": "fbDJ5ry_RRj7"
      }
    },
    {
      "cell_type": "markdown",
      "source": [
        "In this notebook, we will discuss a very important concept **scaled dot product\"\" instead of **normal dot product** as the similarity function. The scaled dot product is exactly the same as the dot product, but scaled with a factor of $\\frac{1}{\\sqrt(dim)}$.\n",
        "\n",
        "Here let us pose some problems and devise the solutions ourselves. The scaling factor will be hidden inside the solution.\n",
        "\n",
        "\n"
      ],
      "metadata": {
        "id": "Po9CftcIRZmK"
      }
    },
    {
      "cell_type": "markdown",
      "source": [
        "##Setup"
      ],
      "metadata": {
        "id": "dut9RISsV2_F"
      }
    },
    {
      "cell_type": "code",
      "source": [
        "import numpy as np\n",
        "import matplotlib.pyplot as plt\n",
        "\n",
        "import torch.nn.functional as nn "
      ],
      "metadata": {
        "id": "-KYoV1FDTKxk"
      },
      "execution_count": 4,
      "outputs": []
    },
    {
      "cell_type": "code",
      "source": [
        "def softmax(x):\n",
        "  \"\"\"Compute softmax values for each sets of scores in x.\"\"\"\n",
        "  return np.exp(x) / np.sum(np.exp(x), axis=0)"
      ],
      "metadata": {
        "id": "DHPa3pBSUxN9"
      },
      "execution_count": 13,
      "outputs": []
    },
    {
      "cell_type": "markdown",
      "source": [
        "##Problems"
      ],
      "metadata": {
        "id": "7-DByAHmVyNZ"
      }
    },
    {
      "cell_type": "markdown",
      "source": [
        "  - **Vanishing Gradient Problem**: The weights of a Neural Network update in proportion to the gradient of the loss. The problem is that, in some cases, the gradient will be small, effectively preventing the weight from changing its value at all. This, in turn, prohibits the network from learning any further. This is often referred to as the vanishing gradient problem.\n",
        "  - **Unnormalized softmax**: Consider a normal distribution. The softmax of the distribution is heavily dependent on its standard deviation. With a huge standard deviation, the softmax will result in a peak with zeros all around.\n",
        "  - **Unnormalized softmax leading to the vanishing gradient**: Consider if your logits pass through softmax and then we have a loss (cross-entropy). The errors that backpropagate will be dependent on the softmax output."
      ],
      "metadata": {
        "id": "PsbpxbXzVzLn"
      }
    },
    {
      "cell_type": "code",
      "source": [
        "# create a normal distribution with mean 0 and std 100\n",
        "a = np.random.normal(0, 100, size=(10000))\n",
        "\n",
        "# visualize the data\n",
        "plt.hist(a)"
      ],
      "metadata": {
        "colab": {
          "base_uri": "https://localhost:8080/",
          "height": 369
        },
        "id": "jl0aW76jTRD6",
        "outputId": "b13870fd-32c2-4165-bf1e-07c0165a5b4f"
      },
      "execution_count": 3,
      "outputs": [
        {
          "output_type": "execute_result",
          "data": {
            "text/plain": [
              "(array([   4.,   58.,  380., 1306., 2588., 2950., 1866.,  690.,  135.,\n",
              "          23.]),\n",
              " array([-400.20111534, -323.69242149, -247.18372765, -170.6750338 ,\n",
              "         -94.16633995,  -17.6576461 ,   58.85104774,  135.35974159,\n",
              "         211.86843544,  288.37712929,  364.88582314]),\n",
              " <a list of 10 Patch objects>)"
            ]
          },
          "metadata": {},
          "execution_count": 3
        },
        {
          "output_type": "display_data",
          "data": {
            "text/plain": [
              "<Figure size 432x288 with 1 Axes>"
            ],
            "image/png": "[encoded data removed]"
          },
          "metadata": {
            "needs_background": "light"
          }
        }
      ]
    },
    {
      "cell_type": "code",
      "source": [
        "# visualize the softmax of the distribution\n",
        "plt.hist(softmax(a))"
      ],
      "metadata": {
        "colab": {
          "base_uri": "https://localhost:8080/",
          "height": 369
        },
        "id": "_ZGEg1nIT3TM",
        "outputId": "486fa9d5-a4d3-43b0-d179-0d202e23fa32"
      },
      "execution_count": 14,
      "outputs": [
        {
          "output_type": "execute_result",
          "data": {
            "text/plain": [
              "(array([9.999e+03, 0.000e+00, 0.000e+00, 0.000e+00, 0.000e+00, 0.000e+00,\n",
              "        0.000e+00, 0.000e+00, 0.000e+00, 1.000e+00]),\n",
              " array([0.        , 0.09421852, 0.18843705, 0.28265557, 0.3768741 ,\n",
              "        0.47109262, 0.56531114, 0.65952967, 0.75374819, 0.84796671,\n",
              "        0.94218524]),\n",
              " <a list of 10 Patch objects>)"
            ]
          },
          "metadata": {},
          "execution_count": 14
        },
        {
          "output_type": "display_data",
          "data": {
            "text/plain": [
              "<Figure size 432x288 with 1 Axes>"
            ],
            "image/png": "[encoded data removed]"
          },
          "metadata": {
            "needs_background": "light"
          }
        }
      ]
    },
    {
      "cell_type": "markdown",
      "source": [
        "Now assume that you have an unnormalized softmax function, as mentioned above. The error corresponding to the peak will definitely be back-propagated, while the others (corresponding to zeros in the softmax) will not flow at all. This gives rise to the vanishing gradient problem."
      ],
      "metadata": {
        "id": "06i_QSl2VtNt"
      }
    },
    {
      "cell_type": "markdown",
      "source": [
        "##Solution"
      ],
      "metadata": {
        "id": "ePFQBziOWAPe"
      }
    },
    {
      "cell_type": "markdown",
      "source": [
        "To counter the problem of vanishing gradients due to unnormalized softmax, we need to find a way to have a better softmax output.\n",
        "\n",
        "It turns out that the standard deviation of a distribution largely influences the softmax output. \n",
        "\n",
        "Let’s create a normal distribution with a standard deviation of 100. We also scale the distribution so that the standard deviation is unity."
      ],
      "metadata": {
        "id": "5lUl_kJFWA43"
      }
    },
    {
      "cell_type": "code",
      "source": [
        "# create a normal distribution with mean 0 and std 100\n",
        "std = np.random.normal(0, 100, size=(10000))\n",
        "\n",
        "# scale the distribution to have 1 std\n",
        "unit_std = std / 100\n",
        "\n",
        "np.std(std)"
      ],
      "metadata": {
        "colab": {
          "base_uri": "https://localhost:8080/"
        },
        "id": "N6mzqlIsWJlc",
        "outputId": "78290d8a-edec-420f-dccf-2097a0e03a92"
      },
      "execution_count": 15,
      "outputs": [
        {
          "output_type": "execute_result",
          "data": {
            "text/plain": [
              "99.26582231336072"
            ]
          },
          "metadata": {},
          "execution_count": 15
        }
      ]
    },
    {
      "cell_type": "code",
      "source": [
        "np.std(unit_std)"
      ],
      "metadata": {
        "colab": {
          "base_uri": "https://localhost:8080/"
        },
        "id": "iB6WDKEFWkwv",
        "outputId": "556c3ab7-158d-42cb-c126-6e44ae246acd"
      },
      "execution_count": 16,
      "outputs": [
        {
          "output_type": "execute_result",
          "data": {
            "text/plain": [
              "0.9926582231336071"
            ]
          },
          "metadata": {},
          "execution_count": 16
        }
      ]
    },
    {
      "cell_type": "code",
      "source": [
        "# visualize the data\n",
        "plt.hist(std)"
      ],
      "metadata": {
        "colab": {
          "base_uri": "https://localhost:8080/",
          "height": 369
        },
        "id": "P6WA91m6WhH0",
        "outputId": "9a337a3f-3ffc-4cbe-a841-192820a1d02b"
      },
      "execution_count": 17,
      "outputs": [
        {
          "output_type": "execute_result",
          "data": {
            "text/plain": [
              "(array([   5.,   26.,  228., 1016., 2211., 3106., 2188.,  970.,  220.,\n",
              "          30.]),\n",
              " array([-423.43440968, -346.42921318, -269.42401668, -192.41882017,\n",
              "        -115.41362367,  -38.40842717,   38.59676934,  115.60196584,\n",
              "         192.60716234,  269.61235885,  346.61755535]),\n",
              " <a list of 10 Patch objects>)"
            ]
          },
          "metadata": {},
          "execution_count": 17
        },
        {
          "output_type": "display_data",
          "data": {
            "text/plain": [
              "<Figure size 432x288 with 1 Axes>"
            ],
            "image/png": "[encoded data removed]"
          },
          "metadata": {
            "needs_background": "light"
          }
        }
      ]
    },
    {
      "cell_type": "code",
      "source": [
        "plt.hist(unit_std)"
      ],
      "metadata": {
        "colab": {
          "base_uri": "https://localhost:8080/",
          "height": 369
        },
        "id": "bnuI6Zl9WutU",
        "outputId": "9e13e8c8-1965-423f-8713-9b7810b3c753"
      },
      "execution_count": 18,
      "outputs": [
        {
          "output_type": "execute_result",
          "data": {
            "text/plain": [
              "(array([   5.,   26.,  228., 1016., 2211., 3106., 2188.,  970.,  220.,\n",
              "          30.]),\n",
              " array([-4.2343441 , -3.46429213, -2.69424017, -1.9241882 , -1.15413624,\n",
              "        -0.38408427,  0.38596769,  1.15601966,  1.92607162,  2.69612359,\n",
              "         3.46617555]),\n",
              " <a list of 10 Patch objects>)"
            ]
          },
          "metadata": {},
          "execution_count": 18
        },
        {
          "output_type": "display_data",
          "data": {
            "text/plain": [
              "<Figure size 432x288 with 1 Axes>"
            ],
            "image/png": "[encoded data removed]"
          },
          "metadata": {
            "needs_background": "light"
          }
        }
      ]
    },
    {
      "cell_type": "markdown",
      "source": [
        "The histograms of both distributions seem alike. One is the scaled version of the other (look at the x-axis).\n",
        "\n",
        "Let’s calculate the softmax of both and visualize them."
      ],
      "metadata": {
        "id": "H9UJSHQ_W4c5"
      }
    },
    {
      "cell_type": "code",
      "source": [
        "softmax_std = softmax(std)\n",
        "softmax_unit_std = softmax(unit_std)\n",
        "\n",
        "plt.plot(softmax_std)"
      ],
      "metadata": {
        "colab": {
          "base_uri": "https://localhost:8080/",
          "height": 282
        },
        "id": "1SaTKitvW8J4",
        "outputId": "f3389f4d-be7d-4669-8fa6-369da41bae88"
      },
      "execution_count": 20,
      "outputs": [
        {
          "output_type": "execute_result",
          "data": {
            "text/plain": [
              "[<matplotlib.lines.Line2D at 0x7f28b2d2b910>]"
            ]
          },
          "metadata": {},
          "execution_count": 20
        },
        {
          "output_type": "display_data",
          "data": {
            "text/plain": [
              "<Figure size 432x288 with 1 Axes>"
            ],
            "image/png": "[encoded data removed]"
          },
          "metadata": {
            "needs_background": "light"
          }
        }
      ]
    },
    {
      "cell_type": "code",
      "source": [
        "plt.plot(softmax_unit_std)"
      ],
      "metadata": {
        "colab": {
          "base_uri": "https://localhost:8080/",
          "height": 282
        },
        "id": "NLPTMo1KYFr0",
        "outputId": "1cc28c51-62f1-451c-a562-a057b28efa1b"
      },
      "execution_count": 21,
      "outputs": [
        {
          "output_type": "execute_result",
          "data": {
            "text/plain": [
              "[<matplotlib.lines.Line2D at 0x7f28b2c93790>]"
            ]
          },
          "metadata": {},
          "execution_count": 21
        },
        {
          "output_type": "display_data",
          "data": {
            "text/plain": [
              "<Figure size 432x288 with 1 Axes>"
            ],
            "image/png": "[encoded data removed]"
          },
          "metadata": {
            "needs_background": "light"
          }
        }
      ]
    },
    {
      "cell_type": "markdown",
      "source": [
        "Scaling the distribution to unit standard deviation provides a distributed softmax output. This softmax allows the gradients to backpropagate, saving our model from collapsing."
      ],
      "metadata": {
        "id": "fg5j5OtBYVHj"
      }
    },
    {
      "cell_type": "markdown",
      "source": [
        "Scaling of the Dot Product"
      ],
      "metadata": {
        "id": "aorUhVQQdiu3"
      }
    },
    {
      "cell_type": "markdown",
      "source": [
        "We came across the vanishing gradient problem, the unnormalized softmax output, and also a way we can counter it. We are yet to understand the relationship between the above-mentioned problems and solutions to that of the scaled dot product proposed by the authors.\n",
        "\n",
        "The attention layers consist of a similarity function that takes two vectors and performs a dot product. This dot product is then passed through a softmax to create the attention weights. This recipe is perfect for a vanishing gradient problem. The way to counter the problem is to transform the dot product result into a unit standard deviation distribution.\n",
        "\n",
        "Let us assume that we have two independent and randomly distributed variables: `a` and `b`. Both vectors have a mean of 0 and a standard deviation of 1."
      ],
      "metadata": {
        "id": "IU4Fd66kdjU1"
      }
    },
    {
      "cell_type": "code",
      "source": [
        "c = []\n",
        "for i in range(100):\n",
        "  a = np.random.normal(0, 1, size=(100))\n",
        "  b = np.random.normal(0, 1, size=(100))\n",
        "  c.append(np.dot(a, b))"
      ],
      "metadata": {
        "id": "08K3UXUydp0G"
      },
      "execution_count": 22,
      "outputs": []
    },
    {
      "cell_type": "code",
      "source": [
        "np.mean(c)"
      ],
      "metadata": {
        "colab": {
          "base_uri": "https://localhost:8080/"
        },
        "id": "yHs6288YeBj1",
        "outputId": "a8a81461-863b-4fc4-d6af-15bdadd0c6af"
      },
      "execution_count": 23,
      "outputs": [
        {
          "output_type": "execute_result",
          "data": {
            "text/plain": [
              "-0.166758432261435"
            ]
          },
          "metadata": {},
          "execution_count": 23
        }
      ]
    },
    {
      "cell_type": "code",
      "source": [
        "np.var(c)"
      ],
      "metadata": {
        "colab": {
          "base_uri": "https://localhost:8080/"
        },
        "id": "jWIk7MsmeDyy",
        "outputId": "23dc1643-ddee-4fcc-9742-c68613a02a0c"
      },
      "execution_count": 24,
      "outputs": [
        {
          "output_type": "execute_result",
          "data": {
            "text/plain": [
              "108.07164084317037"
            ]
          },
          "metadata": {},
          "execution_count": 24
        }
      ]
    },
    {
      "cell_type": "code",
      "source": [
        "np.std(c)"
      ],
      "metadata": {
        "colab": {
          "base_uri": "https://localhost:8080/"
        },
        "id": "FRm8TJHjeGPO",
        "outputId": "067f7cb6-bcb9-4b73-b83e-d84ffa9fe12c"
      },
      "execution_count": 25,
      "outputs": [
        {
          "output_type": "execute_result",
          "data": {
            "text/plain": [
              "10.39575109567223"
            ]
          },
          "metadata": {},
          "execution_count": 25
        }
      ]
    },
    {
      "cell_type": "markdown",
      "source": [
        "What is interesting here is that the mean of such a dot product remains to be 0 regardless of the size of the random variables, but the variance and, in turn, the standard deviation are directly proportional to the size of the random variables. \n",
        "\n",
        "To be specific, variance is linearly proportional while standard deviation is proportional with the factor of $\\sqrt(dim)$.\n",
        "\n",
        "To prohibit the dot product from a vanishing gradient problem, the authors scale the dot product with the $\\frac{1}{\\sqrt(dim}$ factor. This, in turn, is the scaled dot product that the authors have suggested in the paper. \n"
      ],
      "metadata": {
        "id": "6RATem_DeWuy"
      }
    }
  ]
}