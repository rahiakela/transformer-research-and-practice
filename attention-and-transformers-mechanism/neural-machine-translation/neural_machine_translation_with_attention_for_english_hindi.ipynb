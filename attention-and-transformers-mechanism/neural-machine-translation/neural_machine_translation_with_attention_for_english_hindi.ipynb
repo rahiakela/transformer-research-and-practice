{
  "nbformat": 4,
  "nbformat_minor": 0,
  "metadata": {
    "colab": {
      "name": "neural_machine_translation_with_attention_for_english_hindi.ipynb",
      "provenance": [],
      "collapsed_sections": [
        "9gepY-48-clx",
        "nCqSRKwJBDQj"
      ],
      "toc_visible": true,
      "include_colab_link": true
    },
    "kernelspec": {
      "name": "python3",
      "display_name": "Python 3"
    },
    "accelerator": "GPU"
  },
  "cells": [
    {
      "cell_type": "markdown",
      "metadata": {
        "id": "view-in-github",
        "colab_type": "text"
      },
      "source": [
        "<a href=\"https://colab.research.google.com/github/rahiakela/natural-language-processing-case-studies/blob/master/neural_machine_translation_with_attention_for_english_hindi.ipynb\" target=\"_parent\"><img src=\"https://colab.research.google.com/assets/colab-badge.svg\" alt=\"Open In Colab\"/></a>"
      ]
    },
    {
      "cell_type": "markdown",
      "metadata": {
        "id": "4PQ1kQGVw906",
        "colab_type": "text"
      },
      "source": [
        "# Neural machine translation with attention for English-Hindi\n"
      ]
    },
    {
      "cell_type": "markdown",
      "metadata": {
        "id": "_a7t2SP2w-wc",
        "colab_type": "text"
      },
      "source": [
        "This notebook trains a sequence to sequence (seq2seq) model for Hindi to English translation. This is an advanced example that assumes some knowledge of sequence to sequence models.\n",
        "\n",
        "After training the model in this notebook, you will be able to input a Hindi sentence, such as *\"तुम कहाँ जा रहे हो?\"*, and return the English translation: *\"are you still at home?\"*\n",
        "\n",
        "The translation quality is reasonable for a toy example, but the generated attention plot is perhaps more interesting. This shows which parts of the input sentence has the model's attention while translating:\n",
        "\n",
        "<img src='https://github.com/rahiakela/img-repo/blob/master/hin-eng.png?raw=1' width='800' alt='hindi-english attention plot'/>\n",
        "\n",
        "Note: This example takes approximately 10 minutes to run on a single P100 GPU."
      ]
    },
    {
      "cell_type": "markdown",
      "metadata": {
        "id": "u-6jyeX7xZr7",
        "colab_type": "text"
      },
      "source": [
        "## Setup"
      ]
    },
    {
      "cell_type": "code",
      "metadata": {
        "id": "0gVsqVJsxHvk",
        "colab_type": "code",
        "colab": {}
      },
      "source": [
        "from __future__ import absolute_import, division, print_function, unicode_literals\n",
        "\n",
        "try:\n",
        "  # %tensorflow_version only exists in Colab.\n",
        "  %tensorflow_version 2.x\n",
        "except Exception:\n",
        "  pass\n",
        "import tensorflow as tf\n",
        "\n",
        "import matplotlib.pyplot as plt\n",
        "import matplotlib.ticker as ticker\n",
        "from sklearn.model_selection import train_test_split\n",
        "\n",
        "import unicodedata\n",
        "import re\n",
        "import numpy as np\n",
        "import os\n",
        "import io\n",
        "import time"
      ],
      "execution_count": 0,
      "outputs": []
    },
    {
      "cell_type": "markdown",
      "metadata": {
        "id": "VOVWO0rvxWJa",
        "colab_type": "text"
      },
      "source": [
        "## Load and prepare the dataset"
      ]
    },
    {
      "cell_type": "markdown",
      "metadata": {
        "id": "pRQ-Cm-sxWo1",
        "colab_type": "text"
      },
      "source": [
        "We'll use a language dataset provided by http://www.manythings.org/anki/. This dataset contains language translation pairs in the format:\n",
        "\n",
        "```\n",
        "May I borrow this book?\t¿क्या मैं इस पुस्तक को उधार ले सकता हूँ?\n",
        "```\n",
        "\n",
        "There are a variety of languages available, but we'll use the English-Hindi dataset. After loading the dataset, here are the steps we'll take to prepare the data:\n",
        "\n",
        "1. Add a *start* and *end* token to each sentence.\n",
        "2. Clean the sentences by removing special characters.\n",
        "3. Create a word index and reverse word index (dictionaries mapping from word → id and id → word).\n",
        "4. Pad each sentence to a maximum length."
      ]
    },
    {
      "cell_type": "markdown",
      "metadata": {
        "id": "JxWEyjaU27_a",
        "colab_type": "text"
      },
      "source": [
        "### 0. Load the Hindi - English dataset "
      ]
    },
    {
      "cell_type": "code",
      "metadata": {
        "id": "EjKdlPBO4Tk5",
        "colab_type": "code",
        "colab": {
          "base_uri": "https://localhost:8080/",
          "height": 133
        },
        "outputId": "95b46953-b677-4d66-a668-184bdcc1e0e0"
      },
      "source": [
        "# fetch dataset from github\n",
        "! git clone https://github.com/rahiakela/machine-learning-datasets -b  hindi-english-encoder-dataset"
      ],
      "execution_count": 166,
      "outputs": [
        {
          "output_type": "stream",
          "text": [
            "Cloning into 'machine-learning-datasets'...\n",
            "remote: Enumerating objects: 2014, done.\u001b[K\n",
            "remote: Counting objects: 100% (2014/2014), done.\u001b[K\n",
            "remote: Compressing objects: 100% (2013/2013), done.\u001b[K\n",
            "remote: Total 2014 (delta 2), reused 2012 (delta 0), pack-reused 0\u001b[K\n",
            "Receiving objects: 100% (2014/2014), 4.33 MiB | 2.63 MiB/s, done.\n",
            "Resolving deltas: 100% (2/2), done.\n"
          ],
          "name": "stdout"
        }
      ]
    },
    {
      "cell_type": "code",
      "metadata": {
        "id": "RLxYkjlHxPc4",
        "colab_type": "code",
        "colab": {}
      },
      "source": [
        "# Download the file hin-eng.zip for Hindi - English\n",
        "import zipfile\n",
        "\n",
        "with zipfile.ZipFile('machine-learning-datasets/hin-eng.zip', 'r') as zip_ref:\n",
        "    zip_ref.extractall('hin-eng')\n",
        "path_to_file = 'hin-eng/hin.txt'"
      ],
      "execution_count": 0,
      "outputs": []
    },
    {
      "cell_type": "markdown",
      "metadata": {
        "id": "DmYsW-8S2oZs",
        "colab_type": "text"
      },
      "source": [
        "### 1. Add a start and end token to each sentence."
      ]
    },
    {
      "cell_type": "code",
      "metadata": {
        "id": "SfslZhzLGoLv",
        "colab_type": "code",
        "outputId": "9b21076e-ea1c-46ad-bddc-bc996fcf35ed",
        "colab": {
          "base_uri": "https://localhost:8080/",
          "height": 50
        }
      },
      "source": [
        "# checking the lower and strip feature\n",
        "hin_sentence = u'क्या मैं इस पुस्तक को उधार ले सकता हूँ?'\n",
        "print(hin_sentence.strip())\n",
        "print(hin_sentence.lower().strip())"
      ],
      "execution_count": 121,
      "outputs": [
        {
          "output_type": "stream",
          "text": [
            "क्या मैं इस पुस्तक को उधार ले सकता हूँ?\n",
            "क्या मैं इस पुस्तक को उधार ले सकता हूँ?\n"
          ],
          "name": "stdout"
        }
      ]
    },
    {
      "cell_type": "code",
      "metadata": {
        "id": "nKqP3XTkQgcn",
        "colab_type": "code",
        "outputId": "0575eb9e-0396-4442-bfe5-ff565c8f4aa2",
        "colab": {
          "base_uri": "https://localhost:8080/",
          "height": 33
        }
      },
      "source": [
        "# # Converts the unicode to ascii\n",
        "print(unicodedata.normalize('NFD', hin_sentence))"
      ],
      "execution_count": 122,
      "outputs": [
        {
          "output_type": "stream",
          "text": [
            "क्या मैं इस पुस्तक को उधार ले सकता हूँ?\n"
          ],
          "name": "stdout"
        }
      ]
    },
    {
      "cell_type": "code",
      "metadata": {
        "id": "IMm6y5GgSsHx",
        "colab_type": "code",
        "outputId": "afb4c9da-cb73-4f2f-9cec-6cba19568379",
        "colab": {
          "base_uri": "https://localhost:8080/",
          "height": 53
        }
      },
      "source": [
        "print([c for c in unicodedata.normalize('NFD', hin_sentence)])"
      ],
      "execution_count": 123,
      "outputs": [
        {
          "output_type": "stream",
          "text": [
            "['क', '्', 'य', 'ा', ' ', 'म', 'ै', 'ं', ' ', 'इ', 'स', ' ', 'प', 'ु', 'स', '्', 'त', 'क', ' ', 'क', 'ो', ' ', 'उ', 'ध', 'ा', 'र', ' ', 'ल', 'े', ' ', 'स', 'क', 'त', 'ा', ' ', 'ह', 'ू', 'ँ', '?']\n"
          ],
          "name": "stdout"
        }
      ]
    },
    {
      "cell_type": "code",
      "metadata": {
        "id": "WsgI_oIczGwx",
        "colab_type": "code",
        "colab": {}
      },
      "source": [
        "# Converts the unicode file to ascii\n",
        "def unicode_to_ascii(sentence, lang='E'):\n",
        "  if lang != 'H':\n",
        "    return ''.join(c for c in unicodedata.normalize('NFD', sentence) if unicodedata.category(c) != 'Mn')\n",
        "  else:\n",
        "    return ''.join(c for c in unicodedata.normalize('NFD', sentence))\n",
        "\n",
        "def preprocess_sentence(sent, lang='E'):\n",
        "  sent = unicode_to_ascii(sent.lower().strip(), lang)\n",
        "  \n",
        "  # creating a space between a word and the punctuation following it\n",
        "  # eg: \"he is a boy.\" => \"he is a boy .\"\n",
        "  # Reference:- https://stackoverflow.com/questions/3645931/python-padding-punctuation-with-white-spaces-keeping-punctuation\n",
        "  sent = re.sub(r'([?.!,¿])', r' \\1 ', sent)\n",
        "  \n",
        "  sent = re.sub(r'[\" \"]+', \" \", sent)\n",
        "\n",
        "  # replacing everything with space except (a-z, A-Z, \".\", \"?\", \"!\", \",\")\n",
        "  if lang != 'H':\n",
        "    sent = re.sub(r'[^a-zA-Z?.!,¿]+', ' ', sent)\n",
        "\n",
        "  sent = sent.rstrip().strip()\n",
        "\n",
        "  # adding a start and an end token to the sentence so that the model know when to start and stop predicting.\n",
        "  sent = '<start> ' + sent + ' <end>'\n",
        "\n",
        "  return sent"
      ],
      "execution_count": 0,
      "outputs": []
    },
    {
      "cell_type": "code",
      "metadata": {
        "id": "tQMO6nrJ1rIR",
        "colab_type": "code",
        "outputId": "22a8c370-375b-4d51-d0d6-697b3e2c7f9b",
        "colab": {
          "base_uri": "https://localhost:8080/",
          "height": 50
        }
      },
      "source": [
        "en_sentence = u'May I borrow this book?'\n",
        "hin_sentence = u'क्या मैं इस पुस्तक को उधार ले सकता हूँ?'\n",
        "\n",
        "print(preprocess_sentence(en_sentence))\n",
        "print(preprocess_sentence(hin_sentence, lang='H'))"
      ],
      "execution_count": 125,
      "outputs": [
        {
          "output_type": "stream",
          "text": [
            "<start> may i borrow this book ? <end>\n",
            "<start> क्या मैं इस पुस्तक को उधार ले सकता हूँ ? <end>\n"
          ],
          "name": "stdout"
        }
      ]
    },
    {
      "cell_type": "markdown",
      "metadata": {
        "id": "vx268ZA122Ko",
        "colab_type": "text"
      },
      "source": [
        "### 2. Clean the sentences by removing special characters."
      ]
    },
    {
      "cell_type": "markdown",
      "metadata": {
        "id": "88x20jMs23ad",
        "colab_type": "text"
      },
      "source": [
        "We will do the following things in this section:\n",
        "\n",
        "1. Remove the accents\n",
        "2. Clean the sentences\n",
        "3. Return word pairs in the format: [ENGLISH, HINDI]"
      ]
    },
    {
      "cell_type": "code",
      "metadata": {
        "id": "lhbkRabbWihw",
        "colab_type": "code",
        "outputId": "267ae8f9-4f61-427b-be69-9026b869fd4f",
        "colab": {
          "base_uri": "https://localhost:8080/",
          "height": 100
        }
      },
      "source": [
        "# check for each line\n",
        "lines = io.open(path_to_file, encoding='UTF-8').read().strip().split('\\n')\n",
        "lines[:5]"
      ],
      "execution_count": 126,
      "outputs": [
        {
          "output_type": "execute_result",
          "data": {
            "text/plain": [
              "['Wow!\\tवाह!\\tCC-BY 2.0 (France) Attribution: tatoeba.org #52027 (Zifre) & #6179147 (fastrizwaan)',\n",
              " 'Help!\\tबचाओ!\\tCC-BY 2.0 (France) Attribution: tatoeba.org #435084 (lukaszpp) & #459377 (minshirui)',\n",
              " 'Jump.\\tउछलो.\\tCC-BY 2.0 (France) Attribution: tatoeba.org #631038 (Shishir) & #6179121 (fastrizwaan)',\n",
              " 'Jump.\\tकूदो.\\tCC-BY 2.0 (France) Attribution: tatoeba.org #631038 (Shishir) & #6179122 (fastrizwaan)',\n",
              " 'Jump.\\tछलांग.\\tCC-BY 2.0 (France) Attribution: tatoeba.org #631038 (Shishir) & #6179123 (fastrizwaan)']"
            ]
          },
          "metadata": {
            "tags": []
          },
          "execution_count": 126
        }
      ]
    },
    {
      "cell_type": "code",
      "metadata": {
        "id": "ByUcQy58W3vI",
        "colab_type": "code",
        "outputId": "0caf6026-247c-49df-e978-26dc3c43bc7f",
        "colab": {
          "base_uri": "https://localhost:8080/",
          "height": 267
        }
      },
      "source": [
        "# extracting word from each line\n",
        "word_pairs = [[word for word in line.split('\\t')] for line in lines[:]]\n",
        "word_pairs[:5]"
      ],
      "execution_count": 127,
      "outputs": [
        {
          "output_type": "execute_result",
          "data": {
            "text/plain": [
              "[['Wow!',\n",
              "  'वाह!',\n",
              "  'CC-BY 2.0 (France) Attribution: tatoeba.org #52027 (Zifre) & #6179147 (fastrizwaan)'],\n",
              " ['Help!',\n",
              "  'बचाओ!',\n",
              "  'CC-BY 2.0 (France) Attribution: tatoeba.org #435084 (lukaszpp) & #459377 (minshirui)'],\n",
              " ['Jump.',\n",
              "  'उछलो.',\n",
              "  'CC-BY 2.0 (France) Attribution: tatoeba.org #631038 (Shishir) & #6179121 (fastrizwaan)'],\n",
              " ['Jump.',\n",
              "  'कूदो.',\n",
              "  'CC-BY 2.0 (France) Attribution: tatoeba.org #631038 (Shishir) & #6179122 (fastrizwaan)'],\n",
              " ['Jump.',\n",
              "  'छलांग.',\n",
              "  'CC-BY 2.0 (France) Attribution: tatoeba.org #631038 (Shishir) & #6179123 (fastrizwaan)']]"
            ]
          },
          "metadata": {
            "tags": []
          },
          "execution_count": 127
        }
      ]
    },
    {
      "cell_type": "code",
      "metadata": {
        "id": "T9v-S9MQdM5d",
        "colab_type": "code",
        "outputId": "63734440-e1f7-4a4d-d0d9-4acbf2f6d2e2",
        "colab": {
          "base_uri": "https://localhost:8080/",
          "height": 100
        }
      },
      "source": [
        "# extracting word from each line except last one\n",
        "word_pairs = [[word for word in line.split('\\t')[:-1]] for line in lines[:]]\n",
        "word_pairs[:5]"
      ],
      "execution_count": 128,
      "outputs": [
        {
          "output_type": "execute_result",
          "data": {
            "text/plain": [
              "[['Wow!', 'वाह!'],\n",
              " ['Help!', 'बचाओ!'],\n",
              " ['Jump.', 'उछलो.'],\n",
              " ['Jump.', 'कूदो.'],\n",
              " ['Jump.', 'छलांग.']]"
            ]
          },
          "metadata": {
            "tags": []
          },
          "execution_count": 128
        }
      ]
    },
    {
      "cell_type": "code",
      "metadata": {
        "id": "-wmL9FNn2AoC",
        "colab_type": "code",
        "colab": {}
      },
      "source": [
        "def create_dataset(path, num_examples):\n",
        "  lines = io.open(path, encoding='UTF-8').read().strip().split('\\n')\n",
        "\n",
        "  word_pairs = [[preprocess_sentence(word, lang='H') for word in line.split('\\t')[:-1]] for line in lines[: num_examples]]\n",
        "\n",
        "  return zip(*word_pairs)"
      ],
      "execution_count": 0,
      "outputs": []
    },
    {
      "cell_type": "code",
      "metadata": {
        "id": "ezP21K8FVCAY",
        "colab_type": "code",
        "colab": {}
      },
      "source": [
        "en_sent, hin_sent = create_dataset(path_to_file, None)"
      ],
      "execution_count": 0,
      "outputs": []
    },
    {
      "cell_type": "code",
      "metadata": {
        "id": "4UDKZqdd4Nbq",
        "colab_type": "code",
        "outputId": "fe79eb71-b654-4cd6-bbe5-911062c34d5c",
        "colab": {
          "base_uri": "https://localhost:8080/",
          "height": 50
        }
      },
      "source": [
        "# check last sentence\n",
        "print(en_sent[-1])\n",
        "print(hin_sent[-1])"
      ],
      "execution_count": 131,
      "outputs": [
        {
          "output_type": "stream",
          "text": [
            "<start> when i was a kid , touching bugs didn't bother me a bit . now i can hardly stand looking at pictures of them . <end>\n",
            "<start> जब मैं बच्चा था , मुझे कीड़ों को छूने से कोई परेशानी नहीं होती थी , पर अब मैं उनकी तस्वीरें देखना भी बर्दाश्त नहीं कर सकता। <end>\n"
          ],
          "name": "stdout"
        }
      ]
    },
    {
      "cell_type": "code",
      "metadata": {
        "id": "hW7_hzTo4ZGI",
        "colab_type": "code",
        "colab": {}
      },
      "source": [
        "def max_length(tensor):\n",
        "  return max(len(t) for t in tensor)"
      ],
      "execution_count": 0,
      "outputs": []
    },
    {
      "cell_type": "code",
      "metadata": {
        "id": "erM4JiwB833k",
        "colab_type": "code",
        "colab": {}
      },
      "source": [
        "def tokenize(lang):\n",
        "  lang_tokenizer = tf.keras.preprocessing.text.Tokenizer(filters='')\n",
        "\n",
        "  lang_tokenizer.fit_on_texts(lang)\n",
        "  tensor = lang_tokenizer.texts_to_sequences(lang)\n",
        "  tensor = tf.keras.preprocessing.sequence.pad_sequences(tensor, padding='post')\n",
        "\n",
        "  return tensor, lang_tokenizer"
      ],
      "execution_count": 0,
      "outputs": []
    },
    {
      "cell_type": "code",
      "metadata": {
        "id": "NEP8aZUl9eQO",
        "colab_type": "code",
        "colab": {}
      },
      "source": [
        "def load_dataset(path, num_examples=None):\n",
        "  # creating cleaned input, output pairs\n",
        "  target_lang, input_lang = create_dataset(path, num_examples)\n",
        "\n",
        "  input_tensor, input_lang_tokenizer = tokenize(input_lang)\n",
        "  target_tensor, target_lang_tokenizer = tokenize(target_lang)\n",
        "\n",
        "  return input_tensor, target_tensor, input_lang_tokenizer, target_lang_tokenizer"
      ],
      "execution_count": 0,
      "outputs": []
    },
    {
      "cell_type": "markdown",
      "metadata": {
        "id": "9gepY-48-clx",
        "colab_type": "text"
      },
      "source": [
        "### Limit the size of the dataset to experiment faster (optional)"
      ]
    },
    {
      "cell_type": "markdown",
      "metadata": {
        "id": "2qr9HwKO-dhd",
        "colab_type": "text"
      },
      "source": [
        "Training on the complete dataset will take a long time. To train faster, we can limit the size of the dataset to the specified sentences (of course, translation quality degrades with less data) but here we will train on whole dataset:"
      ]
    },
    {
      "cell_type": "code",
      "metadata": {
        "id": "idkScbVw-JQ7",
        "colab_type": "code",
        "colab": {
          "base_uri": "https://localhost:8080/",
          "height": 0
        },
        "outputId": "a21927ed-0473-494a-e57d-0b721830fcc8"
      },
      "source": [
        "# Try experimenting with the size of that dataset\n",
        "num_examples = None\n",
        "input_tensor, target_tensor, input_lang, target_lang = load_dataset(path_to_file, num_examples)\n",
        "\n",
        "# Calculate max_length of the target tensors\n",
        "max_length_target, max_length_input = max_length(target_tensor), max_length(input_tensor)\n",
        "print(max_length_target, max_length_input)"
      ],
      "execution_count": 135,
      "outputs": [
        {
          "output_type": "stream",
          "text": [
            "27 29\n"
          ],
          "name": "stdout"
        }
      ]
    },
    {
      "cell_type": "code",
      "metadata": {
        "id": "nafaGmz2_HZ4",
        "colab_type": "code",
        "outputId": "2d2b5324-741b-49a3-ec16-82cf97ca6c59",
        "colab": {
          "base_uri": "https://localhost:8080/",
          "height": 0
        }
      },
      "source": [
        "# Creating training and validation sets using an 80-20 split\n",
        "input_tensor_train, input_tensor_val, target_tensor_train, target_tensor_val = train_test_split(input_tensor,\n",
        "                                                                                                target_tensor,\n",
        "                                                                                                test_size=0.2)\n",
        "# Show length\n",
        "print(len(input_tensor_train), len(target_tensor_train), len(input_tensor_val), len(target_tensor_val))"
      ],
      "execution_count": 136,
      "outputs": [
        {
          "output_type": "stream",
          "text": [
            "2223 2223 556 556\n"
          ],
          "name": "stdout"
        }
      ]
    },
    {
      "cell_type": "code",
      "metadata": {
        "id": "0eR1KJz5_umN",
        "colab_type": "code",
        "colab": {}
      },
      "source": [
        "def convert(lang, tensor):\n",
        "  for t in tensor:\n",
        "    if t != 0:\n",
        "      print('%d ----> %s' % (t, lang.index_word[t]))"
      ],
      "execution_count": 0,
      "outputs": []
    },
    {
      "cell_type": "code",
      "metadata": {
        "id": "puAgjWGGAEMw",
        "colab_type": "code",
        "outputId": "a516a8bb-6257-41de-d035-027766ad1e9f",
        "colab": {
          "base_uri": "https://localhost:8080/",
          "height": 0
        }
      },
      "source": [
        "print('Input Language; index to word mapping')\n",
        "convert(input_lang, input_tensor_train[0])\n",
        "print()\n",
        "print('Target Language; index to word mapping')\n",
        "convert(target_lang, target_tensor_train[0])"
      ],
      "execution_count": 138,
      "outputs": [
        {
          "output_type": "stream",
          "text": [
            "Input Language; index to word mapping\n",
            "1 ----> <start>\n",
            "279 ----> पिछले\n",
            "2295 ----> शनिवार\n",
            "9 ----> से\n",
            "184 ----> मौसम\n",
            "18 ----> बहुत\n",
            "82 ----> अच्छा\n",
            "3 ----> है।\n",
            "2 ----> <end>\n",
            "\n",
            "Target Language; index to word mapping\n",
            "1 ----> <start>\n",
            "14 ----> it\n",
            "45 ----> has\n",
            "68 ----> been\n",
            "901 ----> fine\n",
            "393 ----> since\n",
            "119 ----> last\n",
            "1144 ----> friday\n",
            "3 ----> .\n",
            "2 ----> <end>\n"
          ],
          "name": "stdout"
        }
      ]
    },
    {
      "cell_type": "code",
      "metadata": {
        "id": "Qem86caredaJ",
        "colab_type": "code",
        "colab": {
          "base_uri": "https://localhost:8080/",
          "height": 0
        },
        "outputId": "c8742b7d-50c2-444a-eeb6-ae586712e1b8"
      },
      "source": [
        "print('Input Language; index to word mapping')\n",
        "convert(input_lang, input_tensor_train[1])\n",
        "print()\n",
        "print('Target Language; index to word mapping')\n",
        "convert(target_lang, target_tensor_train[1])"
      ],
      "execution_count": 139,
      "outputs": [
        {
          "output_type": "stream",
          "text": [
            "Input Language; index to word mapping\n",
            "1 ----> <start>\n",
            "137 ----> अगर\n",
            "367 ----> कॉफ़ी\n",
            "115 ----> ज़्यादा\n",
            "2776 ----> कड़वी\n",
            "13 ----> है\n",
            "42 ----> तो\n",
            "209 ----> थोड़ा\n",
            "32 ----> और\n",
            "189 ----> पानी\n",
            "2777 ----> डाललो।\n",
            "2 ----> <end>\n",
            "\n",
            "Target Language; index to word mapping\n",
            "1 ----> <start>\n",
            "77 ----> if\n",
            "4 ----> the\n",
            "306 ----> coffee\n",
            "9 ----> is\n",
            "110 ----> too\n",
            "556 ----> strong\n",
            "20 ----> ,\n",
            "779 ----> add\n",
            "130 ----> some\n",
            "127 ----> more\n",
            "166 ----> water\n",
            "3 ----> .\n",
            "2 ----> <end>\n"
          ],
          "name": "stdout"
        }
      ]
    },
    {
      "cell_type": "markdown",
      "metadata": {
        "id": "nCqSRKwJBDQj",
        "colab_type": "text"
      },
      "source": [
        "### Create a tf.data dataset"
      ]
    },
    {
      "cell_type": "code",
      "metadata": {
        "id": "4I04WNeNA442",
        "colab_type": "code",
        "colab": {}
      },
      "source": [
        "BUFFER_SIZE = len(input_tensor_train)\n",
        "BATCH_SIZE = 64\n",
        "steps_per_epoch = len(input_tensor_train) // BATCH_SIZE\n",
        "embedding_dim = 256\n",
        "units = 1024\n",
        "\n",
        "vocab_input_size = len(input_lang.word_index) + 1\n",
        "vocab_target_size = len(target_lang.word_index) + 1\n",
        "\n",
        "dataset = tf.data.Dataset.from_tensor_slices((input_tensor_train, target_tensor_train)).shuffle(BUFFER_SIZE)\n",
        "dataset = dataset.batch(BATCH_SIZE, drop_remainder=True)"
      ],
      "execution_count": 0,
      "outputs": []
    },
    {
      "cell_type": "code",
      "metadata": {
        "id": "zP2dI23NB5I2",
        "colab_type": "code",
        "outputId": "9034b740-c718-4831-9682-31e46af94988",
        "colab": {
          "base_uri": "https://localhost:8080/",
          "height": 0
        }
      },
      "source": [
        "example_input_batch, example_target_batch = next(iter(dataset))\n",
        "example_input_batch.shape, example_target_batch.shape"
      ],
      "execution_count": 141,
      "outputs": [
        {
          "output_type": "execute_result",
          "data": {
            "text/plain": [
              "(TensorShape([64, 29]), TensorShape([64, 27]))"
            ]
          },
          "metadata": {
            "tags": []
          },
          "execution_count": 141
        }
      ]
    },
    {
      "cell_type": "code",
      "metadata": {
        "id": "ASpBwATBCFDS",
        "colab_type": "code",
        "outputId": "b1f2288c-7af6-4a5d-876d-7c097ef62fe0",
        "colab": {
          "base_uri": "https://localhost:8080/",
          "height": 0
        }
      },
      "source": [
        "print(example_input_batch.shape, example_target_batch.shape)"
      ],
      "execution_count": 142,
      "outputs": [
        {
          "output_type": "stream",
          "text": [
            "(64, 29) (64, 27)\n"
          ],
          "name": "stdout"
        }
      ]
    },
    {
      "cell_type": "markdown",
      "metadata": {
        "id": "vSyrqPUZCK-K",
        "colab_type": "text"
      },
      "source": [
        "## Write the encoder and decoder model"
      ]
    },
    {
      "cell_type": "markdown",
      "metadata": {
        "id": "-FUfyTlnCLzB",
        "colab_type": "text"
      },
      "source": [
        "Implement an encoder-decoder model with attention which you can read about in the TensorFlow [Neural Machine Translation (seq2seq) tutorial](https://github.com/tensorflow/nmt). This example uses a more recent set of APIs. This notebook implements the [attention equations](https://github.com/tensorflow/nmt#background-on-the-attention-mechanism) from the seq2seq tutorial. The following diagram shows that each input words is assigned a weight by the attention mechanism which is then used by the decoder to predict the next word in the sentence. The below picture and formulas are an example of attention mechanism from [Luong's paper](https://arxiv.org/abs/1508.04025v5). \n",
        "\n",
        "<img src='https://github.com/rahiakela/img-repo/blob/master/attention.jpg?raw=1' width='800' alt='hindi-english attention plot'/>\n",
        "\n",
        "The input is put through an encoder model which gives us the encoder output of shape *(batch_size, max_length, hidden_size)* and the encoder hidden state of shape *(batch_size, hidden_size)*.\n",
        "\n",
        "Here are the equations that are implemented:\n",
        "\n",
        "<img src=\"https://www.tensorflow.org/images/seq2seq/attention_equation_0.jpg\" alt=\"attention equation 0\" width=\"800\">\n",
        "<img src=\"https://www.tensorflow.org/images/seq2seq/attention_equation_1.jpg\" alt=\"attention equation 1\" width=\"800\">\n",
        "\n",
        "This tutorial uses [Bahdanau attention](https://arxiv.org/pdf/1409.0473.pdf) for the encoder. Let's decide on notation before writing the simplified form:\n",
        "\n",
        "* FC = Fully connected (dense) layer\n",
        "* EO = Encoder output\n",
        "* H = hidden state\n",
        "* X = input to the decoder\n",
        "\n",
        "And the pseudo-code:\n",
        "\n",
        "* `score = FC(tanh(FC(EO) + FC(H)))`\n",
        "* `attention weights = softmax(score, axis = 1)`. Softmax by default is applied on the last axis but here we want to apply it on the *1st axis*, since the shape of score is *(batch_size, max_length, hidden_size)*. `Max_length` is the length of our input. Since we are trying to assign a weight to each input, softmax should be applied on that axis.\n",
        "* `context vector = sum(attention weights * EO, axis = 1)`. Same reason as above for choosing axis as 1.\n",
        "* `embedding output` = The input to the decoder X is passed through an embedding layer.\n",
        "* `merged vector = concat(embedding output, context vector)`\n",
        "* This merged vector is then given to the GRU\n",
        "\n",
        "The shapes of all the vectors at each step have been specified in the comments in the code:"
      ]
    },
    {
      "cell_type": "code",
      "metadata": {
        "id": "U-iAU5sqCIZN",
        "colab_type": "code",
        "colab": {}
      },
      "source": [
        "class Encoder(tf.keras.Model):\n",
        "\n",
        "  def __init__(self, vocab_size, embedding_dim, enc_units, batch_size):\n",
        "    super(Encoder, self).__init__()\n",
        "    self.batch_size = batch_size\n",
        "    self.encoder_units = enc_units\n",
        "    self.embedding = tf.keras.layers.Embedding(vocab_size, embedding_dim)\n",
        "    self.gru = tf.keras.layers.GRU(self.encoder_units,\n",
        "                                   return_sequences=True,\n",
        "                                   return_state=True,\n",
        "                                   recurrent_initializer='glorot_uniform')\n",
        "    \n",
        "  def call(self, x, hidden):\n",
        "    x = self.embedding(x)\n",
        "    encoder_output, hidden_state = self.gru(x, initial_state=hidden)\n",
        "    return encoder_output, hidden_state\n",
        "\n",
        "  def initialize_hidden_state(self):\n",
        "    return tf.zeros((self.batch_size, self.encoder_units))"
      ],
      "execution_count": 0,
      "outputs": []
    },
    {
      "cell_type": "code",
      "metadata": {
        "id": "3ddO87bcy8hH",
        "colab_type": "code",
        "outputId": "9f462ecf-61c9-4f19-c4fc-bb891867c925",
        "colab": {
          "base_uri": "https://localhost:8080/",
          "height": 50
        }
      },
      "source": [
        "encoder = Encoder(vocab_input_size, embedding_dim, units, BATCH_SIZE)\n",
        "\n",
        "# sample input\n",
        "sample_hidden = encoder.initialize_hidden_state()\n",
        "sample_output, sample_hidden = encoder(example_input_batch, sample_hidden)\n",
        "\n",
        "print(f'Encoder output shape: (batch size, sequence length, units) {sample_output.shape}')\n",
        "print(f'Encoder Hidden state shape: (batch size, units) {sample_hidden.shape}')"
      ],
      "execution_count": 144,
      "outputs": [
        {
          "output_type": "stream",
          "text": [
            "Encoder output shape: (batch size, sequence length, units) (64, 29, 1024)\n",
            "Encoder Hidden state shape: (batch size, units) (64, 1024)\n"
          ],
          "name": "stdout"
        }
      ]
    },
    {
      "cell_type": "code",
      "metadata": {
        "id": "OxN6r0Pozzii",
        "colab_type": "code",
        "colab": {}
      },
      "source": [
        "class BahdanauAttention(tf.keras.layers.Layer):\n",
        "\n",
        "  def __init__(self, units):\n",
        "    super(BahdanauAttention, self).__init__()\n",
        "    self.W1 = tf.keras.layers.Dense(units)\n",
        "    self.W2 = tf.keras.layers.Dense(units)\n",
        "    self.V = tf.keras.layers.Dense(1)\n",
        "\n",
        "  def call(self, query, values):\n",
        "    # query hidden state shape == (batch_size, hidden size)\n",
        "    # query_with_time_axis shape == (batch_size, 1, hidden size)\n",
        "    # values shape == (batch_size, max_len, hidden size)\n",
        "    # we are doing this to broadcast addition along the time axis to calculate the score\n",
        "    query_with_time_axis = tf.expand_dims(query, 1)\n",
        "\n",
        "    # score shape == (batch_size, max_length, 1)\n",
        "    # we get 1 at the last axis because we are applying score to self.V\n",
        "    # the shape of the tensor before applying self.V is (batch_size, max_length, units)\n",
        "    score = self.V(tf.nn.tanh(self.W1(query_with_time_axis) + self.W2(values)))\n",
        "\n",
        "    # attention_weights shape == (batch_size, max_length, 1)\n",
        "    attention_weights = tf.nn.softmax(score, axis=1)\n",
        "\n",
        "    # context_vector shape after sum == (batch_size, hidden_size)\n",
        "    context_vector = tf.reduce_sum(attention_weights * values, axis=1)\n",
        "\n",
        "    return context_vector, attention_weights"
      ],
      "execution_count": 0,
      "outputs": []
    },
    {
      "cell_type": "code",
      "metadata": {
        "id": "Qj2ofjlrMekQ",
        "colab_type": "code",
        "outputId": "44d44574-befd-4be8-9124-09f252ecca0d",
        "colab": {
          "base_uri": "https://localhost:8080/",
          "height": 50
        }
      },
      "source": [
        "attention_layer = BahdanauAttention(10)\n",
        "attention_result, attention_weights = attention_layer(sample_hidden, sample_output)\n",
        "\n",
        "print(f'Attention result shape: (batch size, units) {attention_result.shape}')\n",
        "print(f'Attention weights shape: (batch_size, sequence_length, 1) {attention_weights.shape}')"
      ],
      "execution_count": 146,
      "outputs": [
        {
          "output_type": "stream",
          "text": [
            "Attention result shape: (batch size, units) (64, 1024)\n",
            "Attention weights shape: (batch_size, sequence_length, 1) (64, 29, 1)\n"
          ],
          "name": "stdout"
        }
      ]
    },
    {
      "cell_type": "code",
      "metadata": {
        "id": "KKaY9yU-M4gk",
        "colab_type": "code",
        "colab": {}
      },
      "source": [
        "class Decoder(tf.keras.Model):\n",
        "\n",
        "  def __init__(self, vocab_size, embedding_dim, decoder_units, batch_size):\n",
        "    super(Decoder, self).__init__()\n",
        "    self.batch_size = batch_size\n",
        "    self.decoder_units = decoder_units\n",
        "    self.embedding = tf.keras.layers.Embedding(vocab_size, embedding_dim)\n",
        "    self.gru = tf.keras.layers.GRU(self.decoder_units,\n",
        "                                   return_sequences=True,\n",
        "                                   return_state=True,\n",
        "                                   recurrent_initializer='glorot_uniform')\n",
        "    self.fc = tf.keras.layers.Dense(vocab_size)\n",
        "\n",
        "    # used for attention\n",
        "    self.attention = BahdanauAttention(self.decoder_units)\n",
        "\n",
        "  def call(self, x, hidden, encoder_output):\n",
        "    # encoder_output shape == (batch_size, max_length, hidden_size)\n",
        "    context_vector, attention_weights = self.attention(hidden, encoder_output)\n",
        "\n",
        "    # x shape after passing through embedding == (batch_size, 1, embedding_dim)\n",
        "    x = self.embedding(x)\n",
        "\n",
        "    # x shape after concatenation == (batch_size, 1, embedding_dim + hidden_size)\n",
        "    x = tf.concat([tf.expand_dims(context_vector, 1), x], axis=-1)\n",
        "\n",
        "    # passing the concatenated vector to the GRU\n",
        "    output, state = self.gru(x)\n",
        "\n",
        "    # output shape == (batch_size * 1, hidden_size)\n",
        "    output = tf.reshape(output, (-1, output.shape[2]))\n",
        "\n",
        "    # output shape == (batch_size, vocab)\n",
        "    x = self.fc(output)\n",
        "\n",
        "    return x, state, attention_weights"
      ],
      "execution_count": 0,
      "outputs": []
    },
    {
      "cell_type": "code",
      "metadata": {
        "id": "lTk27uP_PVtU",
        "colab_type": "code",
        "outputId": "90763bed-758b-4884-9ab7-be9736028560",
        "colab": {
          "base_uri": "https://localhost:8080/",
          "height": 33
        }
      },
      "source": [
        "decoder = Decoder(vocab_target_size, embedding_dim, units, BATCH_SIZE)\n",
        "sample_decoder_output, _, _ = decoder(tf.random.uniform((BATCH_SIZE, 1)), sample_hidden, sample_output)\n",
        "\n",
        "print(f'Decoder output shape: (batch_size, vocab size) {sample_decoder_output.shape}')"
      ],
      "execution_count": 148,
      "outputs": [
        {
          "output_type": "stream",
          "text": [
            "Decoder output shape: (batch_size, vocab size) (64, 2389)\n"
          ],
          "name": "stdout"
        }
      ]
    },
    {
      "cell_type": "markdown",
      "metadata": {
        "id": "F-iRF_y6RV98",
        "colab_type": "text"
      },
      "source": [
        "## Define the optimizer and the loss function"
      ]
    },
    {
      "cell_type": "code",
      "metadata": {
        "id": "p43QEZiZP7ch",
        "colab_type": "code",
        "colab": {}
      },
      "source": [
        "optimizer = tf.keras.optimizers.Adam()\n",
        "loss_object = tf.keras.losses.SparseCategoricalCrossentropy(from_logits=True, reduction='none')\n",
        "\n",
        "def loss_function(real, pred):\n",
        "  mask = tf.math.logical_not(tf.math.equal(real, 0))\n",
        "  loss_ = loss_object(real, pred)\n",
        "\n",
        "  mask = tf.cast(mask, dtype=loss_.dtype)\n",
        "  loss_ *= mask\n",
        "\n",
        "  return tf.reduce_mean(loss_)"
      ],
      "execution_count": 0,
      "outputs": []
    },
    {
      "cell_type": "markdown",
      "metadata": {
        "id": "9sT8d3x7CFwk",
        "colab_type": "text"
      },
      "source": [
        "## Checkpoints (Object-based saving)"
      ]
    },
    {
      "cell_type": "code",
      "metadata": {
        "id": "gO6fxJAyB_os",
        "colab_type": "code",
        "colab": {}
      },
      "source": [
        "checkpoint_dir = './training_checkpoints'\n",
        "checkpoint_prefix = os.path.join(checkpoint_dir, 'ckpt')\n",
        "checkpoint = tf.train.Checkpoint(optimizer=optimizer, encoder=encoder, decoder=decoder)"
      ],
      "execution_count": 0,
      "outputs": []
    },
    {
      "cell_type": "markdown",
      "metadata": {
        "id": "3nlSrznNCjET",
        "colab_type": "text"
      },
      "source": [
        "## Training"
      ]
    },
    {
      "cell_type": "markdown",
      "metadata": {
        "id": "Nr4BDvMBCkWl",
        "colab_type": "text"
      },
      "source": [
        "1. Pass the *input* through the *encoder* which return *encoder output* and the *encoder hidden state*.\n",
        "2. The encoder output, encoder hidden state and the decoder input (which is the *start token*) is passed to the decoder.\n",
        "3. The decoder returns the *predictions* and the *decoder hidden state*.\n",
        "4. The decoder hidden state is then passed back into the model and the predictions are used to calculate the loss.\n",
        "5. Use *teacher forcing* to decide the next input to the decoder.\n",
        "6. *Teacher forcing* is the technique where the *target word* is passed as the *next input* to the decoder.\n",
        "7. The final step is to calculate the gradients and apply it to the optimizer and backpropagate."
      ]
    },
    {
      "cell_type": "code",
      "metadata": {
        "id": "GRHqFeUACfAz",
        "colab_type": "code",
        "colab": {}
      },
      "source": [
        "@tf.function\n",
        "def train_step(inputs, targets, encoder_hidden):\n",
        "  loss = 0\n",
        "\n",
        "  with tf.GradientTape() as tape:\n",
        "    encoder_output, encoder_hidden = encoder(inputs, encoder_hidden)\n",
        "    decoder_hidden = encoder_hidden\n",
        "    decoder_input = tf.expand_dims([target_lang.word_index['<start>']] * BATCH_SIZE, 1)\n",
        "\n",
        "    # Teacher forcing - feeding the target as the next input\n",
        "    for t in range(1, targets.shape[1]):\n",
        "      # passing encoder_output to the decoder\n",
        "      predictions, encoder_hidden, _ = decoder(decoder_input, decoder_hidden, encoder_output)\n",
        "      loss += loss_function(targets[:, t], predictions)\n",
        "\n",
        "      # using teacher forcing\n",
        "      decoder_input = tf.expand_dims(targets[:, t], 1)\n",
        "  batch_loss = (loss / int(targets.shape[1]))\n",
        "  variables = encoder.trainable_variables + decoder.trainable_variables\n",
        "  gradients = tape.gradient(loss, variables)\n",
        "  optimizer.apply_gradients(zip(gradients, variables))\n",
        "\n",
        "  return batch_loss"
      ],
      "execution_count": 0,
      "outputs": []
    },
    {
      "cell_type": "code",
      "metadata": {
        "id": "_6-mPGZXGAFC",
        "colab_type": "code",
        "outputId": "063c4b24-3eb3-4f71-fd24-5e828f7817d4",
        "colab": {
          "base_uri": "https://localhost:8080/",
          "height": 1000
        }
      },
      "source": [
        "EPOCHS = 100\n",
        "\n",
        "epoch_list = []\n",
        "loss_list = []\n",
        "for epoch in range(EPOCHS):\n",
        "  start = time.time()\n",
        "  encoder_hidden = encoder.initialize_hidden_state()\n",
        "  total_loss = 0\n",
        "\n",
        "  for (batch, (inputs, targets)) in enumerate(dataset.take(steps_per_epoch)):\n",
        "    batch_loss = train_step(inputs, targets, encoder_hidden)\n",
        "    total_loss += batch_loss\n",
        "\n",
        "    if batch % 100 == 0:\n",
        "      print(f'Epoch {str(epoch + 1)} Batch {str(batch)} Loss {str(batch_loss.numpy())}')\n",
        "  # saving (checkpoint) the model every 2 epochs\n",
        "  if (epoch + 1) % 2 == 0:\n",
        "    checkpoint.save(file_prefix=checkpoint_prefix)\n",
        "\n",
        "  epochs = epoch + 1\n",
        "  losses = total_loss / steps_per_epoch\n",
        "\n",
        "  # storing for ploting\n",
        "  epoch_list.append(epochs)\n",
        "  loss_list.append(losses)\n",
        "\n",
        "  print('Epoch {} Loss {:.4f}'.format(epochs, losses))\n",
        "  print(f'Time taken for 1 epoch {str(time.time() - start)} sec\\n')"
      ],
      "execution_count": 152,
      "outputs": [
        {
          "output_type": "stream",
          "text": [
            "Epoch 1 Batch 0 Loss 2.3902936\n",
            "Epoch 1 Loss 1.8316\n",
            "Time taken for 1 epoch 30.937663555145264 sec\n",
            "\n",
            "Epoch 2 Batch 0 Loss 1.5205787\n",
            "Epoch 2 Loss 1.5238\n",
            "Time taken for 1 epoch 7.382741212844849 sec\n",
            "\n",
            "Epoch 3 Batch 0 Loss 1.4703759\n",
            "Epoch 3 Loss 1.4191\n",
            "Time taken for 1 epoch 6.93349814414978 sec\n",
            "\n",
            "Epoch 4 Batch 0 Loss 1.35262\n",
            "Epoch 4 Loss 1.3360\n",
            "Time taken for 1 epoch 7.384093523025513 sec\n",
            "\n",
            "Epoch 5 Batch 0 Loss 1.2810243\n",
            "Epoch 5 Loss 1.2540\n",
            "Time taken for 1 epoch 7.022329568862915 sec\n",
            "\n",
            "Epoch 6 Batch 0 Loss 1.2587395\n",
            "Epoch 6 Loss 1.1790\n",
            "Time taken for 1 epoch 7.4676148891448975 sec\n",
            "\n",
            "Epoch 7 Batch 0 Loss 1.1802473\n",
            "Epoch 7 Loss 1.1142\n",
            "Time taken for 1 epoch 7.052628755569458 sec\n",
            "\n",
            "Epoch 8 Batch 0 Loss 1.1046743\n",
            "Epoch 8 Loss 1.0524\n",
            "Time taken for 1 epoch 7.4993815422058105 sec\n",
            "\n",
            "Epoch 9 Batch 0 Loss 0.950053\n",
            "Epoch 9 Loss 0.9946\n",
            "Time taken for 1 epoch 7.0900256633758545 sec\n",
            "\n",
            "Epoch 10 Batch 0 Loss 0.9290471\n",
            "Epoch 10 Loss 0.9468\n",
            "Time taken for 1 epoch 7.494141578674316 sec\n",
            "\n",
            "Epoch 11 Batch 0 Loss 0.82449615\n",
            "Epoch 11 Loss 0.8934\n",
            "Time taken for 1 epoch 7.09962797164917 sec\n",
            "\n",
            "Epoch 12 Batch 0 Loss 0.77553093\n",
            "Epoch 12 Loss 0.8407\n",
            "Time taken for 1 epoch 7.465734004974365 sec\n",
            "\n",
            "Epoch 13 Batch 0 Loss 0.86985576\n",
            "Epoch 13 Loss 0.7800\n",
            "Time taken for 1 epoch 7.0595738887786865 sec\n",
            "\n",
            "Epoch 14 Batch 0 Loss 0.72075486\n",
            "Epoch 14 Loss 0.7316\n",
            "Time taken for 1 epoch 7.47834587097168 sec\n",
            "\n",
            "Epoch 15 Batch 0 Loss 0.67376834\n",
            "Epoch 15 Loss 0.6813\n",
            "Time taken for 1 epoch 7.03825044631958 sec\n",
            "\n",
            "Epoch 16 Batch 0 Loss 0.63045716\n",
            "Epoch 16 Loss 0.6334\n",
            "Time taken for 1 epoch 7.484187841415405 sec\n",
            "\n",
            "Epoch 17 Batch 0 Loss 0.54643583\n",
            "Epoch 17 Loss 0.5819\n",
            "Time taken for 1 epoch 7.025094270706177 sec\n",
            "\n",
            "Epoch 18 Batch 0 Loss 0.4578208\n",
            "Epoch 18 Loss 0.5316\n",
            "Time taken for 1 epoch 7.454575777053833 sec\n",
            "\n",
            "Epoch 19 Batch 0 Loss 0.4466238\n",
            "Epoch 19 Loss 0.4840\n",
            "Time taken for 1 epoch 7.023460388183594 sec\n",
            "\n",
            "Epoch 20 Batch 0 Loss 0.35105556\n",
            "Epoch 20 Loss 0.4437\n",
            "Time taken for 1 epoch 7.4787092208862305 sec\n",
            "\n",
            "Epoch 21 Batch 0 Loss 0.34062767\n",
            "Epoch 21 Loss 0.3980\n",
            "Time taken for 1 epoch 7.056856632232666 sec\n",
            "\n",
            "Epoch 22 Batch 0 Loss 0.33159482\n",
            "Epoch 22 Loss 0.3462\n",
            "Time taken for 1 epoch 7.491150379180908 sec\n",
            "\n",
            "Epoch 23 Batch 0 Loss 0.2939565\n",
            "Epoch 23 Loss 0.2969\n",
            "Time taken for 1 epoch 7.075139999389648 sec\n",
            "\n",
            "Epoch 24 Batch 0 Loss 0.23638588\n",
            "Epoch 24 Loss 0.2562\n",
            "Time taken for 1 epoch 7.512663125991821 sec\n",
            "\n",
            "Epoch 25 Batch 0 Loss 0.18253611\n",
            "Epoch 25 Loss 0.2196\n",
            "Time taken for 1 epoch 7.0641114711761475 sec\n",
            "\n",
            "Epoch 26 Batch 0 Loss 0.17869098\n",
            "Epoch 26 Loss 0.1883\n",
            "Time taken for 1 epoch 7.5357983112335205 sec\n",
            "\n",
            "Epoch 27 Batch 0 Loss 0.10505133\n",
            "Epoch 27 Loss 0.1570\n",
            "Time taken for 1 epoch 7.074432134628296 sec\n",
            "\n",
            "Epoch 28 Batch 0 Loss 0.14124873\n",
            "Epoch 28 Loss 0.1320\n",
            "Time taken for 1 epoch 7.530777931213379 sec\n",
            "\n",
            "Epoch 29 Batch 0 Loss 0.11861654\n",
            "Epoch 29 Loss 0.1143\n",
            "Time taken for 1 epoch 7.086206674575806 sec\n",
            "\n",
            "Epoch 30 Batch 0 Loss 0.09623475\n",
            "Epoch 30 Loss 0.1280\n",
            "Time taken for 1 epoch 7.484922170639038 sec\n",
            "\n",
            "Epoch 31 Batch 0 Loss 0.10262986\n",
            "Epoch 31 Loss 0.1040\n",
            "Time taken for 1 epoch 7.065340518951416 sec\n",
            "\n",
            "Epoch 32 Batch 0 Loss 0.09413135\n",
            "Epoch 32 Loss 0.0786\n",
            "Time taken for 1 epoch 7.50998592376709 sec\n",
            "\n",
            "Epoch 33 Batch 0 Loss 0.048755042\n",
            "Epoch 33 Loss 0.0629\n",
            "Time taken for 1 epoch 7.048494577407837 sec\n",
            "\n",
            "Epoch 34 Batch 0 Loss 0.07062588\n",
            "Epoch 34 Loss 0.0542\n",
            "Time taken for 1 epoch 7.506806373596191 sec\n",
            "\n",
            "Epoch 35 Batch 0 Loss 0.036819715\n",
            "Epoch 35 Loss 0.0480\n",
            "Time taken for 1 epoch 7.064304351806641 sec\n",
            "\n",
            "Epoch 36 Batch 0 Loss 0.044910002\n",
            "Epoch 36 Loss 0.0458\n",
            "Time taken for 1 epoch 7.473243951797485 sec\n",
            "\n",
            "Epoch 37 Batch 0 Loss 0.033106577\n",
            "Epoch 37 Loss 0.0410\n",
            "Time taken for 1 epoch 7.092329740524292 sec\n",
            "\n",
            "Epoch 38 Batch 0 Loss 0.028578509\n",
            "Epoch 38 Loss 0.0392\n",
            "Time taken for 1 epoch 7.460829973220825 sec\n",
            "\n",
            "Epoch 39 Batch 0 Loss 0.030399954\n",
            "Epoch 39 Loss 0.0362\n",
            "Time taken for 1 epoch 7.079047441482544 sec\n",
            "\n",
            "Epoch 40 Batch 0 Loss 0.04796948\n",
            "Epoch 40 Loss 0.0353\n",
            "Time taken for 1 epoch 7.434122562408447 sec\n",
            "\n",
            "Epoch 41 Batch 0 Loss 0.022918556\n",
            "Epoch 41 Loss 0.0342\n",
            "Time taken for 1 epoch 7.038623332977295 sec\n",
            "\n",
            "Epoch 42 Batch 0 Loss 0.03230149\n",
            "Epoch 42 Loss 0.0329\n",
            "Time taken for 1 epoch 7.507344961166382 sec\n",
            "\n",
            "Epoch 43 Batch 0 Loss 0.02055394\n",
            "Epoch 43 Loss 0.0318\n",
            "Time taken for 1 epoch 7.0493199825286865 sec\n",
            "\n",
            "Epoch 44 Batch 0 Loss 0.026334807\n",
            "Epoch 44 Loss 0.0316\n",
            "Time taken for 1 epoch 7.450131893157959 sec\n",
            "\n",
            "Epoch 45 Batch 0 Loss 0.033983786\n",
            "Epoch 45 Loss 0.0304\n",
            "Time taken for 1 epoch 7.07764744758606 sec\n",
            "\n",
            "Epoch 46 Batch 0 Loss 0.020960191\n",
            "Epoch 46 Loss 0.0297\n",
            "Time taken for 1 epoch 7.49614405632019 sec\n",
            "\n",
            "Epoch 47 Batch 0 Loss 0.03273392\n",
            "Epoch 47 Loss 0.0294\n",
            "Time taken for 1 epoch 7.070190906524658 sec\n",
            "\n",
            "Epoch 48 Batch 0 Loss 0.03532119\n",
            "Epoch 48 Loss 0.0321\n",
            "Time taken for 1 epoch 7.4600300788879395 sec\n",
            "\n",
            "Epoch 49 Batch 0 Loss 0.031619087\n",
            "Epoch 49 Loss 0.0303\n",
            "Time taken for 1 epoch 7.0391998291015625 sec\n",
            "\n",
            "Epoch 50 Batch 0 Loss 0.022227127\n",
            "Epoch 50 Loss 0.0285\n",
            "Time taken for 1 epoch 7.458423376083374 sec\n",
            "\n",
            "Epoch 51 Batch 0 Loss 0.022312226\n",
            "Epoch 51 Loss 0.0277\n",
            "Time taken for 1 epoch 7.075618028640747 sec\n",
            "\n",
            "Epoch 52 Batch 0 Loss 0.020942189\n",
            "Epoch 52 Loss 0.0275\n",
            "Time taken for 1 epoch 7.470478773117065 sec\n",
            "\n",
            "Epoch 53 Batch 0 Loss 0.029027175\n",
            "Epoch 53 Loss 0.0262\n",
            "Time taken for 1 epoch 7.066731691360474 sec\n",
            "\n",
            "Epoch 54 Batch 0 Loss 0.01814181\n",
            "Epoch 54 Loss 0.0257\n",
            "Time taken for 1 epoch 7.452944755554199 sec\n",
            "\n",
            "Epoch 55 Batch 0 Loss 0.014525366\n",
            "Epoch 55 Loss 0.0254\n",
            "Time taken for 1 epoch 7.072834491729736 sec\n",
            "\n",
            "Epoch 56 Batch 0 Loss 0.029318893\n",
            "Epoch 56 Loss 0.0249\n",
            "Time taken for 1 epoch 7.4958436489105225 sec\n",
            "\n",
            "Epoch 57 Batch 0 Loss 0.011034729\n",
            "Epoch 57 Loss 0.0253\n",
            "Time taken for 1 epoch 7.068495988845825 sec\n",
            "\n",
            "Epoch 58 Batch 0 Loss 0.022355916\n",
            "Epoch 58 Loss 0.0244\n",
            "Time taken for 1 epoch 7.44377064704895 sec\n",
            "\n",
            "Epoch 59 Batch 0 Loss 0.014667822\n",
            "Epoch 59 Loss 0.0241\n",
            "Time taken for 1 epoch 7.050228118896484 sec\n",
            "\n",
            "Epoch 60 Batch 0 Loss 0.020250507\n",
            "Epoch 60 Loss 0.0243\n",
            "Time taken for 1 epoch 7.525601625442505 sec\n",
            "\n",
            "Epoch 61 Batch 0 Loss 0.025171163\n",
            "Epoch 61 Loss 0.0240\n",
            "Time taken for 1 epoch 7.067355632781982 sec\n",
            "\n",
            "Epoch 62 Batch 0 Loss 0.02887453\n",
            "Epoch 62 Loss 0.0232\n",
            "Time taken for 1 epoch 7.531791687011719 sec\n",
            "\n",
            "Epoch 63 Batch 0 Loss 0.022077464\n",
            "Epoch 63 Loss 0.0233\n",
            "Time taken for 1 epoch 7.06907057762146 sec\n",
            "\n",
            "Epoch 64 Batch 0 Loss 0.0207855\n",
            "Epoch 64 Loss 0.0231\n",
            "Time taken for 1 epoch 7.557244777679443 sec\n",
            "\n",
            "Epoch 65 Batch 0 Loss 0.014758635\n",
            "Epoch 65 Loss 0.0235\n",
            "Time taken for 1 epoch 7.047584772109985 sec\n",
            "\n",
            "Epoch 66 Batch 0 Loss 0.017614294\n",
            "Epoch 66 Loss 0.0233\n",
            "Time taken for 1 epoch 7.499486923217773 sec\n",
            "\n",
            "Epoch 67 Batch 0 Loss 0.012674282\n",
            "Epoch 67 Loss 0.0234\n",
            "Time taken for 1 epoch 7.088385581970215 sec\n",
            "\n",
            "Epoch 68 Batch 0 Loss 0.022922337\n",
            "Epoch 68 Loss 0.0231\n",
            "Time taken for 1 epoch 7.559316873550415 sec\n",
            "\n",
            "Epoch 69 Batch 0 Loss 0.01462701\n",
            "Epoch 69 Loss 0.0234\n",
            "Time taken for 1 epoch 7.027266502380371 sec\n",
            "\n",
            "Epoch 70 Batch 0 Loss 0.028042613\n",
            "Epoch 70 Loss 0.0220\n",
            "Time taken for 1 epoch 7.50737190246582 sec\n",
            "\n",
            "Epoch 71 Batch 0 Loss 0.012440862\n",
            "Epoch 71 Loss 0.0223\n",
            "Time taken for 1 epoch 7.0396528244018555 sec\n",
            "\n",
            "Epoch 72 Batch 0 Loss 0.011515451\n",
            "Epoch 72 Loss 0.0230\n",
            "Time taken for 1 epoch 7.4941089153289795 sec\n",
            "\n",
            "Epoch 73 Batch 0 Loss 0.021114433\n",
            "Epoch 73 Loss 0.0227\n",
            "Time taken for 1 epoch 7.0666399002075195 sec\n",
            "\n",
            "Epoch 74 Batch 0 Loss 0.0116066355\n",
            "Epoch 74 Loss 0.0228\n",
            "Time taken for 1 epoch 7.4692888259887695 sec\n",
            "\n",
            "Epoch 75 Batch 0 Loss 0.017892338\n",
            "Epoch 75 Loss 0.0228\n",
            "Time taken for 1 epoch 7.055915117263794 sec\n",
            "\n",
            "Epoch 76 Batch 0 Loss 0.019283103\n",
            "Epoch 76 Loss 0.0228\n",
            "Time taken for 1 epoch 7.449469566345215 sec\n",
            "\n",
            "Epoch 77 Batch 0 Loss 0.011663273\n",
            "Epoch 77 Loss 0.0236\n",
            "Time taken for 1 epoch 7.052006721496582 sec\n",
            "\n",
            "Epoch 78 Batch 0 Loss 0.01912813\n",
            "Epoch 78 Loss 0.0223\n",
            "Time taken for 1 epoch 7.440086603164673 sec\n",
            "\n",
            "Epoch 79 Batch 0 Loss 0.018788744\n",
            "Epoch 79 Loss 0.0220\n",
            "Time taken for 1 epoch 7.067469835281372 sec\n",
            "\n",
            "Epoch 80 Batch 0 Loss 0.017165706\n",
            "Epoch 80 Loss 0.0220\n",
            "Time taken for 1 epoch 7.47444224357605 sec\n",
            "\n",
            "Epoch 81 Batch 0 Loss 0.011429845\n",
            "Epoch 81 Loss 0.0220\n",
            "Time taken for 1 epoch 7.054138660430908 sec\n",
            "\n",
            "Epoch 82 Batch 0 Loss 0.012251885\n",
            "Epoch 82 Loss 0.0211\n",
            "Time taken for 1 epoch 7.43837571144104 sec\n",
            "\n",
            "Epoch 83 Batch 0 Loss 0.01864446\n",
            "Epoch 83 Loss 0.0216\n",
            "Time taken for 1 epoch 7.061999082565308 sec\n",
            "\n",
            "Epoch 84 Batch 0 Loss 0.018201903\n",
            "Epoch 84 Loss 0.0206\n",
            "Time taken for 1 epoch 7.483898162841797 sec\n",
            "\n",
            "Epoch 85 Batch 0 Loss 0.012058652\n",
            "Epoch 85 Loss 0.0218\n",
            "Time taken for 1 epoch 7.047444105148315 sec\n",
            "\n",
            "Epoch 86 Batch 0 Loss 0.026541509\n",
            "Epoch 86 Loss 0.0219\n",
            "Time taken for 1 epoch 7.468307256698608 sec\n",
            "\n",
            "Epoch 87 Batch 0 Loss 0.02309056\n",
            "Epoch 87 Loss 0.0215\n",
            "Time taken for 1 epoch 7.071629524230957 sec\n",
            "\n",
            "Epoch 88 Batch 0 Loss 0.018789975\n",
            "Epoch 88 Loss 0.0210\n",
            "Time taken for 1 epoch 7.582654714584351 sec\n",
            "\n",
            "Epoch 89 Batch 0 Loss 0.017162796\n",
            "Epoch 89 Loss 0.0215\n",
            "Time taken for 1 epoch 7.032193660736084 sec\n",
            "\n",
            "Epoch 90 Batch 0 Loss 0.017563779\n",
            "Epoch 90 Loss 0.0217\n",
            "Time taken for 1 epoch 7.476691961288452 sec\n",
            "\n",
            "Epoch 91 Batch 0 Loss 0.007979303\n",
            "Epoch 91 Loss 0.0211\n",
            "Time taken for 1 epoch 7.056091070175171 sec\n",
            "\n",
            "Epoch 92 Batch 0 Loss 0.02677317\n",
            "Epoch 92 Loss 0.0215\n",
            "Time taken for 1 epoch 7.463644981384277 sec\n",
            "\n",
            "Epoch 93 Batch 0 Loss 0.020849196\n",
            "Epoch 93 Loss 0.0224\n",
            "Time taken for 1 epoch 7.038059711456299 sec\n",
            "\n",
            "Epoch 94 Batch 0 Loss 0.02128674\n",
            "Epoch 94 Loss 0.0219\n",
            "Time taken for 1 epoch 7.427121162414551 sec\n",
            "\n",
            "Epoch 95 Batch 0 Loss 0.010034197\n",
            "Epoch 95 Loss 0.0226\n",
            "Time taken for 1 epoch 7.044873237609863 sec\n",
            "\n",
            "Epoch 96 Batch 0 Loss 0.012027348\n",
            "Epoch 96 Loss 0.0241\n",
            "Time taken for 1 epoch 7.477705240249634 sec\n",
            "\n",
            "Epoch 97 Batch 0 Loss 0.030738655\n",
            "Epoch 97 Loss 0.0246\n",
            "Time taken for 1 epoch 7.050170660018921 sec\n",
            "\n",
            "Epoch 98 Batch 0 Loss 0.030634185\n",
            "Epoch 98 Loss 0.0255\n",
            "Time taken for 1 epoch 7.512209177017212 sec\n",
            "\n",
            "Epoch 99 Batch 0 Loss 0.01875486\n",
            "Epoch 99 Loss 0.0260\n",
            "Time taken for 1 epoch 7.051506996154785 sec\n",
            "\n",
            "Epoch 100 Batch 0 Loss 0.020272221\n",
            "Epoch 100 Loss 0.0269\n",
            "Time taken for 1 epoch 7.459666967391968 sec\n",
            "\n"
          ],
          "name": "stdout"
        }
      ]
    },
    {
      "cell_type": "code",
      "metadata": {
        "id": "j5e0W42dxew8",
        "colab_type": "code",
        "colab": {
          "base_uri": "https://localhost:8080/",
          "height": 50
        },
        "outputId": "fa6c7b76-0caa-4003-bdff-a6530eb2e4fc"
      },
      "source": [
        "print(len(epoch_list))\n",
        "print(len(loss_list))"
      ],
      "execution_count": 153,
      "outputs": [
        {
          "output_type": "stream",
          "text": [
            "100\n",
            "100\n"
          ],
          "name": "stdout"
        }
      ]
    },
    {
      "cell_type": "code",
      "metadata": {
        "id": "3RsOg3yasOLY",
        "colab_type": "code",
        "colab": {
          "base_uri": "https://localhost:8080/",
          "height": 295
        },
        "outputId": "cfdc8227-6359-4a9f-8e25-e2f1bdec96de"
      },
      "source": [
        "# summarize loss\n",
        "plt.plot(epoch_list)\n",
        "plt.plot(loss_list)\n",
        "plt.title('Loss vs Epoch')\n",
        "plt.ylabel('loss')\n",
        "plt.xlabel('epoch')\n",
        "plt.legend(['loss', 'epoch'], loc='upper left')\n",
        "plt.show()"
      ],
      "execution_count": 165,
      "outputs": [
        {
          "output_type": "display_data",
          "data": {
            "image/png": "[encoded data removed]",
            "text/plain": [
              "<Figure size 432x288 with 1 Axes>"
            ]
          },
          "metadata": {
            "tags": []
          }
        }
      ]
    },
    {
      "cell_type": "markdown",
      "metadata": {
        "id": "1diel_r_IoKr",
        "colab_type": "text"
      },
      "source": [
        "## Translate"
      ]
    },
    {
      "cell_type": "markdown",
      "metadata": {
        "id": "HQdY9YyKIqF6",
        "colab_type": "text"
      },
      "source": [
        "* The evaluate function is similar to the training loop, except we don't use *teacher forcing* here. The input to the decoder at each time step is its previous predictions along with the hidden state and the encoder output.\n",
        "* Stop predicting when the model predicts the *end token*.\n",
        "* And store the *attention weights for every time step*.\n",
        "\n",
        "Note: The encoder output is calculated only once for one input."
      ]
    },
    {
      "cell_type": "code",
      "metadata": {
        "id": "H-8o4uK6Lli9",
        "colab_type": "code",
        "colab": {}
      },
      "source": [
        "def evaluate(sentence):\n",
        "  attention_plot = np.zeros((max_length_target, max_length_input))\n",
        "  sentence = preprocess_sentence(sentence, lang='H')\n",
        "\n",
        "  inputs = [input_lang.word_index[i] for i in sentence.split(' ')]\n",
        "  inputs = tf.keras.preprocessing.sequence.pad_sequences([inputs], maxlen=max_length_input, padding='post')\n",
        "  inputs = tf.convert_to_tensor(inputs)\n",
        "\n",
        "  result = ''\n",
        "\n",
        "  hidden = [tf.zeros((1, units))]\n",
        "  encoder_output, encoder_hidden = encoder(inputs, hidden)\n",
        "\n",
        "  decoder_hidden = encoder_hidden\n",
        "  decoder_input = tf.expand_dims([target_lang.word_index['<start>']], 0)\n",
        "\n",
        "  for t in range(max_length_target):\n",
        "    predictions, decoder_hidden, attention_weights = decoder(decoder_input, decoder_hidden, encoder_output)\n",
        "\n",
        "    # storing the attention weights to plot later on\n",
        "    attention_weights = tf.reshape(attention_weights, (-1, ))\n",
        "    attention_plot[t] = attention_weights.numpy()\n",
        "\n",
        "    predicted_id = tf.argmax(predictions[0]).numpy()\n",
        "    result += target_lang.index_word[predicted_id] + ' '\n",
        "\n",
        "    if target_lang.index_word[predicted_id] == '<end>':\n",
        "      return result, sentence, attention_plot\n",
        "\n",
        "    # the predicted ID is fed back into the model\n",
        "    decoder_input = tf.expand_dims([predicted_id], 0)\n",
        "\n",
        "  return result, sentence, attention_plot"
      ],
      "execution_count": 0,
      "outputs": []
    },
    {
      "cell_type": "code",
      "metadata": {
        "id": "xXf6BdT0qUy2",
        "colab_type": "code",
        "colab": {}
      },
      "source": [
        "from matplotlib.font_manager import FontProperties\n",
        "\n",
        "# function for plotting the attention weights\n",
        "def plot_attention(attention, sentence, predicted_sentence):\n",
        "  fig = plt.figure(figsize=(10, 10))\n",
        "  ax = fig.add_subplot(1, 1, 1)\n",
        "  ax.matshow(attention, cmap='viridis')\n",
        "\n",
        "  fontdict = {'fontsize': 14}\n",
        "  hindi_font = FontProperties(fname = 'machine-learning-datasets/nirmala.ttf')\n",
        "\n",
        "  ax.set_xticklabels([''] + sentence, fontdict=fontdict, rotation=90, fontproperties=hindi_font, color='b')\n",
        "  ax.set_yticklabels([''] + predicted_sentence, fontdict=fontdict)\n",
        "\n",
        "  ax.xaxis.set_major_locator(ticker.MultipleLocator(1))\n",
        "  ax.yaxis.set_major_locator(ticker.MultipleLocator(1))\n",
        "\n",
        "  plt.show()"
      ],
      "execution_count": 0,
      "outputs": []
    },
    {
      "cell_type": "code",
      "metadata": {
        "id": "S9YqU3Virdq-",
        "colab_type": "code",
        "colab": {}
      },
      "source": [
        "def translate(sentence):\n",
        "  result, sentence, attention_plot = evaluate(sentence)\n",
        "\n",
        "  print('Input: %s' % (sentence))\n",
        "  print('Predicted translation: {}'.format(result))\n",
        "\n",
        "  attention_plot = attention_plot[:len(result.split(' ')), :len(sentence.split(' '))]\n",
        "  plot_attention(attention_plot, sentence.split(' '), result.split(' '))"
      ],
      "execution_count": 0,
      "outputs": []
    },
    {
      "cell_type": "markdown",
      "metadata": {
        "id": "KFqwrpaBsScf",
        "colab_type": "text"
      },
      "source": [
        "## Restore the latest checkpoint and test"
      ]
    },
    {
      "cell_type": "code",
      "metadata": {
        "id": "pAGJy1gCsPDa",
        "colab_type": "code",
        "outputId": "888695ee-acc8-4793-d4f2-d8cd33224c51",
        "colab": {
          "base_uri": "https://localhost:8080/",
          "height": 33
        }
      },
      "source": [
        "# restoring the latest checkpoint in checkpoint_dir\n",
        "checkpoint.restore(tf.train.latest_checkpoint(checkpoint_dir))"
      ],
      "execution_count": 158,
      "outputs": [
        {
          "output_type": "execute_result",
          "data": {
            "text/plain": [
              "<tensorflow.python.training.tracking.util.CheckpointLoadStatus at 0x7ff1c0788588>"
            ]
          },
          "metadata": {
            "tags": []
          },
          "execution_count": 158
        }
      ]
    },
    {
      "cell_type": "code",
      "metadata": {
        "id": "xlgoH_xrsdiY",
        "colab_type": "code",
        "outputId": "e376f28e-f67a-4886-face-b291ad7b3096",
        "colab": {
          "base_uri": "https://localhost:8080/",
          "height": 665
        }
      },
      "source": [
        "translate(u'मैं खेल रहा था।')"
      ],
      "execution_count": 159,
      "outputs": [
        {
          "output_type": "stream",
          "text": [
            "Input: <start> मैं खेल रहा था। <end>\n",
            "Predicted translation: i was a taxi . <end> \n"
          ],
          "name": "stdout"
        },
        {
          "output_type": "display_data",
          "data": {
            "image/png": "[encoded data removed]",
            "text/plain": [
              "<Figure size 720x720 with 1 Axes>"
            ]
          },
          "metadata": {
            "tags": []
          }
        }
      ]
    },
    {
      "cell_type": "code",
      "metadata": {
        "id": "4pSLkzL-siFG",
        "colab_type": "code",
        "outputId": "9690ea08-5817-45ce-d4fa-ea54780ee1e6",
        "colab": {
          "base_uri": "https://localhost:8080/",
          "height": 599
        }
      },
      "source": [
        "translate(u'मैं दस बजे वापस आऊँगा।')"
      ],
      "execution_count": 160,
      "outputs": [
        {
          "output_type": "stream",
          "text": [
            "Input: <start> मैं दस बजे वापस आऊँगा। <end>\n",
            "Predicted translation: i'll come back . <end> \n"
          ],
          "name": "stdout"
        },
        {
          "output_type": "display_data",
          "data": {
            "image/png": "[encoded data removed]",
            "text/plain": [
              "<Figure size 720x720 with 1 Axes>"
            ]
          },
          "metadata": {
            "tags": []
          }
        }
      ]
    },
    {
      "cell_type": "code",
      "metadata": {
        "id": "XFR4pUOXt_HL",
        "colab_type": "code",
        "outputId": "2e6f36ea-cdd8-4410-b893-1ca51120d263",
        "colab": {
          "base_uri": "https://localhost:8080/",
          "height": 665
        }
      },
      "source": [
        "translate(u'मैं शराब लाता हूँ।')"
      ],
      "execution_count": 161,
      "outputs": [
        {
          "output_type": "stream",
          "text": [
            "Input: <start> मैं शराब लाता हूँ। <end>\n",
            "Predicted translation: i'll bring the wine . <end> \n"
          ],
          "name": "stdout"
        },
        {
          "output_type": "display_data",
          "data": {
            "image/png": "[encoded data removed]",
            "text/plain": [
              "<Figure size 720x720 with 1 Axes>"
            ]
          },
          "metadata": {
            "tags": []
          }
        }
      ]
    },
    {
      "cell_type": "code",
      "metadata": {
        "id": "v4YayqmNuJ7w",
        "colab_type": "code",
        "outputId": "dad17d1c-dca6-42c7-d2f9-10c6db608f72",
        "colab": {
          "base_uri": "https://localhost:8080/",
          "height": 665
        }
      },
      "source": [
        "# wrong translation\n",
        "translate(u'तुमने क्या जवाब दिया?')"
      ],
      "execution_count": 162,
      "outputs": [
        {
          "output_type": "stream",
          "text": [
            "Input: <start> तुमने क्या जवाब दिया ? <end>\n",
            "Predicted translation: will you please explain it ? <end> \n"
          ],
          "name": "stdout"
        },
        {
          "output_type": "display_data",
          "data": {
            "image/png": "[encoded data removed]",
            "text/plain": [
              "<Figure size 720x720 with 1 Axes>"
            ]
          },
          "metadata": {
            "tags": []
          }
        }
      ]
    },
    {
      "cell_type": "code",
      "metadata": {
        "id": "2vrs-HWHuR2-",
        "colab_type": "code",
        "outputId": "16f1954e-5033-4720-9977-e61ef8845ee8",
        "colab": {
          "base_uri": "https://localhost:8080/",
          "height": 665
        }
      },
      "source": [
        "translate(u'इस डब्बे में क्या है?')"
      ],
      "execution_count": 163,
      "outputs": [
        {
          "output_type": "stream",
          "text": [
            "Input: <start> इस डब्बे में क्या है ? <end>\n",
            "Predicted translation: what is in this box ? <end> \n"
          ],
          "name": "stdout"
        },
        {
          "output_type": "display_data",
          "data": {
            "image/png": "[encoded data removed]",
            "text/plain": [
              "<Figure size 720x720 with 1 Axes>"
            ]
          },
          "metadata": {
            "tags": []
          }
        }
      ]
    },
    {
      "cell_type": "code",
      "metadata": {
        "id": "fOurVg2IukI4",
        "colab_type": "code",
        "outputId": "2347f386-08b4-4e14-bdcb-fd8ab103fece",
        "colab": {
          "base_uri": "https://localhost:8080/",
          "height": 665
        }
      },
      "source": [
        "translate(u'तुम हमारे साथ आओगे क्या?')"
      ],
      "execution_count": 164,
      "outputs": [
        {
          "output_type": "stream",
          "text": [
            "Input: <start> तुम हमारे साथ आओगे क्या ? <end>\n",
            "Predicted translation: will you go with us ? <end> \n"
          ],
          "name": "stdout"
        },
        {
          "output_type": "display_data",
          "data": {
            "image/png": "[encoded data removed]",
            "text/plain": [
              "<Figure size 720x720 with 1 Axes>"
            ]
          },
          "metadata": {
            "tags": []
          }
        }
      ]
    },
    {
      "cell_type": "markdown",
      "metadata": {
        "id": "MQNmT6nru0Oe",
        "colab_type": "text"
      },
      "source": [
        "## Next steps\n"
      ]
    },
    {
      "cell_type": "markdown",
      "metadata": {
        "id": "klfUSyzru1JC",
        "colab_type": "text"
      },
      "source": [
        "* [Download a different dataset](http://www.manythings.org/anki/) to experiment with translations, for example, English to German, or English to French.\n",
        "* Experiment with training on a larger dataset, or using more epochs"
      ]
    }
  ]
}