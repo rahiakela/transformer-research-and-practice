{
  "nbformat": 4,
  "nbformat_minor": 0,
  "metadata": {
    "colab": {
      "name": "neural_machine_translation_for_hindi_english.ipynb",
      "provenance": [],
      "toc_visible": true,
      "machine_shape": "hm",
      "authorship_tag": "ABX9TyPx5aXxxH7rtb+e7BJKeFbC",
      "include_colab_link": true
    },
    "kernelspec": {
      "name": "python3",
      "display_name": "Python 3"
    }
  },
  "cells": [
    {
      "cell_type": "markdown",
      "metadata": {
        "id": "view-in-github",
        "colab_type": "text"
      },
      "source": [
        "<a href=\"https://colab.research.google.com/github/rahiakela/natural-language-processing-case-studies/blob/master/neural_machine_translation_for_hindi_english.ipynb\" target=\"_parent\"><img src=\"https://colab.research.google.com/assets/colab-badge.svg\" alt=\"Open In Colab\"/></a>"
      ]
    },
    {
      "cell_type": "markdown",
      "metadata": {
        "id": "XkxGlCsDx2iV",
        "colab_type": "text"
      },
      "source": [
        "# Neural Machine Translation for Hindi-English: Sequence to sequence learning"
      ]
    },
    {
      "cell_type": "markdown",
      "metadata": {
        "id": "YiDAXQ8eyT-U",
        "colab_type": "text"
      },
      "source": [
        "This article throws light on various aspects of building a basic Neural Machine Translation (NMT) model using the sequence to sequence learning approach, with LSTMs (Long Short-Term Memory). While there are numerous papers and blogs on NMT, this is another attempt on highlighting some of the intuitive features and also a step by step guide to performing similar NLP tasks. I have tried maintaining a balance between technical and non-technical details in this article. I hope it helps. So let’s get started!\n",
        "\n",
        "Reference:\n",
        "\n",
        "https://medium.com/analytics-vidhya/neural-machine-translation-for-hindi-english-sequence-to-sequence-learning-1298655e334a\n",
        "\n",
        "https://github.com/richaranjan23/My_Projects/tree/master/MSc_dissertation\n",
        "\n",
        "http://www.cfilt.iitb.ac.in/~moses/iitb_en_hi_parallel/iitb_corpus_download/"
      ]
    },
    {
      "cell_type": "markdown",
      "metadata": {
        "id": "L-xRk8h3y45f",
        "colab_type": "text"
      },
      "source": [
        "## Setup"
      ]
    },
    {
      "cell_type": "code",
      "metadata": {
        "id": "R1HcRcEny6JT",
        "colab_type": "code",
        "colab": {
          "base_uri": "https://localhost:8080/",
          "height": 33
        },
        "outputId": "0264e1a9-e783-45a2-ce90-e7da784b08e1"
      },
      "source": [
        "from __future__ import absolute_import, division, print_function, unicode_literals\n",
        "\n",
        "try:\n",
        "  # %tensorflow_version only exists in Colab.\n",
        "  %tensorflow_version 2.x\n",
        "except Exception:\n",
        "  pass\n",
        "import tensorflow as tf\n",
        "from tensorflow import keras\n",
        "import numpy as np\n",
        "import pandas as pd\n",
        "\n",
        "import string\n",
        "import codecs\n",
        "import re\n",
        "import h5py\n",
        "from string import digits\n",
        "\n",
        "from nltk.translate.bleu_score import corpus_bleu\n",
        "from nltk.translate.bleu_score import SmoothingFunction\n",
        "from sklearn.model_selection import train_test_split\n",
        "\n",
        "from tensorflow.keras.layers import Input, LSTM, Embedding, Dense\n",
        "from tensorflow.keras.models import Model, load_model\n",
        "from tensorflow.keras.utils import plot_model, get_file\n",
        "\n",
        "import matplotlib.pyplot as plt\n",
        "%matplotlib inline"
      ],
      "execution_count": 2,
      "outputs": [
        {
          "output_type": "stream",
          "text": [
            "TensorFlow 2.x selected.\n"
          ],
          "name": "stdout"
        }
      ]
    },
    {
      "cell_type": "markdown",
      "metadata": {
        "id": "KKu5KCk7ya01",
        "colab_type": "text"
      },
      "source": [
        "## The Corpus — Pre-processing"
      ]
    },
    {
      "cell_type": "markdown",
      "metadata": {
        "id": "lPnqm4oJybwJ",
        "colab_type": "text"
      },
      "source": [
        "The languages chosen for building this translation models were Hindi and English, and the parallel corpora was obtained from the [IIT Bombay Hindi-English Parallel Corpus](http://www.cfilt.iitb.ac.in/~moses/iitb_en_hi_parallel/iitb_corpus_download/). This is a Hindi-English parallel corpus containing 1,492,827 pairs of sentences. "
      ]
    },
    {
      "cell_type": "markdown",
      "metadata": {
        "id": "FaVFyLmM0Y0Q",
        "colab_type": "text"
      },
      "source": [
        "### Download the dataset"
      ]
    },
    {
      "cell_type": "code",
      "metadata": {
        "id": "uFXBIUVA0Ubz",
        "colab_type": "code",
        "outputId": "63b31a80-32d0-48af-c829-e1905897ad7e",
        "colab": {
          "base_uri": "https://localhost:8080/",
          "height": 50
        }
      },
      "source": [
        "# ref: https://stackoverflow.com/questions/56976078/how-do-i-load-images-dataset-using-tf-keras-utils-get-file\n",
        "dataset = tf.keras.utils.get_file(\n",
        "    fname=\"parallel.tgz\", \n",
        "    origin=\"http://www.cfilt.iitb.ac.in/~moses/iitb_en_hi_parallel/iitb_corpus_download/parallel.tgz\", \n",
        "    extract=True,\n",
        ")"
      ],
      "execution_count": 3,
      "outputs": [
        {
          "output_type": "stream",
          "text": [
            "Downloading data from http://www.cfilt.iitb.ac.in/~moses/iitb_en_hi_parallel/iitb_corpus_download/parallel.tgz\n",
            "96100352/96098008 [==============================] - 86s 1us/step\n"
          ],
          "name": "stdout"
        }
      ]
    },
    {
      "cell_type": "code",
      "metadata": {
        "id": "KRk6lGhf1LEW",
        "colab_type": "code",
        "outputId": "4a61f14a-17b6-44d6-9313-0588a62f10ac",
        "colab": {
          "base_uri": "https://localhost:8080/",
          "height": 33
        }
      },
      "source": [
        "# check the donwloaded data that is donloaded into ~/.keras/datasets directory\n",
        "! ls ~/.keras/datasets"
      ],
      "execution_count": 4,
      "outputs": [
        {
          "output_type": "stream",
          "text": [
            "parallel  parallel.tgz\n"
          ],
          "name": "stdout"
        }
      ]
    },
    {
      "cell_type": "code",
      "metadata": {
        "id": "Qz1E6D9H1kKM",
        "colab_type": "code",
        "colab": {}
      },
      "source": [
        "# copy the donwloaded data into current directory\n",
        "! cp -r ~/.keras/datasets ."
      ],
      "execution_count": 0,
      "outputs": []
    },
    {
      "cell_type": "markdown",
      "metadata": {
        "id": "psusf4IQ2e3L",
        "colab_type": "text"
      },
      "source": [
        "### Original data load"
      ]
    },
    {
      "cell_type": "code",
      "metadata": {
        "id": "AlhjpVM11pO7",
        "colab_type": "code",
        "colab": {}
      },
      "source": [
        "eng_sentence = (open('datasets/parallel/IITB.en-hi.en', encoding='utf-8', errors='ignore').read()).split('\\n')[:-1]\n",
        "hin_sentence = (open('datasets/parallel/IITB.en-hi.hi', encoding='utf-8', errors='ignore').read()).split('\\n')[:-1]"
      ],
      "execution_count": 0,
      "outputs": []
    },
    {
      "cell_type": "code",
      "metadata": {
        "id": "dMNRG-Dv3Txn",
        "colab_type": "code",
        "outputId": "a87cac6f-322b-4469-f61b-3a3645c7304d",
        "colab": {
          "base_uri": "https://localhost:8080/",
          "height": 197
        }
      },
      "source": [
        "# prepare dataframe for both sentence\n",
        "lines = pd.DataFrame(columns=['eng', 'hindi'])\n",
        "lines.eng = eng_sentence\n",
        "lines.hindi = hin_sentence\n",
        "lines.head()"
      ],
      "execution_count": 7,
      "outputs": [
        {
          "output_type": "execute_result",
          "data": {
            "text/html": [
              "<div>\n",
              "<style scoped>\n",
              "    .dataframe tbody tr th:only-of-type {\n",
              "        vertical-align: middle;\n",
              "    }\n",
              "\n",
              "    .dataframe tbody tr th {\n",
              "        vertical-align: top;\n",
              "    }\n",
              "\n",
              "    .dataframe thead th {\n",
              "        text-align: right;\n",
              "    }\n",
              "</style>\n",
              "<table border=\"1\" class=\"dataframe\">\n",
              "  <thead>\n",
              "    <tr style=\"text-align: right;\">\n",
              "      <th></th>\n",
              "      <th>eng</th>\n",
              "      <th>hindi</th>\n",
              "    </tr>\n",
              "  </thead>\n",
              "  <tbody>\n",
              "    <tr>\n",
              "      <th>0</th>\n",
              "      <td>Give your application an accessibility workout</td>\n",
              "      <td>अपने अनुप्रयोग को पहुंचनीयता व्यायाम का लाभ दें</td>\n",
              "    </tr>\n",
              "    <tr>\n",
              "      <th>1</th>\n",
              "      <td>Accerciser Accessibility Explorer</td>\n",
              "      <td>एक्सेर्साइसर पहुंचनीयता अन्वेषक</td>\n",
              "    </tr>\n",
              "    <tr>\n",
              "      <th>2</th>\n",
              "      <td>The default plugin layout for the bottom panel</td>\n",
              "      <td>निचले पटल के लिए डिफोल्ट प्लग-इन खाका</td>\n",
              "    </tr>\n",
              "    <tr>\n",
              "      <th>3</th>\n",
              "      <td>The default plugin layout for the top panel</td>\n",
              "      <td>ऊपरी पटल के लिए डिफोल्ट प्लग-इन खाका</td>\n",
              "    </tr>\n",
              "    <tr>\n",
              "      <th>4</th>\n",
              "      <td>A list of plugins that are disabled by default</td>\n",
              "      <td>उन प्लग-इनों की सूची जिन्हें डिफोल्ट रूप से नि...</td>\n",
              "    </tr>\n",
              "  </tbody>\n",
              "</table>\n",
              "</div>"
            ],
            "text/plain": [
              "                                              eng                                              hindi\n",
              "0  Give your application an accessibility workout    अपने अनुप्रयोग को पहुंचनीयता व्यायाम का लाभ दें\n",
              "1               Accerciser Accessibility Explorer                    एक्सेर्साइसर पहुंचनीयता अन्वेषक\n",
              "2  The default plugin layout for the bottom panel              निचले पटल के लिए डिफोल्ट प्लग-इन खाका\n",
              "3     The default plugin layout for the top panel               ऊपरी पटल के लिए डिफोल्ट प्लग-इन खाका\n",
              "4  A list of plugins that are disabled by default  उन प्लग-इनों की सूची जिन्हें डिफोल्ट रूप से नि..."
            ]
          },
          "metadata": {
            "tags": []
          },
          "execution_count": 7
        }
      ]
    },
    {
      "cell_type": "code",
      "metadata": {
        "id": "uBuSZ5kP3y-E",
        "colab_type": "code",
        "outputId": "0a88470a-0fa3-49f7-dedb-4afec1614229",
        "colab": {
          "base_uri": "https://localhost:8080/",
          "height": 33
        }
      },
      "source": [
        "lines.shape"
      ],
      "execution_count": 8,
      "outputs": [
        {
          "output_type": "execute_result",
          "data": {
            "text/plain": [
              "(1561840, 2)"
            ]
          },
          "metadata": {
            "tags": []
          },
          "execution_count": 8
        }
      ]
    },
    {
      "cell_type": "markdown",
      "metadata": {
        "id": "BpHYHk8k5198",
        "colab_type": "text"
      },
      "source": [
        "### Original data cleaning"
      ]
    },
    {
      "cell_type": "code",
      "metadata": {
        "id": "kcDAvoCC4Ojc",
        "colab_type": "code",
        "outputId": "3c1637db-29cb-41a2-b19d-2cadc5d9824e",
        "colab": {
          "base_uri": "https://localhost:8080/",
          "height": 33
        }
      },
      "source": [
        "# truncate dataset\n",
        "lines = lines[:1000000]\n",
        "lines.shape"
      ],
      "execution_count": 9,
      "outputs": [
        {
          "output_type": "execute_result",
          "data": {
            "text/plain": [
              "(1000000, 2)"
            ]
          },
          "metadata": {
            "tags": []
          },
          "execution_count": 9
        }
      ]
    },
    {
      "cell_type": "code",
      "metadata": {
        "id": "XLxaOMw47NAG",
        "colab_type": "code",
        "colab": {}
      },
      "source": [
        "# clean hindi text\n",
        "hindi_clean = []\n",
        "for line in lines.hindi:\n",
        "  nstr = re.sub('\\s+_\\s+[A-Za-z]', '', line)\n",
        "  nstr = re.sub('\\(*\\)*', '', nstr)\n",
        "  nstr = re.sub('%.*?[A-Za-z]', '', nstr)\n",
        "  nstr = re.sub('[A-Za-z]', '', nstr)\n",
        "  nstr = nstr.strip()\n",
        "  nstr = re.sub('\\s+', ' ', nstr)\n",
        "  hindi_clean.append(nstr)"
      ],
      "execution_count": 0,
      "outputs": []
    },
    {
      "cell_type": "code",
      "metadata": {
        "id": "JI3GA-ui8O6p",
        "colab_type": "code",
        "colab": {}
      },
      "source": [
        "# clean english text\n",
        "eng_clean = []\n",
        "for line in lines.eng:\n",
        "  estr = re.sub('\\s+_\\s', '', line)\n",
        "  estr = re.sub(r'[^\\x00-\\x7F]+', ' ', estr)\n",
        "  estr = estr.strip()\n",
        "  estr = re.sub('\\s+', ' ', estr)\n",
        "  eng_clean.append(estr)"
      ],
      "execution_count": 0,
      "outputs": []
    },
    {
      "cell_type": "code",
      "metadata": {
        "id": "Gc1Jk4gq84uk",
        "colab_type": "code",
        "outputId": "0f28c648-10bd-40cb-894c-49915ac8cf45",
        "colab": {
          "base_uri": "https://localhost:8080/",
          "height": 33
        }
      },
      "source": [
        "len(hindi_clean), len(eng_clean)"
      ],
      "execution_count": 12,
      "outputs": [
        {
          "output_type": "execute_result",
          "data": {
            "text/plain": [
              "(1000000, 1000000)"
            ]
          },
          "metadata": {
            "tags": []
          },
          "execution_count": 12
        }
      ]
    },
    {
      "cell_type": "code",
      "metadata": {
        "id": "rTdQ4RI_911x",
        "colab_type": "code",
        "colab": {}
      },
      "source": [
        "# update dataframe hindi/english column with cleaned data\n",
        "lines.hindi = hindi_clean\n",
        "lines.eng = eng_clean\n",
        "\n",
        "# make lower case\n",
        "lines.hindi = lines.hindi.apply(lambda x: x.lower())\n",
        "lines.eng = lines.eng.apply(lambda x: x.lower())"
      ],
      "execution_count": 0,
      "outputs": []
    },
    {
      "cell_type": "code",
      "metadata": {
        "id": "8_5eXzAu-j3g",
        "colab_type": "code",
        "colab": {}
      },
      "source": [
        "# remove punctuation\n",
        "exclude = set(string.punctuation)\n",
        "lines.hindi = lines.hindi.apply(lambda x: ''.join(ch for ch in x if ch not in exclude))\n",
        "lines.eng = lines.eng.apply(lambda x: ''.join(ch for ch in x if ch not in exclude))"
      ],
      "execution_count": 0,
      "outputs": []
    },
    {
      "cell_type": "code",
      "metadata": {
        "id": "5RWpUati_Ux-",
        "colab_type": "code",
        "colab": {}
      },
      "source": [
        "# remove digits from text\n",
        "remove_digits = str.maketrans('', '', digits)\n",
        "lines.hindi = lines.hindi.apply(lambda x: x.translate(remove_digits))\n",
        "lines.eng = lines.eng.apply(lambda x: x.translate(remove_digits))"
      ],
      "execution_count": 0,
      "outputs": []
    },
    {
      "cell_type": "code",
      "metadata": {
        "id": "6nKAx4KjADqh",
        "colab_type": "code",
        "outputId": "a0341ed7-6e9a-4390-f8b9-107319c86766",
        "colab": {
          "base_uri": "https://localhost:8080/",
          "height": 347
        }
      },
      "source": [
        "lines.sample(10)"
      ],
      "execution_count": 16,
      "outputs": [
        {
          "output_type": "execute_result",
          "data": {
            "text/html": [
              "<div>\n",
              "<style scoped>\n",
              "    .dataframe tbody tr th:only-of-type {\n",
              "        vertical-align: middle;\n",
              "    }\n",
              "\n",
              "    .dataframe tbody tr th {\n",
              "        vertical-align: top;\n",
              "    }\n",
              "\n",
              "    .dataframe thead th {\n",
              "        text-align: right;\n",
              "    }\n",
              "</style>\n",
              "<table border=\"1\" class=\"dataframe\">\n",
              "  <thead>\n",
              "    <tr style=\"text-align: right;\">\n",
              "      <th></th>\n",
              "      <th>eng</th>\n",
              "      <th>hindi</th>\n",
              "    </tr>\n",
              "  </thead>\n",
              "  <tbody>\n",
              "    <tr>\n",
              "      <th>47722</th>\n",
              "      <td>voice mails</td>\n",
              "      <td>भ्वाएस मेल</td>\n",
              "    </tr>\n",
              "    <tr>\n",
              "      <th>606662</th>\n",
              "      <td>always blind carbon  copy bcc to</td>\n",
              "      <td>इन्हें हमेशा अंध कार्बन प्रति भेजें</td>\n",
              "    </tr>\n",
              "    <tr>\n",
              "      <th>661521</th>\n",
              "      <td>he s carrying a cell phone because most incomi...</td>\n",
              "      <td>उसके पास मोबाईल है क्योकि आने वाली कॉल मुफ्त है</td>\n",
              "    </tr>\n",
              "    <tr>\n",
              "      <th>949615</th>\n",
              "      <td>somatopathy</td>\n",
              "      <td>शारीरिकरोग</td>\n",
              "    </tr>\n",
              "    <tr>\n",
              "      <th>439410</th>\n",
              "      <td>exyernal links</td>\n",
              "      <td>बाहरी कड़ियाँ</td>\n",
              "    </tr>\n",
              "    <tr>\n",
              "      <th>829693</th>\n",
              "      <td>open</td>\n",
              "      <td>उघरना</td>\n",
              "    </tr>\n",
              "    <tr>\n",
              "      <th>175023</th>\n",
              "      <td>rain  sleet</td>\n",
              "      <td></td>\n",
              "    </tr>\n",
              "    <tr>\n",
              "      <th>883403</th>\n",
              "      <td>final stage</td>\n",
              "      <td>उपसंहार</td>\n",
              "    </tr>\n",
              "    <tr>\n",
              "      <th>783705</th>\n",
              "      <td>mistake</td>\n",
              "      <td>भ्रांति</td>\n",
              "    </tr>\n",
              "    <tr>\n",
              "      <th>618962</th>\n",
              "      <td>your ubuntu release is not supported anymore</td>\n",
              "      <td>आपका उबुन्टू प्रकाशन अब समर्थित नहीं है</td>\n",
              "    </tr>\n",
              "  </tbody>\n",
              "</table>\n",
              "</div>"
            ],
            "text/plain": [
              "                                                      eng                                            hindi\n",
              "47722                                         voice mails                                       भ्वाएस मेल\n",
              "606662                   always blind carbon  copy bcc to             इन्हें हमेशा अंध कार्बन प्रति भेजें \n",
              "661521  he s carrying a cell phone because most incomi...  उसके पास मोबाईल है क्योकि आने वाली कॉल मुफ्त है\n",
              "949615                                        somatopathy                                       शारीरिकरोग\n",
              "439410                                     exyernal links                                    बाहरी कड़ियाँ\n",
              "829693                                               open                                            उघरना\n",
              "175023                                        rain  sleet                                                 \n",
              "883403                                        final stage                                          उपसंहार\n",
              "783705                                            mistake                                          भ्रांति\n",
              "618962       your ubuntu release is not supported anymore          आपका उबुन्टू प्रकाशन अब समर्थित नहीं है"
            ]
          },
          "metadata": {
            "tags": []
          },
          "execution_count": 16
        }
      ]
    },
    {
      "cell_type": "code",
      "metadata": {
        "id": "rPnH9Bx9BIoo",
        "colab_type": "code",
        "outputId": "edb6c20c-91b3-4b35-af62-70f06ddb8f76",
        "colab": {
          "base_uri": "https://localhost:8080/",
          "height": 647
        }
      },
      "source": [
        "lines.sample(20)"
      ],
      "execution_count": 17,
      "outputs": [
        {
          "output_type": "execute_result",
          "data": {
            "text/html": [
              "<div>\n",
              "<style scoped>\n",
              "    .dataframe tbody tr th:only-of-type {\n",
              "        vertical-align: middle;\n",
              "    }\n",
              "\n",
              "    .dataframe tbody tr th {\n",
              "        vertical-align: top;\n",
              "    }\n",
              "\n",
              "    .dataframe thead th {\n",
              "        text-align: right;\n",
              "    }\n",
              "</style>\n",
              "<table border=\"1\" class=\"dataframe\">\n",
              "  <thead>\n",
              "    <tr style=\"text-align: right;\">\n",
              "      <th></th>\n",
              "      <th>eng</th>\n",
              "      <th>hindi</th>\n",
              "    </tr>\n",
              "  </thead>\n",
              "  <tbody>\n",
              "    <tr>\n",
              "      <th>281431</th>\n",
              "      <td>they said oppressed we have been ere thou came...</td>\n",
              "      <td>उन्होंने कहा तुम्हारे आने से पहले भी हम सताए ग...</td>\n",
              "    </tr>\n",
              "    <tr>\n",
              "      <th>21336</th>\n",
              "      <td>create corresponding header file</td>\n",
              "      <td>बनाएँ शीर्ष टिप्पणी फ़ाइल</td>\n",
              "    </tr>\n",
              "    <tr>\n",
              "      <th>6381</th>\n",
              "      <td>preview</td>\n",
              "      <td>प्रिंट पूर्व दर्शन</td>\n",
              "    </tr>\n",
              "    <tr>\n",
              "      <th>394258</th>\n",
              "      <td>he said i will by no means send him with you u...</td>\n",
              "      <td>उसने कहा मैं उसे तुम्हारे साथ कदापि नहीं भेज स...</td>\n",
              "    </tr>\n",
              "    <tr>\n",
              "      <th>455893</th>\n",
              "      <td>in theory american policymakers can break this...</td>\n",
              "      <td>सिद्धान्ततः अमेरिका के रणनीतिकार इस परिपाटी को...</td>\n",
              "    </tr>\n",
              "    <tr>\n",
              "      <th>271761</th>\n",
              "      <td>they said build him a building and cast him in...</td>\n",
              "      <td>वे बोले उनके लिए एक मकान अर्थात अग्निकुंड तैया...</td>\n",
              "    </tr>\n",
              "    <tr>\n",
              "      <th>174175</th>\n",
              "      <td>seconds</td>\n",
              "      <td>सेकण्ड</td>\n",
              "    </tr>\n",
              "    <tr>\n",
              "      <th>74165</th>\n",
              "      <td>no support for authentication type s</td>\n",
              "      <td>सत्यापन प्रकार के लिये कोई समर्थन नहीं</td>\n",
              "    </tr>\n",
              "    <tr>\n",
              "      <th>612337</th>\n",
              "      <td>general enquiries about policy on noise from a...</td>\n",
              "      <td>हवाई जहाजों से शोर पर नीति के बारे में सामान्य...</td>\n",
              "    </tr>\n",
              "    <tr>\n",
              "      <th>424972</th>\n",
              "      <td>the unbelievers spend their wealth to hinder m...</td>\n",
              "      <td>इसमें शक़ नहीं कि ये कुफ्फार अपने माल महज़ इस ...</td>\n",
              "    </tr>\n",
              "    <tr>\n",
              "      <th>853800</th>\n",
              "      <td>comestible</td>\n",
              "      <td>खानापीना</td>\n",
              "    </tr>\n",
              "    <tr>\n",
              "      <th>676680</th>\n",
              "      <td>but she came around when he explained the scar...</td>\n",
              "      <td>लेकिन जब उन्होंने शुद्ध रक्त की किल्लत के बारे...</td>\n",
              "    </tr>\n",
              "    <tr>\n",
              "      <th>395701</th>\n",
              "      <td>and we rained down upon them a rain and evil w...</td>\n",
              "      <td>और हमने उनपर एक बरसात बरसाई। और यह चेताए हुए ल...</td>\n",
              "    </tr>\n",
              "    <tr>\n",
              "      <th>602414</th>\n",
              "      <td>wordlist</td>\n",
              "      <td>शब्दसूची</td>\n",
              "    </tr>\n",
              "    <tr>\n",
              "      <th>839043</th>\n",
              "      <td>unpaid</td>\n",
              "      <td>शौकीन</td>\n",
              "    </tr>\n",
              "    <tr>\n",
              "      <th>470978</th>\n",
              "      <td>remember my credit card details</td>\n",
              "      <td>मेरे क्रेडिट कार्ड विवरण याद रखो</td>\n",
              "    </tr>\n",
              "    <tr>\n",
              "      <th>764610</th>\n",
              "      <td>twinkle</td>\n",
              "      <td>उज्वला</td>\n",
              "    </tr>\n",
              "    <tr>\n",
              "      <th>891204</th>\n",
              "      <td>aiming symbol</td>\n",
              "      <td>संधान प्रतीक</td>\n",
              "    </tr>\n",
              "    <tr>\n",
              "      <th>97361</th>\n",
              "      <td>many email systems add an apparently  to heade...</td>\n",
              "      <td>कई ईमेल तंत्र एक  शीर्षिका को संदेश में जोड़ता...</td>\n",
              "    </tr>\n",
              "    <tr>\n",
              "      <th>183568</th>\n",
              "      <td>construct a rational b zier curve with this co...</td>\n",
              "      <td>इस केंद्र के द्वारा एक वृत्त का निर्माण करें</td>\n",
              "    </tr>\n",
              "  </tbody>\n",
              "</table>\n",
              "</div>"
            ],
            "text/plain": [
              "                                                      eng                                              hindi\n",
              "281431  they said oppressed we have been ere thou came...  उन्होंने कहा तुम्हारे आने से पहले भी हम सताए ग...\n",
              "21336                    create corresponding header file                          बनाएँ शीर्ष टिप्पणी फ़ाइल\n",
              "6381                                              preview                                 प्रिंट पूर्व दर्शन\n",
              "394258  he said i will by no means send him with you u...  उसने कहा मैं उसे तुम्हारे साथ कदापि नहीं भेज स...\n",
              "455893  in theory american policymakers can break this...  सिद्धान्ततः अमेरिका के रणनीतिकार इस परिपाटी को...\n",
              "271761  they said build him a building and cast him in...  वे बोले उनके लिए एक मकान अर्थात अग्निकुंड तैया...\n",
              "174175                                            seconds                                             सेकण्ड\n",
              "74165                no support for authentication type s             सत्यापन प्रकार के लिये कोई समर्थन नहीं\n",
              "612337  general enquiries about policy on noise from a...  हवाई जहाजों से शोर पर नीति के बारे में सामान्य...\n",
              "424972  the unbelievers spend their wealth to hinder m...  इसमें शक़ नहीं कि ये कुफ्फार अपने माल महज़ इस ...\n",
              "853800                                         comestible                                           खानापीना\n",
              "676680  but she came around when he explained the scar...  लेकिन जब उन्होंने शुद्ध रक्त की किल्लत के बारे...\n",
              "395701  and we rained down upon them a rain and evil w...  और हमने उनपर एक बरसात बरसाई। और यह चेताए हुए ल...\n",
              "602414                                           wordlist                                           शब्दसूची\n",
              "839043                                             unpaid                                              शौकीन\n",
              "470978                    remember my credit card details                   मेरे क्रेडिट कार्ड विवरण याद रखो\n",
              "764610                                            twinkle                                             उज्वला\n",
              "891204                                      aiming symbol                                       संधान प्रतीक\n",
              "97361   many email systems add an apparently  to heade...  कई ईमेल तंत्र एक  शीर्षिका को संदेश में जोड़ता...\n",
              "183568  construct a rational b zier curve with this co...       इस केंद्र के द्वारा एक वृत्त का निर्माण करें"
            ]
          },
          "metadata": {
            "tags": []
          },
          "execution_count": 17
        }
      ]
    },
    {
      "cell_type": "markdown",
      "metadata": {
        "id": "ivMC0t8UAXnN",
        "colab_type": "text"
      },
      "source": [
        "## Filter short sentences"
      ]
    },
    {
      "cell_type": "code",
      "metadata": {
        "id": "6AWsw2AMAJUP",
        "colab_type": "code",
        "colab": {}
      },
      "source": [
        "short_sent_df = pd.DataFrame(columns=['eng', 'hindi'])  "
      ],
      "execution_count": 0,
      "outputs": []
    },
    {
      "cell_type": "code",
      "metadata": {
        "id": "D2LoT1GZVv2E",
        "colab_type": "code",
        "colab": {}
      },
      "source": [
        "eng_list = []\n",
        "hindi_list = []\n",
        "\n",
        "for index, row in lines.iterrows():\n",
        "\n",
        "  eng1 = row['eng']\n",
        "  eng1 = eng1.strip()\n",
        "  eng1 = re.sub('\\s+', ' ', eng1)\n",
        "\n",
        "  hindi1 = row['hindi']\n",
        "  hindi1 = hindi1.strip()\n",
        "  hindi1 = re.sub('\\s+', ' ', hindi1)\n",
        "\n",
        "  ctr1 = 0\n",
        "  ctr2 = 0\n",
        "\n",
        "  hindi_words = hindi1.split(' ')\n",
        "  for word in hindi_words:\n",
        "    new_word1 = word.strip()\n",
        "    if len(new_word1) > 0:\n",
        "      ctr1 = ctr1 + 1\n",
        "\n",
        "  eng_words = eng1.split(' ')\n",
        "  for word in eng_words:\n",
        "    new_word2 = word.strip()\n",
        "    if len(new_word2) > 0:\n",
        "      ctr2 = ctr2 + 1\n",
        "\n",
        "  if ctr1 <= 30 and ctr2 <= 30:\n",
        "    eng_list.append(eng1)\n",
        "    hindi_list.append(hindi1)"
      ],
      "execution_count": 0,
      "outputs": []
    },
    {
      "cell_type": "code",
      "metadata": {
        "id": "qOtfodoGYVS7",
        "colab_type": "code",
        "colab": {
          "base_uri": "https://localhost:8080/",
          "height": 33
        },
        "outputId": "87771024-2ba8-4c8d-f42f-0efe8f61027c"
      },
      "source": [
        "len(eng_list), len(hindi_list)"
      ],
      "execution_count": 20,
      "outputs": [
        {
          "output_type": "execute_result",
          "data": {
            "text/plain": [
              "(892277, 892277)"
            ]
          },
          "metadata": {
            "tags": []
          },
          "execution_count": 20
        }
      ]
    },
    {
      "cell_type": "code",
      "metadata": {
        "id": "kS6IID0yZI0k",
        "colab_type": "code",
        "colab": {
          "base_uri": "https://localhost:8080/",
          "height": 33
        },
        "outputId": "63961583-32e9-489b-9667-f0c535f2fece"
      },
      "source": [
        "short_sent_df.eng = eng_list\n",
        "short_sent_df.hindi = hindi_list\n",
        "\n",
        "short_sent_df.shape"
      ],
      "execution_count": 21,
      "outputs": [
        {
          "output_type": "execute_result",
          "data": {
            "text/plain": [
              "(892277, 2)"
            ]
          },
          "metadata": {
            "tags": []
          },
          "execution_count": 21
        }
      ]
    },
    {
      "cell_type": "code",
      "metadata": {
        "id": "ZcySNIhKZUKh",
        "colab_type": "code",
        "colab": {
          "base_uri": "https://localhost:8080/",
          "height": 197
        },
        "outputId": "6ab12fcb-0dea-45f3-a541-74d7844a91cc"
      },
      "source": [
        "short_sent_df.sample(5)"
      ],
      "execution_count": 22,
      "outputs": [
        {
          "output_type": "execute_result",
          "data": {
            "text/html": [
              "<div>\n",
              "<style scoped>\n",
              "    .dataframe tbody tr th:only-of-type {\n",
              "        vertical-align: middle;\n",
              "    }\n",
              "\n",
              "    .dataframe tbody tr th {\n",
              "        vertical-align: top;\n",
              "    }\n",
              "\n",
              "    .dataframe thead th {\n",
              "        text-align: right;\n",
              "    }\n",
              "</style>\n",
              "<table border=\"1\" class=\"dataframe\">\n",
              "  <thead>\n",
              "    <tr style=\"text-align: right;\">\n",
              "      <th></th>\n",
              "      <th>eng</th>\n",
              "      <th>hindi</th>\n",
              "    </tr>\n",
              "  </thead>\n",
              "  <tbody>\n",
              "    <tr>\n",
              "      <th>365299</th>\n",
              "      <td>nokia</td>\n",
              "      <td>नोकिया २६१०</td>\n",
              "    </tr>\n",
              "    <tr>\n",
              "      <th>585066</th>\n",
              "      <td>sortie</td>\n",
              "      <td>उड़ान</td>\n",
              "    </tr>\n",
              "    <tr>\n",
              "      <th>116461</th>\n",
              "      <td>the reported error was quot quot the message h...</td>\n",
              "      <td>रिपोर्ट की गई त्रुटि थी सबसे अधिक संभावना वाली...</td>\n",
              "    </tr>\n",
              "    <tr>\n",
              "      <th>743321</th>\n",
              "      <td>permanent</td>\n",
              "      <td>अमिट</td>\n",
              "    </tr>\n",
              "    <tr>\n",
              "      <th>638601</th>\n",
              "      <td>unknowable</td>\n",
              "      <td>अलेखा</td>\n",
              "    </tr>\n",
              "  </tbody>\n",
              "</table>\n",
              "</div>"
            ],
            "text/plain": [
              "                                                      eng                                              hindi\n",
              "365299                                              nokia                                        नोकिया २६१०\n",
              "585066                                             sortie                                              उड़ान\n",
              "116461  the reported error was quot quot the message h...  रिपोर्ट की गई त्रुटि थी सबसे अधिक संभावना वाली...\n",
              "743321                                          permanent                                               अमिट\n",
              "638601                                         unknowable                                              अलेखा"
            ]
          },
          "metadata": {
            "tags": []
          },
          "execution_count": 22
        }
      ]
    },
    {
      "cell_type": "code",
      "metadata": {
        "id": "de1yct3xZf3G",
        "colab_type": "code",
        "colab": {
          "base_uri": "https://localhost:8080/",
          "height": 347
        },
        "outputId": "75d6fd3d-5ce8-4acf-dfb8-b8c65b7c6f45"
      },
      "source": [
        "short_sent_df.sample(10)"
      ],
      "execution_count": 23,
      "outputs": [
        {
          "output_type": "execute_result",
          "data": {
            "text/html": [
              "<div>\n",
              "<style scoped>\n",
              "    .dataframe tbody tr th:only-of-type {\n",
              "        vertical-align: middle;\n",
              "    }\n",
              "\n",
              "    .dataframe tbody tr th {\n",
              "        vertical-align: top;\n",
              "    }\n",
              "\n",
              "    .dataframe thead th {\n",
              "        text-align: right;\n",
              "    }\n",
              "</style>\n",
              "<table border=\"1\" class=\"dataframe\">\n",
              "  <thead>\n",
              "    <tr style=\"text-align: right;\">\n",
              "      <th></th>\n",
              "      <th>eng</th>\n",
              "      <th>hindi</th>\n",
              "    </tr>\n",
              "  </thead>\n",
              "  <tbody>\n",
              "    <tr>\n",
              "      <th>680976</th>\n",
              "      <td>selection</td>\n",
              "      <td>इन्तख़ाब</td>\n",
              "    </tr>\n",
              "    <tr>\n",
              "      <th>14222</th>\n",
              "      <td>faq</td>\n",
              "      <td></td>\n",
              "    </tr>\n",
              "    <tr>\n",
              "      <th>625910</th>\n",
              "      <td>bodily structure</td>\n",
              "      <td>शारीरीय संरचना</td>\n",
              "    </tr>\n",
              "    <tr>\n",
              "      <th>637139</th>\n",
              "      <td>unmatched</td>\n",
              "      <td>असाधारण</td>\n",
              "    </tr>\n",
              "    <tr>\n",
              "      <th>534087</th>\n",
              "      <td>of the foreign office in that section</td>\n",
              "      <td>उस अनुभाग में विदेश कार्यालय में</td>\n",
              "    </tr>\n",
              "    <tr>\n",
              "      <th>834841</th>\n",
              "      <td>pine cystoid nematode</td>\n",
              "      <td>चीड़ पुटिकाभ सूत्रकृमि</td>\n",
              "    </tr>\n",
              "    <tr>\n",
              "      <th>227657</th>\n",
              "      <td>bristles</td>\n",
              "      <td>à¤¸à¥à¤à¥à¤²</td>\n",
              "    </tr>\n",
              "    <tr>\n",
              "      <th>601310</th>\n",
              "      <td>but you go and look to the center of the galaxy</td>\n",
              "      <td>अब अगर आप आकाशगंगा के केन्द्र को देखें</td>\n",
              "    </tr>\n",
              "    <tr>\n",
              "      <th>470820</th>\n",
              "      <td>there were about freedom fighters sent to cell...</td>\n",
              "      <td>लगभग स्वतंत्रतासेनानी सेलूलर जेल में भेजे गये</td>\n",
              "    </tr>\n",
              "    <tr>\n",
              "      <th>621945</th>\n",
              "      <td>uninquiring</td>\n",
              "      <td>जिज्ञासाहीन</td>\n",
              "    </tr>\n",
              "  </tbody>\n",
              "</table>\n",
              "</div>"
            ],
            "text/plain": [
              "                                                      eng                                          hindi\n",
              "680976                                          selection                                       इन्तख़ाब\n",
              "14222                                                 faq                                               \n",
              "625910                                   bodily structure                                 शारीरीय संरचना\n",
              "637139                                          unmatched                                        असाधारण\n",
              "534087              of the foreign office in that section               उस अनुभाग में विदेश कार्यालय में\n",
              "834841                              pine cystoid nematode                         चीड़ पुटिकाभ सूत्रकृमि\n",
              "227657                                           bristles                                à¤¸à¥à¤à¥à¤²\n",
              "601310    but you go and look to the center of the galaxy         अब अगर आप आकाशगंगा के केन्द्र को देखें\n",
              "470820  there were about freedom fighters sent to cell...  लगभग स्वतंत्रतासेनानी सेलूलर जेल में भेजे गये\n",
              "621945                                        uninquiring                                    जिज्ञासाहीन"
            ]
          },
          "metadata": {
            "tags": []
          },
          "execution_count": 23
        }
      ]
    },
    {
      "cell_type": "markdown",
      "metadata": {
        "id": "pbKjhMoFZ7sx",
        "colab_type": "text"
      },
      "source": [
        "## Generate Tokens"
      ]
    },
    {
      "cell_type": "code",
      "metadata": {
        "id": "_69QTfUkZ9FG",
        "colab_type": "code",
        "colab": {
          "base_uri": "https://localhost:8080/",
          "height": 197
        },
        "outputId": "e9b337cf-ee4f-41e3-e771-336aa0cdd53c"
      },
      "source": [
        "short_sent_df.eng = short_sent_df.eng.apply(lambda x: 'START_ ' + x + ' _END')\n",
        "short_sent_df.sample(5)"
      ],
      "execution_count": 24,
      "outputs": [
        {
          "output_type": "execute_result",
          "data": {
            "text/html": [
              "<div>\n",
              "<style scoped>\n",
              "    .dataframe tbody tr th:only-of-type {\n",
              "        vertical-align: middle;\n",
              "    }\n",
              "\n",
              "    .dataframe tbody tr th {\n",
              "        vertical-align: top;\n",
              "    }\n",
              "\n",
              "    .dataframe thead th {\n",
              "        text-align: right;\n",
              "    }\n",
              "</style>\n",
              "<table border=\"1\" class=\"dataframe\">\n",
              "  <thead>\n",
              "    <tr style=\"text-align: right;\">\n",
              "      <th></th>\n",
              "      <th>eng</th>\n",
              "      <th>hindi</th>\n",
              "    </tr>\n",
              "  </thead>\n",
              "  <tbody>\n",
              "    <tr>\n",
              "      <th>618302</th>\n",
              "      <td>START_ seasonable _END</td>\n",
              "      <td>समयोचित</td>\n",
              "    </tr>\n",
              "    <tr>\n",
              "      <th>840235</th>\n",
              "      <td>START_ rumination _END</td>\n",
              "      <td>रोमन्थन निगले हुए भोजन का पुनर्चर्वण</td>\n",
              "    </tr>\n",
              "    <tr>\n",
              "      <th>737552</th>\n",
              "      <td>START_ derelict _END</td>\n",
              "      <td>जर्जर</td>\n",
              "    </tr>\n",
              "    <tr>\n",
              "      <th>140044</th>\n",
              "      <td>START_ authorizing session _END</td>\n",
              "      <td>प्राधिकृत करें</td>\n",
              "    </tr>\n",
              "    <tr>\n",
              "      <th>583752</th>\n",
              "      <td>START_ we connect events and emotions _END</td>\n",
              "      <td>हम घटनाओं और भावनाओं से जुड़ते हैं</td>\n",
              "    </tr>\n",
              "  </tbody>\n",
              "</table>\n",
              "</div>"
            ],
            "text/plain": [
              "                                               eng                                 hindi\n",
              "618302                      START_ seasonable _END                               समयोचित\n",
              "840235                      START_ rumination _END  रोमन्थन निगले हुए भोजन का पुनर्चर्वण\n",
              "737552                        START_ derelict _END                                 जर्जर\n",
              "140044             START_ authorizing session _END                        प्राधिकृत करें\n",
              "583752  START_ we connect events and emotions _END    हम घटनाओं और भावनाओं से जुड़ते हैं"
            ]
          },
          "metadata": {
            "tags": []
          },
          "execution_count": 24
        }
      ]
    },
    {
      "cell_type": "code",
      "metadata": {
        "id": "dbF1bSBgZlEm",
        "colab_type": "code",
        "colab": {
          "base_uri": "https://localhost:8080/",
          "height": 33
        },
        "outputId": "f2c7b96a-3a82-4f1e-d5ce-b0b90d5b5801"
      },
      "source": [
        "all_eng_words=set()\n",
        "for eng in short_sent_df.eng:\n",
        "    for word in eng.split(' '):\n",
        "        if word not in all_eng_words:\n",
        "            all_eng_words.add(word)\n",
        "    \n",
        "all_hindi_words=set()\n",
        "for hindi in short_sent_df.hindi:\n",
        "    for word in hindi.split(' '):\n",
        "        if word not in all_hindi_words:\n",
        "            all_hindi_words.add(word)\n",
        "\n",
        "len(all_eng_words), len(all_hindi_words)"
      ],
      "execution_count": 25,
      "outputs": [
        {
          "output_type": "execute_result",
          "data": {
            "text/plain": [
              "(109472, 177258)"
            ]
          },
          "metadata": {
            "tags": []
          },
          "execution_count": 25
        }
      ]
    },
    {
      "cell_type": "code",
      "metadata": {
        "id": "8ZMSPVc6b9zN",
        "colab_type": "code",
        "colab": {
          "base_uri": "https://localhost:8080/",
          "height": 33
        },
        "outputId": "bb09fc1a-d237-4962-a8f9-f40bb1854733"
      },
      "source": [
        "length_list = []\n",
        "for l in short_sent_df.hindi:\n",
        "  length_list.append(len(l.split(' ')))\n",
        "np.max(length_list)"
      ],
      "execution_count": 29,
      "outputs": [
        {
          "output_type": "execute_result",
          "data": {
            "text/plain": [
              "30"
            ]
          },
          "metadata": {
            "tags": []
          },
          "execution_count": 29
        }
      ]
    },
    {
      "cell_type": "code",
      "metadata": {
        "id": "p2f8lZmqiBLf",
        "colab_type": "code",
        "colab": {
          "base_uri": "https://localhost:8080/",
          "height": 33
        },
        "outputId": "0bf59cfd-4367-48db-da1d-f0f7d16123dd"
      },
      "source": [
        "length_list = []\n",
        "for l in short_sent_df.eng:\n",
        "  length_list.append(len(l.split(' ')))\n",
        "np.max(length_list)"
      ],
      "execution_count": 30,
      "outputs": [
        {
          "output_type": "execute_result",
          "data": {
            "text/plain": [
              "32"
            ]
          },
          "metadata": {
            "tags": []
          },
          "execution_count": 30
        }
      ]
    },
    {
      "cell_type": "code",
      "metadata": {
        "id": "yQq1TVx2iVxN",
        "colab_type": "code",
        "colab": {}
      },
      "source": [
        ""
      ],
      "execution_count": 0,
      "outputs": []
    }
  ]
}