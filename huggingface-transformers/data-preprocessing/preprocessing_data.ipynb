{
  "nbformat": 4,
  "nbformat_minor": 0,
  "metadata": {
    "colab": {
      "name": "preprocessing-data.ipynb",
      "provenance": [],
      "toc_visible": true,
      "authorship_tag": "ABX9TyMyzfH5fKlyxiYWmnExk16S",
      "include_colab_link": true
    },
    "kernelspec": {
      "name": "python3",
      "display_name": "Python 3"
    },
    "accelerator": "GPU"
  },
  "cells": [
    {
      "cell_type": "markdown",
      "metadata": {
        "id": "view-in-github",
        "colab_type": "text"
      },
      "source": [
        "<a href=\"https://colab.research.google.com/github/rahiakela/natural-language-processing-case-studies/blob/master/huggingface-transformers-practice/data-preprocessing/preprocessing_data.ipynb\" target=\"_parent\"><img src=\"https://colab.research.google.com/assets/colab-badge.svg\" alt=\"Open In Colab\"/></a>"
      ]
    },
    {
      "cell_type": "markdown",
      "metadata": {
        "id": "jivRMocQdzfI"
      },
      "source": [
        "## Preprocessing data"
      ]
    },
    {
      "cell_type": "markdown",
      "metadata": {
        "id": "d9Pb8l0Si-dN"
      },
      "source": [
        "In this tutorial, we’ll explore how to preprocess your data using 🤗 Transformers. The main tool for this is what we call a tokenizer. You can build one using the tokenizer class associated to the model you would like to use, or directly with the AutoTokenizer class.\n",
        "\n",
        "As we know, the tokenizer will first split a given text in words (or part of words, punctuation symbols, etc.) usually called tokens. Then it will convert those tokens into numbers, to be able to build a tensor out of them and feed them to the model. It will also add any additional inputs the model might expect to work properly.\n",
        "\n",
        "Referemce: https://huggingface.co/transformers/preprocessing.html"
      ]
    },
    {
      "cell_type": "markdown",
      "metadata": {
        "id": "J7PywmnSL_uC"
      },
      "source": [
        "## Setup"
      ]
    },
    {
      "cell_type": "code",
      "metadata": {
        "id": "WYm8-n_bMelQ"
      },
      "source": [
        "import tensorflow as tf\n",
        "import torch"
      ],
      "execution_count": 1,
      "outputs": []
    },
    {
      "cell_type": "code",
      "metadata": {
        "id": "sl-GcyGXMBJ9"
      },
      "source": [
        "!pip install transformers"
      ],
      "execution_count": null,
      "outputs": []
    },
    {
      "cell_type": "code",
      "metadata": {
        "id": "7z8AJjW2MDHx"
      },
      "source": [
        "from transformers import pipeline\n",
        "from transformers import AutoTokenizer, AutoModelWithLMHead\n",
        "from transformers import TFAutoModelWithLMHead\n",
        "\n",
        "from pprint import pprint"
      ],
      "execution_count": 3,
      "outputs": []
    },
    {
      "cell_type": "markdown",
      "metadata": {
        "id": "ufsiNBKUM81e"
      },
      "source": [
        "## Base use"
      ]
    },
    {
      "cell_type": "markdown",
      "metadata": {
        "id": "1r_dReC8M_Q8"
      },
      "source": [
        "To automatically download the vocab used during pretraining or fine-tuning a given model, you can use the `from_pretrained()` method:"
      ]
    },
    {
      "cell_type": "code",
      "metadata": {
        "id": "-IYOeyNWNEHJ"
      },
      "source": [
        "tokenizer = AutoTokenizer.from_pretrained(\"bert-base-cased\")"
      ],
      "execution_count": null,
      "outputs": []
    },
    {
      "cell_type": "markdown",
      "metadata": {
        "id": "sCsE78jwh5yl"
      },
      "source": [
        "A `PreTrainedTokenizer` has many methods, but the only one you need to remember for preprocessing is its `__call__`: you just need to feed your sentence to your tokenizer object."
      ]
    },
    {
      "cell_type": "code",
      "metadata": {
        "id": "ppLY_BcxRpfb",
        "colab": {
          "base_uri": "https://localhost:8080/"
        },
        "outputId": "af2f4114-a773-4e4e-8f50-e87358493df5"
      },
      "source": [
        "encoded_input = tokenizer(\"Hello, I'm a single sentence!\")\n",
        "\n",
        "print(encoded_input)"
      ],
      "execution_count": 5,
      "outputs": [
        {
          "output_type": "stream",
          "text": [
            "{'input_ids': [101, 8667, 117, 146, 112, 182, 170, 1423, 5650, 106, 102], 'token_type_ids': [0, 0, 0, 0, 0, 0, 0, 0, 0, 0, 0], 'attention_mask': [1, 1, 1, 1, 1, 1, 1, 1, 1, 1, 1]}\n"
          ],
          "name": "stdout"
        }
      ]
    },
    {
      "cell_type": "markdown",
      "metadata": {
        "id": "Q3RrBz2TS_Nm"
      },
      "source": [
        "This returns a dictionary string to list of ints. The input_ids are the indices corresponding to each token in our sentence. \n",
        "\n",
        "The tokenizer can be decoded as a list of token ids in a proper sentence:"
      ]
    },
    {
      "cell_type": "code",
      "metadata": {
        "colab": {
          "base_uri": "https://localhost:8080/",
          "height": 35
        },
        "id": "j24a3e78mFkO",
        "outputId": "d55d0b8d-409d-43cd-b4f6-a5c284d10350"
      },
      "source": [
        "tokenizer.decode(encoded_input[\"input_ids\"])"
      ],
      "execution_count": 6,
      "outputs": [
        {
          "output_type": "execute_result",
          "data": {
            "application/vnd.google.colaboratory.intrinsic+json": {
              "type": "string"
            },
            "text/plain": [
              "\"[CLS] Hello, I'm a single sentence! [SEP]\""
            ]
          },
          "metadata": {
            "tags": []
          },
          "execution_count": 6
        }
      ]
    },
    {
      "cell_type": "markdown",
      "metadata": {
        "id": "3jBMJdjlInT7"
      },
      "source": [
        "As you can see, the tokenizer automatically added some special tokens that the model expects. Not all models need special tokens; for instance, if we had used gpt2-medium instead of bert-base-cased to create our tokenizer, we would have seen the same sentence as the original one here. You can disable this behavior (which is only advised if you have added those special tokens yourself) by passing `add_special_tokens=False`."
      ]
    },
    {
      "cell_type": "code",
      "metadata": {
        "colab": {
          "base_uri": "https://localhost:8080/"
        },
        "id": "Br1SGP40IpVt",
        "outputId": "3ead246b-c5fb-4881-9ae8-f136fbf654de"
      },
      "source": [
        "encoded_input = tokenizer(\"Hello, I'm a single sentence!\", add_special_tokens=False)\n",
        "\n",
        "print(encoded_input)"
      ],
      "execution_count": 7,
      "outputs": [
        {
          "output_type": "stream",
          "text": [
            "{'input_ids': [8667, 117, 146, 112, 182, 170, 1423, 5650, 106], 'token_type_ids': [0, 0, 0, 0, 0, 0, 0, 0, 0], 'attention_mask': [1, 1, 1, 1, 1, 1, 1, 1, 1]}\n"
          ],
          "name": "stdout"
        }
      ]
    },
    {
      "cell_type": "code",
      "metadata": {
        "colab": {
          "base_uri": "https://localhost:8080/",
          "height": 35
        },
        "id": "hPvzzpFkI9qA",
        "outputId": "f2c99736-a788-4da0-9d33-d35bd5d64336"
      },
      "source": [
        "tokenizer.decode(encoded_input[\"input_ids\"])"
      ],
      "execution_count": 8,
      "outputs": [
        {
          "output_type": "execute_result",
          "data": {
            "application/vnd.google.colaboratory.intrinsic+json": {
              "type": "string"
            },
            "text/plain": [
              "\"Hello, I'm a single sentence!\""
            ]
          },
          "metadata": {
            "tags": []
          },
          "execution_count": 8
        }
      ]
    },
    {
      "cell_type": "markdown",
      "metadata": {
        "id": "U3i-SmsrJFsT"
      },
      "source": [
        "If you have several sentences you want to process, you can do this efficiently by sending them as a list to the tokenizer:"
      ]
    },
    {
      "cell_type": "code",
      "metadata": {
        "colab": {
          "base_uri": "https://localhost:8080/"
        },
        "id": "AjqQDi6vJGSt",
        "outputId": "b33f32d7-4b39-4f73-acd9-d575d6983e3a"
      },
      "source": [
        "batch_sentences = [\n",
        "   \"Hello I'm a single sentence\",\n",
        "   \"And another sentence\",\n",
        "   \"And the very very last one\"                \n",
        "]\n",
        "\n",
        "encoded_inputs = tokenizer(batch_sentences)\n",
        "print(encoded_inputs)"
      ],
      "execution_count": 9,
      "outputs": [
        {
          "output_type": "stream",
          "text": [
            "{'input_ids': [[101, 8667, 146, 112, 182, 170, 1423, 5650, 102], [101, 1262, 1330, 5650, 102], [101, 1262, 1103, 1304, 1304, 1314, 1141, 102]], 'token_type_ids': [[0, 0, 0, 0, 0, 0, 0, 0, 0], [0, 0, 0, 0, 0], [0, 0, 0, 0, 0, 0, 0, 0]], 'attention_mask': [[1, 1, 1, 1, 1, 1, 1, 1, 1], [1, 1, 1, 1, 1], [1, 1, 1, 1, 1, 1, 1, 1]]}\n"
          ],
          "name": "stdout"
        }
      ]
    },
    {
      "cell_type": "markdown",
      "metadata": {
        "id": "8SzxC9ncJfF4"
      },
      "source": [
        "We get back a dictionary once again, this time with values being lists of lists of ints.\n",
        "\n",
        "If the purpose of sending several sentences at a time to the tokenizer is to build a batch to feed the model, you will probably want:\n",
        "\n",
        "- To pad each sentence to the maximum length there is in your batch.\n",
        "- To truncate each sentence to the maximum length the model can accept (if applicable).\n",
        "- To return tensors.\n",
        "\n",
        "You can do all of this by using the following options when feeding your list of sentences to the tokenizer:"
      ]
    },
    {
      "cell_type": "code",
      "metadata": {
        "colab": {
          "base_uri": "https://localhost:8080/"
        },
        "id": "O4nmOWfCJ0Pp",
        "outputId": "7fe937e5-2525-434b-cc69-0b1b94a329ed"
      },
      "source": [
        "batch = tokenizer(batch_sentences, padding=True, truncation=True, return_tensors=\"tf\")\n",
        "print(batch)"
      ],
      "execution_count": 10,
      "outputs": [
        {
          "output_type": "stream",
          "text": [
            "{'input_ids': <tf.Tensor: shape=(3, 9), dtype=int32, numpy=\n",
            "array([[ 101, 8667,  146,  112,  182,  170, 1423, 5650,  102],\n",
            "       [ 101, 1262, 1330, 5650,  102,    0,    0,    0,    0],\n",
            "       [ 101, 1262, 1103, 1304, 1304, 1314, 1141,  102,    0]],\n",
            "      dtype=int32)>, 'token_type_ids': <tf.Tensor: shape=(3, 9), dtype=int32, numpy=\n",
            "array([[0, 0, 0, 0, 0, 0, 0, 0, 0],\n",
            "       [0, 0, 0, 0, 0, 0, 0, 0, 0],\n",
            "       [0, 0, 0, 0, 0, 0, 0, 0, 0]], dtype=int32)>, 'attention_mask': <tf.Tensor: shape=(3, 9), dtype=int32, numpy=\n",
            "array([[1, 1, 1, 1, 1, 1, 1, 1, 1],\n",
            "       [1, 1, 1, 1, 1, 0, 0, 0, 0],\n",
            "       [1, 1, 1, 1, 1, 1, 1, 1, 0]], dtype=int32)>}\n"
          ],
          "name": "stdout"
        }
      ]
    },
    {
      "cell_type": "code",
      "metadata": {
        "colab": {
          "base_uri": "https://localhost:8080/"
        },
        "id": "al80JaimKQZA",
        "outputId": "7f8695ed-2f2e-4a75-cbd2-57ad9824f0f4"
      },
      "source": [
        "batch = tokenizer(batch_sentences, padding=True, truncation=True, return_tensors=\"pt\")\n",
        "print(batch)"
      ],
      "execution_count": 11,
      "outputs": [
        {
          "output_type": "stream",
          "text": [
            "{'input_ids': tensor([[ 101, 8667,  146,  112,  182,  170, 1423, 5650,  102],\n",
            "        [ 101, 1262, 1330, 5650,  102,    0,    0,    0,    0],\n",
            "        [ 101, 1262, 1103, 1304, 1304, 1314, 1141,  102,    0]]), 'token_type_ids': tensor([[0, 0, 0, 0, 0, 0, 0, 0, 0],\n",
            "        [0, 0, 0, 0, 0, 0, 0, 0, 0],\n",
            "        [0, 0, 0, 0, 0, 0, 0, 0, 0]]), 'attention_mask': tensor([[1, 1, 1, 1, 1, 1, 1, 1, 1],\n",
            "        [1, 1, 1, 1, 1, 0, 0, 0, 0],\n",
            "        [1, 1, 1, 1, 1, 1, 1, 1, 0]])}\n"
          ],
          "name": "stdout"
        }
      ]
    },
    {
      "cell_type": "markdown",
      "metadata": {
        "id": "BuSrdXbTKY9c"
      },
      "source": [
        "It returns a dictionary with string keys and tensor values. We can now see what the `attention_mask` is all about: it points out which tokens the model should pay attention to and which ones it should not (because they represent padding in this case).\n",
        "\n",
        "Note that if your model does not have a maximum length associated to it, the command above will throw a warning. You can safely ignore it. You can also pass `verbose=False` to stop the tokenizer from throwing those kinds of warnings.\n",
        "\n"
      ]
    },
    {
      "cell_type": "markdown",
      "metadata": {
        "id": "o-tdLBZCCveP"
      },
      "source": [
        "## Preprocessing pairs of sentences"
      ]
    },
    {
      "cell_type": "markdown",
      "metadata": {
        "id": "O6t1PyXn0ONL"
      },
      "source": [
        "Sometimes you need to feed a pair of sentences to your model. For instance, if you want to classify if two sentences in a pair are similar, or for question-answering models, which take a context and a question. For BERT models, the input is then represented like this: \n",
        "\n",
        "```\n",
        "[CLS] Sequence A [SEP] Sequence B [SEP]\n",
        "```\n",
        "\n",
        "You can encode a pair of sentences in the format expected by your model by supplying the two sentences as two arguments (not a list since a list of two sentences will be interpreted as a batch of two single sentences, as we saw before). This will once again return a dict string to list of ints:"
      ]
    },
    {
      "cell_type": "code",
      "metadata": {
        "id": "AO5_CIA2Rv31",
        "outputId": "d3cdd783-dbe2-4d69-8f10-cfbc954b65e9",
        "colab": {
          "base_uri": "https://localhost:8080/"
        }
      },
      "source": [
        "encoded_input = tokenizer(\"How old are you?\", \"I'm 6 years old\")\n",
        "print(encoded_input)"
      ],
      "execution_count": 12,
      "outputs": [
        {
          "output_type": "stream",
          "text": [
            "{'input_ids': [101, 1731, 1385, 1132, 1128, 136, 102, 146, 112, 182, 127, 1201, 1385, 102], 'token_type_ids': [0, 0, 0, 0, 0, 0, 0, 1, 1, 1, 1, 1, 1, 1], 'attention_mask': [1, 1, 1, 1, 1, 1, 1, 1, 1, 1, 1, 1, 1, 1]}\n"
          ],
          "name": "stdout"
        }
      ]
    },
    {
      "cell_type": "markdown",
      "metadata": {
        "id": "j2xnOcTt24pE"
      },
      "source": [
        "This shows us what the `token_type_ids` are for: they indicate to the model which part of the inputs correspond to the first sentence and which part corresponds to the second sentence. Note that `token_type_ids` are not required or handled by all models. By default, a tokenizer will only return the inputs that its associated model expects. You can force the return (or the non-return) of any of those special arguments by using `return_input_ids` or `return_token_type_ids`.\n",
        "\n",
        "If we decode the token ids we obtained, we will see that the special tokens have been properly added."
      ]
    },
    {
      "cell_type": "code",
      "metadata": {
        "id": "2Km0Y33QSL2X",
        "outputId": "e1d64575-dcb4-46c0-e5cb-0dd8b1ebc35f",
        "colab": {
          "base_uri": "https://localhost:8080/",
          "height": 35
        }
      },
      "source": [
        "tokenizer.decode(encoded_input[\"input_ids\"])"
      ],
      "execution_count": 13,
      "outputs": [
        {
          "output_type": "execute_result",
          "data": {
            "application/vnd.google.colaboratory.intrinsic+json": {
              "type": "string"
            },
            "text/plain": [
              "\"[CLS] How old are you? [SEP] I'm 6 years old [SEP]\""
            ]
          },
          "metadata": {
            "tags": []
          },
          "execution_count": 13
        }
      ]
    },
    {
      "cell_type": "markdown",
      "metadata": {
        "id": "T1G7Chhl4SLr"
      },
      "source": [
        "If you have a list of pairs of sequences you want to process, you should feed them as two lists to your tokenizer: the list of first sentences and the list of second sentences:"
      ]
    },
    {
      "cell_type": "code",
      "metadata": {
        "colab": {
          "base_uri": "https://localhost:8080/"
        },
        "id": "7JVZC78UnIMW",
        "outputId": "d1e2cb23-0ecb-49c4-9f12-43bd6b052cf0"
      },
      "source": [
        "batch_sentences = [\n",
        "   \"Hello I'm a single sentence\",\n",
        "   \"And another sentence\",\n",
        "   \"And the very very last one\"                \n",
        "]\n",
        "\n",
        "batch_of_second_sentences = [\n",
        "   \"I'm a sentence that goes with the first sentence\",\n",
        "   \"And I should be encoded with the second sentence\",\n",
        "   \"And I go with the very last one\"                           \n",
        "]\n",
        "\n",
        "encoded_inputs = tokenizer(batch_sentences, batch_of_second_sentences)\n",
        "print(encoded_inputs)"
      ],
      "execution_count": 14,
      "outputs": [
        {
          "output_type": "stream",
          "text": [
            "{'input_ids': [[101, 8667, 146, 112, 182, 170, 1423, 5650, 102, 146, 112, 182, 170, 5650, 1115, 2947, 1114, 1103, 1148, 5650, 102], [101, 1262, 1330, 5650, 102, 1262, 146, 1431, 1129, 12544, 1114, 1103, 1248, 5650, 102], [101, 1262, 1103, 1304, 1304, 1314, 1141, 102, 1262, 146, 1301, 1114, 1103, 1304, 1314, 1141, 102]], 'token_type_ids': [[0, 0, 0, 0, 0, 0, 0, 0, 0, 1, 1, 1, 1, 1, 1, 1, 1, 1, 1, 1, 1], [0, 0, 0, 0, 0, 1, 1, 1, 1, 1, 1, 1, 1, 1, 1], [0, 0, 0, 0, 0, 0, 0, 0, 1, 1, 1, 1, 1, 1, 1, 1, 1]], 'attention_mask': [[1, 1, 1, 1, 1, 1, 1, 1, 1, 1, 1, 1, 1, 1, 1, 1, 1, 1, 1, 1, 1], [1, 1, 1, 1, 1, 1, 1, 1, 1, 1, 1, 1, 1, 1, 1], [1, 1, 1, 1, 1, 1, 1, 1, 1, 1, 1, 1, 1, 1, 1, 1, 1]]}\n"
          ],
          "name": "stdout"
        }
      ]
    },
    {
      "cell_type": "markdown",
      "metadata": {
        "id": "2mcmgChE5vQf"
      },
      "source": [
        "As we can see, it returns a dictionary where each value is a list of lists of ints.\n",
        "\n",
        "To double-check what is fed to the model, we can decode each list in `input_ids` one by one:"
      ]
    },
    {
      "cell_type": "code",
      "metadata": {
        "id": "m_mKLonm5b49",
        "outputId": "aec9f564-ef60-488d-a2b8-9934478fa026",
        "colab": {
          "base_uri": "https://localhost:8080/"
        }
      },
      "source": [
        "for ids in encoded_inputs[\"input_ids\"]:\n",
        "  print(tokenizer.decode(ids))"
      ],
      "execution_count": 15,
      "outputs": [
        {
          "output_type": "stream",
          "text": [
            "[CLS] Hello I'm a single sentence [SEP] I'm a sentence that goes with the first sentence [SEP]\n",
            "[CLS] And another sentence [SEP] And I should be encoded with the second sentence [SEP]\n",
            "[CLS] And the very very last one [SEP] And I go with the very last one [SEP]\n"
          ],
          "name": "stdout"
        }
      ]
    },
    {
      "cell_type": "markdown",
      "metadata": {
        "id": "HzvV4NRY8NGR"
      },
      "source": [
        "Once again, you can automatically pad your inputs to the maximum sentence length in the batch, truncate to the maximum length the model can accept and return tensors directly with the following:"
      ]
    },
    {
      "cell_type": "code",
      "metadata": {
        "id": "yjgKPRHI74L9"
      },
      "source": [
        "batch = tokenizer(batch_sentences, batch_of_second_sentences, padding=True, truncation=True, return_tensors=\"pt\")"
      ],
      "execution_count": 16,
      "outputs": []
    },
    {
      "cell_type": "code",
      "metadata": {
        "id": "n1oiDVgf9C9N",
        "outputId": "faf9e4c6-f88a-4cb0-ea90-0e980453d840",
        "colab": {
          "base_uri": "https://localhost:8080/"
        }
      },
      "source": [
        "print(batch)"
      ],
      "execution_count": 17,
      "outputs": [
        {
          "output_type": "stream",
          "text": [
            "{'input_ids': tensor([[  101,  8667,   146,   112,   182,   170,  1423,  5650,   102,   146,\n",
            "           112,   182,   170,  5650,  1115,  2947,  1114,  1103,  1148,  5650,\n",
            "           102],\n",
            "        [  101,  1262,  1330,  5650,   102,  1262,   146,  1431,  1129, 12544,\n",
            "          1114,  1103,  1248,  5650,   102,     0,     0,     0,     0,     0,\n",
            "             0],\n",
            "        [  101,  1262,  1103,  1304,  1304,  1314,  1141,   102,  1262,   146,\n",
            "          1301,  1114,  1103,  1304,  1314,  1141,   102,     0,     0,     0,\n",
            "             0]]), 'token_type_ids': tensor([[0, 0, 0, 0, 0, 0, 0, 0, 0, 1, 1, 1, 1, 1, 1, 1, 1, 1, 1, 1, 1],\n",
            "        [0, 0, 0, 0, 0, 1, 1, 1, 1, 1, 1, 1, 1, 1, 1, 0, 0, 0, 0, 0, 0],\n",
            "        [0, 0, 0, 0, 0, 0, 0, 0, 1, 1, 1, 1, 1, 1, 1, 1, 1, 0, 0, 0, 0]]), 'attention_mask': tensor([[1, 1, 1, 1, 1, 1, 1, 1, 1, 1, 1, 1, 1, 1, 1, 1, 1, 1, 1, 1, 1],\n",
            "        [1, 1, 1, 1, 1, 1, 1, 1, 1, 1, 1, 1, 1, 1, 1, 0, 0, 0, 0, 0, 0],\n",
            "        [1, 1, 1, 1, 1, 1, 1, 1, 1, 1, 1, 1, 1, 1, 1, 1, 1, 0, 0, 0, 0]])}\n"
          ],
          "name": "stdout"
        }
      ]
    },
    {
      "cell_type": "markdown",
      "metadata": {
        "id": "o0DkcmGY9f_s"
      },
      "source": [
        "## Pre-tokenized inputs"
      ]
    },
    {
      "cell_type": "markdown",
      "metadata": {
        "id": "Y0P5UQ339g-o"
      },
      "source": [
        "The tokenizer also accept pre-tokenized inputs. This is particularly useful when you want to compute labels and extract predictions in named entity recognition (NER) or part-of-speech tagging (POS tagging).\n",
        "\n",
        ">**Note**: Pre-tokenized does not mean your inputs are already tokenized (you wouldn’t need to pass them through the tokenizer if that was the case) but just split into words (which is often the first step in subword tokenization algorithms like BPE).\n",
        "\n",
        "If you want to use pre-tokenized inputs, just set `is_split_into_words=True` when passing your inputs to the tokenizer. For instance, we have:"
      ]
    },
    {
      "cell_type": "code",
      "metadata": {
        "id": "fl-02GwO9XMi",
        "outputId": "2d12ecaf-c81c-46aa-f226-2a2e0c5ffd94",
        "colab": {
          "base_uri": "https://localhost:8080/"
        }
      },
      "source": [
        "  encoded_input = tokenizer([\"Hello\", \"I'm\", \"a\", \"single\", \"sentence\"], is_split_into_words=True)\n",
        "  print(encoded_input)"
      ],
      "execution_count": 18,
      "outputs": [
        {
          "output_type": "stream",
          "text": [
            "{'input_ids': [101, 8667, 146, 112, 182, 170, 1423, 5650, 102], 'token_type_ids': [0, 0, 0, 0, 0, 0, 0, 0, 0], 'attention_mask': [1, 1, 1, 1, 1, 1, 1, 1, 1]}\n"
          ],
          "name": "stdout"
        }
      ]
    },
    {
      "cell_type": "markdown",
      "metadata": {
        "id": "MhCVFQRZ-Vgf"
      },
      "source": [
        "Note that the tokenizer still adds the ids of special tokens (if applicable) unless you pass `add_special_tokens=False`.\n",
        "\n",
        "This works exactly as before for batch of sentences or batch of pairs of sentences. You can encode a batch of sentences like this:"
      ]
    },
    {
      "cell_type": "code",
      "metadata": {
        "id": "Xe6MTwj0-MZ3",
        "outputId": "4d8f37ee-c9ac-4c22-f028-b762e49666f9",
        "colab": {
          "base_uri": "https://localhost:8080/"
        }
      },
      "source": [
        "batch_sentences = [\n",
        "  [\"Hello\", \"I'm\", \"a\", \"single\", \"sentence\"],\n",
        "  [\"And\", \"another\", \"sentence\"],\n",
        "  [\"And\", \"the\", \"very\", \"very\", \"last\", \"one\"]                \n",
        "]\n",
        "\n",
        "encoded_inputs = tokenizer(batch_sentences, is_split_into_words=True)\n",
        "print(encoded_inputs)"
      ],
      "execution_count": 19,
      "outputs": [
        {
          "output_type": "stream",
          "text": [
            "{'input_ids': [[101, 8667, 146, 112, 182, 170, 1423, 5650, 102], [101, 1262, 1330, 5650, 102], [101, 1262, 1103, 1304, 1304, 1314, 1141, 102]], 'token_type_ids': [[0, 0, 0, 0, 0, 0, 0, 0, 0], [0, 0, 0, 0, 0], [0, 0, 0, 0, 0, 0, 0, 0]], 'attention_mask': [[1, 1, 1, 1, 1, 1, 1, 1, 1], [1, 1, 1, 1, 1], [1, 1, 1, 1, 1, 1, 1, 1]]}\n"
          ],
          "name": "stdout"
        }
      ]
    },
    {
      "cell_type": "markdown",
      "metadata": {
        "id": "lgQn8UMK-zQN"
      },
      "source": [
        "or a batch of pair sentences like this:"
      ]
    },
    {
      "cell_type": "code",
      "metadata": {
        "id": "OV3CQyNX-vxC",
        "outputId": "e60ad933-d6f4-4555-d3a4-e9b16c340549",
        "colab": {
          "base_uri": "https://localhost:8080/"
        }
      },
      "source": [
        "batch_of_second_sentences = [\n",
        "  [\"I'm\", \"a\", \"sentence\", \"that\", \"goes\", \"with\", \"the\", \"first\", \"sentence\"],\n",
        "  [\"And\", \"I\", \"should\", \"be\", \"encoded\", \"with\", \"the\", \"second\", \"sentence\"],\n",
        "  [\"And\", \"I\", \"go\", \"with\", \"the\", \"very\", \"last\", \"one\"]              \n",
        "]\n",
        "\n",
        "encoded_inputs = tokenizer(batch_sentences, batch_of_second_sentences, is_split_into_words=True)\n",
        "print(encoded_inputs)"
      ],
      "execution_count": 20,
      "outputs": [
        {
          "output_type": "stream",
          "text": [
            "{'input_ids': [[101, 8667, 146, 112, 182, 170, 1423, 5650, 102, 146, 112, 182, 170, 5650, 1115, 2947, 1114, 1103, 1148, 5650, 102], [101, 1262, 1330, 5650, 102, 1262, 146, 1431, 1129, 12544, 1114, 1103, 1248, 5650, 102], [101, 1262, 1103, 1304, 1304, 1314, 1141, 102, 1262, 146, 1301, 1114, 1103, 1304, 1314, 1141, 102]], 'token_type_ids': [[0, 0, 0, 0, 0, 0, 0, 0, 0, 1, 1, 1, 1, 1, 1, 1, 1, 1, 1, 1, 1], [0, 0, 0, 0, 0, 1, 1, 1, 1, 1, 1, 1, 1, 1, 1], [0, 0, 0, 0, 0, 0, 0, 0, 1, 1, 1, 1, 1, 1, 1, 1, 1]], 'attention_mask': [[1, 1, 1, 1, 1, 1, 1, 1, 1, 1, 1, 1, 1, 1, 1, 1, 1, 1, 1, 1, 1], [1, 1, 1, 1, 1, 1, 1, 1, 1, 1, 1, 1, 1, 1, 1], [1, 1, 1, 1, 1, 1, 1, 1, 1, 1, 1, 1, 1, 1, 1, 1, 1]]}\n"
          ],
          "name": "stdout"
        }
      ]
    },
    {
      "cell_type": "markdown",
      "metadata": {
        "id": "x8Q1ebZQ_ShJ"
      },
      "source": [
        "And you can add padding, truncation as well as directly return tensors like before:"
      ]
    },
    {
      "cell_type": "code",
      "metadata": {
        "id": "viM6Vcd6_Oio",
        "outputId": "5d70e579-fc24-416c-dee3-80ff86c80ebd",
        "colab": {
          "base_uri": "https://localhost:8080/"
        }
      },
      "source": [
        "batch = tokenizer(batch_sentences, batch_of_second_sentences, is_split_into_words=True, padding=True, truncation=True, return_tensors=\"pt\")\n",
        "print(batch)"
      ],
      "execution_count": 21,
      "outputs": [
        {
          "output_type": "stream",
          "text": [
            "{'input_ids': tensor([[  101,  8667,   146,   112,   182,   170,  1423,  5650,   102,   146,\n",
            "           112,   182,   170,  5650,  1115,  2947,  1114,  1103,  1148,  5650,\n",
            "           102],\n",
            "        [  101,  1262,  1330,  5650,   102,  1262,   146,  1431,  1129, 12544,\n",
            "          1114,  1103,  1248,  5650,   102,     0,     0,     0,     0,     0,\n",
            "             0],\n",
            "        [  101,  1262,  1103,  1304,  1304,  1314,  1141,   102,  1262,   146,\n",
            "          1301,  1114,  1103,  1304,  1314,  1141,   102,     0,     0,     0,\n",
            "             0]]), 'token_type_ids': tensor([[0, 0, 0, 0, 0, 0, 0, 0, 0, 1, 1, 1, 1, 1, 1, 1, 1, 1, 1, 1, 1],\n",
            "        [0, 0, 0, 0, 0, 1, 1, 1, 1, 1, 1, 1, 1, 1, 1, 0, 0, 0, 0, 0, 0],\n",
            "        [0, 0, 0, 0, 0, 0, 0, 0, 1, 1, 1, 1, 1, 1, 1, 1, 1, 0, 0, 0, 0]]), 'attention_mask': tensor([[1, 1, 1, 1, 1, 1, 1, 1, 1, 1, 1, 1, 1, 1, 1, 1, 1, 1, 1, 1, 1],\n",
            "        [1, 1, 1, 1, 1, 1, 1, 1, 1, 1, 1, 1, 1, 1, 1, 0, 0, 0, 0, 0, 0],\n",
            "        [1, 1, 1, 1, 1, 1, 1, 1, 1, 1, 1, 1, 1, 1, 1, 1, 1, 0, 0, 0, 0]])}\n"
          ],
          "name": "stdout"
        }
      ]
    },
    {
      "cell_type": "code",
      "metadata": {
        "id": "kdTK9ZRh_eqe",
        "outputId": "f20320fe-8d11-474c-c82b-f02d0bc6ef48",
        "colab": {
          "base_uri": "https://localhost:8080/"
        }
      },
      "source": [
        "batch = tokenizer(batch_sentences, batch_of_second_sentences, is_split_into_words=True, padding=True, truncation=True, return_tensors=\"tf\")\n",
        "print(batch)"
      ],
      "execution_count": 23,
      "outputs": [
        {
          "output_type": "stream",
          "text": [
            "{'input_ids': <tf.Tensor: shape=(3, 21), dtype=int32, numpy=\n",
            "array([[  101,  8667,   146,   112,   182,   170,  1423,  5650,   102,\n",
            "          146,   112,   182,   170,  5650,  1115,  2947,  1114,  1103,\n",
            "         1148,  5650,   102],\n",
            "       [  101,  1262,  1330,  5650,   102,  1262,   146,  1431,  1129,\n",
            "        12544,  1114,  1103,  1248,  5650,   102,     0,     0,     0,\n",
            "            0,     0,     0],\n",
            "       [  101,  1262,  1103,  1304,  1304,  1314,  1141,   102,  1262,\n",
            "          146,  1301,  1114,  1103,  1304,  1314,  1141,   102,     0,\n",
            "            0,     0,     0]], dtype=int32)>, 'token_type_ids': <tf.Tensor: shape=(3, 21), dtype=int32, numpy=\n",
            "array([[0, 0, 0, 0, 0, 0, 0, 0, 0, 1, 1, 1, 1, 1, 1, 1, 1, 1, 1, 1, 1],\n",
            "       [0, 0, 0, 0, 0, 1, 1, 1, 1, 1, 1, 1, 1, 1, 1, 0, 0, 0, 0, 0, 0],\n",
            "       [0, 0, 0, 0, 0, 0, 0, 0, 1, 1, 1, 1, 1, 1, 1, 1, 1, 0, 0, 0, 0]],\n",
            "      dtype=int32)>, 'attention_mask': <tf.Tensor: shape=(3, 21), dtype=int32, numpy=\n",
            "array([[1, 1, 1, 1, 1, 1, 1, 1, 1, 1, 1, 1, 1, 1, 1, 1, 1, 1, 1, 1, 1],\n",
            "       [1, 1, 1, 1, 1, 1, 1, 1, 1, 1, 1, 1, 1, 1, 1, 0, 0, 0, 0, 0, 0],\n",
            "       [1, 1, 1, 1, 1, 1, 1, 1, 1, 1, 1, 1, 1, 1, 1, 1, 1, 0, 0, 0, 0]],\n",
            "      dtype=int32)>}\n"
          ],
          "name": "stdout"
        }
      ]
    }
  ]
}