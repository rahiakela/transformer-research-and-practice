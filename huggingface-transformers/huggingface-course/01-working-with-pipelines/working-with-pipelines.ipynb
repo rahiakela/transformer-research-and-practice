{
  "nbformat": 4,
  "nbformat_minor": 0,
  "metadata": {
    "colab": {
      "name": "Transformers, what can they do?",
      "provenance": [],
      "toc_visible": true,
      "include_colab_link": true
    },
    "language_info": {
      "name": "python"
    },
    "kernelspec": {
      "name": "python3",
      "display_name": "Python 3"
    }
  },
  "cells": [
    {
      "cell_type": "markdown",
      "metadata": {
        "id": "view-in-github",
        "colab_type": "text"
      },
      "source": [
        "<a href=\"https://colab.research.google.com/github/rahiakela/huggingface-transformers-practice/blob/main/huggingface-course/01-working-with-pipelines/working-with-pipelines.ipynb\" target=\"_parent\"><img src=\"https://colab.research.google.com/assets/colab-badge.svg\" alt=\"Open In Colab\"/></a>"
      ]
    },
    {
      "cell_type": "markdown",
      "metadata": {
        "id": "uKhQAKEMNNsr"
      },
      "source": [
        "## Working with pipelines"
      ]
    },
    {
      "cell_type": "markdown",
      "metadata": {
        "id": "KrrM0A07ObzK"
      },
      "source": [
        "There are three main steps involved when you pass some text to a pipeline:\n",
        "\n",
        "1. The text is preprocessed into a format the model can understand.\n",
        "2. The preprocessed inputs are passed to the model.\n",
        "3. The predictions of the model are post-processed, so you can make sense of them.\n",
        "\n",
        "Some of the currently [available pipelines](https://huggingface.co/transformers/main_classes/pipelines.html) are:\n",
        "\n",
        "- feature-extraction (get the vector representation of a text)\n",
        "- fill-mask\n",
        "- ner (named entity recognition)\n",
        "- question-answering\n",
        "- sentiment-analysis\n",
        "- summarization\n",
        "- text-generation\n",
        "- translation\n",
        "- zero-shot-classification\n",
        "\n",
        "Let’s have a look at a few of these!"
      ]
    },
    {
      "cell_type": "markdown",
      "metadata": {
        "id": "gW9JxZA1NNsw"
      },
      "source": [
        "Install the Transformers and Datasets libraries to run this notebook."
      ]
    },
    {
      "cell_type": "code",
      "metadata": {
        "id": "RGfTWNwbNNsy"
      },
      "source": [
        "!pip install datasets transformers"
      ],
      "execution_count": null,
      "outputs": []
    },
    {
      "cell_type": "markdown",
      "metadata": {
        "id": "xZCGal_NN9OF"
      },
      "source": [
        "The most basic object in the 🤗 Transformers library is the pipeline. It connects a model with its necessary preprocessing and postprocessing steps, allowing us to directly input any text and get an intelligible answer:"
      ]
    },
    {
      "cell_type": "code",
      "metadata": {
        "id": "E1o8PQ3QNNsz",
        "outputId": "95ba3f6b-6614-4f10-8458-1a414547aa7b",
        "colab": {
          "base_uri": "https://localhost:8080/"
        }
      },
      "source": [
        "from transformers import pipeline\n",
        "\n",
        "classifier = pipeline(\"sentiment-analysis\")\n",
        "classifier(\"I've been waiting for a HuggingFace course my whole life.\")"
      ],
      "execution_count": 3,
      "outputs": [
        {
          "output_type": "execute_result",
          "data": {
            "text/plain": [
              "[{'label': 'POSITIVE', 'score': 0.9598048329353333}]"
            ]
          },
          "metadata": {
            "tags": []
          },
          "execution_count": 3
        }
      ]
    },
    {
      "cell_type": "markdown",
      "metadata": {
        "id": "g4ZVchENPIei"
      },
      "source": [
        "We can even pass several sentences!"
      ]
    },
    {
      "cell_type": "code",
      "metadata": {
        "id": "BBksnWafNNs2",
        "outputId": "b41c9b73-90f9-4250-a8f0-e2367d1d4354",
        "colab": {
          "base_uri": "https://localhost:8080/"
        }
      },
      "source": [
        "classifier([\n",
        "    \"I've been waiting for a HuggingFace course my whole life.\", \n",
        "    \"I hate this so much!\"\n",
        "])"
      ],
      "execution_count": 4,
      "outputs": [
        {
          "output_type": "execute_result",
          "data": {
            "text/plain": [
              "[{'label': 'POSITIVE', 'score': 0.9598048329353333},\n",
              " {'label': 'NEGATIVE', 'score': 0.9994558095932007}]"
            ]
          },
          "metadata": {
            "tags": []
          },
          "execution_count": 4
        }
      ]
    },
    {
      "cell_type": "markdown",
      "metadata": {
        "id": "SF4HRAuMPNOa"
      },
      "source": [
        "By default, this pipeline selects a particular pretrained model that has been fine-tuned for sentiment analysis in English. The model is downloaded and cached when you create the classifier object. If you rerun the command, the cached model will be used instead and there is no need to download the model again."
      ]
    },
    {
      "cell_type": "markdown",
      "metadata": {
        "id": "fREUzKXSPDQp"
      },
      "source": [
        "## Zero-shot classification"
      ]
    },
    {
      "cell_type": "markdown",
      "metadata": {
        "id": "JhoXw_byPEQr"
      },
      "source": [
        "We’ll start by tackling a more challenging task where we need to classify texts that haven’t been labelled. This is a common scenario in real-world projects because annotating text is usually time-consuming and requires domain expertise. \n",
        "\n",
        "For this use case, the zero-shot-classification pipeline is very powerful: it allows you to specify which labels to use for the classification, so you don’t have to rely on the labels of the pretrained model. \n",
        "\n",
        "You’ve already seen how the model can classify a sentence as positive or negative using those two labels — but it can also classify the text using any other set of labels you like."
      ]
    },
    {
      "cell_type": "code",
      "metadata": {
        "id": "dG49LOx7NNs3",
        "outputId": "f9fb66b5-96df-40fd-ab5d-7bb501f05316",
        "colab": {
          "base_uri": "https://localhost:8080/"
        }
      },
      "source": [
        "from transformers import pipeline\n",
        "\n",
        "classifier = pipeline(\"zero-shot-classification\")\n",
        "classifier(\n",
        "    \"This is a course about the Transformers library\",\n",
        "    candidate_labels=[\"education\", \"politics\", \"business\"],\n",
        ")"
      ],
      "execution_count": 6,
      "outputs": [
        {
          "output_type": "execute_result",
          "data": {
            "text/plain": [
              "{'labels': ['education', 'business', 'politics'],\n",
              " 'scores': [0.844597339630127, 0.11197540909051895, 0.043427303433418274],\n",
              " 'sequence': 'This is a course about the Transformers library'}"
            ]
          },
          "metadata": {
            "tags": []
          },
          "execution_count": 6
        }
      ]
    },
    {
      "cell_type": "markdown",
      "metadata": {
        "id": "gOKq9pNOQT0K"
      },
      "source": [
        "This pipeline is called zero-shot because you don’t need to fine-tune the model on your data to use it. It can directly return probability scores for any list of labels you want!"
      ]
    },
    {
      "cell_type": "code",
      "metadata": {
        "id": "vZq6ekBvQUex",
        "outputId": "58e0a965-78d8-4715-96ef-ff42620f9ed2",
        "colab": {
          "base_uri": "https://localhost:8080/"
        }
      },
      "source": [
        "classifier(\n",
        "    \"Natural Language Processing (NLP) uses algorithms to understand and manipulate human language.\",\n",
        "    candidate_labels=[\"NLP\", \"education\", \"politics\", \"business\"],\n",
        ")"
      ],
      "execution_count": 7,
      "outputs": [
        {
          "output_type": "execute_result",
          "data": {
            "text/plain": [
              "{'labels': ['NLP', 'education', 'business', 'politics'],\n",
              " 'scores': [0.8796876072883606,\n",
              "  0.05639120936393738,\n",
              "  0.04891150817275047,\n",
              "  0.015009727329015732],\n",
              " 'sequence': 'Natural Language Processing (NLP) uses algorithms to understand and manipulate human language.'}"
            ]
          },
          "metadata": {
            "tags": []
          },
          "execution_count": 7
        }
      ]
    },
    {
      "cell_type": "code",
      "metadata": {
        "id": "cGB1tuQdQvQR",
        "outputId": "d11d95ce-af3c-45ee-a60c-d288d2594e4d",
        "colab": {
          "base_uri": "https://localhost:8080/"
        }
      },
      "source": [
        "classifier(\n",
        "    \"This will perform question-answering and sentiment analysis, create tools to translate languages and summarize text, and even build chatbots.\",\n",
        "    candidate_labels=[\"NLP\", \"education\", \"politics\", \"business\"],\n",
        ")"
      ],
      "execution_count": 8,
      "outputs": [
        {
          "output_type": "execute_result",
          "data": {
            "text/plain": [
              "{'labels': ['NLP', 'business', 'education', 'politics'],\n",
              " 'scores': [0.5820128321647644,\n",
              "  0.3106500804424286,\n",
              "  0.0803380087018013,\n",
              "  0.026999076828360558],\n",
              " 'sequence': 'This will perform question-answering and sentiment analysis, create tools to translate languages and summarize text, and even build chatbots.'}"
            ]
          },
          "metadata": {
            "tags": []
          },
          "execution_count": 8
        }
      ]
    },
    {
      "cell_type": "markdown",
      "metadata": {
        "id": "pMeLP8m9Q8Gd"
      },
      "source": [
        "## Text generation"
      ]
    },
    {
      "cell_type": "markdown",
      "metadata": {
        "id": "RwVUu6_nQ86h"
      },
      "source": [
        "Now let’s see how to use a pipeline to generate some text. The main idea here is that you provide a prompt and the model will auto-complete it by generating the remaining text. This is similar to the predictive text feature that is found on many phones. Text generation involves randomness, so it’s normal if you don’t get the same results as shown below."
      ]
    },
    {
      "cell_type": "code",
      "metadata": {
        "id": "UYeuPxUyNNs4",
        "outputId": "9ff3d81f-f410-487b-e134-117489557ab1",
        "colab": {
          "base_uri": "https://localhost:8080/"
        }
      },
      "source": [
        "from transformers import pipeline\n",
        "\n",
        "generator = pipeline(\"text-generation\")\n",
        "generator(\"In this course, we will teach you how to\")"
      ],
      "execution_count": 10,
      "outputs": [
        {
          "output_type": "stream",
          "text": [
            "Setting `pad_token_id` to `eos_token_id`:50256 for open-end generation.\n"
          ],
          "name": "stderr"
        },
        {
          "output_type": "execute_result",
          "data": {
            "text/plain": [
              "[{'generated_text': \"In this course, we will teach you how to understand the most valuable knowledge at your fingertips. We will discuss your questions, your techniques, and how to get a better idea of what we call in the field. It's a little bit of a\"}]"
            ]
          },
          "metadata": {
            "tags": []
          },
          "execution_count": 10
        }
      ]
    },
    {
      "cell_type": "markdown",
      "metadata": {
        "id": "RrUolLCxSbbF"
      },
      "source": [
        "You can control how many different sequences are generated with the argument num_return_sequences and the total length of the output text with the argument max_length."
      ]
    },
    {
      "cell_type": "code",
      "metadata": {
        "id": "Pzg3AeHYScbK",
        "outputId": "e5d07366-7ffc-4d9b-ff2a-953881941882",
        "colab": {
          "base_uri": "https://localhost:8080/"
        }
      },
      "source": [
        "generator(\"In this course, we will teach you how to\", num_return_sequences=2, max_length=25)"
      ],
      "execution_count": 12,
      "outputs": [
        {
          "output_type": "stream",
          "text": [
            "Setting `pad_token_id` to `eos_token_id`:50256 for open-end generation.\n"
          ],
          "name": "stderr"
        },
        {
          "output_type": "execute_result",
          "data": {
            "text/plain": [
              "[{'generated_text': 'In this course, we will teach you how to create and use custom animations according to your needs. You will learn how to'},\n",
              " {'generated_text': 'In this course, we will teach you how to create a simple, easy-to-use, easy-to-use'}]"
            ]
          },
          "metadata": {
            "tags": []
          },
          "execution_count": 12
        }
      ]
    },
    {
      "cell_type": "markdown",
      "metadata": {
        "id": "W0bBv3aUTFQ9"
      },
      "source": [
        "## Using any model from the Hub in a pipeline"
      ]
    },
    {
      "cell_type": "markdown",
      "metadata": {
        "id": "BjH1nOW6TGOA"
      },
      "source": [
        "The previous examples used the default model for the task at hand, but you can also choose a particular model from the Hub to use in a pipeline for a specific task — say, text generation. Go to the [Model Hub](https://huggingface.co/models) and click on the corresponding tag on the left to display only the supported models for that task. You should get to a page like [this one](https://huggingface.co/models?pipeline_tag=text-generation).\n",
        "\n",
        "Let’s try the distilgpt2 model! Here’s how to load it in the same pipeline as before:"
      ]
    },
    {
      "cell_type": "code",
      "metadata": {
        "id": "qKvc3hsiNNs5",
        "outputId": "bf7b69fb-25ba-45cc-c122-00aeac23e7dd",
        "colab": {
          "base_uri": "https://localhost:8080/"
        }
      },
      "source": [
        "from transformers import pipeline\n",
        "\n",
        "generator = pipeline(\"text-generation\", model=\"distilgpt2\")\n",
        "generator(\n",
        "    \"In this course, we will teach you how to\",\n",
        "    max_length=30,\n",
        "    num_return_sequences=2,\n",
        ")"
      ],
      "execution_count": 14,
      "outputs": [
        {
          "output_type": "stream",
          "text": [
            "Setting `pad_token_id` to `eos_token_id`:50256 for open-end generation.\n"
          ],
          "name": "stderr"
        },
        {
          "output_type": "execute_result",
          "data": {
            "text/plain": [
              "[{'generated_text': 'In this course, we will teach you how to develop a learning process that is well-known. How we can get there through it - both in'},\n",
              " {'generated_text': 'In this course, we will teach you how to become a pilot if you happen to live in a city located in a city where there are lots of'}]"
            ]
          },
          "metadata": {
            "tags": []
          },
          "execution_count": 14
        }
      ]
    },
    {
      "cell_type": "markdown",
      "metadata": {
        "id": "UPTrWS22UGyp"
      },
      "source": [
        "You can refine your search for a model by clicking on the language tags, and pick a model that will generate text in another language. The Model Hub even contains checkpoints for multilingual models that support several languages.\n",
        "\n",
        "Once you select a model by clicking on it, you’ll see that there is a widget enabling you to try it directly online. This way you can quickly test the model’s capabilities before downloading it."
      ]
    },
    {
      "cell_type": "code",
      "metadata": {
        "id": "VA3ADpdfUHcy",
        "outputId": "ad2e831c-f072-42fd-fc63-d1da52a6f758",
        "colab": {
          "base_uri": "https://localhost:8080/"
        }
      },
      "source": [
        "generator = pipeline(\"text-generation\", model=\"openai-gpt\")\n",
        "generator(\n",
        "    \"In this course, we will teach you how to\",\n",
        "    max_length=30,\n",
        "    num_return_sequences=2,\n",
        ")"
      ],
      "execution_count": 16,
      "outputs": [
        {
          "output_type": "stream",
          "text": [
            "Some weights of OpenAIGPTLMHeadModel were not initialized from the model checkpoint at openai-gpt and are newly initialized: ['lm_head.weight']\n",
            "You should probably TRAIN this model on a down-stream task to be able to use it for predictions and inference.\n"
          ],
          "name": "stderr"
        },
        {
          "output_type": "execute_result",
          "data": {
            "text/plain": [
              "[{'generated_text': 'In this course, we will teach you how to write . \" \\n \" i \\'m sorry , \" tom said , the words not even trying to come'},\n",
              " {'generated_text': 'In this course, we will teach you how to control the elements in front of you . when we have completed this course , we will reintroduce you'}]"
            ]
          },
          "metadata": {
            "tags": []
          },
          "execution_count": 16
        }
      ]
    },
    {
      "cell_type": "markdown",
      "metadata": {
        "id": "UDn2uLlxUu8j"
      },
      "source": [
        "##The Inference API"
      ]
    },
    {
      "cell_type": "markdown",
      "metadata": {
        "id": "P9-GZA6fUvoF"
      },
      "source": [
        "All the models can be tested directly through your browser using the Inference API, which is available on the Hugging Face website. You can play with the model directly on this page by inputting custom text and watching the model process the input data.\n",
        "\n",
        "The Inference API that powers the widget is also available as a paid product, which comes in handy if you need it for your workflows. See the [pricing page](https://huggingface.co/pricing) for more details."
      ]
    },
    {
      "cell_type": "markdown",
      "metadata": {
        "id": "2gSb1ls8VSL8"
      },
      "source": [
        "## Mask filling"
      ]
    },
    {
      "cell_type": "markdown",
      "metadata": {
        "id": "NfWwzgBXVS43"
      },
      "source": [
        "The next pipeline you’ll try is fill-mask. The idea of this task is to fill in the blanks in a given text:"
      ]
    },
    {
      "cell_type": "code",
      "metadata": {
        "id": "SnKDu2SlNNs7",
        "outputId": "a97a0583-9516-4710-9fdc-029cf26f8dea",
        "colab": {
          "base_uri": "https://localhost:8080/"
        }
      },
      "source": [
        "from transformers import pipeline\n",
        "\n",
        "unmasker = pipeline(\"fill-mask\")\n",
        "unmasker(\"This course will teach you all about <mask> models.\", top_k=2)"
      ],
      "execution_count": 18,
      "outputs": [
        {
          "output_type": "execute_result",
          "data": {
            "text/plain": [
              "[{'score': 0.19619838893413544,\n",
              "  'sequence': 'This course will teach you all about mathematical models.',\n",
              "  'token': 30412,\n",
              "  'token_str': ' mathematical'},\n",
              " {'score': 0.040527306497097015,\n",
              "  'sequence': 'This course will teach you all about computational models.',\n",
              "  'token': 38163,\n",
              "  'token_str': ' computational'}]"
            ]
          },
          "metadata": {
            "tags": []
          },
          "execution_count": 18
        }
      ]
    },
    {
      "cell_type": "markdown",
      "metadata": {
        "id": "kbVtbELLVwBN"
      },
      "source": [
        "The top_k argument controls how many possibilities you want to be displayed. Note that here the model fills in the special <mask> word, which is often referred to as a mask token. Other mask-filling models might have different mask tokens, so it’s always good to verify the proper mask word when exploring other models. One way to check it is by looking at the mask word used in the widget."
      ]
    },
    {
      "cell_type": "markdown",
      "metadata": {
        "id": "yUeh99pXV4vY"
      },
      "source": [
        "## Named entity recognition"
      ]
    },
    {
      "cell_type": "markdown",
      "metadata": {
        "id": "iFSw_nWfV5kt"
      },
      "source": [
        "Named entity recognition (NER) is a task where the model has to find which parts of the input text correspond to entities such as persons, locations, or organizations. \n",
        "\n",
        "Let’s look at an example:"
      ]
    },
    {
      "cell_type": "code",
      "metadata": {
        "id": "ZGoKpNkJNNs8",
        "outputId": "7fe18bac-0cab-4861-e9df-46f2471962c6",
        "colab": {
          "base_uri": "https://localhost:8080/"
        }
      },
      "source": [
        "from transformers import pipeline\n",
        "\n",
        "ner = pipeline(\"ner\", grouped_entities=True)\n",
        "ner(\"My name is Sylvain and I work at Hugging Face in Brooklyn.\")"
      ],
      "execution_count": 20,
      "outputs": [
        {
          "output_type": "execute_result",
          "data": {
            "text/plain": [
              "[{'end': 18,\n",
              "  'entity_group': 'PER',\n",
              "  'score': 0.9981693774461746,\n",
              "  'start': 11,\n",
              "  'word': 'Sylvain'},\n",
              " {'end': 45,\n",
              "  'entity_group': 'ORG',\n",
              "  'score': 0.9796019991238912,\n",
              "  'start': 33,\n",
              "  'word': 'Hugging Face'},\n",
              " {'end': 57,\n",
              "  'entity_group': 'LOC',\n",
              "  'score': 0.9932105541229248,\n",
              "  'start': 49,\n",
              "  'word': 'Brooklyn'}]"
            ]
          },
          "metadata": {
            "tags": []
          },
          "execution_count": 20
        }
      ]
    },
    {
      "cell_type": "markdown",
      "metadata": {
        "id": "EeinFbXxWGen"
      },
      "source": [
        "Here the model correctly identified that Sylvain is a person (PER), Hugging Face an organization (ORG), and Brooklyn a location (LOC).\n",
        "\n",
        "We pass the option grouped_entities=True in the pipeline creation function to tell the pipeline to regroup together the parts of the sentence that correspond to the same entity: here the model correctly grouped “Hugging” and “Face” as a single organization, even though the name consists of multiple words. In fact, as we will see in the next chapter, the preprocessing even splits some words into smaller parts. For instance, Sylvain is split into four pieces: S, ##yl, ##va, and ##in. In the post-processing step, the pipeline successfully regrouped those pieces."
      ]
    },
    {
      "cell_type": "markdown",
      "metadata": {
        "id": "k9p5eE3fWXZC"
      },
      "source": [
        "##Question answering"
      ]
    },
    {
      "cell_type": "markdown",
      "metadata": {
        "id": "GSUPtoCuWc7u"
      },
      "source": [
        "The question-answering pipeline answers questions using information from a given context:"
      ]
    },
    {
      "cell_type": "code",
      "metadata": {
        "id": "t55KXs6rNNtA",
        "outputId": "d4ecb9ef-06ca-4c7e-f130-bd1718307a0a",
        "colab": {
          "base_uri": "https://localhost:8080/"
        }
      },
      "source": [
        "from transformers import pipeline\n",
        "\n",
        "question_answerer = pipeline(\"question-answering\")\n",
        "question_answerer(\n",
        "    question=\"Where do I work?\",\n",
        "    context=\"My name is Sylvain and I work at Hugging Face in Brooklyn\"\n",
        ")"
      ],
      "execution_count": 22,
      "outputs": [
        {
          "output_type": "execute_result",
          "data": {
            "text/plain": [
              "{'answer': 'Hugging Face', 'end': 45, 'score': 0.6949757933616638, 'start': 33}"
            ]
          },
          "metadata": {
            "tags": []
          },
          "execution_count": 22
        }
      ]
    },
    {
      "cell_type": "markdown",
      "metadata": {
        "id": "Kjhu9e5iXlWX"
      },
      "source": [
        "Note that this pipeline works by extracting information from the provided context; it does not generate the answer."
      ]
    },
    {
      "cell_type": "markdown",
      "metadata": {
        "id": "spTfP8C8Xl1A"
      },
      "source": [
        "##Summarization"
      ]
    },
    {
      "cell_type": "markdown",
      "metadata": {
        "id": "UT9eqP-DXopD"
      },
      "source": [
        "Summarization is the task of reducing a text into a shorter text while keeping all (or most) of the important aspects referenced in the text. \n",
        "\n",
        "Here’s an example:"
      ]
    },
    {
      "cell_type": "code",
      "metadata": {
        "id": "0tWLFxAfNNtB",
        "outputId": "f2b32e13-0f61-4d26-d1db-50aaa3cc87a6",
        "colab": {
          "base_uri": "https://localhost:8080/"
        }
      },
      "source": [
        "from transformers import pipeline\n",
        "\n",
        "summarizer = pipeline(\"summarization\")\n",
        "summarizer(\"\"\"\n",
        "    America has changed dramatically during recent years. Not only has the number of \n",
        "    graduates in traditional engineering disciplines such as mechanical, civil, \n",
        "    electrical, chemical, and aeronautical engineering declined, but in most of \n",
        "    the premier American universities engineering curricula now concentrate on \n",
        "    and encourage largely the study of engineering science. As a result, there \n",
        "    are declining offerings in engineering subjects dealing with infrastructure, \n",
        "    the environment, and related issues, and greater concentration on high \n",
        "    technology subjects, largely supporting increasingly complex scientific \n",
        "    developments. While the latter is important, it should not be at the expense \n",
        "    of more traditional engineering.\n",
        "\n",
        "    Rapidly developing economies such as China and India, as well as other \n",
        "    industrial countries in Europe and Asia, continue to encourage and advance \n",
        "    the teaching of engineering. Both China and India, respectively, graduate \n",
        "    six and eight times as many traditional engineers as does the United States. \n",
        "    Other industrial countries at minimum maintain their output, while America \n",
        "    suffers an increasingly serious decline in the number of engineering graduates \n",
        "    and a lack of well-educated engineers.\n",
        "\"\"\")"
      ],
      "execution_count": 24,
      "outputs": [
        {
          "output_type": "execute_result",
          "data": {
            "text/plain": [
              "[{'summary_text': ' America has changed dramatically during recent years . The number of engineering graduates in the U.S. has declined in traditional engineering disciplines such as mechanical, civil,    electrical, chemical, and aeronautical engineering . Rapidly developing economies such as China and India continue to encourage and advance the teaching of engineering .'}]"
            ]
          },
          "metadata": {
            "tags": []
          },
          "execution_count": 24
        }
      ]
    },
    {
      "cell_type": "markdown",
      "metadata": {
        "id": "O2JZFWrvYHxy"
      },
      "source": [
        "Like with text generation, you can specify a max_length or a min_length for the result."
      ]
    },
    {
      "cell_type": "markdown",
      "metadata": {
        "id": "pZASwvHRYITm"
      },
      "source": [
        "##Translation"
      ]
    },
    {
      "cell_type": "markdown",
      "metadata": {
        "id": "5YXKYIppYLNW"
      },
      "source": [
        "For translation, you can use a default model if you provide a language pair in the task name (such as \"translation_en_to_fr\"), but the easiest way is to pick the model you want to use on the Model Hub. Here we’ll try translating from French to English:"
      ]
    },
    {
      "cell_type": "code",
      "metadata": {
        "id": "PIvV-HA1YtkB"
      },
      "source": [
        "!pip install sentencepiece"
      ],
      "execution_count": null,
      "outputs": []
    },
    {
      "cell_type": "code",
      "metadata": {
        "id": "kbLn7Kr2NNtD"
      },
      "source": [
        "from transformers import pipeline\n",
        "\n",
        "translator = pipeline(\"translation\", model=\"Helsinki-NLP/opus-mt-fr-en\")\n",
        "translator(\"Ce cours est produit par Hugging Face.\")"
      ],
      "execution_count": null,
      "outputs": []
    },
    {
      "cell_type": "markdown",
      "metadata": {
        "id": "UmeTgzq7YkIf"
      },
      "source": [
        "Like with text generation and summarization, you can specify a max_length or a min_length for the result.\n",
        "\n",
        "The pipelines shown so far are mostly for demonstrative purposes. They were programmed for specific tasks and cannot perform variations of them. In the next chapter, you’ll learn what’s inside a pipeline and how to customize its behavior."
      ]
    }
  ]
}