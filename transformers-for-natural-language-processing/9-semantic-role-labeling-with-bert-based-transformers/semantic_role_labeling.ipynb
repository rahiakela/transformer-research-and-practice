{
  "nbformat": 4,
  "nbformat_minor": 0,
  "metadata": {
    "colab": {
      "name": "semantic-role-labeling.ipynb",
      "provenance": [],
      "collapsed_sections": [],
      "toc_visible": true,
      "include_colab_link": true
    },
    "kernelspec": {
      "name": "python3",
      "display_name": "Python 3"
    }
  },
  "cells": [
    {
      "cell_type": "markdown",
      "metadata": {
        "id": "view-in-github",
        "colab_type": "text"
      },
      "source": [
        "<a href=\"https://colab.research.google.com/github/rahiakela/transformers-research-and-practice/blob/main/transformers-for-natural-language-processing/9-semantic-role-labeling-with-bert-based-transformers/semantic_role_labeling.ipynb\" target=\"_parent\"><img src=\"https://colab.research.google.com/assets/colab-badge.svg\" alt=\"Open In Colab\"/></a>"
      ]
    },
    {
      "cell_type": "markdown",
      "metadata": {
        "id": "bzRpKWxSgZmb"
      },
      "source": [
        "##Semantic Role Labeling(SRL)\n"
      ]
    },
    {
      "cell_type": "markdown",
      "metadata": {
        "id": "PV7xU4RgFRKq"
      },
      "source": [
        "SRL labels the semantic role as the role a word or group of words plays in a sentence and the relationship established with the predicate.\n",
        "\n",
        "A semantic role is the role a noun or noun phrase plays in relation to the main verb in a sentence.\n",
        "\n",
        "The predicate describes something about the subject or agent. The predicate could be anything\n",
        "that provides information on the features or actions of a subject.\n",
        "\n",
        "The noun or noun phrases that revolve around the predicate are arguments or argument terms.\n",
        "\n",
        "\n",
        "\n",
        "\n",
        "We will run our SRL experiments using the BERT SRL. We will begin with basic samples with various sentence structures. We will then challenge the BERT-based model with some more difficult samples to explore the system's capacity and limits.\n",
        "\n",
        "The notebook is an implementation of the Allen Institute for AI BERT-based model. [Reference usage of the Notebook](https://demo.allennlp.org/semantic-role-labeling/MjE4NjI1Ng==)\n",
        "\n",
        "The BERT-based model is an implementation of [Peng Shi and Jimmy Lin, (2019), ‘Simple BERT Models for Relation Extraction and Semantic Role Labeling’]( https://arxiv.org/abs/1904.05255)"
      ]
    },
    {
      "cell_type": "markdown",
      "metadata": {
        "id": "9aeqrxgQhKmE"
      },
      "source": [
        "## Setup"
      ]
    },
    {
      "cell_type": "code",
      "metadata": {
        "id": "XAIkwYFaeBBD"
      },
      "source": [
        "!pip install -q allennlp==2.1.0 allennlp-models==2.1.0"
      ],
      "execution_count": null,
      "outputs": []
    },
    {
      "cell_type": "code",
      "source": [
        "from allennlp.predictors.predictor import Predictor\n",
        "import allennlp_models.tagging\n",
        "import json"
      ],
      "metadata": {
        "id": "jYqZIgCKe9vI"
      },
      "execution_count": 2,
      "outputs": []
    },
    {
      "cell_type": "code",
      "source": [
        "predictor = Predictor.from_path(\"https://storage.googleapis.com/allennlp-public-models/structured-prediction-srl-bert.2020.12.15.tar.gz\")"
      ],
      "metadata": {
        "id": "ys2rOCrpe-Tm"
      },
      "execution_count": null,
      "outputs": []
    },
    {
      "cell_type": "markdown",
      "source": [
        "We also add two functions to display the JSON object SRL BERT returns."
      ],
      "metadata": {
        "id": "IWU1zVuGfSff"
      }
    },
    {
      "cell_type": "code",
      "source": [
        "def head(prediction):\n",
        "  # Iterating through the json to display excerpt of the prediciton\n",
        "  for i in prediction['verbs']:\n",
        "    print('Verb:',i['verb'],i['description'])\n",
        "\n",
        "def full(prediction):\n",
        "  #print the full prediction\n",
        "  print(json.dumps(prediction, indent = 1, sort_keys=True))"
      ],
      "metadata": {
        "id": "dG9gRPJ6fS89"
      },
      "execution_count": 4,
      "outputs": []
    },
    {
      "cell_type": "markdown",
      "metadata": {
        "id": "7WQOBRkgFu7c"
      },
      "source": [
        "##Basic samples"
      ]
    },
    {
      "cell_type": "markdown",
      "metadata": {
        "id": "2Ssmk0XsFvzz"
      },
      "source": [
        "Basic samples seem intuitively simple but can be tricky to analyze. Compound\n",
        "sentences, adjectives, adverbs, and modals are not easy to identify, even for nonexpert humans.\n",
        "\n",
        "Let's begin with an easy sample for the transformer."
      ]
    },
    {
      "cell_type": "markdown",
      "metadata": {
        "id": "17kQ3f_2GErw"
      },
      "source": [
        "###Sample 1"
      ]
    },
    {
      "cell_type": "markdown",
      "metadata": {
        "id": "EcSZJu8ohUv5"
      },
      "source": [
        "The first sample is long but relatively easy for the transformer:"
      ]
    },
    {
      "cell_type": "code",
      "metadata": {
        "colab": {
          "base_uri": "https://localhost:8080/"
        },
        "id": "1Qznb_bdI2CS",
        "outputId": "f9f12909-191f-4ddd-b1d9-137e2ff03af3"
      },
      "source": [
        "prediction = predictor.predict(sentence=\"Did Bob really think he could prepare a meal for 50 people in only a few hours?\")\n",
        "head(prediction)"
      ],
      "execution_count": 5,
      "outputs": [
        {
          "output_type": "stream",
          "name": "stdout",
          "text": [
            "Verb: Did [V: Did] Bob really think he could prepare a meal for 50 people in only a few hours ?\n",
            "Verb: think Did [ARG0: Bob] [ARGM-ADV: really] [V: think] [ARG1: he could prepare a meal for 50 people in only a few hours] ?\n",
            "Verb: could Did Bob really think he [V: could] [ARG1: prepare a meal for 50 people in only a few hours] ?\n",
            "Verb: prepare Did Bob really think [ARG0: he] [ARGM-MOD: could] [V: prepare] [ARG1: a meal for 50 people] [ARGM-TMP: in only a few hours] ?\n"
          ]
        }
      ]
    },
    {
      "cell_type": "code",
      "source": [
        "full(prediction)"
      ],
      "metadata": {
        "id": "H3l0Wc_tgvr_",
        "outputId": "672cdafd-59e8-4fed-9f48-a301df05f436",
        "colab": {
          "base_uri": "https://localhost:8080/"
        }
      },
      "execution_count": 6,
      "outputs": [
        {
          "output_type": "stream",
          "name": "stdout",
          "text": [
            "{\n",
            " \"verbs\": [\n",
            "  {\n",
            "   \"description\": \"[V: Did] Bob really think he could prepare a meal for 50 people in only a few hours ?\",\n",
            "   \"tags\": [\n",
            "    \"B-V\",\n",
            "    \"O\",\n",
            "    \"O\",\n",
            "    \"O\",\n",
            "    \"O\",\n",
            "    \"O\",\n",
            "    \"O\",\n",
            "    \"O\",\n",
            "    \"O\",\n",
            "    \"O\",\n",
            "    \"O\",\n",
            "    \"O\",\n",
            "    \"O\",\n",
            "    \"O\",\n",
            "    \"O\",\n",
            "    \"O\",\n",
            "    \"O\",\n",
            "    \"O\"\n",
            "   ],\n",
            "   \"verb\": \"Did\"\n",
            "  },\n",
            "  {\n",
            "   \"description\": \"Did [ARG0: Bob] [ARGM-ADV: really] [V: think] [ARG1: he could prepare a meal for 50 people in only a few hours] ?\",\n",
            "   \"tags\": [\n",
            "    \"O\",\n",
            "    \"B-ARG0\",\n",
            "    \"B-ARGM-ADV\",\n",
            "    \"B-V\",\n",
            "    \"B-ARG1\",\n",
            "    \"I-ARG1\",\n",
            "    \"I-ARG1\",\n",
            "    \"I-ARG1\",\n",
            "    \"I-ARG1\",\n",
            "    \"I-ARG1\",\n",
            "    \"I-ARG1\",\n",
            "    \"I-ARG1\",\n",
            "    \"I-ARG1\",\n",
            "    \"I-ARG1\",\n",
            "    \"I-ARG1\",\n",
            "    \"I-ARG1\",\n",
            "    \"I-ARG1\",\n",
            "    \"O\"\n",
            "   ],\n",
            "   \"verb\": \"think\"\n",
            "  },\n",
            "  {\n",
            "   \"description\": \"Did Bob really think he [V: could] [ARG1: prepare a meal for 50 people in only a few hours] ?\",\n",
            "   \"tags\": [\n",
            "    \"O\",\n",
            "    \"O\",\n",
            "    \"O\",\n",
            "    \"O\",\n",
            "    \"O\",\n",
            "    \"B-V\",\n",
            "    \"B-ARG1\",\n",
            "    \"I-ARG1\",\n",
            "    \"I-ARG1\",\n",
            "    \"I-ARG1\",\n",
            "    \"I-ARG1\",\n",
            "    \"I-ARG1\",\n",
            "    \"I-ARG1\",\n",
            "    \"I-ARG1\",\n",
            "    \"I-ARG1\",\n",
            "    \"I-ARG1\",\n",
            "    \"I-ARG1\",\n",
            "    \"O\"\n",
            "   ],\n",
            "   \"verb\": \"could\"\n",
            "  },\n",
            "  {\n",
            "   \"description\": \"Did Bob really think [ARG0: he] [ARGM-MOD: could] [V: prepare] [ARG1: a meal for 50 people] [ARGM-TMP: in only a few hours] ?\",\n",
            "   \"tags\": [\n",
            "    \"O\",\n",
            "    \"O\",\n",
            "    \"O\",\n",
            "    \"O\",\n",
            "    \"B-ARG0\",\n",
            "    \"B-ARGM-MOD\",\n",
            "    \"B-V\",\n",
            "    \"B-ARG1\",\n",
            "    \"I-ARG1\",\n",
            "    \"I-ARG1\",\n",
            "    \"I-ARG1\",\n",
            "    \"I-ARG1\",\n",
            "    \"B-ARGM-TMP\",\n",
            "    \"I-ARGM-TMP\",\n",
            "    \"I-ARGM-TMP\",\n",
            "    \"I-ARGM-TMP\",\n",
            "    \"I-ARGM-TMP\",\n",
            "    \"O\"\n",
            "   ],\n",
            "   \"verb\": \"prepare\"\n",
            "  }\n",
            " ],\n",
            " \"words\": [\n",
            "  \"Did\",\n",
            "  \"Bob\",\n",
            "  \"really\",\n",
            "  \"think\",\n",
            "  \"he\",\n",
            "  \"could\",\n",
            "  \"prepare\",\n",
            "  \"a\",\n",
            "  \"meal\",\n",
            "  \"for\",\n",
            "  \"50\",\n",
            "  \"people\",\n",
            "  \"in\",\n",
            "  \"only\",\n",
            "  \"a\",\n",
            "  \"few\",\n",
            "  \"hours\",\n",
            "  \"?\"\n",
            " ]\n",
            "}\n"
          ]
        }
      ]
    },
    {
      "cell_type": "markdown",
      "metadata": {
        "id": "Qes0KqqhJZul"
      },
      "source": [
        "###Sample 2"
      ]
    },
    {
      "cell_type": "code",
      "metadata": {
        "id": "yFKPLyqihrB_",
        "colab": {
          "base_uri": "https://localhost:8080/"
        },
        "outputId": "8d28b9fc-2696-4ca4-dd8e-3228c2df3f1b"
      },
      "source": [
        "prediction = predictor.predict(sentence=\"Mrs. and Mr. Tomaso went to Europe for vacation and visited Paris and first went to visit the Eiffel Tower.\")\n",
        "head(prediction)"
      ],
      "execution_count": 7,
      "outputs": [
        {
          "output_type": "stream",
          "name": "stdout",
          "text": [
            "Verb: went [ARG0: Mrs. and Mr. Tomaso] [V: went] [ARG4: to Europe] [ARGM-PRP: for vacation] and visited Paris and first went to visit the Eiffel Tower .\n",
            "Verb: visited [ARG0: Mrs. and Mr. Tomaso] went to Europe for vacation and [V: visited] [ARG1: Paris] and first went to visit the Eiffel Tower .\n",
            "Verb: went [ARG0: Mrs. and Mr. Tomaso] went to Europe for vacation and visited Paris and [ARGM-TMP: first] [V: went] [ARG1: to visit the Eiffel Tower] .\n",
            "Verb: visit [ARG0: Mrs. and Mr. Tomaso] went to Europe for vacation and visited Paris and first went to [V: visit] [ARG1: the Eiffel Tower] .\n"
          ]
        }
      ]
    },
    {
      "cell_type": "markdown",
      "metadata": {
        "id": "-DMmni6RLlug"
      },
      "source": [
        "###Sample 3"
      ]
    },
    {
      "cell_type": "markdown",
      "metadata": {
        "id": "v45ooI5ReoXk"
      },
      "source": [
        "Now we will will make things more difficult for our transformer model. The following sample contains the verb \"drink\" four times:\n",
        "\n",
        "```John wanted to drink tea, Mary likes to drink coffee but Karim drank some cool water and Faiza would like to drink tomato juice.```"
      ]
    },
    {
      "cell_type": "code",
      "metadata": {
        "id": "Pz-jLVeAersa",
        "colab": {
          "base_uri": "https://localhost:8080/"
        },
        "outputId": "e21d5387-2715-4bcb-a648-2e1cca2d7f37"
      },
      "source": [
        "prediction = predictor.predict(sentence=\"John wanted to drink tea, Mary likes to drink coffee but Karim drank some cool water and Faiza would like to drink tomato juice.\")\n",
        "head(prediction)"
      ],
      "execution_count": 8,
      "outputs": [
        {
          "output_type": "stream",
          "name": "stdout",
          "text": [
            "Verb: wanted [ARG0: John] [V: wanted] [ARG1: to drink tea] , Mary likes to drink coffee but Karim drank some cool water and Faiza would like to drink tomato juice .\n",
            "Verb: drink [ARG0: John] wanted to [V: drink] [ARG1: tea] , Mary likes to drink coffee but Karim drank some cool water and Faiza would like to drink tomato juice .\n",
            "Verb: likes John wanted to drink tea , [ARG0: Mary] [V: likes] [ARG1: to drink coffee] but Karim drank some cool water and Faiza would like to drink tomato juice .\n",
            "Verb: drink John wanted to drink tea , [ARG0: Mary] likes to [V: drink] [ARG1: coffee] but Karim drank some cool water and Faiza would like to drink tomato juice .\n",
            "Verb: drank John wanted to drink tea , Mary likes to drink coffee but [ARG0: Karim] [V: drank] [ARG1: some cool water] and Faiza would like to drink tomato juice .\n",
            "Verb: would John wanted to drink tea , Mary likes to drink coffee but Karim drank some cool water and [ARG0: Faiza] [V: would] like [ARG1: to drink tomato juice] .\n",
            "Verb: like John wanted to drink tea , Mary likes to drink coffee but Karim drank some cool water and [ARG0: Faiza] [ARGM-MOD: would] [V: like] [ARG1: to drink tomato juice] .\n",
            "Verb: drink John wanted to drink tea , Mary likes to drink coffee but Karim drank some cool water and [ARG0: Faiza] would like to [V: drink] [ARG1: tomato juice] .\n"
          ]
        }
      ]
    },
    {
      "cell_type": "markdown",
      "metadata": {
        "id": "9lHv3Hq6MWoI"
      },
      "source": [
        "##Difficult samples"
      ]
    },
    {
      "cell_type": "markdown",
      "metadata": {
        "id": "tzjaDPghMXfI"
      },
      "source": [
        "Let's start with a complex sample that the BERT-based transformer can analyze."
      ]
    },
    {
      "cell_type": "markdown",
      "metadata": {
        "id": "s8WKhxfCMikp"
      },
      "source": [
        "###Sample 4"
      ]
    },
    {
      "cell_type": "markdown",
      "metadata": {
        "id": "k7QVm45YmxTt"
      },
      "source": [
        "It takes us into more tricky SRL territory. The sample separates \"Alice\" from\n",
        "the verb \"liked,\" creating a long-term dependency that has to jump over \"whose\n",
        "husband went jogging every Sunday.\"\n",
        "\n",
        "The sentence is:\n",
        "\n",
        "```Alice, whose husband went jogging every Sunday, liked to go to a dancing class in the meantime.```\n",
        "\n",
        "A human can isolate \"Alice\" and find the predicate:\n",
        "\n",
        "```\n",
        "[Alice, whose husband went jogging every Sunday], liked to go to a dancing\n",
        "class in the meantime.```\n",
        "\n",
        "Can the BERT model find the predicate like us?"
      ]
    },
    {
      "cell_type": "code",
      "metadata": {
        "id": "mvm6zN7_m0GI",
        "colab": {
          "base_uri": "https://localhost:8080/"
        },
        "outputId": "c8db7678-c5d6-4bec-9cc2-415da5c6875f"
      },
      "source": [
        "prediction = predictor.predict(sentence=\"Alice, whose husband went jogging every Sunday, liked to go to a dancing class in the meantime.\")\n",
        "head(prediction)"
      ],
      "execution_count": 9,
      "outputs": [
        {
          "output_type": "stream",
          "name": "stdout",
          "text": [
            "Verb: went Alice , [ARG0: whose husband] [V: went] [ARG1: jogging] [ARGM-TMP: every Sunday] , liked to go to a dancing class in the meantime .\n",
            "Verb: jogging Alice , [ARG0: whose husband] went [V: jogging] [ARGM-TMP: every Sunday] , liked to go to a dancing class in the meantime .\n",
            "Verb: liked [ARG0: Alice , whose husband went jogging every Sunday] , [V: liked] [ARG1: to go to a dancing class in the meantime] .\n",
            "Verb: go [ARG0: Alice , whose husband went jogging every Sunday] , liked to [V: go] [ARG4: to a dancing class] [ARGM-TMP: in the meantime] .\n",
            "Verb: dancing Alice , whose husband went jogging every Sunday , liked to go to a [V: dancing] class in the meantime .\n"
          ]
        }
      ]
    },
    {
      "cell_type": "markdown",
      "metadata": {
        "id": "iMVVRN93OVos"
      },
      "source": [
        "###Sample 5"
      ]
    },
    {
      "cell_type": "markdown",
      "metadata": {
        "id": "Hog7HwIHzdm8"
      },
      "source": [
        "Sample 5 does not repeat a verb several times. However, Sample 5 contains a word\n",
        "that can have multiple functions and meanings. It goes beyond polysemy since\n",
        "the word \"round\" can have both different meanings and grammatical functions.\n",
        "The word \"round\" can be a noun, an adjective, an adverb, a transitive verb, or an intransitive verb."
      ]
    },
    {
      "cell_type": "code",
      "metadata": {
        "id": "6NFVmvYtzguX"
      },
      "source": [
        "prediction = predictor.predict(sentence=\"The bright sun, the blue sky, the warm sand, the palm trees, everything round off.\")\n",
        "head(prediction)"
      ],
      "execution_count": 11,
      "outputs": []
    },
    {
      "cell_type": "code",
      "source": [
        "full(prediction)"
      ],
      "metadata": {
        "id": "7kYxWUkaaTDM",
        "outputId": "a61adb6f-a671-4737-be81-70ff5fe2b200",
        "colab": {
          "base_uri": "https://localhost:8080/"
        }
      },
      "execution_count": 12,
      "outputs": [
        {
          "output_type": "stream",
          "name": "stdout",
          "text": [
            "{\n",
            " \"verbs\": [],\n",
            " \"words\": [\n",
            "  \"The\",\n",
            "  \"bright\",\n",
            "  \"sun\",\n",
            "  \",\",\n",
            "  \"the\",\n",
            "  \"blue\",\n",
            "  \"sky\",\n",
            "  \",\",\n",
            "  \"the\",\n",
            "  \"warm\",\n",
            "  \"sand\",\n",
            "  \",\",\n",
            "  \"the\",\n",
            "  \"palm\",\n",
            "  \"trees\",\n",
            "  \",\",\n",
            "  \"everything\",\n",
            "  \"round\",\n",
            "  \"off\",\n",
            "  \".\"\n",
            " ]\n",
            "}\n"
          ]
        }
      ]
    },
    {
      "cell_type": "markdown",
      "metadata": {
        "id": "jLqcOkXLPENh"
      },
      "source": [
        "The output shows no verbs. The transformer did not identify the predicate. In fact, it found no verbs at all.\n",
        "\n",
        "Since we like our BERT-based transformer, we will be kind to it. \n",
        "\n",
        "Let's change the sentence from the past tense to the present tense.\n",
        "\n"
      ]
    },
    {
      "cell_type": "code",
      "metadata": {
        "id": "T9UCG-qN018X",
        "colab": {
          "base_uri": "https://localhost:8080/"
        },
        "outputId": "406d6b67-0a0d-42f5-fe50-d722234b6eef"
      },
      "source": [
        "prediction = predictor.predict(sentence=\"The bright sun, the blue sky, the warm sand, the palm trees, everything rounds off.\")\n",
        "head(prediction)"
      ],
      "execution_count": 13,
      "outputs": [
        {
          "output_type": "stream",
          "name": "stdout",
          "text": [
            "Verb: rounds [ARG1: The bright sun , the blue sky , the warm sand , the palm trees , everything] [V: rounds] [ARGM-PRD: off] .\n"
          ]
        }
      ]
    },
    {
      "cell_type": "markdown",
      "metadata": {
        "id": "f3zP7RTCQU7Q"
      },
      "source": [
        "###Sample 6"
      ]
    },
    {
      "cell_type": "markdown",
      "metadata": {
        "id": "cBrxUvrL3Sp4"
      },
      "source": [
        "Sample 6 takes a word we often think is just a noun. However, more words than\n",
        "we suspect can be both nouns and verbs. \"To ice\" is a verb used in hockey to shoot a \"puck\" all the way across the rink and beyond the goal line of an opponent. The \"puck\" is the disk used in hockey.\n",
        "\n",
        "A hockey coach can start the day by telling a team to train icing pucks. We then can obtain the imperative sentence when the coach yells:\n",
        "\n",
        "```Now, ice pucks guys!```\n",
        "\n",
        "Note that \"guys\" can mean \"persons\" regardless of their sex."
      ]
    },
    {
      "cell_type": "code",
      "metadata": {
        "id": "rp77Vazw3QY8"
      },
      "source": [
        "prediction = predictor.predict(sentence=\"Now, ice pucks guys!\")\n",
        "head(prediction)"
      ],
      "execution_count": 14,
      "outputs": []
    },
    {
      "cell_type": "code",
      "source": [
        "full(prediction)"
      ],
      "metadata": {
        "id": "vEA_qZeabXw6",
        "outputId": "8d29bc7b-f0f2-480e-e977-5c3c4e872cc4",
        "colab": {
          "base_uri": "https://localhost:8080/"
        }
      },
      "execution_count": 15,
      "outputs": [
        {
          "output_type": "stream",
          "name": "stdout",
          "text": [
            "{\n",
            " \"verbs\": [],\n",
            " \"words\": [\n",
            "  \"Now\",\n",
            "  \",\",\n",
            "  \"ice\",\n",
            "  \"pucks\",\n",
            "  \"guys\",\n",
            "  \"!\"\n",
            " ]\n",
            "}\n"
          ]
        }
      ]
    },
    {
      "cell_type": "markdown",
      "metadata": {
        "id": "5KwnAnSMR3zX"
      },
      "source": [
        "Game over! We can see that transformers have made tremendous progress, but there\n",
        "is still a lot of room for developers to improve the models. Humans are still in the game!"
      ]
    }
  ]
}