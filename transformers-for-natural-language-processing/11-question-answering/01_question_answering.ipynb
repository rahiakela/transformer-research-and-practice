{
  "nbformat": 4,
  "nbformat_minor": 0,
  "metadata": {
    "colab": {
      "name": "01-question-answering.ipynb",
      "provenance": [],
      "toc_visible": true,
      "authorship_tag": "ABX9TyPVmKfd8J5XPcLqFkUn3b/Q",
      "include_colab_link": true
    },
    "kernelspec": {
      "name": "python3",
      "display_name": "Python 3"
    },
    "language_info": {
      "name": "python"
    }
  },
  "cells": [
    {
      "cell_type": "markdown",
      "metadata": {
        "id": "view-in-github",
        "colab_type": "text"
      },
      "source": [
        "<a href=\"https://colab.research.google.com/github/rahiakela/transformers-research-and-practice/blob/main/transformers-for-natural-language-processing/11-question-answering/01_question_answering.ipynb\" target=\"_parent\"><img src=\"https://colab.research.google.com/assets/colab-badge.svg\" alt=\"Open In Colab\"/></a>"
      ]
    },
    {
      "cell_type": "markdown",
      "source": [
        "##Question Answering"
      ],
      "metadata": {
        "id": "KP3roeuLW65S"
      }
    },
    {
      "cell_type": "markdown",
      "source": [
        "We will focus on using question-answering in an open environment where the questions were\n",
        "not prepared beforehand. Transformer models require help from other NLP tasks and classical\n",
        "programs. \n",
        "\n",
        "We will explore some methods to give an idea of how to combine tasks to reach the goal of a project:\n",
        "\n",
        "* Method 0 explores a trial and error approach of asking questions randomly.\n",
        "* Method 1 introduces NER to help prepare the question-answering tasks.\n",
        "* Method 2 tries to help the default transformer with an ELECTRA transformer model. It\n",
        "also introduces SRL to help the transformer prepare questions.\n",
        "\n",
        "The introduction to these three methods shows that a single question-answering method will\n",
        "not work for high-profile corporate projects. Adding NER and SRL will improve the linguistic\n",
        "intelligence of a transformer agent solution."
      ],
      "metadata": {
        "id": "N0fD5DsRXEwa"
      }
    },
    {
      "cell_type": "markdown",
      "source": [
        "##Setup"
      ],
      "metadata": {
        "id": "WcCJ-J45XWnw"
      }
    },
    {
      "cell_type": "code",
      "source": [
        "!pip -q install transformers[sentencepiece]"
      ],
      "metadata": {
        "id": "gdBM6YwWXV1W"
      },
      "execution_count": null,
      "outputs": []
    },
    {
      "cell_type": "code",
      "source": [
        "from transformers import pipeline"
      ],
      "metadata": {
        "id": "qibF5Zw6Xb-D"
      },
      "execution_count": 2,
      "outputs": []
    },
    {
      "cell_type": "markdown",
      "source": [
        "##Method 0: Trial and error"
      ],
      "metadata": {
        "id": "HNN6e284Y0sK"
      }
    },
    {
      "cell_type": "code",
      "source": [
        "nlp_qa = pipeline(\"question-answering\")"
      ],
      "metadata": {
        "id": "fcSB0F47Y60B"
      },
      "execution_count": null,
      "outputs": []
    },
    {
      "cell_type": "code",
      "source": [
        "sequence = \"\"\"The traffic began to slow down on Pioneer Boulevard in Los Angeles, making it difficult to get out of the city. However, WBGO was\n",
        "playing some cool jazz, and the weather was cool, making it rather pleasant to be making it out of the city on this Friday afternoon. Nat\n",
        "King Cole was singing as Jo, and Maria slowly made their way out of LA and drove toward Barstow. They planned to get to Las Vegas early enough in the\n",
        "evening to have a nice dinner and go see a show.\"\"\"\n",
        "\n",
        "nlp_qa(context=sequence, question=\"Where is Pioneer Boulevard?\")"
      ],
      "metadata": {
        "colab": {
          "base_uri": "https://localhost:8080/"
        },
        "id": "n-i9EYuiZCie",
        "outputId": "908ef84d-95e6-4582-9b80-757968756b41"
      },
      "execution_count": 6,
      "outputs": [
        {
          "output_type": "execute_result",
          "data": {
            "text/plain": [
              "{'answer': 'Los Angeles', 'end': 66, 'score': 0.9882006645202637, 'start': 55}"
            ]
          },
          "metadata": {},
          "execution_count": 6
        }
      ]
    },
    {
      "cell_type": "markdown",
      "source": [
        "##Method 1: NER first"
      ],
      "metadata": {
        "id": "c65RT6jRZ2mQ"
      }
    },
    {
      "cell_type": "code",
      "source": [
        ""
      ],
      "metadata": {
        "id": "zjUHd9itZ3ZS"
      },
      "execution_count": null,
      "outputs": []
    }
  ]
}